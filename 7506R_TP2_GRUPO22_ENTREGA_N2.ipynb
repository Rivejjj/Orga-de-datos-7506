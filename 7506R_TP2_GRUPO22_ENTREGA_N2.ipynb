{
 "cells": [
  {
   "attachments": {},
   "cell_type": "markdown",
   "metadata": {},
   "source": [
    "# <center>Organizaci&oacute;n de Datos</center>\n",
    "#### <center>C&aacute;tedra Ing. Rodriguez, Juan Manuel </center>\n",
    "\n",
    "## <center>Trabajo Práctico 2 : Propiedades en Venta</center>\n",
    "## <center>Parte 2</center>\n",
    "### <center> Grupo 22 </center>\n",
    "### <center> Integrantes: </center>\n",
    "##### <center> Federico Martin Forte,  Francisco Sobral,  Ian Klaus von der Heyde,  Juan Pablo Aschieri,  Joaquin Rivero  </center>"
   ]
  },
  {
   "cell_type": "markdown",
   "metadata": {},
   "source": [
    "# Redes Neuronales"
   ]
  },
  {
   "cell_type": "code",
   "execution_count": 1,
   "metadata": {},
   "outputs": [],
   "source": [
    "from tensorflow.python.util import deprecation\n",
    "deprecation._PRINT_DEPRECATION_WARNINGS = False\n",
    "import warnings\n",
    "warnings.filterwarnings('ignore')\n",
    "import pandas as pd\n",
    "import seaborn as sns\n",
    "import matplotlib.pyplot as plt\n",
    "import numpy as np\n",
    "from sklearn.model_selection import train_test_split\n",
    "import shapely.speedups\n",
    "from sklearn.preprocessing import StandardScaler\n",
    "from IPython.display import Image\n",
    "import re\n",
    "from itertools import combinations\n",
    "import random\n",
    "import numpy as np\n",
    "import pandas as pd\n",
    "import matplotlib.pyplot as plt\n",
    "from sklearn.model_selection import train_test_split\n",
    "from sklearn.metrics import mean_absolute_error, mean_squared_error\n",
    "from sklearn.preprocessing import StandardScaler\n",
    "import tensorflow as tf\n",
    "from tensorflow import keras\n",
    "import keras_tuner as kt\n",
    "from sklearn.metrics import(f1_score,  recall_score, precision_score, accuracy_score, confusion_matrix)\n",
    "import joblib\n",
    "np.random.seed(1)\n",
    "tf.random.set_seed(1)"
   ]
  },
  {
   "cell_type": "markdown",
   "metadata": {},
   "source": [
    "## Redes Clasificacion"
   ]
  },
  {
   "cell_type": "markdown",
   "metadata": {},
   "source": [
    "Para clasificar los datos del dataset tomamos el mismo criterio definir que viviendas son consideradas de precio alto, medio o bajo. "
   ]
  },
  {
   "cell_type": "code",
   "execution_count": 2,
   "metadata": {},
   "outputs": [],
   "source": [
    "viviendas_train=pd.read_csv('./TP1/Datasets/viviendas_caba_con_tipo_precio_train.csv').copy()\n",
    "viviendas_test=pd.read_csv('./TP1/Datasets/viviendas_caba_con_tipo_precio_test.csv').copy()\n",
    "viviendas = pd.concat([viviendas_train, viviendas_test])"
   ]
  },
  {
   "cell_type": "code",
   "execution_count": 3,
   "metadata": {},
   "outputs": [
    {
     "data": {
      "text/html": [
       "<div>\n",
       "<style scoped>\n",
       "    .dataframe tbody tr th:only-of-type {\n",
       "        vertical-align: middle;\n",
       "    }\n",
       "\n",
       "    .dataframe tbody tr th {\n",
       "        vertical-align: top;\n",
       "    }\n",
       "\n",
       "    .dataframe thead th {\n",
       "        text-align: right;\n",
       "    }\n",
       "</style>\n",
       "<table border=\"1\" class=\"dataframe\">\n",
       "  <thead>\n",
       "    <tr style=\"text-align: right;\">\n",
       "      <th></th>\n",
       "      <th>start_date</th>\n",
       "      <th>end_date</th>\n",
       "      <th>latitud</th>\n",
       "      <th>longitud</th>\n",
       "      <th>barrio</th>\n",
       "      <th>property_type</th>\n",
       "      <th>property_rooms</th>\n",
       "      <th>property_bedrooms</th>\n",
       "      <th>property_surface_total</th>\n",
       "      <th>property_surface_covered</th>\n",
       "      <th>property_price</th>\n",
       "      <th>property_title</th>\n",
       "      <th>geometry</th>\n",
       "      <th>pxm2</th>\n",
       "      <th>tipo_precio</th>\n",
       "    </tr>\n",
       "  </thead>\n",
       "  <tbody>\n",
       "    <tr>\n",
       "      <th>0</th>\n",
       "      <td>2021-12-15</td>\n",
       "      <td>2021-12-25</td>\n",
       "      <td>-34.555049</td>\n",
       "      <td>-58.490513</td>\n",
       "      <td>Saavedra</td>\n",
       "      <td>Departamento</td>\n",
       "      <td>2.0</td>\n",
       "      <td>1.0</td>\n",
       "      <td>58.0</td>\n",
       "      <td>49.0</td>\n",
       "      <td>167113.0</td>\n",
       "      <td>Departamento - Saavedra</td>\n",
       "      <td>POINT (-58.4905135 -34.5550487)</td>\n",
       "      <td>2881.258621</td>\n",
       "      <td>Alto</td>\n",
       "    </tr>\n",
       "    <tr>\n",
       "      <th>1</th>\n",
       "      <td>2021-05-20</td>\n",
       "      <td>2021-06-05</td>\n",
       "      <td>-34.546991</td>\n",
       "      <td>-58.478553</td>\n",
       "      <td>Saavedra</td>\n",
       "      <td>Departamento</td>\n",
       "      <td>2.0</td>\n",
       "      <td>1.0</td>\n",
       "      <td>48.0</td>\n",
       "      <td>44.0</td>\n",
       "      <td>129000.0</td>\n",
       "      <td>Departamento - Saavedra</td>\n",
       "      <td>POINT (-58.4785532 -34.546991)</td>\n",
       "      <td>2687.500000</td>\n",
       "      <td>Medio</td>\n",
       "    </tr>\n",
       "    <tr>\n",
       "      <th>2</th>\n",
       "      <td>2021-03-20</td>\n",
       "      <td>2021-04-16</td>\n",
       "      <td>-34.570842</td>\n",
       "      <td>-58.491805</td>\n",
       "      <td>Villa Urquiza</td>\n",
       "      <td>Departamento</td>\n",
       "      <td>2.0</td>\n",
       "      <td>1.0</td>\n",
       "      <td>62.0</td>\n",
       "      <td>58.0</td>\n",
       "      <td>124600.0</td>\n",
       "      <td>Venta Depto 2 amb Anticipo + Cuotas CAC V. Urq...</td>\n",
       "      <td>POINT (-58.4918048 -34.5708421)</td>\n",
       "      <td>2009.677419</td>\n",
       "      <td>Medio</td>\n",
       "    </tr>\n",
       "    <tr>\n",
       "      <th>3</th>\n",
       "      <td>2021-07-17</td>\n",
       "      <td>2021-10-16</td>\n",
       "      <td>-34.589251</td>\n",
       "      <td>-58.402106</td>\n",
       "      <td>Recoleta</td>\n",
       "      <td>Departamento</td>\n",
       "      <td>3.0</td>\n",
       "      <td>2.0</td>\n",
       "      <td>60.0</td>\n",
       "      <td>60.0</td>\n",
       "      <td>196000.0</td>\n",
       "      <td>Excelente 3 ambientes en venta en Barrio Recoleta</td>\n",
       "      <td>POINT (-58.4021058 -34.5892511)</td>\n",
       "      <td>3266.666667</td>\n",
       "      <td>Alto</td>\n",
       "    </tr>\n",
       "    <tr>\n",
       "      <th>4</th>\n",
       "      <td>2021-07-02</td>\n",
       "      <td>2022-02-09</td>\n",
       "      <td>-34.626290</td>\n",
       "      <td>-58.437632</td>\n",
       "      <td>Caballito</td>\n",
       "      <td>Departamento</td>\n",
       "      <td>3.0</td>\n",
       "      <td>2.0</td>\n",
       "      <td>67.0</td>\n",
       "      <td>61.0</td>\n",
       "      <td>235000.0</td>\n",
       "      <td>VENTA DEPARTAMENTO 3 AMB. EN CABALLITO</td>\n",
       "      <td>POINT (-58.4376325 -34.6262899)</td>\n",
       "      <td>3507.462687</td>\n",
       "      <td>Alto</td>\n",
       "    </tr>\n",
       "  </tbody>\n",
       "</table>\n",
       "</div>"
      ],
      "text/plain": [
       "   start_date    end_date    latitud   longitud         barrio property_type  \\\n",
       "0  2021-12-15  2021-12-25 -34.555049 -58.490513       Saavedra  Departamento   \n",
       "1  2021-05-20  2021-06-05 -34.546991 -58.478553       Saavedra  Departamento   \n",
       "2  2021-03-20  2021-04-16 -34.570842 -58.491805  Villa Urquiza  Departamento   \n",
       "3  2021-07-17  2021-10-16 -34.589251 -58.402106       Recoleta  Departamento   \n",
       "4  2021-07-02  2022-02-09 -34.626290 -58.437632      Caballito  Departamento   \n",
       "\n",
       "   property_rooms  property_bedrooms  property_surface_total  \\\n",
       "0             2.0                1.0                    58.0   \n",
       "1             2.0                1.0                    48.0   \n",
       "2             2.0                1.0                    62.0   \n",
       "3             3.0                2.0                    60.0   \n",
       "4             3.0                2.0                    67.0   \n",
       "\n",
       "   property_surface_covered  property_price  \\\n",
       "0                      49.0        167113.0   \n",
       "1                      44.0        129000.0   \n",
       "2                      58.0        124600.0   \n",
       "3                      60.0        196000.0   \n",
       "4                      61.0        235000.0   \n",
       "\n",
       "                                      property_title  \\\n",
       "0                            Departamento - Saavedra   \n",
       "1                            Departamento - Saavedra   \n",
       "2  Venta Depto 2 amb Anticipo + Cuotas CAC V. Urq...   \n",
       "3  Excelente 3 ambientes en venta en Barrio Recoleta   \n",
       "4             VENTA DEPARTAMENTO 3 AMB. EN CABALLITO   \n",
       "\n",
       "                          geometry         pxm2 tipo_precio  \n",
       "0  POINT (-58.4905135 -34.5550487)  2881.258621        Alto  \n",
       "1   POINT (-58.4785532 -34.546991)  2687.500000       Medio  \n",
       "2  POINT (-58.4918048 -34.5708421)  2009.677419       Medio  \n",
       "3  POINT (-58.4021058 -34.5892511)  3266.666667        Alto  \n",
       "4  POINT (-58.4376325 -34.6262899)  3507.462687        Alto  "
      ]
     },
     "execution_count": 3,
     "metadata": {},
     "output_type": "execute_result"
    }
   ],
   "source": [
    "viviendas.head(5)"
   ]
  },
  {
   "cell_type": "markdown",
   "metadata": {},
   "source": [
    "Hacemos un onehot encoding para poder utilizar columnas no numericas a la hora de entrenar los modelos"
   ]
  },
  {
   "cell_type": "code",
   "execution_count": 4,
   "metadata": {},
   "outputs": [],
   "source": [
    "viviendas = pd.get_dummies(viviendas, columns = [\"property_type\"]) \n",
    "viviendas = pd.get_dummies(viviendas, columns = [\"barrio\"])\n",
    "viviendas = pd.get_dummies(viviendas, columns = [\"tipo_precio\"])"
   ]
  },
  {
   "cell_type": "code",
   "execution_count": 5,
   "metadata": {},
   "outputs": [],
   "source": [
    "viviendas_train, viviendas_test = train_test_split(viviendas, test_size=0.2, random_state=2)"
   ]
  },
  {
   "cell_type": "markdown",
   "metadata": {},
   "source": [
    "Definimos las columnas que queremos predecir y las que usaremos para predecir"
   ]
  },
  {
   "cell_type": "code",
   "execution_count": 6,
   "metadata": {},
   "outputs": [],
   "source": [
    "variables_a_predecir = ['tipo_precio_Alto', 'tipo_precio_Bajo', 'tipo_precio_Medio']"
   ]
  },
  {
   "cell_type": "code",
   "execution_count": 7,
   "metadata": {},
   "outputs": [],
   "source": [
    "columnas_predictoras=viviendas_train.columns.to_list()\n",
    "variables_a_remover = ['property_price', 'start_date', 'end_date', 'property_title', 'geometry', 'pxm2']\n",
    "variables_a_remover.extend(variables_a_predecir)\n",
    "for variable in variables_a_remover:\n",
    "    columnas_predictoras.remove(variable)"
   ]
  },
  {
   "attachments": {},
   "cell_type": "markdown",
   "metadata": {},
   "source": [
    "Definimos una clase ModeloRedes, con la que vamos a crear las redes. Esto nos permite variar fácilmente  los distintos hiperparámetros"
   ]
  },
  {
   "cell_type": "code",
   "execution_count": 8,
   "metadata": {},
   "outputs": [],
   "source": [
    "class ModeloRedes:\n",
    "    def __init__(self, dataset_train, dataset_test, variables_predictoras, cantidad_de_primera_capa, funcion_activacion, optimizador, learning_rate, metrica, epoch, batch_size, modelo=None):\n",
    "        self.variables_predictoras = variables_predictoras\n",
    "        self.cantidad_primera_capa = cantidad_de_primera_capa\n",
    "        self.funcion_activacion = funcion_activacion\n",
    "        self.optimizador = optimizador\n",
    "        self.learning_rate = learning_rate\n",
    "        self.resultado = None\n",
    "        self.metrica = metrica\n",
    "        self.epoch = epoch\n",
    "        self.batch_size = batch_size\n",
    "        self.modelo = modelo\n",
    "\n",
    "        \n",
    "        self.x_test = dataset_test.loc[:,variables_predictoras]\n",
    "        self.y_test = dataset_test.loc[:,variables_a_predecir]\n",
    "        self.x_train = dataset_train.loc[:,variables_predictoras]\n",
    "        self.y_train = dataset_train.loc[:,variables_a_predecir]\n",
    "        self.x_test_original = None\n",
    "        self.x_train_original = None\n",
    "        self.escalar_datasets()\n",
    "        if modelo == None:\n",
    "            self.entrenar_modelo()\n",
    "    \n",
    "    def escalar_datasets(self):\n",
    "        sscaler=StandardScaler()\n",
    "        sscaler.fit(pd.DataFrame(self.x_train))\n",
    "        \n",
    "        self.x_train_original = self.x_train\n",
    "        self.x_test_original = self.x_test\n",
    "        self.x_train=sscaler.transform(pd.DataFrame(self.x_train))\n",
    "        self.x_test=sscaler.transform(pd.DataFrame(self.x_test))\n",
    "\n",
    "    def entrenar_modelo(self):\n",
    "    # Creo un modelo Red Neuronal\n",
    "        d_in= len(self.variables_predictoras)\n",
    "        d_out=3\n",
    "\n",
    "        capas = [\n",
    "            # input layer\n",
    "            keras.layers.Dense(d_in,input_shape=(d_in,), activation= self.funcion_activacion)\n",
    "        ]\n",
    "\n",
    "        #inserta capas que van decreciendo en cantidad de neuronas\n",
    "        for i in range(self.cantidad_primera_capa,4,-1):\n",
    "            capas.append(keras.layers.Dense(i, activation= self.funcion_activacion ))\n",
    "\n",
    "        capas.append(keras.layers.Dense(d_out, activation= 'softmax'))\n",
    "        self.modelo = keras.Sequential(capas)\n",
    "\n",
    "        self.modelo.compile(\n",
    "        optimizer= self.optimizador(self.learning_rate), \n",
    "        loss='categorical_crossentropy', \n",
    "        metrics=[self.metrica], \n",
    "        )\n",
    "\n",
    "        self.modelo.fit(self.x_train,self.y_train,epochs=self.epoch,batch_size=self.batch_size,verbose=False)\n",
    "\n",
    "    \n",
    "    #toma las salidas que indican la probabilidad de que cierta vivienda sea de un tipo determinado, y a la mas grande la reemplaza por 1 y a las mas chicas por 0\n",
    "    def transformar_predicciones(self, y_pred):\n",
    "        for i in y_pred:\n",
    "            pos_maximo = 0\n",
    "            for j in range(len(i)):\n",
    "                if i[j] > i[pos_maximo]:\n",
    "                    pos_maximo = j\n",
    "            for j in range(len(i)):\n",
    "                if j == pos_maximo:\n",
    "                    i[j] = 1\n",
    "                else:\n",
    "                    i[j]= 0\n",
    "        return y_pred\n",
    "\n",
    "    def testear_modelo(self):\n",
    "        y_pred=self.modelo.predict(self.x_test)\n",
    "\n",
    "        y_pred = self.transformar_predicciones(y_pred)\n",
    "\n",
    "        self.resultado = f1_score(self.y_test.values.tolist(),y_pred, average='weighted')\n",
    "\n",
    "        return self.resultado\n",
    "    \n",
    "    def matriz_confusion(self):\n",
    "        y_pred=self.modelo.predict(self.x_test)\n",
    "        y_pred = self.transformar_predicciones(y_pred)\n",
    "        matriz = confusion_matrix(self.y_test.values.argmax(axis=1), y_pred.argmax(axis=1))\n",
    "        labels = {\"alto\": 0, \"bajo\": 1,\"medio\": 2}\n",
    "     \n",
    "        plt.figure(figsize = (16, 9))\n",
    "        sns.heatmap(matriz, annot = True,cmap = 'coolwarm', fmt=\"g\", xticklabels=labels, yticklabels=labels)\n",
    "        \n",
    "        plt.title(\"Matriz de confusión\")\n",
    "        plt.xlabel(\"Predicted\")\n",
    "        plt.ylabel(\"True\")\n",
    "        plt.show()\n",
    "        \n",
    "    \n",
    "    \n",
    "    def info(self):\n",
    "        print('\\n\\n Variables predictoras utilizadas: ',self.variables_predictoras , \n",
    "        '\\n Cantidad de nueronas de la primera capa: ',self.cantidad_primera_capa ,\n",
    "        '\\n Funcion de activacion: ',self.funcion_activacion ,\n",
    "        '\\n Optimizador: ',self.optimizador ,\n",
    "        '\\n Learning Rate: ',self.learning_rate \n",
    "        ,'\\n Metrica: ',self.metrica ,\n",
    "        '\\n Epoch: ',self.epoch ,\n",
    "        '\\n Batch size',self.batch_size\n",
    "        )\n",
    "\n",
    "        y_pred=self.modelo.predict(self.x_test)\n",
    "        y_pred = self.transformar_predicciones(y_pred)\n",
    "\n",
    "        accuracy = accuracy_score(self.y_test.values.tolist(), y_pred)\n",
    "        recall = recall_score(self.y_test.values.tolist(), y_pred, average=\"weighted\")\n",
    "        presicion = precision_score(self.y_test.values.tolist(), y_pred, average=\"weighted\")\n",
    "        f1 = f1_score(self.y_test.values.tolist(),y_pred, average='weighted')\n",
    "\n",
    "        print()\n",
    "        print(\"accuracy:\",accuracy)\n",
    "        print(\"recall\", recall)\n",
    "        print(\"presicion\", presicion)\n",
    "        print('f1',f1)\n",
    "        print()\n"
   ]
  },
  {
   "cell_type": "markdown",
   "metadata": {},
   "source": [
    "### Randomizador"
   ]
  },
  {
   "attachments": {},
   "cell_type": "markdown",
   "metadata": {},
   "source": [
    "Utilizamos un random_validator para realizar la búsqueda de hiperparámetros. Como el dataset es muy grande primero buscamos los hiperparámetros sobre porciones del mismo, 3000 datos. Una vez encontremos algunos conjuntos de hiperparámetros que den buenas métricas, pasaremos a utilizar esos hiperparámetros para entrenar un modelo con todos los datos. Para reducir un poco la complejidad tomamos que siempre las neuronas siempre se colocan de manera piramidal, es decir que si la primera layer tiene 18 neuronas, la siguiente tendrá 17, luego 16 y así hasta llegar a 4"
   ]
  },
  {
   "attachments": {},
   "cell_type": "markdown",
   "metadata": {},
   "source": [
    "Lo que variamos es la función de activación, el optimizador, la learning rate, la metrica con la que optimiza, cantidad de neuronas, epoch y batch size. También variamos que columnas se utilizan para predecir."
   ]
  },
  {
   "cell_type": "code",
   "execution_count": 9,
   "metadata": {},
   "outputs": [],
   "source": [
    "def random_validator(cantidad_modelos, posibles_funcion_activacion, posibles_optimizador, \n",
    "    posibles_learning_rate, posibles_metricas, obtener_posibles_variables_predictoras):\n",
    "    \n",
    "    resultados = []\n",
    "    for i in range(cantidad_modelos):\n",
    "\n",
    "        variables_predictoras = obtener_posibles_variables_predictoras()\n",
    "        cantidad_de_primera_capa = random.randrange(4, 20, 1)\n",
    "        funcion_activacion = random.choice(posibles_funcion_activacion)\n",
    "        optimizador = random.choice(posibles_optimizador)\n",
    "        learning_rate = random.choice(posibles_learning_rate)\n",
    "        metrica = random.choice(posibles_metricas)\n",
    "        epoch = random.randrange(100, 300, 10)\n",
    "        batch_size = random.randrange(10, 1000, 1)\n",
    "        df_reducido = viviendas_train[:3000]\n",
    "        df_train, df_test = train_test_split(df_reducido.loc[:],test_size=0.2)\n",
    "\n",
    "        modelo = ModeloRedes(df_train, df_test, variables_predictoras, cantidad_de_primera_capa, funcion_activacion, optimizador, learning_rate, metrica, epoch, batch_size)\n",
    "        resultados.append([modelo, modelo.testear_modelo()])\n",
    "        modelo.info()\n",
    "    return resultados"
   ]
  },
  {
   "attachments": {},
   "cell_type": "markdown",
   "metadata": {},
   "source": [
    "Definimos a continuación los posibles valores que pueden tomar los distintos parámetros a la hora de hacer un modelo random. Las columnas en particular las dividimos en dos categorías, aquellas importantes que representan una importante variabilidad de los datos, y aquellas que serian mas bien columnas extras. De esta manera siempre nos aseguramos que hayan al menos 1 columna importante ya que de lo contrario el resultado siempre resulta malo"
   ]
  },
  {
   "cell_type": "code",
   "execution_count": 10,
   "metadata": {},
   "outputs": [],
   "source": [
    "columnas_importantes =  ['latitud', 'longitud', 'property_surface_total', 'property_surface_covered']\n",
    "columnas_extras = []\n",
    "for e in columnas_predictoras:\n",
    "    if e not in columnas_importantes:\n",
    "        columnas_extras.append(e)       \n",
    "\n",
    "def agregar_columnas(posibles_variables_predictoras, columnas, cant_columnas):\n",
    "            i = 0\n",
    "            while (i < cant_columnas): \n",
    "                pos = random.randrange(i,len(columnas), 1)\n",
    "                posibles_variables_predictoras.append(columnas[pos])\n",
    "                columnas[i], columnas[pos] = columnas[pos], columnas[i]\n",
    "                i += 1\n",
    "\n",
    "                                        #vimos que los modelos buenos utilizaban \"relu\" asique dejamos de utilizar el resto dentro de random search\n",
    "posibles_funcion_activacion = ['softmax',\"relu\",\"tanh\", \"sigmoid\"]\n",
    "posibles_metricas = ['AUC', 'accuracy', 'Precision', 'Recall']\n",
    "\n",
    "posibles_learning_rate = [0.1, 0.01, 0.001]"
   ]
  },
  {
   "cell_type": "code",
   "execution_count": 11,
   "metadata": {},
   "outputs": [],
   "source": [
    "def funcion_optimizadoraNADAM(learnigRate):\n",
    "            return keras.optimizers.Nadam(learning_rate = learnigRate)\n",
    "\n",
    "def funcion_optimizadoraRMSPROP(learnigRate):\n",
    "            return keras.optimizers.RMSprop(learning_rate = learnigRate)\n",
    "\n",
    "def funcion_optimizadoraADAMAX(learnigRate):\n",
    "            return keras.optimizers.Adamax(learning_rate = learnigRate)\n",
    "\n",
    "def funcion_optimizadoraADADELTA(learnigRate):\n",
    "            return keras.optimizers.Adadelta(learning_rate = learnigRate)\n",
    "\n",
    "def funcion_optimizadoraSGD(learnigRate):\n",
    "            return keras.optimizers.SGD(learning_rate = learnigRate)\n",
    "\n",
    "posibles_optimizador = [funcion_optimizadoraNADAM, funcion_optimizadoraRMSPROP, funcion_optimizadoraADAMAX, funcion_optimizadoraADADELTA, funcion_optimizadoraSGD]"
   ]
  },
  {
   "cell_type": "code",
   "execution_count": 12,
   "metadata": {},
   "outputs": [],
   "source": [
    "def obtener_posibles_variables_predictoras():\n",
    "        posibles_variables_predictoras = []     \n",
    "        cant_columnas_importantes = random.randrange(1,len(columnas_importantes)+1, 1)\n",
    "        cant_columnas_extras = random.randrange(0,len(columnas_extras)+1, 1)\n",
    "\n",
    "        agregar_columnas(posibles_variables_predictoras, columnas_importantes, cant_columnas_importantes)\n",
    "        agregar_columnas(posibles_variables_predictoras, columnas_extras, cant_columnas_extras)\n",
    "        return posibles_variables_predictoras"
   ]
  },
  {
   "cell_type": "markdown",
   "metadata": {},
   "source": [
    "### Entrenamiento de redes"
   ]
  },
  {
   "attachments": {},
   "cell_type": "markdown",
   "metadata": {},
   "source": [
    "#### Obtener hiperparámetros"
   ]
  },
  {
   "cell_type": "code",
   "execution_count": 13,
   "metadata": {},
   "outputs": [],
   "source": [
    "#Hace 50 modelos con hiperparametros random sobre datasets de 3000 elementos\n",
    "def obtener_50_modelos():\n",
    "    resultados = random_validator(50, posibles_funcion_activacion, posibles_optimizador, posibles_learning_rate, posibles_metricas,obtener_posibles_variables_predictoras)\n",
    "\n",
    "    return resultados"
   ]
  },
  {
   "cell_type": "code",
   "execution_count": 14,
   "metadata": {},
   "outputs": [],
   "source": [
    "#dado un conjunto de modelos se queda con los modelos cuyo f1-score sea mayor a 0.55\n",
    "def obtener_mejores(resultados):\n",
    "    mejores = []\n",
    "    for i in resultados:\n",
    "        if (i[1] > 0.55 ):\n",
    "            mejores.append(i)\n",
    "\n",
    "    return mejores"
   ]
  },
  {
   "cell_type": "code",
   "execution_count": 15,
   "metadata": {},
   "outputs": [],
   "source": [
    "mejores = []"
   ]
  },
  {
   "attachments": {},
   "cell_type": "markdown",
   "metadata": {},
   "source": [
    "Entrenamos 250 modelos random para obtener los hiperparámetros"
   ]
  },
  {
   "cell_type": "code",
   "execution_count": 16,
   "metadata": {},
   "outputs": [
    {
     "data": {
      "text/plain": [
       "'for i in range(5):\\n    resultados = obtener_50_modelos()\\n    mejores.append(obtener_mejores(resultados))'"
      ]
     },
     "execution_count": 16,
     "metadata": {},
     "output_type": "execute_result"
    }
   ],
   "source": [
    "\"\"\"for i in range(5):\n",
    "    resultados = obtener_50_modelos()\n",
    "    mejores.append(obtener_mejores(resultados))\"\"\""
   ]
  },
  {
   "attachments": {},
   "cell_type": "markdown",
   "metadata": {},
   "source": [
    "Como esto toma mucho tiempo solo mostramos el entrenamiento de 10 modelos. Puede pasar que ninguno de los 10 modelos supere el límite de 0.55 en cuyo caso no habría obtenido ningún conjunto de hiperparámetros y habría que correr mas hasta que aleatoriamente se obtenga un buen conjunto de hiperparámetros."
   ]
  },
  {
   "cell_type": "code",
   "execution_count": 17,
   "metadata": {},
   "outputs": [],
   "source": [
    "def obtener_10_modelos():\n",
    "    resultados = random_validator(10, posibles_funcion_activacion, posibles_optimizador, posibles_learning_rate, posibles_metricas,obtener_posibles_variables_predictoras)\n",
    "\n",
    "    return resultados"
   ]
  },
  {
   "cell_type": "code",
   "execution_count": 18,
   "metadata": {},
   "outputs": [
    {
     "name": "stdout",
     "output_type": "stream",
     "text": [
      "19/19 [==============================] - 0s 654us/step\n",
      "\n",
      "\n",
      " Variables predictoras utilizadas:  ['property_surface_total', 'latitud', 'longitud'] \n",
      " Cantidad de nueronas de la primera capa:  15 \n",
      " Funcion de activacion:  relu \n",
      " Optimizador:  <function funcion_optimizadoraRMSPROP at 0x0000029B6A5295E0> \n",
      " Learning Rate:  0.1 \n",
      " Metrica:  Recall \n",
      " Epoch:  110 \n",
      " Batch size 158\n",
      "19/19 [==============================] - 0s 942us/step\n",
      "\n",
      "accuracy: 0.49666666666666665\n",
      "recall 0.49666666666666665\n",
      "presicion 0.24667777777777777\n",
      "f1 0.3296362286562732\n",
      "\n",
      "19/19 [==============================] - 0s 610us/step\n",
      "\n",
      "\n",
      " Variables predictoras utilizadas:  ['latitud', 'property_surface_total', 'barrio_Monte Castro', 'barrio_Villa Devoto', 'barrio_Villa Lugano', 'barrio_Catalinas', 'barrio_Floresta', 'barrio_Palermo', 'barrio_San Cristobal', 'barrio_Saavedra', 'barrio_Parque Avellaneda', 'barrio_San Telmo', 'barrio_Puerto Madero', 'barrio_Nuñez', 'barrio_Caballito', 'barrio_Parque Chacabuco', 'barrio_Villa Urquiza', 'barrio_Barrio Norte', 'barrio_Villa General Mitre', 'barrio_Almagro', 'barrio_Agronomía', 'property_rooms', 'barrio_Villa Luro', 'barrio_Abasto', 'barrio_Chacarita', 'barrio_Tribunales', 'barrio_Villa Santa Rita', 'barrio_Boedo', 'barrio_Colegiales', 'barrio_San Nicolás', 'property_type_Casa', 'barrio_Las Cañitas', 'barrio_Barracas', 'barrio_Liniers', 'property_bedrooms', 'property_type_PH', 'barrio_Villa Real', 'barrio_Coghlan', 'barrio_Pompeya', 'barrio_Once', 'barrio_Versalles', 'barrio_Retiro', 'barrio_Centro / Microcentro', 'property_type_Departamento', 'barrio_Belgrano', 'barrio_Boca', 'barrio_Monserrat', 'barrio_Villa del Parque'] \n",
      " Cantidad de nueronas de la primera capa:  10 \n",
      " Funcion de activacion:  sigmoid \n",
      " Optimizador:  <function funcion_optimizadoraADADELTA at 0x0000029B6B9C7160> \n",
      " Learning Rate:  0.1 \n",
      " Metrica:  Recall \n",
      " Epoch:  160 \n",
      " Batch size 619\n",
      "19/19 [==============================] - 0s 591us/step\n",
      "\n",
      "accuracy: 0.48333333333333334\n",
      "recall 0.48333333333333334\n",
      "presicion 0.2336111111111111\n",
      "f1 0.31498127340823967\n",
      "\n",
      "19/19 [==============================] - 0s 720us/step\n",
      "\n",
      "\n",
      " Variables predictoras utilizadas:  ['property_surface_covered', 'property_surface_total', 'latitud', 'barrio_Barrio Norte', 'barrio_Parque Chacabuco', 'barrio_Catalinas', 'barrio_Coghlan', 'barrio_Belgrano', 'barrio_Puerto Madero', 'barrio_Villa Soldati', 'barrio_Villa Luro', 'barrio_Almagro', 'barrio_Monte Castro', 'barrio_Saavedra', 'barrio_Pompeya', 'barrio_Floresta', 'barrio_Centro / Microcentro', 'barrio_Boca', 'barrio_Villa General Mitre', 'property_type_PH', 'barrio_Balvanera', 'barrio_Barracas', 'barrio_Velez Sarsfield', 'barrio_Villa Santa Rita', 'barrio_Once', 'barrio_Villa Real', 'barrio_Villa del Parque', 'barrio_Flores', 'barrio_Villa Pueyrredón', 'barrio_Villa Devoto', 'barrio_Parque Patricios', 'barrio_Chacarita', 'barrio_Parque Chas', 'barrio_Caballito', 'barrio_Paternal', 'property_bedrooms', 'barrio_Boedo', 'barrio_Tribunales', 'barrio_Colegiales', 'barrio_Parque Avellaneda', 'barrio_San Nicolás', 'barrio_Palermo', 'barrio_Villa Riachuelo', 'barrio_San Telmo', 'property_rooms', 'barrio_Liniers', 'barrio_San Cristobal'] \n",
      " Cantidad de nueronas de la primera capa:  16 \n",
      " Funcion de activacion:  sigmoid \n",
      " Optimizador:  <function funcion_optimizadoraSGD at 0x0000029B6B9C71F0> \n",
      " Learning Rate:  0.001 \n",
      " Metrica:  Recall \n",
      " Epoch:  170 \n",
      " Batch size 23\n",
      "19/19 [==============================] - 0s 610us/step\n",
      "\n",
      "accuracy: 0.5333333333333333\n",
      "recall 0.5333333333333333\n",
      "presicion 0.28444444444444444\n",
      "f1 0.37101449275362325\n",
      "\n",
      "19/19 [==============================] - 0s 623us/step\n",
      "\n",
      "\n",
      " Variables predictoras utilizadas:  ['property_surface_covered', 'barrio_Nuñez', 'barrio_Balvanera', 'barrio_Villa del Parque', 'barrio_Colegiales', 'barrio_Villa Ortuzar', 'barrio_Pompeya', 'barrio_Monte Castro', 'property_type_Departamento', 'barrio_Mataderos', 'barrio_Monserrat', 'barrio_Las Cañitas', 'property_bedrooms', 'property_type_Casa', 'barrio_Villa Riachuelo', 'barrio_Flores', 'barrio_Villa Real', 'barrio_Villa Crespo', 'barrio_Velez Sarsfield', 'barrio_Retiro', 'barrio_Caballito', 'barrio_Agronomía', 'barrio_Villa Urquiza', 'barrio_Villa Devoto', 'barrio_Villa Lugano', 'barrio_Parque Centenario', 'barrio_Liniers', 'barrio_Congreso', 'barrio_Palermo', 'barrio_Parque Patricios', 'barrio_Parque Chacabuco', 'barrio_Saavedra', 'barrio_Belgrano', 'barrio_Recoleta'] \n",
      " Cantidad de nueronas de la primera capa:  17 \n",
      " Funcion de activacion:  tanh \n",
      " Optimizador:  <function funcion_optimizadoraADADELTA at 0x0000029B6B9C7160> \n",
      " Learning Rate:  0.1 \n",
      " Metrica:  Recall \n",
      " Epoch:  270 \n",
      " Batch size 931\n",
      "19/19 [==============================] - 0s 887us/step\n",
      "\n",
      "accuracy: 0.5333333333333333\n",
      "recall 0.5333333333333333\n",
      "presicion 0.528266858306384\n",
      "f1 0.5238540870701525\n",
      "\n",
      "19/19 [==============================] - 0s 1ms/step\n",
      "\n",
      "\n",
      " Variables predictoras utilizadas:  ['property_surface_total', 'property_surface_covered', 'longitud', 'latitud', 'barrio_Balvanera', 'barrio_Catalinas', 'barrio_Agronomía', 'barrio_Boca', 'barrio_Floresta', 'barrio_Villa Santa Rita', 'barrio_Recoleta', 'property_type_PH', 'barrio_Villa del Parque', 'property_type_Casa', 'property_bedrooms', 'barrio_Flores', 'barrio_Abasto', 'barrio_San Nicolás', 'barrio_Once', 'barrio_Parque Centenario', 'barrio_Coghlan', 'barrio_Villa Crespo', 'barrio_Villa Luro', 'barrio_Villa Lugano', 'barrio_Colegiales', 'barrio_Parque Chacabuco', 'barrio_Villa Riachuelo', 'barrio_Villa Ortuzar', 'barrio_Monserrat', 'barrio_Villa Pueyrredón', 'barrio_Paternal', 'barrio_Belgrano', 'barrio_Constitución', 'barrio_Villa Soldati', 'barrio_Tribunales', 'barrio_Almagro', 'barrio_Villa Urquiza', 'barrio_Parque Avellaneda', 'barrio_Velez Sarsfield', 'barrio_Nuñez', 'barrio_Villa Devoto', 'barrio_Parque Patricios', 'barrio_Liniers', 'barrio_San Telmo', 'barrio_Versalles', 'barrio_Parque Chas', 'barrio_Caballito', 'barrio_Palermo', 'barrio_Pompeya', 'barrio_San Cristobal', 'property_type_Departamento', 'barrio_Retiro', 'barrio_Barracas', 'barrio_Mataderos', 'barrio_Puerto Madero', 'barrio_Villa General Mitre', 'barrio_Congreso', 'barrio_Boedo', 'barrio_Chacarita', 'barrio_Villa Real', 'barrio_Monte Castro', 'barrio_Las Cañitas', 'barrio_Saavedra', 'barrio_Centro / Microcentro', 'property_rooms'] \n",
      " Cantidad de nueronas de la primera capa:  14 \n",
      " Funcion de activacion:  sigmoid \n",
      " Optimizador:  <function funcion_optimizadoraADADELTA at 0x0000029B6B9C7160> \n",
      " Learning Rate:  0.1 \n",
      " Metrica:  Recall \n",
      " Epoch:  210 \n",
      " Batch size 381\n",
      "19/19 [==============================] - 0s 665us/step\n",
      "\n",
      "accuracy: 0.5166666666666667\n",
      "recall 0.5166666666666667\n",
      "presicion 0.2669444444444445\n",
      "f1 0.35201465201465204\n",
      "\n",
      "19/19 [==============================] - 0s 720us/step\n",
      "\n",
      "\n",
      " Variables predictoras utilizadas:  ['latitud', 'property_surface_total', 'property_surface_covered', 'longitud', 'barrio_Saavedra', 'barrio_Parque Chas', 'barrio_Villa Ortuzar', 'barrio_Versalles', 'barrio_Tribunales', 'barrio_Villa Urquiza', 'barrio_Villa Real', 'barrio_Villa Devoto', 'barrio_Parque Centenario', 'barrio_Caballito', 'barrio_Villa Santa Rita', 'barrio_Chacarita', 'barrio_Retiro', 'barrio_Villa Soldati', 'barrio_Catalinas', 'barrio_Constitución', 'property_type_Casa', 'barrio_Barrio Norte', 'barrio_Boedo', 'barrio_Coghlan', 'barrio_Liniers', 'barrio_Colegiales', 'barrio_Balvanera', 'barrio_Belgrano', 'barrio_Boca', 'barrio_Floresta', 'barrio_Villa Crespo', 'barrio_Parque Avellaneda', 'barrio_Flores', 'barrio_Puerto Madero', 'property_rooms', 'barrio_Agronomía', 'property_type_PH', 'barrio_Paternal'] \n",
      " Cantidad de nueronas de la primera capa:  6 \n",
      " Funcion de activacion:  softmax \n",
      " Optimizador:  <function funcion_optimizadoraSGD at 0x0000029B6B9C71F0> \n",
      " Learning Rate:  0.01 \n",
      " Metrica:  Recall \n",
      " Epoch:  210 \n",
      " Batch size 160\n",
      "19/19 [==============================] - 0s 621us/step\n",
      "\n",
      "accuracy: 0.5016666666666667\n",
      "recall 0.5016666666666667\n",
      "presicion 0.25166944444444445\n",
      "f1 0.33518682944876066\n",
      "\n",
      "19/19 [==============================] - 0s 609us/step\n",
      "\n",
      "\n",
      " Variables predictoras utilizadas:  ['longitud', 'property_surface_covered', 'property_type_Departamento', 'barrio_Parque Patricios', 'barrio_Coghlan', 'barrio_Parque Chacabuco', 'barrio_Paternal', 'barrio_San Nicolás', 'barrio_Villa Devoto', 'barrio_Parque Centenario', 'barrio_Puerto Madero', 'barrio_Velez Sarsfield', 'barrio_Flores', 'barrio_Chacarita', 'barrio_Caballito', 'property_type_Casa', 'barrio_Villa Santa Rita', 'barrio_Villa Crespo', 'barrio_Villa Luro', 'barrio_Balvanera', 'barrio_Pompeya', 'barrio_Abasto', 'barrio_Congreso', 'property_bedrooms'] \n",
      " Cantidad de nueronas de la primera capa:  9 \n",
      " Funcion de activacion:  relu \n",
      " Optimizador:  <function funcion_optimizadoraNADAM at 0x0000029B1F8DEA60> \n",
      " Learning Rate:  0.01 \n",
      " Metrica:  Recall \n",
      " Epoch:  260 \n",
      " Batch size 557\n",
      "19/19 [==============================] - 0s 664us/step\n",
      "\n",
      "accuracy: 0.5466666666666666\n",
      "recall 0.5466666666666666\n",
      "presicion 0.5480055579705333\n",
      "f1 0.5239175043759071\n",
      "\n",
      "19/19 [==============================] - 0s 564us/step\n",
      "\n",
      "\n",
      " Variables predictoras utilizadas:  ['latitud', 'longitud', 'barrio_Boca', 'barrio_Villa General Mitre', 'barrio_Recoleta', 'barrio_Constitución', 'barrio_Balvanera', 'barrio_Villa Urquiza', 'barrio_San Cristobal', 'barrio_Barracas', 'barrio_Belgrano', 'barrio_Catalinas', 'barrio_San Telmo', 'barrio_Saavedra', 'barrio_Villa Soldati', 'barrio_San Nicolás', 'barrio_Retiro', 'barrio_Palermo', 'barrio_Barrio Norte', 'barrio_Colegiales', 'barrio_Abasto', 'barrio_Boedo', 'barrio_Centro / Microcentro'] \n",
      " Cantidad de nueronas de la primera capa:  6 \n",
      " Funcion de activacion:  tanh \n",
      " Optimizador:  <function funcion_optimizadoraSGD at 0x0000029B6B9C71F0> \n",
      " Learning Rate:  0.001 \n",
      " Metrica:  Recall \n",
      " Epoch:  260 \n",
      " Batch size 865\n",
      "19/19 [==============================] - 0s 665us/step\n",
      "\n",
      "accuracy: 0.48\n",
      "recall 0.48\n",
      "presicion 0.4798648068669528\n",
      "f1 0.423975673842476\n",
      "\n",
      "19/19 [==============================] - 0s 629us/step\n",
      "\n",
      "\n",
      " Variables predictoras utilizadas:  ['longitud', 'barrio_San Telmo', 'barrio_Parque Avellaneda', 'barrio_Villa Riachuelo', 'barrio_Puerto Madero', 'barrio_Las Cañitas', 'barrio_Mataderos', 'barrio_Tribunales', 'barrio_Floresta', 'barrio_Parque Chacabuco', 'barrio_San Cristobal', 'barrio_Balvanera', 'barrio_Monte Castro', 'barrio_Colegiales', 'barrio_Parque Chas', 'barrio_Villa Ortuzar', 'barrio_Agronomía', 'property_type_PH', 'barrio_Chacarita', 'barrio_Caballito', 'barrio_Villa Devoto', 'barrio_Constitución', 'barrio_Villa General Mitre', 'barrio_Villa Pueyrredón', 'barrio_Barracas', 'barrio_Villa Crespo', 'barrio_Parque Patricios', 'barrio_Abasto', 'barrio_Versalles', 'barrio_Flores', 'barrio_Boca', 'barrio_Coghlan', 'barrio_Villa Urquiza', 'property_bedrooms', 'barrio_Monserrat', 'barrio_Villa del Parque', 'barrio_Villa Lugano', 'barrio_Villa Real', 'barrio_Retiro', 'barrio_Liniers', 'barrio_Congreso', 'barrio_Once', 'barrio_Villa Soldati', 'barrio_Villa Santa Rita', 'barrio_Belgrano', 'property_rooms', 'barrio_Palermo', 'barrio_Almagro', 'barrio_Villa Luro', 'barrio_Boedo'] \n",
      " Cantidad de nueronas de la primera capa:  7 \n",
      " Funcion de activacion:  relu \n",
      " Optimizador:  <function funcion_optimizadoraADAMAX at 0x0000029B6B9C70D0> \n",
      " Learning Rate:  0.001 \n",
      " Metrica:  Recall \n",
      " Epoch:  130 \n",
      " Batch size 14\n",
      "19/19 [==============================] - 0s 721us/step\n",
      "\n",
      "accuracy: 0.5633333333333334\n",
      "recall 0.5633333333333334\n",
      "presicion 0.5610555954948478\n",
      "f1 0.5590885994483604\n",
      "\n",
      "19/19 [==============================] - 0s 665us/step\n",
      "\n",
      "\n",
      " Variables predictoras utilizadas:  ['property_surface_total', 'longitud', 'latitud', 'property_surface_covered', 'barrio_Almagro', 'barrio_Versalles', 'barrio_Parque Centenario', 'property_rooms', 'barrio_Saavedra', 'barrio_Pompeya', 'barrio_Villa Pueyrredón', 'barrio_Boedo', 'barrio_Parque Patricios', 'barrio_Congreso', 'barrio_Velez Sarsfield', 'barrio_Villa Ortuzar', 'barrio_Villa General Mitre', 'barrio_Las Cañitas', 'barrio_Tribunales', 'barrio_Nuñez', 'barrio_Recoleta', 'barrio_Puerto Madero', 'barrio_Chacarita', 'barrio_Paternal', 'barrio_Floresta', 'barrio_Colegiales', 'barrio_Agronomía', 'barrio_Villa Devoto', 'barrio_Coghlan', 'barrio_Centro / Microcentro', 'property_type_PH', 'barrio_Villa Luro'] \n",
      " Cantidad de nueronas de la primera capa:  10 \n",
      " Funcion de activacion:  sigmoid \n",
      " Optimizador:  <function funcion_optimizadoraADAMAX at 0x0000029B6B9C70D0> \n",
      " Learning Rate:  0.001 \n",
      " Metrica:  accuracy \n",
      " Epoch:  100 \n",
      " Batch size 63\n",
      "19/19 [==============================] - 0s 665us/step\n",
      "\n",
      "accuracy: 0.5033333333333333\n",
      "recall 0.5033333333333333\n",
      "presicion 0.2533444444444444\n",
      "f1 0.33704360679970435\n",
      "\n"
     ]
    }
   ],
   "source": [
    "resultados = obtener_10_modelos()\n",
    "mejores.append(obtener_mejores(resultados))"
   ]
  },
  {
   "cell_type": "code",
   "execution_count": 19,
   "metadata": {},
   "outputs": [
    {
     "data": {
      "text/plain": [
       "[[[<__main__.ModeloRedes at 0x29b7c02c310>, 0.5590885994483604]]]"
      ]
     },
     "execution_count": 19,
     "metadata": {},
     "output_type": "execute_result"
    }
   ],
   "source": [
    "mejores"
   ]
  },
  {
   "cell_type": "markdown",
   "metadata": {},
   "source": [
    "#### Entrenamiento sobre todo el dataset"
   ]
  },
  {
   "attachments": {},
   "cell_type": "markdown",
   "metadata": {},
   "source": [
    "Una vez obtenemos un conjunto de modelos buenos, tomamos sus hiperparámetros y los entrenamos sobre el dataset de viviendas_train y testeamos sobre el viviendas_test. Los entrenamos 3 veces ya que dependiendo de la semilla inicial los resultados pueden variar, y de esta manera obtenemos mejores modelos. Esto lleva mucho tiempo por lo que también lo comentamos."
   ]
  },
  {
   "cell_type": "code",
   "execution_count": 20,
   "metadata": {},
   "outputs": [],
   "source": [
    "def reentrenar_tot(modelo):\n",
    "    #modelo.info()\n",
    "    mejor_modelo = ModeloRedes(\n",
    "        viviendas_train, \n",
    "        viviendas_test, \n",
    "        modelo.variables_predictoras, \n",
    "        modelo.cantidad_primera_capa, \n",
    "        modelo.funcion_activacion, \n",
    "        modelo.optimizador, \n",
    "        modelo.learning_rate, \n",
    "        modelo.metrica, \n",
    "        modelo.epoch, \n",
    "        modelo.batch_size)\n",
    "        \n",
    "    mejor_modelo.testear_modelo()\n",
    "    mejor_resultado = mejor_modelo.resultado \n",
    "   \n",
    "\n",
    "    for i in range(2):\n",
    "        print('valor a vencer', mejor_resultado)\n",
    "        modelo_aux = ModeloRedes(\n",
    "            viviendas_train, \n",
    "            viviendas_test, \n",
    "            modelo.variables_predictoras, \n",
    "            modelo.cantidad_primera_capa, \n",
    "            modelo.funcion_activacion, \n",
    "            modelo.optimizador, \n",
    "            modelo.learning_rate, \n",
    "            modelo.metrica, \n",
    "            modelo.epoch, \n",
    "            modelo.batch_size)\n",
    "\n",
    "        resultado_aux = modelo_aux.testear_modelo()\n",
    "        print('reentrenando intento', i+1)\n",
    "        resultado_aux = modelo_aux.testear_modelo()\n",
    "        print(resultado_aux)\n",
    "        mejor_modelo.info()\n",
    "        \n",
    "        if resultado_aux < mejor_resultado:\n",
    "            mejor_resultado = resultado_aux\n",
    "            mejor_modelo = modelo_aux \n",
    "    return [mejor_modelo, mejor_resultado]"
   ]
  },
  {
   "cell_type": "code",
   "execution_count": 21,
   "metadata": {},
   "outputs": [],
   "source": [
    "tots = []"
   ]
  },
  {
   "cell_type": "code",
   "execution_count": 22,
   "metadata": {},
   "outputs": [
    {
     "data": {
      "text/plain": [
       "'\\nfor i in mejores:\\n    for j in i:\\n        tots.append(reentrenar_tot(j[0]))\\n        print(tots[-1])\\n'"
      ]
     },
     "execution_count": 22,
     "metadata": {},
     "output_type": "execute_result"
    }
   ],
   "source": [
    "\"\"\"\n",
    "for i in mejores:\n",
    "    for j in i:\n",
    "        tots.append(reentrenar_tot(j[0]))\n",
    "        print(tots[-1])\n",
    "\"\"\""
   ]
  },
  {
   "cell_type": "markdown",
   "metadata": {},
   "source": [
    "Nos quedamos con el mejor modelo de los entrenados sobre todo el dataset"
   ]
  },
  {
   "cell_type": "code",
   "execution_count": 23,
   "metadata": {},
   "outputs": [
    {
     "data": {
      "text/plain": [
       "'\\nmejor_modelo = tots[0]\\nfor i in tots:\\n    if (i != None):\\n        if (i[1] > mejor_modelo[1]):\\n            mejor_modelo = i\\n            '"
      ]
     },
     "execution_count": 23,
     "metadata": {},
     "output_type": "execute_result"
    }
   ],
   "source": [
    "\"\"\"\n",
    "mejor_modelo = tots[0]\n",
    "for i in tots:\n",
    "    if (i != None):\n",
    "        if (i[1] > mejor_modelo[1]):\n",
    "            mejor_modelo = i\n",
    "            \"\"\""
   ]
  },
  {
   "cell_type": "code",
   "execution_count": 24,
   "metadata": {},
   "outputs": [],
   "source": [
    "#mejor_modelo"
   ]
  },
  {
   "attachments": {},
   "cell_type": "markdown",
   "metadata": {},
   "source": [
    "Tuvimos algunos problemas al guardar nuestro objeto Modelo_redes, por lo que nos guardamos por una parte el modelo de Keras y por otra los hiperparámetros"
   ]
  },
  {
   "cell_type": "code",
   "execution_count": 25,
   "metadata": {},
   "outputs": [
    {
     "data": {
      "text/plain": [
       "\"\\nmodelo = mejor_modelo[0]\\ndic = {'variables_predictoras': modelo.variables_predictoras, 'cantidad_primera_capa': modelo.cantidad_primera_capa,\\n'funcion_activacion': modelo.funcion_activacion, 'optimizador': modelo.optimizador,\\n'learning_rate': modelo.learning_rate, 'metrica': modelo.metrica,\\n'epoch': modelo.epoch, 'batch_size': modelo.batch_size,}\\n\""
      ]
     },
     "execution_count": 25,
     "metadata": {},
     "output_type": "execute_result"
    }
   ],
   "source": [
    "\"\"\"\n",
    "modelo = mejor_modelo[0]\n",
    "dic = {'variables_predictoras': modelo.variables_predictoras, 'cantidad_primera_capa': modelo.cantidad_primera_capa,\n",
    "'funcion_activacion': modelo.funcion_activacion, 'optimizador': modelo.optimizador,\n",
    "'learning_rate': modelo.learning_rate, 'metrica': modelo.metrica,\n",
    "'epoch': modelo.epoch, 'batch_size': modelo.batch_size,}\n",
    "\"\"\""
   ]
  },
  {
   "cell_type": "code",
   "execution_count": 26,
   "metadata": {},
   "outputs": [
    {
     "data": {
      "text/plain": [
       "\"joblib.dump(dic, './Models/hyper_clasif_ultima_tanda') \\nmodelo.modelo.save('./Models/modelo_clasif_ultima_tanda')\""
      ]
     },
     "execution_count": 26,
     "metadata": {},
     "output_type": "execute_result"
    }
   ],
   "source": [
    "\"\"\"joblib.dump(dic, './Models/hyper_clasif_ultima_tanda') \n",
    "modelo.modelo.save('./Models/modelo_clasif_ultima_tanda')\"\"\""
   ]
  },
  {
   "cell_type": "markdown",
   "metadata": {},
   "source": [
    "EL mejor modelo obtenido tras realizar lo comentado anteriormente fue:"
   ]
  },
  {
   "cell_type": "code",
   "execution_count": 27,
   "metadata": {},
   "outputs": [],
   "source": [
    "hyper = joblib.load('./Models/hiper_mejor_modelo_clasificacion')\n",
    "new_model = keras.models.load_model('./Models/mejor_modelo_clasificacion')\n",
    "\n",
    "\n",
    "\n",
    "modelo_redes = ModeloRedes(viviendas_train, viviendas_test, hyper['variables_predictoras'], hyper['cantidad_primera_capa'], hyper['funcion_activacion'],\n",
    " hyper['optimizador'], hyper['learning_rate'], hyper['metrica'],  hyper['epoch'], hyper['batch_size'], new_model)"
   ]
  },
  {
   "cell_type": "code",
   "execution_count": 28,
   "metadata": {},
   "outputs": [
    {
     "name": "stdout",
     "output_type": "stream",
     "text": [
      "\n",
      "\n",
      " Variables predictoras utilizadas:  ['property_surface_total', 'longitud', 'latitud', 'property_surface_covered', 'barrio_Catalinas', 'barrio_Villa del Parque', 'barrio_Parque Chas', 'barrio_Chacarita', 'barrio_Paternal', 'barrio_Agronomía', 'barrio_Pompeya', 'barrio_Villa Riachuelo', 'barrio_Boca', 'barrio_Liniers', 'barrio_Villa Crespo', 'barrio_Puerto Madero', 'barrio_Villa Urquiza', 'barrio_Parque Patricios', 'barrio_Floresta', 'property_type_PH', 'barrio_Abasto', 'barrio_Congreso', 'barrio_Congreso', 'barrio_Velez Sarsfield', 'property_type_Departamento', 'barrio_Flores', 'property_rooms', 'barrio_Constitución', 'barrio_Saavedra', 'barrio_San Nicolás', 'barrio_Almagro', 'barrio_Boedo', 'barrio_Monte Castro', 'barrio_Monserrat', 'barrio_Barrio Norte', 'barrio_Las Cañitas', 'barrio_Caballito', 'barrio_Nuñez', 'barrio_Villa General Mitre', 'barrio_Villa Lugano', 'barrio_Centro / Microcentro', 'barrio_San Cristobal', 'barrio_Versalles', 'barrio_Villa Soldati', 'barrio_Colegiales', 'barrio_Villa Pueyrredón', 'barrio_Retiro', 'barrio_Tribunales', 'property_bedrooms', 'barrio_Mataderos', 'barrio_Villa Ortuzar', 'barrio_San Telmo', 'barrio_Parque Avellaneda', 'barrio_Palermo', 'barrio_Villa Devoto', 'barrio_Balvanera'] \n",
      " Cantidad de nueronas de la primera capa:  33 \n",
      " Funcion de activacion:  tanh \n",
      " Optimizador:  <function funcion_optimizadoraADAMAX at 0x0000029B6B9C70D0> \n",
      " Learning Rate:  0.001 \n",
      " Metrica:  Recall \n",
      " Epoch:  250 \n",
      " Batch size 261\n",
      "581/581 [==============================] - 1s 881us/step\n",
      "\n",
      "accuracy: 0.6581072351421189\n",
      "recall 0.6581072351421189\n",
      "presicion 0.6618242920184162\n",
      "f1 0.6536919155139114\n",
      "\n",
      "581/581 [==============================] - 0s 811us/step\n"
     ]
    },
    {
     "data": {
      "image/png": "[encoded data removed]",
      "text/plain": [
       "<Figure size 1152x648 with 2 Axes>"
      ]
     },
     "metadata": {
      "needs_background": "light"
     },
     "output_type": "display_data"
    }
   ],
   "source": [
    "modelo_redes.info()\n",
    "modelo_redes.matriz_confusion()"
   ]
  },
  {
   "attachments": {},
   "cell_type": "markdown",
   "metadata": {},
   "source": [
    "## Redes Regresión"
   ]
  },
  {
   "cell_type": "code",
   "execution_count": 29,
   "metadata": {},
   "outputs": [],
   "source": [
    "viviendas_train=pd.read_csv('./TP1/Datasets/viviendas_caba_train.csv').copy()\n",
    "viviendas_test=pd.read_csv('./TP1/Datasets/viviendas_caba_test.csv').copy()\n",
    "viviendas = pd.concat([viviendas_train, viviendas_test])"
   ]
  },
  {
   "attachments": {},
   "cell_type": "markdown",
   "metadata": {},
   "source": [
    "Hacemos un OneHot encoding para poder utilizar columnas no numéricas a la hora de entrenar los modelos"
   ]
  },
  {
   "cell_type": "code",
   "execution_count": 30,
   "metadata": {},
   "outputs": [],
   "source": [
    "viviendas = pd.get_dummies(viviendas, columns = [\"property_type\"])\n",
    "viviendas = pd.get_dummies(viviendas, columns = [\"barrio\"])"
   ]
  },
  {
   "cell_type": "markdown",
   "metadata": {},
   "source": [
    "Volvemos a separar en train y test"
   ]
  },
  {
   "cell_type": "code",
   "execution_count": 31,
   "metadata": {},
   "outputs": [],
   "source": [
    "viviendas_train, viviendas_test = train_test_split(viviendas, test_size=0.2, random_state=2)"
   ]
  },
  {
   "cell_type": "markdown",
   "metadata": {},
   "source": [
    "definimos las columnas que utilizaremos para entrenar las redes"
   ]
  },
  {
   "cell_type": "code",
   "execution_count": 32,
   "metadata": {},
   "outputs": [],
   "source": [
    "columnas_predictoras=viviendas_train.columns.to_list()\n",
    "for variable in ['property_price', 'start_date', 'end_date', 'property_title', 'geometry']:\n",
    "    columnas_predictoras.remove(variable)"
   ]
  },
  {
   "cell_type": "markdown",
   "metadata": {},
   "source": [
    "#### RANDOMIZADOR\n"
   ]
  },
  {
   "attachments": {},
   "cell_type": "markdown",
   "metadata": {},
   "source": [
    "Para entrenar las redes neuronales utilizaremos un random_search para optimizar los hiperparámetros, y luego utilizarlos para entrenar un modelo sobre todo el dataset. Probamos tanto normalizando el precio, usando mas funciones de activación, como sin normalizar el precio usando solo relu. El mejor resultado que obtuvimos resulto ser sin normalizar el precio, por lo que esta comentado el código que lo hace a continuación"
   ]
  },
  {
   "cell_type": "code",
   "execution_count": 33,
   "metadata": {},
   "outputs": [],
   "source": [
    "#al instanciar un ModeloRedes crea y entrena una red neuronal con los hiperparametros pasados\n",
    "class ModeloRedes:\n",
    "    def __init__(self, dataset_train, dataset_test, variables_predictoras, cantidad_de_primera_capa, funcion_activacion, optimizador, learning_rate, metrica, epoch, batch_size, modelo=None):\n",
    "        self.variables_predictoras = variables_predictoras\n",
    "        self.cantidad_primera_capa = cantidad_de_primera_capa\n",
    "        self.funcion_activacion = funcion_activacion\n",
    "        self.optimizador = optimizador\n",
    "        self.learning_rate = learning_rate\n",
    "        self.resultado = None\n",
    "        self.metrica = metrica\n",
    "        self.epoch = epoch\n",
    "        self.batch_size = batch_size\n",
    "        self.modelo = modelo\n",
    "\n",
    "        \n",
    "        self.x_test = dataset_test.loc[:,variables_predictoras]\n",
    "        self.y_test = dataset_test.loc[:,'property_price']\n",
    "        self.x_train = dataset_train.loc[:,variables_predictoras]\n",
    "        self.y_train = dataset_train.loc[:,'property_price']\n",
    "        self.x_test_original = None\n",
    "        self.x_train_original = None\n",
    "        self.precio_maximo = max(max(dataset_test['property_price']), max(dataset_train['property_price']))\n",
    "        self.escalar_datasets()\n",
    "        if modelo == None:\n",
    "            self.entrenar_modelo()\n",
    "    \n",
    "    def escalar_datasets(self):\n",
    "        sscaler=StandardScaler()\n",
    "        sscaler.fit(pd.DataFrame(self.x_train))\n",
    "        self.x_train_original = self.x_train\n",
    "        self.x_test_original = self.x_test\n",
    "        self.x_train=sscaler.transform(pd.DataFrame(self.x_train))\n",
    "        self.x_test=sscaler.transform(pd.DataFrame(self.x_test))\n",
    "            \n",
    "        #self.y_train = self.y_train / self.precio_maximo\n",
    "        \n",
    "\n",
    "    def entrenar_modelo(self):\n",
    "    # Creo un modelo Red Neuronal\n",
    "        d_in= len(self.variables_predictoras)\n",
    "        d_out=1\n",
    "\n",
    "        capas = [\n",
    "            # input layer\n",
    "            keras.layers.Dense(d_in,input_shape=(d_in,), activation= self.funcion_activacion)\n",
    "        ]\n",
    "\n",
    "        #inserta capas que van decreciendo en cantidad de neuronas\n",
    "        for i in range(self.cantidad_primera_capa,2,-1):\n",
    "            capas.append(keras.layers.Dense(i, activation= self.funcion_activacion ))\n",
    "\n",
    "        capas.append(keras.layers.Dense(d_out, ))\n",
    "        self.modelo = keras.Sequential(capas)\n",
    "\n",
    "        self.modelo.compile(\n",
    "        optimizer= self.optimizador(self.learning_rate), \n",
    "        loss=self.metrica, \n",
    "        metrics=[self.metrica], \n",
    "        )\n",
    "\n",
    "        self.modelo.fit(self.x_train,self.y_train,epochs=self.epoch,batch_size=self.batch_size,verbose=False)\n",
    "    \n",
    "    def plotear(self, x_df, y_df, nombre_df):\n",
    "        y_pred=self.modelo.predict(x_df)\n",
    "        for i in y_pred:\n",
    "            i[0] = i[0] #* self.precio_maximo\n",
    "\n",
    "        aux = []\n",
    "        for i in range(len(y_pred)):\n",
    "            aux.append(y_pred[i][0])  \n",
    "        y_pred = aux\n",
    "\n",
    "        performance_train = pd.DataFrame({'Valor Real': y_df,\n",
    "                                    'Prediccion': y_pred,\n",
    "                                    'Error': y_df - y_pred\n",
    "                                    })\n",
    "        titulo = \"Valor Real vs Predicción de \" + nombre_df\n",
    "        performance_train.plot.scatter(x=\"Valor Real\", y=\"Prediccion\", s=10, c='tab:blue').set(title=titulo,xlabel='Valor Real',ylabel='Prediccion')\n",
    "        \n",
    "    def testear_modelo(self):\n",
    "        y_pred=self.modelo.predict(self.x_test)\n",
    "        for i in y_pred:\n",
    "            i[0] = i[0] #* self.precio_maximo\n",
    "        mse=mean_squared_error(self.y_test,y_pred)\n",
    "        self.resultado = mse ** (1/2)\n",
    "        return self.resultado\n",
    "    \n",
    "    def info(self):\n",
    "        print('\\n\\n Variables predictoras utilizadas: ',self.variables_predictoras , \n",
    "        '\\n Cantidad de nueronas de la primera capa: ',self.cantidad_primera_capa ,\n",
    "        '\\n Funcion de activacion: ',self.funcion_activacion ,\n",
    "        '\\n Optimizador: ',self.optimizador ,\n",
    "        '\\n Learning Rate: ',self.learning_rate \n",
    "        ,'\\n Metrica: ',self.metrica ,\n",
    "        '\\n Epoch: ',self.epoch ,\n",
    "        '\\n Batch size',self.batch_size\n",
    "        )\n",
    "        print('rmse: ', self.testear_modelo())"
   ]
  },
  {
   "attachments": {},
   "cell_type": "markdown",
   "metadata": {},
   "source": [
    "Utilizamos un random_validator para realizar la búsqueda de hiperparámetros. Como el dataset es muy grande primero buscamos los hiperparámetros sobre porciones del mismo, 3000 datos. Una vez encontremos algunos conjuntos de hiperparámetros que den buenas métricas, pasaremos a utilizar esos hiperparámetros para entrenar un modelo con todos los datos. Para reducir un poco la complejidad tomamos que siempre las neuronas siempre se colocan de manera piramidal, es decir que si la primera layer oculta tiene 18 neuronas, la siguiente tendrá 17, luego 16 y así hasta llegar a 2"
   ]
  },
  {
   "attachments": {},
   "cell_type": "markdown",
   "metadata": {},
   "source": [
    "Lo que variamos es la función de activación, el optimizador, la learning rate, la métrica con la que optimiza, cantidad de neuronas, epoch y batch size. También variamos que columnas se utilizan para predecir."
   ]
  },
  {
   "cell_type": "code",
   "execution_count": 34,
   "metadata": {},
   "outputs": [],
   "source": [
    "def random_validator(cantidad_modelos, posibles_funcion_activacion, posibles_optimizador, \n",
    "    posibles_learning_rate, posibles_metricas, obtener_posibles_variables_predictoras):\n",
    "    \n",
    "    resultados = []\n",
    "    for i in range(cantidad_modelos):\n",
    "\n",
    "        variables_predictoras = obtener_posibles_variables_predictoras()\n",
    "        cantidad_de_primera_capa = random.randrange(2, 20, 1)\n",
    "        funcion_activacion = random.choice(posibles_funcion_activacion)\n",
    "        optimizador = random.choice(posibles_optimizador)\n",
    "        learning_rate = random.choice(posibles_learning_rate)\n",
    "        metrica = random.choice(posibles_metricas)\n",
    "        epoch = random.randrange(100, 300, 10)\n",
    "        batch_size = random.randrange(10, 1000, 1)\n",
    "        df_reducido = viviendas_train[:3000]\n",
    "        df_train, df_test = train_test_split(df_reducido.loc[:],test_size=0.2)\n",
    "\n",
    "        modelo = ModeloRedes(df_train, df_test, variables_predictoras, cantidad_de_primera_capa, funcion_activacion, optimizador, learning_rate, metrica, epoch, batch_size)\n",
    "        resultados.append([modelo, modelo.testear_modelo()])\n",
    "        modelo.info()\n",
    "    return resultados"
   ]
  },
  {
   "attachments": {},
   "cell_type": "markdown",
   "metadata": {},
   "source": [
    "Definimos a continuación los posibles valores que pueden tomar los distintos parámetros a la hora de hacer un modelo random. Las columnas en particular las dividimos en dos categorías, aquellas importantes que representan una importante variabilidad de los datos, y aquellas que serían más bien columnas extras. De esta manera siempre nos aseguramos que haya al menos 1 columna importante ya que de lo contrario el resultado siempre resulta malo"
   ]
  },
  {
   "cell_type": "code",
   "execution_count": 35,
   "metadata": {},
   "outputs": [],
   "source": [
    "columnas_importantes =  ['latitud', 'longitud', 'property_surface_total', 'property_surface_covered']\n",
    "columnas_extras = []\n",
    "for e in columnas_predictoras:\n",
    "    if e not in columnas_importantes:\n",
    "        columnas_extras.append(e)       \n",
    "\n",
    "def agregar_columnas(posibles_variables_predictoras, columnas, cant_columnas):\n",
    "            i = 0\n",
    "            while (i < cant_columnas): \n",
    "                pos = random.randrange(i,len(columnas), 1)\n",
    "                posibles_variables_predictoras.append(columnas[pos])\n",
    "                columnas[i], columnas[pos] = columnas[pos], columnas[i]\n",
    "                i += 1\n",
    "#Obtuvimos mejores modelos sin normalizar los precios por lo que solo sirve utilizar \"relu\" asique dejamos de utilizar el resto dentro de random search\n",
    "posibles_funcion_activacion = [\"relu\"]#,\"tanh\", \"softmax\", \"sigmoid\"]\n",
    "posibles_metricas = ['mse', 'mae']\n",
    "\n",
    "posibles_learning_rate = [0.1, 0.01]"
   ]
  },
  {
   "cell_type": "code",
   "execution_count": 36,
   "metadata": {},
   "outputs": [],
   "source": [
    "def funcion_optimizadoraNADAM(learnigRate):\n",
    "            return keras.optimizers.Nadam(learning_rate = learnigRate)\n",
    "\n",
    "def funcion_optimizadoraRMSPROP(learnigRate):\n",
    "            return keras.optimizers.RMSprop(learning_rate = learnigRate)\n",
    "\n",
    "def funcion_optimizadoraADAMAX(learnigRate):\n",
    "            return keras.optimizers.Adamax(learning_rate = learnigRate)\n",
    "\n",
    "def funcion_optimizadoraADADELTA(learnigRate):\n",
    "            return keras.optimizers.Adadelta(learning_rate = learnigRate)\n",
    "\n",
    "posibles_optimizador = [funcion_optimizadoraNADAM, funcion_optimizadoraRMSPROP, funcion_optimizadoraADAMAX, funcion_optimizadoraADADELTA]"
   ]
  },
  {
   "cell_type": "code",
   "execution_count": 37,
   "metadata": {},
   "outputs": [],
   "source": [
    "def obtener_posibles_variables_predictoras():\n",
    "        posibles_variables_predictoras = []     \n",
    "        cant_columnas_importantes = random.randrange(1,len(columnas_importantes)+1, 1)\n",
    "        cant_columnas_extras = random.randrange(0,len(columnas_extras)+1, 1)\n",
    "\n",
    "        agregar_columnas(posibles_variables_predictoras, columnas_importantes, cant_columnas_importantes)\n",
    "        agregar_columnas(posibles_variables_predictoras, columnas_extras, cant_columnas_extras)\n",
    "        return posibles_variables_predictoras"
   ]
  },
  {
   "cell_type": "markdown",
   "metadata": {},
   "source": [
    "### Entrenamiento de redes"
   ]
  },
  {
   "attachments": {},
   "cell_type": "markdown",
   "metadata": {},
   "source": [
    "#### Obtener hiperparámetros"
   ]
  },
  {
   "cell_type": "code",
   "execution_count": 38,
   "metadata": {},
   "outputs": [],
   "source": [
    "#Hace 50 modelos con hiperparametros random random\n",
    "def obtener_50_modelos():\n",
    "    resultados = random_validator(50, posibles_funcion_activacion, posibles_optimizador, posibles_learning_rate, posibles_metricas,obtener_posibles_variables_predictoras)\n",
    "\n",
    "    return resultados"
   ]
  },
  {
   "cell_type": "code",
   "execution_count": 39,
   "metadata": {},
   "outputs": [],
   "source": [
    "#dado un conjunto de modelos se queda con los modelos cuyo rmse sea menor a 130000\n",
    "def obtener_mejores(resultados):\n",
    "    mejores = []\n",
    "    for i in resultados:\n",
    "        if (i[1] < 150000):\n",
    "            mejores.append(i)\n",
    "\n",
    "    return mejores"
   ]
  },
  {
   "cell_type": "code",
   "execution_count": 40,
   "metadata": {},
   "outputs": [],
   "source": [
    "mejores = []"
   ]
  },
  {
   "attachments": {},
   "cell_type": "markdown",
   "metadata": {},
   "source": [
    "Entrenamos 250 modelos random para obtener los hiperparámetros"
   ]
  },
  {
   "cell_type": "code",
   "execution_count": 41,
   "metadata": {},
   "outputs": [
    {
     "data": {
      "text/plain": [
       "'for i in range(5):\\n    resultados = obtener_50_modelos()\\n    mejores.append(obtener_mejores(resultados))'"
      ]
     },
     "execution_count": 41,
     "metadata": {},
     "output_type": "execute_result"
    }
   ],
   "source": [
    "\"\"\"for i in range(5):\n",
    "    resultados = obtener_50_modelos()\n",
    "    mejores.append(obtener_mejores(resultados))\"\"\""
   ]
  },
  {
   "attachments": {},
   "cell_type": "markdown",
   "metadata": {},
   "source": [
    "Como esto toma mucho tiempo solo mostramos el entrenamiento de 10 modelos. Puede pasar que ninguno de los 10 modelos supere el límite de 150 000 en cuyo caso no habría obtenido ningún conjunto de hiperparámetros y habría que correr más hasta que aleatoriamente se obtenga un buen conjunto de hiperparámetros."
   ]
  },
  {
   "cell_type": "code",
   "execution_count": 42,
   "metadata": {},
   "outputs": [],
   "source": [
    "def obtener_10_modelos():\n",
    "    resultados = random_validator(10, posibles_funcion_activacion, posibles_optimizador, posibles_learning_rate, posibles_metricas,obtener_posibles_variables_predictoras)\n",
    "\n",
    "    return resultados"
   ]
  },
  {
   "cell_type": "code",
   "execution_count": 43,
   "metadata": {},
   "outputs": [
    {
     "name": "stdout",
     "output_type": "stream",
     "text": [
      "19/19 [==============================] - 0s 1ms/step\n",
      "\n",
      "\n",
      " Variables predictoras utilizadas:  ['property_surface_covered', 'longitud', 'barrio_Boca', 'barrio_Congreso', 'barrio_Villa Real', 'barrio_San Cristobal', 'barrio_Monte Castro', 'barrio_Colegiales', 'barrio_Villa Pueyrredón', 'property_bedrooms', 'barrio_Monserrat', 'barrio_Villa Santa Rita'] \n",
      " Cantidad de nueronas de la primera capa:  8 \n",
      " Funcion de activacion:  relu \n",
      " Optimizador:  <function funcion_optimizadoraRMSPROP at 0x0000029B022C6550> \n",
      " Learning Rate:  0.01 \n",
      " Metrica:  mse \n",
      " Epoch:  260 \n",
      " Batch size 109\n",
      "19/19 [==============================] - 0s 609us/step\n",
      "rmse:  165623.045550349\n",
      "19/19 [==============================] - 0s 594us/step\n",
      "\n",
      "\n",
      " Variables predictoras utilizadas:  ['property_surface_total', 'property_surface_covered', 'longitud', 'barrio_Barracas', 'barrio_Villa Crespo', 'barrio_San Nicolás', 'barrio_Villa Real', 'barrio_Villa Santa Rita', 'barrio_Monserrat', 'barrio_Congreso', 'property_rooms', 'barrio_Villa Riachuelo', 'barrio_Floresta', 'barrio_Constitución', 'barrio_Belgrano', 'barrio_Pompeya', 'property_type_PH', 'barrio_Villa Lugano', 'barrio_Balvanera', 'barrio_Mataderos', 'barrio_Parque Chas', 'barrio_Villa del Parque', 'barrio_Parque Patricios', 'barrio_Nuñez', 'property_type_Casa', 'barrio_Colegiales', 'barrio_Barrio Norte', 'barrio_Almagro', 'barrio_Recoleta', 'barrio_Flores', 'barrio_Velez Sarsfield', 'barrio_Villa Luro', 'barrio_Catalinas', 'barrio_Coghlan', 'barrio_Villa Ortuzar', 'barrio_Boedo', 'barrio_Abasto', 'barrio_Boca', 'barrio_Versalles', 'barrio_Villa Pueyrredón', 'barrio_San Telmo', 'property_type_Departamento', 'barrio_Chacarita', 'barrio_Villa General Mitre', 'barrio_Villa Soldati', 'barrio_Centro / Microcentro', 'barrio_Las Cañitas', 'barrio_Parque Centenario', 'barrio_Paternal', 'barrio_Caballito', 'barrio_Villa Devoto', 'property_bedrooms', 'barrio_Villa Urquiza', 'barrio_Once', 'barrio_Tribunales', 'barrio_Retiro', 'barrio_Palermo', 'barrio_Parque Avellaneda', 'barrio_Monte Castro', 'barrio_Liniers', 'barrio_Puerto Madero', 'barrio_Agronomía', 'barrio_Saavedra', 'barrio_Parque Chacabuco', 'barrio_San Cristobal'] \n",
      " Cantidad de nueronas de la primera capa:  2 \n",
      " Funcion de activacion:  relu \n",
      " Optimizador:  <function funcion_optimizadoraADADELTA at 0x0000029B0625E0D0> \n",
      " Learning Rate:  0.01 \n",
      " Metrica:  mse \n",
      " Epoch:  100 \n",
      " Batch size 182\n",
      "19/19 [==============================] - 0s 499us/step\n",
      "rmse:  340937.1503941763\n",
      "19/19 [==============================] - 0s 776us/step\n",
      "\n",
      "\n",
      " Variables predictoras utilizadas:  ['property_surface_total', 'longitud', 'barrio_Villa Devoto', 'barrio_Coghlan', 'property_type_Casa', 'barrio_Parque Centenario', 'property_bedrooms', 'barrio_Villa Ortuzar', 'barrio_Pompeya', 'barrio_Paternal', 'barrio_Barracas', 'barrio_San Telmo', 'barrio_Congreso', 'barrio_Catalinas', 'property_type_Departamento', 'barrio_Barrio Norte'] \n",
      " Cantidad de nueronas de la primera capa:  14 \n",
      " Funcion de activacion:  relu \n",
      " Optimizador:  <function funcion_optimizadoraRMSPROP at 0x0000029B022C6550> \n",
      " Learning Rate:  0.01 \n",
      " Metrica:  mae \n",
      " Epoch:  130 \n",
      " Batch size 686\n",
      "19/19 [==============================] - 0s 611us/step\n",
      "rmse:  153087.33216899942\n",
      "19/19 [==============================] - 0s 676us/step\n",
      "\n",
      "\n",
      " Variables predictoras utilizadas:  ['property_surface_total', 'property_type_Departamento', 'barrio_Constitución', 'barrio_San Nicolás', 'barrio_Congreso', 'barrio_Agronomía', 'barrio_Floresta', 'barrio_Colegiales', 'barrio_Centro / Microcentro', 'barrio_Villa Real', 'barrio_Puerto Madero', 'barrio_Balvanera', 'barrio_Villa Devoto', 'barrio_Boedo', 'barrio_Villa Luro', 'barrio_Retiro', 'barrio_Villa del Parque', 'barrio_Almagro', 'barrio_Parque Avellaneda', 'barrio_Paternal', 'barrio_Once', 'barrio_Barracas', 'barrio_Saavedra', 'property_type_PH', 'barrio_Mataderos', 'barrio_Parque Centenario', 'barrio_Liniers', 'barrio_Pompeya', 'barrio_Catalinas', 'barrio_Villa Riachuelo', 'barrio_Velez Sarsfield', 'barrio_Monte Castro'] \n",
      " Cantidad de nueronas de la primera capa:  11 \n",
      " Funcion de activacion:  relu \n",
      " Optimizador:  <function funcion_optimizadoraNADAM at 0x0000029B0ADD48B0> \n",
      " Learning Rate:  0.01 \n",
      " Metrica:  mae \n",
      " Epoch:  200 \n",
      " Batch size 422\n",
      "19/19 [==============================] - 0s 665us/step\n",
      "rmse:  367630.72662199725\n",
      "19/19 [==============================] - 0s 609us/step\n",
      "\n",
      "\n",
      " Variables predictoras utilizadas:  ['latitud', 'barrio_Villa Luro', 'barrio_Recoleta', 'barrio_Liniers', 'barrio_Puerto Madero', 'barrio_Flores', 'barrio_Abasto', 'barrio_Tribunales', 'barrio_Monserrat', 'barrio_Villa Real', 'barrio_San Cristobal', 'barrio_Monte Castro', 'barrio_Catalinas', 'barrio_Parque Patricios', 'barrio_Villa Lugano'] \n",
      " Cantidad de nueronas de la primera capa:  13 \n",
      " Funcion de activacion:  relu \n",
      " Optimizador:  <function funcion_optimizadoraADAMAX at 0x0000029B6A463D30> \n",
      " Learning Rate:  0.1 \n",
      " Metrica:  mae \n",
      " Epoch:  240 \n",
      " Batch size 449\n",
      "19/19 [==============================] - 0s 620us/step\n",
      "rmse:  277709.56549394375\n",
      "19/19 [==============================] - 0s 681us/step\n",
      "\n",
      "\n",
      " Variables predictoras utilizadas:  ['longitud', 'property_surface_total', 'property_surface_covered', 'latitud', 'barrio_Villa Real', 'barrio_Barracas', 'barrio_Agronomía', 'barrio_Monserrat', 'barrio_Villa Crespo', 'barrio_Velez Sarsfield', 'barrio_Puerto Madero', 'barrio_Villa Pueyrredón', 'barrio_Belgrano', 'barrio_Boca', 'barrio_Floresta', 'barrio_Colegiales', 'barrio_San Telmo', 'barrio_Versalles', 'barrio_Pompeya', 'barrio_Paternal', 'barrio_San Nicolás', 'property_type_Casa', 'barrio_Congreso', 'barrio_Palermo', 'barrio_Chacarita', 'barrio_Constitución', 'barrio_Boedo', 'barrio_Liniers', 'barrio_Abasto', 'barrio_Recoleta', 'barrio_Villa del Parque', 'property_type_PH', 'barrio_Parque Avellaneda', 'barrio_Parque Chacabuco', 'barrio_Parque Centenario', 'property_rooms', 'barrio_Catalinas', 'barrio_Once', 'barrio_Villa Santa Rita', 'barrio_Villa Riachuelo', 'barrio_Barrio Norte', 'barrio_San Cristobal', 'barrio_Monte Castro', 'barrio_Caballito', 'barrio_Villa Luro', 'barrio_Tribunales', 'barrio_Villa Ortuzar', 'barrio_Villa Lugano', 'barrio_Parque Chas', 'barrio_Villa Urquiza', 'barrio_Retiro', 'barrio_Centro / Microcentro', 'barrio_Nuñez', 'barrio_Almagro', 'barrio_Villa General Mitre', 'property_type_Departamento', 'barrio_Villa Soldati', 'barrio_Parque Patricios', 'barrio_Las Cañitas', 'barrio_Mataderos', 'barrio_Flores', 'property_bedrooms', 'barrio_Villa Devoto', 'barrio_Balvanera'] \n",
      " Cantidad de nueronas de la primera capa:  12 \n",
      " Funcion de activacion:  relu \n",
      " Optimizador:  <function funcion_optimizadoraNADAM at 0x0000029B0ADD48B0> \n",
      " Learning Rate:  0.1 \n",
      " Metrica:  mae \n",
      " Epoch:  110 \n",
      " Batch size 707\n",
      "19/19 [==============================] - 0s 665us/step\n",
      "rmse:  276851.02051999624\n",
      "19/19 [==============================] - 0s 665us/step\n",
      "\n",
      "\n",
      " Variables predictoras utilizadas:  ['latitud', 'longitud', 'barrio_Recoleta', 'barrio_Villa Luro', 'barrio_Villa Soldati', 'barrio_Saavedra', 'property_type_Departamento', 'property_type_PH', 'barrio_Mataderos', 'barrio_Boca', 'barrio_Flores', 'barrio_Retiro', 'barrio_Monserrat', 'barrio_Colegiales', 'barrio_Pompeya', 'barrio_Parque Chacabuco', 'barrio_San Telmo', 'barrio_Almagro', 'barrio_Agronomía'] \n",
      " Cantidad de nueronas de la primera capa:  10 \n",
      " Funcion de activacion:  relu \n",
      " Optimizador:  <function funcion_optimizadoraRMSPROP at 0x0000029B022C6550> \n",
      " Learning Rate:  0.01 \n",
      " Metrica:  mae \n",
      " Epoch:  240 \n",
      " Batch size 345\n",
      "19/19 [==============================] - 0s 673us/step\n",
      "rmse:  283743.2935473333\n",
      "19/19 [==============================] - 0s 610us/step\n",
      "\n",
      "\n",
      " Variables predictoras utilizadas:  ['longitud', 'property_surface_total', 'barrio_Parque Centenario', 'barrio_San Telmo', 'barrio_Palermo', 'barrio_Catalinas', 'property_rooms', 'barrio_Retiro', 'barrio_Villa Santa Rita', 'barrio_Colegiales', 'barrio_Villa Ortuzar', 'barrio_Pompeya', 'barrio_Villa Pueyrredón', 'barrio_Monserrat', 'barrio_Tribunales', 'barrio_Villa Soldati', 'barrio_San Cristobal', 'barrio_Villa Real', 'property_type_Departamento'] \n",
      " Cantidad de nueronas de la primera capa:  12 \n",
      " Funcion de activacion:  relu \n",
      " Optimizador:  <function funcion_optimizadoraADAMAX at 0x0000029B6A463D30> \n",
      " Learning Rate:  0.1 \n",
      " Metrica:  mae \n",
      " Epoch:  250 \n",
      " Batch size 849\n",
      "19/19 [==============================] - 0s 610us/step\n",
      "rmse:  148401.69500730617\n",
      "19/19 [==============================] - 0s 663us/step\n",
      "\n",
      "\n",
      " Variables predictoras utilizadas:  ['longitud', 'latitud', 'barrio_Monserrat', 'barrio_Villa Santa Rita', 'barrio_San Telmo', 'barrio_Barracas', 'barrio_Villa Luro', 'barrio_Villa Ortuzar', 'barrio_Monte Castro', 'barrio_Tribunales', 'barrio_Puerto Madero', 'barrio_Boca', 'barrio_Agronomía', 'barrio_Caballito', 'barrio_Pompeya', 'barrio_Flores', 'barrio_Balvanera', 'barrio_Villa Real', 'barrio_Las Cañitas', 'barrio_Villa Soldati', 'barrio_Velez Sarsfield', 'barrio_Nuñez', 'barrio_Floresta'] \n",
      " Cantidad de nueronas de la primera capa:  9 \n",
      " Funcion de activacion:  relu \n",
      " Optimizador:  <function funcion_optimizadoraADAMAX at 0x0000029B6A463D30> \n",
      " Learning Rate:  0.1 \n",
      " Metrica:  mae \n",
      " Epoch:  140 \n",
      " Batch size 751\n",
      "19/19 [==============================] - 0s 665us/step\n",
      "rmse:  268903.6589152012\n",
      "19/19 [==============================] - 0s 668us/step\n",
      "\n",
      "\n",
      " Variables predictoras utilizadas:  ['longitud', 'property_surface_covered', 'barrio_Abasto', 'barrio_Parque Chas', 'barrio_Once', 'property_rooms', 'barrio_Balvanera', 'barrio_Mataderos', 'barrio_Villa Soldati', 'barrio_Pompeya', 'barrio_Congreso', 'barrio_Colegiales', 'barrio_Parque Chacabuco', 'barrio_Villa Pueyrredón', 'barrio_Villa General Mitre', 'property_type_PH', 'barrio_Parque Avellaneda', 'barrio_Barrio Norte'] \n",
      " Cantidad de nueronas de la primera capa:  11 \n",
      " Funcion de activacion:  relu \n",
      " Optimizador:  <function funcion_optimizadoraADADELTA at 0x0000029B0625E0D0> \n",
      " Learning Rate:  0.1 \n",
      " Metrica:  mae \n",
      " Epoch:  180 \n",
      " Batch size 123\n",
      "19/19 [==============================] - 0s 610us/step\n",
      "rmse:  133446.80338019523\n"
     ]
    }
   ],
   "source": [
    "resultados = obtener_10_modelos()\n",
    "mejores.append(obtener_mejores(resultados))"
   ]
  },
  {
   "cell_type": "code",
   "execution_count": 44,
   "metadata": {},
   "outputs": [
    {
     "data": {
      "text/plain": [
       "[[[<__main__.ModeloRedes at 0x29b10eab040>, 148401.69500730617],\n",
       "  [<__main__.ModeloRedes at 0x29b6d6fed00>, 133446.80338019523]]]"
      ]
     },
     "execution_count": 44,
     "metadata": {},
     "output_type": "execute_result"
    }
   ],
   "source": [
    "mejores"
   ]
  },
  {
   "cell_type": "code",
   "execution_count": 45,
   "metadata": {},
   "outputs": [
    {
     "name": "stdout",
     "output_type": "stream",
     "text": [
      "[<__main__.ModeloRedes object at 0x0000029B10EAB040>, 148401.69500730617]\n",
      "\n",
      "\n",
      " Variables predictoras utilizadas:  ['longitud', 'property_surface_total', 'barrio_Parque Centenario', 'barrio_San Telmo', 'barrio_Palermo', 'barrio_Catalinas', 'property_rooms', 'barrio_Retiro', 'barrio_Villa Santa Rita', 'barrio_Colegiales', 'barrio_Villa Ortuzar', 'barrio_Pompeya', 'barrio_Villa Pueyrredón', 'barrio_Monserrat', 'barrio_Tribunales', 'barrio_Villa Soldati', 'barrio_San Cristobal', 'barrio_Villa Real', 'property_type_Departamento'] \n",
      " Cantidad de nueronas de la primera capa:  12 \n",
      " Funcion de activacion:  relu \n",
      " Optimizador:  <function funcion_optimizadoraADAMAX at 0x0000029B6A463D30> \n",
      " Learning Rate:  0.1 \n",
      " Metrica:  mae \n",
      " Epoch:  250 \n",
      " Batch size 849\n",
      "19/19 [==============================] - 0s 665us/step\n",
      "rmse:  148401.69500730617\n",
      "[<__main__.ModeloRedes object at 0x0000029B6D6FED00>, 133446.80338019523]\n",
      "\n",
      "\n",
      " Variables predictoras utilizadas:  ['longitud', 'property_surface_covered', 'barrio_Abasto', 'barrio_Parque Chas', 'barrio_Once', 'property_rooms', 'barrio_Balvanera', 'barrio_Mataderos', 'barrio_Villa Soldati', 'barrio_Pompeya', 'barrio_Congreso', 'barrio_Colegiales', 'barrio_Parque Chacabuco', 'barrio_Villa Pueyrredón', 'barrio_Villa General Mitre', 'property_type_PH', 'barrio_Parque Avellaneda', 'barrio_Barrio Norte'] \n",
      " Cantidad de nueronas de la primera capa:  11 \n",
      " Funcion de activacion:  relu \n",
      " Optimizador:  <function funcion_optimizadoraADADELTA at 0x0000029B0625E0D0> \n",
      " Learning Rate:  0.1 \n",
      " Metrica:  mae \n",
      " Epoch:  180 \n",
      " Batch size 123\n",
      "19/19 [==============================] - 0s 797us/step\n",
      "rmse:  133446.80338019523\n"
     ]
    }
   ],
   "source": [
    "for i in mejores:\n",
    "    for j in i:\n",
    "        print(j)\n",
    "        j[0].info()"
   ]
  },
  {
   "cell_type": "markdown",
   "metadata": {},
   "source": [
    "#### Entrenamiento sobre todo el dataset"
   ]
  },
  {
   "attachments": {},
   "cell_type": "markdown",
   "metadata": {},
   "source": [
    "Una vez obtenemos un conjunto de modelos buenos, tomamos sus hiperparámetros y los entrenamos sobre el dataset de viviendas_train y testeamos sobre el viviendas_test. Los entrenamos 3 veces ya que dependiendo de la semilla inicial los resultados pueden variar, y de esta manera obtenemos mejores modelos. Esto lleva mucho tiempo por lo que también lo comentamos."
   ]
  },
  {
   "cell_type": "code",
   "execution_count": 46,
   "metadata": {},
   "outputs": [],
   "source": [
    "#reentrena un modelo con los mismo hiperparametros a ver si con una semilla mejor mejora la metrica\n",
    "def reentrenar_tot(modelo):\n",
    "    #modelo.info()\n",
    "    mejor_modelo = ModeloRedes(\n",
    "        viviendas_train, \n",
    "        viviendas_test, \n",
    "        modelo.variables_predictoras, \n",
    "        modelo.cantidad_primera_capa, \n",
    "        modelo.funcion_activacion, \n",
    "        modelo.optimizador, \n",
    "        modelo.learning_rate, \n",
    "        modelo.metrica, \n",
    "        modelo.epoch, \n",
    "        modelo.batch_size)\n",
    "        \n",
    "    mejor_modelo.testear_modelo()\n",
    "    mejor_resultado = mejor_modelo.resultado \n",
    "\n",
    "    for i in range(2):\n",
    "        print('valor a vencer', mejor_resultado)\n",
    "        modelo_aux = ModeloRedes(\n",
    "            viviendas_train, \n",
    "            viviendas_test, \n",
    "            modelo.variables_predictoras, \n",
    "            modelo.cantidad_primera_capa, \n",
    "            modelo.funcion_activacion, \n",
    "            modelo.optimizador, \n",
    "            modelo.learning_rate, \n",
    "            modelo.metrica, \n",
    "            modelo.epoch, \n",
    "            modelo.batch_size)\n",
    "\n",
    "        resultado_aux = modelo_aux.testear_modelo()\n",
    "        print('reentrenando intento', i+1)\n",
    "        resultado_aux = modelo_aux.testear_modelo()\n",
    "        print(resultado_aux)\n",
    "        mejor_modelo.info()\n",
    "        \n",
    "        if resultado_aux < mejor_resultado:\n",
    "            mejor_resultado = resultado_aux\n",
    "            mejor_modelo = modelo_aux \n",
    "    return [mejor_modelo, mejor_resultado]"
   ]
  },
  {
   "cell_type": "code",
   "execution_count": 47,
   "metadata": {},
   "outputs": [],
   "source": [
    "tots = []"
   ]
  },
  {
   "cell_type": "code",
   "execution_count": 48,
   "metadata": {},
   "outputs": [
    {
     "data": {
      "text/plain": [
       "'\\nfor i in mejores:\\n    for j in i:\\n        tots.append(reentrenar_tot(j[0]))\\n'"
      ]
     },
     "execution_count": 48,
     "metadata": {},
     "output_type": "execute_result"
    }
   ],
   "source": [
    "\"\"\"\n",
    "for i in mejores:\n",
    "    for j in i:\n",
    "        tots.append(reentrenar_tot(j[0]))\n",
    "\"\"\""
   ]
  },
  {
   "cell_type": "markdown",
   "metadata": {},
   "source": [
    "Nos quedamos con el mejor modelo de los entrenados sobre todo el dataset"
   ]
  },
  {
   "cell_type": "code",
   "execution_count": 49,
   "metadata": {},
   "outputs": [
    {
     "data": {
      "text/plain": [
       "'\\nmejor_modelo = tots[0]\\nfor i in tots:\\n    if (i != None) and (i[1] < mejor_modelo[1]):\\n        mejor_modelo = i\\n'"
      ]
     },
     "execution_count": 49,
     "metadata": {},
     "output_type": "execute_result"
    }
   ],
   "source": [
    "\"\"\"\n",
    "mejor_modelo = tots[0]\n",
    "for i in tots:\n",
    "    if (i != None) and (i[1] < mejor_modelo[1]):\n",
    "        mejor_modelo = i\n",
    "\"\"\""
   ]
  },
  {
   "cell_type": "code",
   "execution_count": 50,
   "metadata": {},
   "outputs": [],
   "source": [
    "#mejor_modelo"
   ]
  },
  {
   "cell_type": "markdown",
   "metadata": {},
   "source": [
    "EL mejor modelo obtenido tras realizar lo comentado anteriormente fue:"
   ]
  },
  {
   "cell_type": "code",
   "execution_count": 51,
   "metadata": {},
   "outputs": [
    {
     "data": {
      "text/plain": [
       "\"\\n#modelo = mejor_modelo[0]\\ndic = {'variables_predictoras': modelo.variables_predictoras, 'cantidad_primera_capa': modelo.cantidad_primera_capa,\\n'funcion_activacion': modelo.funcion_activacion, 'optimizador': modelo.optimizador,\\n'learning_rate': modelo.learning_rate, 'metrica': modelo.metrica,\\n'epoch': modelo.epoch, 'batch_size': modelo.batch_size,}\\n\""
      ]
     },
     "execution_count": 51,
     "metadata": {},
     "output_type": "execute_result"
    }
   ],
   "source": [
    "\"\"\"\n",
    "#modelo = mejor_modelo[0]\n",
    "dic = {'variables_predictoras': modelo.variables_predictoras, 'cantidad_primera_capa': modelo.cantidad_primera_capa,\n",
    "'funcion_activacion': modelo.funcion_activacion, 'optimizador': modelo.optimizador,\n",
    "'learning_rate': modelo.learning_rate, 'metrica': modelo.metrica,\n",
    "'epoch': modelo.epoch, 'batch_size': modelo.batch_size,}\n",
    "\"\"\"\n",
    "\n"
   ]
  },
  {
   "cell_type": "code",
   "execution_count": 52,
   "metadata": {},
   "outputs": [
    {
     "data": {
      "text/plain": [
       "\"\\njoblib.dump(dic, './Models/hiper_ultimo_modelo') \\nmodelo.modelo.save('./Models/ultimo_modelo')\\n\""
      ]
     },
     "execution_count": 52,
     "metadata": {},
     "output_type": "execute_result"
    }
   ],
   "source": [
    "\"\"\"\n",
    "joblib.dump(dic, './Models/hiper_ultimo_modelo') \n",
    "modelo.modelo.save('./Models/ultimo_modelo')\n",
    "\"\"\""
   ]
  },
  {
   "cell_type": "markdown",
   "metadata": {},
   "source": [
    "EL mejor modelo obtenido tras realizar lo comentado anteriormente fue:"
   ]
  },
  {
   "cell_type": "code",
   "execution_count": 53,
   "metadata": {},
   "outputs": [],
   "source": [
    "hyper = joblib.load('./Models/hiper_regresion_mejor_modelo')\n",
    "new_model = keras.models.load_model('./Models/regresion_mejor_modelo')\n",
    "\n",
    "\n",
    "\n",
    "modelo_redes = ModeloRedes(viviendas_train, viviendas_test, hyper['variables_predictoras'], hyper['cantidad_primera_capa'], hyper['funcion_activacion'],\n",
    " hyper['optimizador'], hyper['learning_rate'], hyper['metrica'],  hyper['epoch'], hyper['batch_size'], new_model)"
   ]
  },
  {
   "cell_type": "code",
   "execution_count": 54,
   "metadata": {},
   "outputs": [
    {
     "name": "stdout",
     "output_type": "stream",
     "text": [
      "\n",
      "\n",
      " Variables predictoras utilizadas:  ['property_surface_covered', 'latitud', 'property_surface_total', 'longitud', 'barrio_Catalinas', 'barrio_Pompeya', 'property_type_Casa', 'barrio_Villa Santa Rita', 'barrio_Mataderos', 'barrio_Coghlan', 'barrio_Puerto Madero', 'barrio_Parque Patricios', 'barrio_Villa Riachuelo', 'barrio_Monserrat', 'barrio_Parque Centenario', 'barrio_Villa Urquiza', 'barrio_Barrio Norte', 'barrio_Almagro', 'property_type_Departamento', 'barrio_Saavedra', 'barrio_Chacarita', 'barrio_Villa Ortuzar', 'barrio_Once', 'barrio_Palermo', 'barrio_Villa Crespo', 'barrio_Balvanera', 'barrio_Constitución', 'barrio_Congreso', 'barrio_Barracas', 'barrio_Parque Chacabuco', 'barrio_San Cristobal', 'barrio_Villa Devoto', 'barrio_Villa General Mitre', 'barrio_Parque Chas', 'barrio_Villa Real', 'barrio_Centro / Microcentro', 'barrio_Villa Soldati', 'property_bedrooms'] \n",
      " Cantidad de nueronas de la primera capa:  13 \n",
      " Funcion de activacion:  relu \n",
      " Optimizador:  <function funcion_optimizadoraNADAM at 0x0000029B0ADD48B0> \n",
      " Learning Rate:  0.01 \n",
      " Metrica:  mse \n",
      " Epoch:  150 \n",
      " Batch size 691\n",
      "581/581 [==============================] - 0s 593us/step\n",
      "rmse:  101702.40384166464\n"
     ]
    }
   ],
   "source": [
    "modelo_redes.info()"
   ]
  },
  {
   "cell_type": "code",
   "execution_count": 55,
   "metadata": {},
   "outputs": [
    {
     "name": "stdout",
     "output_type": "stream",
     "text": [
      "2322/2322 [==============================] - 1s 534us/step\n",
      "581/581 [==============================] - 0s 551us/step\n"
     ]
    },
    {
     "data": {
      "image/png": "[encoded data removed]",
      "text/plain": [
       "<Figure size 432x288 with 1 Axes>"
      ]
     },
     "metadata": {
      "needs_background": "light"
     },
     "output_type": "display_data"
    },
    {
     "data": {
      "image/png": "[encoded data removed]",
      "text/plain": [
       "<Figure size 432x288 with 1 Axes>"
      ]
     },
     "metadata": {
      "needs_background": "light"
     },
     "output_type": "display_data"
    }
   ],
   "source": [
    "modelo_redes.plotear(modelo_redes.x_train, modelo_redes.y_train, 'train')\n",
    "modelo_redes.plotear(modelo_redes.x_test, modelo_redes.y_test, 'test')"
   ]
  }
 ],
 "metadata": {
  "kernelspec": {
   "display_name": "base",
   "language": "python",
   "name": "python3"
  },
  "language_info": {
   "codemirror_mode": {
    "name": "ipython",
    "version": 3
   },
   "file_extension": ".py",
   "mimetype": "text/x-python",
   "name": "python",
   "nbconvert_exporter": "python",
   "pygments_lexer": "ipython3",
   "version": "3.9.12"
  },
  "orig_nbformat": 4,
  "vscode": {
   "interpreter": {
    "hash": "4b4bfd882b72278d2fc01f7f7f865a6b413108d571dd02a132c40c7c94589e02"
   }
  }
 },
 "nbformat": 4,
 "nbformat_minor": 2
}
