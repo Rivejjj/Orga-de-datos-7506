{
 "cells": [
  {
   "cell_type": "markdown",
   "metadata": {},
   "source": [
    "# <center>Organizaci&oacute;n de Datos</center>\n",
    "#### <center>C&aacute;tedra Ing. Rodriguez, Juan Manuel </center>\n",
    "\n",
    "## <center>Trabajo Práctico 2 : Propiedades en Venta</center>\n",
    "## <center>Parte 1</center>\n",
    "### <center> Grupo 22 </center>\n",
    "### <center> Integrantes: </center>\n",
    "##### <center> Federico Martin Forte,  Francisco Sobral,  Ian Klaus von der Heyde,  Juan Pablo Aschieri,  Joaquin Rivero  </center>"
   ]
  },
  {
   "cell_type": "markdown",
   "metadata": {},
   "source": [
    "# Carga de Datos y librerías"
   ]
  },
  {
   "cell_type": "markdown",
   "metadata": {},
   "source": []
  },
  {
   "cell_type": "code",
   "execution_count": 1,
   "metadata": {},
   "outputs": [],
   "source": [
    "import pandas as pd\n",
    "import seaborn as sns\n",
    "import matplotlib.pyplot as plt\n",
    "import numpy as np\n",
    "import joblib\n",
    "import warnings\n",
    "warnings.filterwarnings('always')\n",
    "import shapely.speedups\n",
    "from IPython.display import Image\n",
    "import re\n",
    "from itertools import combinations\n",
    "import random\n",
    "from sklearn.model_selection import train_test_split, cross_val_score\n",
    "from sklearn.preprocessing import MinMaxScaler\n",
    "from sklearn import metrics\n",
    "from sklearn.metrics import r2_score\n",
    "import xgboost as xgb\n",
    "from sklearn.model_selection import RandomizedSearchCV\n",
    "from sklearn.model_selection import GridSearchCV"
   ]
  },
  {
   "cell_type": "code",
   "execution_count": 2,
   "metadata": {},
   "outputs": [],
   "source": [
    "viviendas_train=pd.read_csv('./TP1/Datasets/viviendas_caba_train.csv').copy()\n",
    "viviendas_test=pd.read_csv('./TP1/Datasets/viviendas_caba_test.csv').copy()"
   ]
  },
  {
   "cell_type": "code",
   "execution_count": 3,
   "metadata": {},
   "outputs": [],
   "source": [
    "viviendas = pd.concat([viviendas_train, viviendas_test]).reset_index()"
   ]
  },
  {
   "cell_type": "markdown",
   "metadata": {},
   "source": [
    "# 1.Procesamiento del Lenguaje Natural"
   ]
  },
  {
   "cell_type": "markdown",
   "metadata": {},
   "source": [
    "## a) Ampliación del dataset"
   ]
  },
  {
   "cell_type": "code",
   "execution_count": 4,
   "metadata": {},
   "outputs": [],
   "source": [
    "veces_palabra = {}\n",
    "indice_de_palabra = {}\n",
    "for indice in viviendas.index:\n",
    "    property_title = viviendas.loc[indice,:].property_title.lower()\n",
    "\n",
    "    if \"/\" in property_title:\n",
    "        property_title = property_title.replace(\"/\",\" \")\n",
    "    if \".\" in property_title:\n",
    "        property_title = property_title.replace(\".\",\" \")\n",
    "    if \",\" in property_title:\n",
    "        property_title = property_title.replace(\",\",\" \")\n",
    "    if \"-\" in property_title:\n",
    "        property_title = property_title.replace(\"-\",\" \")\n",
    "    if \"ó\" in property_title:\n",
    "        property_title = property_title.replace(\"ó\",\"o\")\n",
    "    if \"!\" in property_title:\n",
    "        property_title = property_title.replace(\"!\",\" \")\n",
    "\n",
    "    property_title = property_title.split()\n",
    "    \n",
    "    for palabra in property_title:\n",
    "        palabra = ''.join(char for char in palabra if char.isalnum())\n",
    "        if palabra.isnumeric() or len(palabra) < 3:\n",
    "            continue\n",
    "        veces_palabra[palabra] = veces_palabra.get(palabra, 0)\n",
    "        veces_palabra[palabra] +=1 \n",
    "\n",
    "        indice_de_palabra[palabra]  = indice_de_palabra.get(palabra, list())\n",
    "        indice_de_palabra[palabra].append(indice)\n"
   ]
  },
  {
   "cell_type": "code",
   "execution_count": 5,
   "metadata": {},
   "outputs": [],
   "source": [
    "def agregar_aspecto(aspecto, palabras_clave, dataset):\n",
    "    for palabra in indice_de_palabra.keys():\n",
    "        for palabra_clave in palabras_clave:\n",
    "            if palabra_clave in palabra:\n",
    "                for i in indice_de_palabra[palabra]:\n",
    "                    dataset.loc[i, aspecto] = 'sí'\n",
    "    dataset[aspecto].fillna('unknown', inplace=True)\n",
    "\n",
    "    \n",
    "    print(f'cantidad de {aspecto}: { (dataset[aspecto] == \"sí\").sum() }')"
   ]
  },
  {
   "cell_type": "code",
   "execution_count": 6,
   "metadata": {},
   "outputs": [],
   "source": [
    "palabras_a_ignorar = set(['departamento', 'depto', 'casa', 'ph', 'venta', 'amb', 'ambientes', 'con'])\n",
    "for barrio in viviendas_train.barrio:\n",
    "    for t in barrio.split():\n",
    "        palabras_a_ignorar.add(t.lower())\n",
    "for palabra in palabras_a_ignorar:\n",
    "    if palabra in veces_palabra:\n",
    "        veces_palabra.pop(palabra)\n",
    "        indice_de_palabra.pop(palabra)"
   ]
  },
  {
   "cell_type": "markdown",
   "metadata": {},
   "source": [
    "Ordenamos palabras por cantidad de apariciones para buscar posibles aspectos que sumen valor a nuestro dataset"
   ]
  },
  {
   "cell_type": "code",
   "execution_count": 7,
   "metadata": {},
   "outputs": [
    {
     "name": "stdout",
     "output_type": "stream",
     "text": [
      "[('balcon', 12291), ('cochera', 10563), ('monoambiente', 7156), ('terraza', 6564), ('estrenar', 5194), ('patio', 5062), ('amenities', 4632), ('luminoso', 4596), ('excelente', 4338), ('piso', 4099), ('frente', 3789), ('oportunidad', 3193), ('parrilla', 2833), ('apto', 2625), ('muy', 2595), ('vista', 2404), ('dependencia', 2223), ('baulera', 2121), ('semipiso', 1953), ('dpto', 1933), ('dos', 1826), ('reciclado', 1804), ('expensas', 1801), ('alto', 1796), ('hermoso', 1783), ('duplex', 1759), ('torre', 1724), ('profesional', 1713), ('dep', 1584), ('impecable', 1473), ('nuevo', 1445), ('coch', 1428), ('ambiente', 1423), ('hollywood', 1397), ('amplio', 1322), ('pozo', 1300), ('ubicacion', 1216), ('cocheras', 1198), ('propia', 1171), ('dormitorios', 1169), ('edificio', 1135), ('sin', 1125), ('pileta', 1086), ('gran', 1073), ('retasado', 977), ('tipo', 963), ('divisible', 927), ('chico', 923), ('abierta', 923), ('zona', 906)]\n"
     ]
    }
   ],
   "source": [
    "sorted(veces_palabra.items(),  key=lambda x:x[1])[::-1]\n",
    "print((sorted(veces_palabra.items(),  key=lambda x:x[1])[::-1])[:50]) #CAMBIE"
   ]
  },
  {
   "cell_type": "markdown",
   "metadata": {},
   "source": [
    "Viendo lo anterior buscamos aspectos importantes y palabras claves que los identifiquen para agregarlos al dataset:\n",
    "\n",
    "+ A estrenar/nuevo\n",
    "+ Patio/Jardin\n",
    "+ balcon\n",
    "+ cochera\n",
    "+ pileta"
   ]
  },
  {
   "cell_type": "code",
   "execution_count": 8,
   "metadata": {},
   "outputs": [
    {
     "name": "stdout",
     "output_type": "stream",
     "text": [
      "cantidad de a_estrenar: 6634\n",
      "cantidad de patio_jardin: 6569\n",
      "cantidad de balcon: 12821\n",
      "cantidad de cochera: 12375\n",
      "cantidad de pileta: 1842\n",
      "cantidad de parrilla: 3048\n",
      "cantidad de terraza: 7517\n",
      "cantidad de monoambiente: 8109\n"
     ]
    }
   ],
   "source": [
    "agregar_aspecto('a_estrenar', ['estrenar', 'nuevo'], viviendas)\n",
    "agregar_aspecto('patio_jardin', ['pat', 'jard'], viviendas)\n",
    "agregar_aspecto('balcon', ['balc'], viviendas)\n",
    "agregar_aspecto('cochera', ['coche', 'garag'], viviendas)\n",
    "agregar_aspecto('pileta', ['pil', 'pisc'], viviendas)\n",
    "agregar_aspecto('parrilla', ['parr'], viviendas)\n",
    "agregar_aspecto('terraza', ['terra'], viviendas)\n",
    "agregar_aspecto('monoambiente', ['mono'], viviendas)"
   ]
  },
  {
   "cell_type": "code",
   "execution_count": 9,
   "metadata": {},
   "outputs": [
    {
     "data": {
      "text/html": [
       "<div>\n",
       "<style scoped>\n",
       "    .dataframe tbody tr th:only-of-type {\n",
       "        vertical-align: middle;\n",
       "    }\n",
       "\n",
       "    .dataframe tbody tr th {\n",
       "        vertical-align: top;\n",
       "    }\n",
       "\n",
       "    .dataframe thead th {\n",
       "        text-align: right;\n",
       "    }\n",
       "</style>\n",
       "<table border=\"1\" class=\"dataframe\">\n",
       "  <thead>\n",
       "    <tr style=\"text-align: right;\">\n",
       "      <th></th>\n",
       "      <th>index</th>\n",
       "      <th>start_date</th>\n",
       "      <th>end_date</th>\n",
       "      <th>latitud</th>\n",
       "      <th>longitud</th>\n",
       "      <th>barrio</th>\n",
       "      <th>property_type</th>\n",
       "      <th>property_rooms</th>\n",
       "      <th>property_bedrooms</th>\n",
       "      <th>property_surface_total</th>\n",
       "      <th>...</th>\n",
       "      <th>property_title</th>\n",
       "      <th>geometry</th>\n",
       "      <th>a_estrenar</th>\n",
       "      <th>patio_jardin</th>\n",
       "      <th>balcon</th>\n",
       "      <th>cochera</th>\n",
       "      <th>pileta</th>\n",
       "      <th>parrilla</th>\n",
       "      <th>terraza</th>\n",
       "      <th>monoambiente</th>\n",
       "    </tr>\n",
       "  </thead>\n",
       "  <tbody>\n",
       "    <tr>\n",
       "      <th>0</th>\n",
       "      <td>0</td>\n",
       "      <td>2021-12-15</td>\n",
       "      <td>2021-12-25</td>\n",
       "      <td>-34.555049</td>\n",
       "      <td>-58.490513</td>\n",
       "      <td>Saavedra</td>\n",
       "      <td>Departamento</td>\n",
       "      <td>2.0</td>\n",
       "      <td>1.0</td>\n",
       "      <td>58.0</td>\n",
       "      <td>...</td>\n",
       "      <td>Departamento - Saavedra</td>\n",
       "      <td>POINT (-58.4905135 -34.5550487)</td>\n",
       "      <td>unknown</td>\n",
       "      <td>unknown</td>\n",
       "      <td>unknown</td>\n",
       "      <td>unknown</td>\n",
       "      <td>unknown</td>\n",
       "      <td>unknown</td>\n",
       "      <td>unknown</td>\n",
       "      <td>unknown</td>\n",
       "    </tr>\n",
       "    <tr>\n",
       "      <th>1</th>\n",
       "      <td>1</td>\n",
       "      <td>2021-05-20</td>\n",
       "      <td>2021-06-05</td>\n",
       "      <td>-34.546991</td>\n",
       "      <td>-58.478553</td>\n",
       "      <td>Saavedra</td>\n",
       "      <td>Departamento</td>\n",
       "      <td>2.0</td>\n",
       "      <td>1.0</td>\n",
       "      <td>48.0</td>\n",
       "      <td>...</td>\n",
       "      <td>Departamento - Saavedra</td>\n",
       "      <td>POINT (-58.4785532 -34.546991)</td>\n",
       "      <td>unknown</td>\n",
       "      <td>unknown</td>\n",
       "      <td>unknown</td>\n",
       "      <td>unknown</td>\n",
       "      <td>unknown</td>\n",
       "      <td>unknown</td>\n",
       "      <td>unknown</td>\n",
       "      <td>unknown</td>\n",
       "    </tr>\n",
       "    <tr>\n",
       "      <th>2</th>\n",
       "      <td>2</td>\n",
       "      <td>2021-03-20</td>\n",
       "      <td>2021-04-16</td>\n",
       "      <td>-34.570842</td>\n",
       "      <td>-58.491805</td>\n",
       "      <td>Villa Urquiza</td>\n",
       "      <td>Departamento</td>\n",
       "      <td>2.0</td>\n",
       "      <td>1.0</td>\n",
       "      <td>62.0</td>\n",
       "      <td>...</td>\n",
       "      <td>Venta Depto 2 amb Anticipo + Cuotas CAC V. Urq...</td>\n",
       "      <td>POINT (-58.4918048 -34.5708421)</td>\n",
       "      <td>unknown</td>\n",
       "      <td>unknown</td>\n",
       "      <td>unknown</td>\n",
       "      <td>unknown</td>\n",
       "      <td>unknown</td>\n",
       "      <td>unknown</td>\n",
       "      <td>unknown</td>\n",
       "      <td>unknown</td>\n",
       "    </tr>\n",
       "    <tr>\n",
       "      <th>3</th>\n",
       "      <td>3</td>\n",
       "      <td>2021-07-17</td>\n",
       "      <td>2021-10-16</td>\n",
       "      <td>-34.589251</td>\n",
       "      <td>-58.402106</td>\n",
       "      <td>Recoleta</td>\n",
       "      <td>Departamento</td>\n",
       "      <td>3.0</td>\n",
       "      <td>2.0</td>\n",
       "      <td>60.0</td>\n",
       "      <td>...</td>\n",
       "      <td>Excelente 3 ambientes en venta en Barrio Recoleta</td>\n",
       "      <td>POINT (-58.4021058 -34.5892511)</td>\n",
       "      <td>unknown</td>\n",
       "      <td>unknown</td>\n",
       "      <td>unknown</td>\n",
       "      <td>unknown</td>\n",
       "      <td>unknown</td>\n",
       "      <td>unknown</td>\n",
       "      <td>unknown</td>\n",
       "      <td>unknown</td>\n",
       "    </tr>\n",
       "    <tr>\n",
       "      <th>4</th>\n",
       "      <td>4</td>\n",
       "      <td>2021-07-02</td>\n",
       "      <td>2022-02-09</td>\n",
       "      <td>-34.626290</td>\n",
       "      <td>-58.437632</td>\n",
       "      <td>Caballito</td>\n",
       "      <td>Departamento</td>\n",
       "      <td>3.0</td>\n",
       "      <td>2.0</td>\n",
       "      <td>67.0</td>\n",
       "      <td>...</td>\n",
       "      <td>VENTA DEPARTAMENTO 3 AMB. EN CABALLITO</td>\n",
       "      <td>POINT (-58.4376325 -34.6262899)</td>\n",
       "      <td>unknown</td>\n",
       "      <td>unknown</td>\n",
       "      <td>unknown</td>\n",
       "      <td>unknown</td>\n",
       "      <td>unknown</td>\n",
       "      <td>unknown</td>\n",
       "      <td>unknown</td>\n",
       "      <td>unknown</td>\n",
       "    </tr>\n",
       "    <tr>\n",
       "      <th>...</th>\n",
       "      <td>...</td>\n",
       "      <td>...</td>\n",
       "      <td>...</td>\n",
       "      <td>...</td>\n",
       "      <td>...</td>\n",
       "      <td>...</td>\n",
       "      <td>...</td>\n",
       "      <td>...</td>\n",
       "      <td>...</td>\n",
       "      <td>...</td>\n",
       "      <td>...</td>\n",
       "      <td>...</td>\n",
       "      <td>...</td>\n",
       "      <td>...</td>\n",
       "      <td>...</td>\n",
       "      <td>...</td>\n",
       "      <td>...</td>\n",
       "      <td>...</td>\n",
       "      <td>...</td>\n",
       "      <td>...</td>\n",
       "      <td>...</td>\n",
       "    </tr>\n",
       "    <tr>\n",
       "      <th>92874</th>\n",
       "      <td>18571</td>\n",
       "      <td>2021-02-13</td>\n",
       "      <td>2021-03-01</td>\n",
       "      <td>-34.594510</td>\n",
       "      <td>-58.413521</td>\n",
       "      <td>Barrio Norte</td>\n",
       "      <td>Departamento</td>\n",
       "      <td>3.0</td>\n",
       "      <td>2.0</td>\n",
       "      <td>60.0</td>\n",
       "      <td>...</td>\n",
       "      <td>VENTA DEPARTAMENTO 3 AMBIENTES BALCÓN FRENTE 3...</td>\n",
       "      <td>POINT (-58.413521 -34.59451)</td>\n",
       "      <td>unknown</td>\n",
       "      <td>unknown</td>\n",
       "      <td>sí</td>\n",
       "      <td>unknown</td>\n",
       "      <td>unknown</td>\n",
       "      <td>unknown</td>\n",
       "      <td>unknown</td>\n",
       "      <td>unknown</td>\n",
       "    </tr>\n",
       "    <tr>\n",
       "      <th>92875</th>\n",
       "      <td>18572</td>\n",
       "      <td>2021-08-20</td>\n",
       "      <td>2200-12-31</td>\n",
       "      <td>-34.540767</td>\n",
       "      <td>-58.466694</td>\n",
       "      <td>Nuñez</td>\n",
       "      <td>Casa</td>\n",
       "      <td>4.0</td>\n",
       "      <td>3.0</td>\n",
       "      <td>210.0</td>\n",
       "      <td>...</td>\n",
       "      <td>Casa - Nuñez</td>\n",
       "      <td>POINT (-58.4666936 -34.5407667)</td>\n",
       "      <td>unknown</td>\n",
       "      <td>unknown</td>\n",
       "      <td>unknown</td>\n",
       "      <td>unknown</td>\n",
       "      <td>unknown</td>\n",
       "      <td>unknown</td>\n",
       "      <td>unknown</td>\n",
       "      <td>unknown</td>\n",
       "    </tr>\n",
       "    <tr>\n",
       "      <th>92876</th>\n",
       "      <td>18573</td>\n",
       "      <td>2021-09-08</td>\n",
       "      <td>2021-10-14</td>\n",
       "      <td>-34.586723</td>\n",
       "      <td>-58.402579</td>\n",
       "      <td>Recoleta</td>\n",
       "      <td>Departamento</td>\n",
       "      <td>2.0</td>\n",
       "      <td>1.0</td>\n",
       "      <td>35.0</td>\n",
       "      <td>...</td>\n",
       "      <td>Recoleta 2 amb Oportunidad</td>\n",
       "      <td>POINT (-58.4025792 -34.5867234)</td>\n",
       "      <td>unknown</td>\n",
       "      <td>unknown</td>\n",
       "      <td>unknown</td>\n",
       "      <td>unknown</td>\n",
       "      <td>unknown</td>\n",
       "      <td>unknown</td>\n",
       "      <td>unknown</td>\n",
       "      <td>unknown</td>\n",
       "    </tr>\n",
       "    <tr>\n",
       "      <th>92877</th>\n",
       "      <td>18574</td>\n",
       "      <td>2021-01-12</td>\n",
       "      <td>2021-06-05</td>\n",
       "      <td>-34.579607</td>\n",
       "      <td>-58.489898</td>\n",
       "      <td>Villa Urquiza</td>\n",
       "      <td>Departamento</td>\n",
       "      <td>4.0</td>\n",
       "      <td>3.0</td>\n",
       "      <td>76.0</td>\n",
       "      <td>...</td>\n",
       "      <td>4 ambientes al contrafrente con balcón y coche...</td>\n",
       "      <td>POINT (-58.4898982 -34.579607)</td>\n",
       "      <td>unknown</td>\n",
       "      <td>unknown</td>\n",
       "      <td>sí</td>\n",
       "      <td>sí</td>\n",
       "      <td>unknown</td>\n",
       "      <td>unknown</td>\n",
       "      <td>unknown</td>\n",
       "      <td>unknown</td>\n",
       "    </tr>\n",
       "    <tr>\n",
       "      <th>92878</th>\n",
       "      <td>18575</td>\n",
       "      <td>2021-05-29</td>\n",
       "      <td>2022-02-09</td>\n",
       "      <td>-34.595270</td>\n",
       "      <td>-58.497952</td>\n",
       "      <td>Agronomía</td>\n",
       "      <td>PH</td>\n",
       "      <td>3.0</td>\n",
       "      <td>3.0</td>\n",
       "      <td>145.0</td>\n",
       "      <td>...</td>\n",
       "      <td>Venta PH a Estrenar 3/4 Amb c/ cochera</td>\n",
       "      <td>POINT (-58.4979516 -34.5952703)</td>\n",
       "      <td>sí</td>\n",
       "      <td>unknown</td>\n",
       "      <td>unknown</td>\n",
       "      <td>sí</td>\n",
       "      <td>unknown</td>\n",
       "      <td>unknown</td>\n",
       "      <td>unknown</td>\n",
       "      <td>unknown</td>\n",
       "    </tr>\n",
       "  </tbody>\n",
       "</table>\n",
       "<p>92879 rows × 22 columns</p>\n",
       "</div>"
      ],
      "text/plain": [
       "       index  start_date    end_date    latitud   longitud         barrio  \\\n",
       "0          0  2021-12-15  2021-12-25 -34.555049 -58.490513       Saavedra   \n",
       "1          1  2021-05-20  2021-06-05 -34.546991 -58.478553       Saavedra   \n",
       "2          2  2021-03-20  2021-04-16 -34.570842 -58.491805  Villa Urquiza   \n",
       "3          3  2021-07-17  2021-10-16 -34.589251 -58.402106       Recoleta   \n",
       "4          4  2021-07-02  2022-02-09 -34.626290 -58.437632      Caballito   \n",
       "...      ...         ...         ...        ...        ...            ...   \n",
       "92874  18571  2021-02-13  2021-03-01 -34.594510 -58.413521   Barrio Norte   \n",
       "92875  18572  2021-08-20  2200-12-31 -34.540767 -58.466694          Nuñez   \n",
       "92876  18573  2021-09-08  2021-10-14 -34.586723 -58.402579       Recoleta   \n",
       "92877  18574  2021-01-12  2021-06-05 -34.579607 -58.489898  Villa Urquiza   \n",
       "92878  18575  2021-05-29  2022-02-09 -34.595270 -58.497952      Agronomía   \n",
       "\n",
       "      property_type  property_rooms  property_bedrooms  \\\n",
       "0      Departamento             2.0                1.0   \n",
       "1      Departamento             2.0                1.0   \n",
       "2      Departamento             2.0                1.0   \n",
       "3      Departamento             3.0                2.0   \n",
       "4      Departamento             3.0                2.0   \n",
       "...             ...             ...                ...   \n",
       "92874  Departamento             3.0                2.0   \n",
       "92875          Casa             4.0                3.0   \n",
       "92876  Departamento             2.0                1.0   \n",
       "92877  Departamento             4.0                3.0   \n",
       "92878            PH             3.0                3.0   \n",
       "\n",
       "       property_surface_total  ...  \\\n",
       "0                        58.0  ...   \n",
       "1                        48.0  ...   \n",
       "2                        62.0  ...   \n",
       "3                        60.0  ...   \n",
       "4                        67.0  ...   \n",
       "...                       ...  ...   \n",
       "92874                    60.0  ...   \n",
       "92875                   210.0  ...   \n",
       "92876                    35.0  ...   \n",
       "92877                    76.0  ...   \n",
       "92878                   145.0  ...   \n",
       "\n",
       "                                          property_title  \\\n",
       "0                                Departamento - Saavedra   \n",
       "1                                Departamento - Saavedra   \n",
       "2      Venta Depto 2 amb Anticipo + Cuotas CAC V. Urq...   \n",
       "3      Excelente 3 ambientes en venta en Barrio Recoleta   \n",
       "4                 VENTA DEPARTAMENTO 3 AMB. EN CABALLITO   \n",
       "...                                                  ...   \n",
       "92874  VENTA DEPARTAMENTO 3 AMBIENTES BALCÓN FRENTE 3...   \n",
       "92875                                       Casa - Nuñez   \n",
       "92876                         Recoleta 2 amb Oportunidad   \n",
       "92877  4 ambientes al contrafrente con balcón y coche...   \n",
       "92878            Venta PH a Estrenar 3/4 Amb c/ cochera    \n",
       "\n",
       "                              geometry a_estrenar patio_jardin   balcon  \\\n",
       "0      POINT (-58.4905135 -34.5550487)    unknown      unknown  unknown   \n",
       "1       POINT (-58.4785532 -34.546991)    unknown      unknown  unknown   \n",
       "2      POINT (-58.4918048 -34.5708421)    unknown      unknown  unknown   \n",
       "3      POINT (-58.4021058 -34.5892511)    unknown      unknown  unknown   \n",
       "4      POINT (-58.4376325 -34.6262899)    unknown      unknown  unknown   \n",
       "...                                ...        ...          ...      ...   \n",
       "92874     POINT (-58.413521 -34.59451)    unknown      unknown       sí   \n",
       "92875  POINT (-58.4666936 -34.5407667)    unknown      unknown  unknown   \n",
       "92876  POINT (-58.4025792 -34.5867234)    unknown      unknown  unknown   \n",
       "92877   POINT (-58.4898982 -34.579607)    unknown      unknown       sí   \n",
       "92878  POINT (-58.4979516 -34.5952703)         sí      unknown  unknown   \n",
       "\n",
       "       cochera   pileta parrilla  terraza monoambiente  \n",
       "0      unknown  unknown  unknown  unknown      unknown  \n",
       "1      unknown  unknown  unknown  unknown      unknown  \n",
       "2      unknown  unknown  unknown  unknown      unknown  \n",
       "3      unknown  unknown  unknown  unknown      unknown  \n",
       "4      unknown  unknown  unknown  unknown      unknown  \n",
       "...        ...      ...      ...      ...          ...  \n",
       "92874  unknown  unknown  unknown  unknown      unknown  \n",
       "92875  unknown  unknown  unknown  unknown      unknown  \n",
       "92876  unknown  unknown  unknown  unknown      unknown  \n",
       "92877       sí  unknown  unknown  unknown      unknown  \n",
       "92878       sí  unknown  unknown  unknown      unknown  \n",
       "\n",
       "[92879 rows x 22 columns]"
      ]
     },
     "execution_count": 9,
     "metadata": {},
     "output_type": "execute_result"
    }
   ],
   "source": [
    "viviendas"
   ]
  },
  {
   "cell_type": "markdown",
   "metadata": {},
   "source": [
    "## b) Modelos"
   ]
  },
  {
   "cell_type": "markdown",
   "metadata": {},
   "source": [
    "### Preprocesamiento"
   ]
  },
  {
   "cell_type": "code",
   "execution_count": 10,
   "metadata": {},
   "outputs": [],
   "source": [
    "viviendas.loc[:,\"a_estrenar\"].replace(to_replace=['unknown','sí'],value=[0,1],inplace=True)\n",
    "viviendas.loc[:,\"patio_jardin\"].replace(to_replace=['unknown','sí'],value=[0,1],inplace=True)\n",
    "viviendas.loc[:,\"balcon\"].replace(to_replace=['unknown','sí'],value=[0,1],inplace=True)\n",
    "viviendas.loc[:,\"cochera\"].replace(to_replace=['unknown','sí'],value=[0,1],inplace=True)\n",
    "viviendas.loc[:,\"pileta\"].replace(to_replace=['unknown','sí'],value=[0,1],inplace=True)\n",
    "viviendas.loc[:,\"parrilla\"].replace(to_replace=['unknown','sí'],value=[0,1],inplace=True)\n",
    "viviendas.loc[:,\"terraza\"].replace(to_replace=['unknown','sí'],value=[0,1],inplace=True)\n",
    "viviendas.loc[:,\"monoambiente\"].replace(to_replace=['unknown','sí'],value=[0,1],inplace=True)"
   ]
  },
  {
   "cell_type": "code",
   "execution_count": 11,
   "metadata": {},
   "outputs": [],
   "source": [
    "viviendas_train, viviendas_test = train_test_split(viviendas, test_size=0.2, random_state=2)\n",
    "x_train_ampliado = viviendas_train[['latitud','longitud', 'property_surface_total', 'property_surface_covered', 'a_estrenar', 'patio_jardin', 'balcon', 'cochera', 'pileta', 'parrilla', 'terraza', 'monoambiente']]\n",
    "x_test_ampliado = viviendas_test[['latitud','longitud', 'property_surface_total', 'property_surface_covered', 'a_estrenar', 'patio_jardin', 'balcon', 'cochera', 'pileta', 'parrilla', 'terraza', 'monoambiente']]\n",
    "\n",
    "y_train_ampliado = viviendas_train.property_price\n",
    "y_test_ampliado = viviendas_test.property_price"
   ]
  },
  {
   "cell_type": "code",
   "execution_count": 12,
   "metadata": {},
   "outputs": [],
   "source": [
    "scaler = MinMaxScaler() \n",
    "x_train_ampliado = scaler.fit_transform(x_train_ampliado)\n",
    "x_test_ampliado = scaler.transform(x_test_ampliado)"
   ]
  },
  {
   "cell_type": "markdown",
   "metadata": {},
   "source": [
    "### Utilizando los mismos hiperparámetros seleccionados en el TP 1"
   ]
  },
  {
   "cell_type": "code",
   "execution_count": 13,
   "metadata": {},
   "outputs": [
    {
     "data": {
      "text/plain": [
       "\"\\nrand_xgb_params_tp1 = joblib.load('./TP1/Models/rand_xgb')\\nrand_xgb_params_tp1.fit(x_train_ampliado, y_train_ampliado)\\njoblib.dump(rand_xgb_params_tp1, './Models/xgb_ampliado_params_tp1')\\n\""
      ]
     },
     "execution_count": 13,
     "metadata": {},
     "output_type": "execute_result"
    }
   ],
   "source": [
    "\"\"\"\n",
    "rand_xgb_params_tp1 = joblib.load('./TP1/Models/rand_xgb')\n",
    "rand_xgb_params_tp1.fit(x_train_ampliado, y_train_ampliado)\n",
    "joblib.dump(rand_xgb_params_tp1, './Models/xgb_ampliado_params_tp1')\n",
    "\"\"\""
   ]
  },
  {
   "cell_type": "code",
   "execution_count": 14,
   "metadata": {},
   "outputs": [],
   "source": [
    "rand_xgb_ampliado_params_tp1 = joblib.load('./Models/xgb_ampliado_params_tp1')\n",
    "best_xgb_regressor_ampliado_params_tp1 = rand_xgb_ampliado_params_tp1.best_estimator_"
   ]
  },
  {
   "cell_type": "code",
   "execution_count": 15,
   "metadata": {},
   "outputs": [
    {
     "name": "stdout",
     "output_type": "stream",
     "text": [
      "Coef. de Determinación R2: 0.9107357812035757\n",
      "Coef. de Determinación R2 ajustado: 0.9107165546204522\n",
      "El error (mse) de test es: 7961554870.09518\n",
      "El error (rmse) de test es: 89227.54546716603\n"
     ]
    }
   ],
   "source": [
    "#Predicción con mejor estimador\n",
    "y_pred_test_xgb = best_xgb_regressor_ampliado_params_tp1.predict(x_test_ampliado)\n",
    "\n",
    "#Coef. de Determinación R2\n",
    "r2_score_test_xgb = r2_score(y_test_ampliado, y_pred_test_xgb)\n",
    "print(f'Coef. de Determinación R2: {r2_score_test_xgb}')\n",
    "\n",
    "#Coef. de Determinación R2 ajustado\n",
    "n = x_test_ampliado.shape[0] #n = count of rows in your dataset used for train or test\n",
    "p = 4 #p = count of independent variables\n",
    "print(f'Coef. de Determinación R2 ajustado: {1-(1-r2_score_test_xgb)*(n-1)/(n-p-1)}')\n",
    "\n",
    "#Mean Square Error\n",
    "mse = metrics.mean_squared_error(\n",
    "        y_true  = y_test_ampliado,\n",
    "        y_pred  = y_pred_test_xgb,\n",
    "        squared = True\n",
    "       )\n",
    "\n",
    "print(f\"El error (mse) de test es: {mse}\")\n",
    "\n",
    "#Root Mean Square Error\n",
    "rmse = metrics.mean_squared_error(\n",
    "        y_true  = y_test_ampliado,\n",
    "        y_pred  = y_pred_test_xgb,\n",
    "        squared = False\n",
    "       )\n",
    "\n",
    "print(f\"El error (rmse) de test es: {rmse}\")"
   ]
  },
  {
   "cell_type": "markdown",
   "metadata": {},
   "source": [
    "Vemos que las metricas con el dataset ampliado mejoran considerablemente en comparacion con las del dataset sin ampliar.  \n",
    "  \n",
    "  Metricas sin ampliar:  \n",
    "+    Coef. de Determinación R2: 0.9019645365048344  \n",
    "+    Coef. de Determinación R2 ajustado: 0.9019434206869473  \n",
    "+    El error (mse) de test es: 9168434434.619144  \n",
    "+    El error (rmse) de test es: 95751.94219763453  "
   ]
  },
  {
   "cell_type": "code",
   "execution_count": 16,
   "metadata": {},
   "outputs": [],
   "source": [
    "def porcentaje_de_cambio_de_metricas(nombre_metrica, metrica_nueva, metrica_anterior):\n",
    "    porcentaje = round(metrica_nueva*100/ metrica_anterior -100,3)\n",
    "    if nombre_metrica == 'R2' or 'R2 ajustado':\n",
    "        if porcentaje < 0:\n",
    "            print(f'la metrica {nombre_metrica} es un {-porcentaje}% peor')\n",
    "        else:\n",
    "            print(f'la metrica {nombre_metrica} es un {porcentaje}% mejor')\n",
    "\n",
    "    elif nombre_metrica == 'RMSE' or 'MSE':\n",
    "        if porcentaje > 0:\n",
    "            print(f'la metrica {nombre_metrica} es un {-porcentaje}% peor')\n",
    "        else:\n",
    "            print(f'la metrica {nombre_metrica} es un {porcentaje}% mejor')\n"
   ]
  },
  {
   "attachments": {},
   "cell_type": "markdown",
   "metadata": {},
   "source": [
    "Cambio de métricas respecto al dataset sin ampliar (con mismos hiperparametros):"
   ]
  },
  {
   "cell_type": "code",
   "execution_count": 17,
   "metadata": {},
   "outputs": [
    {
     "name": "stdout",
     "output_type": "stream",
     "text": [
      "la metrica R2 es un 0.972% mejor\n",
      "la metrica RMSE es un 6.814% peor\n"
     ]
    }
   ],
   "source": [
    "porcentaje_de_cambio_de_metricas('R2', 0.9107357812035757, 0.9019645365048344)\n",
    "porcentaje_de_cambio_de_metricas('RMSE', 89227.54546716603, 95751.94219763453 )"
   ]
  },
  {
   "cell_type": "markdown",
   "metadata": {},
   "source": [
    "### Utilizando hiperparametros optimizados con el nuevo dataset ampliado."
   ]
  },
  {
   "attachments": {},
   "cell_type": "markdown",
   "metadata": {},
   "source": [
    "decidimos usar GridSearchCV, porque usando RandomSearchCV no obteníamos hiperparámetros distintos a los del dataset sin ampliar"
   ]
  },
  {
   "cell_type": "code",
   "execution_count": 18,
   "metadata": {},
   "outputs": [
    {
     "data": {
      "text/plain": [
       "\"#Grilla de Parámetros\\nparams_grid = {\\n    'n_estimators': [100, 400, 800],\\n    'max_depth': [3, 6, 9],\\n    'learning_rate': [0.05, 0.1, 0.20],\\n    'min_child_weight': [1, 10, 100]\\n    }\\n\\n#Clasificador KNN\\nxgb_regressor_ampliado = xgb.XGBRegressor()\\n\\ngrid_xgb_ampliado_param_tp2 = GridSearchCV(xgb_regressor_ampliado, params_grid, cv=5, scoring='r2')\\n\\ngrid_xgb_ampliado_param_tp2.fit(x_train_ampliado, y_train_ampliado)\\njoblib.dump(grid_xgb_ampliado_param_tp2, './Models/grid_xgb_ampliado_param_tp2')\\n\""
      ]
     },
     "execution_count": 18,
     "metadata": {},
     "output_type": "execute_result"
    }
   ],
   "source": [
    "\"\"\"#Grilla de Parámetros\n",
    "params_grid = {\n",
    "    'n_estimators': [100, 400, 800],\n",
    "    'max_depth': [3, 6, 9],\n",
    "    'learning_rate': [0.05, 0.1, 0.20],\n",
    "    'min_child_weight': [1, 10, 100]\n",
    "    }\n",
    "\n",
    "#Clasificador KNN\n",
    "xgb_regressor_ampliado = xgb.XGBRegressor()\n",
    "\n",
    "grid_xgb_ampliado_param_tp2 = GridSearchCV(xgb_regressor_ampliado, params_grid, cv=5, scoring='r2')\n",
    "\n",
    "grid_xgb_ampliado_param_tp2.fit(x_train_ampliado, y_train_ampliado)\n",
    "joblib.dump(grid_xgb_ampliado_param_tp2, './Models/grid_xgb_ampliado_param_tp2')\n",
    "\"\"\""
   ]
  },
  {
   "cell_type": "code",
   "execution_count": 19,
   "metadata": {},
   "outputs": [],
   "source": [
    "grid_xgb_ampliado_param_tp2 = joblib.load('./Models/grid_xgb_ampliado_param_tp2')\n",
    "best_xgb_ampliado_param_tp2 = grid_xgb_ampliado_param_tp2.best_estimator_"
   ]
  },
  {
   "cell_type": "code",
   "execution_count": 20,
   "metadata": {},
   "outputs": [
    {
     "name": "stdout",
     "output_type": "stream",
     "text": [
      "Coef. de Determinación R2: 0.9127994404557074\n",
      "Coef. de Determinación R2 ajustado: 0.912743069895209\n",
      "El error (mse) de test es: 7777495270.509185\n",
      "El error (rmse) de test es: 88190.10868861193\n"
     ]
    }
   ],
   "source": [
    "#Predicción con mejor estimador\n",
    "y_pred_test_xgb = best_xgb_ampliado_param_tp2.predict(x_test_ampliado)\n",
    "\n",
    "#Coef. de Determinación R2\n",
    "r2_score_test_xgb = r2_score(y_test_ampliado, y_pred_test_xgb)\n",
    "print(f'Coef. de Determinación R2: {r2_score_test_xgb}')\n",
    "\n",
    "#Coef. de Determinación R2 ajustado\n",
    "n = x_test_ampliado.shape[0] #n = count of rows in your dataset used for train or test\n",
    "p = 12 #p = count of independent variables\n",
    "print(f'Coef. de Determinación R2 ajustado: {1-(1-r2_score_test_xgb)*(n-1)/(n-p-1)}')\n",
    "\n",
    "#Mean Square Error\n",
    "mse = metrics.mean_squared_error(\n",
    "        y_true  = y_test_ampliado,\n",
    "        y_pred  = y_pred_test_xgb,\n",
    "        squared = True\n",
    "       )\n",
    "\n",
    "print(f\"El error (mse) de test es: {mse}\")\n",
    "\n",
    "#Root Mean Square Error\n",
    "rmse = metrics.mean_squared_error(\n",
    "        y_true  = y_test_ampliado,\n",
    "        y_pred  = y_pred_test_xgb,\n",
    "        squared = False\n",
    "       )\n",
    "\n",
    "print(f\"El error (rmse) de test es: {rmse}\")"
   ]
  },
  {
   "cell_type": "code",
   "execution_count": 21,
   "metadata": {},
   "outputs": [
    {
     "data": {
      "text/html": [
       "<div>\n",
       "<style scoped>\n",
       "    .dataframe tbody tr th:only-of-type {\n",
       "        vertical-align: middle;\n",
       "    }\n",
       "\n",
       "    .dataframe tbody tr th {\n",
       "        vertical-align: top;\n",
       "    }\n",
       "\n",
       "    .dataframe thead th {\n",
       "        text-align: right;\n",
       "    }\n",
       "</style>\n",
       "<table border=\"1\" class=\"dataframe\">\n",
       "  <thead>\n",
       "    <tr style=\"text-align: right;\">\n",
       "      <th></th>\n",
       "      <th>Valor Real</th>\n",
       "      <th>Prediccion</th>\n",
       "      <th>Error</th>\n",
       "    </tr>\n",
       "  </thead>\n",
       "  <tbody>\n",
       "    <tr>\n",
       "      <th>63184</th>\n",
       "      <td>69900.0</td>\n",
       "      <td>78191.0</td>\n",
       "      <td>-8291.0</td>\n",
       "    </tr>\n",
       "    <tr>\n",
       "      <th>62628</th>\n",
       "      <td>108000.0</td>\n",
       "      <td>143328.0</td>\n",
       "      <td>-35328.0</td>\n",
       "    </tr>\n",
       "    <tr>\n",
       "      <th>75408</th>\n",
       "      <td>75000.0</td>\n",
       "      <td>104908.0</td>\n",
       "      <td>-29908.0</td>\n",
       "    </tr>\n",
       "    <tr>\n",
       "      <th>49022</th>\n",
       "      <td>420000.0</td>\n",
       "      <td>675072.0</td>\n",
       "      <td>-255072.0</td>\n",
       "    </tr>\n",
       "    <tr>\n",
       "      <th>29265</th>\n",
       "      <td>49900.0</td>\n",
       "      <td>56399.0</td>\n",
       "      <td>-6499.0</td>\n",
       "    </tr>\n",
       "  </tbody>\n",
       "</table>\n",
       "</div>"
      ],
      "text/plain": [
       "       Valor Real  Prediccion     Error\n",
       "63184     69900.0     78191.0   -8291.0\n",
       "62628    108000.0    143328.0  -35328.0\n",
       "75408     75000.0    104908.0  -29908.0\n",
       "49022    420000.0    675072.0 -255072.0\n",
       "29265     49900.0     56399.0   -6499.0"
      ]
     },
     "execution_count": 21,
     "metadata": {},
     "output_type": "execute_result"
    }
   ],
   "source": [
    "performance_train = pd.DataFrame({'Valor Real': y_test_ampliado,\n",
    "                            'Prediccion': y_pred_test_xgb.round(),\n",
    "                            'Error': y_test_ampliado - y_pred_test_xgb.round()})\n",
    "performance_train.head()"
   ]
  },
  {
   "cell_type": "code",
   "execution_count": 22,
   "metadata": {},
   "outputs": [
    {
     "name": "stderr",
     "output_type": "stream",
     "text": [
      "c:\\Users\\iankl\\anaconda3\\lib\\site-packages\\pandas\\plotting\\_matplotlib\\core.py:1080: PendingDeprecationWarning: The get_cmap function will be deprecated in a future version. Use ``matplotlib.colormaps[name]`` or ``matplotlib.colormaps.get_cmap(obj)`` instead.\n",
      "  cmap = self.plt.cm.get_cmap(cmap)\n",
      "c:\\Users\\iankl\\anaconda3\\lib\\site-packages\\pandas\\plotting\\_matplotlib\\core.py:1114: UserWarning: No data for colormapping provided via 'c'. Parameters 'cmap' will be ignored\n",
      "  scatter = ax.scatter(\n"
     ]
    },
    {
     "data": {
      "image/png": "[encoded data removed]",
      "text/plain": [
       "<Figure size 432x288 with 1 Axes>"
      ]
     },
     "metadata": {
      "needs_background": "light"
     },
     "output_type": "display_data"
    }
   ],
   "source": [
    "scatter_real_predict_train = performance_train.plot.scatter(x=\"Valor Real\", y=\"Prediccion\", s=10, c='tab:blue').set(title=\"Valor Real vs Predicción\",xlabel='Valor Real',ylabel='Prediccion') \n"
   ]
  },
  {
   "attachments": {},
   "cell_type": "markdown",
   "metadata": {},
   "source": [
    "Cambio de métricas buscando nuevos hiperparametros"
   ]
  },
  {
   "cell_type": "code",
   "execution_count": 23,
   "metadata": {},
   "outputs": [
    {
     "name": "stdout",
     "output_type": "stream",
     "text": [
      "la metrica R2 es un 0.227% mejor\n",
      "la metrica RMSE es un 1.163% peor\n"
     ]
    }
   ],
   "source": [
    "porcentaje_de_cambio_de_metricas('R2', 0.9127994404557074, 0.9107357812035757)\n",
    "porcentaje_de_cambio_de_metricas('RMSE', 88190.10868861193, 89227.54546716603)"
   ]
  },
  {
   "cell_type": "code",
   "execution_count": null,
   "metadata": {},
   "outputs": [],
   "source": []
  },
  {
   "attachments": {},
   "cell_type": "markdown",
   "metadata": {},
   "source": [
    "# 4. Conclusiones"
   ]
  },
  {
   "attachments": {},
   "cell_type": "markdown",
   "metadata": {},
   "source": [
    "### opciones que hubiesemos explorado y quedaron fuera del alcance de este trabajo"
   ]
  },
  {
   "attachments": {},
   "cell_type": "markdown",
   "metadata": {},
   "source": [
    "+ En cuanto a la primera parte (Ampliación del dataset), se pudo haber usado algun métodos de extracción de conocimiento como lo son ExtrHech, ArgOE, DepOE o ECMes. También se pudieron haber añadido al dataset columnas como cantidad de baños o expensas las cuales tendrían valores extraídos del texto de property_title.\n",
    "\n",
    "+ En cuanto a la segunda parte (Redes Neuronales), se pudo haber probado una grilla con mayor cantidad de hiperparámetros, como por ejemplo reguladores (L1 y L2), early stopping y dropout. Tambien podríamos haber probado otras distintas combinaciones de capas ocultas de neuronas además de probar otro tipo de capas. Se pudo haber probado correr más iteraciones mezclando hiperparámetros.\n",
    "Otra cosa que quedó fuera de nuestro alcance es hacer un ensamble entre nuestros mejores modelos de redes\n",
    "\n",
    "+ En cuanto a la tercera parte podríamos haber usado para los ensambles algunos de nuestros modelos de redes\n",
    "\n",
    "\n"
   ]
  },
  {
   "attachments": {},
   "cell_type": "markdown",
   "metadata": {},
   "source": [
    "### Aspectos relevantes:"
   ]
  },
  {
   "attachments": {},
   "cell_type": "markdown",
   "metadata": {},
   "source": [
    "+ Parte 1: Procesamiento de Lenguaje Natural\n",
    "  + Para elegir las nuevas columnas buscamos las palabras con más apariciones ordenadas de mayor a menor, y luego elegimos algunas de estas palabras que creímos que aportaban valor.\n",
    "  + La ampliación del dataset contribuyó a mejorar el resultado de XGBoost pero al volver a buscar \"mejores hiperparametros\" llegamos prácticamente a lo mismo, ya que creemos que las nuevas columnas no agregan suficiente informacion como para conseguir mejores métricas con distintos hiperparametros. \n",
    "  + Dado las mejoras en los resultados de XGBoost concluimos que nuestras nuevas columnas sí aportan valor al dataset original, lo que es lógico por su naturaleza. Por ejemplo la columna \"a_estrenar\" aporta mucho valor, ya que no es lo mismo una vivienda nueva que usada.  \n",
    "<br />\n",
    "    \n",
    "+ Parte 2: Redes Neuronales  \n",
    "  + Corrimos muchos modelos de redes con diferentes combinaciones de hiperparametros sobre datasets reducidos y seleccionamos los que daban mejores resultados, y los corrimos sobre el dataset completo para así quedarnos con el mejor modelo.\n",
    "  + Los resultados obtenidos no cumplieron las espectativas (ni en regresion ni en clasificacion) ya que los modelos utilizados en el TP1 dieron mejores métricas\n",
    "  + Creemos que esto se puede deber a varios motivos:\n",
    "    + Mala seleccion de hiperparametros y capas\n",
    "    + Mala adaptacion de las redes a nuestrio problema\n",
    "\n",
    "<br /> \n",
    "\n",
    "+ Parte 3: Ensambles de Modelos\n",
    "  + \n",
    "  + \n",
    "  + \n",
    "  "
   ]
  },
  {
   "cell_type": "markdown",
   "metadata": {},
   "source": []
  }
 ],
 "metadata": {
  "kernelspec": {
   "display_name": "Python 3.9.12 ('base')",
   "language": "python",
   "name": "python3"
  },
  "language_info": {
   "codemirror_mode": {
    "name": "ipython",
    "version": 3
   },
   "file_extension": ".py",
   "mimetype": "text/x-python",
   "name": "python",
   "nbconvert_exporter": "python",
   "pygments_lexer": "ipython3",
   "version": "3.9.12"
  },
  "orig_nbformat": 4,
  "vscode": {
   "interpreter": {
    "hash": "4b4bfd882b72278d2fc01f7f7f865a6b413108d571dd02a132c40c7c94589e02"
   }
  }
 },
 "nbformat": 4,
 "nbformat_minor": 2
}
