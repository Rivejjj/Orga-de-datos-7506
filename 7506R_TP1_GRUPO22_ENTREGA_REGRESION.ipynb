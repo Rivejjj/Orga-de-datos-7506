{
 "cells": [
  {
   "cell_type": "markdown",
   "metadata": {},
   "source": [
    "# <center>Organizaci&oacute;n de Datos</center>\n",
    "#### <center>C&aacute;tedra Ing. Rodriguez, Juan Manuel </center>\n",
    "\n",
    "## <center>Trabajo Práctico 1 : Propiedades en Venta</center>\n",
    "## <center>Parte 4</center>\n",
    "### <center> Grupo 22 </center>\n",
    "### <center> Integrantes: </center>\n",
    "##### <center> Federico Martin Forte,  Francisco Sobral,  Ian Klaus von der Heyde,  Juan Pablo Aschieri,  Joaquin Rivero  </center>"
   ]
  },
  {
   "cell_type": "markdown",
   "metadata": {},
   "source": [
    "# Carga de Datos y librerías"
   ]
  },
  {
   "cell_type": "code",
   "execution_count": 32,
   "metadata": {},
   "outputs": [],
   "source": [
    "import pandas as pd\n",
    "\n",
    "import seaborn as sns\n",
    "import matplotlib.pyplot as plt\n",
    "import numpy as np\n",
    "import geopandas as gp\n",
    "\n",
    "from sklearn.model_selection import train_test_split, cross_val_score\n",
    "from sklearn.cluster import KMeans\n",
    "from sklearn import preprocessing\n",
    "from sklearn.metrics import silhouette_score\n",
    "\n",
    "from pyclustertend import hopkins\n",
    "from yellowbrick.cluster import SilhouetteVisualizer\n",
    "\n",
    "from IPython.display import Image\n",
    "from sklearn.neighbors import KNeighborsRegressor\n",
    "from sklearn import metrics\n",
    "from sklearn.preprocessing import StandardScaler\n",
    "from sklearn.model_selection import RandomizedSearchCV\n",
    "from sklearn.preprocessing import LabelEncoder\n",
    "from sklearn.metrics import r2_score\n",
    "from sklearn.preprocessing import MinMaxScaler"
   ]
  },
  {
   "cell_type": "code",
   "execution_count": 33,
   "metadata": {},
   "outputs": [],
   "source": [
    "viviendas_caba_train=pd.read_csv('./Datasets/viviendas_caba_train.csv').copy()\n",
    "viviendas_caba_test=pd.read_csv('./Datasets/viviendas_caba_test.csv').copy()\n",
    "viviendas_caba=pd.read_csv('./Datasets/viviendas_caba.csv').copy()\n",
    "\n",
    "pca_df=pd.read_csv('./Datasets/pca_properati_argentina_2021.csv').copy()\n",
    "\n",
    "poly = gp.read_file(r'./Datasets/barrios_procesados.geojson')"
   ]
  },
  {
   "cell_type": "markdown",
   "metadata": {},
   "source": [
    "# 2. Regresión"
   ]
  },
  {
   "cell_type": "markdown",
   "metadata": {},
   "source": [
    "## Modelo 1: KNN"
   ]
  },
  {
   "cell_type": "markdown",
   "metadata": {},
   "source": [
    "### Dataset completo:"
   ]
  },
  {
   "cell_type": "markdown",
   "metadata": {},
   "source": [
    "#### Eleccion de variables regresoras"
   ]
  },
  {
   "cell_type": "markdown",
   "metadata": {},
   "source": [
    "**Realizamos Encoding**\n",
    "\n",
    "para variable property_type y barrio"
   ]
  },
  {
   "cell_type": "code",
   "execution_count": 34,
   "metadata": {},
   "outputs": [
    {
     "data": {
      "text/html": [
       "<div>\n",
       "<style scoped>\n",
       "    .dataframe tbody tr th:only-of-type {\n",
       "        vertical-align: middle;\n",
       "    }\n",
       "\n",
       "    .dataframe tbody tr th {\n",
       "        vertical-align: top;\n",
       "    }\n",
       "\n",
       "    .dataframe thead th {\n",
       "        text-align: right;\n",
       "    }\n",
       "</style>\n",
       "<table border=\"1\" class=\"dataframe\">\n",
       "  <thead>\n",
       "    <tr style=\"text-align: right;\">\n",
       "      <th></th>\n",
       "      <th>start_date</th>\n",
       "      <th>end_date</th>\n",
       "      <th>latitud</th>\n",
       "      <th>longitud</th>\n",
       "      <th>barrio</th>\n",
       "      <th>property_type</th>\n",
       "      <th>property_rooms</th>\n",
       "      <th>property_bedrooms</th>\n",
       "      <th>property_surface_total</th>\n",
       "      <th>property_surface_covered</th>\n",
       "      <th>property_price</th>\n",
       "      <th>property_title</th>\n",
       "      <th>geometry</th>\n",
       "    </tr>\n",
       "  </thead>\n",
       "  <tbody>\n",
       "    <tr>\n",
       "      <th>0</th>\n",
       "      <td>2021-09-09</td>\n",
       "      <td>2021-09-26</td>\n",
       "      <td>-34.637319</td>\n",
       "      <td>-58.361124</td>\n",
       "      <td>7</td>\n",
       "      <td>1</td>\n",
       "      <td>3.0</td>\n",
       "      <td>2.0</td>\n",
       "      <td>58.0</td>\n",
       "      <td>55.0</td>\n",
       "      <td>82900.0</td>\n",
       "      <td>VENTA TRES AMBIENTES LA BOCA PISO ALTO</td>\n",
       "      <td>POINT (-58.361124 -34.6373187)</td>\n",
       "    </tr>\n",
       "    <tr>\n",
       "      <th>1</th>\n",
       "      <td>2021-09-09</td>\n",
       "      <td>2021-09-28</td>\n",
       "      <td>-34.628647</td>\n",
       "      <td>-58.361871</td>\n",
       "      <td>7</td>\n",
       "      <td>1</td>\n",
       "      <td>4.0</td>\n",
       "      <td>3.0</td>\n",
       "      <td>70.0</td>\n",
       "      <td>70.0</td>\n",
       "      <td>99000.0</td>\n",
       "      <td>Departamento - 4 Ambientes - Catalinas Sur</td>\n",
       "      <td>POINT (-58.3618713 -34.6286465)</td>\n",
       "    </tr>\n",
       "  </tbody>\n",
       "</table>\n",
       "</div>"
      ],
      "text/plain": [
       "   start_date    end_date    latitud   longitud  barrio  property_type  \\\n",
       "0  2021-09-09  2021-09-26 -34.637319 -58.361124       7              1   \n",
       "1  2021-09-09  2021-09-28 -34.628647 -58.361871       7              1   \n",
       "\n",
       "   property_rooms  property_bedrooms  property_surface_total  \\\n",
       "0             3.0                2.0                    58.0   \n",
       "1             4.0                3.0                    70.0   \n",
       "\n",
       "   property_surface_covered  property_price  \\\n",
       "0                      55.0         82900.0   \n",
       "1                      70.0         99000.0   \n",
       "\n",
       "                               property_title                         geometry  \n",
       "0      VENTA TRES AMBIENTES LA BOCA PISO ALTO   POINT (-58.361124 -34.6373187)  \n",
       "1  Departamento - 4 Ambientes - Catalinas Sur  POINT (-58.3618713 -34.6286465)  "
      ]
     },
     "execution_count": 34,
     "metadata": {},
     "output_type": "execute_result"
    }
   ],
   "source": [
    "viviendas_caba_encoded = viviendas_caba.copy()\n",
    "viviendas_caba_encoded['property_type'] = LabelEncoder().fit_transform(viviendas_caba['property_type'])\n",
    "viviendas_caba_encoded['barrio'] = LabelEncoder().fit_transform(viviendas_caba['barrio'])\n",
    "viviendas_caba_encoded.head(2)"
   ]
  },
  {
   "cell_type": "code",
   "execution_count": 35,
   "metadata": {},
   "outputs": [
    {
     "data": {
      "text/html": [
       "<style type=\"text/css\">\n",
       "#T_9a000_row0_col0, #T_9a000_row1_col1, #T_9a000_row2_col2, #T_9a000_row3_col3, #T_9a000_row4_col4, #T_9a000_row5_col5, #T_9a000_row6_col6, #T_9a000_row7_col7, #T_9a000_row8_col8 {\n",
       "  background-color: #b40426;\n",
       "  color: #f1f1f1;\n",
       "}\n",
       "#T_9a000_row0_col1 {\n",
       "  background-color: #5673e0;\n",
       "  color: #f1f1f1;\n",
       "}\n",
       "#T_9a000_row0_col2, #T_9a000_row6_col2 {\n",
       "  background-color: #81a4fb;\n",
       "  color: #f1f1f1;\n",
       "}\n",
       "#T_9a000_row0_col3, #T_9a000_row2_col8, #T_9a000_row4_col3 {\n",
       "  background-color: #5d7ce6;\n",
       "  color: #f1f1f1;\n",
       "}\n",
       "#T_9a000_row0_col4 {\n",
       "  background-color: #455cce;\n",
       "  color: #f1f1f1;\n",
       "}\n",
       "#T_9a000_row0_col5 {\n",
       "  background-color: #465ecf;\n",
       "  color: #f1f1f1;\n",
       "}\n",
       "#T_9a000_row0_col6, #T_9a000_row2_col7 {\n",
       "  background-color: #6f92f3;\n",
       "  color: #f1f1f1;\n",
       "}\n",
       "#T_9a000_row0_col7, #T_9a000_row6_col1 {\n",
       "  background-color: #7b9ff9;\n",
       "  color: #f1f1f1;\n",
       "}\n",
       "#T_9a000_row0_col8 {\n",
       "  background-color: #92b4fe;\n",
       "  color: #000000;\n",
       "}\n",
       "#T_9a000_row1_col0, #T_9a000_row1_col2, #T_9a000_row2_col1, #T_9a000_row3_col4, #T_9a000_row3_col5, #T_9a000_row3_col6, #T_9a000_row3_col7, #T_9a000_row3_col8, #T_9a000_row7_col3 {\n",
       "  background-color: #3b4cc0;\n",
       "  color: #f1f1f1;\n",
       "}\n",
       "#T_9a000_row1_col3, #T_9a000_row5_col3 {\n",
       "  background-color: #5a78e4;\n",
       "  color: #f1f1f1;\n",
       "}\n",
       "#T_9a000_row1_col4 {\n",
       "  background-color: #506bda;\n",
       "  color: #f1f1f1;\n",
       "}\n",
       "#T_9a000_row1_col5 {\n",
       "  background-color: #516ddb;\n",
       "  color: #f1f1f1;\n",
       "}\n",
       "#T_9a000_row1_col6, #T_9a000_row3_col1, #T_9a000_row6_col0 {\n",
       "  background-color: #6788ee;\n",
       "  color: #f1f1f1;\n",
       "}\n",
       "#T_9a000_row1_col7, #T_9a000_row7_col2 {\n",
       "  background-color: #7da0f9;\n",
       "  color: #f1f1f1;\n",
       "}\n",
       "#T_9a000_row1_col8 {\n",
       "  background-color: #85a8fc;\n",
       "  color: #f1f1f1;\n",
       "}\n",
       "#T_9a000_row2_col0 {\n",
       "  background-color: #6687ed;\n",
       "  color: #f1f1f1;\n",
       "}\n",
       "#T_9a000_row2_col3, #T_9a000_row8_col2 {\n",
       "  background-color: #7a9df8;\n",
       "  color: #f1f1f1;\n",
       "}\n",
       "#T_9a000_row2_col4, #T_9a000_row2_col5 {\n",
       "  background-color: #485fd1;\n",
       "  color: #f1f1f1;\n",
       "}\n",
       "#T_9a000_row2_col6 {\n",
       "  background-color: #6e90f2;\n",
       "  color: #f1f1f1;\n",
       "}\n",
       "#T_9a000_row3_col0 {\n",
       "  background-color: #4f69d9;\n",
       "  color: #f1f1f1;\n",
       "}\n",
       "#T_9a000_row3_col2 {\n",
       "  background-color: #86a9fc;\n",
       "  color: #f1f1f1;\n",
       "}\n",
       "#T_9a000_row4_col0, #T_9a000_row5_col0 {\n",
       "  background-color: #5977e3;\n",
       "  color: #f1f1f1;\n",
       "}\n",
       "#T_9a000_row4_col1, #T_9a000_row5_col1 {\n",
       "  background-color: #7ea1fa;\n",
       "  color: #f1f1f1;\n",
       "}\n",
       "#T_9a000_row4_col2 {\n",
       "  background-color: #779af7;\n",
       "  color: #f1f1f1;\n",
       "}\n",
       "#T_9a000_row4_col5, #T_9a000_row5_col4 {\n",
       "  background-color: #cc403a;\n",
       "  color: #f1f1f1;\n",
       "}\n",
       "#T_9a000_row4_col6 {\n",
       "  background-color: #ef886b;\n",
       "  color: #f1f1f1;\n",
       "}\n",
       "#T_9a000_row4_col7 {\n",
       "  background-color: #ec8165;\n",
       "  color: #f1f1f1;\n",
       "}\n",
       "#T_9a000_row4_col8 {\n",
       "  background-color: #efcfbf;\n",
       "  color: #000000;\n",
       "}\n",
       "#T_9a000_row5_col2 {\n",
       "  background-color: #7699f6;\n",
       "  color: #f1f1f1;\n",
       "}\n",
       "#T_9a000_row5_col6, #T_9a000_row8_col6 {\n",
       "  background-color: #f39475;\n",
       "  color: #000000;\n",
       "}\n",
       "#T_9a000_row5_col7 {\n",
       "  background-color: #f18d6f;\n",
       "  color: #f1f1f1;\n",
       "}\n",
       "#T_9a000_row5_col8 {\n",
       "  background-color: #e8d6cc;\n",
       "  color: #000000;\n",
       "}\n",
       "#T_9a000_row6_col3 {\n",
       "  background-color: #4055c8;\n",
       "  color: #f1f1f1;\n",
       "}\n",
       "#T_9a000_row6_col4 {\n",
       "  background-color: #f29072;\n",
       "  color: #f1f1f1;\n",
       "}\n",
       "#T_9a000_row6_col5 {\n",
       "  background-color: #f59c7d;\n",
       "  color: #000000;\n",
       "}\n",
       "#T_9a000_row6_col7 {\n",
       "  background-color: #c12b30;\n",
       "  color: #f1f1f1;\n",
       "}\n",
       "#T_9a000_row6_col8, #T_9a000_row7_col5 {\n",
       "  background-color: #f39778;\n",
       "  color: #000000;\n",
       "}\n",
       "#T_9a000_row7_col0 {\n",
       "  background-color: #6c8ff1;\n",
       "  color: #f1f1f1;\n",
       "}\n",
       "#T_9a000_row7_col1 {\n",
       "  background-color: #89acfd;\n",
       "  color: #000000;\n",
       "}\n",
       "#T_9a000_row7_col4 {\n",
       "  background-color: #f08b6e;\n",
       "  color: #f1f1f1;\n",
       "}\n",
       "#T_9a000_row7_col6 {\n",
       "  background-color: #c32e31;\n",
       "  color: #f1f1f1;\n",
       "}\n",
       "#T_9a000_row7_col8 {\n",
       "  background-color: #ed8366;\n",
       "  color: #f1f1f1;\n",
       "}\n",
       "#T_9a000_row8_col0 {\n",
       "  background-color: #93b5fe;\n",
       "  color: #000000;\n",
       "}\n",
       "#T_9a000_row8_col1 {\n",
       "  background-color: #9fbfff;\n",
       "  color: #000000;\n",
       "}\n",
       "#T_9a000_row8_col3 {\n",
       "  background-color: #4b64d5;\n",
       "  color: #f1f1f1;\n",
       "}\n",
       "#T_9a000_row8_col4 {\n",
       "  background-color: #ead5c9;\n",
       "  color: #000000;\n",
       "}\n",
       "#T_9a000_row8_col5 {\n",
       "  background-color: #e1dad6;\n",
       "  color: #000000;\n",
       "}\n",
       "#T_9a000_row8_col7 {\n",
       "  background-color: #eb7d62;\n",
       "  color: #f1f1f1;\n",
       "}\n",
       "</style>\n",
       "<table id=\"T_9a000\">\n",
       "  <thead>\n",
       "    <tr>\n",
       "      <th class=\"blank level0\" >&nbsp;</th>\n",
       "      <th id=\"T_9a000_level0_col0\" class=\"col_heading level0 col0\" >latitud</th>\n",
       "      <th id=\"T_9a000_level0_col1\" class=\"col_heading level0 col1\" >longitud</th>\n",
       "      <th id=\"T_9a000_level0_col2\" class=\"col_heading level0 col2\" >barrio</th>\n",
       "      <th id=\"T_9a000_level0_col3\" class=\"col_heading level0 col3\" >property_type</th>\n",
       "      <th id=\"T_9a000_level0_col4\" class=\"col_heading level0 col4\" >property_rooms</th>\n",
       "      <th id=\"T_9a000_level0_col5\" class=\"col_heading level0 col5\" >property_bedrooms</th>\n",
       "      <th id=\"T_9a000_level0_col6\" class=\"col_heading level0 col6\" >property_surface_total</th>\n",
       "      <th id=\"T_9a000_level0_col7\" class=\"col_heading level0 col7\" >property_surface_covered</th>\n",
       "      <th id=\"T_9a000_level0_col8\" class=\"col_heading level0 col8\" >property_price</th>\n",
       "    </tr>\n",
       "  </thead>\n",
       "  <tbody>\n",
       "    <tr>\n",
       "      <th id=\"T_9a000_level0_row0\" class=\"row_heading level0 row0\" >latitud</th>\n",
       "      <td id=\"T_9a000_row0_col0\" class=\"data row0 col0\" >1.000000</td>\n",
       "      <td id=\"T_9a000_row0_col1\" class=\"data row0 col1\" >-0.141103</td>\n",
       "      <td id=\"T_9a000_row0_col2\" class=\"data row0 col2\" >0.016952</td>\n",
       "      <td id=\"T_9a000_row0_col3\" class=\"data row0 col3\" >-0.065060</td>\n",
       "      <td id=\"T_9a000_row0_col4\" class=\"data row0 col4\" >-0.026360</td>\n",
       "      <td id=\"T_9a000_row0_col5\" class=\"data row0 col5\" >-0.028009</td>\n",
       "      <td id=\"T_9a000_row0_col6\" class=\"data row0 col6\" >0.021501</td>\n",
       "      <td id=\"T_9a000_row0_col7\" class=\"data row0 col7\" >0.040684</td>\n",
       "      <td id=\"T_9a000_row0_col8\" class=\"data row0 col8\" >0.165261</td>\n",
       "    </tr>\n",
       "    <tr>\n",
       "      <th id=\"T_9a000_level0_row1\" class=\"row_heading level0 row1\" >longitud</th>\n",
       "      <td id=\"T_9a000_row1_col0\" class=\"data row1 col0\" >-0.141103</td>\n",
       "      <td id=\"T_9a000_row1_col1\" class=\"data row1 col1\" >1.000000</td>\n",
       "      <td id=\"T_9a000_row1_col2\" class=\"data row1 col2\" >-0.254398</td>\n",
       "      <td id=\"T_9a000_row1_col3\" class=\"data row1 col3\" >-0.073198</td>\n",
       "      <td id=\"T_9a000_row1_col4\" class=\"data row1 col4\" >0.009903</td>\n",
       "      <td id=\"T_9a000_row1_col5\" class=\"data row1 col5\" >0.007454</td>\n",
       "      <td id=\"T_9a000_row1_col6\" class=\"data row1 col6\" >-0.004242</td>\n",
       "      <td id=\"T_9a000_row1_col7\" class=\"data row1 col7\" >0.047954</td>\n",
       "      <td id=\"T_9a000_row1_col8\" class=\"data row1 col8\" >0.126130</td>\n",
       "    </tr>\n",
       "    <tr>\n",
       "      <th id=\"T_9a000_level0_row2\" class=\"row_heading level0 row2\" >barrio</th>\n",
       "      <td id=\"T_9a000_row2_col0\" class=\"data row2 col0\" >0.016952</td>\n",
       "      <td id=\"T_9a000_row2_col1\" class=\"data row2 col1\" >-0.254398</td>\n",
       "      <td id=\"T_9a000_row2_col2\" class=\"data row2 col2\" >1.000000</td>\n",
       "      <td id=\"T_9a000_row2_col3\" class=\"data row2 col3\" >0.037220</td>\n",
       "      <td id=\"T_9a000_row2_col4\" class=\"data row2 col4\" >-0.017533</td>\n",
       "      <td id=\"T_9a000_row2_col5\" class=\"data row2 col5\" >-0.022601</td>\n",
       "      <td id=\"T_9a000_row2_col6\" class=\"data row2 col6\" >0.016797</td>\n",
       "      <td id=\"T_9a000_row2_col7\" class=\"data row2 col7\" >0.000657</td>\n",
       "      <td id=\"T_9a000_row2_col8\" class=\"data row2 col8\" >-0.005310</td>\n",
       "    </tr>\n",
       "    <tr>\n",
       "      <th id=\"T_9a000_level0_row3\" class=\"row_heading level0 row3\" >property_type</th>\n",
       "      <td id=\"T_9a000_row3_col0\" class=\"data row3 col0\" >-0.065060</td>\n",
       "      <td id=\"T_9a000_row3_col1\" class=\"data row3 col1\" >-0.073198</td>\n",
       "      <td id=\"T_9a000_row3_col2\" class=\"data row3 col2\" >0.037220</td>\n",
       "      <td id=\"T_9a000_row3_col3\" class=\"data row3 col3\" >1.000000</td>\n",
       "      <td id=\"T_9a000_row3_col4\" class=\"data row3 col4\" >-0.065310</td>\n",
       "      <td id=\"T_9a000_row3_col5\" class=\"data row3 col5\" >-0.072324</td>\n",
       "      <td id=\"T_9a000_row3_col6\" class=\"data row3 col6\" >-0.170745</td>\n",
       "      <td id=\"T_9a000_row3_col7\" class=\"data row3 col7\" >-0.198191</td>\n",
       "      <td id=\"T_9a000_row3_col8\" class=\"data row3 col8\" >-0.132513</td>\n",
       "    </tr>\n",
       "    <tr>\n",
       "      <th id=\"T_9a000_level0_row4\" class=\"row_heading level0 row4\" >property_rooms</th>\n",
       "      <td id=\"T_9a000_row4_col0\" class=\"data row4 col0\" >-0.026360</td>\n",
       "      <td id=\"T_9a000_row4_col1\" class=\"data row4 col1\" >0.009903</td>\n",
       "      <td id=\"T_9a000_row4_col2\" class=\"data row4 col2\" >-0.017533</td>\n",
       "      <td id=\"T_9a000_row4_col3\" class=\"data row4 col3\" >-0.065310</td>\n",
       "      <td id=\"T_9a000_row4_col4\" class=\"data row4 col4\" >1.000000</td>\n",
       "      <td id=\"T_9a000_row4_col5\" class=\"data row4 col5\" >0.926325</td>\n",
       "      <td id=\"T_9a000_row4_col6\" class=\"data row4 col6\" >0.757079</td>\n",
       "      <td id=\"T_9a000_row4_col7\" class=\"data row4 col7\" >0.770356</td>\n",
       "      <td id=\"T_9a000_row4_col8\" class=\"data row4 col8\" >0.523442</td>\n",
       "    </tr>\n",
       "    <tr>\n",
       "      <th id=\"T_9a000_level0_row5\" class=\"row_heading level0 row5\" >property_bedrooms</th>\n",
       "      <td id=\"T_9a000_row5_col0\" class=\"data row5 col0\" >-0.028009</td>\n",
       "      <td id=\"T_9a000_row5_col1\" class=\"data row5 col1\" >0.007454</td>\n",
       "      <td id=\"T_9a000_row5_col2\" class=\"data row5 col2\" >-0.022601</td>\n",
       "      <td id=\"T_9a000_row5_col3\" class=\"data row5 col3\" >-0.072324</td>\n",
       "      <td id=\"T_9a000_row5_col4\" class=\"data row5 col4\" >0.926325</td>\n",
       "      <td id=\"T_9a000_row5_col5\" class=\"data row5 col5\" >1.000000</td>\n",
       "      <td id=\"T_9a000_row5_col6\" class=\"data row5 col6\" >0.724889</td>\n",
       "      <td id=\"T_9a000_row5_col7\" class=\"data row5 col7\" >0.736133</td>\n",
       "      <td id=\"T_9a000_row5_col8\" class=\"data row5 col8\" >0.483020</td>\n",
       "    </tr>\n",
       "    <tr>\n",
       "      <th id=\"T_9a000_level0_row6\" class=\"row_heading level0 row6\" >property_surface_total</th>\n",
       "      <td id=\"T_9a000_row6_col0\" class=\"data row6 col0\" >0.021501</td>\n",
       "      <td id=\"T_9a000_row6_col1\" class=\"data row6 col1\" >-0.004242</td>\n",
       "      <td id=\"T_9a000_row6_col2\" class=\"data row6 col2\" >0.016797</td>\n",
       "      <td id=\"T_9a000_row6_col3\" class=\"data row6 col3\" >-0.170745</td>\n",
       "      <td id=\"T_9a000_row6_col4\" class=\"data row6 col4\" >0.757079</td>\n",
       "      <td id=\"T_9a000_row6_col5\" class=\"data row6 col5\" >0.724889</td>\n",
       "      <td id=\"T_9a000_row6_col6\" class=\"data row6 col6\" >1.000000</td>\n",
       "      <td id=\"T_9a000_row6_col7\" class=\"data row6 col7\" >0.954240</td>\n",
       "      <td id=\"T_9a000_row6_col8\" class=\"data row6 col8\" >0.723027</td>\n",
       "    </tr>\n",
       "    <tr>\n",
       "      <th id=\"T_9a000_level0_row7\" class=\"row_heading level0 row7\" >property_surface_covered</th>\n",
       "      <td id=\"T_9a000_row7_col0\" class=\"data row7 col0\" >0.040684</td>\n",
       "      <td id=\"T_9a000_row7_col1\" class=\"data row7 col1\" >0.047954</td>\n",
       "      <td id=\"T_9a000_row7_col2\" class=\"data row7 col2\" >0.000657</td>\n",
       "      <td id=\"T_9a000_row7_col3\" class=\"data row7 col3\" >-0.198191</td>\n",
       "      <td id=\"T_9a000_row7_col4\" class=\"data row7 col4\" >0.770356</td>\n",
       "      <td id=\"T_9a000_row7_col5\" class=\"data row7 col5\" >0.736133</td>\n",
       "      <td id=\"T_9a000_row7_col6\" class=\"data row7 col6\" >0.954240</td>\n",
       "      <td id=\"T_9a000_row7_col7\" class=\"data row7 col7\" >1.000000</td>\n",
       "      <td id=\"T_9a000_row7_col8\" class=\"data row7 col8\" >0.776274</td>\n",
       "    </tr>\n",
       "    <tr>\n",
       "      <th id=\"T_9a000_level0_row8\" class=\"row_heading level0 row8\" >property_price</th>\n",
       "      <td id=\"T_9a000_row8_col0\" class=\"data row8 col0\" >0.165261</td>\n",
       "      <td id=\"T_9a000_row8_col1\" class=\"data row8 col1\" >0.126130</td>\n",
       "      <td id=\"T_9a000_row8_col2\" class=\"data row8 col2\" >-0.005310</td>\n",
       "      <td id=\"T_9a000_row8_col3\" class=\"data row8 col3\" >-0.132513</td>\n",
       "      <td id=\"T_9a000_row8_col4\" class=\"data row8 col4\" >0.523442</td>\n",
       "      <td id=\"T_9a000_row8_col5\" class=\"data row8 col5\" >0.483020</td>\n",
       "      <td id=\"T_9a000_row8_col6\" class=\"data row8 col6\" >0.723027</td>\n",
       "      <td id=\"T_9a000_row8_col7\" class=\"data row8 col7\" >0.776274</td>\n",
       "      <td id=\"T_9a000_row8_col8\" class=\"data row8 col8\" >1.000000</td>\n",
       "    </tr>\n",
       "  </tbody>\n",
       "</table>\n"
      ],
      "text/plain": [
       "<pandas.io.formats.style.Styler at 0x192790c55e0>"
      ]
     },
     "execution_count": 35,
     "metadata": {},
     "output_type": "execute_result"
    }
   ],
   "source": [
    "#Heatmap correlación\n",
    "viviendas_caba_encoded.corr().style.background_gradient(cmap='coolwarm')"
   ]
  },
  {
   "cell_type": "markdown",
   "metadata": {},
   "source": [
    "**Variables Regresoras**\n",
    "\n",
    "Gracias al análisis de feature importance realizado en la parte de clasificación sabemos que **latitud** (0.30), **longitud** (0.23), **property_surface_total** (0.16) y **property_surface_covered** (0.15) son las features más importantes para predecir el precio de una propiedad por lo que las seleccionamos como **variables regresoras**. \n",
    "\n",
    "Además vemos en la matriz de correlación que barrio y property_type no parecen tener relacion fuerte con el precio"
   ]
  },
  {
   "cell_type": "code",
   "execution_count": 36,
   "metadata": {},
   "outputs": [],
   "source": [
    "#selecciono variables regresoras y a predecir\n",
    "X_train_knn = viviendas_caba_train[['latitud','longitud', 'property_surface_total', 'property_surface_covered']]\n",
    "X_test_knn = viviendas_caba_test[['latitud','longitud', 'property_surface_total', 'property_surface_covered']]\n",
    "\n",
    "y_train_knn = viviendas_caba_train.property_price\n",
    "y_test_knn= viviendas_caba_test.property_price"
   ]
  },
  {
   "cell_type": "code",
   "execution_count": 37,
   "metadata": {},
   "outputs": [
    {
     "data": {
      "text/html": [
       "<style type=\"text/css\">\n",
       "#T_5c87e_row0_col0, #T_5c87e_row1_col1, #T_5c87e_row2_col2, #T_5c87e_row3_col3 {\n",
       "  background-color: #b40426;\n",
       "  color: #f1f1f1;\n",
       "}\n",
       "#T_5c87e_row0_col1, #T_5c87e_row0_col3, #T_5c87e_row1_col0, #T_5c87e_row1_col2 {\n",
       "  background-color: #3b4cc0;\n",
       "  color: #f1f1f1;\n",
       "}\n",
       "#T_5c87e_row0_col2 {\n",
       "  background-color: #4257c9;\n",
       "  color: #f1f1f1;\n",
       "}\n",
       "#T_5c87e_row1_col3 {\n",
       "  background-color: #3d50c3;\n",
       "  color: #f1f1f1;\n",
       "}\n",
       "#T_5c87e_row2_col0 {\n",
       "  background-color: #6788ee;\n",
       "  color: #f1f1f1;\n",
       "}\n",
       "#T_5c87e_row2_col1 {\n",
       "  background-color: #6180e9;\n",
       "  color: #f1f1f1;\n",
       "}\n",
       "#T_5c87e_row2_col3 {\n",
       "  background-color: #c53334;\n",
       "  color: #f1f1f1;\n",
       "}\n",
       "#T_5c87e_row3_col0 {\n",
       "  background-color: #6c8ff1;\n",
       "  color: #f1f1f1;\n",
       "}\n",
       "#T_5c87e_row3_col1 {\n",
       "  background-color: #6f92f3;\n",
       "  color: #f1f1f1;\n",
       "}\n",
       "#T_5c87e_row3_col2 {\n",
       "  background-color: #c43032;\n",
       "  color: #f1f1f1;\n",
       "}\n",
       "</style>\n",
       "<table id=\"T_5c87e\">\n",
       "  <thead>\n",
       "    <tr>\n",
       "      <th class=\"blank level0\" >&nbsp;</th>\n",
       "      <th id=\"T_5c87e_level0_col0\" class=\"col_heading level0 col0\" >latitud</th>\n",
       "      <th id=\"T_5c87e_level0_col1\" class=\"col_heading level0 col1\" >longitud</th>\n",
       "      <th id=\"T_5c87e_level0_col2\" class=\"col_heading level0 col2\" >property_surface_total</th>\n",
       "      <th id=\"T_5c87e_level0_col3\" class=\"col_heading level0 col3\" >property_surface_covered</th>\n",
       "    </tr>\n",
       "  </thead>\n",
       "  <tbody>\n",
       "    <tr>\n",
       "      <th id=\"T_5c87e_level0_row0\" class=\"row_heading level0 row0\" >latitud</th>\n",
       "      <td id=\"T_5c87e_row0_col0\" class=\"data row0 col0\" >1.000000</td>\n",
       "      <td id=\"T_5c87e_row0_col1\" class=\"data row0 col1\" >-0.142706</td>\n",
       "      <td id=\"T_5c87e_row0_col2\" class=\"data row0 col2\" >0.020934</td>\n",
       "      <td id=\"T_5c87e_row0_col3\" class=\"data row0 col3\" >0.039337</td>\n",
       "    </tr>\n",
       "    <tr>\n",
       "      <th id=\"T_5c87e_level0_row1\" class=\"row_heading level0 row1\" >longitud</th>\n",
       "      <td id=\"T_5c87e_row1_col0\" class=\"data row1 col0\" >-0.142706</td>\n",
       "      <td id=\"T_5c87e_row1_col1\" class=\"data row1 col1\" >1.000000</td>\n",
       "      <td id=\"T_5c87e_row1_col2\" class=\"data row1 col2\" >-0.003481</td>\n",
       "      <td id=\"T_5c87e_row1_col3\" class=\"data row1 col3\" >0.048280</td>\n",
       "    </tr>\n",
       "    <tr>\n",
       "      <th id=\"T_5c87e_level0_row2\" class=\"row_heading level0 row2\" >property_surface_total</th>\n",
       "      <td id=\"T_5c87e_row2_col0\" class=\"data row2 col0\" >0.020934</td>\n",
       "      <td id=\"T_5c87e_row2_col1\" class=\"data row2 col1\" >-0.003481</td>\n",
       "      <td id=\"T_5c87e_row2_col2\" class=\"data row2 col2\" >1.000000</td>\n",
       "      <td id=\"T_5c87e_row2_col3\" class=\"data row2 col3\" >0.954711</td>\n",
       "    </tr>\n",
       "    <tr>\n",
       "      <th id=\"T_5c87e_level0_row3\" class=\"row_heading level0 row3\" >property_surface_covered</th>\n",
       "      <td id=\"T_5c87e_row3_col0\" class=\"data row3 col0\" >0.039337</td>\n",
       "      <td id=\"T_5c87e_row3_col1\" class=\"data row3 col1\" >0.048280</td>\n",
       "      <td id=\"T_5c87e_row3_col2\" class=\"data row3 col2\" >0.954711</td>\n",
       "      <td id=\"T_5c87e_row3_col3\" class=\"data row3 col3\" >1.000000</td>\n",
       "    </tr>\n",
       "  </tbody>\n",
       "</table>\n"
      ],
      "text/plain": [
       "<pandas.io.formats.style.Styler at 0x19278ffe550>"
      ]
     },
     "execution_count": 37,
     "metadata": {},
     "output_type": "execute_result"
    }
   ],
   "source": [
    "#Heatmap correlación\n",
    "X_train_knn.corr().style.background_gradient(cmap='coolwarm')"
   ]
  },
  {
   "cell_type": "markdown",
   "metadata": {},
   "source": [
    "#### Ingeniería de características"
   ]
  },
  {
   "cell_type": "markdown",
   "metadata": {},
   "source": [
    "**Valores Atípicos**\n",
    "\n",
    "Como en el parte 1 ya limpiamos los valores atípicos no tenemos que hacerlo nuevamente para esta parte\n",
    "\n",
    "**Normalizado de datos**\n",
    "\n",
    "Decidimos usar min-max para normalizar ya que fue el que mejores resultados nos dió"
   ]
  },
  {
   "cell_type": "code",
   "execution_count": 38,
   "metadata": {},
   "outputs": [],
   "source": [
    "scaler = MinMaxScaler() \n",
    "X_train_knn = scaler.fit_transform(X_train_knn)\n",
    "X_test_knn = scaler.transform(X_test_knn)"
   ]
  },
  {
   "cell_type": "markdown",
   "metadata": {},
   "source": [
    "**Optimizamos los parámetros usando random search cross validation**"
   ]
  },
  {
   "cell_type": "code",
   "execution_count": 39,
   "metadata": {},
   "outputs": [
    {
     "data": {
      "text/plain": [
       "array([0.89664354, 0.87908203, 0.89743264, 0.85885014, 0.89169284])"
      ]
     },
     "execution_count": 39,
     "metadata": {},
     "output_type": "execute_result"
    }
   ],
   "source": [
    "#Grilla de Parámetros\n",
    "params_grid={ 'n_neighbors':range(1,30), \n",
    "              'weights':['distance','uniform'],\n",
    "              'algorithm':['auto', 'ball_tree', 'kd_tree', 'brute'],\n",
    "              'metric':['euclidean','manhattan','chebyshev']\n",
    "             }\n",
    "\n",
    "#Clasificador KNN\n",
    "knn_regressor=KNeighborsRegressor()\n",
    "\n",
    "#Random Search con 5 Folds y 5 iteraciones\n",
    "rand_knn = RandomizedSearchCV(knn_regressor, params_grid, cv=5, scoring='r2', n_iter=5, random_state=5)\n",
    "\n",
    "rand_knn.fit(X_train_knn, y_train_knn)\n",
    "rand_knn.cv_results_['mean_test_score']"
   ]
  },
  {
   "cell_type": "code",
   "execution_count": 40,
   "metadata": {},
   "outputs": [
    {
     "name": "stdout",
     "output_type": "stream",
     "text": [
      "{'weights': 'distance', 'n_neighbors': 27, 'metric': 'euclidean', 'algorithm': 'kd_tree'}\n",
      "0.8974326393690614\n"
     ]
    }
   ],
   "source": [
    "#Mejores hiperparametros\n",
    "print(rand_knn.best_params_)\n",
    "#Mejor métrica\n",
    "print(rand_knn.best_score_)"
   ]
  },
  {
   "cell_type": "markdown",
   "metadata": {},
   "source": [
    "#### Métricas sobre train"
   ]
  },
  {
   "cell_type": "code",
   "execution_count": 41,
   "metadata": {},
   "outputs": [
    {
     "name": "stdout",
     "output_type": "stream",
     "text": [
      "Coef. de Determinación R2: 0.9975538061741654\n",
      "Coef. de Determinación R2 ajustado: 0.997553674477817\n",
      "El error (mse) de test es: 213681668.32577166\n",
      "El error (rmse) de test es: 14617.854436468153\n"
     ]
    }
   ],
   "source": [
    "#Mejor estimador\n",
    "best_knn_regressor = rand_knn.best_estimator_\n",
    "\n",
    "#Predicción con mejor estimador\n",
    "y_pred_train_knn = best_knn_regressor.predict(X_train_knn)\n",
    "\n",
    "#Coef. de Determinación R2\n",
    "r2_score_train = r2_score(y_train_knn, y_pred_train_knn)\n",
    "print(f'Coef. de Determinación R2: {r2_score(y_train_knn, y_pred_train_knn)}')\n",
    "\n",
    "#Coef. de Determinación R2 ajustado\n",
    "n = X_train_knn.shape[0] #n = count of rows in your dataset used for train or test\n",
    "p = 4 #p = count of independent variables\n",
    "print(f'Coef. de Determinación R2 ajustado: {1-(1-r2_score_train)*(n-1)/(n-p-1)}')\n",
    "\n",
    "#Mean Square Error\n",
    "mse = metrics.mean_squared_error(\n",
    "        y_true  = y_train_knn,\n",
    "        y_pred  = y_pred_train_knn,\n",
    "        squared = True\n",
    "       )\n",
    "\n",
    "print(f\"El error (mse) de test es: {mse}\")\n",
    "\n",
    "#Root Mean Square Error\n",
    "rmse = metrics.mean_squared_error(\n",
    "        y_true  = y_train_knn,\n",
    "        y_pred  = y_pred_train_knn,\n",
    "        squared = False\n",
    "       )\n",
    "\n",
    "print(f\"El error (rmse) de test es: {rmse}\")"
   ]
  },
  {
   "cell_type": "code",
   "execution_count": 42,
   "metadata": {},
   "outputs": [
    {
     "data": {
      "text/html": [
       "<div>\n",
       "<style scoped>\n",
       "    .dataframe tbody tr th:only-of-type {\n",
       "        vertical-align: middle;\n",
       "    }\n",
       "\n",
       "    .dataframe tbody tr th {\n",
       "        vertical-align: top;\n",
       "    }\n",
       "\n",
       "    .dataframe thead th {\n",
       "        text-align: right;\n",
       "    }\n",
       "</style>\n",
       "<table border=\"1\" class=\"dataframe\">\n",
       "  <thead>\n",
       "    <tr style=\"text-align: right;\">\n",
       "      <th></th>\n",
       "      <th>Valor Real</th>\n",
       "      <th>Prediccion</th>\n",
       "      <th>Error</th>\n",
       "    </tr>\n",
       "  </thead>\n",
       "  <tbody>\n",
       "    <tr>\n",
       "      <th>0</th>\n",
       "      <td>167113.0</td>\n",
       "      <td>165587.0</td>\n",
       "      <td>1526.0</td>\n",
       "    </tr>\n",
       "    <tr>\n",
       "      <th>1</th>\n",
       "      <td>129000.0</td>\n",
       "      <td>129000.0</td>\n",
       "      <td>0.0</td>\n",
       "    </tr>\n",
       "    <tr>\n",
       "      <th>2</th>\n",
       "      <td>124600.0</td>\n",
       "      <td>124600.0</td>\n",
       "      <td>0.0</td>\n",
       "    </tr>\n",
       "    <tr>\n",
       "      <th>3</th>\n",
       "      <td>196000.0</td>\n",
       "      <td>196000.0</td>\n",
       "      <td>0.0</td>\n",
       "    </tr>\n",
       "    <tr>\n",
       "      <th>4</th>\n",
       "      <td>235000.0</td>\n",
       "      <td>235000.0</td>\n",
       "      <td>0.0</td>\n",
       "    </tr>\n",
       "  </tbody>\n",
       "</table>\n",
       "</div>"
      ],
      "text/plain": [
       "   Valor Real  Prediccion   Error\n",
       "0    167113.0    165587.0  1526.0\n",
       "1    129000.0    129000.0     0.0\n",
       "2    124600.0    124600.0     0.0\n",
       "3    196000.0    196000.0     0.0\n",
       "4    235000.0    235000.0     0.0"
      ]
     },
     "execution_count": 42,
     "metadata": {},
     "output_type": "execute_result"
    }
   ],
   "source": [
    "# Performance\n",
    "performance_train = pd.DataFrame({'Valor Real': y_train_knn,\n",
    "                            'Prediccion': y_pred_train_knn.round(),\n",
    "                            'Error': y_train_knn - y_pred_train_knn.round()})\n",
    "# View\n",
    "performance_train.head()"
   ]
  },
  {
   "cell_type": "code",
   "execution_count": 43,
   "metadata": {},
   "outputs": [
    {
     "data": {
      "image/png": "[encoded data removed]",
      "text/plain": [
       "<Figure size 576x396 with 1 Axes>"
      ]
     },
     "metadata": {},
     "output_type": "display_data"
    }
   ],
   "source": [
    "scatter_real_predict_train = performance_train.plot.scatter(x=\"Valor Real\", y=\"Prediccion\", s=10, c='tab:blue').set(title=\"Valor Real vs Predicción\",xlabel='Valor Real',ylabel='Prediccion') \n"
   ]
  },
  {
   "cell_type": "markdown",
   "metadata": {},
   "source": [
    "#### Métricas sobre test "
   ]
  },
  {
   "cell_type": "code",
   "execution_count": 44,
   "metadata": {},
   "outputs": [
    {
     "name": "stdout",
     "output_type": "stream",
     "text": [
      "Coef. de Determinación R2: 0.894105981293596\n",
      "Coef. de Determinación R2 ajustado: 0.894083172824756\n",
      "El error (mse) de test es: 9903379174.372705\n",
      "El error (rmse) de test es: 99515.72325202035\n"
     ]
    }
   ],
   "source": [
    "#Predicción con mejor estimador\n",
    "y_pred_test_knn = best_knn_regressor.predict(X_test_knn)\n",
    "\n",
    "#Coef. de Determinación R2\n",
    "r2_score_test = r2_score(y_test_knn, y_pred_test_knn)\n",
    "print(f'Coef. de Determinación R2: {r2_score_test}')\n",
    "\n",
    "#Coef. de Determinación R2 ajustado\n",
    "n = X_test_knn.shape[0] #n = count of rows in your dataset used for train or test\n",
    "p = 4 #p = count of independent variables\n",
    "print(f'Coef. de Determinación R2 ajustado: {1-(1-r2_score_test)*(n-1)/(n-p-1)}')\n",
    "\n",
    "#Mean Square Error\n",
    "mse = metrics.mean_squared_error(\n",
    "        y_true  = y_test_knn,\n",
    "        y_pred  = y_pred_test_knn,\n",
    "        squared = True\n",
    "       )\n",
    "print(f\"El error (mse) de test es: {mse}\")\n",
    "\n",
    "#Root Mean Square Error\n",
    "rmse = metrics.mean_squared_error(\n",
    "        y_true  = y_test_knn,\n",
    "        y_pred  = y_pred_test_knn,\n",
    "        squared = False\n",
    "       )\n",
    "print(f\"El error (rmse) de test es: {rmse}\")"
   ]
  },
  {
   "cell_type": "code",
   "execution_count": 45,
   "metadata": {},
   "outputs": [
    {
     "data": {
      "text/html": [
       "<div>\n",
       "<style scoped>\n",
       "    .dataframe tbody tr th:only-of-type {\n",
       "        vertical-align: middle;\n",
       "    }\n",
       "\n",
       "    .dataframe tbody tr th {\n",
       "        vertical-align: top;\n",
       "    }\n",
       "\n",
       "    .dataframe thead th {\n",
       "        text-align: right;\n",
       "    }\n",
       "</style>\n",
       "<table border=\"1\" class=\"dataframe\">\n",
       "  <thead>\n",
       "    <tr style=\"text-align: right;\">\n",
       "      <th></th>\n",
       "      <th>Valor Real</th>\n",
       "      <th>Prediccion</th>\n",
       "      <th>Error</th>\n",
       "    </tr>\n",
       "  </thead>\n",
       "  <tbody>\n",
       "    <tr>\n",
       "      <th>0</th>\n",
       "      <td>140000.0</td>\n",
       "      <td>128856.0</td>\n",
       "      <td>11144.0</td>\n",
       "    </tr>\n",
       "    <tr>\n",
       "      <th>1</th>\n",
       "      <td>69900.0</td>\n",
       "      <td>80500.0</td>\n",
       "      <td>-10600.0</td>\n",
       "    </tr>\n",
       "    <tr>\n",
       "      <th>2</th>\n",
       "      <td>75900.0</td>\n",
       "      <td>63286.0</td>\n",
       "      <td>12614.0</td>\n",
       "    </tr>\n",
       "    <tr>\n",
       "      <th>3</th>\n",
       "      <td>315000.0</td>\n",
       "      <td>225454.0</td>\n",
       "      <td>89546.0</td>\n",
       "    </tr>\n",
       "    <tr>\n",
       "      <th>4</th>\n",
       "      <td>79000.0</td>\n",
       "      <td>78500.0</td>\n",
       "      <td>500.0</td>\n",
       "    </tr>\n",
       "  </tbody>\n",
       "</table>\n",
       "</div>"
      ],
      "text/plain": [
       "   Valor Real  Prediccion    Error\n",
       "0    140000.0    128856.0  11144.0\n",
       "1     69900.0     80500.0 -10600.0\n",
       "2     75900.0     63286.0  12614.0\n",
       "3    315000.0    225454.0  89546.0\n",
       "4     79000.0     78500.0    500.0"
      ]
     },
     "execution_count": 45,
     "metadata": {},
     "output_type": "execute_result"
    }
   ],
   "source": [
    "# Performance\n",
    "performance_test = pd.DataFrame({'Valor Real': y_test_knn,\n",
    "                            'Prediccion': y_pred_test_knn.round(),\n",
    "                            'Error': y_test_knn - y_pred_test_knn.round()})\n",
    "# View\n",
    "performance_test.head()"
   ]
  },
  {
   "cell_type": "code",
   "execution_count": 46,
   "metadata": {},
   "outputs": [
    {
     "data": {
      "image/png": "[encoded data removed]",
      "text/plain": [
       "<Figure size 576x396 with 1 Axes>"
      ]
     },
     "metadata": {},
     "output_type": "display_data"
    }
   ],
   "source": [
    "scatter_real_predict_test = performance_test.plot.scatter(x=\"Valor Real\", y=\"Prediccion\", s=10, c='tab:blue').set(title=\"Valor Real vs Predicción\",xlabel='Valor Real',ylabel='Prediccion') \n"
   ]
  },
  {
   "cell_type": "markdown",
   "metadata": {},
   "source": [
    "### Dataset con reducción de dimensionalidad:"
   ]
  },
  {
   "cell_type": "markdown",
   "metadata": {},
   "source": [
    "#### Eleccion de variables regresoras"
   ]
  },
  {
   "cell_type": "markdown",
   "metadata": {},
   "source": [
    "**Variables Regresoras**\n",
    "\n",
    "Gracias al análisis de feature importance realizado en la parte de clasificación sabemos que para obtener el mejor r2 tenemos que elegir a las 4 componentes principales como variables regresoras"
   ]
  },
  {
   "cell_type": "code",
   "execution_count": 47,
   "metadata": {},
   "outputs": [],
   "source": [
    "#selecciono variables regresoras y a predecir\n",
    "X_knn_pca = pca_df[['cp_1','cp_2','cp_3', 'cp_4']]\n",
    "y_knn_pca = pca_df.property_price\n",
    "\n",
    "#Separacion Train/test  (80/20)\n",
    "X_train_knn_pca, X_test_knn_pca, y_train_knn_pca, y_test_knn_pca = train_test_split(X_knn_pca, y_knn_pca, test_size= 0.2, random_state=12)"
   ]
  },
  {
   "cell_type": "markdown",
   "metadata": {},
   "source": [
    "#### Ingeniería de características"
   ]
  },
  {
   "cell_type": "markdown",
   "metadata": {},
   "source": [
    "**Valores Atípicos**\n",
    "\n",
    "Como en el parte 1 ya limpiamos los valores atípicos no tenemos que hacerlo nuevamente para esta parte\n",
    "\n",
    "**Normalizado de datos**\n",
    "\n",
    "Decidimos usar min-max para normalizar ya que fue el que mejores resultados nos dió"
   ]
  },
  {
   "cell_type": "code",
   "execution_count": 48,
   "metadata": {},
   "outputs": [],
   "source": [
    "scaler = MinMaxScaler() \n",
    "X_train_knn_pca = scaler.fit_transform(X_train_knn_pca)\n",
    "X_test_knn_pca = scaler.transform(X_test_knn_pca)"
   ]
  },
  {
   "cell_type": "markdown",
   "metadata": {},
   "source": [
    "**Optimizamos los parámetros usando Random Search Cross Validation**"
   ]
  },
  {
   "cell_type": "code",
   "execution_count": 49,
   "metadata": {},
   "outputs": [
    {
     "data": {
      "text/plain": [
       "array([0.76064808, 0.70659373, 0.76337521, 0.74928197, 0.74587282])"
      ]
     },
     "execution_count": 49,
     "metadata": {},
     "output_type": "execute_result"
    }
   ],
   "source": [
    "#Grilla de Parámetros\n",
    "params_grid={ 'n_neighbors':range(1,30), \n",
    "              'weights':['distance','uniform'],\n",
    "              'algorithm':['auto', 'ball_tree', 'kd_tree', 'brute'],\n",
    "              'metric':['euclidean','manhattan','chebyshev']\n",
    "             }\n",
    "\n",
    "#Clasificador KNN\n",
    "knn_regressor_pca=KNeighborsRegressor()\n",
    "\n",
    "#Random Search con 5 Folds y 5 iteraciones\n",
    "rand_knn_pca = RandomizedSearchCV(knn_regressor_pca, params_grid, cv=5, scoring='r2', n_iter=5, random_state=5)\n",
    "\n",
    "rand_knn_pca.fit(X_train_knn_pca, y_train_knn_pca)\n",
    "rand_knn_pca.cv_results_['mean_test_score']"
   ]
  },
  {
   "cell_type": "code",
   "execution_count": 50,
   "metadata": {},
   "outputs": [
    {
     "name": "stdout",
     "output_type": "stream",
     "text": [
      "{'weights': 'distance', 'n_neighbors': 27, 'metric': 'euclidean', 'algorithm': 'kd_tree'}\n",
      "0.7633752072686366\n"
     ]
    }
   ],
   "source": [
    "#Mejores hiperparametros\n",
    "print(rand_knn_pca.best_params_)\n",
    "#Mejor métrica\n",
    "print(rand_knn_pca.best_score_)"
   ]
  },
  {
   "cell_type": "markdown",
   "metadata": {},
   "source": [
    "#### Métricas sobre train"
   ]
  },
  {
   "cell_type": "code",
   "execution_count": 51,
   "metadata": {},
   "outputs": [
    {
     "name": "stdout",
     "output_type": "stream",
     "text": [
      "Coef. de Determinación R2: 0.9688657344036952\n",
      "Coef. de Determinación R2 ajustado: 0.9688640581753332\n",
      "El error (mse) de test es: 2737640806.2529674\n",
      "El error (rmse) de test es: 52322.469420440844\n"
     ]
    }
   ],
   "source": [
    "#Mejor estimador\n",
    "best_knn_regressor_pca = rand_knn_pca.best_estimator_\n",
    "\n",
    "#Predicción con mejor estimador\n",
    "y_pred_train_knn_pca = best_knn_regressor_pca.predict(X_train_knn_pca)\n",
    "\n",
    "#Coef. de Determinación R2\n",
    "r2_score_train_knn_pca = r2_score(y_train_knn_pca, y_pred_train_knn_pca)\n",
    "print(f'Coef. de Determinación R2: {r2_score_train_knn_pca}')\n",
    "\n",
    "#Coef. de Determinación R2 ajustado\n",
    "n = X_train_knn_pca.shape[0] #n = count of rows in your dataset used for train or test\n",
    "p = 4 #p = count of independent variables\n",
    "print(f'Coef. de Determinación R2 ajustado: {1-(1-r2_score_train_knn_pca)*(n-1)/(n-p-1)}')\n",
    "\n",
    "#Mean Square Error\n",
    "mse = metrics.mean_squared_error(\n",
    "        y_true  = y_train_knn_pca,\n",
    "        y_pred  = y_pred_train_knn_pca,\n",
    "        squared = True\n",
    "       )\n",
    "\n",
    "print(f\"El error (mse) de test es: {mse}\")\n",
    "\n",
    "#Root Mean Square Error\n",
    "rmse = metrics.mean_squared_error(\n",
    "        y_true  = y_train_knn_pca,\n",
    "        y_pred  = y_pred_train_knn_pca,\n",
    "        squared = False\n",
    "       )\n",
    "\n",
    "print(f\"El error (rmse) de test es: {rmse}\")"
   ]
  },
  {
   "cell_type": "code",
   "execution_count": 52,
   "metadata": {},
   "outputs": [
    {
     "data": {
      "text/html": [
       "<div>\n",
       "<style scoped>\n",
       "    .dataframe tbody tr th:only-of-type {\n",
       "        vertical-align: middle;\n",
       "    }\n",
       "\n",
       "    .dataframe tbody tr th {\n",
       "        vertical-align: top;\n",
       "    }\n",
       "\n",
       "    .dataframe thead th {\n",
       "        text-align: right;\n",
       "    }\n",
       "</style>\n",
       "<table border=\"1\" class=\"dataframe\">\n",
       "  <thead>\n",
       "    <tr style=\"text-align: right;\">\n",
       "      <th></th>\n",
       "      <th>Valor Real</th>\n",
       "      <th>Prediccion</th>\n",
       "      <th>Error</th>\n",
       "    </tr>\n",
       "  </thead>\n",
       "  <tbody>\n",
       "    <tr>\n",
       "      <th>59523</th>\n",
       "      <td>89000.0</td>\n",
       "      <td>89000.0</td>\n",
       "      <td>0.0</td>\n",
       "    </tr>\n",
       "    <tr>\n",
       "      <th>76456</th>\n",
       "      <td>140000.0</td>\n",
       "      <td>140000.0</td>\n",
       "      <td>0.0</td>\n",
       "    </tr>\n",
       "    <tr>\n",
       "      <th>26920</th>\n",
       "      <td>290000.0</td>\n",
       "      <td>239500.0</td>\n",
       "      <td>50500.0</td>\n",
       "    </tr>\n",
       "    <tr>\n",
       "      <th>27840</th>\n",
       "      <td>89000.0</td>\n",
       "      <td>89000.0</td>\n",
       "      <td>0.0</td>\n",
       "    </tr>\n",
       "    <tr>\n",
       "      <th>20164</th>\n",
       "      <td>650000.0</td>\n",
       "      <td>707500.0</td>\n",
       "      <td>-57500.0</td>\n",
       "    </tr>\n",
       "  </tbody>\n",
       "</table>\n",
       "</div>"
      ],
      "text/plain": [
       "       Valor Real  Prediccion    Error\n",
       "59523     89000.0     89000.0      0.0\n",
       "76456    140000.0    140000.0      0.0\n",
       "26920    290000.0    239500.0  50500.0\n",
       "27840     89000.0     89000.0      0.0\n",
       "20164    650000.0    707500.0 -57500.0"
      ]
     },
     "execution_count": 52,
     "metadata": {},
     "output_type": "execute_result"
    }
   ],
   "source": [
    "# Performance\n",
    "performance_train_knn_pca = pd.DataFrame({'Valor Real': y_train_knn_pca,\n",
    "                            'Prediccion': y_pred_train_knn_pca.round(),\n",
    "                            'Error': y_train_knn_pca - y_pred_train_knn_pca.round()})\n",
    "# View\n",
    "performance_train_knn_pca.head()"
   ]
  },
  {
   "cell_type": "code",
   "execution_count": 53,
   "metadata": {},
   "outputs": [
    {
     "data": {
      "image/png": "[encoded data removed]",
      "text/plain": [
       "<Figure size 576x396 with 1 Axes>"
      ]
     },
     "metadata": {},
     "output_type": "display_data"
    }
   ],
   "source": [
    "scatter_real_predict_train = performance_train_knn_pca.plot.scatter(x=\"Valor Real\", y=\"Prediccion\", s=10, c='tab:blue').set(title=\"Valor Real vs Predicción\",xlabel='Valor Real',ylabel='Prediccion') \n"
   ]
  },
  {
   "cell_type": "markdown",
   "metadata": {},
   "source": [
    "#### Métricas sobre test "
   ]
  },
  {
   "cell_type": "code",
   "execution_count": 54,
   "metadata": {},
   "outputs": [
    {
     "name": "stdout",
     "output_type": "stream",
     "text": [
      "Coef. de Determinación R2: 0.7883237188516572\n",
      "Coef. de Determinación R2 ajustado: 0.7882781259851129\n",
      "El error (mse) de test es: 19309058295.20586\n",
      "El error (rmse) de test es: 138957.03758790292\n"
     ]
    }
   ],
   "source": [
    "#Predicción con mejor estimador\n",
    "y_pred_test_knn_pca = best_knn_regressor_pca.predict(X_test_knn_pca)\n",
    "\n",
    "#Coef. de Determinación R2\n",
    "r2_score_test_knn_pca = r2_score(y_test_knn_pca, y_pred_test_knn_pca)\n",
    "print(f'Coef. de Determinación R2: {r2_score_test_knn_pca}')\n",
    "\n",
    "#Coef. de Determinación R2 ajustado\n",
    "n = X_test_knn_pca.shape[0] #n = count of rows in your dataset used for train or test\n",
    "p = 4 #p = count of independent variables\n",
    "print(f'Coef. de Determinación R2 ajustado: {1-(1-r2_score_test_knn_pca)*(n-1)/(n-p-1)}')\n",
    "\n",
    "#Mean Square Error\n",
    "mse = metrics.mean_squared_error(\n",
    "        y_true  = y_test_knn_pca,\n",
    "        y_pred  = y_pred_test_knn_pca,\n",
    "        squared = True\n",
    "       )\n",
    "print(f\"El error (mse) de test es: {mse}\")\n",
    "\n",
    "#Root Mean Square Error\n",
    "rmse = metrics.mean_squared_error(\n",
    "        y_true  = y_test_knn_pca,\n",
    "        y_pred  = y_pred_test_knn_pca,\n",
    "        squared = False\n",
    "       )\n",
    "print(f\"El error (rmse) de test es: {rmse}\")"
   ]
  },
  {
   "cell_type": "code",
   "execution_count": 55,
   "metadata": {},
   "outputs": [
    {
     "data": {
      "text/html": [
       "<div>\n",
       "<style scoped>\n",
       "    .dataframe tbody tr th:only-of-type {\n",
       "        vertical-align: middle;\n",
       "    }\n",
       "\n",
       "    .dataframe tbody tr th {\n",
       "        vertical-align: top;\n",
       "    }\n",
       "\n",
       "    .dataframe thead th {\n",
       "        text-align: right;\n",
       "    }\n",
       "</style>\n",
       "<table border=\"1\" class=\"dataframe\">\n",
       "  <thead>\n",
       "    <tr style=\"text-align: right;\">\n",
       "      <th></th>\n",
       "      <th>Valor Real</th>\n",
       "      <th>Prediccion</th>\n",
       "      <th>Error</th>\n",
       "    </tr>\n",
       "  </thead>\n",
       "  <tbody>\n",
       "    <tr>\n",
       "      <th>53374</th>\n",
       "      <td>85000.0</td>\n",
       "      <td>139318.0</td>\n",
       "      <td>-54318.0</td>\n",
       "    </tr>\n",
       "    <tr>\n",
       "      <th>897</th>\n",
       "      <td>289000.0</td>\n",
       "      <td>189682.0</td>\n",
       "      <td>99318.0</td>\n",
       "    </tr>\n",
       "    <tr>\n",
       "      <th>41973</th>\n",
       "      <td>235000.0</td>\n",
       "      <td>200330.0</td>\n",
       "      <td>34670.0</td>\n",
       "    </tr>\n",
       "    <tr>\n",
       "      <th>20322</th>\n",
       "      <td>92000.0</td>\n",
       "      <td>147184.0</td>\n",
       "      <td>-55184.0</td>\n",
       "    </tr>\n",
       "    <tr>\n",
       "      <th>84681</th>\n",
       "      <td>129000.0</td>\n",
       "      <td>193995.0</td>\n",
       "      <td>-64995.0</td>\n",
       "    </tr>\n",
       "  </tbody>\n",
       "</table>\n",
       "</div>"
      ],
      "text/plain": [
       "       Valor Real  Prediccion    Error\n",
       "53374     85000.0    139318.0 -54318.0\n",
       "897      289000.0    189682.0  99318.0\n",
       "41973    235000.0    200330.0  34670.0\n",
       "20322     92000.0    147184.0 -55184.0\n",
       "84681    129000.0    193995.0 -64995.0"
      ]
     },
     "execution_count": 55,
     "metadata": {},
     "output_type": "execute_result"
    }
   ],
   "source": [
    "# Performance\n",
    "performance_test_knn_pca = pd.DataFrame({'Valor Real': y_test_knn_pca,\n",
    "                            'Prediccion': y_pred_test_knn_pca.round(),\n",
    "                            'Error': y_test_knn_pca - y_pred_test_knn_pca.round()})\n",
    "# View\n",
    "performance_test_knn_pca.head()"
   ]
  },
  {
   "cell_type": "code",
   "execution_count": 56,
   "metadata": {},
   "outputs": [
    {
     "data": {
      "image/png": "[encoded data removed]",
      "text/plain": [
       "<Figure size 576x396 with 1 Axes>"
      ]
     },
     "metadata": {},
     "output_type": "display_data"
    }
   ],
   "source": [
    "scatter_real_predict_test = performance_test_knn_pca.plot.scatter(x=\"Valor Real\", y=\"Prediccion\", s=10, c='tab:blue').set(title=\"Valor Real vs Predicción\",xlabel='Valor Real',ylabel='Prediccion') \n"
   ]
  },
  {
   "cell_type": "markdown",
   "metadata": {},
   "source": [
    "### Conclusiones KNN\n"
   ]
  },
  {
   "cell_type": "markdown",
   "metadata": {},
   "source": [
    "Utilizamos 5 folds porque no obtuvimos mejoras al utilizar mayor cantidad.\n",
    "\n",
    "Observamos que los resultados sobre el dataset original fueron mejores (en cuanto a métricas) comparados con los del dataset con reducción pca.\n",
    "\n",
    "\n",
    "\n",
    "+ Coeficiente de determinación 𝑹^𝟐: me dice cuanto explica la variabilidad del problema (0 explica poco, 1 explica mucho).\n",
    "+ Coeficiente de determinación 𝑹^𝟐 ajustado: similar a 𝑹^𝟐 solo que penaliza x la cantidad de variables incluidas en el modelo.\n",
    "+ MSE:(Error Cuadrático Medio (Mean Squared Error)): Medida de qué tan cercana es la recta de regresión a los puntos que representan los datos. Mientras más chico más cerca está nuestro modelo de los datos reales. Al ser un valor elevado al cuadrado, es sensible a valores de diferencias grandes.\n",
    "+ RMSE: es la raíz cuadrada de MSE, es mas fácil de interpretar ya que estará en las mismas unidades (dólares) que las del problema (a menor RMSE mejor)\n"
   ]
  },
  {
   "cell_type": "markdown",
   "metadata": {},
   "source": [
    "## Modelo 2: XGBoost"
   ]
  },
  {
   "cell_type": "markdown",
   "metadata": {},
   "source": [
    "### Dataset completo:"
   ]
  },
  {
   "cell_type": "markdown",
   "metadata": {},
   "source": [
    "**Variables Regresoras**\n",
    "\n",
    "Por el análisis de feature importance realizado en la parte de clasificación sabemos que **latitud** (0.30), **longitud** (0.23), **property_surface_total** (0.16), **property_surface_covered** (0.15) y **property_rooms** (0.02) son las features más importantes para predecir el precio de una propiedad por lo que las seleccionamos como **variables regresoras**. "
   ]
  },
  {
   "cell_type": "code",
   "execution_count": 57,
   "metadata": {},
   "outputs": [],
   "source": [
    "#selecciono variables regresoras y a predecir\n",
    "x_train_xgb = viviendas_caba_train[['latitud','longitud', 'property_surface_total', 'property_surface_covered', 'property_rooms']]\n",
    "x_test_xgb = viviendas_caba_test[['latitud','longitud', 'property_surface_total', 'property_surface_covered', 'property_rooms']]\n",
    "\n",
    "y_train_xgb = viviendas_caba_train.property_price\n",
    "y_test_xgb = viviendas_caba_test.property_price"
   ]
  },
  {
   "cell_type": "code",
   "execution_count": 58,
   "metadata": {},
   "outputs": [],
   "source": [
    "scaler = MinMaxScaler() \n",
    "X_train_xgb = scaler.fit_transform(x_train_xgb)\n",
    "X_test_xgb = scaler.transform(x_test_xgb)"
   ]
  },
  {
   "cell_type": "code",
   "execution_count": 59,
   "metadata": {},
   "outputs": [
    {
     "data": {
      "text/plain": [
       "array([0.837465  , 0.86869888, 0.89836094, 0.86159945, 0.90945399])"
      ]
     },
     "execution_count": 59,
     "metadata": {},
     "output_type": "execute_result"
    }
   ],
   "source": [
    "import xgboost as xgb\n",
    "#Grilla de Parámetros\n",
    "params_grid = {\n",
    "    'n_estimators': [100, 400, 800],\n",
    "    'max_depth': [3, 6, 9],\n",
    "    'learning_rate': [0.05, 0.1, 0.20],\n",
    "    'min_child_weight': [1, 10, 100]\n",
    "    }\n",
    "\n",
    "#Clasificador KNN\n",
    "xgb_regressor = xgb.XGBRegressor()\n",
    "\n",
    "#Random Search con 5 Folds y 5 iteraciones\n",
    "rand_xgb = RandomizedSearchCV(xgb_regressor, params_grid, cv=5, scoring='r2', n_iter=5, random_state=5)\n",
    "\n",
    "rand_xgb.fit(x_train_xgb, y_train_xgb)\n",
    "rand_xgb.cv_results_['mean_test_score']"
   ]
  },
  {
   "cell_type": "code",
   "execution_count": 60,
   "metadata": {},
   "outputs": [
    {
     "data": {
      "text/html": [
       "<style>#sk-container-id-4 {color: black;background-color: white;}#sk-container-id-4 pre{padding: 0;}#sk-container-id-4 div.sk-toggleable {background-color: white;}#sk-container-id-4 label.sk-toggleable__label {cursor: pointer;display: block;width: 100%;margin-bottom: 0;padding: 0.3em;box-sizing: border-box;text-align: center;}#sk-container-id-4 label.sk-toggleable__label-arrow:before {content: \"▸\";float: left;margin-right: 0.25em;color: #696969;}#sk-container-id-4 label.sk-toggleable__label-arrow:hover:before {color: black;}#sk-container-id-4 div.sk-estimator:hover label.sk-toggleable__label-arrow:before {color: black;}#sk-container-id-4 div.sk-toggleable__content {max-height: 0;max-width: 0;overflow: hidden;text-align: left;background-color: #f0f8ff;}#sk-container-id-4 div.sk-toggleable__content pre {margin: 0.2em;color: black;border-radius: 0.25em;background-color: #f0f8ff;}#sk-container-id-4 input.sk-toggleable__control:checked~div.sk-toggleable__content {max-height: 200px;max-width: 100%;overflow: auto;}#sk-container-id-4 input.sk-toggleable__control:checked~label.sk-toggleable__label-arrow:before {content: \"▾\";}#sk-container-id-4 div.sk-estimator input.sk-toggleable__control:checked~label.sk-toggleable__label {background-color: #d4ebff;}#sk-container-id-4 div.sk-label input.sk-toggleable__control:checked~label.sk-toggleable__label {background-color: #d4ebff;}#sk-container-id-4 input.sk-hidden--visually {border: 0;clip: rect(1px 1px 1px 1px);clip: rect(1px, 1px, 1px, 1px);height: 1px;margin: -1px;overflow: hidden;padding: 0;position: absolute;width: 1px;}#sk-container-id-4 div.sk-estimator {font-family: monospace;background-color: #f0f8ff;border: 1px dotted black;border-radius: 0.25em;box-sizing: border-box;margin-bottom: 0.5em;}#sk-container-id-4 div.sk-estimator:hover {background-color: #d4ebff;}#sk-container-id-4 div.sk-parallel-item::after {content: \"\";width: 100%;border-bottom: 1px solid gray;flex-grow: 1;}#sk-container-id-4 div.sk-label:hover label.sk-toggleable__label {background-color: #d4ebff;}#sk-container-id-4 div.sk-serial::before {content: \"\";position: absolute;border-left: 1px solid gray;box-sizing: border-box;top: 0;bottom: 0;left: 50%;z-index: 0;}#sk-container-id-4 div.sk-serial {display: flex;flex-direction: column;align-items: center;background-color: white;padding-right: 0.2em;padding-left: 0.2em;position: relative;}#sk-container-id-4 div.sk-item {position: relative;z-index: 1;}#sk-container-id-4 div.sk-parallel {display: flex;align-items: stretch;justify-content: center;background-color: white;position: relative;}#sk-container-id-4 div.sk-item::before, #sk-container-id-4 div.sk-parallel-item::before {content: \"\";position: absolute;border-left: 1px solid gray;box-sizing: border-box;top: 0;bottom: 0;left: 50%;z-index: -1;}#sk-container-id-4 div.sk-parallel-item {display: flex;flex-direction: column;z-index: 1;position: relative;background-color: white;}#sk-container-id-4 div.sk-parallel-item:first-child::after {align-self: flex-end;width: 50%;}#sk-container-id-4 div.sk-parallel-item:last-child::after {align-self: flex-start;width: 50%;}#sk-container-id-4 div.sk-parallel-item:only-child::after {width: 0;}#sk-container-id-4 div.sk-dashed-wrapped {border: 1px dashed gray;margin: 0 0.4em 0.5em 0.4em;box-sizing: border-box;padding-bottom: 0.4em;background-color: white;}#sk-container-id-4 div.sk-label label {font-family: monospace;font-weight: bold;display: inline-block;line-height: 1.2em;}#sk-container-id-4 div.sk-label-container {text-align: center;}#sk-container-id-4 div.sk-container {/* jupyter's `normalize.less` sets `[hidden] { display: none; }` but bootstrap.min.css set `[hidden] { display: none !important; }` so we also need the `!important` here to be able to override the default hidden behavior on the sphinx rendered scikit-learn.org. See: https://github.com/scikit-learn/scikit-learn/issues/21755 */display: inline-block !important;position: relative;}#sk-container-id-4 div.sk-text-repr-fallback {display: none;}</style><div id=\"sk-container-id-4\" class=\"sk-top-container\"><div class=\"sk-text-repr-fallback\"><pre>XGBRegressor(base_score=0.5, booster=&#x27;gbtree&#x27;, callbacks=None,\n",
       "             colsample_bylevel=1, colsample_bynode=1, colsample_bytree=1,\n",
       "             early_stopping_rounds=None, enable_categorical=False,\n",
       "             eval_metric=None, feature_types=None, gamma=0, gpu_id=-1,\n",
       "             grow_policy=&#x27;depthwise&#x27;, importance_type=None,\n",
       "             interaction_constraints=&#x27;&#x27;, learning_rate=0.05, max_bin=256,\n",
       "             max_cat_threshold=64, max_cat_to_onehot=4, max_delta_step=0,\n",
       "             max_depth=9, max_leaves=0, min_child_weight=1, missing=nan,\n",
       "             monotone_constraints=&#x27;()&#x27;, n_estimators=800, n_jobs=0,\n",
       "             num_parallel_tree=1, predictor=&#x27;auto&#x27;, random_state=0, ...)</pre><b>In a Jupyter environment, please rerun this cell to show the HTML representation or trust the notebook. <br />On GitHub, the HTML representation is unable to render, please try loading this page with nbviewer.org.</b></div><div class=\"sk-container\" hidden><div class=\"sk-item\"><div class=\"sk-estimator sk-toggleable\"><input class=\"sk-toggleable__control sk-hidden--visually\" id=\"sk-estimator-id-4\" type=\"checkbox\" checked><label for=\"sk-estimator-id-4\" class=\"sk-toggleable__label sk-toggleable__label-arrow\">XGBRegressor</label><div class=\"sk-toggleable__content\"><pre>XGBRegressor(base_score=0.5, booster=&#x27;gbtree&#x27;, callbacks=None,\n",
       "             colsample_bylevel=1, colsample_bynode=1, colsample_bytree=1,\n",
       "             early_stopping_rounds=None, enable_categorical=False,\n",
       "             eval_metric=None, feature_types=None, gamma=0, gpu_id=-1,\n",
       "             grow_policy=&#x27;depthwise&#x27;, importance_type=None,\n",
       "             interaction_constraints=&#x27;&#x27;, learning_rate=0.05, max_bin=256,\n",
       "             max_cat_threshold=64, max_cat_to_onehot=4, max_delta_step=0,\n",
       "             max_depth=9, max_leaves=0, min_child_weight=1, missing=nan,\n",
       "             monotone_constraints=&#x27;()&#x27;, n_estimators=800, n_jobs=0,\n",
       "             num_parallel_tree=1, predictor=&#x27;auto&#x27;, random_state=0, ...)</pre></div></div></div></div></div>"
      ],
      "text/plain": [
       "XGBRegressor(base_score=0.5, booster='gbtree', callbacks=None,\n",
       "             colsample_bylevel=1, colsample_bynode=1, colsample_bytree=1,\n",
       "             early_stopping_rounds=None, enable_categorical=False,\n",
       "             eval_metric=None, feature_types=None, gamma=0, gpu_id=-1,\n",
       "             grow_policy='depthwise', importance_type=None,\n",
       "             interaction_constraints='', learning_rate=0.05, max_bin=256,\n",
       "             max_cat_threshold=64, max_cat_to_onehot=4, max_delta_step=0,\n",
       "             max_depth=9, max_leaves=0, min_child_weight=1, missing=nan,\n",
       "             monotone_constraints='()', n_estimators=800, n_jobs=0,\n",
       "             num_parallel_tree=1, predictor='auto', random_state=0, ...)"
      ]
     },
     "execution_count": 60,
     "metadata": {},
     "output_type": "execute_result"
    }
   ],
   "source": [
    "best_xgb_regressor = rand_xgb.best_estimator_\n",
    "best_xgb_regressor"
   ]
  },
  {
   "cell_type": "markdown",
   "metadata": {},
   "source": [
    "#### Métricas sobre train"
   ]
  },
  {
   "cell_type": "code",
   "execution_count": 61,
   "metadata": {},
   "outputs": [
    {
     "name": "stdout",
     "output_type": "stream",
     "text": [
      "Coef. de Determinación R2: 0.9854063568573688\n",
      "Coef. de Determinación R2 ajustado: 0.9854055711757546\n",
      "El error (mse) de train es: 1274794327.7162428\n",
      "El error (rmse) de train es: 35704.2620385332\n"
     ]
    }
   ],
   "source": [
    "#Predicción con mejor estimador\n",
    "y_pred_train_xgb = best_xgb_regressor.predict(x_train_xgb)\n",
    "\n",
    "#Coef. de Determinación R2\n",
    "r2_score_train_xgb = r2_score(y_train_xgb, y_pred_train_xgb)\n",
    "print(f'Coef. de Determinación R2: {r2_score_train_xgb}')\n",
    "\n",
    "#Coef. de Determinación R2 ajustado\n",
    "n = x_train_xgb.shape[0] #n = count of rows in your dataset used for train or test\n",
    "p = 4 #p = count of independent variables\n",
    "print(f'Coef. de Determinación R2 ajustado: {1-(1-r2_score_train_xgb)*(n-1)/(n-p-1)}')\n",
    "\n",
    "#Mean Square Error\n",
    "mse = metrics.mean_squared_error(\n",
    "        y_true  = y_train_xgb,\n",
    "        y_pred  = y_pred_train_xgb,\n",
    "        squared = True\n",
    "       )\n",
    "\n",
    "print(f\"El error (mse) de train es: {mse}\")\n",
    "\n",
    "#Root Mean Square Error\n",
    "rmse = metrics.mean_squared_error(\n",
    "        y_true  = y_train_xgb,\n",
    "        y_pred  = y_pred_train_xgb,\n",
    "        squared = False\n",
    "       )\n",
    "\n",
    "print(f\"El error (rmse) de train es: {rmse}\")"
   ]
  },
  {
   "cell_type": "code",
   "execution_count": 62,
   "metadata": {},
   "outputs": [
    {
     "data": {
      "text/html": [
       "<div>\n",
       "<style scoped>\n",
       "    .dataframe tbody tr th:only-of-type {\n",
       "        vertical-align: middle;\n",
       "    }\n",
       "\n",
       "    .dataframe tbody tr th {\n",
       "        vertical-align: top;\n",
       "    }\n",
       "\n",
       "    .dataframe thead th {\n",
       "        text-align: right;\n",
       "    }\n",
       "</style>\n",
       "<table border=\"1\" class=\"dataframe\">\n",
       "  <thead>\n",
       "    <tr style=\"text-align: right;\">\n",
       "      <th></th>\n",
       "      <th>Valor Real</th>\n",
       "      <th>Prediccion</th>\n",
       "      <th>Error</th>\n",
       "    </tr>\n",
       "  </thead>\n",
       "  <tbody>\n",
       "    <tr>\n",
       "      <th>0</th>\n",
       "      <td>167113.0</td>\n",
       "      <td>137736.0</td>\n",
       "      <td>29377.0</td>\n",
       "    </tr>\n",
       "    <tr>\n",
       "      <th>1</th>\n",
       "      <td>129000.0</td>\n",
       "      <td>126834.0</td>\n",
       "      <td>2166.0</td>\n",
       "    </tr>\n",
       "    <tr>\n",
       "      <th>2</th>\n",
       "      <td>124600.0</td>\n",
       "      <td>132584.0</td>\n",
       "      <td>-7984.0</td>\n",
       "    </tr>\n",
       "    <tr>\n",
       "      <th>3</th>\n",
       "      <td>196000.0</td>\n",
       "      <td>166749.0</td>\n",
       "      <td>29251.0</td>\n",
       "    </tr>\n",
       "    <tr>\n",
       "      <th>4</th>\n",
       "      <td>235000.0</td>\n",
       "      <td>173477.0</td>\n",
       "      <td>61523.0</td>\n",
       "    </tr>\n",
       "  </tbody>\n",
       "</table>\n",
       "</div>"
      ],
      "text/plain": [
       "   Valor Real  Prediccion    Error\n",
       "0    167113.0    137736.0  29377.0\n",
       "1    129000.0    126834.0   2166.0\n",
       "2    124600.0    132584.0  -7984.0\n",
       "3    196000.0    166749.0  29251.0\n",
       "4    235000.0    173477.0  61523.0"
      ]
     },
     "execution_count": 62,
     "metadata": {},
     "output_type": "execute_result"
    }
   ],
   "source": [
    "# Performance\n",
    "performance_train_xgb = pd.DataFrame({'Valor Real': y_train_xgb,\n",
    "                            'Prediccion': y_pred_train_xgb.round(),\n",
    "                            'Error': y_train_xgb - y_pred_train_xgb.round()})\n",
    "# View\n",
    "performance_train_xgb.head()"
   ]
  },
  {
   "cell_type": "code",
   "execution_count": 63,
   "metadata": {},
   "outputs": [
    {
     "data": {
      "image/png": "[encoded data removed]",
      "text/plain": [
       "<Figure size 576x396 with 1 Axes>"
      ]
     },
     "metadata": {},
     "output_type": "display_data"
    }
   ],
   "source": [
    "scatter_real_predict_train_xgb = performance_train_xgb.plot.scatter(x=\"Valor Real\", y=\"Prediccion\", s=10, c='tab:blue').set(title=\"Valor Real vs Predicción\",xlabel='Valor Real',ylabel='Prediccion') \n"
   ]
  },
  {
   "cell_type": "markdown",
   "metadata": {},
   "source": [
    "#### Métricas sobre test"
   ]
  },
  {
   "cell_type": "code",
   "execution_count": 64,
   "metadata": {},
   "outputs": [
    {
     "name": "stdout",
     "output_type": "stream",
     "text": [
      "Coef. de Determinación R2: 0.9031754702414506\n",
      "Coef. de Determinación R2 ajustado: 0.9031546152460797\n",
      "El error (mse) de test es: 9055185961.33191\n",
      "El error (rmse) de test es: 95158.740856171\n"
     ]
    }
   ],
   "source": [
    "#Predicción con mejor estimador\n",
    "y_pred_test_xgb = best_xgb_regressor.predict(x_test_xgb)\n",
    "\n",
    "#Coef. de Determinación R2\n",
    "r2_score_test_xgb = r2_score(y_test_xgb, y_pred_test_xgb)\n",
    "print(f'Coef. de Determinación R2: {r2_score_test_xgb}')\n",
    "\n",
    "#Coef. de Determinación R2 ajustado\n",
    "n = x_test_xgb.shape[0] #n = count of rows in your dataset used for train or test\n",
    "p = 4 #p = count of independent variables\n",
    "print(f'Coef. de Determinación R2 ajustado: {1-(1-r2_score_test_xgb)*(n-1)/(n-p-1)}')\n",
    "\n",
    "#Mean Square Error\n",
    "mse = metrics.mean_squared_error(\n",
    "        y_true  = y_test_xgb,\n",
    "        y_pred  = y_pred_test_xgb,\n",
    "        squared = True\n",
    "       )\n",
    "\n",
    "print(f\"El error (mse) de test es: {mse}\")\n",
    "\n",
    "#Root Mean Square Error\n",
    "rmse = metrics.mean_squared_error(\n",
    "        y_true  = y_test_xgb,\n",
    "        y_pred  = y_pred_test_xgb,\n",
    "        squared = False\n",
    "       )\n",
    "\n",
    "print(f\"El error (rmse) de test es: {rmse}\")"
   ]
  },
  {
   "cell_type": "code",
   "execution_count": 65,
   "metadata": {},
   "outputs": [
    {
     "data": {
      "text/html": [
       "<div>\n",
       "<style scoped>\n",
       "    .dataframe tbody tr th:only-of-type {\n",
       "        vertical-align: middle;\n",
       "    }\n",
       "\n",
       "    .dataframe tbody tr th {\n",
       "        vertical-align: top;\n",
       "    }\n",
       "\n",
       "    .dataframe thead th {\n",
       "        text-align: right;\n",
       "    }\n",
       "</style>\n",
       "<table border=\"1\" class=\"dataframe\">\n",
       "  <thead>\n",
       "    <tr style=\"text-align: right;\">\n",
       "      <th></th>\n",
       "      <th>Valor Real</th>\n",
       "      <th>Prediccion</th>\n",
       "      <th>Error</th>\n",
       "    </tr>\n",
       "  </thead>\n",
       "  <tbody>\n",
       "    <tr>\n",
       "      <th>0</th>\n",
       "      <td>140000.0</td>\n",
       "      <td>108438.0</td>\n",
       "      <td>31562.0</td>\n",
       "    </tr>\n",
       "    <tr>\n",
       "      <th>1</th>\n",
       "      <td>69900.0</td>\n",
       "      <td>84408.0</td>\n",
       "      <td>-14508.0</td>\n",
       "    </tr>\n",
       "    <tr>\n",
       "      <th>2</th>\n",
       "      <td>75900.0</td>\n",
       "      <td>69563.0</td>\n",
       "      <td>6337.0</td>\n",
       "    </tr>\n",
       "    <tr>\n",
       "      <th>3</th>\n",
       "      <td>315000.0</td>\n",
       "      <td>193974.0</td>\n",
       "      <td>121026.0</td>\n",
       "    </tr>\n",
       "    <tr>\n",
       "      <th>4</th>\n",
       "      <td>79000.0</td>\n",
       "      <td>72990.0</td>\n",
       "      <td>6010.0</td>\n",
       "    </tr>\n",
       "  </tbody>\n",
       "</table>\n",
       "</div>"
      ],
      "text/plain": [
       "   Valor Real  Prediccion     Error\n",
       "0    140000.0    108438.0   31562.0\n",
       "1     69900.0     84408.0  -14508.0\n",
       "2     75900.0     69563.0    6337.0\n",
       "3    315000.0    193974.0  121026.0\n",
       "4     79000.0     72990.0    6010.0"
      ]
     },
     "execution_count": 65,
     "metadata": {},
     "output_type": "execute_result"
    }
   ],
   "source": [
    "# Performance\n",
    "performance_test_xgb = pd.DataFrame({'Valor Real': y_test_xgb,\n",
    "                            'Prediccion': y_pred_test_xgb.round(),\n",
    "                            'Error': y_test_xgb - y_pred_test_xgb.round()})\n",
    "# View\n",
    "performance_test_xgb.head()"
   ]
  },
  {
   "cell_type": "code",
   "execution_count": 66,
   "metadata": {},
   "outputs": [
    {
     "data": {
      "image/png": "[encoded data removed]",
      "text/plain": [
       "<Figure size 576x396 with 1 Axes>"
      ]
     },
     "metadata": {},
     "output_type": "display_data"
    }
   ],
   "source": [
    "scatter_real_predict_test__xgb = performance_test_xgb.plot.scatter(x=\"Valor Real\", y=\"Prediccion\", s=10, c='tab:blue').set(title=\"Valor Real vs Predicción\",xlabel='Valor Real',ylabel='Prediccion') \n"
   ]
  },
  {
   "cell_type": "markdown",
   "metadata": {},
   "source": [
    "### Dataset con reducción de dimensionalidad:"
   ]
  },
  {
   "cell_type": "markdown",
   "metadata": {},
   "source": [
    "**Variables Regresoras**\n",
    "\n",
    "Gracias al análisis de feature importance realizado en la parte de clasificación sabemos que para obtener el mejor r2 tenemos que elegir a las 4 componentes principales como variables regresoras"
   ]
  },
  {
   "cell_type": "code",
   "execution_count": 67,
   "metadata": {},
   "outputs": [],
   "source": [
    "#selecciono variables regresoras y a predecir\n",
    "X_xgb_pca = pca_df[['cp_1','cp_2','cp_3', 'cp_4']]\n",
    "y_xgb_pca = pca_df.property_price\n",
    "\n",
    "#Separacion Train/test  (80/20)\n",
    "x_train_xgb_pca, x_test_xgb_pca, y_train_xgb_pca, y_test_xgb_pca = train_test_split(X_xgb_pca, y_xgb_pca, test_size= 0.2, random_state=12)"
   ]
  },
  {
   "cell_type": "code",
   "execution_count": 68,
   "metadata": {},
   "outputs": [],
   "source": [
    "scaler = MinMaxScaler() \n",
    "x_train_xgb_pca = scaler.fit_transform(x_train_xgb_pca)\n",
    "x_test_xgb_pca = scaler.transform(x_test_xgb_pca)"
   ]
  },
  {
   "cell_type": "code",
   "execution_count": 69,
   "metadata": {},
   "outputs": [
    {
     "data": {
      "text/plain": [
       "array([0.73126314, 0.75653379, 0.76498285, 0.74515482, 0.76388702])"
      ]
     },
     "execution_count": 69,
     "metadata": {},
     "output_type": "execute_result"
    }
   ],
   "source": [
    "import xgboost as xgb\n",
    "#Grilla de Parámetros\n",
    "params_grid = {\n",
    "    'n_estimators': [100, 400, 800],\n",
    "    'max_depth': [3, 6, 9],\n",
    "    'learning_rate': [0.05, 0.1, 0.20],\n",
    "    'min_child_weight': [1, 10, 100]\n",
    "    }\n",
    "\n",
    "#Clasificador KNN\n",
    "xgb_regressor_pca = xgb.XGBRegressor()\n",
    "\n",
    "#Random Search con 5 Folds y 5 iteraciones\n",
    "rand_xgb_pca = RandomizedSearchCV(xgb_regressor_pca, params_grid, cv=5, scoring='r2', n_iter=5, random_state=5)\n",
    "\n",
    "rand_xgb_pca.fit(x_train_xgb_pca, y_train_xgb_pca)\n",
    "rand_xgb_pca.cv_results_['mean_test_score']"
   ]
  },
  {
   "cell_type": "code",
   "execution_count": 70,
   "metadata": {},
   "outputs": [
    {
     "data": {
      "text/html": [
       "<style>#sk-container-id-5 {color: black;background-color: white;}#sk-container-id-5 pre{padding: 0;}#sk-container-id-5 div.sk-toggleable {background-color: white;}#sk-container-id-5 label.sk-toggleable__label {cursor: pointer;display: block;width: 100%;margin-bottom: 0;padding: 0.3em;box-sizing: border-box;text-align: center;}#sk-container-id-5 label.sk-toggleable__label-arrow:before {content: \"▸\";float: left;margin-right: 0.25em;color: #696969;}#sk-container-id-5 label.sk-toggleable__label-arrow:hover:before {color: black;}#sk-container-id-5 div.sk-estimator:hover label.sk-toggleable__label-arrow:before {color: black;}#sk-container-id-5 div.sk-toggleable__content {max-height: 0;max-width: 0;overflow: hidden;text-align: left;background-color: #f0f8ff;}#sk-container-id-5 div.sk-toggleable__content pre {margin: 0.2em;color: black;border-radius: 0.25em;background-color: #f0f8ff;}#sk-container-id-5 input.sk-toggleable__control:checked~div.sk-toggleable__content {max-height: 200px;max-width: 100%;overflow: auto;}#sk-container-id-5 input.sk-toggleable__control:checked~label.sk-toggleable__label-arrow:before {content: \"▾\";}#sk-container-id-5 div.sk-estimator input.sk-toggleable__control:checked~label.sk-toggleable__label {background-color: #d4ebff;}#sk-container-id-5 div.sk-label input.sk-toggleable__control:checked~label.sk-toggleable__label {background-color: #d4ebff;}#sk-container-id-5 input.sk-hidden--visually {border: 0;clip: rect(1px 1px 1px 1px);clip: rect(1px, 1px, 1px, 1px);height: 1px;margin: -1px;overflow: hidden;padding: 0;position: absolute;width: 1px;}#sk-container-id-5 div.sk-estimator {font-family: monospace;background-color: #f0f8ff;border: 1px dotted black;border-radius: 0.25em;box-sizing: border-box;margin-bottom: 0.5em;}#sk-container-id-5 div.sk-estimator:hover {background-color: #d4ebff;}#sk-container-id-5 div.sk-parallel-item::after {content: \"\";width: 100%;border-bottom: 1px solid gray;flex-grow: 1;}#sk-container-id-5 div.sk-label:hover label.sk-toggleable__label {background-color: #d4ebff;}#sk-container-id-5 div.sk-serial::before {content: \"\";position: absolute;border-left: 1px solid gray;box-sizing: border-box;top: 0;bottom: 0;left: 50%;z-index: 0;}#sk-container-id-5 div.sk-serial {display: flex;flex-direction: column;align-items: center;background-color: white;padding-right: 0.2em;padding-left: 0.2em;position: relative;}#sk-container-id-5 div.sk-item {position: relative;z-index: 1;}#sk-container-id-5 div.sk-parallel {display: flex;align-items: stretch;justify-content: center;background-color: white;position: relative;}#sk-container-id-5 div.sk-item::before, #sk-container-id-5 div.sk-parallel-item::before {content: \"\";position: absolute;border-left: 1px solid gray;box-sizing: border-box;top: 0;bottom: 0;left: 50%;z-index: -1;}#sk-container-id-5 div.sk-parallel-item {display: flex;flex-direction: column;z-index: 1;position: relative;background-color: white;}#sk-container-id-5 div.sk-parallel-item:first-child::after {align-self: flex-end;width: 50%;}#sk-container-id-5 div.sk-parallel-item:last-child::after {align-self: flex-start;width: 50%;}#sk-container-id-5 div.sk-parallel-item:only-child::after {width: 0;}#sk-container-id-5 div.sk-dashed-wrapped {border: 1px dashed gray;margin: 0 0.4em 0.5em 0.4em;box-sizing: border-box;padding-bottom: 0.4em;background-color: white;}#sk-container-id-5 div.sk-label label {font-family: monospace;font-weight: bold;display: inline-block;line-height: 1.2em;}#sk-container-id-5 div.sk-label-container {text-align: center;}#sk-container-id-5 div.sk-container {/* jupyter's `normalize.less` sets `[hidden] { display: none; }` but bootstrap.min.css set `[hidden] { display: none !important; }` so we also need the `!important` here to be able to override the default hidden behavior on the sphinx rendered scikit-learn.org. See: https://github.com/scikit-learn/scikit-learn/issues/21755 */display: inline-block !important;position: relative;}#sk-container-id-5 div.sk-text-repr-fallback {display: none;}</style><div id=\"sk-container-id-5\" class=\"sk-top-container\"><div class=\"sk-text-repr-fallback\"><pre>XGBRegressor(base_score=0.5, booster=&#x27;gbtree&#x27;, callbacks=None,\n",
       "             colsample_bylevel=1, colsample_bynode=1, colsample_bytree=1,\n",
       "             early_stopping_rounds=None, enable_categorical=False,\n",
       "             eval_metric=None, feature_types=None, gamma=0, gpu_id=-1,\n",
       "             grow_policy=&#x27;depthwise&#x27;, importance_type=None,\n",
       "             interaction_constraints=&#x27;&#x27;, learning_rate=0.05, max_bin=256,\n",
       "             max_cat_threshold=64, max_cat_to_onehot=4, max_delta_step=0,\n",
       "             max_depth=6, max_leaves=0, min_child_weight=1, missing=nan,\n",
       "             monotone_constraints=&#x27;()&#x27;, n_estimators=400, n_jobs=0,\n",
       "             num_parallel_tree=1, predictor=&#x27;auto&#x27;, random_state=0, ...)</pre><b>In a Jupyter environment, please rerun this cell to show the HTML representation or trust the notebook. <br />On GitHub, the HTML representation is unable to render, please try loading this page with nbviewer.org.</b></div><div class=\"sk-container\" hidden><div class=\"sk-item\"><div class=\"sk-estimator sk-toggleable\"><input class=\"sk-toggleable__control sk-hidden--visually\" id=\"sk-estimator-id-5\" type=\"checkbox\" checked><label for=\"sk-estimator-id-5\" class=\"sk-toggleable__label sk-toggleable__label-arrow\">XGBRegressor</label><div class=\"sk-toggleable__content\"><pre>XGBRegressor(base_score=0.5, booster=&#x27;gbtree&#x27;, callbacks=None,\n",
       "             colsample_bylevel=1, colsample_bynode=1, colsample_bytree=1,\n",
       "             early_stopping_rounds=None, enable_categorical=False,\n",
       "             eval_metric=None, feature_types=None, gamma=0, gpu_id=-1,\n",
       "             grow_policy=&#x27;depthwise&#x27;, importance_type=None,\n",
       "             interaction_constraints=&#x27;&#x27;, learning_rate=0.05, max_bin=256,\n",
       "             max_cat_threshold=64, max_cat_to_onehot=4, max_delta_step=0,\n",
       "             max_depth=6, max_leaves=0, min_child_weight=1, missing=nan,\n",
       "             monotone_constraints=&#x27;()&#x27;, n_estimators=400, n_jobs=0,\n",
       "             num_parallel_tree=1, predictor=&#x27;auto&#x27;, random_state=0, ...)</pre></div></div></div></div></div>"
      ],
      "text/plain": [
       "XGBRegressor(base_score=0.5, booster='gbtree', callbacks=None,\n",
       "             colsample_bylevel=1, colsample_bynode=1, colsample_bytree=1,\n",
       "             early_stopping_rounds=None, enable_categorical=False,\n",
       "             eval_metric=None, feature_types=None, gamma=0, gpu_id=-1,\n",
       "             grow_policy='depthwise', importance_type=None,\n",
       "             interaction_constraints='', learning_rate=0.05, max_bin=256,\n",
       "             max_cat_threshold=64, max_cat_to_onehot=4, max_delta_step=0,\n",
       "             max_depth=6, max_leaves=0, min_child_weight=1, missing=nan,\n",
       "             monotone_constraints='()', n_estimators=400, n_jobs=0,\n",
       "             num_parallel_tree=1, predictor='auto', random_state=0, ...)"
      ]
     },
     "execution_count": 70,
     "metadata": {},
     "output_type": "execute_result"
    }
   ],
   "source": [
    "best_xgb_regressor_pca = rand_xgb_pca.best_estimator_\n",
    "best_xgb_regressor_pca"
   ]
  },
  {
   "cell_type": "markdown",
   "metadata": {},
   "source": [
    "#### Métricas sobre train"
   ]
  },
  {
   "cell_type": "code",
   "execution_count": 71,
   "metadata": {},
   "outputs": [
    {
     "name": "stdout",
     "output_type": "stream",
     "text": [
      "Coef. de Determinación R2: 0.8636292656816953\n",
      "Coef. de Determinación R2 ajustado: 0.8636219236587428\n",
      "El error (mse) de train es: 11991099834.800097\n",
      "El error (rmse) de train es: 109503.88045544366\n"
     ]
    }
   ],
   "source": [
    "#Predicción con mejor estimador\n",
    "y_pred_train_xgb_pca = best_xgb_regressor_pca.predict(x_train_xgb_pca)\n",
    "\n",
    "#Coef. de Determinación R2\n",
    "r2_score_train_xgb_pca = r2_score(y_train_xgb_pca, y_pred_train_xgb_pca)\n",
    "print(f'Coef. de Determinación R2: {r2_score_train_xgb_pca}')\n",
    "\n",
    "#Coef. de Determinación R2 ajustado\n",
    "n = x_train_xgb_pca.shape[0] #n = count of rows in your dataset used for train or test\n",
    "p = 4 #p = count of independent variables\n",
    "print(f'Coef. de Determinación R2 ajustado: {1-(1-r2_score_train_xgb_pca)*(n-1)/(n-p-1)}')\n",
    "\n",
    "#Mean Square Error\n",
    "mse = metrics.mean_squared_error(\n",
    "        y_true  = y_train_xgb_pca,\n",
    "        y_pred  = y_pred_train_xgb_pca,\n",
    "        squared = True\n",
    "       )\n",
    "\n",
    "print(f\"El error (mse) de train es: {mse}\")\n",
    "\n",
    "#Root Mean Square Error\n",
    "rmse = metrics.mean_squared_error(\n",
    "        y_true  = y_train_xgb_pca,\n",
    "        y_pred  = y_pred_train_xgb_pca,\n",
    "        squared = False\n",
    "       )\n",
    "\n",
    "print(f\"El error (rmse) de train es: {rmse}\")"
   ]
  },
  {
   "cell_type": "code",
   "execution_count": 72,
   "metadata": {},
   "outputs": [
    {
     "data": {
      "text/html": [
       "<div>\n",
       "<style scoped>\n",
       "    .dataframe tbody tr th:only-of-type {\n",
       "        vertical-align: middle;\n",
       "    }\n",
       "\n",
       "    .dataframe tbody tr th {\n",
       "        vertical-align: top;\n",
       "    }\n",
       "\n",
       "    .dataframe thead th {\n",
       "        text-align: right;\n",
       "    }\n",
       "</style>\n",
       "<table border=\"1\" class=\"dataframe\">\n",
       "  <thead>\n",
       "    <tr style=\"text-align: right;\">\n",
       "      <th></th>\n",
       "      <th>Valor Real</th>\n",
       "      <th>Prediccion</th>\n",
       "      <th>Error</th>\n",
       "    </tr>\n",
       "  </thead>\n",
       "  <tbody>\n",
       "    <tr>\n",
       "      <th>59523</th>\n",
       "      <td>89000.0</td>\n",
       "      <td>143508.0</td>\n",
       "      <td>-54508.0</td>\n",
       "    </tr>\n",
       "    <tr>\n",
       "      <th>76456</th>\n",
       "      <td>140000.0</td>\n",
       "      <td>130431.0</td>\n",
       "      <td>9569.0</td>\n",
       "    </tr>\n",
       "    <tr>\n",
       "      <th>26920</th>\n",
       "      <td>290000.0</td>\n",
       "      <td>198923.0</td>\n",
       "      <td>91077.0</td>\n",
       "    </tr>\n",
       "    <tr>\n",
       "      <th>27840</th>\n",
       "      <td>89000.0</td>\n",
       "      <td>98242.0</td>\n",
       "      <td>-9242.0</td>\n",
       "    </tr>\n",
       "    <tr>\n",
       "      <th>20164</th>\n",
       "      <td>650000.0</td>\n",
       "      <td>819091.0</td>\n",
       "      <td>-169091.0</td>\n",
       "    </tr>\n",
       "  </tbody>\n",
       "</table>\n",
       "</div>"
      ],
      "text/plain": [
       "       Valor Real  Prediccion     Error\n",
       "59523     89000.0    143508.0  -54508.0\n",
       "76456    140000.0    130431.0    9569.0\n",
       "26920    290000.0    198923.0   91077.0\n",
       "27840     89000.0     98242.0   -9242.0\n",
       "20164    650000.0    819091.0 -169091.0"
      ]
     },
     "execution_count": 72,
     "metadata": {},
     "output_type": "execute_result"
    }
   ],
   "source": [
    "# Performance\n",
    "performance_train_xgb_pca = pd.DataFrame({'Valor Real': y_train_xgb_pca,\n",
    "                            'Prediccion': y_pred_train_xgb_pca.round(),\n",
    "                            'Error': y_train_xgb_pca - y_pred_train_xgb_pca.round()})\n",
    "# View\n",
    "performance_train_xgb_pca.head()"
   ]
  },
  {
   "cell_type": "code",
   "execution_count": 73,
   "metadata": {},
   "outputs": [
    {
     "data": {
      "image/png": "[encoded data removed]",
      "text/plain": [
       "<Figure size 576x396 with 1 Axes>"
      ]
     },
     "metadata": {},
     "output_type": "display_data"
    }
   ],
   "source": [
    "scatter_real_predict_train_xgb_pca = performance_train_xgb_pca.plot.scatter(x=\"Valor Real\", y=\"Prediccion\", s=10, c='tab:blue').set(title=\"Valor Real vs Predicción\",xlabel='Valor Real',ylabel='Prediccion') \n"
   ]
  },
  {
   "cell_type": "markdown",
   "metadata": {},
   "source": [
    "#### Métricas sobre test"
   ]
  },
  {
   "cell_type": "code",
   "execution_count": 74,
   "metadata": {},
   "outputs": [
    {
     "name": "stdout",
     "output_type": "stream",
     "text": [
      "Coef. de Determinación R2: 0.785095662990897\n",
      "Coef. de Determinación R2 ajustado: 0.7850493748347376\n",
      "El error (mse) de test es: 19603520756.741264\n",
      "El error (rmse) de test es: 140012.57356659533\n"
     ]
    }
   ],
   "source": [
    "#Predicción con mejor estimador\n",
    "y_pred_test_xgb_pca = best_xgb_regressor_pca.predict(x_test_xgb_pca)\n",
    "\n",
    "#Coef. de Determinación R2\n",
    "r2_score_test_xgb_pca = r2_score(y_test_xgb_pca, y_pred_test_xgb_pca)\n",
    "print(f'Coef. de Determinación R2: {r2_score_test_xgb_pca}')\n",
    "\n",
    "#Coef. de Determinación R2 ajustado\n",
    "n = x_test_xgb_pca.shape[0] #n = count of rows in your dataset used for train or test\n",
    "p = 4 #p = count of independent variables\n",
    "print(f'Coef. de Determinación R2 ajustado: {1-(1-r2_score_test_xgb_pca)*(n-1)/(n-p-1)}')\n",
    "\n",
    "#Mean Square Error\n",
    "mse = metrics.mean_squared_error(\n",
    "        y_true  = y_test_xgb_pca,\n",
    "        y_pred  = y_pred_test_xgb_pca,\n",
    "        squared = True\n",
    "       )\n",
    "\n",
    "print(f\"El error (mse) de test es: {mse}\")\n",
    "\n",
    "#Root Mean Square Error\n",
    "rmse = metrics.mean_squared_error(\n",
    "        y_true  = y_test_xgb_pca,\n",
    "        y_pred  = y_pred_test_xgb_pca,\n",
    "        squared = False\n",
    "       )\n",
    "\n",
    "print(f\"El error (rmse) de test es: {rmse}\")"
   ]
  },
  {
   "cell_type": "code",
   "execution_count": 75,
   "metadata": {},
   "outputs": [
    {
     "data": {
      "text/html": [
       "<div>\n",
       "<style scoped>\n",
       "    .dataframe tbody tr th:only-of-type {\n",
       "        vertical-align: middle;\n",
       "    }\n",
       "\n",
       "    .dataframe tbody tr th {\n",
       "        vertical-align: top;\n",
       "    }\n",
       "\n",
       "    .dataframe thead th {\n",
       "        text-align: right;\n",
       "    }\n",
       "</style>\n",
       "<table border=\"1\" class=\"dataframe\">\n",
       "  <thead>\n",
       "    <tr style=\"text-align: right;\">\n",
       "      <th></th>\n",
       "      <th>Valor Real</th>\n",
       "      <th>Prediccion</th>\n",
       "      <th>Error</th>\n",
       "    </tr>\n",
       "  </thead>\n",
       "  <tbody>\n",
       "    <tr>\n",
       "      <th>53374</th>\n",
       "      <td>85000.0</td>\n",
       "      <td>101839.0</td>\n",
       "      <td>-16839.0</td>\n",
       "    </tr>\n",
       "    <tr>\n",
       "      <th>897</th>\n",
       "      <td>289000.0</td>\n",
       "      <td>179931.0</td>\n",
       "      <td>109069.0</td>\n",
       "    </tr>\n",
       "    <tr>\n",
       "      <th>41973</th>\n",
       "      <td>235000.0</td>\n",
       "      <td>196831.0</td>\n",
       "      <td>38169.0</td>\n",
       "    </tr>\n",
       "    <tr>\n",
       "      <th>20322</th>\n",
       "      <td>92000.0</td>\n",
       "      <td>120060.0</td>\n",
       "      <td>-28060.0</td>\n",
       "    </tr>\n",
       "    <tr>\n",
       "      <th>84681</th>\n",
       "      <td>129000.0</td>\n",
       "      <td>186490.0</td>\n",
       "      <td>-57490.0</td>\n",
       "    </tr>\n",
       "  </tbody>\n",
       "</table>\n",
       "</div>"
      ],
      "text/plain": [
       "       Valor Real  Prediccion     Error\n",
       "53374     85000.0    101839.0  -16839.0\n",
       "897      289000.0    179931.0  109069.0\n",
       "41973    235000.0    196831.0   38169.0\n",
       "20322     92000.0    120060.0  -28060.0\n",
       "84681    129000.0    186490.0  -57490.0"
      ]
     },
     "execution_count": 75,
     "metadata": {},
     "output_type": "execute_result"
    }
   ],
   "source": [
    "# Performance\n",
    "performance_test_xgb_pca = pd.DataFrame({'Valor Real': y_test_xgb_pca,\n",
    "                            'Prediccion': y_pred_test_xgb_pca.round(),\n",
    "                            'Error': y_test_xgb_pca - y_pred_test_xgb_pca.round()})\n",
    "# View\n",
    "performance_test_xgb_pca.head()"
   ]
  },
  {
   "cell_type": "code",
   "execution_count": 76,
   "metadata": {},
   "outputs": [
    {
     "data": {
      "image/png": "[encoded data removed]",
      "text/plain": [
       "<Figure size 576x396 with 1 Axes>"
      ]
     },
     "metadata": {},
     "output_type": "display_data"
    }
   ],
   "source": [
    "scatter_real_predict_test__xgb_pca = performance_test_xgb_pca.plot.scatter(x=\"Valor Real\", y=\"Prediccion\", s=10, c='tab:blue').set(title=\"Valor Real vs Predicción\",xlabel='Valor Real',ylabel='Prediccion') \n"
   ]
  },
  {
   "cell_type": "markdown",
   "metadata": {},
   "source": [
    "### Conclusiones XGBoost\n"
   ]
  },
  {
   "cell_type": "markdown",
   "metadata": {},
   "source": [
    "Utilizamos 5 folds porque no obtuvimos mejoras al utilizar una mayor cantidad.\n",
    "\n",
    "Observamos que los resultados obtenidos son similares a los de KNN, aunque todas las métricas son levemente mejores.\n",
    "\n",
    "La volvemos a observar que predice mejor el dataset sin reduccion de dimensionalidad"
   ]
  },
  {
   "cell_type": "markdown",
   "metadata": {},
   "source": [
    "## Modelo 3: ADABoost"
   ]
  },
  {
   "cell_type": "code",
   "execution_count": 77,
   "metadata": {},
   "outputs": [],
   "source": [
    "#selecciono variables regresoras y a predecir\n",
    "x_train_ADA = viviendas_caba_train[['property_surface_total', 'property_surface_covered', 'property_rooms', 'property_bedrooms']]\n",
    "x_test_ADA = viviendas_caba_test[['property_surface_total', 'property_surface_covered', 'property_rooms', 'property_bedrooms']]\n",
    "\n",
    "\n",
    "y_train_ADA = viviendas_caba_train.property_price\n",
    "y_test_ADA = viviendas_caba_test.property_price"
   ]
  },
  {
   "cell_type": "code",
   "execution_count": 78,
   "metadata": {},
   "outputs": [
    {
     "data": {
      "text/html": [
       "<style>#sk-container-id-6 {color: black;background-color: white;}#sk-container-id-6 pre{padding: 0;}#sk-container-id-6 div.sk-toggleable {background-color: white;}#sk-container-id-6 label.sk-toggleable__label {cursor: pointer;display: block;width: 100%;margin-bottom: 0;padding: 0.3em;box-sizing: border-box;text-align: center;}#sk-container-id-6 label.sk-toggleable__label-arrow:before {content: \"▸\";float: left;margin-right: 0.25em;color: #696969;}#sk-container-id-6 label.sk-toggleable__label-arrow:hover:before {color: black;}#sk-container-id-6 div.sk-estimator:hover label.sk-toggleable__label-arrow:before {color: black;}#sk-container-id-6 div.sk-toggleable__content {max-height: 0;max-width: 0;overflow: hidden;text-align: left;background-color: #f0f8ff;}#sk-container-id-6 div.sk-toggleable__content pre {margin: 0.2em;color: black;border-radius: 0.25em;background-color: #f0f8ff;}#sk-container-id-6 input.sk-toggleable__control:checked~div.sk-toggleable__content {max-height: 200px;max-width: 100%;overflow: auto;}#sk-container-id-6 input.sk-toggleable__control:checked~label.sk-toggleable__label-arrow:before {content: \"▾\";}#sk-container-id-6 div.sk-estimator input.sk-toggleable__control:checked~label.sk-toggleable__label {background-color: #d4ebff;}#sk-container-id-6 div.sk-label input.sk-toggleable__control:checked~label.sk-toggleable__label {background-color: #d4ebff;}#sk-container-id-6 input.sk-hidden--visually {border: 0;clip: rect(1px 1px 1px 1px);clip: rect(1px, 1px, 1px, 1px);height: 1px;margin: -1px;overflow: hidden;padding: 0;position: absolute;width: 1px;}#sk-container-id-6 div.sk-estimator {font-family: monospace;background-color: #f0f8ff;border: 1px dotted black;border-radius: 0.25em;box-sizing: border-box;margin-bottom: 0.5em;}#sk-container-id-6 div.sk-estimator:hover {background-color: #d4ebff;}#sk-container-id-6 div.sk-parallel-item::after {content: \"\";width: 100%;border-bottom: 1px solid gray;flex-grow: 1;}#sk-container-id-6 div.sk-label:hover label.sk-toggleable__label {background-color: #d4ebff;}#sk-container-id-6 div.sk-serial::before {content: \"\";position: absolute;border-left: 1px solid gray;box-sizing: border-box;top: 0;bottom: 0;left: 50%;z-index: 0;}#sk-container-id-6 div.sk-serial {display: flex;flex-direction: column;align-items: center;background-color: white;padding-right: 0.2em;padding-left: 0.2em;position: relative;}#sk-container-id-6 div.sk-item {position: relative;z-index: 1;}#sk-container-id-6 div.sk-parallel {display: flex;align-items: stretch;justify-content: center;background-color: white;position: relative;}#sk-container-id-6 div.sk-item::before, #sk-container-id-6 div.sk-parallel-item::before {content: \"\";position: absolute;border-left: 1px solid gray;box-sizing: border-box;top: 0;bottom: 0;left: 50%;z-index: -1;}#sk-container-id-6 div.sk-parallel-item {display: flex;flex-direction: column;z-index: 1;position: relative;background-color: white;}#sk-container-id-6 div.sk-parallel-item:first-child::after {align-self: flex-end;width: 50%;}#sk-container-id-6 div.sk-parallel-item:last-child::after {align-self: flex-start;width: 50%;}#sk-container-id-6 div.sk-parallel-item:only-child::after {width: 0;}#sk-container-id-6 div.sk-dashed-wrapped {border: 1px dashed gray;margin: 0 0.4em 0.5em 0.4em;box-sizing: border-box;padding-bottom: 0.4em;background-color: white;}#sk-container-id-6 div.sk-label label {font-family: monospace;font-weight: bold;display: inline-block;line-height: 1.2em;}#sk-container-id-6 div.sk-label-container {text-align: center;}#sk-container-id-6 div.sk-container {/* jupyter's `normalize.less` sets `[hidden] { display: none; }` but bootstrap.min.css set `[hidden] { display: none !important; }` so we also need the `!important` here to be able to override the default hidden behavior on the sphinx rendered scikit-learn.org. See: https://github.com/scikit-learn/scikit-learn/issues/21755 */display: inline-block !important;position: relative;}#sk-container-id-6 div.sk-text-repr-fallback {display: none;}</style><div id=\"sk-container-id-6\" class=\"sk-top-container\"><div class=\"sk-text-repr-fallback\"><pre>AdaBoostClassifier(n_estimators=10, random_state=0)</pre><b>In a Jupyter environment, please rerun this cell to show the HTML representation or trust the notebook. <br />On GitHub, the HTML representation is unable to render, please try loading this page with nbviewer.org.</b></div><div class=\"sk-container\" hidden><div class=\"sk-item\"><div class=\"sk-estimator sk-toggleable\"><input class=\"sk-toggleable__control sk-hidden--visually\" id=\"sk-estimator-id-6\" type=\"checkbox\" checked><label for=\"sk-estimator-id-6\" class=\"sk-toggleable__label sk-toggleable__label-arrow\">AdaBoostClassifier</label><div class=\"sk-toggleable__content\"><pre>AdaBoostClassifier(n_estimators=10, random_state=0)</pre></div></div></div></div></div>"
      ],
      "text/plain": [
       "AdaBoostClassifier(n_estimators=10, random_state=0)"
      ]
     },
     "execution_count": 78,
     "metadata": {},
     "output_type": "execute_result"
    }
   ],
   "source": [
    "from sklearn.ensemble import AdaBoostClassifier\n",
    "\n",
    "ab_model = AdaBoostClassifier(n_estimators=10, random_state=0)\n",
    "ab_model.fit(x_train_ADA, y_train_ADA)"
   ]
  },
  {
   "cell_type": "code",
   "execution_count": 79,
   "metadata": {},
   "outputs": [
    {
     "ename": "IndexError",
     "evalue": "list index out of range",
     "output_type": "error",
     "traceback": [
      "\u001b[1;31m---------------------------------------------------------------------------\u001b[0m",
      "\u001b[1;31mIndexError\u001b[0m                                Traceback (most recent call last)",
      "\u001b[1;32mc:\\Users\\iankl\\Documents\\GitHub\\7506R_TP1_GRUPO22_ENTREGA\\7506R_TP1_GRUPO22_ENTREGA_REGRESION.ipynb Celda 83\u001b[0m in \u001b[0;36m<cell line: 7>\u001b[1;34m()\u001b[0m\n\u001b[0;32m      <a href='vscode-notebook-cell:/c%3A/Users/iankl/Documents/GitHub/7506R_TP1_GRUPO22_ENTREGA/7506R_TP1_GRUPO22_ENTREGA_REGRESION.ipynb#Y144sZmlsZQ%3D%3D?line=4'>5</a>\u001b[0m \u001b[39m# Grafico el primer STUMP\u001b[39;00m\n\u001b[0;32m      <a href='vscode-notebook-cell:/c%3A/Users/iankl/Documents/GitHub/7506R_TP1_GRUPO22_ENTREGA/7506R_TP1_GRUPO22_ENTREGA_REGRESION.ipynb#Y144sZmlsZQ%3D%3D?line=5'>6</a>\u001b[0m dot_data \u001b[39m=\u001b[39m StringIO()\n\u001b[1;32m----> <a href='vscode-notebook-cell:/c%3A/Users/iankl/Documents/GitHub/7506R_TP1_GRUPO22_ENTREGA/7506R_TP1_GRUPO22_ENTREGA_REGRESION.ipynb#Y144sZmlsZQ%3D%3D?line=6'>7</a>\u001b[0m export_graphviz(ab_model\u001b[39m.\u001b[39;49mestimators_[\u001b[39m0\u001b[39;49m], out_file\u001b[39m=\u001b[39;49mdot_data,   filled\u001b[39m=\u001b[39;49m\u001b[39mTrue\u001b[39;49;00m, rounded\u001b[39m=\u001b[39;49m\u001b[39mTrue\u001b[39;49;00m,\n\u001b[0;32m      <a href='vscode-notebook-cell:/c%3A/Users/iankl/Documents/GitHub/7506R_TP1_GRUPO22_ENTREGA/7506R_TP1_GRUPO22_ENTREGA_REGRESION.ipynb#Y144sZmlsZQ%3D%3D?line=7'>8</a>\u001b[0m                 special_characters\u001b[39m=\u001b[39;49m\u001b[39mTrue\u001b[39;49;00m,feature_names\u001b[39m=\u001b[39;49mx_train_ADA\u001b[39m.\u001b[39;49mcolumns\u001b[39m.\u001b[39;49mto_list(),class_names\u001b[39m=\u001b[39;49m[\u001b[39m'\u001b[39;49m\u001b[39mNo\u001b[39;49m\u001b[39m'\u001b[39;49m,\u001b[39m'\u001b[39;49m\u001b[39mYes\u001b[39;49m\u001b[39m'\u001b[39;49m]) \u001b[39m#VER ACA FEATURES\u001b[39;00m\n\u001b[0;32m     <a href='vscode-notebook-cell:/c%3A/Users/iankl/Documents/GitHub/7506R_TP1_GRUPO22_ENTREGA/7506R_TP1_GRUPO22_ENTREGA_REGRESION.ipynb#Y144sZmlsZQ%3D%3D?line=9'>10</a>\u001b[0m graph \u001b[39m=\u001b[39m pydotplus\u001b[39m.\u001b[39mgraph_from_dot_data(dot_data\u001b[39m.\u001b[39mgetvalue())  \n\u001b[0;32m     <a href='vscode-notebook-cell:/c%3A/Users/iankl/Documents/GitHub/7506R_TP1_GRUPO22_ENTREGA/7506R_TP1_GRUPO22_ENTREGA_REGRESION.ipynb#Y144sZmlsZQ%3D%3D?line=10'>11</a>\u001b[0m Image(graph\u001b[39m.\u001b[39mcreate_png())\n",
      "File \u001b[1;32m~\\AppData\\Roaming\\Python\\Python39\\site-packages\\sklearn\\tree\\_export.py:889\u001b[0m, in \u001b[0;36mexport_graphviz\u001b[1;34m(decision_tree, out_file, max_depth, feature_names, class_names, label, filled, leaves_parallel, impurity, node_ids, proportion, rotate, rounded, special_characters, precision, fontname)\u001b[0m\n\u001b[0;32m    870\u001b[0m     out_file \u001b[39m=\u001b[39m StringIO()\n\u001b[0;32m    872\u001b[0m exporter \u001b[39m=\u001b[39m _DOTTreeExporter(\n\u001b[0;32m    873\u001b[0m     out_file\u001b[39m=\u001b[39mout_file,\n\u001b[0;32m    874\u001b[0m     max_depth\u001b[39m=\u001b[39mmax_depth,\n\u001b[1;32m   (...)\u001b[0m\n\u001b[0;32m    887\u001b[0m     fontname\u001b[39m=\u001b[39mfontname,\n\u001b[0;32m    888\u001b[0m )\n\u001b[1;32m--> 889\u001b[0m exporter\u001b[39m.\u001b[39;49mexport(decision_tree)\n\u001b[0;32m    891\u001b[0m \u001b[39mif\u001b[39;00m return_string:\n\u001b[0;32m    892\u001b[0m     \u001b[39mreturn\u001b[39;00m exporter\u001b[39m.\u001b[39mout_file\u001b[39m.\u001b[39mgetvalue()\n",
      "File \u001b[1;32m~\\AppData\\Roaming\\Python\\Python39\\site-packages\\sklearn\\tree\\_export.py:462\u001b[0m, in \u001b[0;36m_DOTTreeExporter.export\u001b[1;34m(self, decision_tree)\u001b[0m\n\u001b[0;32m    460\u001b[0m     \u001b[39mself\u001b[39m\u001b[39m.\u001b[39mrecurse(decision_tree, \u001b[39m0\u001b[39m, criterion\u001b[39m=\u001b[39m\u001b[39m\"\u001b[39m\u001b[39mimpurity\u001b[39m\u001b[39m\"\u001b[39m)\n\u001b[0;32m    461\u001b[0m \u001b[39melse\u001b[39;00m:\n\u001b[1;32m--> 462\u001b[0m     \u001b[39mself\u001b[39;49m\u001b[39m.\u001b[39;49mrecurse(decision_tree\u001b[39m.\u001b[39;49mtree_, \u001b[39m0\u001b[39;49m, criterion\u001b[39m=\u001b[39;49mdecision_tree\u001b[39m.\u001b[39;49mcriterion)\n\u001b[0;32m    464\u001b[0m \u001b[39mself\u001b[39m\u001b[39m.\u001b[39mtail()\n",
      "File \u001b[1;32m~\\AppData\\Roaming\\Python\\Python39\\site-packages\\sklearn\\tree\\_export.py:521\u001b[0m, in \u001b[0;36m_DOTTreeExporter.recurse\u001b[1;34m(self, tree, node_id, criterion, parent, depth)\u001b[0m\n\u001b[0;32m    517\u001b[0m \u001b[39melse\u001b[39;00m:\n\u001b[0;32m    518\u001b[0m     \u001b[39mself\u001b[39m\u001b[39m.\u001b[39mranks[\u001b[39mstr\u001b[39m(depth)]\u001b[39m.\u001b[39mappend(\u001b[39mstr\u001b[39m(node_id))\n\u001b[0;32m    520\u001b[0m \u001b[39mself\u001b[39m\u001b[39m.\u001b[39mout_file\u001b[39m.\u001b[39mwrite(\n\u001b[1;32m--> 521\u001b[0m     \u001b[39m\"\u001b[39m\u001b[39m%d\u001b[39;00m\u001b[39m [label=\u001b[39m\u001b[39m%s\u001b[39;00m\u001b[39m\"\u001b[39m \u001b[39m%\u001b[39m (node_id, \u001b[39mself\u001b[39;49m\u001b[39m.\u001b[39;49mnode_to_str(tree, node_id, criterion))\n\u001b[0;32m    522\u001b[0m )\n\u001b[0;32m    524\u001b[0m \u001b[39mif\u001b[39;00m \u001b[39mself\u001b[39m\u001b[39m.\u001b[39mfilled:\n\u001b[0;32m    525\u001b[0m     \u001b[39mself\u001b[39m\u001b[39m.\u001b[39mout_file\u001b[39m.\u001b[39mwrite(\n\u001b[0;32m    526\u001b[0m         \u001b[39m'\u001b[39m\u001b[39m, fillcolor=\u001b[39m\u001b[39m\"\u001b[39m\u001b[39m%s\u001b[39;00m\u001b[39m\"\u001b[39m\u001b[39m'\u001b[39m \u001b[39m%\u001b[39m \u001b[39mself\u001b[39m\u001b[39m.\u001b[39mget_fill_color(tree, node_id)\n\u001b[0;32m    527\u001b[0m     )\n",
      "File \u001b[1;32m~\\AppData\\Roaming\\Python\\Python39\\site-packages\\sklearn\\tree\\_export.py:367\u001b[0m, in \u001b[0;36m_BaseTreeExporter.node_to_str\u001b[1;34m(self, tree, node_id, criterion)\u001b[0m\n\u001b[0;32m    365\u001b[0m     node_string \u001b[39m+\u001b[39m\u001b[39m=\u001b[39m \u001b[39m\"\u001b[39m\u001b[39mclass = \u001b[39m\u001b[39m\"\u001b[39m\n\u001b[0;32m    366\u001b[0m \u001b[39mif\u001b[39;00m \u001b[39mself\u001b[39m\u001b[39m.\u001b[39mclass_names \u001b[39mis\u001b[39;00m \u001b[39mnot\u001b[39;00m \u001b[39mTrue\u001b[39;00m:\n\u001b[1;32m--> 367\u001b[0m     class_name \u001b[39m=\u001b[39m \u001b[39mself\u001b[39;49m\u001b[39m.\u001b[39;49mclass_names[np\u001b[39m.\u001b[39;49margmax(value)]\n\u001b[0;32m    368\u001b[0m \u001b[39melse\u001b[39;00m:\n\u001b[0;32m    369\u001b[0m     class_name \u001b[39m=\u001b[39m \u001b[39m\"\u001b[39m\u001b[39my\u001b[39m\u001b[39m%s\u001b[39;00m\u001b[39m%s\u001b[39;00m\u001b[39m%s\u001b[39;00m\u001b[39m\"\u001b[39m \u001b[39m%\u001b[39m (\n\u001b[0;32m    370\u001b[0m         characters[\u001b[39m1\u001b[39m],\n\u001b[0;32m    371\u001b[0m         np\u001b[39m.\u001b[39margmax(value),\n\u001b[0;32m    372\u001b[0m         characters[\u001b[39m2\u001b[39m],\n\u001b[0;32m    373\u001b[0m     )\n",
      "\u001b[1;31mIndexError\u001b[0m: list index out of range"
     ]
    }
   ],
   "source": [
    "from six import StringIO\n",
    "from sklearn.tree import export_graphviz\n",
    "import pydotplus\n",
    "\n",
    "# Grafico el primer STUMP\n",
    "dot_data = StringIO()\n",
    "export_graphviz(ab_model.estimators_[0], out_file=dot_data,   filled=True, rounded=True,\n",
    "                special_characters=True,feature_names=x_train_ADA.columns.to_list(),class_names=['No','Yes']) #VER ACA FEATURES\n",
    "\n",
    "graph = pydotplus.graph_from_dot_data(dot_data.getvalue())  \n",
    "Image(graph.create_png())"
   ]
  },
  {
   "cell_type": "code",
   "execution_count": null,
   "metadata": {},
   "outputs": [
    {
     "ename": "ValueError",
     "evalue": "multi_class must be in ('ovo', 'ovr')",
     "output_type": "error",
     "traceback": [
      "\u001b[1;31m---------------------------------------------------------------------------\u001b[0m",
      "\u001b[1;31mValueError\u001b[0m                                Traceback (most recent call last)",
      "\u001b[1;32mc:\\Users\\iankl\\Documents\\GitHub\\7506R_TP1_GRUPO22_ENTREGA\\7506R_TP1_GRUPO22_ENTREGA_REGRESION.ipynb Celda 84\u001b[0m in \u001b[0;36m<cell line: 8>\u001b[1;34m()\u001b[0m\n\u001b[0;32m      <a href='vscode-notebook-cell:/c%3A/Users/iankl/Documents/GitHub/7506R_TP1_GRUPO22_ENTREGA/7506R_TP1_GRUPO22_ENTREGA_REGRESION.ipynb#Y145sZmlsZQ%3D%3D?line=3'>4</a>\u001b[0m \u001b[39m#Evalúo en el set de test\u001b[39;00m\n\u001b[0;32m      <a href='vscode-notebook-cell:/c%3A/Users/iankl/Documents/GitHub/7506R_TP1_GRUPO22_ENTREGA/7506R_TP1_GRUPO22_ENTREGA_REGRESION.ipynb#Y145sZmlsZQ%3D%3D?line=4'>5</a>\u001b[0m \n\u001b[0;32m      <a href='vscode-notebook-cell:/c%3A/Users/iankl/Documents/GitHub/7506R_TP1_GRUPO22_ENTREGA/7506R_TP1_GRUPO22_ENTREGA_REGRESION.ipynb#Y145sZmlsZQ%3D%3D?line=5'>6</a>\u001b[0m \u001b[39m#AUC\u001b[39;00m\n\u001b[0;32m      <a href='vscode-notebook-cell:/c%3A/Users/iankl/Documents/GitHub/7506R_TP1_GRUPO22_ENTREGA/7506R_TP1_GRUPO22_ENTREGA_REGRESION.ipynb#Y145sZmlsZQ%3D%3D?line=6'>7</a>\u001b[0m y_pred_proba\u001b[39m=\u001b[39m ab_model\u001b[39m.\u001b[39mpredict_proba(x_test_ADA)[:, \u001b[39m1\u001b[39m]\n\u001b[1;32m----> <a href='vscode-notebook-cell:/c%3A/Users/iankl/Documents/GitHub/7506R_TP1_GRUPO22_ENTREGA/7506R_TP1_GRUPO22_ENTREGA_REGRESION.ipynb#Y145sZmlsZQ%3D%3D?line=7'>8</a>\u001b[0m \u001b[39mprint\u001b[39m (\u001b[39m'\u001b[39m\u001b[39mAUC:\u001b[39m\u001b[39m'\u001b[39m, roc_auc_score(y_test_ADA, y_pred_proba))\n\u001b[0;32m     <a href='vscode-notebook-cell:/c%3A/Users/iankl/Documents/GitHub/7506R_TP1_GRUPO22_ENTREGA/7506R_TP1_GRUPO22_ENTREGA_REGRESION.ipynb#Y145sZmlsZQ%3D%3D?line=9'>10</a>\u001b[0m \u001b[39m#Matriz Confusión\u001b[39;00m\n\u001b[0;32m     <a href='vscode-notebook-cell:/c%3A/Users/iankl/Documents/GitHub/7506R_TP1_GRUPO22_ENTREGA/7506R_TP1_GRUPO22_ENTREGA_REGRESION.ipynb#Y145sZmlsZQ%3D%3D?line=10'>11</a>\u001b[0m y_pred\u001b[39m=\u001b[39mab_model\u001b[39m.\u001b[39mpredict(x_test_ADA)\n",
      "File \u001b[1;32m~\\AppData\\Roaming\\Python\\Python39\\site-packages\\sklearn\\metrics\\_ranking.py:564\u001b[0m, in \u001b[0;36mroc_auc_score\u001b[1;34m(y_true, y_score, average, sample_weight, max_fpr, multi_class, labels)\u001b[0m\n\u001b[0;32m    557\u001b[0m         \u001b[39mraise\u001b[39;00m \u001b[39mValueError\u001b[39;00m(\n\u001b[0;32m    558\u001b[0m             \u001b[39m\"\u001b[39m\u001b[39mPartial AUC computation not available in \u001b[39m\u001b[39m\"\u001b[39m\n\u001b[0;32m    559\u001b[0m             \u001b[39m\"\u001b[39m\u001b[39mmulticlass setting, \u001b[39m\u001b[39m'\u001b[39m\u001b[39mmax_fpr\u001b[39m\u001b[39m'\u001b[39m\u001b[39m must be\u001b[39m\u001b[39m\"\u001b[39m\n\u001b[0;32m    560\u001b[0m             \u001b[39m\"\u001b[39m\u001b[39m set to `None`, received `max_fpr=\u001b[39m\u001b[39m{0}\u001b[39;00m\u001b[39m` \u001b[39m\u001b[39m\"\u001b[39m\n\u001b[0;32m    561\u001b[0m             \u001b[39m\"\u001b[39m\u001b[39minstead\u001b[39m\u001b[39m\"\u001b[39m\u001b[39m.\u001b[39mformat(max_fpr)\n\u001b[0;32m    562\u001b[0m         )\n\u001b[0;32m    563\u001b[0m     \u001b[39mif\u001b[39;00m multi_class \u001b[39m==\u001b[39m \u001b[39m\"\u001b[39m\u001b[39mraise\u001b[39m\u001b[39m\"\u001b[39m:\n\u001b[1;32m--> 564\u001b[0m         \u001b[39mraise\u001b[39;00m \u001b[39mValueError\u001b[39;00m(\u001b[39m\"\u001b[39m\u001b[39mmulti_class must be in (\u001b[39m\u001b[39m'\u001b[39m\u001b[39movo\u001b[39m\u001b[39m'\u001b[39m\u001b[39m, \u001b[39m\u001b[39m'\u001b[39m\u001b[39movr\u001b[39m\u001b[39m'\u001b[39m\u001b[39m)\u001b[39m\u001b[39m\"\u001b[39m)\n\u001b[0;32m    565\u001b[0m     \u001b[39mreturn\u001b[39;00m _multiclass_roc_auc_score(\n\u001b[0;32m    566\u001b[0m         y_true, y_score, labels, multi_class, average, sample_weight\n\u001b[0;32m    567\u001b[0m     )\n\u001b[0;32m    568\u001b[0m \u001b[39melif\u001b[39;00m y_type \u001b[39m==\u001b[39m \u001b[39m\"\u001b[39m\u001b[39mbinary\u001b[39m\u001b[39m\"\u001b[39m:\n",
      "\u001b[1;31mValueError\u001b[0m: multi_class must be in ('ovo', 'ovr')"
     ]
    }
   ],
   "source": [
    "from sklearn.metrics import confusion_matrix, classification_report\n",
    "from sklearn.metrics import roc_auc_score\n",
    "\n",
    "#Evalúo en el set de test\n",
    "\n",
    "#AUC\n",
    "y_pred_proba= ab_model.predict_proba(x_test_ADA)[:, 1]\n",
    "print ('AUC:', roc_auc_score(y_test_ADA, y_pred_proba))\n",
    "\n",
    "#Matriz Confusión\n",
    "y_pred=ab_model.predict(x_test_ADA)\n",
    "cm = confusion_matrix(y_test_ADA,y_pred)\n",
    "sns.heatmap(cm, cmap='Blues',annot=True,fmt='g')\n",
    "plt.xlabel('Predicted')\n",
    "plt.ylabel('True')"
   ]
  },
  {
   "cell_type": "code",
   "execution_count": null,
   "metadata": {},
   "outputs": [],
   "source": [
    "#Reporte\n",
    "print(classification_report(y_test_ADA,y_pred))"
   ]
  }
 ],
 "metadata": {
  "kernelspec": {
   "display_name": "Python 3.9.12 ('base')",
   "language": "python",
   "name": "python3"
  },
  "language_info": {
   "codemirror_mode": {
    "name": "ipython",
    "version": 3
   },
   "file_extension": ".py",
   "mimetype": "text/x-python",
   "name": "python",
   "nbconvert_exporter": "python",
   "pygments_lexer": "ipython3",
   "version": "3.9.12"
  },
  "orig_nbformat": 4,
  "vscode": {
   "interpreter": {
    "hash": "4b4bfd882b72278d2fc01f7f7f865a6b413108d571dd02a132c40c7c94589e02"
   }
  }
 },
 "nbformat": 4,
 "nbformat_minor": 2
}
