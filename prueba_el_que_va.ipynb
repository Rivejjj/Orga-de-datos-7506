{
 "cells": [
  {
   "cell_type": "code",
   "execution_count": null,
   "metadata": {},
   "outputs": [],
   "source": [
    "import pandas as pd\n",
    "import seaborn as sns\n",
    "import matplotlib.pyplot as plt\n",
    "import numpy as np\n",
    "import warnings\n",
    "warnings.filterwarnings('always')\n",
    "from sklearn.model_selection import train_test_split\n",
    "import shapely.speedups\n",
    "from sklearn.preprocessing import StandardScaler\n",
    "from IPython.display import Image\n",
    "import re\n",
    "from itertools import combinations\n",
    "import random\n",
    "import joblib"
   ]
  },
  {
   "cell_type": "code",
   "execution_count": null,
   "metadata": {},
   "outputs": [],
   "source": [
    "import numpy as np\n",
    "import pandas as pd\n",
    "import matplotlib.pyplot as plt\n",
    "\n",
    "from sklearn.model_selection import train_test_split\n",
    "from sklearn.metrics import mean_absolute_error, mean_squared_error\n",
    "from sklearn.preprocessing import StandardScaler\n",
    "\n",
    "import tensorflow as tf\n",
    "from tensorflow import keras\n",
    "import keras_tuner as kt\n",
    "#\n",
    "np.random.seed(1)\n",
    "tf.random.set_seed(1)"
   ]
  },
  {
   "cell_type": "code",
   "execution_count": null,
   "metadata": {},
   "outputs": [],
   "source": [
    "def plot_regression(modelo,x,y,title=\"\",xlabel=\"x\",ylabel=\"y\"):\n",
    "    plt.figure()\n",
    "    \n",
    "    plt.plot(x,y,\"o\",label=\"Valores verdaderos\")\n",
    "    plt.plot(x,modelo.predict(x),\"x\",label=\"Valores estimados\")\n",
    "    \n",
    "    plt.xlabel(xlabel)\n",
    "    plt.ylabel(ylabel)\n",
    "    plt.title(title)\n",
    "    plt.legend()\n",
    "    plt.show()"
   ]
  },
  {
   "cell_type": "code",
   "execution_count": null,
   "metadata": {},
   "outputs": [],
   "source": [
    "viviendas_train=pd.read_csv('./TP1/Datasets/viviendas_caba_train.csv').copy()\n",
    "viviendas_test=pd.read_csv('./TP1/Datasets/viviendas_caba_test.csv').copy()\n",
    "viviendas = pd.concat([viviendas_train, viviendas_test])"
   ]
  },
  {
   "cell_type": "code",
   "execution_count": null,
   "metadata": {},
   "outputs": [],
   "source": [
    "viviendas = pd.get_dummies(viviendas, columns = [\"property_type\"])\n",
    "viviendas = pd.get_dummies(viviendas, columns = [\"barrio\"])"
   ]
  },
  {
   "cell_type": "code",
   "execution_count": null,
   "metadata": {},
   "outputs": [],
   "source": [
    "columnas_predictoras=viviendas.columns.to_list()\n",
    "for variable in ['property_price', 'start_date', 'end_date', 'property_title', 'geometry']:\n",
    "    columnas_predictoras.remove(variable)\n",
    "columnas_predictoras"
   ]
  },
  {
   "cell_type": "code",
   "execution_count": null,
   "metadata": {},
   "outputs": [],
   "source": [
    "variable_predictora=\"property_price\""
   ]
  },
  {
   "cell_type": "code",
   "execution_count": null,
   "metadata": {},
   "outputs": [],
   "source": [
    "x_train, x_test, y_train, y_test = train_test_split(viviendas[columnas_predictoras],viviendas[[variable_predictora]],test_size=0.2)"
   ]
  },
  {
   "cell_type": "code",
   "execution_count": null,
   "metadata": {},
   "outputs": [],
   "source": [
    "sscaler=StandardScaler()\n",
    "sscaler.fit(pd.DataFrame(x_train))"
   ]
  },
  {
   "cell_type": "code",
   "execution_count": null,
   "metadata": {},
   "outputs": [],
   "source": [
    "x_train_transform=sscaler.transform(pd.DataFrame(x_train))\n",
    "x_test_transform=sscaler.transform(pd.DataFrame(x_test))"
   ]
  },
  {
   "cell_type": "code",
   "execution_count": null,
   "metadata": {},
   "outputs": [],
   "source": [
    "# Creo un modelo Red Neuronal\n",
    "d_in=x_test_transform.shape[1]\n",
    "d_out=1\n",
    "\n",
    "modelo3 = keras.Sequential([\n",
    "    # input_shape solo en la primer capa\n",
    "    # Capa con 2 salidas, activación relu\n",
    "    keras.layers.Dense(2,input_shape=(d_in,), activation=\"relu\"),\n",
    "    # Capa con 2 salidas, activación tanh\n",
    "    keras.layers.Dense(50, activation=\"relu\" ),\n",
    "    keras.layers.Dense(4, activation=\"relu\" ),\n",
    "    keras.layers.Dense(6, activation=\"relu\" ),\n",
    "    keras.layers.Dense(8, activation=\"relu\" ),\n",
    "\n",
    "\n",
    "\n",
    "    keras.layers.Dense(d_out, )])\n",
    "\n",
    "modelo3.compile(\n",
    "  optimizer=keras.optimizers.Adadelta(learning_rate=0.1), \n",
    "  loss='mse', \n",
    "  # metricas para ir calculando en cada iteracion o batch \n",
    "  metrics=['mse'], \n",
    ")\n",
    "\n",
    "#modelo3.fit(x_train_transform,y_train,epochs=100,batch_size=16,verbose=False)\n"
   ]
  },
  {
   "cell_type": "code",
   "execution_count": null,
   "metadata": {},
   "outputs": [],
   "source": [
    "y_pred_modelo3=modelo3.predict(x_test_transform)\n",
    "\n",
    "mae_modelo3=mean_absolute_error(y_test,y_pred_modelo3)\n",
    "mse_modelo3=mean_squared_error(y_test,y_pred_modelo3)\n",
    "\n",
    "print(f\"Error absoluto medio {mae_modelo3}\")\n",
    "print(f\"Error cuadrático medio {mse_modelo3}\")\n",
    "print(f\"rmse {mse_modelo3**(1/2)}\")"
   ]
  },
  {
   "cell_type": "code",
   "execution_count": null,
   "metadata": {},
   "outputs": [],
   "source": [
    "y_pred_modelo3"
   ]
  },
  {
   "cell_type": "code",
   "execution_count": null,
   "metadata": {},
   "outputs": [],
   "source": [
    "scatter_real_predict = plt.scatter(x=y_test, y=y_pred_modelo3, s=10, c='tab:blue')#.set(title=\"Valor Real vs Predicción\",xlabel='Valor Real',ylabel='Prediccion') "
   ]
  },
  {
   "cell_type": "markdown",
   "metadata": {},
   "source": [
    "## RANDOMIZADOR\n"
   ]
  },
  {
   "cell_type": "code",
   "execution_count": null,
   "metadata": {},
   "outputs": [],
   "source": [
    "class ModeloRedes:\n",
    "    def __init__(self, dataset, variables_predictoras, cantidad_de_primera_capa, funcion_activacion, optimizador, learning_rate, metrica, epoch, batch_size, cantidad_filas):\n",
    "        self.variables_predictoras = variables_predictoras\n",
    "        self.cantidad_primera_capa = cantidad_de_primera_capa\n",
    "        self.funcion_activacion = funcion_activacion\n",
    "        self.optimizador = optimizador\n",
    "        self.learning_rate = learning_rate\n",
    "        self.resultado = None\n",
    "        self.metrica = metrica\n",
    "        self.epoch = epoch\n",
    "        self.batch_size = batch_size\n",
    "        self.modelo = None\n",
    "\n",
    "        \n",
    "        self.x_test = None\n",
    "        self.y_test = None\n",
    "        self.x_train = None\n",
    "        self.y_train = None\n",
    "        self.dataset_trabajo = dataset[:cantidad_filas]\n",
    "        self.obtener_datasets()\n",
    "        self.entrenar_modelo()\n",
    "\n",
    "    #HIPERPARAMETROS: /cantidad de predictoras , cantidad de layer, neuronas por leyers, optimizador, learning rate, funcion de activacion\n",
    "\n",
    "    def obtener_datasets(self):    \n",
    "        self.x_train, self.x_test, self.y_train, self.y_test = train_test_split(self.dataset_trabajo.loc[:,self.variables_predictoras],self.dataset_trabajo.loc[:,'property_price'],test_size=0.2)\n",
    "        self.escalar_datasets()\n",
    "    \n",
    "    def escalar_datasets(self):\n",
    "        sscaler=StandardScaler()\n",
    "        sscaler.fit(pd.DataFrame(self.x_train))\n",
    "        self.x_train=sscaler.transform(pd.DataFrame(self.x_train))\n",
    "        self.x_test=sscaler.transform(pd.DataFrame(self.x_test))\n",
    "\n",
    "    def entrenar_modelo(self):\n",
    "    # Creo un modelo Red Neuronal\n",
    "        d_in= len(self.variables_predictoras)\n",
    "        d_out=1\n",
    "\n",
    "        capas = [\n",
    "            # input_shape solo en la primer capa\n",
    "            # Capa con 2 salidas, activación relu\n",
    "            keras.layers.Dense(d_in,input_shape=(d_in,), activation= self.funcion_activacion)\n",
    "        ]\n",
    "\n",
    "        #inserta capas que van decreciendo en cantidad de neuronas\n",
    "        for i in range(self.cantidad_primera_capa,2,-1):\n",
    "            capas.append(keras.layers.Dense(i, activation= self.funcion_activacion ))\n",
    "\n",
    "        capas.append(keras.layers.Dense(d_out, ))\n",
    "        self.modelo = keras.Sequential(capas)\n",
    "\n",
    "        self.modelo.compile(\n",
    "        optimizer= self.optimizador(self.learning_rate), \n",
    "        loss=self.metrica, \n",
    "        # metricas para ir calculando en cada iteracion o batch \n",
    "        metrics=[self.metrica], \n",
    "        )\n",
    "\n",
    "        self.modelo.fit(self.x_train,self.y_train,epochs=self.epoch,batch_size=self.batch_size,verbose=False)\n",
    "    \n",
    "    def imprimir(self):\n",
    "        plot_regression(self.modelo,self.x_test,self.y_test,title=f\"Modelo Final\",xlabel=\"Horsepower\",ylabel=\"MPG\")\n",
    "        \n",
    "    def testear_modelo(self):\n",
    "        y_pred=self.modelo.predict(self.x_test)\n",
    "        mse=mean_squared_error(self.y_test,y_pred)\n",
    "        self.resultado = mse ** (1/2)\n",
    "        return self.resultado\n",
    "    \n",
    "    def predecir(self, df):\n",
    "\n",
    "        df_para_predecir =  df.loc[:,self.variables_predictoras]\n",
    "        df_precios = df.loc[:,'property_price']\n",
    "        \n",
    "        sscaler=StandardScaler()\n",
    "        sscaler.fit(pd.DataFrame(df_para_predecir))\n",
    "        df_para_predecir=sscaler.transform(pd.DataFrame(df_para_predecir))\n",
    "\n",
    "        \n",
    "        precios_pred=self.modelo.predict(df_para_predecir)\n",
    "        mse=mean_squared_error(df_precios,precios_pred)\n",
    "        resultado = mse ** (1/2)\n",
    "        #plot_regression(self.modelo,df_para_predecir,df_precios,title=f\"Modelo Final\",xlabel=\"Horsepower\",ylabel=\"MPG\")\n",
    "        return resultado\n",
    "    \n",
    "    def info(self):\n",
    "        print('\\n','\\n')\n",
    "        print('\\n',\n",
    "        self.variables_predictoras , '\\n',\n",
    "        self.cantidad_primera_capa ,'\\n',\n",
    "        self.funcion_activacion ,'\\n',\n",
    "        self.optimizador ,'\\n',\n",
    "        self.learning_rate ,'\\n',\n",
    "        self.metrica ,'\\n',\n",
    "        self.epoch ,'\\n',\n",
    "        self.batch_size ,'\\n',\n",
    "        self.dataset_trabajo.shape ,'\\n')"
   ]
  },
  {
   "cell_type": "code",
   "execution_count": null,
   "metadata": {},
   "outputs": [],
   "source": [
    "columnas_importantes =  ['latitud', 'longitud', 'property_surface_total', 'property_surface_covered']\n",
    "columnas_extras = []\n",
    "for e in columnas_predictoras:\n",
    "    if e not in columnas_importantes:\n",
    "        columnas_extras.append(e)\n",
    "\n",
    "print(columnas_extras)        \n",
    "\n",
    "def agregar_columnas(posibles_variables_predictoras, columnas, cant_columnas):\n",
    "            i = 0\n",
    "            while (i < cant_columnas): \n",
    "                pos = random.randrange(i,len(columnas), 1)\n",
    "                posibles_variables_predictoras.append(columnas[pos])\n",
    "                columnas[i], columnas[pos] = columnas[pos], columnas[i]\n",
    "                i += 1\n",
    "\n",
    "posibles_cantidad_de_primera_capa = []\n",
    "for i in range(1,20):\n",
    "    posibles_cantidad_de_primera_capa.append(i)\n",
    "\n",
    "posibles_funcion_activacion = [\"relu\"]#, \"tanh\", \"softmax\", \"sigmoid\"]\n",
    "posibles_metricas = ['mse', 'mae']\n",
    "\n",
    "posibles_learning_rate = [0.1, 0.01]"
   ]
  },
  {
   "cell_type": "code",
   "execution_count": null,
   "metadata": {},
   "outputs": [],
   "source": [
    "def funcion_optimizadoraNADAM(learnigRate):\n",
    "            return keras.optimizers.Nadam(learning_rate = learnigRate)\n",
    "\n",
    "def funcion_optimizadoraRMSPROP(learnigRate):\n",
    "            return keras.optimizers.RMSprop(learning_rate = learnigRate)\n",
    "\n",
    "def funcion_optimizadoraADAMAX(learnigRate):\n",
    "            return keras.optimizers.Adamax(learning_rate = learnigRate)\n",
    "\n",
    "def funcion_optimizadoraADADELTA(learnigRate):\n",
    "            return keras.optimizers.Adadelta(learning_rate = learnigRate)\n",
    "\n",
    "posibles_optimizador = [funcion_optimizadoraNADAM, funcion_optimizadoraRMSPROP, funcion_optimizadoraADAMAX, funcion_optimizadoraADADELTA]"
   ]
  },
  {
   "cell_type": "code",
   "execution_count": null,
   "metadata": {},
   "outputs": [],
   "source": [
    "def random_validator(cantidad_modelos, columnas_importantes, columnas_extras, posibles_cantidad_de_primera_capa, \n",
    "    posibles_funcion_activacion, posibles_optimizador, posibles_learning_rate, posibles_metricas):\n",
    "    resultados = []\n",
    "    for i in range(cantidad_modelos):\n",
    "\n",
    "        posibles_variables_predictoras = []\n",
    "        cant_columnas_importantes = random.randrange(1,len(columnas_importantes)+1, 1)\n",
    "        cant_columnas_extras = random.randrange(0,len(columnas_extras)+1, 1)\n",
    "\n",
    "        agregar_columnas(posibles_variables_predictoras, columnas_importantes, cant_columnas_importantes)\n",
    "        agregar_columnas(posibles_variables_predictoras, columnas_extras, cant_columnas_extras)\n",
    "\n",
    "        variables_predictoras = posibles_variables_predictoras\n",
    "        cantidad_de_primera_capa = random.choice(posibles_cantidad_de_primera_capa)\n",
    "        funcion_activacion = random.choice(posibles_funcion_activacion)\n",
    "        optimizador = random.choice(posibles_optimizador)\n",
    "        learning_rate = random.choice(posibles_learning_rate)\n",
    "        metrica = random.choice(posibles_metricas)\n",
    "        epoch = random.randrange(100, 300, 10)\n",
    "        batch_size = random.randrange(10, 1000, 1)\n",
    "        cantidad_filas = random.randrange(3000, 5000, 1)\n",
    "\n",
    "        print('\\n','\\n')\n",
    "        print(i , '\\n',\n",
    "        variables_predictoras , '\\n',\n",
    "        cantidad_de_primera_capa ,'\\n',\n",
    "        funcion_activacion ,'\\n',\n",
    "        optimizador ,'\\n',\n",
    "        learning_rate ,'\\n',\n",
    "        metrica ,'\\n',\n",
    "        epoch ,'\\n',\n",
    "        batch_size ,'\\n',\n",
    "        cantidad_filas ,'\\n')\n",
    "\n",
    "        modelo = ModeloRedes(viviendas, variables_predictoras, cantidad_de_primera_capa, funcion_activacion, optimizador, learning_rate, metrica, epoch, batch_size, cantidad_filas)\n",
    "        resultados.append([modelo, modelo.testear_modelo()])\n",
    "        print(modelo.testear_modelo())\n",
    "    return resultados"
   ]
  },
  {
   "cell_type": "code",
   "execution_count": null,
   "metadata": {},
   "outputs": [],
   "source": [
    "def func():\n",
    "    resultados = random_validator(50,columnas_importantes, columnas_extras, posibles_cantidad_de_primera_capa, \n",
    "        posibles_funcion_activacion, posibles_optimizador, posibles_learning_rate, posibles_metricas)\n",
    "\n",
    "    return resultados"
   ]
  },
  {
   "cell_type": "code",
   "execution_count": null,
   "metadata": {},
   "outputs": [],
   "source": [
    "def reentrenar(modelo):\n",
    "    modelo.info()\n",
    "    modelo.testear_modelo()\n",
    "    mejor_modelo = modelo\n",
    "    mejor_resultado = modelo.resultado \n",
    "   \n",
    "    for i in range(5):\n",
    "        print('valor a vencer', mejor_resultado)\n",
    "        modelo_aux = ModeloRedes(viviendas, modelo.variables_predictoras, modelo.cantidad_primera_capa, modelo.funcion_activacion, modelo.optimizador, modelo.learning_rate, modelo.metrica, modelo.epoch, modelo.batch_size, 3000)\n",
    "        resultado_aux = modelo_aux.testear_modelo()\n",
    "        print('reentrenando intento', i+1)\n",
    "        resultado_aux = modelo_aux.testear_modelo()\n",
    "        print(resultado_aux)\n",
    "        modelo.info()\n",
    "        \n",
    "        if resultado_aux < mejor_resultado:\n",
    "            mejor_resultado = resultado_aux\n",
    "            mejor_modelo = modelo_aux \n",
    "    return [mejor_modelo, mejor_resultado]"
   ]
  },
  {
   "cell_type": "code",
   "execution_count": null,
   "metadata": {},
   "outputs": [],
   "source": [
    "def obtener_mejores(resultados):\n",
    "    mejores = []\n",
    "    for i in resultados:\n",
    "        if (i[1] < 130000):\n",
    "            mejores.append(i)\n",
    "\n",
    "    for i in range(len(mejores)):\n",
    "        mejores[i] = reentrenar(mejores[i][0])\n",
    "    return mejores"
   ]
  },
  {
   "cell_type": "code",
   "execution_count": null,
   "metadata": {},
   "outputs": [],
   "source": [
    "mejores = []"
   ]
  },
  {
   "cell_type": "code",
   "execution_count": null,
   "metadata": {},
   "outputs": [],
   "source": [
    "\n",
    "resultados = func()\n",
    "mejores.append(obtener_mejores(resultados))"
   ]
  },
  {
   "cell_type": "code",
   "execution_count": null,
   "metadata": {},
   "outputs": [],
   "source": [
    "\n",
    "resultados = func()\n",
    "mejores.append(obtener_mejores(resultados))"
   ]
  },
  {
   "cell_type": "code",
   "execution_count": null,
   "metadata": {},
   "outputs": [],
   "source": [
    "\n",
    "resultados = func()\n",
    "mejores.append(obtener_mejores(resultados))"
   ]
  },
  {
   "cell_type": "code",
   "execution_count": 85,
   "metadata": {},
   "outputs": [
    {
     "name": "stdout",
     "output_type": "stream",
     "text": [
      "[<__main__.ModeloRedes object at 0x7f4123f36550>, 119333.58843831343, 134943.4504846082, 134943.4504846082, 134943.4504846082]\n",
      "[<__main__.ModeloRedes object at 0x7f4109d6cbb0>, 102451.9140242622, 155414.72864861964, 155414.72864861964, 155414.72864861964]\n",
      "[<__main__.ModeloRedes object at 0x7f415f4fe610>, 122550.37412418632, 134653.48012445797, 134653.48012445797, 134653.48012445797]\n",
      "[<__main__.ModeloRedes object at 0x7f41881be6d0>, 103213.98013599498, 138393.87250814715, 138393.87250814715]\n",
      "[<__main__.ModeloRedes object at 0x7f412732bbe0>, 109137.77611246107, 145345.2228765837, 145345.2228765837]\n",
      "[<__main__.ModeloRedes object at 0x7f4124554580>, 117347.09238797102, 162116.938124902, 162116.938124902]\n",
      "[<__main__.ModeloRedes object at 0x7f41485572b0>, 96759.78693229835, 142374.07943027507, 142374.07943027507]\n",
      "[<__main__.ModeloRedes object at 0x7f4108ba5a60>, 114676.93486053028, 154137.29854784868, 154137.29854784868]\n",
      "[<__main__.ModeloRedes object at 0x7f41166398b0>, 110141.21347729258, 132702.98577786106, 132702.98577786106]\n",
      "[<__main__.ModeloRedes object at 0x7f41453a6040>, 117203.6552315563, 151063.31735095347, 151063.31735095347]\n",
      "[<__main__.ModeloRedes object at 0x7f4131824d60>, 105225.2585441767, 142511.75529824942, 142511.75529824942]\n",
      "[<__main__.ModeloRedes object at 0x7f4173e29a30>, 124649.44911620818, 156862.32574382826]\n",
      "[<__main__.ModeloRedes object at 0x7f41986edbe0>, 127157.3352632911, 148283.31903888987]\n",
      "[<__main__.ModeloRedes object at 0x7f41886c5280>, 119366.32487745372, 143436.9176696553]\n",
      "[<__main__.ModeloRedes object at 0x7f4173108760>, 92993.44215883223, 144250.26914189893]\n"
     ]
    }
   ],
   "source": [
    "for i in mejores:\n",
    "    for j in i:\n",
    "        print(j)\n",
    "        #j[0].info()"
   ]
  },
  {
   "cell_type": "code",
   "execution_count": null,
   "metadata": {},
   "outputs": [],
   "source": [
    "for i in mejores:\n",
    "    for j in i:\n",
    "        print('El modelo tiene metrica')\n",
    "        print(j[1])\n",
    "        j[0].info()\n",
    "        j[0].imprimir()\n",
    "        print('El modelo predice sobre todo el dataset como')\n",
    "        j.append(j[0].predecir(viviendas))\n",
    "        print(j[2])\n"
   ]
  },
  {
   "cell_type": "code",
   "execution_count": null,
   "metadata": {},
   "outputs": [],
   "source": []
  },
  {
   "cell_type": "code",
   "execution_count": null,
   "metadata": {},
   "outputs": [],
   "source": [
    "\"\"\"va = ['longitud', 'property_surface_total', 'property_surface_covered', 'latitud', 'barrio_Paternal', 'barrio_Retiro', 'barrio_Las Cañitas', 'barrio_Pompeya', 'barrio_Balvanera', 'barrio_Monserrat', 'barrio_Villa Pueyrredón', 'barrio_Mataderos', 'barrio_Chacarita', 'barrio_Barracas', 'property_bedrooms', 'barrio_San Nicolás', 'barrio_Villa General Mitre', 'barrio_Liniers', 'barrio_Villa Santa Rita', 'barrio_San Telmo', 'property_type_Departamento', 'barrio_Villa Lugano', 'barrio_Almagro', 'barrio_Coghlan', 'barrio_Once', 'barrio_Villa Soldati', 'barrio_Villa Ortuzar', 'barrio_Floresta', 'barrio_Villa Riachuelo', 'barrio_Constitución', 'barrio_Congreso', 'barrio_Velez Sarsfield', 'barrio_Villa del Parque', 'barrio_Villa Devoto', 'barrio_Abasto', 'barrio_Villa Urquiza', 'barrio_Catalinas', 'barrio_Recoleta', 'barrio_Caballito', 'barrio_Nuñez', 'barrio_Barrio Norte', 'barrio_Versalles', 'barrio_Monte Castro', 'barrio_Boedo', 'barrio_Belgrano', 'barrio_Boca', 'barrio_Parque Avellaneda', 'barrio_Tribunales', 'barrio_Villa Real', 'barrio_Villa Crespo', 'barrio_Centro / Microcentro', 'property_rooms', 'barrio_Parque Patricios', 'property_type_PH', 'barrio_Agronomía', 'barrio_Colegiales', 'barrio_Flores', 'barrio_Saavedra', 'barrio_San Cristobal', 'property_type_Casa', 'barrio_Puerto Madero', 'barrio_Parque Centenario'] \n",
    "\n",
    "modelo = ModeloRedes(viviendas, va, 15, 'relu', funcion_optimizadoraADADELTA, 0.01, 'mae', 200, 125, 2000)\n",
    "print(modelo.testear_modelo())\n",
    "modelo.info()\n",
    "modelo.imprimir()\"\"\""
   ]
  },
  {
   "cell_type": "code",
   "execution_count": null,
   "metadata": {},
   "outputs": [],
   "source": [
    "\"\"\"modelo = mejores[0][0][0]\n",
    "\n",
    "df_para_predecir =  viviendas.loc[:,modelo.variables_predictoras]\n",
    "df_precios = viviendas.loc[:,'property_price']\n",
    "\n",
    "sscaler=StandardScaler()\n",
    "sscaler.fit(pd.DataFrame(df_para_predecir))\n",
    "df_para_predecir=sscaler.transform(pd.DataFrame(df_para_predecir))\n",
    "\n",
    "\n",
    "precios_pred=modelo.modelo.predict(df_para_predecir)\n",
    "mse=mean_squared_error(df_precios,precios_pred)\n",
    "print (mse ** (1/2))\n",
    "plot_regression(modelo.modelo,df_para_predecir,df_precios,title=f\"Modelo Final\",xlabel=\"Horsepower\",ylabel=\"MPG\")\"\"\""
   ]
  },
  {
   "cell_type": "code",
   "execution_count": null,
   "metadata": {},
   "outputs": [],
   "source": [
    "#joblib.dump(mejores[0][0][0], './Models/red_regresion_67k') "
   ]
  }
 ],
 "metadata": {
  "kernelspec": {
   "display_name": "Python 3.8.10 64-bit",
   "language": "python",
   "name": "python3"
  },
  "language_info": {
   "codemirror_mode": {
    "name": "ipython",
    "version": 3
   },
   "file_extension": ".py",
   "mimetype": "text/x-python",
   "name": "python",
   "nbconvert_exporter": "python",
   "pygments_lexer": "ipython3",
   "version": "3.8.10"
  },
  "orig_nbformat": 4,
  "vscode": {
   "interpreter": {
    "hash": "916dbcbb3f70747c44a77c7bcd40155683ae19c65e1c03b4aa3499c5328201f1"
   }
  }
 },
 "nbformat": 4,
 "nbformat_minor": 2
}
