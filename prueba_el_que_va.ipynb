{
 "cells": [
  {
   "cell_type": "code",
   "execution_count": null,
   "metadata": {},
   "outputs": [],
   "source": [
    "import pandas as pd\n",
    "import seaborn as sns\n",
    "import matplotlib.pyplot as plt\n",
    "import numpy as np\n",
    "import warnings\n",
    "warnings.filterwarnings('always')\n",
    "from sklearn.model_selection import train_test_split\n",
    "import shapely.speedups\n",
    "from sklearn.preprocessing import StandardScaler\n",
    "from IPython.display import Image\n",
    "import re\n",
    "from itertools import combinations\n",
    "import random\n",
    "import joblib"
   ]
  },
  {
   "cell_type": "code",
   "execution_count": null,
   "metadata": {},
   "outputs": [],
   "source": [
    "import numpy as np\n",
    "import pandas as pd\n",
    "import matplotlib.pyplot as plt\n",
    "\n",
    "from sklearn.model_selection import train_test_split\n",
    "from sklearn.metrics import mean_absolute_error, mean_squared_error\n",
    "from sklearn.preprocessing import StandardScaler\n",
    "\n",
    "import tensorflow as tf\n",
    "from tensorflow import keras\n",
    "import keras_tuner as kt\n",
    "#\n",
    "np.random.seed(1)\n",
    "tf.random.set_seed(1)"
   ]
  },
  {
   "cell_type": "code",
   "execution_count": null,
   "metadata": {},
   "outputs": [],
   "source": [
    "def plot_regression(modelo,x,y,title=\"\",xlabel=\"x\",ylabel=\"y\"):\n",
    "    plt.figure()\n",
    "    \n",
    "    plt.plot(x,y,\"o\",label=\"Valores verdaderos\")\n",
    "    plt.plot(x,modelo.predict(x),\"x\",label=\"Valores estimados\")\n",
    "    \n",
    "    plt.xlabel(xlabel)\n",
    "    plt.ylabel(ylabel)\n",
    "    plt.title(title)\n",
    "    plt.legend()\n",
    "    plt.show()"
   ]
  },
  {
   "cell_type": "code",
   "execution_count": null,
   "metadata": {},
   "outputs": [],
   "source": [
    "viviendas_train=pd.read_csv('./TP1/Datasets/viviendas_caba_train.csv').copy()\n",
    "viviendas_test=pd.read_csv('./TP1/Datasets/viviendas_caba_test.csv').copy()\n",
    "viviendas = pd.concat([viviendas_train, viviendas_test])"
   ]
  },
  {
   "cell_type": "markdown",
   "metadata": {},
   "source": [
    "# regresion"
   ]
  },
  {
   "cell_type": "code",
   "execution_count": null,
   "metadata": {},
   "outputs": [],
   "source": [
    "Realizamos un one hot encoding para poder utilizar el barrio y type para regresion"
   ]
  },
  {
   "cell_type": "code",
   "execution_count": null,
   "metadata": {},
   "outputs": [],
   "source": [
    "viviendas = pd.get_dummies(viviendas, columns = [\"property_type\"])\n",
    "viviendas = pd.get_dummies(viviendas, columns = [\"barrio\"])"
   ]
  },
  {
   "cell_type": "code",
   "execution_count": null,
   "metadata": {},
   "outputs": [],
   "source": [
    "definimos las columnas que utilizaremos para entrenar las redes"
   ]
  },
  {
   "cell_type": "code",
   "execution_count": null,
   "metadata": {},
   "outputs": [],
   "source": [
    "columnas_predictoras=viviendas.columns.to_list()\n",
    "for variable in ['property_price', 'start_date', 'end_date', 'property_title', 'geometry']:\n",
    "    columnas_predictoras.remove(variable)\n",
    "columnas_predictoras"
   ]
  },
  {
   "cell_type": "markdown",
   "metadata": {},
   "source": [
    "## RANDOMIZADOR\n"
   ]
  },
  {
   "cell_type": "code",
   "execution_count": null,
   "metadata": {},
   "outputs": [],
   "source": [
    "Para ontrenar las redes neuronales utilizaresmos un random_search para optimizar los hiperparametros"
   ]
  },
  {
   "cell_type": "code",
   "execution_count": null,
   "metadata": {},
   "outputs": [],
   "source": [
    "#al instanciar un ModeloRedes crea y entrena una red neuronal con los hiperparametros pasados\n",
    "class ModeloRedes:\n",
    "    def __init__(self, dataset, variables_predictoras, cantidad_de_primera_capa, funcion_activacion, optimizador, learning_rate, metrica, epoch, batch_size, cantidad_filas):\n",
    "        self.variables_predictoras = variables_predictoras\n",
    "        self.cantidad_primera_capa = cantidad_de_primera_capa\n",
    "        self.funcion_activacion = funcion_activacion\n",
    "        self.optimizador = optimizador\n",
    "        self.learning_rate = learning_rate\n",
    "        self.resultado = None\n",
    "        self.metrica = metrica\n",
    "        self.epoch = epoch\n",
    "        self.batch_size = batch_size\n",
    "        self.modelo = None\n",
    "\n",
    "        \n",
    "        self.x_test = None\n",
    "        self.y_test = None\n",
    "        self.x_train = None\n",
    "        self.y_train = None\n",
    "        self.dataset_trabajo = dataset[:cantidad_filas]\n",
    "        self.obtener_datasets()\n",
    "        self.entrenar_modelo()\n",
    "\n",
    "    def obtener_datasets(self):    \n",
    "        self.x_train, self.x_test, self.y_train, self.y_test = train_test_split(self.dataset_trabajo.loc[:,self.variables_predictoras],self.dataset_trabajo.loc[:,'property_price'],test_size=0.2)\n",
    "        self.escalar_datasets()\n",
    "    \n",
    "    def escalar_datasets(self):\n",
    "        sscaler=StandardScaler()\n",
    "        sscaler.fit(pd.DataFrame(self.x_train))\n",
    "        self.x_train=sscaler.transform(pd.DataFrame(self.x_train))\n",
    "        self.x_test=sscaler.transform(pd.DataFrame(self.x_test))\n",
    "\n",
    "    def entrenar_modelo(self):\n",
    "    # Creo un modelo Red Neuronal\n",
    "        d_in= len(self.variables_predictoras)\n",
    "        d_out=1\n",
    "\n",
    "        capas = [\n",
    "            # input layer\n",
    "            keras.layers.Dense(d_in,input_shape=(d_in,), activation= self.funcion_activacion)\n",
    "        ]\n",
    "\n",
    "        #inserta capas que van decreciendo en cantidad de neuronas\n",
    "        for i in range(self.cantidad_primera_capa,2,-1):\n",
    "            capas.append(keras.layers.Dense(i, activation= self.funcion_activacion ))\n",
    "\n",
    "        capas.append(keras.layers.Dense(d_out, ))\n",
    "        self.modelo = keras.Sequential(capas)\n",
    "\n",
    "        self.modelo.compile(\n",
    "        optimizer= self.optimizador(self.learning_rate), \n",
    "        loss=self.metrica, \n",
    "        metrics=[self.metrica], \n",
    "        )\n",
    "\n",
    "        self.modelo.fit(self.x_train,self.y_train,epochs=self.epoch,batch_size=self.batch_size,verbose=False)\n",
    "    \n",
    "    def plotear(self):\n",
    "        plot_regression(self.modelo,self.x_test,self.y_test,title=f\"Modelo Final\",xlabel=\"Horsepower\",ylabel=\"MPG\")\n",
    "        \n",
    "    def testear_modelo(self):\n",
    "        y_pred=self.modelo.predict(self.x_test)\n",
    "        mse=mean_squared_error(self.y_test,y_pred)\n",
    "        self.resultado = mse ** (1/2)\n",
    "        return self.resultado\n",
    "    \n",
    "    def predecir(self, df):\n",
    "\n",
    "        df_para_predecir =  df.loc[:,self.variables_predictoras]\n",
    "        df_precios = df.loc[:,'property_price']\n",
    "        \n",
    "        sscaler=StandardScaler()\n",
    "        sscaler.fit(pd.DataFrame(df_para_predecir))\n",
    "        df_para_predecir=sscaler.transform(pd.DataFrame(df_para_predecir))\n",
    "\n",
    "        \n",
    "        precios_pred=self.modelo.predict(df_para_predecir)\n",
    "        mse=mean_squared_error(df_precios,precios_pred)\n",
    "        resultado = mse ** (1/2)\n",
    "        #plot_regression(self.modelo,df_para_predecir,df_precios,title=f\"Modelo Final\",xlabel=\"Horsepower\",ylabel=\"MPG\")\n",
    "        return resultado\n",
    "    \n",
    "    def info(self):\n",
    "        print('\\n','\\n')\n",
    "        print('\\n',\n",
    "        self.variables_predictoras , '\\n',\n",
    "        self.cantidad_primera_capa ,'\\n',\n",
    "        self.funcion_activacion ,'\\n',\n",
    "        self.optimizador ,'\\n',\n",
    "        self.learning_rate ,'\\n',\n",
    "        self.metrica ,'\\n',\n",
    "        self.epoch ,'\\n',\n",
    "        self.batch_size ,'\\n',\n",
    "        self.dataset_trabajo.shape ,'\\n')"
   ]
  },
  {
   "cell_type": "code",
   "execution_count": null,
   "metadata": {},
   "outputs": [],
   "source": [
    "columnas_importantes =  ['latitud', 'longitud', 'property_surface_total', 'property_surface_covered']\n",
    "columnas_extras = []\n",
    "for e in columnas_predictoras:\n",
    "    if e not in columnas_importantes:\n",
    "        columnas_extras.append(e)\n",
    "\n",
    "print(columnas_extras)        \n",
    "\n",
    "def agregar_columnas(posibles_variables_predictoras, columnas, cant_columnas):\n",
    "            i = 0\n",
    "            while (i < cant_columnas): \n",
    "                pos = random.randrange(i,len(columnas), 1)\n",
    "                posibles_variables_predictoras.append(columnas[pos])\n",
    "                columnas[i], columnas[pos] = columnas[pos], columnas[i]\n",
    "                i += 1\n",
    "\n",
    "posibles_cantidad_de_primera_capa = []\n",
    "for i in range(1,20):\n",
    "    posibles_cantidad_de_primera_capa.append(i)\n",
    "\n",
    "posibles_funcion_activacion = [\"relu\", \"tanh\", \"softmax\", \"sigmoid\"]\n",
    "posibles_metricas = ['mse', 'mae']\n",
    "\n",
    "posibles_learning_rate = [0.1, 0.01]"
   ]
  },
  {
   "cell_type": "code",
   "execution_count": null,
   "metadata": {},
   "outputs": [],
   "source": [
    "def funcion_optimizadoraNADAM(learnigRate):\n",
    "            return keras.optimizers.Nadam(learning_rate = learnigRate)\n",
    "\n",
    "def funcion_optimizadoraRMSPROP(learnigRate):\n",
    "            return keras.optimizers.RMSprop(learning_rate = learnigRate)\n",
    "\n",
    "def funcion_optimizadoraADAMAX(learnigRate):\n",
    "            return keras.optimizers.Adamax(learning_rate = learnigRate)\n",
    "\n",
    "def funcion_optimizadoraADADELTA(learnigRate):\n",
    "            return keras.optimizers.Adadelta(learning_rate = learnigRate)\n",
    "\n",
    "posibles_optimizador = [funcion_optimizadoraNADAM, funcion_optimizadoraRMSPROP, funcion_optimizadoraADAMAX, funcion_optimizadoraADADELTA]"
   ]
  },
  {
   "cell_type": "code",
   "execution_count": null,
   "metadata": {},
   "outputs": [],
   "source": [
    "def obtener_posibles_variables_predictoras():\n",
    "        posibles_variables_predictoras = []     \n",
    "        cant_columnas_importantes = random.randrange(1,len(columnas_importantes)+1, 1)\n",
    "        cant_columnas_extras = random.randrange(0,len(columnas_extras)+1, 1)\n",
    "\n",
    "        agregar_columnas(posibles_variables_predictoras, columnas_importantes, cant_columnas_importantes)\n",
    "        agregar_columnas(posibles_variables_predictoras, columnas_extras, cant_columnas_extras)\n",
    "        return posibles_variables_predictoras"
   ]
  },
  {
   "cell_type": "code",
   "execution_count": null,
   "metadata": {},
   "outputs": [],
   "source": [
    "def random_validator(cantidad_modelos, columnas_importantes, columnas_extras, posibles_cantidad_de_primera_capa, \n",
    "    posibles_funcion_activacion, posibles_optimizador, posibles_learning_rate, posibles_metricas, obtener_posibles_variables_predictoras):\n",
    "    resultados = []\n",
    "    for i in range(cantidad_modelos):\n",
    "\n",
    "        variables_predictoras = obtener_posibles_variables_predictoras()\n",
    "        cantidad_de_primera_capa = random.choice(posibles_cantidad_de_primera_capa)\n",
    "        funcion_activacion = random.choice(posibles_funcion_activacion)\n",
    "        optimizador = random.choice(posibles_optimizador)\n",
    "        learning_rate = random.choice(posibles_learning_rate)\n",
    "        metrica = random.choice(posibles_metricas)\n",
    "        epoch = random.randrange(100, 300, 10)\n",
    "        batch_size = random.randrange(10, 1000, 1)\n",
    "        cantidad_filas = 3000#random.randrange(3000, 5000, 1)\n",
    "\n",
    "        print('\\n','\\n')\n",
    "        print(i , '\\n',\n",
    "        variables_predictoras , '\\n',\n",
    "        cantidad_de_primera_capa ,'\\n',\n",
    "        funcion_activacion ,'\\n',\n",
    "        optimizador ,'\\n',\n",
    "        learning_rate ,'\\n',\n",
    "        metrica ,'\\n',\n",
    "        epoch ,'\\n',\n",
    "        batch_size ,'\\n',\n",
    "        cantidad_filas ,'\\n')\n",
    "\n",
    "        modelo = ModeloRedes(viviendas, variables_predictoras, cantidad_de_primera_capa, funcion_activacion, optimizador, learning_rate, metrica, epoch, batch_size, cantidad_filas)\n",
    "        resultados.append([modelo, modelo.testear_modelo()])\n",
    "        print(modelo.testear_modelo())\n",
    "    return resultados"
   ]
  },
  {
   "cell_type": "code",
   "execution_count": null,
   "metadata": {},
   "outputs": [],
   "source": [
    "def func():\n",
    "    resultados = random_validator(50,columnas_importantes, columnas_extras, posibles_cantidad_de_primera_capa, \n",
    "        posibles_funcion_activacion, posibles_optimizador, posibles_learning_rate, posibles_metricas,obtener_posibles_variables_predictoras)\n",
    "\n",
    "    return resultados"
   ]
  },
  {
   "cell_type": "code",
   "execution_count": null,
   "metadata": {},
   "outputs": [],
   "source": [
    "def reentrenar(modelo):\n",
    "    modelo.info()\n",
    "    modelo.testear_modelo()\n",
    "    mejor_modelo = modelo\n",
    "    mejor_resultado = modelo.resultado \n",
    "   \n",
    "    for i in range(5):\n",
    "        print('valor a vencer', mejor_resultado)\n",
    "        modelo_aux = ModeloRedes(viviendas, modelo.variables_predictoras, modelo.cantidad_primera_capa, modelo.funcion_activacion, modelo.optimizador, modelo.learning_rate, modelo.metrica, modelo.epoch, modelo.batch_size, 3000)\n",
    "        resultado_aux = modelo_aux.testear_modelo()\n",
    "        print('reentrenando intento', i+1)\n",
    "        resultado_aux = modelo_aux.testear_modelo()\n",
    "        print(resultado_aux)\n",
    "        modelo.info()\n",
    "        \n",
    "        if resultado_aux < mejor_resultado:\n",
    "            mejor_resultado = resultado_aux\n",
    "            mejor_modelo = modelo_aux \n",
    "    return [mejor_modelo, mejor_resultado]"
   ]
  },
  {
   "cell_type": "code",
   "execution_count": null,
   "metadata": {},
   "outputs": [],
   "source": [
    "def obtener_mejores(resultados):\n",
    "    mejores = []\n",
    "    for i in resultados:\n",
    "        if (i[1] < 130000):\n",
    "            mejores.append(i)\n",
    "\n",
    "    \"\"\"for i in range(len(mejores)):\n",
    "        mejores[i] = reentrenar(mejores[i][0])\"\"\"\n",
    "    return mejores"
   ]
  },
  {
   "cell_type": "code",
   "execution_count": null,
   "metadata": {},
   "outputs": [],
   "source": [
    "mejores = []"
   ]
  },
  {
   "cell_type": "markdown",
   "metadata": {},
   "source": [
    "Hacemos un random search de 50 redes para ver que patrones dan mejores resultados"
   ]
  },
  {
   "cell_type": "code",
   "execution_count": null,
   "metadata": {},
   "outputs": [],
   "source": [
    "random_validator(50,columnas_importantes, columnas_extras, posibles_cantidad_de_primera_capa, \n",
    "        posibles_funcion_activacion, posibles_optimizador, posibles_learning_rate, posibles_metricas,obtener_posibles_variables_predictoras)"
   ]
  },
  {
   "cell_type": "markdown",
   "metadata": {},
   "source": [
    "Despues de la primera iteracion pudimos observar que todos los buenos modelos eran de relu, por lo que lo ponemos como parametro fijo"
   ]
  },
  {
   "cell_type": "code",
   "execution_count": null,
   "metadata": {},
   "outputs": [],
   "source": [
    "posibles_funcion_activacion = [\"relu\"]\n",
    "\n",
    "resultados = random_validator(50,columnas_importantes, columnas_extras, posibles_cantidad_de_primera_capa, \n",
    "        posibles_funcion_activacion, posibles_optimizador, posibles_learning_rate, posibles_metricas)\n",
    "mejores.append(obtener_mejores(resultados))"
   ]
  },
  {
   "cell_type": "markdown",
   "metadata": {},
   "source": [
    "Despues de la segunda iteracion vemos que todos los modelos contienen muchas variables_predictoras extras"
   ]
  },
  {
   "cell_type": "code",
   "execution_count": null,
   "metadata": {},
   "outputs": [],
   "source": [
    "def obtener_posibles_variables_predictoras():\n",
    "        posibles_variables_predictoras = []     \n",
    "        cant_columnas_importantes = random.randrange(1,len(columnas_importantes)+1, 1)\n",
    "        cant_columnas_extras = random.randrange(30,len(columnas_extras)+1, 1)\n",
    "\n",
    "        agregar_columnas(posibles_variables_predictoras, columnas_importantes, cant_columnas_importantes)\n",
    "        agregar_columnas(posibles_variables_predictoras, columnas_extras, cant_columnas_extras)\n",
    "        return posibles_variables_predictoras"
   ]
  },
  {
   "cell_type": "code",
   "execution_count": null,
   "metadata": {},
   "outputs": [],
   "source": [
    "resultados = random_validator(50,columnas_importantes, columnas_extras, posibles_cantidad_de_primera_capa, \n",
    "        posibles_funcion_activacion, posibles_optimizador, posibles_learning_rate, posibles_metricas,obtener_posibles_variables_predictoras)\n",
    "mejores.append(obtener_mejores(resultados))"
   ]
  },
  {
   "cell_type": "code",
   "execution_count": null,
   "metadata": {},
   "outputs": [],
   "source": [
    "for i in mejores:\n",
    "    for j in i:\n",
    "        print(j)\n",
    "        j[0].info()"
   ]
  },
  {
   "cell_type": "code",
   "execution_count": null,
   "metadata": {},
   "outputs": [],
   "source": [
    "\n",
    "resultados = func()\n",
    "mejores.append(obtener_mejores(resultados))"
   ]
  },
  {
   "cell_type": "code",
   "execution_count": null,
   "metadata": {},
   "outputs": [],
   "source": [
    "\n",
    "resultados = func()\n",
    "mejores.append(obtener_mejores(resultados))"
   ]
  },
  {
   "cell_type": "code",
   "execution_count": null,
   "metadata": {},
   "outputs": [],
   "source": [
    "\n",
    "resultados = func()\n",
    "mejores.append(obtener_mejores(resultados))"
   ]
  },
  {
   "cell_type": "code",
   "execution_count": null,
   "metadata": {},
   "outputs": [],
   "source": [
    "for i in mejores:\n",
    "    for j in i:\n",
    "        print(j)\n",
    "        #j[0].info()"
   ]
  },
  {
   "cell_type": "code",
   "execution_count": null,
   "metadata": {},
   "outputs": [],
   "source": [
    "modelo.info()"
   ]
  },
  {
   "cell_type": "code",
   "execution_count": null,
   "metadata": {},
   "outputs": [],
   "source": [
    "modelo = mejores[len(mejores)-1][0][0]\n",
    "\n",
    "model_tot = ModeloRedes(\n",
    "        viviendas, \n",
    "        modelo.variables_predictoras, \n",
    "        modelo.cantidad_primera_capa, \n",
    "        modelo.funcion_activacion, \n",
    "        modelo.optimizador, \n",
    "        modelo.learning_rate, \n",
    "        modelo.metrica, \n",
    "        modelo.300, \n",
    "        modelo.batch_size, \n",
    "        viviendas.size)\n",
    "a = model_tot.testear_modelo()\n",
    "a"
   ]
  },
  {
   "cell_type": "code",
   "execution_count": null,
   "metadata": {},
   "outputs": [],
   "source": [
    "def reentrenar_tot(modelo):\n",
    "    modelo.info()\n",
    "    mejor_modelo = ModeloRedes(viviendas, modelo.variables_predictoras, modelo.cantidad_primera_capa, modelo.funcion_activacion, modelo.optimizador, modelo.learning_rate, modelo.metrica, modelo.epoch, modelo.batch_size, viviendas.size)\n",
    "    mejor_modelo.testear_modelo()\n",
    "    mejor_resultado = mejor_modelo.resultado \n",
    "   \n",
    "    if mejor_resultado > 150000:\n",
    "        return None\n",
    "\n",
    "    for i in range(0):\n",
    "        print('valor a vencer', mejor_resultado)\n",
    "        modelo_aux = ModeloRedes(viviendas, modelo.variables_predictoras, modelo.cantidad_primera_capa, modelo.funcion_activacion, modelo.optimizador, modelo.learning_rate, modelo.metrica, modelo.epoch, modelo.batch_size, viviendas.size)\n",
    "        resultado_aux = modelo_aux.testear_modelo()\n",
    "        print('reentrenando intento', i+1)\n",
    "        resultado_aux = modelo_aux.testear_modelo()\n",
    "        print(resultado_aux)\n",
    "        modelo_aux.info()\n",
    "        \n",
    "        if resultado_aux < mejor_resultado:\n",
    "            mejor_resultado = resultado_aux\n",
    "            mejor_modelo = modelo_aux \n",
    "    return [mejor_modelo, mejor_resultado]"
   ]
  },
  {
   "cell_type": "code",
   "execution_count": 112,
   "metadata": {},
   "outputs": [
    {
     "name": "stdout",
     "output_type": "stream",
     "text": [
      "[<__main__.ModeloRedes object at 0x7f4b7028ac10>, 108139.9216440872]\n",
      "\n",
      " \n",
      "\n",
      "\n",
      " ['longitud', 'latitud', 'property_surface_total', 'property_surface_covered', 'barrio_Palermo', 'barrio_Saavedra', 'barrio_Parque Avellaneda', 'property_rooms', 'barrio_Belgrano', 'barrio_San Cristobal', 'barrio_Almagro', 'barrio_Floresta', 'barrio_Nuñez', 'barrio_Flores', 'barrio_Villa Lugano', 'barrio_Pompeya', 'property_bedrooms', 'barrio_Parque Centenario', 'barrio_Villa Crespo', 'property_type_PH', 'barrio_Barracas', 'barrio_Villa Soldati', 'barrio_Parque Chas', 'barrio_Boca', 'barrio_Abasto', 'barrio_Constitución', 'barrio_Tribunales', 'barrio_Parque Chacabuco', 'barrio_Catalinas', 'property_type_Departamento', 'barrio_Velez Sarsfield', 'barrio_Villa Riachuelo', 'barrio_Villa Luro', 'barrio_Barrio Norte', 'barrio_Monte Castro', 'barrio_Villa Urquiza', 'barrio_Agronomía', 'barrio_Monserrat', 'barrio_Balvanera', 'barrio_Parque Patricios', 'barrio_Mataderos', 'barrio_Colegiales', 'barrio_Centro / Microcentro', 'barrio_Villa del Parque', 'barrio_Villa Santa Rita', 'barrio_Chacarita', 'barrio_Paternal', 'barrio_Congreso', 'barrio_Retiro', 'barrio_Recoleta', 'barrio_Villa General Mitre', 'barrio_Liniers', 'property_type_Casa', 'barrio_Boedo', 'barrio_Villa Real', 'barrio_Las Cañitas', 'barrio_San Nicolás'] \n",
      " 19 \n",
      " relu \n",
      " <function funcion_optimizadoraADAMAX at 0x7f4c61b26dc0> \n",
      " 0.01 \n",
      " mae \n",
      " 210 \n",
      " 598 \n",
      " (3000, 71) \n",
      "\n"
     ]
    },
    {
     "name": "stderr",
     "output_type": "stream",
     "text": [
      "/home/pal/.local/lib/python3.8/site-packages/pandas/core/indexes/base.py:395: DeprecationWarning: `np.bool` is a deprecated alias for the builtin `bool`. To silence this warning, use `bool` by itself. Doing this will not modify any behavior and is safe. If you specifically wanted the numpy scalar type, use `np.bool_` here.\n",
      "Deprecated in NumPy 1.20; for more details and guidance: https://numpy.org/devdocs/release/1.20.0-notes.html#deprecations\n",
      "  elif issubclass(data.dtype.type, np.bool) or is_bool_dtype(data):\n",
      "/home/pal/.local/lib/python3.8/site-packages/pandas/core/indexes/base.py:395: DeprecationWarning: `np.bool` is a deprecated alias for the builtin `bool`. To silence this warning, use `bool` by itself. Doing this will not modify any behavior and is safe. If you specifically wanted the numpy scalar type, use `np.bool_` here.\n",
      "Deprecated in NumPy 1.20; for more details and guidance: https://numpy.org/devdocs/release/1.20.0-notes.html#deprecations\n",
      "  elif issubclass(data.dtype.type, np.bool) or is_bool_dtype(data):\n",
      "/home/pal/.local/lib/python3.8/site-packages/pandas/core/indexes/base.py:395: DeprecationWarning: `np.bool` is a deprecated alias for the builtin `bool`. To silence this warning, use `bool` by itself. Doing this will not modify any behavior and is safe. If you specifically wanted the numpy scalar type, use `np.bool_` here.\n",
      "Deprecated in NumPy 1.20; for more details and guidance: https://numpy.org/devdocs/release/1.20.0-notes.html#deprecations\n",
      "  elif issubclass(data.dtype.type, np.bool) or is_bool_dtype(data):\n",
      "/home/pal/.local/lib/python3.8/site-packages/pandas/core/indexes/base.py:395: DeprecationWarning: `np.bool` is a deprecated alias for the builtin `bool`. To silence this warning, use `bool` by itself. Doing this will not modify any behavior and is safe. If you specifically wanted the numpy scalar type, use `np.bool_` here.\n",
      "Deprecated in NumPy 1.20; for more details and guidance: https://numpy.org/devdocs/release/1.20.0-notes.html#deprecations\n",
      "  elif issubclass(data.dtype.type, np.bool) or is_bool_dtype(data):\n"
     ]
    },
    {
     "ename": "KeyboardInterrupt",
     "evalue": "",
     "output_type": "error",
     "traceback": [
      "\u001b[0;31m---------------------------------------------------------------------------\u001b[0m",
      "\u001b[0;31mKeyboardInterrupt\u001b[0m                         Traceback (most recent call last)",
      "Cell \u001b[0;32mIn [112], line 5\u001b[0m\n\u001b[1;32m      3\u001b[0m \u001b[39mfor\u001b[39;00m j \u001b[39min\u001b[39;00m i:\n\u001b[1;32m      4\u001b[0m     \u001b[39mprint\u001b[39m(j)\n\u001b[0;32m----> 5\u001b[0m     tots\u001b[39m.\u001b[39mappend(reentrenar_tot(j[\u001b[39m0\u001b[39;49m]))\n",
      "Cell \u001b[0;32mIn [100], line 3\u001b[0m, in \u001b[0;36mreentrenar_tot\u001b[0;34m(modelo)\u001b[0m\n\u001b[1;32m      1\u001b[0m \u001b[39mdef\u001b[39;00m \u001b[39mreentrenar_tot\u001b[39m(modelo):\n\u001b[1;32m      2\u001b[0m     modelo\u001b[39m.\u001b[39minfo()\n\u001b[0;32m----> 3\u001b[0m     mejor_modelo \u001b[39m=\u001b[39m ModeloRedes(viviendas, modelo\u001b[39m.\u001b[39;49mvariables_predictoras, modelo\u001b[39m.\u001b[39;49mcantidad_primera_capa, modelo\u001b[39m.\u001b[39;49mfuncion_activacion, modelo\u001b[39m.\u001b[39;49moptimizador, modelo\u001b[39m.\u001b[39;49mlearning_rate, modelo\u001b[39m.\u001b[39;49mmetrica, modelo\u001b[39m.\u001b[39;49mepoch, modelo\u001b[39m.\u001b[39;49mbatch_size, viviendas\u001b[39m.\u001b[39;49msize)\n\u001b[1;32m      4\u001b[0m     mejor_modelo\u001b[39m.\u001b[39mtestear_modelo()\n\u001b[1;32m      5\u001b[0m     mejor_resultado \u001b[39m=\u001b[39m mejor_modelo\u001b[39m.\u001b[39mresultado \n",
      "Cell \u001b[0;32mIn [27], line 21\u001b[0m, in \u001b[0;36mModeloRedes.__init__\u001b[0;34m(self, dataset, variables_predictoras, cantidad_de_primera_capa, funcion_activacion, optimizador, learning_rate, metrica, epoch, batch_size, cantidad_filas)\u001b[0m\n\u001b[1;32m     19\u001b[0m \u001b[39mself\u001b[39m\u001b[39m.\u001b[39mdataset_trabajo \u001b[39m=\u001b[39m dataset[:cantidad_filas]\n\u001b[1;32m     20\u001b[0m \u001b[39mself\u001b[39m\u001b[39m.\u001b[39mobtener_datasets()\n\u001b[0;32m---> 21\u001b[0m \u001b[39mself\u001b[39;49m\u001b[39m.\u001b[39;49mentrenar_modelo()\n",
      "Cell \u001b[0;32mIn [27], line 60\u001b[0m, in \u001b[0;36mModeloRedes.entrenar_modelo\u001b[0;34m(self)\u001b[0m\n\u001b[1;32m     51\u001b[0m \u001b[39mself\u001b[39m\u001b[39m.\u001b[39mmodelo \u001b[39m=\u001b[39m keras\u001b[39m.\u001b[39mSequential(capas)\n\u001b[1;32m     53\u001b[0m \u001b[39mself\u001b[39m\u001b[39m.\u001b[39mmodelo\u001b[39m.\u001b[39mcompile(\n\u001b[1;32m     54\u001b[0m optimizer\u001b[39m=\u001b[39m \u001b[39mself\u001b[39m\u001b[39m.\u001b[39moptimizador(\u001b[39mself\u001b[39m\u001b[39m.\u001b[39mlearning_rate), \n\u001b[1;32m     55\u001b[0m loss\u001b[39m=\u001b[39m\u001b[39mself\u001b[39m\u001b[39m.\u001b[39mmetrica, \n\u001b[1;32m     56\u001b[0m \u001b[39m# metricas para ir calculando en cada iteracion o batch \u001b[39;00m\n\u001b[1;32m     57\u001b[0m metrics\u001b[39m=\u001b[39m[\u001b[39mself\u001b[39m\u001b[39m.\u001b[39mmetrica], \n\u001b[1;32m     58\u001b[0m )\n\u001b[0;32m---> 60\u001b[0m \u001b[39mself\u001b[39;49m\u001b[39m.\u001b[39;49mmodelo\u001b[39m.\u001b[39;49mfit(\u001b[39mself\u001b[39;49m\u001b[39m.\u001b[39;49mx_train,\u001b[39mself\u001b[39;49m\u001b[39m.\u001b[39;49my_train,epochs\u001b[39m=\u001b[39;49m\u001b[39mself\u001b[39;49m\u001b[39m.\u001b[39;49mepoch,batch_size\u001b[39m=\u001b[39;49m\u001b[39mself\u001b[39;49m\u001b[39m.\u001b[39;49mbatch_size,verbose\u001b[39m=\u001b[39;49m\u001b[39mFalse\u001b[39;49;00m)\n",
      "File \u001b[0;32m~/.local/lib/python3.8/site-packages/keras/utils/traceback_utils.py:65\u001b[0m, in \u001b[0;36mfilter_traceback.<locals>.error_handler\u001b[0;34m(*args, **kwargs)\u001b[0m\n\u001b[1;32m     63\u001b[0m filtered_tb \u001b[39m=\u001b[39m \u001b[39mNone\u001b[39;00m\n\u001b[1;32m     64\u001b[0m \u001b[39mtry\u001b[39;00m:\n\u001b[0;32m---> 65\u001b[0m     \u001b[39mreturn\u001b[39;00m fn(\u001b[39m*\u001b[39;49margs, \u001b[39m*\u001b[39;49m\u001b[39m*\u001b[39;49mkwargs)\n\u001b[1;32m     66\u001b[0m \u001b[39mexcept\u001b[39;00m \u001b[39mException\u001b[39;00m \u001b[39mas\u001b[39;00m e:\n\u001b[1;32m     67\u001b[0m     filtered_tb \u001b[39m=\u001b[39m _process_traceback_frames(e\u001b[39m.\u001b[39m__traceback__)\n",
      "File \u001b[0;32m~/.local/lib/python3.8/site-packages/keras/engine/training.py:1650\u001b[0m, in \u001b[0;36mModel.fit\u001b[0;34m(self, x, y, batch_size, epochs, verbose, callbacks, validation_split, validation_data, shuffle, class_weight, sample_weight, initial_epoch, steps_per_epoch, validation_steps, validation_batch_size, validation_freq, max_queue_size, workers, use_multiprocessing)\u001b[0m\n\u001b[1;32m   1642\u001b[0m \u001b[39mwith\u001b[39;00m tf\u001b[39m.\u001b[39mprofiler\u001b[39m.\u001b[39mexperimental\u001b[39m.\u001b[39mTrace(\n\u001b[1;32m   1643\u001b[0m     \u001b[39m\"\u001b[39m\u001b[39mtrain\u001b[39m\u001b[39m\"\u001b[39m,\n\u001b[1;32m   1644\u001b[0m     epoch_num\u001b[39m=\u001b[39mepoch,\n\u001b[0;32m   (...)\u001b[0m\n\u001b[1;32m   1647\u001b[0m     _r\u001b[39m=\u001b[39m\u001b[39m1\u001b[39m,\n\u001b[1;32m   1648\u001b[0m ):\n\u001b[1;32m   1649\u001b[0m     callbacks\u001b[39m.\u001b[39mon_train_batch_begin(step)\n\u001b[0;32m-> 1650\u001b[0m     tmp_logs \u001b[39m=\u001b[39m \u001b[39mself\u001b[39;49m\u001b[39m.\u001b[39;49mtrain_function(iterator)\n\u001b[1;32m   1651\u001b[0m     \u001b[39mif\u001b[39;00m data_handler\u001b[39m.\u001b[39mshould_sync:\n\u001b[1;32m   1652\u001b[0m         context\u001b[39m.\u001b[39masync_wait()\n",
      "File \u001b[0;32m~/.local/lib/python3.8/site-packages/tensorflow/python/util/traceback_utils.py:150\u001b[0m, in \u001b[0;36mfilter_traceback.<locals>.error_handler\u001b[0;34m(*args, **kwargs)\u001b[0m\n\u001b[1;32m    148\u001b[0m filtered_tb \u001b[39m=\u001b[39m \u001b[39mNone\u001b[39;00m\n\u001b[1;32m    149\u001b[0m \u001b[39mtry\u001b[39;00m:\n\u001b[0;32m--> 150\u001b[0m   \u001b[39mreturn\u001b[39;00m fn(\u001b[39m*\u001b[39;49margs, \u001b[39m*\u001b[39;49m\u001b[39m*\u001b[39;49mkwargs)\n\u001b[1;32m    151\u001b[0m \u001b[39mexcept\u001b[39;00m \u001b[39mException\u001b[39;00m \u001b[39mas\u001b[39;00m e:\n\u001b[1;32m    152\u001b[0m   filtered_tb \u001b[39m=\u001b[39m _process_traceback_frames(e\u001b[39m.\u001b[39m__traceback__)\n",
      "File \u001b[0;32m~/.local/lib/python3.8/site-packages/tensorflow/python/eager/polymorphic_function/polymorphic_function.py:880\u001b[0m, in \u001b[0;36mFunction.__call__\u001b[0;34m(self, *args, **kwds)\u001b[0m\n\u001b[1;32m    877\u001b[0m compiler \u001b[39m=\u001b[39m \u001b[39m\"\u001b[39m\u001b[39mxla\u001b[39m\u001b[39m\"\u001b[39m \u001b[39mif\u001b[39;00m \u001b[39mself\u001b[39m\u001b[39m.\u001b[39m_jit_compile \u001b[39melse\u001b[39;00m \u001b[39m\"\u001b[39m\u001b[39mnonXla\u001b[39m\u001b[39m\"\u001b[39m\n\u001b[1;32m    879\u001b[0m \u001b[39mwith\u001b[39;00m OptionalXlaContext(\u001b[39mself\u001b[39m\u001b[39m.\u001b[39m_jit_compile):\n\u001b[0;32m--> 880\u001b[0m   result \u001b[39m=\u001b[39m \u001b[39mself\u001b[39;49m\u001b[39m.\u001b[39;49m_call(\u001b[39m*\u001b[39;49margs, \u001b[39m*\u001b[39;49m\u001b[39m*\u001b[39;49mkwds)\n\u001b[1;32m    882\u001b[0m new_tracing_count \u001b[39m=\u001b[39m \u001b[39mself\u001b[39m\u001b[39m.\u001b[39mexperimental_get_tracing_count()\n\u001b[1;32m    883\u001b[0m without_tracing \u001b[39m=\u001b[39m (tracing_count \u001b[39m==\u001b[39m new_tracing_count)\n",
      "File \u001b[0;32m~/.local/lib/python3.8/site-packages/tensorflow/python/eager/polymorphic_function/polymorphic_function.py:912\u001b[0m, in \u001b[0;36mFunction._call\u001b[0;34m(self, *args, **kwds)\u001b[0m\n\u001b[1;32m    909\u001b[0m   \u001b[39mself\u001b[39m\u001b[39m.\u001b[39m_lock\u001b[39m.\u001b[39mrelease()\n\u001b[1;32m    910\u001b[0m   \u001b[39m# In this case we have created variables on the first call, so we run the\u001b[39;00m\n\u001b[1;32m    911\u001b[0m   \u001b[39m# defunned version which is guaranteed to never create variables.\u001b[39;00m\n\u001b[0;32m--> 912\u001b[0m   \u001b[39mreturn\u001b[39;00m \u001b[39mself\u001b[39;49m\u001b[39m.\u001b[39;49m_no_variable_creation_fn(\u001b[39m*\u001b[39;49margs, \u001b[39m*\u001b[39;49m\u001b[39m*\u001b[39;49mkwds)  \u001b[39m# pylint: disable=not-callable\u001b[39;00m\n\u001b[1;32m    913\u001b[0m \u001b[39melif\u001b[39;00m \u001b[39mself\u001b[39m\u001b[39m.\u001b[39m_variable_creation_fn \u001b[39mis\u001b[39;00m \u001b[39mnot\u001b[39;00m \u001b[39mNone\u001b[39;00m:\n\u001b[1;32m    914\u001b[0m   \u001b[39m# Release the lock early so that multiple threads can perform the call\u001b[39;00m\n\u001b[1;32m    915\u001b[0m   \u001b[39m# in parallel.\u001b[39;00m\n\u001b[1;32m    916\u001b[0m   \u001b[39mself\u001b[39m\u001b[39m.\u001b[39m_lock\u001b[39m.\u001b[39mrelease()\n",
      "File \u001b[0;32m~/.local/lib/python3.8/site-packages/tensorflow/python/eager/polymorphic_function/tracing_compiler.py:134\u001b[0m, in \u001b[0;36mTracingCompiler.__call__\u001b[0;34m(self, *args, **kwargs)\u001b[0m\n\u001b[1;32m    131\u001b[0m \u001b[39mwith\u001b[39;00m \u001b[39mself\u001b[39m\u001b[39m.\u001b[39m_lock:\n\u001b[1;32m    132\u001b[0m   (concrete_function,\n\u001b[1;32m    133\u001b[0m    filtered_flat_args) \u001b[39m=\u001b[39m \u001b[39mself\u001b[39m\u001b[39m.\u001b[39m_maybe_define_function(args, kwargs)\n\u001b[0;32m--> 134\u001b[0m \u001b[39mreturn\u001b[39;00m concrete_function\u001b[39m.\u001b[39;49m_call_flat(\n\u001b[1;32m    135\u001b[0m     filtered_flat_args, captured_inputs\u001b[39m=\u001b[39;49mconcrete_function\u001b[39m.\u001b[39;49mcaptured_inputs)\n",
      "File \u001b[0;32m~/.local/lib/python3.8/site-packages/tensorflow/python/eager/polymorphic_function/monomorphic_function.py:1745\u001b[0m, in \u001b[0;36mConcreteFunction._call_flat\u001b[0;34m(self, args, captured_inputs, cancellation_manager)\u001b[0m\n\u001b[1;32m   1741\u001b[0m possible_gradient_type \u001b[39m=\u001b[39m gradients_util\u001b[39m.\u001b[39mPossibleTapeGradientTypes(args)\n\u001b[1;32m   1742\u001b[0m \u001b[39mif\u001b[39;00m (possible_gradient_type \u001b[39m==\u001b[39m gradients_util\u001b[39m.\u001b[39mPOSSIBLE_GRADIENT_TYPES_NONE\n\u001b[1;32m   1743\u001b[0m     \u001b[39mand\u001b[39;00m executing_eagerly):\n\u001b[1;32m   1744\u001b[0m   \u001b[39m# No tape is watching; skip to running the function.\u001b[39;00m\n\u001b[0;32m-> 1745\u001b[0m   \u001b[39mreturn\u001b[39;00m \u001b[39mself\u001b[39m\u001b[39m.\u001b[39m_build_call_outputs(\u001b[39mself\u001b[39;49m\u001b[39m.\u001b[39;49m_inference_function\u001b[39m.\u001b[39;49mcall(\n\u001b[1;32m   1746\u001b[0m       ctx, args, cancellation_manager\u001b[39m=\u001b[39;49mcancellation_manager))\n\u001b[1;32m   1747\u001b[0m forward_backward \u001b[39m=\u001b[39m \u001b[39mself\u001b[39m\u001b[39m.\u001b[39m_select_forward_and_backward_functions(\n\u001b[1;32m   1748\u001b[0m     args,\n\u001b[1;32m   1749\u001b[0m     possible_gradient_type,\n\u001b[1;32m   1750\u001b[0m     executing_eagerly)\n\u001b[1;32m   1751\u001b[0m forward_function, args_with_tangents \u001b[39m=\u001b[39m forward_backward\u001b[39m.\u001b[39mforward()\n",
      "File \u001b[0;32m~/.local/lib/python3.8/site-packages/tensorflow/python/eager/polymorphic_function/monomorphic_function.py:378\u001b[0m, in \u001b[0;36m_EagerDefinedFunction.call\u001b[0;34m(self, ctx, args, cancellation_manager)\u001b[0m\n\u001b[1;32m    376\u001b[0m \u001b[39mwith\u001b[39;00m _InterpolateFunctionError(\u001b[39mself\u001b[39m):\n\u001b[1;32m    377\u001b[0m   \u001b[39mif\u001b[39;00m cancellation_manager \u001b[39mis\u001b[39;00m \u001b[39mNone\u001b[39;00m:\n\u001b[0;32m--> 378\u001b[0m     outputs \u001b[39m=\u001b[39m execute\u001b[39m.\u001b[39;49mexecute(\n\u001b[1;32m    379\u001b[0m         \u001b[39mstr\u001b[39;49m(\u001b[39mself\u001b[39;49m\u001b[39m.\u001b[39;49msignature\u001b[39m.\u001b[39;49mname),\n\u001b[1;32m    380\u001b[0m         num_outputs\u001b[39m=\u001b[39;49m\u001b[39mself\u001b[39;49m\u001b[39m.\u001b[39;49m_num_outputs,\n\u001b[1;32m    381\u001b[0m         inputs\u001b[39m=\u001b[39;49margs,\n\u001b[1;32m    382\u001b[0m         attrs\u001b[39m=\u001b[39;49mattrs,\n\u001b[1;32m    383\u001b[0m         ctx\u001b[39m=\u001b[39;49mctx)\n\u001b[1;32m    384\u001b[0m   \u001b[39melse\u001b[39;00m:\n\u001b[1;32m    385\u001b[0m     outputs \u001b[39m=\u001b[39m execute\u001b[39m.\u001b[39mexecute_with_cancellation(\n\u001b[1;32m    386\u001b[0m         \u001b[39mstr\u001b[39m(\u001b[39mself\u001b[39m\u001b[39m.\u001b[39msignature\u001b[39m.\u001b[39mname),\n\u001b[1;32m    387\u001b[0m         num_outputs\u001b[39m=\u001b[39m\u001b[39mself\u001b[39m\u001b[39m.\u001b[39m_num_outputs,\n\u001b[0;32m   (...)\u001b[0m\n\u001b[1;32m    390\u001b[0m         ctx\u001b[39m=\u001b[39mctx,\n\u001b[1;32m    391\u001b[0m         cancellation_manager\u001b[39m=\u001b[39mcancellation_manager)\n",
      "File \u001b[0;32m~/.local/lib/python3.8/site-packages/tensorflow/python/eager/execute.py:52\u001b[0m, in \u001b[0;36mquick_execute\u001b[0;34m(op_name, num_outputs, inputs, attrs, ctx, name)\u001b[0m\n\u001b[1;32m     50\u001b[0m \u001b[39mtry\u001b[39;00m:\n\u001b[1;32m     51\u001b[0m   ctx\u001b[39m.\u001b[39mensure_initialized()\n\u001b[0;32m---> 52\u001b[0m   tensors \u001b[39m=\u001b[39m pywrap_tfe\u001b[39m.\u001b[39;49mTFE_Py_Execute(ctx\u001b[39m.\u001b[39;49m_handle, device_name, op_name,\n\u001b[1;32m     53\u001b[0m                                       inputs, attrs, num_outputs)\n\u001b[1;32m     54\u001b[0m \u001b[39mexcept\u001b[39;00m core\u001b[39m.\u001b[39m_NotOkStatusException \u001b[39mas\u001b[39;00m e:\n\u001b[1;32m     55\u001b[0m   \u001b[39mif\u001b[39;00m name \u001b[39mis\u001b[39;00m \u001b[39mnot\u001b[39;00m \u001b[39mNone\u001b[39;00m:\n",
      "\u001b[0;31mKeyboardInterrupt\u001b[0m: "
     ]
    }
   ],
   "source": [
    "tots = []\n",
    "for i in mejores:\n",
    "    for j in i:\n",
    "        print(j)\n",
    "        tots.append(reentrenar_tot(j[0]))\n",
    "        "
   ]
  },
  {
   "cell_type": "code",
   "execution_count": 111,
   "metadata": {},
   "outputs": [
    {
     "name": "stdout",
     "output_type": "stream",
     "text": [
      "[[<__main__.ModeloRedes object at 0x7f4b6eaa71c0>, 109827.51856672103], [<__main__.ModeloRedes object at 0x7f4b6e0c3ee0>, 130705.42420404805], [<__main__.ModeloRedes object at 0x7f4b6dc3ca90>, 145723.08073309163]]\n",
      "1\n"
     ]
    }
   ],
   "source": [
    "print(tots)\n",
    "print('1')"
   ]
  },
  {
   "cell_type": "code",
   "execution_count": null,
   "metadata": {},
   "outputs": [],
   "source": [
    "joblib.dump(model_tot, './Models/red_regresion_108k_tot') "
   ]
  },
  {
   "cell_type": "code",
   "execution_count": null,
   "metadata": {},
   "outputs": [],
   "source": [
    "for i in mejores:\n",
    "    for j in i:\n",
    "        print('El modelo tiene metrica')\n",
    "        print(j[1])\n",
    "        j[0].info()\n",
    "        j[0].imprimir()\n",
    "        print('El modelo predice sobre todo el dataset como')\n",
    "        j.append(j[0].predecir(viviendas))\n",
    "        print(j[2])\n"
   ]
  },
  {
   "cell_type": "code",
   "execution_count": null,
   "metadata": {},
   "outputs": [],
   "source": [
    "\"\"\"va = ['longitud', 'property_surface_total', 'property_surface_covered', 'latitud', 'barrio_Paternal', 'barrio_Retiro', 'barrio_Las Cañitas', 'barrio_Pompeya', 'barrio_Balvanera', 'barrio_Monserrat', 'barrio_Villa Pueyrredón', 'barrio_Mataderos', 'barrio_Chacarita', 'barrio_Barracas', 'property_bedrooms', 'barrio_San Nicolás', 'barrio_Villa General Mitre', 'barrio_Liniers', 'barrio_Villa Santa Rita', 'barrio_San Telmo', 'property_type_Departamento', 'barrio_Villa Lugano', 'barrio_Almagro', 'barrio_Coghlan', 'barrio_Once', 'barrio_Villa Soldati', 'barrio_Villa Ortuzar', 'barrio_Floresta', 'barrio_Villa Riachuelo', 'barrio_Constitución', 'barrio_Congreso', 'barrio_Velez Sarsfield', 'barrio_Villa del Parque', 'barrio_Villa Devoto', 'barrio_Abasto', 'barrio_Villa Urquiza', 'barrio_Catalinas', 'barrio_Recoleta', 'barrio_Caballito', 'barrio_Nuñez', 'barrio_Barrio Norte', 'barrio_Versalles', 'barrio_Monte Castro', 'barrio_Boedo', 'barrio_Belgrano', 'barrio_Boca', 'barrio_Parque Avellaneda', 'barrio_Tribunales', 'barrio_Villa Real', 'barrio_Villa Crespo', 'barrio_Centro / Microcentro', 'property_rooms', 'barrio_Parque Patricios', 'property_type_PH', 'barrio_Agronomía', 'barrio_Colegiales', 'barrio_Flores', 'barrio_Saavedra', 'barrio_San Cristobal', 'property_type_Casa', 'barrio_Puerto Madero', 'barrio_Parque Centenario'] \n",
    "\n",
    "modelo = ModeloRedes(viviendas, va, 15, 'relu', funcion_optimizadoraADADELTA, 0.01, 'mae', 200, 125, 2000)\n",
    "print(modelo.testear_modelo())\n",
    "modelo.info()\n",
    "modelo.imprimir()\"\"\""
   ]
  },
  {
   "cell_type": "code",
   "execution_count": null,
   "metadata": {},
   "outputs": [],
   "source": [
    "\"\"\"modelo = mejores[0][0][0]\n",
    "\n",
    "df_para_predecir =  viviendas.loc[:,modelo.variables_predictoras]\n",
    "df_precios = viviendas.loc[:,'property_price']\n",
    "\n",
    "sscaler=StandardScaler()\n",
    "sscaler.fit(pd.DataFrame(df_para_predecir))\n",
    "df_para_predecir=sscaler.transform(pd.DataFrame(df_para_predecir))\n",
    "\n",
    "\n",
    "precios_pred=modelo.modelo.predict(df_para_predecir)\n",
    "mse=mean_squared_error(df_precios,precios_pred)\n",
    "print (mse ** (1/2))\n",
    "plot_regression(modelo.modelo,df_para_predecir,df_precios,title=f\"Modelo Final\",xlabel=\"Horsepower\",ylabel=\"MPG\")\"\"\""
   ]
  },
  {
   "cell_type": "code",
   "execution_count": null,
   "metadata": {},
   "outputs": [],
   "source": [
    "#joblib.dump(mejores[0][0][0], './Models/red_regresion_67k') "
   ]
  }
 ],
 "metadata": {
  "kernelspec": {
   "display_name": "Python 3.8.10 64-bit",
   "language": "python",
   "name": "python3"
  },
  "language_info": {
   "codemirror_mode": {
    "name": "ipython",
    "version": 3
   },
   "file_extension": ".py",
   "mimetype": "text/x-python",
   "name": "python",
   "nbconvert_exporter": "python",
   "pygments_lexer": "ipython3",
   "version": "3.8.10"
  },
  "orig_nbformat": 4,
  "vscode": {
   "interpreter": {
    "hash": "916dbcbb3f70747c44a77c7bcd40155683ae19c65e1c03b4aa3499c5328201f1"
   }
  }
 },
 "nbformat": 4,
 "nbformat_minor": 2
}
