{
 "cells": [
  {
   "cell_type": "code",
   "execution_count": 7,
   "metadata": {},
   "outputs": [],
   "source": [
    "import pandas as pd\n",
    "import seaborn as sns\n",
    "import matplotlib.pyplot as plt\n",
    "import numpy as np\n",
    "import warnings\n",
    "warnings.filterwarnings('always')\n",
    "from sklearn.model_selection import train_test_split\n",
    "import shapely.speedups\n",
    "from sklearn.preprocessing import StandardScaler\n",
    "from IPython.display import Image\n",
    "import re\n",
    "from itertools import combinations\n",
    "import random\n",
    "\n",
    "import numpy as np\n",
    "import pandas as pd\n",
    "import matplotlib.pyplot as plt\n",
    "\n",
    "from sklearn.model_selection import train_test_split\n",
    "from sklearn.metrics import mean_absolute_error, mean_squared_error\n",
    "from sklearn.preprocessing import StandardScaler\n",
    "\n",
    "import tensorflow as tf\n",
    "from tensorflow import keras\n",
    "import keras_tuner as kt\n",
    "\n",
    "np.random.seed(1)\n",
    "tf.random.set_seed(1)"
   ]
  },
  {
   "cell_type": "code",
   "execution_count": 2,
   "metadata": {},
   "outputs": [],
   "source": [
    "viviendas_train=pd.read_csv('./TP1/Datasets/viviendas_caba_train.csv').copy()\n",
    "viviendas_test=pd.read_csv('./TP1/Datasets/viviendas_caba_test.csv').copy()\n",
    "\n",
    "viviendas_train=pd.read_csv('./TP1/Datasets/viviendas_caba_train.csv').copy()\n",
    "viviendas_test=pd.read_csv('./TP1/Datasets/viviendas_caba_test.csv').copy()\n",
    "viviendas = pd.concat([viviendas_train, viviendas_test])"
   ]
  },
  {
   "cell_type": "code",
   "execution_count": 4,
   "metadata": {},
   "outputs": [],
   "source": [
    "viviendas = pd.get_dummies(viviendas, columns = [\"property_type\"]) \n",
    "viviendas = pd.get_dummies(viviendas, columns = [\"barrio\"])"
   ]
  },
  {
   "cell_type": "code",
   "execution_count": 6,
   "metadata": {},
   "outputs": [
    {
     "data": {
      "text/plain": [
       "Index(['start_date', 'end_date', 'latitud', 'longitud', 'property_rooms',\n",
       "       'property_bedrooms', 'property_surface_total',\n",
       "       'property_surface_covered', 'property_price', 'property_title',\n",
       "       'geometry', 'property_type_Casa', 'property_type_Departamento',\n",
       "       'property_type_PH', 'barrio_Abasto', 'barrio_Agronomía',\n",
       "       'barrio_Almagro', 'barrio_Balvanera', 'barrio_Barracas',\n",
       "       'barrio_Barrio Norte', 'barrio_Belgrano', 'barrio_Boca', 'barrio_Boedo',\n",
       "       'barrio_Caballito', 'barrio_Catalinas', 'barrio_Centro / Microcentro',\n",
       "       'barrio_Chacarita', 'barrio_Coghlan', 'barrio_Colegiales',\n",
       "       'barrio_Congreso', 'barrio_Constitución', 'barrio_Flores',\n",
       "       'barrio_Floresta', 'barrio_Las Cañitas', 'barrio_Liniers',\n",
       "       'barrio_Mataderos', 'barrio_Monserrat', 'barrio_Monte Castro',\n",
       "       'barrio_Nuñez', 'barrio_Once', 'barrio_Palermo',\n",
       "       'barrio_Parque Avellaneda', 'barrio_Parque Centenario',\n",
       "       'barrio_Parque Chacabuco', 'barrio_Parque Chas',\n",
       "       'barrio_Parque Patricios', 'barrio_Paternal', 'barrio_Pompeya',\n",
       "       'barrio_Puerto Madero', 'barrio_Recoleta', 'barrio_Retiro',\n",
       "       'barrio_Saavedra', 'barrio_San Cristobal', 'barrio_San Nicolás',\n",
       "       'barrio_San Telmo', 'barrio_Tribunales', 'barrio_Velez Sarsfield',\n",
       "       'barrio_Versalles', 'barrio_Villa Crespo', 'barrio_Villa Devoto',\n",
       "       'barrio_Villa General Mitre', 'barrio_Villa Lugano',\n",
       "       'barrio_Villa Luro', 'barrio_Villa Ortuzar', 'barrio_Villa Pueyrredón',\n",
       "       'barrio_Villa Real', 'barrio_Villa Riachuelo',\n",
       "       'barrio_Villa Santa Rita', 'barrio_Villa Soldati',\n",
       "       'barrio_Villa Urquiza', 'barrio_Villa del Parque'],\n",
       "      dtype='object')"
      ]
     },
     "execution_count": 6,
     "metadata": {},
     "output_type": "execute_result"
    }
   ],
   "source": [
    "viviendas.columns"
   ]
  },
  {
   "cell_type": "code",
   "execution_count": null,
   "metadata": {},
   "outputs": [],
   "source": []
  }
 ],
 "metadata": {
  "kernelspec": {
   "display_name": "Python 3.9.12 ('base')",
   "language": "python",
   "name": "python3"
  },
  "language_info": {
   "codemirror_mode": {
    "name": "ipython",
    "version": 3
   },
   "file_extension": ".py",
   "mimetype": "text/x-python",
   "name": "python",
   "nbconvert_exporter": "python",
   "pygments_lexer": "ipython3",
   "version": "3.9.12"
  },
  "orig_nbformat": 4,
  "vscode": {
   "interpreter": {
    "hash": "4b4bfd882b72278d2fc01f7f7f865a6b413108d571dd02a132c40c7c94589e02"
   }
  }
 },
 "nbformat": 4,
 "nbformat_minor": 2
}
