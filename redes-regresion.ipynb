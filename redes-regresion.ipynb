{
 "cells": [
  {
   "cell_type": "code",
   "execution_count": null,
   "metadata": {},
   "outputs": [],
   "source": [
    "import pandas as pd\n",
    "import seaborn as sns\n",
    "import matplotlib.pyplot as plt\n",
    "import numpy as np\n",
    "import warnings\n",
    "warnings.filterwarnings('always')\n",
    "from sklearn.model_selection import train_test_split\n",
    "import shapely.speedups\n",
    "from sklearn.preprocessing import StandardScaler\n",
    "from IPython.display import Image\n",
    "import re\n",
    "from itertools import combinations\n",
    "import random\n",
    "import joblib"
   ]
  },
  {
   "cell_type": "code",
   "execution_count": null,
   "metadata": {},
   "outputs": [],
   "source": [
    "import numpy as np\n",
    "import pandas as pd\n",
    "import matplotlib.pyplot as plt\n",
    "\n",
    "from sklearn.model_selection import train_test_split\n",
    "from sklearn.metrics import mean_absolute_error, mean_squared_error\n",
    "from sklearn.preprocessing import StandardScaler\n",
    "\n",
    "import tensorflow as tf\n",
    "from tensorflow import keras\n",
    "import keras_tuner as kt\n",
    "#\n",
    "np.random.seed(1)\n",
    "tf.random.set_seed(1)"
   ]
  },
  {
   "cell_type": "code",
   "execution_count": null,
   "metadata": {},
   "outputs": [],
   "source": [
    "def plot_regression(modelo,x,y,title=\"\",xlabel=\"x\",ylabel=\"y\"):\n",
    "    plt.figure()\n",
    "    \n",
    "    plt.plot(x,y,\"o\",label=\"Valores verdaderos\")\n",
    "    plt.plot(x,modelo.predict(x),\"x\",label=\"Valores estimados\")\n",
    "    \n",
    "    plt.xlabel(xlabel)\n",
    "    plt.ylabel(ylabel)\n",
    "    plt.title(title)\n",
    "    plt.legend()\n",
    "    plt.show()"
   ]
  },
  {
   "cell_type": "code",
   "execution_count": null,
   "metadata": {},
   "outputs": [],
   "source": [
    "viviendas_train=pd.read_csv('./TP1/Datasets/viviendas_caba_train.csv').copy()\n",
    "viviendas_test=pd.read_csv('./TP1/Datasets/viviendas_caba_test.csv').copy()\n",
    "viviendas = pd.concat([viviendas_train, viviendas_test])"
   ]
  },
  {
   "cell_type": "code",
   "execution_count": null,
   "metadata": {},
   "outputs": [],
   "source": [
    "viviendas = pd.get_dummies(viviendas, columns = [\"property_type\"])\n",
    "viviendas = pd.get_dummies(viviendas, columns = [\"barrio\"])"
   ]
  },
  {
   "cell_type": "code",
   "execution_count": null,
   "metadata": {},
   "outputs": [],
   "source": [
    "viviendas_train, viviendas_test = train_test_split(viviendas, test_size=0.2, random_state=2)"
   ]
  },
  {
   "cell_type": "markdown",
   "metadata": {},
   "source": [
    "definimos las columnas que utilizaremos para entrenar las redes"
   ]
  },
  {
   "cell_type": "code",
   "execution_count": null,
   "metadata": {},
   "outputs": [],
   "source": [
    "columnas_predictoras=viviendas_train.columns.to_list()\n",
    "for variable in ['property_price', 'start_date', 'end_date', 'property_title', 'geometry']:\n",
    "    columnas_predictoras.remove(variable)\n",
    "columnas_predictoras"
   ]
  },
  {
   "cell_type": "markdown",
   "metadata": {},
   "source": [
    "## RANDOMIZADOR\n"
   ]
  },
  {
   "cell_type": "markdown",
   "metadata": {},
   "source": [
    "Para ontrenar las redes neuronales utilizaresmos un random_search para optimizar los hiperparametros"
   ]
  },
  {
   "cell_type": "code",
   "execution_count": null,
   "metadata": {},
   "outputs": [],
   "source": [
    "a = ['property_price', 'start_date', 'end_date', 'property_title', 'geometry']\n",
    "b = viviendas_train.loc[:,a]\n",
    "b"
   ]
  },
  {
   "cell_type": "code",
   "execution_count": null,
   "metadata": {},
   "outputs": [],
   "source": [
    "#al instanciar un ModeloRedes crea y entrena una red neuronal con los hiperparametros pasados\n",
    "class ModeloRedes:\n",
    "    def __init__(self, dataset_train, dataset_test, variables_predictoras, cantidad_de_primera_capa, funcion_activacion, optimizador, learning_rate, metrica, epoch, batch_size):\n",
    "        self.variables_predictoras = variables_predictoras\n",
    "        self.cantidad_primera_capa = cantidad_de_primera_capa\n",
    "        self.funcion_activacion = funcion_activacion\n",
    "        self.optimizador = optimizador\n",
    "        self.learning_rate = learning_rate\n",
    "        self.resultado = None\n",
    "        self.metrica = metrica\n",
    "        self.epoch = epoch\n",
    "        self.batch_size = batch_size\n",
    "        self.modelo = None\n",
    "\n",
    "        \n",
    "        self.x_test = dataset_test.loc[:,variables_predictoras]\n",
    "        self.y_test = dataset_test.loc[:,'property_price']\n",
    "        self.x_train = dataset_train.loc[:,variables_predictoras]\n",
    "        self.y_train = dataset_train.loc[:,'property_price']\n",
    "        self.x_test_original = None\n",
    "        self.x_train_original = None\n",
    "        self.precio_maximo = max(max(dataset_test['property_price']), max(dataset_train['property_price']))\n",
    "        self.escalar_datasets()\n",
    "        self.entrenar_modelo()\n",
    "    \n",
    "    def escalar_datasets(self):\n",
    "        sscaler=StandardScaler()\n",
    "        sscaler.fit(pd.DataFrame(self.x_train))\n",
    "        self.x_train_original = self.x_train\n",
    "        self.x_test_original = self.x_test\n",
    "        self.x_train=sscaler.transform(pd.DataFrame(self.x_train))\n",
    "        self.x_test=sscaler.transform(pd.DataFrame(self.x_test))\n",
    "            \n",
    "        self.y_train = self.y_train / self.precio_maximo\n",
    "        \n",
    "\n",
    "    def entrenar_modelo(self):\n",
    "    # Creo un modelo Red Neuronal\n",
    "        d_in= len(self.variables_predictoras)\n",
    "        d_out=1\n",
    "\n",
    "        capas = [\n",
    "            # input layer\n",
    "            keras.layers.Dense(d_in,input_shape=(d_in,), activation= self.funcion_activacion)\n",
    "        ]\n",
    "\n",
    "        #inserta capas que van decreciendo en cantidad de neuronas\n",
    "        for i in range(self.cantidad_primera_capa,2,-1):\n",
    "            capas.append(keras.layers.Dense(i, activation= self.funcion_activacion ))\n",
    "\n",
    "        capas.append(keras.layers.Dense(d_out, ))\n",
    "        self.modelo = keras.Sequential(capas)\n",
    "\n",
    "        self.modelo.compile(\n",
    "        optimizer= self.optimizador(self.learning_rate), \n",
    "        loss=self.metrica, \n",
    "        metrics=[self.metrica], \n",
    "        )\n",
    "\n",
    "        self.modelo.fit(self.x_train,self.y_train,epochs=self.epoch,batch_size=self.batch_size,verbose=False)\n",
    "    \n",
    "    def plotear(self):\n",
    "        plot_regression(self.modelo,self.x_test,self.y_test,title=f\"Modelo Final\",xlabel=\"Horsepower\",ylabel=\"MPG\")\n",
    "        \n",
    "    def testear_modelo(self):\n",
    "        y_pred=self.modelo.predict(self.x_test)\n",
    "        for i in y_pred:\n",
    "            i[0] = i[0] * self.precio_maximo\n",
    "        mse=mean_squared_error(self.y_test,y_pred)\n",
    "        self.resultado = mse ** (1/2)\n",
    "        return self.resultado\n",
    "    \n",
    "    def predecir(self, df):\n",
    "\n",
    "        df_para_predecir =  df.loc[:,self.variables_predictoras]\n",
    "        df_precios = df.loc[:,'property_price']\n",
    "        \n",
    "        sscaler=StandardScaler()\n",
    "        sscaler.fit(pd.DataFrame(df_para_predecir))\n",
    "        df_para_predecir=sscaler.transform(pd.DataFrame(df_para_predecir))\n",
    "\n",
    "        \n",
    "        y_pred=self.modelo.predict(df_para_predecir)\n",
    "        for i in y_pred:\n",
    "            i[0] = i[0] * self.precio_maximo\n",
    "\n",
    "        mse=mean_squared_error(df_precios,y_pred)\n",
    "        resultado = mse ** (1/2)\n",
    "        #plot_regression(self.modelo,df_para_predecir,df_precios,title=f\"Modelo Final\",xlabel=\"Horsepower\",ylabel=\"MPG\")\n",
    "        return y_pred , resultado\n",
    "    \n",
    "    def info(self):\n",
    "        print('\\n','\\n')\n",
    "        print('\\n',\n",
    "        self.variables_predictoras , '\\n',\n",
    "        self.cantidad_primera_capa ,'\\n',\n",
    "        self.funcion_activacion ,'\\n',\n",
    "        self.optimizador ,'\\n',\n",
    "        self.learning_rate ,'\\n',\n",
    "        self.metrica ,'\\n',\n",
    "        self.epoch ,'\\n',\n",
    "        self.batch_size ,'\\n')"
   ]
  },
  {
   "cell_type": "markdown",
   "metadata": {},
   "source": [
    "definimos los conjuntos de hiperparametros que queremos que pruebe"
   ]
  },
  {
   "cell_type": "code",
   "execution_count": null,
   "metadata": {},
   "outputs": [],
   "source": [
    "columnas_importantes =  ['latitud', 'longitud', 'property_surface_total', 'property_surface_covered']\n",
    "columnas_extras = []\n",
    "for e in columnas_predictoras:\n",
    "    if e not in columnas_importantes:\n",
    "        columnas_extras.append(e)       \n",
    "\n",
    "def agregar_columnas(posibles_variables_predictoras, columnas, cant_columnas):\n",
    "            i = 0\n",
    "            while (i < cant_columnas): \n",
    "                pos = random.randrange(i,len(columnas), 1)\n",
    "                posibles_variables_predictoras.append(columnas[pos])\n",
    "                columnas[i], columnas[pos] = columnas[pos], columnas[i]\n",
    "                i += 1\n",
    "\n",
    "posibles_cantidad_de_primera_capa = []\n",
    "for i in range(1,20):\n",
    "    posibles_cantidad_de_primera_capa.append(i)\n",
    "                                        #vimos que los modelos buenos utilizaban \"relu\" asique dejamos de utilizar el resto dentro de random search\n",
    "posibles_funcion_activacion = [\"relu\",\"tanh\", \"softmax\", \"sigmoid\"]\n",
    "posibles_metricas = ['mse', 'mae']\n",
    "\n",
    "posibles_learning_rate = [0.1, 0.01]"
   ]
  },
  {
   "cell_type": "code",
   "execution_count": null,
   "metadata": {},
   "outputs": [],
   "source": [
    "def funcion_optimizadoraNADAM(learnigRate):\n",
    "            return keras.optimizers.Nadam(learning_rate = learnigRate)\n",
    "\n",
    "def funcion_optimizadoraRMSPROP(learnigRate):\n",
    "            return keras.optimizers.RMSprop(learning_rate = learnigRate)\n",
    "\n",
    "def funcion_optimizadoraADAMAX(learnigRate):\n",
    "            return keras.optimizers.Adamax(learning_rate = learnigRate)\n",
    "\n",
    "def funcion_optimizadoraADADELTA(learnigRate):\n",
    "            return keras.optimizers.Adadelta(learning_rate = learnigRate)\n",
    "\n",
    "posibles_optimizador = [funcion_optimizadoraNADAM, funcion_optimizadoraRMSPROP, funcion_optimizadoraADAMAX, funcion_optimizadoraADADELTA]"
   ]
  },
  {
   "cell_type": "code",
   "execution_count": null,
   "metadata": {},
   "outputs": [],
   "source": [
    "def obtener_posibles_variables_predictoras():\n",
    "        posibles_variables_predictoras = []     \n",
    "        cant_columnas_importantes = random.randrange(1,len(columnas_importantes)+1, 1)\n",
    "        cant_columnas_extras = random.randrange(0,len(columnas_extras)+1, 1)\n",
    "\n",
    "        agregar_columnas(posibles_variables_predictoras, columnas_importantes, cant_columnas_importantes)\n",
    "        agregar_columnas(posibles_variables_predictoras, columnas_extras, cant_columnas_extras)\n",
    "        return posibles_variables_predictoras"
   ]
  },
  {
   "cell_type": "markdown",
   "metadata": {},
   "source": [
    "crea, entrena y luego predice un modelo con hiperparametros randomizados sobre datasets peque;os para reducir el tiempo de computo y obtener buenos hiperparametros"
   ]
  },
  {
   "cell_type": "code",
   "execution_count": null,
   "metadata": {},
   "outputs": [],
   "source": [
    "def random_validator(cantidad_modelos, posibles_cantidad_de_primera_capa, posibles_funcion_activacion, posibles_optimizador, \n",
    "    posibles_learning_rate, posibles_metricas, obtener_posibles_variables_predictoras):\n",
    "    \n",
    "    resultados = []\n",
    "    for i in range(cantidad_modelos):\n",
    "\n",
    "        variables_predictoras = obtener_posibles_variables_predictoras()\n",
    "        cantidad_de_primera_capa = random.choice(posibles_cantidad_de_primera_capa)\n",
    "        funcion_activacion = random.choice(posibles_funcion_activacion)\n",
    "        optimizador = random.choice(posibles_optimizador)\n",
    "        learning_rate = random.choice(posibles_learning_rate)\n",
    "        metrica = random.choice(posibles_metricas)\n",
    "        epoch = random.randrange(100, 300, 10)\n",
    "        batch_size = random.randrange(10, 1000, 1)\n",
    "        df_reducido = viviendas_train[:3000]#random.randrange(3000, 5000, 1)\n",
    "        df_train, df_test = train_test_split(df_reducido.loc[:],test_size=0.2)\n",
    "\n",
    "        print(variables_predictoras)\n",
    "\n",
    "        print('\\n','\\n')\n",
    "        print(i , '\\n',\n",
    "        variables_predictoras , '\\n',\n",
    "        cantidad_de_primera_capa ,'\\n',\n",
    "        funcion_activacion ,'\\n',\n",
    "        optimizador ,'\\n',\n",
    "        learning_rate ,'\\n',\n",
    "        metrica ,'\\n',\n",
    "        epoch ,'\\n',\n",
    "        batch_size ,'\\n',)\n",
    "\n",
    "        modelo = ModeloRedes(df_train, df_test, variables_predictoras, cantidad_de_primera_capa, funcion_activacion, optimizador, learning_rate, metrica, epoch, batch_size)\n",
    "        resultados.append([modelo, modelo.testear_modelo()])\n",
    "        print(modelo.testear_modelo())\n",
    "    return resultados"
   ]
  },
  {
   "cell_type": "code",
   "execution_count": null,
   "metadata": {},
   "outputs": [],
   "source": [
    "#Hace 50 modelos con hiperparametros random random\n",
    "def func():\n",
    "    resultados = random_validator(50, posibles_cantidad_de_primera_capa, posibles_funcion_activacion, posibles_optimizador, posibles_learning_rate, posibles_metricas,obtener_posibles_variables_predictoras)\n",
    "\n",
    "    return resultados"
   ]
  },
  {
   "cell_type": "code",
   "execution_count": null,
   "metadata": {},
   "outputs": [],
   "source": [
    "#dado un conjunto de modelos se queda con los modelos cuyo rmse sea menor a 130000\n",
    "def obtener_mejores(resultados):\n",
    "    mejores = []\n",
    "    for i in resultados:\n",
    "        if (i[1] < 130000):\n",
    "            mejores.append(i)\n",
    "\n",
    "    return mejores"
   ]
  },
  {
   "cell_type": "markdown",
   "metadata": {},
   "source": [
    "Entrenamos 150 modelos"
   ]
  },
  {
   "cell_type": "code",
   "execution_count": null,
   "metadata": {},
   "outputs": [],
   "source": [
    "mejores = []"
   ]
  },
  {
   "cell_type": "code",
   "execution_count": null,
   "metadata": {},
   "outputs": [],
   "source": [
    "resultados = func()\n",
    "mejores.append(obtener_mejores(resultados))"
   ]
  },
  {
   "cell_type": "code",
   "execution_count": null,
   "metadata": {},
   "outputs": [],
   "source": [
    "\n",
    "resultados = func()\n",
    "mejores.append(obtener_mejores(resultados))"
   ]
  },
  {
   "cell_type": "code",
   "execution_count": null,
   "metadata": {},
   "outputs": [],
   "source": [
    "\n",
    "resultados = func()\n",
    "mejores.append(obtener_mejores(resultados))"
   ]
  },
  {
   "cell_type": "code",
   "execution_count": null,
   "metadata": {},
   "outputs": [],
   "source": [
    "\n",
    "resultados = func()\n",
    "mejores.append(obtener_mejores(resultados))"
   ]
  },
  {
   "cell_type": "code",
   "execution_count": null,
   "metadata": {},
   "outputs": [],
   "source": [
    "\n",
    "resultados = func()\n",
    "mejores.append(obtener_mejores(resultados))"
   ]
  },
  {
   "cell_type": "code",
   "execution_count": null,
   "metadata": {},
   "outputs": [],
   "source": [
    "\n",
    "resultados = func()\n",
    "mejores.append(obtener_mejores(resultados))"
   ]
  },
  {
   "cell_type": "code",
   "execution_count": null,
   "metadata": {},
   "outputs": [],
   "source": [
    "\n",
    "resultados = func()\n",
    "mejores.append(obtener_mejores(resultados))"
   ]
  },
  {
   "cell_type": "code",
   "execution_count": null,
   "metadata": {},
   "outputs": [],
   "source": [
    "\n",
    "resultados = func()\n",
    "mejores.append(obtener_mejores(resultados))"
   ]
  },
  {
   "cell_type": "code",
   "execution_count": null,
   "metadata": {},
   "outputs": [],
   "source": [
    "\n",
    "resultados = func()\n",
    "mejores.append(obtener_mejores(resultados))"
   ]
  },
  {
   "cell_type": "code",
   "execution_count": null,
   "metadata": {},
   "outputs": [],
   "source": [
    "resultados = func()\n",
    "mejores.append(obtener_mejores(resultados))"
   ]
  },
  {
   "cell_type": "code",
   "execution_count": null,
   "metadata": {},
   "outputs": [],
   "source": [
    "for i in mejores:\n",
    "    for j in i:\n",
    "        print(j)\n",
    "        j[0].info()"
   ]
  },
  {
   "cell_type": "markdown",
   "metadata": {},
   "source": [
    "Entrenamos modelos con los hiperparametros obtenidos en los datasets mas chicos sobre todo el dataset"
   ]
  },
  {
   "cell_type": "code",
   "execution_count": null,
   "metadata": {},
   "outputs": [],
   "source": [
    "#reentrena un modelo con los mismo hiperparametros a ver si con una semilla mejor mejora la metrica\n",
    "def reentrenar_tot(modelo):\n",
    "    #modelo.info()\n",
    "    mejor_modelo = ModeloRedes(\n",
    "        viviendas_train, \n",
    "        viviendas_test, \n",
    "        modelo.variables_predictoras, \n",
    "        modelo.cantidad_primera_capa, \n",
    "        modelo.funcion_activacion, \n",
    "        modelo.optimizador, \n",
    "        modelo.learning_rate, \n",
    "        modelo.metrica, \n",
    "        modelo.epoch, \n",
    "        modelo.batch_size)\n",
    "        \n",
    "    mejor_modelo.testear_modelo()\n",
    "    mejor_resultado = mejor_modelo.resultado \n",
    "   \n",
    "    if mejor_resultado > 150000:\n",
    "        return None\n",
    "\n",
    "    for i in range(2):\n",
    "        print('valor a vencer', mejor_resultado)\n",
    "        modelo_aux = ModeloRedes(\n",
    "            viviendas_train, \n",
    "            viviendas_test, \n",
    "            modelo.variables_predictoras, \n",
    "            modelo.cantidad_primera_capa, \n",
    "            modelo.funcion_activacion, \n",
    "            modelo.optimizador, \n",
    "            modelo.learning_rate, \n",
    "            modelo.metrica, \n",
    "            modelo.epoch, \n",
    "            modelo.batch_size)\n",
    "\n",
    "        resultado_aux = modelo_aux.testear_modelo()\n",
    "        print('reentrenando intento', i+1)\n",
    "        resultado_aux = modelo_aux.testear_modelo()\n",
    "        print(resultado_aux)\n",
    "        mejor_modelo.info()\n",
    "        \n",
    "        if resultado_aux < mejor_resultado:\n",
    "            mejor_resultado = resultado_aux\n",
    "            mejor_modelo = modelo_aux \n",
    "    return [mejor_modelo, mejor_resultado]"
   ]
  },
  {
   "cell_type": "code",
   "execution_count": null,
   "metadata": {},
   "outputs": [],
   "source": [
    "tots = []"
   ]
  },
  {
   "cell_type": "code",
   "execution_count": null,
   "metadata": {},
   "outputs": [],
   "source": [
    "for i in mejores:\n",
    "    for j in i:\n",
    "        tots.append(reentrenar_tot(j[0]))"
   ]
  },
  {
   "cell_type": "code",
   "execution_count": null,
   "metadata": {},
   "outputs": [],
   "source": [
    "print(tots)"
   ]
  },
  {
   "cell_type": "code",
   "execution_count": null,
   "metadata": {},
   "outputs": [],
   "source": [
    "mejor_modelo = tots[0]\n",
    "for i in tots:\n",
    "    if (i != None) and (i[1] < mejor_modelo[1]):\n",
    "        mejor_modelo = i\n",
    "\n"
   ]
  },
  {
   "cell_type": "code",
   "execution_count": null,
   "metadata": {},
   "outputs": [],
   "source": [
    "mejor_modelo[0].testear_modelo()"
   ]
  },
  {
   "cell_type": "code",
   "execution_count": null,
   "metadata": {},
   "outputs": [],
   "source": [
    "joblib.dump(mejor_modelo[0], './Models/mejor_modelo_ultima_tanda') "
   ]
  },
  {
   "cell_type": "code",
   "execution_count": null,
   "metadata": {},
   "outputs": [],
   "source": [
    "#mejor_modelo = joblib.load('./Models/mejor_modelo_ultima_tanda')"
   ]
  },
  {
   "cell_type": "markdown",
   "metadata": {},
   "source": [
    "El mejor modelo obtenido hasta ahora con estas tecnicas es:"
   ]
  },
  {
   "cell_type": "code",
   "execution_count": null,
   "metadata": {},
   "outputs": [],
   "source": [
    "mejor_modelo = joblib.load('./Models/modelo_regresion_103k')"
   ]
  },
  {
   "cell_type": "code",
   "execution_count": null,
   "metadata": {},
   "outputs": [],
   "source": [
    "#ModeloRedes(df_train, df_test, variables_predictoras, cantidad_de_primera_capa, funcion_activacion, optimizador, learning_rate, metrica, epoch, batch_size)\n",
    "\n",
    "no_te_queremos_perder_hermoso = ModeloRedes(\n",
    "    viviendas_train, \n",
    "    viviendas_test, \n",
    "    mejor_modelo.variables_predictoras, \n",
    "    mejor_modelo.cantidad_primera_capa, \n",
    "    mejor_modelo.funcion_activacion, \n",
    "    mejor_modelo.optimizador, \n",
    "    mejor_modelo.learning_rate, \n",
    "    mejor_modelo.metrica, \n",
    "    mejor_modelo.epoch, \n",
    "    mejor_modelo.batch_size)"
   ]
  },
  {
   "cell_type": "code",
   "execution_count": null,
   "metadata": {},
   "outputs": [],
   "source": [
    "no_te_queremos_perder_hermoso.testear_modelo()"
   ]
  },
  {
   "cell_type": "markdown",
   "metadata": {},
   "source": [
    "hasat aca corre"
   ]
  },
  {
   "cell_type": "code",
   "execution_count": null,
   "metadata": {},
   "outputs": [],
   "source": [
    "mejor_modelo.plotear()"
   ]
  },
  {
   "cell_type": "code",
   "execution_count": null,
   "metadata": {},
   "outputs": [],
   "source": [
    "# Performance\n",
    "performance_test = pd.DataFrame({'Valor Real': y_test_knn,\n",
    "                            'Prediccion': y_pred_test_knn.round(),\n",
    "                            'Error': y_test_knn - y_pred_test_knn.round()})\n",
    "# View\n",
    "\n",
    "performance_test.head()"
   ]
  },
  {
   "cell_type": "code",
   "execution_count": null,
   "metadata": {},
   "outputs": [],
   "source": [
    "reentrenado = ModeloRedes(viviendas, \n",
    "    mejor_modelo.variables_predictoras, \n",
    "    mejor_modelo.cantidad_primera_capa, \n",
    "    mejor_modelo.funcion_activacion, \n",
    "    mejor_modelo.optimizador, \n",
    "    mejor_modelo.learning_rate, \n",
    "    mejor_modelo.metrica, \n",
    "    mejor_modelo.epoch, \n",
    "    mejor_modelo.batch_size, \n",
    "    viviendas.size)"
   ]
  },
  {
   "cell_type": "code",
   "execution_count": null,
   "metadata": {},
   "outputs": [],
   "source": [
    "mejor_modelo.x_train.shape"
   ]
  },
  {
   "cell_type": "code",
   "execution_count": null,
   "metadata": {},
   "outputs": [],
   "source": [
    "mejor_modelo.y_test"
   ]
  },
  {
   "cell_type": "code",
   "execution_count": null,
   "metadata": {},
   "outputs": [],
   "source": [
    "datos_test = pd.DataFrame(mejor_modelo.x_test)\n",
    "b = pd.DataFrame(mejor_modelo.y_test)\n",
    "datos_test.join(b)"
   ]
  },
  {
   "cell_type": "code",
   "execution_count": null,
   "metadata": {},
   "outputs": [],
   "source": [
    "mejor_modelo.predecir(datos_test)"
   ]
  },
  {
   "cell_type": "code",
   "execution_count": null,
   "metadata": {},
   "outputs": [],
   "source": [
    "test = pd.concat(mejor_modelo.x_test, mejor_modelo.x_train)\n",
    "mejor_modelo.predecir(mejor_modelo.x_test)"
   ]
  },
  {
   "cell_type": "code",
   "execution_count": null,
   "metadata": {},
   "outputs": [],
   "source": [
    "mejor_modelo = joblib.load('./Models/modelo_regresion_103k')\n",
    "        \n",
    "y_pred=mejor_modelo.modelo.predict(mejor_modelo.x_train)\n",
    "\n",
    "aux = []\n",
    "for i in range(len(y_pred)):\n",
    "     aux.append(y_pred[i][0])  \n",
    "\"\"\"\n",
    "y_pred = pd.Series(aux)\"\"\"\n",
    "y_pred = aux\n",
    "\n",
    "performance_train = pd.DataFrame({'Valor Real': mejor_modelo.y_train,\n",
    "                            'Prediccion': y_pred,\n",
    "                            'Error': mejor_modelo.y_train - y_pred\n",
    "                             })\n",
    "\n",
    "performance_train.head()\n",
    "performance_train.plot.scatter(x=\"Valor Real\", y=\"Prediccion\", s=10, c='tab:blue').set(title=\"Valor Real vs Predicción\",xlabel='Valor Real',ylabel='Prediccion')"
   ]
  },
  {
   "cell_type": "code",
   "execution_count": null,
   "metadata": {},
   "outputs": [],
   "source": [
    "performance_train.head()"
   ]
  },
  {
   "cell_type": "code",
   "execution_count": null,
   "metadata": {},
   "outputs": [],
   "source": [
    "print('Metrica rmse', mejor_modelo.testear_modelo())\n",
    "\n",
    "mejor_modelo.info()"
   ]
  },
  {
   "cell_type": "code",
   "execution_count": null,
   "metadata": {},
   "outputs": [],
   "source": [
    "#joblib.dump(model_tot, './Models/red_regresion_108k_tot') "
   ]
  }
 ],
 "metadata": {
  "kernelspec": {
   "display_name": "Python 3.8.10 64-bit",
   "language": "python",
   "name": "python3"
  },
  "language_info": {
   "codemirror_mode": {
    "name": "ipython",
    "version": 3
   },
   "file_extension": ".py",
   "mimetype": "text/x-python",
   "name": "python",
   "nbconvert_exporter": "python",
   "pygments_lexer": "ipython3",
   "version": "3.8.10"
  },
  "orig_nbformat": 4,
  "vscode": {
   "interpreter": {
    "hash": "916dbcbb3f70747c44a77c7bcd40155683ae19c65e1c03b4aa3499c5328201f1"
   }
  }
 },
 "nbformat": 4,
 "nbformat_minor": 2
}
