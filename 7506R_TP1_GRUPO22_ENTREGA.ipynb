{
 "cells": [
  {
   "cell_type": "markdown",
   "metadata": {},
   "source": [
    "# <center>Organizaci&oacute;n de Datos</center>\n",
    "#### <center>C&aacute;tedra Ing. Rodriguez, Juan Manuel </center>\n",
    "\n",
    "## <center>Trabajo Práctico 1 : Propiedades en Venta</center>\n",
    "### <center> Grupo 22 </center>\n",
    "### <center> Integrantes: </center>\n",
    "##### <center> Federico Martin Forte,  Francisco Sobral,  Ian Klaus von der Heyde,  Juan Pablo Aschieri,  Joaquin Rivero  </center>\n",
    "\n",
    "\n",
    "\n",
    "\n"
   ]
  },
  {
   "cell_type": "markdown",
   "metadata": {},
   "source": [
    "## Carga de Datos y librerías"
   ]
  },
  {
   "cell_type": "code",
   "execution_count": 104,
   "metadata": {},
   "outputs": [],
   "source": [
    "import pandas as pd\n",
    "import numpy as np\n",
    "\n",
    "import sklearn as sk\n",
    "\n",
    "import seaborn as sns\n",
    "import matplotlib.pyplot as plt\n",
    "\n",
    "import warnings\n",
    "warnings.filterwarnings('always')"
   ]
  },
  {
   "cell_type": "code",
   "execution_count": 214,
   "metadata": {},
   "outputs": [],
   "source": [
    "dataset=pd.read_csv('./Datasets/properati_argentina_2021.csv')"
   ]
  },
  {
   "cell_type": "markdown",
   "metadata": {},
   "source": [
    "## Análisis Exploratorio y Preprocesamiento de Datos"
   ]
  },
  {
   "cell_type": "markdown",
   "metadata": {},
   "source": [
    "Exploración Inicial :"
   ]
  },
  {
   "cell_type": "code",
   "execution_count": 215,
   "metadata": {},
   "outputs": [
    {
     "name": "stdout",
     "output_type": "stream",
     "text": [
      "<class 'pandas.core.frame.DataFrame'>\n",
      "RangeIndex: 460154 entries, 0 to 460153\n",
      "Data columns (total 20 columns):\n",
      " #   Column                    Non-Null Count   Dtype  \n",
      "---  ------                    --------------   -----  \n",
      " 0   id                        460154 non-null  object \n",
      " 1   start_date                460154 non-null  object \n",
      " 2   end_date                  460154 non-null  object \n",
      " 3   created_on                460154 non-null  object \n",
      " 4   latitud                   419740 non-null  float64\n",
      " 5   longitud                  419740 non-null  float64\n",
      " 6   place_l2                  460154 non-null  object \n",
      " 7   place_l3                  437665 non-null  object \n",
      " 8   place_l4                  139020 non-null  object \n",
      " 9   place_l5                  2430 non-null    object \n",
      " 10  place_l6                  0 non-null       float64\n",
      " 11  operation                 460154 non-null  object \n",
      " 12  property_type             460154 non-null  object \n",
      " 13  property_rooms            368498 non-null  float64\n",
      " 14  property_bedrooms         344113 non-null  float64\n",
      " 15  property_surface_total    397813 non-null  float64\n",
      " 16  property_surface_covered  427916 non-null  float64\n",
      " 17  property_price            442153 non-null  float64\n",
      " 18  property_currency         441590 non-null  object \n",
      " 19  property_title            460154 non-null  object \n",
      "dtypes: float64(8), object(12)\n",
      "memory usage: 70.2+ MB\n"
     ]
    }
   ],
   "source": [
    "dataset.info()"
   ]
  },
  {
   "cell_type": "code",
   "execution_count": 216,
   "metadata": {},
   "outputs": [
    {
     "name": "stdout",
     "output_type": "stream",
     "text": [
      "(460154, 20)\n",
      "id                               0\n",
      "start_date                       0\n",
      "end_date                         0\n",
      "created_on                       0\n",
      "latitud                      40414\n",
      "longitud                     40414\n",
      "place_l2                         0\n",
      "place_l3                     22489\n",
      "place_l4                    321134\n",
      "place_l5                    457724\n",
      "place_l6                    460154\n",
      "operation                        0\n",
      "property_type                    0\n",
      "property_rooms               91656\n",
      "property_bedrooms           116041\n",
      "property_surface_total       62341\n",
      "property_surface_covered     32238\n",
      "property_price               18001\n",
      "property_currency            18564\n",
      "property_title                   0\n",
      "dtype: int64\n"
     ]
    }
   ],
   "source": [
    "print(dataset.shape)\n",
    "print(dataset.isna().sum())"
   ]
  },
  {
   "cell_type": "markdown",
   "metadata": {},
   "source": [
    "Eliminamos columnas no utiles"
   ]
  },
  {
   "cell_type": "code",
   "execution_count": 217,
   "metadata": {},
   "outputs": [],
   "source": [
    "dataset.drop(['id' , 'place_l6'], axis='columns', inplace=True)\n"
   ]
  },
  {
   "cell_type": "code",
   "execution_count": 218,
   "metadata": {},
   "outputs": [
    {
     "name": "stderr",
     "output_type": "stream",
     "text": [
      "C:\\Users\\iankl\\AppData\\Local\\Temp\\ipykernel_6384\\2200308352.py:8: SettingWithCopyWarning: \n",
      "A value is trying to be set on a copy of a slice from a DataFrame\n",
      "\n",
      "See the caveats in the documentation: https://pandas.pydata.org/pandas-docs/stable/user_guide/indexing.html#returning-a-view-versus-a-copy\n",
      "  viviendas_en_venta_caba_usd.drop(['start_date' , 'end_date', 'created_on', 'place_l2', 'operation', 'property_currency', 'place_l5'], axis='columns', inplace=True) #SACAMOS TODO A LA MIERDA incluyendo place_l5 por no tenber datos\n"
     ]
    },
    {
     "data": {
      "text/html": [
       "<div>\n",
       "<style scoped>\n",
       "    .dataframe tbody tr th:only-of-type {\n",
       "        vertical-align: middle;\n",
       "    }\n",
       "\n",
       "    .dataframe tbody tr th {\n",
       "        vertical-align: top;\n",
       "    }\n",
       "\n",
       "    .dataframe thead th {\n",
       "        text-align: right;\n",
       "    }\n",
       "</style>\n",
       "<table border=\"1\" class=\"dataframe\">\n",
       "  <thead>\n",
       "    <tr style=\"text-align: right;\">\n",
       "      <th></th>\n",
       "      <th>latitud</th>\n",
       "      <th>longitud</th>\n",
       "      <th>place_l3</th>\n",
       "      <th>place_l4</th>\n",
       "      <th>property_type</th>\n",
       "      <th>property_rooms</th>\n",
       "      <th>property_bedrooms</th>\n",
       "      <th>property_surface_total</th>\n",
       "      <th>property_surface_covered</th>\n",
       "      <th>property_price</th>\n",
       "      <th>property_title</th>\n",
       "    </tr>\n",
       "  </thead>\n",
       "  <tbody>\n",
       "    <tr>\n",
       "      <th>25</th>\n",
       "      <td>NaN</td>\n",
       "      <td>NaN</td>\n",
       "      <td>NaN</td>\n",
       "      <td>NaN</td>\n",
       "      <td>Casa</td>\n",
       "      <td>4.0</td>\n",
       "      <td>3.0</td>\n",
       "      <td>171.0</td>\n",
       "      <td>133.0</td>\n",
       "      <td>210000.0</td>\n",
       "      <td>VENTA CASA LLAVE EN MANO - COSTA ESMERALDA</td>\n",
       "    </tr>\n",
       "    <tr>\n",
       "      <th>42</th>\n",
       "      <td>-34.637319</td>\n",
       "      <td>-58.361124</td>\n",
       "      <td>Boca</td>\n",
       "      <td>NaN</td>\n",
       "      <td>Departamento</td>\n",
       "      <td>3.0</td>\n",
       "      <td>2.0</td>\n",
       "      <td>58.0</td>\n",
       "      <td>55.0</td>\n",
       "      <td>82900.0</td>\n",
       "      <td>VENTA TRES AMBIENTES LA BOCA PISO ALTO</td>\n",
       "    </tr>\n",
       "    <tr>\n",
       "      <th>43</th>\n",
       "      <td>-34.628647</td>\n",
       "      <td>-58.361871</td>\n",
       "      <td>Boca</td>\n",
       "      <td>NaN</td>\n",
       "      <td>Departamento</td>\n",
       "      <td>4.0</td>\n",
       "      <td>3.0</td>\n",
       "      <td>70.0</td>\n",
       "      <td>70.0</td>\n",
       "      <td>99000.0</td>\n",
       "      <td>Departamento - 4 Ambientes - Catalinas Sur</td>\n",
       "    </tr>\n",
       "    <tr>\n",
       "      <th>49</th>\n",
       "      <td>-34.610027</td>\n",
       "      <td>-58.401934</td>\n",
       "      <td>Once</td>\n",
       "      <td>NaN</td>\n",
       "      <td>Departamento</td>\n",
       "      <td>4.0</td>\n",
       "      <td>2.0</td>\n",
       "      <td>NaN</td>\n",
       "      <td>104.0</td>\n",
       "      <td>146000.0</td>\n",
       "      <td>Venta departamento 4 ambientes Once</td>\n",
       "    </tr>\n",
       "    <tr>\n",
       "      <th>51</th>\n",
       "      <td>-34.631621</td>\n",
       "      <td>-58.416825</td>\n",
       "      <td>Boedo</td>\n",
       "      <td>NaN</td>\n",
       "      <td>PH</td>\n",
       "      <td>4.0</td>\n",
       "      <td>2.0</td>\n",
       "      <td>NaN</td>\n",
       "      <td>73.0</td>\n",
       "      <td>250000.0</td>\n",
       "      <td>PH - Boedo</td>\n",
       "    </tr>\n",
       "  </tbody>\n",
       "</table>\n",
       "</div>"
      ],
      "text/plain": [
       "      latitud   longitud place_l3 place_l4 property_type  property_rooms  \\\n",
       "25        NaN        NaN      NaN      NaN          Casa             4.0   \n",
       "42 -34.637319 -58.361124     Boca      NaN  Departamento             3.0   \n",
       "43 -34.628647 -58.361871     Boca      NaN  Departamento             4.0   \n",
       "49 -34.610027 -58.401934     Once      NaN  Departamento             4.0   \n",
       "51 -34.631621 -58.416825    Boedo      NaN            PH             4.0   \n",
       "\n",
       "    property_bedrooms  property_surface_total  property_surface_covered  \\\n",
       "25                3.0                   171.0                     133.0   \n",
       "42                2.0                    58.0                      55.0   \n",
       "43                3.0                    70.0                      70.0   \n",
       "49                2.0                     NaN                     104.0   \n",
       "51                2.0                     NaN                      73.0   \n",
       "\n",
       "    property_price                               property_title  \n",
       "25        210000.0  VENTA CASA LLAVE EN MANO - COSTA ESMERALDA   \n",
       "42         82900.0       VENTA TRES AMBIENTES LA BOCA PISO ALTO  \n",
       "43         99000.0   Departamento - 4 Ambientes - Catalinas Sur  \n",
       "49        146000.0          Venta departamento 4 ambientes Once  \n",
       "51        250000.0                                   PH - Boedo  "
      ]
     },
     "execution_count": 218,
     "metadata": {},
     "output_type": "execute_result"
    }
   ],
   "source": [
    "viviendas = dataset[dataset.property_type.isin(['Casa', 'PH', 'Departamento'])]  #deberiamos dejar la casa de campo?\n",
    "viviendas_caba= viviendas[viviendas.place_l2 == 'Capital Federal']\n",
    "viviendas_en_venta_caba = viviendas_caba[viviendas_caba.operation == 'Venta']\n",
    "viviendas_en_venta_caba_usd = viviendas_en_venta_caba[viviendas_en_venta_caba.property_currency == 'USD']\n",
    "\n",
    "\n",
    "\n",
    "viviendas_en_venta_caba_usd.drop(['start_date' , 'end_date', 'created_on', 'place_l2', 'operation', 'property_currency', 'place_l5'], axis='columns', inplace=True) #SACAMOS TODO A LA MIERDA incluyendo place_l5 por no tenber datos\n",
    "viviendas_en_venta_caba_usd.head()"
   ]
  },
  {
   "cell_type": "markdown",
   "metadata": {},
   "source": [
    "Seleccionamos solo las viviendas (Casa, PH y departamento) que se encuentren en venta en dolares en Capital Federal"
   ]
  },
  {
   "cell_type": "markdown",
   "metadata": {},
   "source": [
    "volvemos a analizar datos faltantes sobre el nuevo dataset"
   ]
  },
  {
   "cell_type": "code",
   "execution_count": 219,
   "metadata": {},
   "outputs": [
    {
     "data": {
      "text/plain": [
       "latitud                      3730\n",
       "longitud                     3730\n",
       "place_l3                      417\n",
       "place_l4                    90606\n",
       "property_type                   0\n",
       "property_rooms               1044\n",
       "property_bedrooms           10987\n",
       "property_surface_total       4844\n",
       "property_surface_covered     3354\n",
       "property_price                  0\n",
       "property_title                  0\n",
       "dtype: int64"
      ]
     },
     "execution_count": 219,
     "metadata": {},
     "output_type": "execute_result"
    }
   ],
   "source": [
    "viviendas_en_venta_caba_usd.isna().sum()\n"
   ]
  },
  {
   "cell_type": "markdown",
   "metadata": {},
   "source": [
    "Eliminamos todas las filas con latitudes y longitudes fuera de CABA (asumimos que las longitudes y latitudes no tienen error)"
   ]
  },
  {
   "cell_type": "code",
   "execution_count": 220,
   "metadata": {},
   "outputs": [
    {
     "name": "stdout",
     "output_type": "stream",
     "text": [
      "(94249, 11)\n",
      "(94054, 11)\n",
      "(93259, 11)\n"
     ]
    },
    {
     "name": "stderr",
     "output_type": "stream",
     "text": [
      "C:\\Users\\iankl\\AppData\\Local\\Temp\\ipykernel_6384\\534623730.py:11: SettingWithCopyWarning: \n",
      "A value is trying to be set on a copy of a slice from a DataFrame\n",
      "\n",
      "See the caveats in the documentation: https://pandas.pydata.org/pandas-docs/stable/user_guide/indexing.html#returning-a-view-versus-a-copy\n",
      "  viviendas_en_venta_caba_usd.drop(filas_a_dropear_por_long.index, axis=0, inplace=True)\n",
      "C:\\Users\\iankl\\AppData\\Local\\Temp\\ipykernel_6384\\534623730.py:15: SettingWithCopyWarning: \n",
      "A value is trying to be set on a copy of a slice from a DataFrame\n",
      "\n",
      "See the caveats in the documentation: https://pandas.pydata.org/pandas-docs/stable/user_guide/indexing.html#returning-a-view-versus-a-copy\n",
      "  viviendas_en_venta_caba_usd.drop(filas_a_dropear_por_lat.index, axis=0, inplace=True)\n"
     ]
    }
   ],
   "source": [
    "#Verificar lat y long min/max (lo hicimos a ojo)\n",
    "#Ver que hacer en caso de que tenga barrio OK y lat o long mal\n",
    "lat_min = -34.661154  \n",
    "lat_max = -34.523859\n",
    "\n",
    "long_min = -58.538441   \n",
    "long_max = -58.306373\n",
    "print(viviendas_en_venta_caba_usd.shape)\n",
    "\n",
    "filas_a_dropear_por_long = viviendas_en_venta_caba_usd[(viviendas_en_venta_caba_usd.longitud < long_min) | (viviendas_en_venta_caba_usd.longitud > long_max)]\n",
    "viviendas_en_venta_caba_usd.drop(filas_a_dropear_por_long.index, axis=0, inplace=True)\n",
    "print(viviendas_en_venta_caba_usd.shape)\n",
    "\n",
    "filas_a_dropear_por_lat = viviendas_en_venta_caba_usd[(viviendas_en_venta_caba_usd.latitud < lat_min) | (viviendas_en_venta_caba_usd.latitud > lat_max)]\n",
    "viviendas_en_venta_caba_usd.drop(filas_a_dropear_por_lat.index, axis=0, inplace=True)\n",
    "print(viviendas_en_venta_caba_usd.shape)"
   ]
  },
  {
   "cell_type": "code",
   "execution_count": 231,
   "metadata": {},
   "outputs": [
    {
     "data": {
      "text/plain": [
       "latitud                      3730\n",
       "longitud                     3730\n",
       "place_l3                      222\n",
       "place_l4                    89616\n",
       "property_type                   0\n",
       "property_rooms                974\n",
       "property_bedrooms           10932\n",
       "property_surface_total       4754\n",
       "property_surface_covered     3330\n",
       "property_price                  0\n",
       "property_title                  0\n",
       "dtype: int64"
      ]
     },
     "execution_count": 231,
     "metadata": {},
     "output_type": "execute_result"
    }
   ],
   "source": [
    "viviendas_en_venta_caba_usd.isna().sum()"
   ]
  },
  {
   "cell_type": "code",
   "execution_count": 222,
   "metadata": {},
   "outputs": [
    {
     "data": {
      "image/png": "[encoded data removed]",
      "text/plain": [
       "<Figure size 640x480 with 1 Axes>"
      ]
     },
     "metadata": {},
     "output_type": "display_data"
    }
   ],
   "source": [
    "grf=viviendas_en_venta_caba_usd['longitud'].plot.box(title=\"Boxplot variable longitud\",xlabel=\" \",ylabel=\"longitud\")"
   ]
  },
  {
   "cell_type": "code",
   "execution_count": 223,
   "metadata": {},
   "outputs": [
    {
     "data": {
      "text/html": [
       "<div>\n",
       "<style scoped>\n",
       "    .dataframe tbody tr th:only-of-type {\n",
       "        vertical-align: middle;\n",
       "    }\n",
       "\n",
       "    .dataframe tbody tr th {\n",
       "        vertical-align: top;\n",
       "    }\n",
       "\n",
       "    .dataframe thead th {\n",
       "        text-align: right;\n",
       "    }\n",
       "</style>\n",
       "<table border=\"1\" class=\"dataframe\">\n",
       "  <thead>\n",
       "    <tr style=\"text-align: right;\">\n",
       "      <th></th>\n",
       "      <th>latitud</th>\n",
       "      <th>longitud</th>\n",
       "      <th>property_rooms</th>\n",
       "      <th>property_bedrooms</th>\n",
       "      <th>property_surface_total</th>\n",
       "      <th>property_surface_covered</th>\n",
       "      <th>property_price</th>\n",
       "    </tr>\n",
       "  </thead>\n",
       "  <tbody>\n",
       "    <tr>\n",
       "      <th>mean</th>\n",
       "      <td>-34.595580</td>\n",
       "      <td>-58.438385</td>\n",
       "      <td>2.81633</td>\n",
       "      <td>2.010155</td>\n",
       "      <td>107.673725</td>\n",
       "      <td>87.763358</td>\n",
       "      <td>227293.55808</td>\n",
       "    </tr>\n",
       "    <tr>\n",
       "      <th>25%</th>\n",
       "      <td>-34.615373</td>\n",
       "      <td>-58.465678</td>\n",
       "      <td>2.00000</td>\n",
       "      <td>1.000000</td>\n",
       "      <td>45.000000</td>\n",
       "      <td>40.000000</td>\n",
       "      <td>95000.00000</td>\n",
       "    </tr>\n",
       "    <tr>\n",
       "      <th>50%</th>\n",
       "      <td>-34.595586</td>\n",
       "      <td>-58.438507</td>\n",
       "      <td>3.00000</td>\n",
       "      <td>2.000000</td>\n",
       "      <td>65.000000</td>\n",
       "      <td>57.000000</td>\n",
       "      <td>144900.00000</td>\n",
       "    </tr>\n",
       "    <tr>\n",
       "      <th>75%</th>\n",
       "      <td>-34.577368</td>\n",
       "      <td>-58.408692</td>\n",
       "      <td>4.00000</td>\n",
       "      <td>3.000000</td>\n",
       "      <td>104.000000</td>\n",
       "      <td>88.000000</td>\n",
       "      <td>239000.00000</td>\n",
       "    </tr>\n",
       "    <tr>\n",
       "      <th>mode</th>\n",
       "      <td>-34.541250</td>\n",
       "      <td>-58.472966</td>\n",
       "      <td>2.00000</td>\n",
       "      <td>1.000000</td>\n",
       "      <td>50.000000</td>\n",
       "      <td>40.000000</td>\n",
       "      <td>110000.00000</td>\n",
       "    </tr>\n",
       "  </tbody>\n",
       "</table>\n",
       "</div>"
      ],
      "text/plain": [
       "        latitud   longitud  property_rooms  property_bedrooms  \\\n",
       "mean -34.595580 -58.438385         2.81633           2.010155   \n",
       "25%  -34.615373 -58.465678         2.00000           1.000000   \n",
       "50%  -34.595586 -58.438507         3.00000           2.000000   \n",
       "75%  -34.577368 -58.408692         4.00000           3.000000   \n",
       "mode -34.541250 -58.472966         2.00000           1.000000   \n",
       "\n",
       "      property_surface_total  property_surface_covered  property_price  \n",
       "mean              107.673725                 87.763358    227293.55808  \n",
       "25%                45.000000                 40.000000     95000.00000  \n",
       "50%                65.000000                 57.000000    144900.00000  \n",
       "75%               104.000000                 88.000000    239000.00000  \n",
       "mode               50.000000                 40.000000    110000.00000  "
      ]
     },
     "execution_count": 223,
     "metadata": {},
     "output_type": "execute_result"
    }
   ],
   "source": [
    "\n",
    "medidas_de_resumen = viviendas_en_venta_caba_usd.describe()\n",
    "medidas_de_resumen.drop(['count' , 'std', 'min', 'max'], axis=0, inplace=True)\n",
    "moda = viviendas_en_venta_caba_usd.mode()\n",
    "moda.index = ['mode']\n",
    "\n",
    "#aca moda tiene place_l3, property type y title (?) las saco provisionalmente. \n",
    "moda.drop(['place_l3', 'place_l4','property_type','property_title'], axis = 1, inplace = True) #Verificar valores !!!\n",
    "\n",
    "medidas_de_resumen = pd.concat([medidas_de_resumen, moda])\n",
    "medidas_de_resumen"
   ]
  },
  {
   "cell_type": "code",
   "execution_count": 224,
   "metadata": {},
   "outputs": [
    {
     "data": {
      "text/plain": [
       "Palermo                 14306\n",
       "Belgrano                 8898\n",
       "Caballito                7168\n",
       "Recoleta                 6281\n",
       "Villa Urquiza            4673\n",
       "Almagro                  4081\n",
       "Nuñez                    3546\n",
       "Villa Crespo             3189\n",
       "Flores                   3107\n",
       "Barrio Norte             2975\n",
       "Balvanera                2553\n",
       "Colegiales               1951\n",
       "Villa Devoto             1921\n",
       "Villa del Parque         1829\n",
       "Saavedra                 1829\n",
       "Puerto Madero            1493\n",
       "San Telmo                1380\n",
       "San Cristobal            1300\n",
       "San Nicolás              1295\n",
       "Retiro                   1250\n",
       "Barracas                 1246\n",
       "Boedo                    1237\n",
       "Floresta                 1195\n",
       "Monserrat                1115\n",
       "Parque Chacabuco         1073\n",
       "Villa Pueyrredón         1011\n",
       "Coghlan                   984\n",
       "Villa Luro                727\n",
       "Chacarita                 697\n",
       "Liniers                   666\n",
       "Villa Ortuzar             662\n",
       "Parque Patricios          639\n",
       "Mataderos                 579\n",
       "Paternal                  566\n",
       "Congreso                  535\n",
       "Monte Castro              499\n",
       "Constitución              453\n",
       "Villa Santa Rita          438\n",
       "Villa General Mitre       435\n",
       "Once                      407\n",
       "Parque Avellaneda         375\n",
       "Parque Chas               373\n",
       "Boca                      365\n",
       "Versalles                 315\n",
       "Velez Sarsfield           242\n",
       "Agronomía                 235\n",
       "Abasto                    231\n",
       "Pompeya                   216\n",
       "Villa Real                142\n",
       "Tribunales                116\n",
       "Parque Centenario          93\n",
       "Centro / Microcentro       76\n",
       "Villa Lugano               34\n",
       "Villa Soldati              16\n",
       "Las Cañitas                12\n",
       "Catalinas                   7\n",
       "Name: place_l3, dtype: int64"
      ]
     },
     "execution_count": 224,
     "metadata": {},
     "output_type": "execute_result"
    }
   ],
   "source": [
    "viviendas_en_venta_caba_usd.place_l3.value_counts()"
   ]
  },
  {
   "cell_type": "code",
   "execution_count": 233,
   "metadata": {},
   "outputs": [
    {
     "data": {
      "text/html": [
       "<div>\n",
       "<style scoped>\n",
       "    .dataframe tbody tr th:only-of-type {\n",
       "        vertical-align: middle;\n",
       "    }\n",
       "\n",
       "    .dataframe tbody tr th {\n",
       "        vertical-align: top;\n",
       "    }\n",
       "\n",
       "    .dataframe thead th {\n",
       "        text-align: right;\n",
       "    }\n",
       "</style>\n",
       "<table border=\"1\" class=\"dataframe\">\n",
       "  <thead>\n",
       "    <tr style=\"text-align: right;\">\n",
       "      <th></th>\n",
       "      <th>latitud</th>\n",
       "      <th>longitud</th>\n",
       "      <th>place_l3</th>\n",
       "      <th>place_l4</th>\n",
       "      <th>property_type</th>\n",
       "      <th>property_rooms</th>\n",
       "      <th>property_bedrooms</th>\n",
       "      <th>property_surface_total</th>\n",
       "      <th>property_surface_covered</th>\n",
       "      <th>property_price</th>\n",
       "      <th>property_title</th>\n",
       "    </tr>\n",
       "  </thead>\n",
       "  <tbody>\n",
       "    <tr>\n",
       "      <th>25</th>\n",
       "      <td>NaN</td>\n",
       "      <td>NaN</td>\n",
       "      <td>NaN</td>\n",
       "      <td>NaN</td>\n",
       "      <td>Casa</td>\n",
       "      <td>4.0</td>\n",
       "      <td>3.0</td>\n",
       "      <td>171.0</td>\n",
       "      <td>133.0</td>\n",
       "      <td>210000.0</td>\n",
       "      <td>VENTA CASA LLAVE EN MANO - COSTA ESMERALDA</td>\n",
       "    </tr>\n",
       "    <tr>\n",
       "      <th>42</th>\n",
       "      <td>-34.637319</td>\n",
       "      <td>-58.361124</td>\n",
       "      <td>Boca</td>\n",
       "      <td>NaN</td>\n",
       "      <td>Departamento</td>\n",
       "      <td>3.0</td>\n",
       "      <td>2.0</td>\n",
       "      <td>58.0</td>\n",
       "      <td>55.0</td>\n",
       "      <td>82900.0</td>\n",
       "      <td>VENTA TRES AMBIENTES LA BOCA PISO ALTO</td>\n",
       "    </tr>\n",
       "    <tr>\n",
       "      <th>43</th>\n",
       "      <td>-34.628647</td>\n",
       "      <td>-58.361871</td>\n",
       "      <td>Boca</td>\n",
       "      <td>NaN</td>\n",
       "      <td>Departamento</td>\n",
       "      <td>4.0</td>\n",
       "      <td>3.0</td>\n",
       "      <td>70.0</td>\n",
       "      <td>70.0</td>\n",
       "      <td>99000.0</td>\n",
       "      <td>Departamento - 4 Ambientes - Catalinas Sur</td>\n",
       "    </tr>\n",
       "    <tr>\n",
       "      <th>49</th>\n",
       "      <td>-34.610027</td>\n",
       "      <td>-58.401934</td>\n",
       "      <td>Once</td>\n",
       "      <td>NaN</td>\n",
       "      <td>Departamento</td>\n",
       "      <td>4.0</td>\n",
       "      <td>2.0</td>\n",
       "      <td>NaN</td>\n",
       "      <td>104.0</td>\n",
       "      <td>146000.0</td>\n",
       "      <td>Venta departamento 4 ambientes Once</td>\n",
       "    </tr>\n",
       "    <tr>\n",
       "      <th>51</th>\n",
       "      <td>-34.631621</td>\n",
       "      <td>-58.416825</td>\n",
       "      <td>Boedo</td>\n",
       "      <td>NaN</td>\n",
       "      <td>PH</td>\n",
       "      <td>4.0</td>\n",
       "      <td>2.0</td>\n",
       "      <td>NaN</td>\n",
       "      <td>73.0</td>\n",
       "      <td>250000.0</td>\n",
       "      <td>PH - Boedo</td>\n",
       "    </tr>\n",
       "  </tbody>\n",
       "</table>\n",
       "</div>"
      ],
      "text/plain": [
       "      latitud   longitud place_l3 place_l4 property_type  property_rooms  \\\n",
       "25        NaN        NaN      NaN      NaN          Casa             4.0   \n",
       "42 -34.637319 -58.361124     Boca      NaN  Departamento             3.0   \n",
       "43 -34.628647 -58.361871     Boca      NaN  Departamento             4.0   \n",
       "49 -34.610027 -58.401934     Once      NaN  Departamento             4.0   \n",
       "51 -34.631621 -58.416825    Boedo      NaN            PH             4.0   \n",
       "\n",
       "    property_bedrooms  property_surface_total  property_surface_covered  \\\n",
       "25                3.0                   171.0                     133.0   \n",
       "42                2.0                    58.0                      55.0   \n",
       "43                3.0                    70.0                      70.0   \n",
       "49                2.0                     NaN                     104.0   \n",
       "51                2.0                     NaN                      73.0   \n",
       "\n",
       "    property_price                               property_title  \n",
       "25        210000.0  VENTA CASA LLAVE EN MANO - COSTA ESMERALDA   \n",
       "42         82900.0       VENTA TRES AMBIENTES LA BOCA PISO ALTO  \n",
       "43         99000.0   Departamento - 4 Ambientes - Catalinas Sur  \n",
       "49        146000.0          Venta departamento 4 ambientes Once  \n",
       "51        250000.0                                   PH - Boedo  "
      ]
     },
     "execution_count": 233,
     "metadata": {},
     "output_type": "execute_result"
    }
   ],
   "source": [
    "viviendas_en_venta_caba_usd.head() #25\tNaN\tNaN\tNaN\tNaN\tNaN\tCasa\t4.0\t3.0\t171.0\t133.0\t210000.0\tVENTA CASA LLAVE EN MANO - COSTA ESMERALDA\n",
    "                                    #¿¿¿¿¿¿ que hacemos cuando property_title no coincide con place_l2 ??????\n",
    "\n",
    "                                    #la primera que aparece ni siquiera esta en capital, hay que sacarlo pero si hay mas asi como hacemos????\n",
    "                                    #hanria que sacar los null de place_l1 al prncipio."
   ]
  },
  {
   "cell_type": "code",
   "execution_count": 239,
   "metadata": {},
   "outputs": [
    {
     "data": {
      "text/html": [
       "<div>\n",
       "<style scoped>\n",
       "    .dataframe tbody tr th:only-of-type {\n",
       "        vertical-align: middle;\n",
       "    }\n",
       "\n",
       "    .dataframe tbody tr th {\n",
       "        vertical-align: top;\n",
       "    }\n",
       "\n",
       "    .dataframe thead th {\n",
       "        text-align: right;\n",
       "    }\n",
       "</style>\n",
       "<table border=\"1\" class=\"dataframe\">\n",
       "  <thead>\n",
       "    <tr style=\"text-align: right;\">\n",
       "      <th></th>\n",
       "      <th>latitud</th>\n",
       "      <th>longitud</th>\n",
       "      <th>place_l3</th>\n",
       "      <th>place_l4</th>\n",
       "      <th>property_type</th>\n",
       "      <th>property_rooms</th>\n",
       "      <th>property_bedrooms</th>\n",
       "      <th>property_surface_total</th>\n",
       "      <th>property_surface_covered</th>\n",
       "      <th>property_price</th>\n",
       "      <th>property_title</th>\n",
       "    </tr>\n",
       "  </thead>\n",
       "  <tbody>\n",
       "    <tr>\n",
       "      <th>25</th>\n",
       "      <td>NaN</td>\n",
       "      <td>NaN</td>\n",
       "      <td>NaN</td>\n",
       "      <td>NaN</td>\n",
       "      <td>Casa</td>\n",
       "      <td>4.0</td>\n",
       "      <td>3.0</td>\n",
       "      <td>171.0</td>\n",
       "      <td>133.0</td>\n",
       "      <td>210000.0</td>\n",
       "      <td>VENTA CASA LLAVE EN MANO - COSTA ESMERALDA</td>\n",
       "    </tr>\n",
       "    <tr>\n",
       "      <th>3099</th>\n",
       "      <td>NaN</td>\n",
       "      <td>NaN</td>\n",
       "      <td>NaN</td>\n",
       "      <td>NaN</td>\n",
       "      <td>Casa</td>\n",
       "      <td>3.0</td>\n",
       "      <td>2.0</td>\n",
       "      <td>69.0</td>\n",
       "      <td>53.0</td>\n",
       "      <td>54600.0</td>\n",
       "      <td>Venta Duplex 3 amb. Complejo Quimaral I - San ...</td>\n",
       "    </tr>\n",
       "    <tr>\n",
       "      <th>5942</th>\n",
       "      <td>NaN</td>\n",
       "      <td>NaN</td>\n",
       "      <td>NaN</td>\n",
       "      <td>NaN</td>\n",
       "      <td>Departamento</td>\n",
       "      <td>3.0</td>\n",
       "      <td>2.0</td>\n",
       "      <td>87.0</td>\n",
       "      <td>87.0</td>\n",
       "      <td>117000.0</td>\n",
       "      <td>impecable 3 Ambientes de 88 m2!!!! con 2 baños...</td>\n",
       "    </tr>\n",
       "    <tr>\n",
       "      <th>6608</th>\n",
       "      <td>-34.581285</td>\n",
       "      <td>-58.469703</td>\n",
       "      <td>NaN</td>\n",
       "      <td>NaN</td>\n",
       "      <td>PH</td>\n",
       "      <td>3.0</td>\n",
       "      <td>NaN</td>\n",
       "      <td>198.0</td>\n",
       "      <td>94.0</td>\n",
       "      <td>268000.0</td>\n",
       "      <td>Ph venta</td>\n",
       "    </tr>\n",
       "    <tr>\n",
       "      <th>6699</th>\n",
       "      <td>NaN</td>\n",
       "      <td>NaN</td>\n",
       "      <td>NaN</td>\n",
       "      <td>NaN</td>\n",
       "      <td>Casa</td>\n",
       "      <td>NaN</td>\n",
       "      <td>3.0</td>\n",
       "      <td>NaN</td>\n",
       "      <td>390.0</td>\n",
       "      <td>795000.0</td>\n",
       "      <td>Magnífica casa a la venta de 7 ambientes en Ab...</td>\n",
       "    </tr>\n",
       "    <tr>\n",
       "      <th>...</th>\n",
       "      <td>...</td>\n",
       "      <td>...</td>\n",
       "      <td>...</td>\n",
       "      <td>...</td>\n",
       "      <td>...</td>\n",
       "      <td>...</td>\n",
       "      <td>...</td>\n",
       "      <td>...</td>\n",
       "      <td>...</td>\n",
       "      <td>...</td>\n",
       "      <td>...</td>\n",
       "    </tr>\n",
       "    <tr>\n",
       "      <th>458690</th>\n",
       "      <td>NaN</td>\n",
       "      <td>NaN</td>\n",
       "      <td>NaN</td>\n",
       "      <td>NaN</td>\n",
       "      <td>Casa</td>\n",
       "      <td>NaN</td>\n",
       "      <td>2.0</td>\n",
       "      <td>NaN</td>\n",
       "      <td>80.0</td>\n",
       "      <td>120000.0</td>\n",
       "      <td>Casa a reciclar 3 Amb. en San Martin</td>\n",
       "    </tr>\n",
       "    <tr>\n",
       "      <th>458696</th>\n",
       "      <td>NaN</td>\n",
       "      <td>NaN</td>\n",
       "      <td>NaN</td>\n",
       "      <td>NaN</td>\n",
       "      <td>Casa</td>\n",
       "      <td>NaN</td>\n",
       "      <td>2.0</td>\n",
       "      <td>60.0</td>\n",
       "      <td>60.0</td>\n",
       "      <td>75000.0</td>\n",
       "      <td>CASA 3 AMBIENTES CON TERRAZA</td>\n",
       "    </tr>\n",
       "    <tr>\n",
       "      <th>459187</th>\n",
       "      <td>NaN</td>\n",
       "      <td>NaN</td>\n",
       "      <td>NaN</td>\n",
       "      <td>NaN</td>\n",
       "      <td>Departamento</td>\n",
       "      <td>2.0</td>\n",
       "      <td>1.0</td>\n",
       "      <td>41.0</td>\n",
       "      <td>41.0</td>\n",
       "      <td>75000.0</td>\n",
       "      <td>San Martín. Centro  depto 2 amb a estrenar.</td>\n",
       "    </tr>\n",
       "    <tr>\n",
       "      <th>459195</th>\n",
       "      <td>NaN</td>\n",
       "      <td>NaN</td>\n",
       "      <td>NaN</td>\n",
       "      <td>NaN</td>\n",
       "      <td>Departamento</td>\n",
       "      <td>2.0</td>\n",
       "      <td>1.0</td>\n",
       "      <td>44.0</td>\n",
       "      <td>44.0</td>\n",
       "      <td>128000.0</td>\n",
       "      <td>San Martin Ctro. s/ San Lorenzo Impecable Dpto...</td>\n",
       "    </tr>\n",
       "    <tr>\n",
       "      <th>459199</th>\n",
       "      <td>NaN</td>\n",
       "      <td>NaN</td>\n",
       "      <td>NaN</td>\n",
       "      <td>NaN</td>\n",
       "      <td>Departamento</td>\n",
       "      <td>3.0</td>\n",
       "      <td>2.0</td>\n",
       "      <td>70.0</td>\n",
       "      <td>70.0</td>\n",
       "      <td>155000.0</td>\n",
       "      <td>San Martin Ctro. Semipiso 3 Amb. amplios,coche...</td>\n",
       "    </tr>\n",
       "  </tbody>\n",
       "</table>\n",
       "<p>222 rows × 11 columns</p>\n",
       "</div>"
      ],
      "text/plain": [
       "          latitud   longitud place_l3 place_l4 property_type  property_rooms  \\\n",
       "25            NaN        NaN      NaN      NaN          Casa             4.0   \n",
       "3099          NaN        NaN      NaN      NaN          Casa             3.0   \n",
       "5942          NaN        NaN      NaN      NaN  Departamento             3.0   \n",
       "6608   -34.581285 -58.469703      NaN      NaN            PH             3.0   \n",
       "6699          NaN        NaN      NaN      NaN          Casa             NaN   \n",
       "...           ...        ...      ...      ...           ...             ...   \n",
       "458690        NaN        NaN      NaN      NaN          Casa             NaN   \n",
       "458696        NaN        NaN      NaN      NaN          Casa             NaN   \n",
       "459187        NaN        NaN      NaN      NaN  Departamento             2.0   \n",
       "459195        NaN        NaN      NaN      NaN  Departamento             2.0   \n",
       "459199        NaN        NaN      NaN      NaN  Departamento             3.0   \n",
       "\n",
       "        property_bedrooms  property_surface_total  property_surface_covered  \\\n",
       "25                    3.0                   171.0                     133.0   \n",
       "3099                  2.0                    69.0                      53.0   \n",
       "5942                  2.0                    87.0                      87.0   \n",
       "6608                  NaN                   198.0                      94.0   \n",
       "6699                  3.0                     NaN                     390.0   \n",
       "...                   ...                     ...                       ...   \n",
       "458690                2.0                     NaN                      80.0   \n",
       "458696                2.0                    60.0                      60.0   \n",
       "459187                1.0                    41.0                      41.0   \n",
       "459195                1.0                    44.0                      44.0   \n",
       "459199                2.0                    70.0                      70.0   \n",
       "\n",
       "        property_price                                     property_title  \n",
       "25            210000.0        VENTA CASA LLAVE EN MANO - COSTA ESMERALDA   \n",
       "3099           54600.0  Venta Duplex 3 amb. Complejo Quimaral I - San ...  \n",
       "5942          117000.0  impecable 3 Ambientes de 88 m2!!!! con 2 baños...  \n",
       "6608          268000.0                                           Ph venta  \n",
       "6699          795000.0  Magnífica casa a la venta de 7 ambientes en Ab...  \n",
       "...                ...                                                ...  \n",
       "458690        120000.0               Casa a reciclar 3 Amb. en San Martin  \n",
       "458696         75000.0                       CASA 3 AMBIENTES CON TERRAZA  \n",
       "459187         75000.0        San Martín. Centro  depto 2 amb a estrenar.  \n",
       "459195        128000.0  San Martin Ctro. s/ San Lorenzo Impecable Dpto...  \n",
       "459199        155000.0  San Martin Ctro. Semipiso 3 Amb. amplios,coche...  \n",
       "\n",
       "[222 rows x 11 columns]"
      ]
     },
     "execution_count": 239,
     "metadata": {},
     "output_type": "execute_result"
    }
   ],
   "source": [
    "viviendas_en_venta_caba_usd[viviendas_en_venta_caba_usd.place_l3.isna()] #COMO LOS BORRAMOS"
   ]
  },
  {
   "cell_type": "code",
   "execution_count": 226,
   "metadata": {},
   "outputs": [
    {
     "data": {
      "text/plain": [
       "Palermo Hollywood    1576\n",
       "Palermo Chico        1092\n",
       "Palermo Soho          804\n",
       "Palermo Viejo         171\n",
       "Name: place_l4, dtype: int64"
      ]
     },
     "execution_count": 226,
     "metadata": {},
     "output_type": "execute_result"
    }
   ],
   "source": [
    "viviendas_en_venta_caba_usd.place_l4.value_counts()"
   ]
  },
  {
   "cell_type": "code",
   "execution_count": 227,
   "metadata": {},
   "outputs": [
    {
     "data": {
      "image/png": "[encoded data removed]",
      "text/plain": [
       "<Figure size 640x480 with 1 Axes>"
      ]
     },
     "metadata": {},
     "output_type": "display_data"
    }
   ],
   "source": [
    "viviendas_en_venta_caba_usd.property_type.value_counts()\n",
    "#grf=viviendas_en_venta_caba_usd.property_type.hist(alpha=0.5,bins=3)\n",
    "#Histograma = Gráfico de frecuencias para variables cuantitativas \n",
    "# Barras = cualititivas\n",
    "\n",
    "#PODEMOS HACER TORTA\n",
    "pie = viviendas_en_venta_caba_usd.property_type.value_counts().plot.pie() #la mayoria de estos necesitan valores numericos"
   ]
  },
  {
   "cell_type": "code",
   "execution_count": 228,
   "metadata": {},
   "outputs": [
    {
     "data": {
      "image/png": "[encoded data removed]",
      "text/plain": [
       "<Figure size 640x480 with 1 Axes>"
      ]
     },
     "metadata": {},
     "output_type": "display_data"
    }
   ],
   "source": [
    "sns_hist=sns.histplot(data=viviendas_en_venta_caba_usd['property_price'], kde=True, alpha = 0.5).set(title=\"Densidad variable Age\",xlabel=\"Age\",ylabel=\"Densidad\")\n",
    "#print(viviendas_en_venta_caba_usd[viviendas_en_venta_caba_usd['property_price'] == viviendas_en_venta_caba_usd['property_price'].max()])"
   ]
  },
  {
   "cell_type": "code",
   "execution_count": 232,
   "metadata": {},
   "outputs": [
    {
     "data": {
      "text/plain": [
       "Departamento - Palermo                                                                                  1468\n",
       "Departamento - Recoleta                                                                                 1324\n",
       "Departamento - Belgrano                                                                                 1113\n",
       "Departamento - Caballito                                                                                 936\n",
       "Departamento - Almagro                                                                                   666\n",
       "                                                                                                        ... \n",
       "Venta-Departamento -4 ambientes-Belgrano -Amplia Cochera-Baulera- Amenities-                               1\n",
       "Gran oportunidad! Piso de 206 m2 . Excelente valor x m2 en la zona. Cochera Fija                           1\n",
       "HERMOSO DEPARTAMENTO, MUY LUMINOSOS EN EL PISO 12, UBICADO EN BALBIN 2300 - BELGRANO.                      1\n",
       "DEPARTAMENTO EN VENTA - 3 AMBIENTES - 2 DORMITORIOS - CONGRESO                                             1\n",
       "VENTA MONOAMBIENTE APAISADO y DIVISIBLE AL CF C/ BALCÓN Vta Ata, PISO ALTO. BAJAS EXP. // APTO CRED.       1\n",
       "Name: property_title, Length: 55015, dtype: int64"
      ]
     },
     "execution_count": 232,
     "metadata": {},
     "output_type": "execute_result"
    }
   ],
   "source": [
    "viviendas_en_venta_caba_usd.property_title.value_counts()"
   ]
  },
  {
   "cell_type": "code",
   "execution_count": 230,
   "metadata": {},
   "outputs": [
    {
     "data": {
      "image/png": "[encoded data removed]",
      "text/plain": [
       "<Figure size 1500x1500 with 2 Axes>"
      ]
     },
     "metadata": {},
     "output_type": "display_data"
    }
   ],
   "source": [
    "matriz_correlacion=viviendas_en_venta_caba_usd.corr()\n",
    "\n",
    "plt.figure(figsize=(15,15))\n",
    "sns.heatmap(matriz_correlacion, annot = True)\n",
    "plt.show()"
   ]
  }
 ],
 "metadata": {
  "kernelspec": {
   "display_name": "Python 3.10.7 64-bit (microsoft store)",
   "language": "python",
   "name": "python3"
  },
  "language_info": {
   "codemirror_mode": {
    "name": "ipython",
    "version": 3
   },
   "file_extension": ".py",
   "mimetype": "text/x-python",
   "name": "python",
   "nbconvert_exporter": "python",
   "pygments_lexer": "ipython3",
   "version": "3.10.7"
  },
  "orig_nbformat": 4,
  "vscode": {
   "interpreter": {
    "hash": "b86e331333623447a092cd0f9e6665caf2dd57c7601863fdb8d2642befa9baef"
   }
  }
 },
 "nbformat": 4,
 "nbformat_minor": 2
}
