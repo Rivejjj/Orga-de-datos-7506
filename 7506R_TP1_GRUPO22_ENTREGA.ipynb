{
 "cells": [
  {
   "cell_type": "markdown",
   "metadata": {},
   "source": [
    "# <center>Organizaci&oacute;n de Datos</center>\n",
    "#### <center>C&aacute;tedra Ing. Rodriguez, Juan Manuel </center>\n",
    "\n",
    "## <center>Trabajo Práctico 1 : Propiedades en Venta</center>\n",
    "### <center> Grupo 22 </center>\n",
    "### <center> Integrantes: </center>\n",
    "##### <center> Federico Martin Forte,  Francisco Sobral,  Ian Klaus von der Heyde,  Juan Pablo Aschieri,  Joaquin Rivero  </center>"
   ]
  },
  {
   "cell_type": "markdown",
   "metadata": {},
   "source": [
    "## Carga de Datos y librerías"
   ]
  },
  {
   "cell_type": "code",
   "execution_count": 1090,
   "metadata": {},
   "outputs": [],
   "source": [
    "import pandas as pd\n",
    "\n",
    "import seaborn as sns\n",
    "import matplotlib.pyplot as plt\n",
    "\n",
    "import warnings\n",
    "warnings.filterwarnings('always')\n",
    "from sklearn.model_selection import train_test_split\n",
    "\n",
    "import geopandas as gp"
   ]
  },
  {
   "cell_type": "code",
   "execution_count": 1091,
   "metadata": {},
   "outputs": [],
   "source": [
    "dataset=pd.read_csv('./Datasets/properati_argentina_2021.csv').copy()\n",
    "poly = gp.read_file(r'./Datasets/barrios.geojson')"
   ]
  },
  {
   "cell_type": "markdown",
   "metadata": {},
   "source": [
    "## Análisis Exploratorio y Preprocesamiento de Datos"
   ]
  },
  {
   "cell_type": "markdown",
   "metadata": {},
   "source": [
    "#### Exploración Inicial :"
   ]
  },
  {
   "cell_type": "markdown",
   "metadata": {},
   "source": [
    "##### Primer análisis y seleccionamento de datos"
   ]
  },
  {
   "cell_type": "code",
   "execution_count": 1092,
   "metadata": {},
   "outputs": [
    {
     "name": "stdout",
     "output_type": "stream",
     "text": [
      "<class 'pandas.core.frame.DataFrame'>\n",
      "RangeIndex: 460154 entries, 0 to 460153\n",
      "Data columns (total 20 columns):\n",
      " #   Column                    Non-Null Count   Dtype  \n",
      "---  ------                    --------------   -----  \n",
      " 0   id                        460154 non-null  object \n",
      " 1   start_date                460154 non-null  object \n",
      " 2   end_date                  460154 non-null  object \n",
      " 3   created_on                460154 non-null  object \n",
      " 4   latitud                   419740 non-null  float64\n",
      " 5   longitud                  419740 non-null  float64\n",
      " 6   place_l2                  460154 non-null  object \n",
      " 7   place_l3                  437665 non-null  object \n",
      " 8   place_l4                  139020 non-null  object \n",
      " 9   place_l5                  2430 non-null    object \n",
      " 10  place_l6                  0 non-null       float64\n",
      " 11  operation                 460154 non-null  object \n",
      " 12  property_type             460154 non-null  object \n",
      " 13  property_rooms            368498 non-null  float64\n",
      " 14  property_bedrooms         344113 non-null  float64\n",
      " 15  property_surface_total    397813 non-null  float64\n",
      " 16  property_surface_covered  427916 non-null  float64\n",
      " 17  property_price            442153 non-null  float64\n",
      " 18  property_currency         441590 non-null  object \n",
      " 19  property_title            460154 non-null  object \n",
      "dtypes: float64(8), object(12)\n",
      "memory usage: 70.2+ MB\n"
     ]
    }
   ],
   "source": [
    "dataset.info()"
   ]
  },
  {
   "cell_type": "markdown",
   "metadata": {},
   "source": [
    "observamos que tenemos 460154 filas y 20 columnas"
   ]
  },
  {
   "cell_type": "markdown",
   "metadata": {},
   "source": [
    "nos quedamos unicamente con las viviendas (Casa, PH, Departamento) en venta ubicadas en CABA cuyo precio esta en dólares."
   ]
  },
  {
   "cell_type": "code",
   "execution_count": 1093,
   "metadata": {},
   "outputs": [],
   "source": [
    "viviendas = dataset[dataset.property_type.isin(['Casa', 'PH', 'Departamento'])].copy()  #deberiamos dejar la casa de campo?\n",
    "viviendas_caba= viviendas[(viviendas.place_l2 == 'Capital Federal') & (viviendas.operation == 'Venta') & (viviendas.property_currency == 'USD')].copy()"
   ]
  },
  {
   "cell_type": "markdown",
   "metadata": {},
   "source": [
    "volvemos a analizar el nuevo dataset"
   ]
  },
  {
   "cell_type": "code",
   "execution_count": 1094,
   "metadata": {},
   "outputs": [
    {
     "name": "stdout",
     "output_type": "stream",
     "text": [
      "<class 'pandas.core.frame.DataFrame'>\n",
      "Int64Index: 94249 entries, 25 to 460090\n",
      "Data columns (total 20 columns):\n",
      " #   Column                    Non-Null Count  Dtype  \n",
      "---  ------                    --------------  -----  \n",
      " 0   id                        94249 non-null  object \n",
      " 1   start_date                94249 non-null  object \n",
      " 2   end_date                  94249 non-null  object \n",
      " 3   created_on                94249 non-null  object \n",
      " 4   latitud                   90519 non-null  float64\n",
      " 5   longitud                  90519 non-null  float64\n",
      " 6   place_l2                  94249 non-null  object \n",
      " 7   place_l3                  93832 non-null  object \n",
      " 8   place_l4                  3643 non-null   object \n",
      " 9   place_l5                  0 non-null      object \n",
      " 10  place_l6                  0 non-null      float64\n",
      " 11  operation                 94249 non-null  object \n",
      " 12  property_type             94249 non-null  object \n",
      " 13  property_rooms            93205 non-null  float64\n",
      " 14  property_bedrooms         83262 non-null  float64\n",
      " 15  property_surface_total    89405 non-null  float64\n",
      " 16  property_surface_covered  90895 non-null  float64\n",
      " 17  property_price            94249 non-null  float64\n",
      " 18  property_currency         94249 non-null  object \n",
      " 19  property_title            94249 non-null  object \n",
      "dtypes: float64(8), object(12)\n",
      "memory usage: 15.1+ MB\n"
     ]
    }
   ],
   "source": [
    "viviendas_caba.info()"
   ]
  },
  {
   "cell_type": "markdown",
   "metadata": {},
   "source": [
    "Vemos que ahora tenemos 94249 filas y 20 columnas"
   ]
  },
  {
   "cell_type": "code",
   "execution_count": 1095,
   "metadata": {},
   "outputs": [
    {
     "data": {
      "text/plain": [
       "(0, 20)"
      ]
     },
     "execution_count": 1095,
     "metadata": {},
     "output_type": "execute_result"
    }
   ],
   "source": [
    "viviendas_caba[viviendas_caba.start_date != viviendas_caba.created_on].shape"
   ]
  },
  {
   "cell_type": "markdown",
   "metadata": {},
   "source": [
    "eliminamos columnas redundantes y vacias o que no nos sirven para nuestro analisis:\n",
    "+ la columna created_on es identica a start_date\n",
    "+ las columnas place_l2, operation y property_currency ya no son útiles ya que sus valores son todos identicos.\n",
    "+ la columna id no nos aporta informaciión útil\n",
    "+ las columnas place_l5 y place_l6 estan vacias\n"
   ]
  },
  {
   "cell_type": "code",
   "execution_count": 1096,
   "metadata": {},
   "outputs": [
    {
     "data": {
      "text/html": [
       "<div>\n",
       "<style scoped>\n",
       "    .dataframe tbody tr th:only-of-type {\n",
       "        vertical-align: middle;\n",
       "    }\n",
       "\n",
       "    .dataframe tbody tr th {\n",
       "        vertical-align: top;\n",
       "    }\n",
       "\n",
       "    .dataframe thead th {\n",
       "        text-align: right;\n",
       "    }\n",
       "</style>\n",
       "<table border=\"1\" class=\"dataframe\">\n",
       "  <thead>\n",
       "    <tr style=\"text-align: right;\">\n",
       "      <th></th>\n",
       "      <th>start_date</th>\n",
       "      <th>end_date</th>\n",
       "      <th>latitud</th>\n",
       "      <th>longitud</th>\n",
       "      <th>place_l3</th>\n",
       "      <th>place_l4</th>\n",
       "      <th>property_type</th>\n",
       "      <th>property_rooms</th>\n",
       "      <th>property_bedrooms</th>\n",
       "      <th>property_surface_total</th>\n",
       "      <th>property_surface_covered</th>\n",
       "      <th>property_price</th>\n",
       "      <th>property_title</th>\n",
       "    </tr>\n",
       "  </thead>\n",
       "  <tbody>\n",
       "    <tr>\n",
       "      <th>25</th>\n",
       "      <td>2021-09-09</td>\n",
       "      <td>2021-09-26</td>\n",
       "      <td>NaN</td>\n",
       "      <td>NaN</td>\n",
       "      <td>NaN</td>\n",
       "      <td>NaN</td>\n",
       "      <td>Casa</td>\n",
       "      <td>4.0</td>\n",
       "      <td>3.0</td>\n",
       "      <td>171.0</td>\n",
       "      <td>133.0</td>\n",
       "      <td>210000.0</td>\n",
       "      <td>VENTA CASA LLAVE EN MANO - COSTA ESMERALDA</td>\n",
       "    </tr>\n",
       "    <tr>\n",
       "      <th>42</th>\n",
       "      <td>2021-09-09</td>\n",
       "      <td>2021-09-26</td>\n",
       "      <td>-34.637319</td>\n",
       "      <td>-58.361124</td>\n",
       "      <td>Boca</td>\n",
       "      <td>NaN</td>\n",
       "      <td>Departamento</td>\n",
       "      <td>3.0</td>\n",
       "      <td>2.0</td>\n",
       "      <td>58.0</td>\n",
       "      <td>55.0</td>\n",
       "      <td>82900.0</td>\n",
       "      <td>VENTA TRES AMBIENTES LA BOCA PISO ALTO</td>\n",
       "    </tr>\n",
       "    <tr>\n",
       "      <th>43</th>\n",
       "      <td>2021-09-09</td>\n",
       "      <td>2021-09-28</td>\n",
       "      <td>-34.628647</td>\n",
       "      <td>-58.361871</td>\n",
       "      <td>Boca</td>\n",
       "      <td>NaN</td>\n",
       "      <td>Departamento</td>\n",
       "      <td>4.0</td>\n",
       "      <td>3.0</td>\n",
       "      <td>70.0</td>\n",
       "      <td>70.0</td>\n",
       "      <td>99000.0</td>\n",
       "      <td>Departamento - 4 Ambientes - Catalinas Sur</td>\n",
       "    </tr>\n",
       "    <tr>\n",
       "      <th>49</th>\n",
       "      <td>2021-09-09</td>\n",
       "      <td>2022-01-05</td>\n",
       "      <td>-34.610027</td>\n",
       "      <td>-58.401934</td>\n",
       "      <td>Once</td>\n",
       "      <td>NaN</td>\n",
       "      <td>Departamento</td>\n",
       "      <td>4.0</td>\n",
       "      <td>2.0</td>\n",
       "      <td>NaN</td>\n",
       "      <td>104.0</td>\n",
       "      <td>146000.0</td>\n",
       "      <td>Venta departamento 4 ambientes Once</td>\n",
       "    </tr>\n",
       "    <tr>\n",
       "      <th>51</th>\n",
       "      <td>2021-09-09</td>\n",
       "      <td>2022-03-09</td>\n",
       "      <td>-34.631621</td>\n",
       "      <td>-58.416825</td>\n",
       "      <td>Boedo</td>\n",
       "      <td>NaN</td>\n",
       "      <td>PH</td>\n",
       "      <td>4.0</td>\n",
       "      <td>2.0</td>\n",
       "      <td>NaN</td>\n",
       "      <td>73.0</td>\n",
       "      <td>250000.0</td>\n",
       "      <td>PH - Boedo</td>\n",
       "    </tr>\n",
       "  </tbody>\n",
       "</table>\n",
       "</div>"
      ],
      "text/plain": [
       "    start_date    end_date    latitud   longitud place_l3 place_l4  \\\n",
       "25  2021-09-09  2021-09-26        NaN        NaN      NaN      NaN   \n",
       "42  2021-09-09  2021-09-26 -34.637319 -58.361124     Boca      NaN   \n",
       "43  2021-09-09  2021-09-28 -34.628647 -58.361871     Boca      NaN   \n",
       "49  2021-09-09  2022-01-05 -34.610027 -58.401934     Once      NaN   \n",
       "51  2021-09-09  2022-03-09 -34.631621 -58.416825    Boedo      NaN   \n",
       "\n",
       "   property_type  property_rooms  property_bedrooms  property_surface_total  \\\n",
       "25          Casa             4.0                3.0                   171.0   \n",
       "42  Departamento             3.0                2.0                    58.0   \n",
       "43  Departamento             4.0                3.0                    70.0   \n",
       "49  Departamento             4.0                2.0                     NaN   \n",
       "51            PH             4.0                2.0                     NaN   \n",
       "\n",
       "    property_surface_covered  property_price  \\\n",
       "25                     133.0        210000.0   \n",
       "42                      55.0         82900.0   \n",
       "43                      70.0         99000.0   \n",
       "49                     104.0        146000.0   \n",
       "51                      73.0        250000.0   \n",
       "\n",
       "                                 property_title  \n",
       "25  VENTA CASA LLAVE EN MANO - COSTA ESMERALDA   \n",
       "42       VENTA TRES AMBIENTES LA BOCA PISO ALTO  \n",
       "43   Departamento - 4 Ambientes - Catalinas Sur  \n",
       "49          Venta departamento 4 ambientes Once  \n",
       "51                                   PH - Boedo  "
      ]
     },
     "execution_count": 1096,
     "metadata": {},
     "output_type": "execute_result"
    }
   ],
   "source": [
    "viviendas_caba.drop(columns=['created_on', 'place_l2', 'operation', 'property_currency', 'place_l5', 'place_l6', 'id'], inplace=True)\n",
    "viviendas_caba.head()"
   ]
  },
  {
   "cell_type": "markdown",
   "metadata": {},
   "source": [
    "Renombramos algunas columnas para representar mejor los datos"
   ]
  },
  {
   "cell_type": "code",
   "execution_count": 1097,
   "metadata": {},
   "outputs": [],
   "source": [
    "columnas={\"place_l3\":\"barrio\", 'place_l4':'vecindad'}\n",
    "viviendas_caba.rename(columns = columnas, inplace = True)"
   ]
  },
  {
   "cell_type": "markdown",
   "metadata": {},
   "source": [
    "convertimos a fecha las columnas start y end date"
   ]
  },
  {
   "cell_type": "code",
   "execution_count": 1098,
   "metadata": {},
   "outputs": [],
   "source": [
    "viviendas_caba.loc[:,\"end_date\"].replace(to_replace='9999-12-31',value='2200-12-31',inplace=True)\n",
    "viviendas_caba['start_date'] = pd.to_datetime(viviendas_caba['start_date'], format='%Y/%m/%d %H:%M:%S.%f')\n",
    "viviendas_caba['end_date'] = pd.to_datetime(viviendas_caba['end_date'], format='%Y/%m/%d %H:%M:%S.%f')"
   ]
  },
  {
   "cell_type": "markdown",
   "metadata": {},
   "source": [
    "decidimos reeplazar la fecha de publicaciones no finalizadas por la fecha '2200-12-31' por cuestiones de implementacion de la funcion to_datetime"
   ]
  },
  {
   "cell_type": "markdown",
   "metadata": {},
   "source": [
    "dividimos el dataset en entrenamiento y prueba.\n",
    "En este caso vamos a entrenar utilizando el 80% de los datos y validando los modelos sobre el 20% de datos restantes."
   ]
  },
  {
   "cell_type": "code",
   "execution_count": 1099,
   "metadata": {},
   "outputs": [
    {
     "data": {
      "text/html": [
       "<div>\n",
       "<style scoped>\n",
       "    .dataframe tbody tr th:only-of-type {\n",
       "        vertical-align: middle;\n",
       "    }\n",
       "\n",
       "    .dataframe tbody tr th {\n",
       "        vertical-align: top;\n",
       "    }\n",
       "\n",
       "    .dataframe thead th {\n",
       "        text-align: right;\n",
       "    }\n",
       "</style>\n",
       "<table border=\"1\" class=\"dataframe\">\n",
       "  <thead>\n",
       "    <tr style=\"text-align: right;\">\n",
       "      <th></th>\n",
       "      <th>start_date</th>\n",
       "      <th>end_date</th>\n",
       "      <th>latitud</th>\n",
       "      <th>longitud</th>\n",
       "      <th>barrio</th>\n",
       "      <th>vecindad</th>\n",
       "      <th>property_type</th>\n",
       "      <th>property_rooms</th>\n",
       "      <th>property_bedrooms</th>\n",
       "      <th>property_surface_total</th>\n",
       "      <th>property_surface_covered</th>\n",
       "      <th>property_price</th>\n",
       "      <th>property_title</th>\n",
       "    </tr>\n",
       "  </thead>\n",
       "  <tbody>\n",
       "    <tr>\n",
       "      <th>256070</th>\n",
       "      <td>2021-11-03</td>\n",
       "      <td>2022-02-02</td>\n",
       "      <td>-34.566536</td>\n",
       "      <td>-58.479638</td>\n",
       "      <td>Coghlan</td>\n",
       "      <td>NaN</td>\n",
       "      <td>Departamento</td>\n",
       "      <td>2.0</td>\n",
       "      <td>1.0</td>\n",
       "      <td>65.0</td>\n",
       "      <td>53.0</td>\n",
       "      <td>198000.0</td>\n",
       "      <td>1 - Holmberg 2700</td>\n",
       "    </tr>\n",
       "    <tr>\n",
       "      <th>27438</th>\n",
       "      <td>2021-12-03</td>\n",
       "      <td>2022-01-27</td>\n",
       "      <td>-34.645625</td>\n",
       "      <td>-58.459408</td>\n",
       "      <td>Flores</td>\n",
       "      <td>NaN</td>\n",
       "      <td>Departamento</td>\n",
       "      <td>1.0</td>\n",
       "      <td>NaN</td>\n",
       "      <td>29.0</td>\n",
       "      <td>29.0</td>\n",
       "      <td>63000.0</td>\n",
       "      <td>Departamento a estrenar - Edificio con ameniti...</td>\n",
       "    </tr>\n",
       "    <tr>\n",
       "      <th>211207</th>\n",
       "      <td>2021-11-16</td>\n",
       "      <td>2021-11-18</td>\n",
       "      <td>NaN</td>\n",
       "      <td>NaN</td>\n",
       "      <td>Caballito</td>\n",
       "      <td>NaN</td>\n",
       "      <td>Departamento</td>\n",
       "      <td>2.0</td>\n",
       "      <td>1.0</td>\n",
       "      <td>41.0</td>\n",
       "      <td>35.0</td>\n",
       "      <td>93000.0</td>\n",
       "      <td>Departamento de 2 ambientes con balcón aterraz...</td>\n",
       "    </tr>\n",
       "    <tr>\n",
       "      <th>228948</th>\n",
       "      <td>2021-03-08</td>\n",
       "      <td>2021-06-05</td>\n",
       "      <td>-34.577033</td>\n",
       "      <td>-58.423367</td>\n",
       "      <td>Palermo</td>\n",
       "      <td>NaN</td>\n",
       "      <td>Departamento</td>\n",
       "      <td>1.0</td>\n",
       "      <td>1.0</td>\n",
       "      <td>49.0</td>\n",
       "      <td>44.0</td>\n",
       "      <td>160000.0</td>\n",
       "      <td>Departamento - Monoambiente - Palermo Nuevo - ...</td>\n",
       "    </tr>\n",
       "    <tr>\n",
       "      <th>361800</th>\n",
       "      <td>2021-01-16</td>\n",
       "      <td>2021-10-09</td>\n",
       "      <td>-34.580210</td>\n",
       "      <td>-58.412815</td>\n",
       "      <td>Palermo</td>\n",
       "      <td>NaN</td>\n",
       "      <td>Departamento</td>\n",
       "      <td>1.0</td>\n",
       "      <td>2.0</td>\n",
       "      <td>NaN</td>\n",
       "      <td>78.0</td>\n",
       "      <td>290000.0</td>\n",
       "      <td>Departamento en Palermo</td>\n",
       "    </tr>\n",
       "  </tbody>\n",
       "</table>\n",
       "</div>"
      ],
      "text/plain": [
       "       start_date   end_date    latitud   longitud     barrio vecindad  \\\n",
       "256070 2021-11-03 2022-02-02 -34.566536 -58.479638    Coghlan      NaN   \n",
       "27438  2021-12-03 2022-01-27 -34.645625 -58.459408     Flores      NaN   \n",
       "211207 2021-11-16 2021-11-18        NaN        NaN  Caballito      NaN   \n",
       "228948 2021-03-08 2021-06-05 -34.577033 -58.423367    Palermo      NaN   \n",
       "361800 2021-01-16 2021-10-09 -34.580210 -58.412815    Palermo      NaN   \n",
       "\n",
       "       property_type  property_rooms  property_bedrooms  \\\n",
       "256070  Departamento             2.0                1.0   \n",
       "27438   Departamento             1.0                NaN   \n",
       "211207  Departamento             2.0                1.0   \n",
       "228948  Departamento             1.0                1.0   \n",
       "361800  Departamento             1.0                2.0   \n",
       "\n",
       "        property_surface_total  property_surface_covered  property_price  \\\n",
       "256070                    65.0                      53.0        198000.0   \n",
       "27438                     29.0                      29.0         63000.0   \n",
       "211207                    41.0                      35.0         93000.0   \n",
       "228948                    49.0                      44.0        160000.0   \n",
       "361800                     NaN                      78.0        290000.0   \n",
       "\n",
       "                                           property_title  \n",
       "256070                                  1 - Holmberg 2700  \n",
       "27438   Departamento a estrenar - Edificio con ameniti...  \n",
       "211207  Departamento de 2 ambientes con balcón aterraz...  \n",
       "228948  Departamento - Monoambiente - Palermo Nuevo - ...  \n",
       "361800                            Departamento en Palermo  "
      ]
     },
     "execution_count": 1099,
     "metadata": {},
     "output_type": "execute_result"
    }
   ],
   "source": [
    "viviendas_caba_train, viviendas_caba_test = train_test_split(viviendas_caba, test_size=0.2, random_state=2)\n",
    "viviendas_caba_train.head()"
   ]
  },
  {
   "cell_type": "markdown",
   "metadata": {},
   "source": [
    "##### Análisis medidas de resumen de variables cuantitativas:"
   ]
  },
  {
   "cell_type": "code",
   "execution_count": 1100,
   "metadata": {},
   "outputs": [
    {
     "data": {
      "text/html": [
       "<div>\n",
       "<style scoped>\n",
       "    .dataframe tbody tr th:only-of-type {\n",
       "        vertical-align: middle;\n",
       "    }\n",
       "\n",
       "    .dataframe tbody tr th {\n",
       "        vertical-align: top;\n",
       "    }\n",
       "\n",
       "    .dataframe thead th {\n",
       "        text-align: right;\n",
       "    }\n",
       "</style>\n",
       "<table border=\"1\" class=\"dataframe\">\n",
       "  <thead>\n",
       "    <tr style=\"text-align: right;\">\n",
       "      <th></th>\n",
       "      <th>latitud</th>\n",
       "      <th>longitud</th>\n",
       "      <th>property_rooms</th>\n",
       "      <th>property_bedrooms</th>\n",
       "      <th>property_surface_total</th>\n",
       "      <th>property_surface_covered</th>\n",
       "      <th>property_price</th>\n",
       "      <th>start_date</th>\n",
       "      <th>end_date</th>\n",
       "    </tr>\n",
       "  </thead>\n",
       "  <tbody>\n",
       "    <tr>\n",
       "      <th>mean</th>\n",
       "      <td>-34.591125</td>\n",
       "      <td>-58.450693</td>\n",
       "      <td>2.822798</td>\n",
       "      <td>2.015567</td>\n",
       "      <td>112.53916</td>\n",
       "      <td>90.110213</td>\n",
       "      <td>227331.542381</td>\n",
       "      <td>NaT</td>\n",
       "      <td>NaT</td>\n",
       "    </tr>\n",
       "    <tr>\n",
       "      <th>25%</th>\n",
       "      <td>-34.615979</td>\n",
       "      <td>-58.466523</td>\n",
       "      <td>2.000000</td>\n",
       "      <td>1.000000</td>\n",
       "      <td>45.00000</td>\n",
       "      <td>40.000000</td>\n",
       "      <td>95000.000000</td>\n",
       "      <td>NaT</td>\n",
       "      <td>NaT</td>\n",
       "    </tr>\n",
       "    <tr>\n",
       "      <th>50%</th>\n",
       "      <td>-34.595749</td>\n",
       "      <td>-58.439042</td>\n",
       "      <td>3.000000</td>\n",
       "      <td>2.000000</td>\n",
       "      <td>65.00000</td>\n",
       "      <td>57.000000</td>\n",
       "      <td>144000.000000</td>\n",
       "      <td>NaT</td>\n",
       "      <td>NaT</td>\n",
       "    </tr>\n",
       "    <tr>\n",
       "      <th>75%</th>\n",
       "      <td>-34.577395</td>\n",
       "      <td>-58.408935</td>\n",
       "      <td>4.000000</td>\n",
       "      <td>3.000000</td>\n",
       "      <td>105.00000</td>\n",
       "      <td>89.000000</td>\n",
       "      <td>235000.000000</td>\n",
       "      <td>NaT</td>\n",
       "      <td>NaT</td>\n",
       "    </tr>\n",
       "    <tr>\n",
       "      <th>mode</th>\n",
       "      <td>-34.541250</td>\n",
       "      <td>-58.472966</td>\n",
       "      <td>3.000000</td>\n",
       "      <td>1.000000</td>\n",
       "      <td>50.00000</td>\n",
       "      <td>40.000000</td>\n",
       "      <td>110000.000000</td>\n",
       "      <td>2021-12-16</td>\n",
       "      <td>2021-06-05</td>\n",
       "    </tr>\n",
       "  </tbody>\n",
       "</table>\n",
       "</div>"
      ],
      "text/plain": [
       "        latitud   longitud  property_rooms  property_bedrooms  \\\n",
       "mean -34.591125 -58.450693        2.822798           2.015567   \n",
       "25%  -34.615979 -58.466523        2.000000           1.000000   \n",
       "50%  -34.595749 -58.439042        3.000000           2.000000   \n",
       "75%  -34.577395 -58.408935        4.000000           3.000000   \n",
       "mode -34.541250 -58.472966        3.000000           1.000000   \n",
       "\n",
       "      property_surface_total  property_surface_covered  property_price  \\\n",
       "mean               112.53916                 90.110213   227331.542381   \n",
       "25%                 45.00000                 40.000000    95000.000000   \n",
       "50%                 65.00000                 57.000000   144000.000000   \n",
       "75%                105.00000                 89.000000   235000.000000   \n",
       "mode                50.00000                 40.000000   110000.000000   \n",
       "\n",
       "     start_date   end_date  \n",
       "mean        NaT        NaT  \n",
       "25%         NaT        NaT  \n",
       "50%         NaT        NaT  \n",
       "75%         NaT        NaT  \n",
       "mode 2021-12-16 2021-06-05  "
      ]
     },
     "execution_count": 1100,
     "metadata": {},
     "output_type": "execute_result"
    }
   ],
   "source": [
    "medidas_de_resumen = viviendas_caba_train.describe()\n",
    "medidas_de_resumen.drop(['count' , 'std', 'min', 'max'], axis=0, inplace=True)\n",
    "moda = viviendas_caba_train.mode()\n",
    "moda.head(10)\n",
    "moda.index = ['mode']\n",
    "\n",
    "moda.drop(['barrio', 'vecindad','property_type','property_title'], axis = 1, inplace = True) \n",
    "\n",
    "medidas_de_resumen = pd.concat([medidas_de_resumen, moda])\n",
    "medidas_de_resumen"
   ]
  },
  {
   "cell_type": "markdown",
   "metadata": {},
   "source": [
    "##### Análisis graficamente distribucion de variables cuantitativas"
   ]
  },
  {
   "cell_type": "code",
   "execution_count": 1101,
   "metadata": {},
   "outputs": [],
   "source": [
    "#sns.pairplot(viviendas_caba_train, hue='property_type')             #DESCOMENTARRRRRRRRRRRRRRRRRRRRRRRRRRRRRRRRRRRRRRRRRRRRRRRRRRRRRRRRRRRRRRRRRRRRRRRRRRRRRRRRRRRRRRRRRRRRRR (GRAFICO PAIRPLOT)"
   ]
  },
  {
   "cell_type": "code",
   "execution_count": 1102,
   "metadata": {},
   "outputs": [
    {
     "data": {
      "image/png": "[encoded data removed]",
      "text/plain": [
       "<Figure size 432x288 with 1 Axes>"
      ]
     },
     "metadata": {
      "needs_background": "light"
     },
     "output_type": "display_data"
    }
   ],
   "source": [
    "sns_hist = sns.histplot(data=viviendas_caba_train['property_price'], kde=True, alpha = 0.5, bins=100).set(title=\"Cantidad de propiedades en funcion de su precio en dólares\",xlabel=\"precio en dólares\",ylabel=\"cantidad\")"
   ]
  },
  {
   "cell_type": "markdown",
   "metadata": {},
   "source": [
    "podemos ver que hay precios muy elevados que se alejan de lo habitual"
   ]
  },
  {
   "cell_type": "code",
   "execution_count": 1103,
   "metadata": {},
   "outputs": [
    {
     "data": {
      "image/png": "[encoded data removed]",
      "text/plain": [
       "<Figure size 432x288 with 1 Axes>"
      ]
     },
     "metadata": {
      "needs_background": "light"
     },
     "output_type": "display_data"
    }
   ],
   "source": [
    "grf_long_lat=viviendas_caba_train.plot.scatter(x=\"longitud\", y=\"latitud\", s=10).set(title=\"Dispersograma longitud vs latitud \",xlabel='longitud',ylabel='latitud')"
   ]
  },
  {
   "cell_type": "markdown",
   "metadata": {},
   "source": [
    "Aca ya podemos ver que hay puntos que no estan dentro de la lat y long de caba, es decir outliers que tendremos que procesar    "
   ]
  },
  {
   "cell_type": "code",
   "execution_count": 1104,
   "metadata": {},
   "outputs": [
    {
     "data": {
      "image/png": "[encoded data removed]",
      "text/plain": [
       "<Figure size 432x288 with 1 Axes>"
      ]
     },
     "metadata": {
      "needs_background": "light"
     },
     "output_type": "display_data"
    }
   ],
   "source": [
    "grf_dormitorios_por_habitaciones=viviendas_caba_train.plot.scatter(x=\"property_rooms\", y=\"property_bedrooms\", s=10).set(title=\"Dispersograma habitaciones vs dormitorios\",xlabel='habitaciones',ylabel='dormitorios') "
   ]
  },
  {
   "cell_type": "markdown",
   "metadata": {},
   "source": [
    "vemos que hay algunos que todos los que estan por encima de la diagonal tienen mas dormitorios que habitaciones por lo que deben estar mal"
   ]
  },
  {
   "cell_type": "code",
   "execution_count": 1105,
   "metadata": {},
   "outputs": [],
   "source": [
    "def ventas_por_mes(fila):\n",
    "    return viviendas_caba_train.loc[fila].end_date.month\n",
    "\n",
    "cantidad_de_ventas_por_mes = viviendas_caba_train.end_date.groupby(by=ventas_por_mes).count()"
   ]
  },
  {
   "cell_type": "code",
   "execution_count": 1106,
   "metadata": {},
   "outputs": [
    {
     "data": {
      "text/plain": [
       "<AxesSubplot:title={'center':'cantidad de ventas por mes'}, xlabel='mes', ylabel='cantidad de ventas'>"
      ]
     },
     "execution_count": 1106,
     "metadata": {},
     "output_type": "execute_result"
    },
    {
     "data": {
      "image/png": "[encoded data removed]",
      "text/plain": [
       "<Figure size 432x288 with 1 Axes>"
      ]
     },
     "metadata": {
      "needs_background": "light"
     },
     "output_type": "display_data"
    }
   ],
   "source": [
    "cantidad_de_ventas_por_mes.plot.bar(title=\"cantidad de ventas por mes\" , xlabel=\"mes\" , ylabel=\"cantidad de ventas\")"
   ]
  },
  {
   "cell_type": "markdown",
   "metadata": {},
   "source": [
    "vemos que junio fue el mes con mayor numero de ventas"
   ]
  },
  {
   "cell_type": "code",
   "execution_count": 1107,
   "metadata": {},
   "outputs": [
    {
     "data": {
      "text/plain": [
       "<AxesSubplot:title={'center':'ventas por mes'}, xlabel='mes', ylabel='dólares'>"
      ]
     },
     "execution_count": 1107,
     "metadata": {},
     "output_type": "execute_result"
    },
    {
     "data": {
      "image/png": "[encoded data removed]",
      "text/plain": [
       "<Figure size 432x288 with 1 Axes>"
      ]
     },
     "metadata": {
      "needs_background": "light"
     },
     "output_type": "display_data"
    }
   ],
   "source": [
    "ventas_por_mes = viviendas_caba_train.groupby(by=ventas_por_mes).property_price.sum()\n",
    "\n",
    "ventas_por_mes.plot.bar(title=\"ventas por mes\" , xlabel=\"mes\" , ylabel=\"dólares\")"
   ]
  },
  {
   "cell_type": "markdown",
   "metadata": {},
   "source": [
    "vemos que el grafico tiene una gran correlacion con el de cantidad de ventas por mes, lo cual tiene sentido"
   ]
  },
  {
   "cell_type": "code",
   "execution_count": 1108,
   "metadata": {},
   "outputs": [
    {
     "data": {
      "text/plain": [
       "<AxesSubplot:title={'center':'Cantidad de viviendas por barrio'}, xlabel='barrio', ylabel='cantidad'>"
      ]
     },
     "execution_count": 1108,
     "metadata": {},
     "output_type": "execute_result"
    },
    {
     "data": {
      "image/png": "[encoded data removed]",
      "text/plain": [
       "<Figure size 864x360 with 1 Axes>"
      ]
     },
     "metadata": {
      "needs_background": "light"
     },
     "output_type": "display_data"
    }
   ],
   "source": [
    "viviendas_caba_train.barrio.value_counts().plot.bar(figsize=(12,5),title=\"Cantidad de viviendas por barrio\" , xlabel=\"barrio\" , ylabel=\"cantidad\")"
   ]
  },
  {
   "cell_type": "markdown",
   "metadata": {},
   "source": [
    "Hola:)"
   ]
  },
  {
   "cell_type": "code",
   "execution_count": 1109,
   "metadata": {},
   "outputs": [
    {
     "data": {
      "text/plain": [
       "<AxesSubplot:title={'center':'Cantidad de viviendas por vecindario'}, xlabel='vecindario', ylabel='cantidad'>"
      ]
     },
     "execution_count": 1109,
     "metadata": {},
     "output_type": "execute_result"
    },
    {
     "data": {
      "image/png": "[encoded data removed]",
      "text/plain": [
       "<Figure size 432x288 with 1 Axes>"
      ]
     },
     "metadata": {
      "needs_background": "light"
     },
     "output_type": "display_data"
    }
   ],
   "source": [
    "viviendas_caba_train.vecindad.value_counts().plot.bar(title=\"Cantidad de viviendas por vecindario\" , xlabel=\"vecindario\" , ylabel=\"cantidad\")"
   ]
  },
  {
   "cell_type": "markdown",
   "metadata": {},
   "source": [
    "Como solo palermo tiene vecindarios cargados tenemos que tomar una desicion. O los consideramos a todos como parlermo, o en veez de considerar 58 barrios consieramos 63 barrios y sacamos las vecindades y los metemos en los barrios."
   ]
  },
  {
   "cell_type": "code",
   "execution_count": 1110,
   "metadata": {},
   "outputs": [
    {
     "data": {
      "text/plain": [
       "<AxesSubplot:title={'center':'promedio de precios por barrio'}, xlabel='barrio', ylabel='promedio de precios'>"
      ]
     },
     "execution_count": 1110,
     "metadata": {},
     "output_type": "execute_result"
    },
    {
     "data": {
      "image/png": "[encoded data removed]",
      "text/plain": [
       "<Figure size 864x360 with 1 Axes>"
      ]
     },
     "metadata": {
      "needs_background": "light"
     },
     "output_type": "display_data"
    }
   ],
   "source": [
    "viviendas_caba_train.groupby('barrio')['property_price'].mean().plot.bar(figsize=(12,5), title=\"promedio de precios por barrio\" , xlabel=\"barrio\" , ylabel=\"promedio de precios\")"
   ]
  },
  {
   "cell_type": "markdown",
   "metadata": {},
   "source": [
    "a simple vista pareciera que hay barrios mas caros que otros"
   ]
  },
  {
   "cell_type": "code",
   "execution_count": 1111,
   "metadata": {},
   "outputs": [
    {
     "data": {
      "text/plain": [
       "<AxesSubplot:title={'center':'promedio de superficie total por por barrio'}, xlabel='barrio', ylabel='promedio de superfiecie total'>"
      ]
     },
     "execution_count": 1111,
     "metadata": {},
     "output_type": "execute_result"
    },
    {
     "data": {
      "image/png": "[encoded data removed]",
      "text/plain": [
       "<Figure size 864x360 with 1 Axes>"
      ]
     },
     "metadata": {
      "needs_background": "light"
     },
     "output_type": "display_data"
    }
   ],
   "source": [
    "viviendas_caba_train.groupby('barrio')['property_surface_total'].mean().plot.bar(figsize=(12,5), title=\"promedio de superficie total por por barrio\" , xlabel=\"barrio\" , ylabel=\"promedio de superfiecie total\")"
   ]
  },
  {
   "cell_type": "markdown",
   "metadata": {},
   "source": [
    "vemos que en cuanto tama;o hjay una distribucion bastante pareja"
   ]
  },
  {
   "cell_type": "code",
   "execution_count": 1112,
   "metadata": {},
   "outputs": [
    {
     "data": {
      "image/png": "[encoded data removed]",
      "text/plain": [
       "<Figure size 432x288 with 1 Axes>"
      ]
     },
     "metadata": {
      "needs_background": "light"
     },
     "output_type": "display_data"
    }
   ],
   "source": [
    "grf_precio_por_superficie=viviendas_caba_train.plot.scatter(x=\"property_surface_total\", y=\"property_price\", s=10).set(title=\"precio por superficie total\",xlabel='property_total_surface',ylabel='property_price') "
   ]
  },
  {
   "cell_type": "markdown",
   "metadata": {},
   "source": [
    "Outliers no dejan sacar mucha info del grafico."
   ]
  },
  {
   "cell_type": "markdown",
   "metadata": {},
   "source": [
    "##### Correlación entre variables"
   ]
  },
  {
   "cell_type": "code",
   "execution_count": 1113,
   "metadata": {},
   "outputs": [
    {
     "data": {
      "image/png": "[encoded data removed]",
      "text/plain": [
       "<Figure size 720x360 with 2 Axes>"
      ]
     },
     "metadata": {
      "needs_background": "light"
     },
     "output_type": "display_data"
    }
   ],
   "source": [
    "matriz_correlacion=viviendas_caba_train.corr()\n",
    "\n",
    "plt.figure(figsize=(10,5))\n",
    "sns.heatmap(matriz_correlacion, annot = True,cmap = 'coolwarm')\n",
    "plt.show()"
   ]
  },
  {
   "cell_type": "markdown",
   "metadata": {},
   "source": [
    "Despues de realiza el grafico de correlaciones, vemos que ademas de las relaciones obias, como cantidad de cuartos con cantidad de habitaciones y la superficie total con la superficie cubierta. Ademas podemos notar una leve correlacion entre el precio y la cantidad de habitaciones"
   ]
  },
  {
   "cell_type": "markdown",
   "metadata": {},
   "source": [
    "##### Conlusiones generales del análisis Exploratorio"
   ]
  },
  {
   "cell_type": "markdown",
   "metadata": {},
   "source": [
    "Vendemos mayormente deptos, hay datos erroneos que estan por fuera de la lat y long de caba. \n",
    "Se suele vender propiedades con pocas habitaciones y a su vez que hay propiedades con mas dormitorios que habitaciones lo cual carece de sentido. \n",
    "Los barrios con mas propiedades en venta son Palermo, Belgrano y Caballito. En catalania se vende poco zona de oficina.\n",
    "Hay propiedades con mucha mas superficie cubierta que total, es decir edificios.\n",
    "Todos los graficos y conclusiones vistas hasta ahora, se ven afectadas por datos faltantes, redudantes y outliers."
   ]
  },
  {
   "cell_type": "markdown",
   "metadata": {},
   "source": [
    "#### Datos Faltantes :"
   ]
  },
  {
   "cell_type": "markdown",
   "metadata": {},
   "source": [
    "##### Datos faltantes a nivel columna:"
   ]
  },
  {
   "cell_type": "markdown",
   "metadata": {},
   "source": [
    "Al principio de la notebook ya eliminamos dos columnas, l_5 y l_6, ya no contaban con ningun dato. Ahora examinaremos el resto de las columnas"
   ]
  },
  {
   "cell_type": "code",
   "execution_count": 1114,
   "metadata": {},
   "outputs": [
    {
     "data": {
      "text/plain": [
       "<AxesSubplot:title={'center':'porcentaje de datos faltantes por categoria'}, xlabel='categoria', ylabel='porcentaje'>"
      ]
     },
     "execution_count": 1114,
     "metadata": {},
     "output_type": "execute_result"
    },
    {
     "data": {
      "image/png": "[encoded data removed]",
      "text/plain": [
       "<Figure size 432x288 with 1 Axes>"
      ]
     },
     "metadata": {
      "needs_background": "light"
     },
     "output_type": "display_data"
    }
   ],
   "source": [
    "((viviendas_caba_train.isna().sum())/viviendas_caba_train.shape[0]*100).plot.bar(xlabel = 'categoria', ylabel = 'porcentaje', title = 'porcentaje de datos faltantes por categoria')"
   ]
  },
  {
   "cell_type": "markdown",
   "metadata": {},
   "source": [
    "##### Datos faltantes a nivel fila:"
   ]
  },
  {
   "cell_type": "code",
   "execution_count": 1115,
   "metadata": {},
   "outputs": [
    {
     "data": {
      "text/plain": [
       "<AxesSubplot:title={'center':'porcentaje de datos faltantes por fila'}, xlabel='cantidad de datos faltantes', ylabel='porcentaje'>"
      ]
     },
     "execution_count": 1115,
     "metadata": {},
     "output_type": "execute_result"
    },
    {
     "data": {
      "image/png": "[encoded data removed]",
      "text/plain": [
       "<Figure size 432x288 with 1 Axes>"
      ]
     },
     "metadata": {
      "needs_background": "light"
     },
     "output_type": "display_data"
    }
   ],
   "source": [
    "((viviendas_caba_train.isnull().sum(axis=1).value_counts())/viviendas_caba_train.shape[0]*100).plot.bar(xlabel = 'cantidad de datos faltantes', ylabel = 'porcentaje', title = 'porcentaje de datos faltantes por fila')"
   ]
  },
  {
   "cell_type": "markdown",
   "metadata": {},
   "source": [
    "vemos que tenemos un gran porcentaje de filas que tienen un solo dato faltante"
   ]
  },
  {
   "cell_type": "markdown",
   "metadata": {},
   "source": [
    "##### Reparación de datos:"
   ]
  },
  {
   "cell_type": "markdown",
   "metadata": {},
   "source": [
    "Lo primero que vemos que mas llama la atencion es la vecindad que tiene mas del 96% de datos faltantes. Como habiamos visto mas arriba los unicos datos que tiene esta columna provienen de parlermo. Para tratar estos datos faltantes notamos 3 opciones. Eliminar la columna enteramente, imputar los datos correspondientes a palermo eliminar la columna pero en vez de tener en la columna barrio a Palermo, tener las 4 vecinadades. O si no tener 5 barrios que representen a parlemo, uno generico y las 4 vecindades. Decidimos eliminar de lleno a la columa ya que era muy grande el porcentaje de datos faltantes."
   ]
  },
  {
   "cell_type": "code",
   "execution_count": 1116,
   "metadata": {},
   "outputs": [],
   "source": [
    "viviendas_caba_train.drop(columns=['vecindad'], inplace=True)"
   ]
  },
  {
   "cell_type": "markdown",
   "metadata": {},
   "source": [
    "Luego de eliminar la vecindad volvemos  agraficar para ver el estado actual de los datos faltantes "
   ]
  },
  {
   "cell_type": "code",
   "execution_count": 1117,
   "metadata": {},
   "outputs": [
    {
     "data": {
      "text/plain": [
       "<AxesSubplot:title={'center':'porcentaje de datos faltantes por fila'}, xlabel='cantidad de datos faltantes', ylabel='porcentaje'>"
      ]
     },
     "execution_count": 1117,
     "metadata": {},
     "output_type": "execute_result"
    },
    {
     "data": {
      "image/png": "[encoded data removed]",
      "text/plain": [
       "<Figure size 432x288 with 1 Axes>"
      ]
     },
     "metadata": {
      "needs_background": "light"
     },
     "output_type": "display_data"
    }
   ],
   "source": [
    "((viviendas_caba_train.isnull().sum(axis=1).value_counts())/viviendas_caba_train.shape[0]*100).plot.bar(xlabel = 'cantidad de datos faltantes', ylabel = 'porcentaje', title = 'porcentaje de datos faltantes por fila')"
   ]
  },
  {
   "cell_type": "markdown",
   "metadata": {},
   "source": [
    "vemos que casi un 80% de nuestras filas no tienen datos faltantes"
   ]
  },
  {
   "cell_type": "code",
   "execution_count": 1118,
   "metadata": {},
   "outputs": [
    {
     "data": {
      "text/plain": [
       "<AxesSubplot:title={'center':'porcentaje de datos faltantes por categoria'}, xlabel='categoria', ylabel='porcentage'>"
      ]
     },
     "execution_count": 1118,
     "metadata": {},
     "output_type": "execute_result"
    },
    {
     "data": {
      "image/png": "[encoded data removed]",
      "text/plain": [
       "<Figure size 432x288 with 1 Axes>"
      ]
     },
     "metadata": {
      "needs_background": "light"
     },
     "output_type": "display_data"
    }
   ],
   "source": [
    "((viviendas_caba_train.isna().sum())/viviendas_caba_train.shape[0]*100).plot.bar(xlabel = 'categoria', ylabel = 'porcentage', title = 'porcentaje de datos faltantes por categoria')"
   ]
  },
  {
   "cell_type": "code",
   "execution_count": 1119,
   "metadata": {},
   "outputs": [
    {
     "data": {
      "text/plain": [
       "207"
      ]
     },
     "execution_count": 1119,
     "metadata": {},
     "output_type": "execute_result"
    }
   ],
   "source": [
    "viviendas_caba_train[viviendas_caba_train.barrio.isna()].longitud.notna().sum() #VER QUE ONDA LA JUSTIFICACION DE ABAJO"
   ]
  },
  {
   "cell_type": "markdown",
   "metadata": {},
   "source": [
    "##### Limpieza de viviendas fuera de CABA por coordenadas"
   ]
  },
  {
   "cell_type": "markdown",
   "metadata": {},
   "source": [
    "Creamos un geodataframe con los filas del original que si tienen lat y long"
   ]
  },
  {
   "cell_type": "code",
   "execution_count": 1120,
   "metadata": {},
   "outputs": [],
   "source": [
    "import shapely.speedups\n",
    "shapely.speedups.enable()\n",
    "con_lat_y_lon = viviendas_caba_train.copy().loc[(viviendas_caba[\"latitud\"].notna()) & (viviendas_caba[\"longitud\"].notna())] \n",
    "con_lat_y_lon = gp.GeoDataFrame(con_lat_y_lon, geometry=gp.points_from_xy(con_lat_y_lon.longitud, con_lat_y_lon.latitud))"
   ]
  },
  {
   "cell_type": "markdown",
   "metadata": {},
   "source": [
    "Unimos todos los barrios de CABA para formar una GeoSerie con el poligono de CABA"
   ]
  },
  {
   "cell_type": "code",
   "execution_count": 1121,
   "metadata": {},
   "outputs": [
    {
     "name": "stderr",
     "output_type": "stream",
     "text": [
      "C:\\Users\\iankl\\AppData\\Local\\Temp\\ipykernel_7348\\2859399624.py:3: ShapelyDeprecationWarning: The 'cascaded_union()' function is deprecated. Use 'unary_union()' instead.\n",
      "  caba_poly = gp.GeoSeries(cascaded_union(polygons))\n"
     ]
    },
    {
     "data": {
      "image/png": "[encoded data removed]",
      "text/plain": [
       "<Figure size 432x288 with 1 Axes>"
      ]
     },
     "metadata": {
      "needs_background": "light"
     },
     "output_type": "display_data"
    }
   ],
   "source": [
    "from shapely.ops import cascaded_union\n",
    "polygons = poly.geometry.to_list()\n",
    "caba_poly = gp.GeoSeries(cascaded_union(polygons))\n",
    "caba_poly.plot(color = 'red')\n",
    "plt.show()\n"
   ]
  },
  {
   "cell_type": "markdown",
   "metadata": {},
   "source": [
    "Creamos una mascara para distinguir las viviendas que estan fuera y dentro del poligono de CABA (como crear la mascara es un proceso muy demandante la guardamos en un archivo CSV y la dejamos comentada por si acaso)"
   ]
  },
  {
   "cell_type": "code",
   "execution_count": 1122,
   "metadata": {},
   "outputs": [
    {
     "data": {
      "text/plain": [
       "\"creo un vector true/false si la vivienda está en el barrio (interseccion punto con poligono)\\nmask = con_lat_y_lon.within(caba_poly.iloc[0]) \\nmask.to_csv('./Datasets/en_caba_mask.csv', index = True, header=None)\""
      ]
     },
     "execution_count": 1122,
     "metadata": {},
     "output_type": "execute_result"
    }
   ],
   "source": [
    "\"\"\"creo un vector true/false si la vivienda está en el barrio (interseccion punto con poligono)\n",
    "mask = con_lat_y_lon.within(caba_poly.iloc[0]) \n",
    "mask.to_csv('./Datasets/en_caba_mask.csv', index = True, header=None)\"\"\""
   ]
  },
  {
   "cell_type": "markdown",
   "metadata": {},
   "source": [
    "leemos la mascara y generamos un dataset para viviendas dentro de caba y otro para las de fuera"
   ]
  },
  {
   "cell_type": "code",
   "execution_count": 1123,
   "metadata": {},
   "outputs": [],
   "source": [
    "mask = pd.read_csv('./Datasets/en_caba_mask.csv', header=None, names=['index', 'bool']).copy()\n",
    "mask.set_index('index',inplace=True)\n",
    "\n",
    "viviendas_en_caba = con_lat_y_lon.loc[mask['bool']]\n",
    "viviendas_fuera_de_caba = con_lat_y_lon.loc[~mask['bool']]"
   ]
  },
  {
   "cell_type": "code",
   "execution_count": 1124,
   "metadata": {},
   "outputs": [
    {
     "name": "stdout",
     "output_type": "stream",
     "text": [
      "numero de filas de viviendas con latitud y longitud: 72416\n",
      "numero de filas de viviendas con latitud y longitud en caba: 72243\n",
      "numero de filas de viviendas con latitud y longitud fuera de caba: 173\n"
     ]
    }
   ],
   "source": [
    "print(f'numero de filas de viviendas con latitud y longitud: {con_lat_y_lon.shape[0]}')\n",
    "print(f'numero de filas de viviendas con latitud y longitud en caba: {viviendas_en_caba.shape[0]}')\n",
    "print(f'numero de filas de viviendas con latitud y longitud fuera de caba: {viviendas_fuera_de_caba.shape[0]}')"
   ]
  },
  {
   "cell_type": "markdown",
   "metadata": {},
   "source": [
    "hacemos un ansalis visual de las viviendas fuera de caba para ver si es correcto eliminarlas"
   ]
  },
  {
   "cell_type": "code",
   "execution_count": 1125,
   "metadata": {},
   "outputs": [
    {
     "data": {
      "text/html": [
       "<div>\n",
       "<style scoped>\n",
       "    .dataframe tbody tr th:only-of-type {\n",
       "        vertical-align: middle;\n",
       "    }\n",
       "\n",
       "    .dataframe tbody tr th {\n",
       "        vertical-align: top;\n",
       "    }\n",
       "\n",
       "    .dataframe thead th {\n",
       "        text-align: right;\n",
       "    }\n",
       "</style>\n",
       "<table border=\"1\" class=\"dataframe\">\n",
       "  <thead>\n",
       "    <tr style=\"text-align: right;\">\n",
       "      <th></th>\n",
       "      <th>start_date</th>\n",
       "      <th>end_date</th>\n",
       "      <th>latitud</th>\n",
       "      <th>longitud</th>\n",
       "      <th>barrio</th>\n",
       "      <th>property_type</th>\n",
       "      <th>property_rooms</th>\n",
       "      <th>property_bedrooms</th>\n",
       "      <th>property_surface_total</th>\n",
       "      <th>property_surface_covered</th>\n",
       "      <th>property_price</th>\n",
       "      <th>property_title</th>\n",
       "      <th>geometry</th>\n",
       "    </tr>\n",
       "  </thead>\n",
       "  <tbody>\n",
       "    <tr>\n",
       "      <th>45536</th>\n",
       "      <td>2021-05-02</td>\n",
       "      <td>2021-06-05</td>\n",
       "      <td>-32.065926</td>\n",
       "      <td>-64.527838</td>\n",
       "      <td>NaN</td>\n",
       "      <td>Casa</td>\n",
       "      <td>3.0</td>\n",
       "      <td>2.0</td>\n",
       "      <td>307.0</td>\n",
       "      <td>106.0</td>\n",
       "      <td>139000.0</td>\n",
       "      <td>Se Vende Casa Amoblada en Santa Rosa de Calamu...</td>\n",
       "      <td>POINT (-64.52784 -32.06593)</td>\n",
       "    </tr>\n",
       "    <tr>\n",
       "      <th>54727</th>\n",
       "      <td>2021-01-11</td>\n",
       "      <td>2021-02-09</td>\n",
       "      <td>-31.664340</td>\n",
       "      <td>-63.885916</td>\n",
       "      <td>NaN</td>\n",
       "      <td>Casa</td>\n",
       "      <td>5.0</td>\n",
       "      <td>4.0</td>\n",
       "      <td>NaN</td>\n",
       "      <td>145.0</td>\n",
       "      <td>190000.0</td>\n",
       "      <td>VENTA CASA CON PILETA Y COCHERA - B° PRIVADO</td>\n",
       "      <td>POINT (-63.88592 -31.66434)</td>\n",
       "    </tr>\n",
       "    <tr>\n",
       "      <th>229657</th>\n",
       "      <td>2021-07-27</td>\n",
       "      <td>2022-06-04</td>\n",
       "      <td>-38.958207</td>\n",
       "      <td>-67.923565</td>\n",
       "      <td>NaN</td>\n",
       "      <td>Casa</td>\n",
       "      <td>NaN</td>\n",
       "      <td>3.0</td>\n",
       "      <td>330.0</td>\n",
       "      <td>150.0</td>\n",
       "      <td>95000.0</td>\n",
       "      <td>VENDE CASA 3 dormitorios en Barrio Los Frutale...</td>\n",
       "      <td>POINT (-67.92357 -38.95821)</td>\n",
       "    </tr>\n",
       "  </tbody>\n",
       "</table>\n",
       "</div>"
      ],
      "text/plain": [
       "       start_date   end_date    latitud   longitud barrio property_type  \\\n",
       "45536  2021-05-02 2021-06-05 -32.065926 -64.527838    NaN          Casa   \n",
       "54727  2021-01-11 2021-02-09 -31.664340 -63.885916    NaN          Casa   \n",
       "229657 2021-07-27 2022-06-04 -38.958207 -67.923565    NaN          Casa   \n",
       "\n",
       "        property_rooms  property_bedrooms  property_surface_total  \\\n",
       "45536              3.0                2.0                   307.0   \n",
       "54727              5.0                4.0                     NaN   \n",
       "229657             NaN                3.0                   330.0   \n",
       "\n",
       "        property_surface_covered  property_price  \\\n",
       "45536                      106.0        139000.0   \n",
       "54727                      145.0        190000.0   \n",
       "229657                     150.0         95000.0   \n",
       "\n",
       "                                           property_title  \\\n",
       "45536   Se Vende Casa Amoblada en Santa Rosa de Calamu...   \n",
       "54727        VENTA CASA CON PILETA Y COCHERA - B° PRIVADO   \n",
       "229657  VENDE CASA 3 dormitorios en Barrio Los Frutale...   \n",
       "\n",
       "                           geometry  \n",
       "45536   POINT (-64.52784 -32.06593)  \n",
       "54727   POINT (-63.88592 -31.66434)  \n",
       "229657  POINT (-67.92357 -38.95821)  "
      ]
     },
     "execution_count": 1125,
     "metadata": {},
     "output_type": "execute_result"
    }
   ],
   "source": [
    "viviendas_fuera_de_caba.tail(3)"
   ]
  },
  {
   "cell_type": "markdown",
   "metadata": {},
   "source": [
    "concluimos en que está bien eliminarlas del dataset de entrenamiento"
   ]
  },
  {
   "cell_type": "code",
   "execution_count": 1126,
   "metadata": {},
   "outputs": [
    {
     "name": "stdout",
     "output_type": "stream",
     "text": [
      "(75399, 12)\n",
      "(75226, 12)\n"
     ]
    }
   ],
   "source": [
    "print(viviendas_caba_train.shape)\n",
    "viviendas_caba_train.drop(viviendas_fuera_de_caba.index, axis=0, inplace=True)\n",
    "print(viviendas_caba_train.shape)"
   ]
  },
  {
   "cell_type": "markdown",
   "metadata": {},
   "source": [
    "Para analizar el cambio graficamente graficamos primero el mapa con todas las viviendas y luego el mapa con unicamente las viviendas de CABA "
   ]
  },
  {
   "cell_type": "code",
   "execution_count": 1127,
   "metadata": {},
   "outputs": [
    {
     "data": {
      "text/plain": [
       "<AxesSubplot:>"
      ]
     },
     "execution_count": 1127,
     "metadata": {},
     "output_type": "execute_result"
    },
    {
     "data": {
      "image/png": "[encoded data removed]",
      "text/plain": [
       "<Figure size 720x720 with 1 Axes>"
      ]
     },
     "metadata": {
      "needs_background": "light"
     },
     "output_type": "display_data"
    }
   ],
   "source": [
    "fig, ax = plt.subplots(figsize=(10,10))\n",
    "poly.plot(ax=ax,column='BARRIO',alpha=0.5)\n",
    "con_lat_y_lon.plot(ax=ax)"
   ]
  },
  {
   "cell_type": "code",
   "execution_count": 1128,
   "metadata": {},
   "outputs": [
    {
     "data": {
      "text/plain": [
       "<AxesSubplot:>"
      ]
     },
     "execution_count": 1128,
     "metadata": {},
     "output_type": "execute_result"
    },
    {
     "data": {
      "image/png": "[encoded data removed]",
      "text/plain": [
       "<Figure size 720x720 with 1 Axes>"
      ]
     },
     "metadata": {
      "needs_background": "light"
     },
     "output_type": "display_data"
    }
   ],
   "source": [
    "fig, ax = plt.subplots(figsize=(10,10))\n",
    "poly.plot(ax=ax,column='BARRIO',alpha=0.5)\n",
    "en_caba.plot(ax=ax)"
   ]
  },
  {
   "cell_type": "markdown",
   "metadata": {},
   "source": [
    "##### Reparacíon de barrios faltantes por coordenadas"
   ]
  },
  {
   "cell_type": "markdown",
   "metadata": {},
   "source": [
    "creamos un nuevo GeoDataSet con todas las viviendas que tienen coordenadas pero no barrio"
   ]
  },
  {
   "cell_type": "code",
   "execution_count": 1129,
   "metadata": {},
   "outputs": [],
   "source": [
    "sin_barrio_con_coord = viviendas_caba_train.copy().loc[(viviendas_caba_train[\"barrio\"].isna()) & (viviendas_caba_train[\"latitud\"].notna()) & (viviendas_caba_train[\"longitud\"].notna())] \n",
    "sin_barrio_con_coord = gp.GeoDataFrame(sin_barrio_con_coord, geometry=gp.points_from_xy(sin_barrio_con_coord.longitud, sin_barrio_con_coord.latitud))"
   ]
  },
  {
   "cell_type": "code",
   "execution_count": 1130,
   "metadata": {},
   "outputs": [],
   "source": [
    "con_barrio_por_coordenadas = sin_barrio_con_coord.copy()\n",
    "for barrio in poly.BARRIO:\n",
    "    indice_barrio = poly[poly['BARRIO'] == barrio].index[0] \n",
    "    mask = sin_barrio_con_coord.within(poly.loc[indice_barrio, 'geometry']) \n",
    "    con_barrio_por_coordenadas.loc[mask,\"barrio\"] = barrio"
   ]
  },
  {
   "cell_type": "code",
   "execution_count": 1131,
   "metadata": {},
   "outputs": [
    {
     "name": "stdout",
     "output_type": "stream",
     "text": [
      "cantidad de viviendas sin barrio y con coordenadas: 40\n",
      "cantidad de barrios que no se pudieron completar: 0\n"
     ]
    }
   ],
   "source": [
    "print(f'cantidad de viviendas sin barrio y con coordenadas: {sin_barrio_con_coord.barrio.isna().sum()}')\n",
    "print(f'cantidad de barrios que no se pudieron completar: {con_barrio_por_coordenadas.barrio.isna().sum()}')"
   ]
  },
  {
   "cell_type": "markdown",
   "metadata": {},
   "source": [
    "vemos que hemos podido completar exitosamente todos los barrios de las viviendas que tenían coordenadas por lo que pasaremos estos datos al dataset de entrenamiento, por lo que proseguimos a mostrarlo y completarlo en el original"
   ]
  },
  {
   "cell_type": "code",
   "execution_count": 1132,
   "metadata": {},
   "outputs": [
    {
     "name": "stdout",
     "output_type": "stream",
     "text": [
      " cantidad de viviendas sin barrio: 179\n"
     ]
    },
    {
     "data": {
      "text/html": [
       "<div>\n",
       "<style scoped>\n",
       "    .dataframe tbody tr th:only-of-type {\n",
       "        vertical-align: middle;\n",
       "    }\n",
       "\n",
       "    .dataframe tbody tr th {\n",
       "        vertical-align: top;\n",
       "    }\n",
       "\n",
       "    .dataframe thead th {\n",
       "        text-align: right;\n",
       "    }\n",
       "</style>\n",
       "<table border=\"1\" class=\"dataframe\">\n",
       "  <thead>\n",
       "    <tr style=\"text-align: right;\">\n",
       "      <th></th>\n",
       "      <th>start_date</th>\n",
       "      <th>end_date</th>\n",
       "      <th>latitud</th>\n",
       "      <th>longitud</th>\n",
       "      <th>barrio</th>\n",
       "      <th>property_type</th>\n",
       "      <th>property_rooms</th>\n",
       "      <th>property_bedrooms</th>\n",
       "      <th>property_surface_total</th>\n",
       "      <th>property_surface_covered</th>\n",
       "      <th>property_price</th>\n",
       "      <th>property_title</th>\n",
       "    </tr>\n",
       "  </thead>\n",
       "  <tbody>\n",
       "    <tr>\n",
       "      <th>190496</th>\n",
       "      <td>2021-10-09</td>\n",
       "      <td>2200-12-31</td>\n",
       "      <td>-34.615136</td>\n",
       "      <td>-58.429657</td>\n",
       "      <td>NaN</td>\n",
       "      <td>Departamento</td>\n",
       "      <td>2.0</td>\n",
       "      <td>NaN</td>\n",
       "      <td>59.0</td>\n",
       "      <td>38.0</td>\n",
       "      <td>115000.0</td>\n",
       "      <td>Departamento venta</td>\n",
       "    </tr>\n",
       "  </tbody>\n",
       "</table>\n",
       "</div>"
      ],
      "text/plain": [
       "       start_date   end_date    latitud   longitud barrio property_type  \\\n",
       "190496 2021-10-09 2200-12-31 -34.615136 -58.429657    NaN  Departamento   \n",
       "\n",
       "        property_rooms  property_bedrooms  property_surface_total  \\\n",
       "190496             2.0                NaN                    59.0   \n",
       "\n",
       "        property_surface_covered  property_price      property_title  \n",
       "190496                      38.0        115000.0  Departamento venta  "
      ]
     },
     "execution_count": 1132,
     "metadata": {},
     "output_type": "execute_result"
    }
   ],
   "source": [
    "print(f' cantidad de viviendas sin barrio: {viviendas_caba_train.barrio.isna().sum()}')\n",
    "viviendas_caba_train[viviendas_caba_train.index == 190496]"
   ]
  },
  {
   "cell_type": "code",
   "execution_count": 1133,
   "metadata": {},
   "outputs": [],
   "source": [
    "con_barrio_por_coordenadas.drop(\"geometry\", axis = 1, inplace = True)\n",
    "viviendas_caba_train.loc[con_barrio_por_coordenadas.index] = con_barrio_por_coordenadas "
   ]
  },
  {
   "cell_type": "code",
   "execution_count": 1134,
   "metadata": {},
   "outputs": [
    {
     "name": "stdout",
     "output_type": "stream",
     "text": [
      " cantidad de viviendas sin barrio: 139\n"
     ]
    },
    {
     "data": {
      "text/html": [
       "<div>\n",
       "<style scoped>\n",
       "    .dataframe tbody tr th:only-of-type {\n",
       "        vertical-align: middle;\n",
       "    }\n",
       "\n",
       "    .dataframe tbody tr th {\n",
       "        vertical-align: top;\n",
       "    }\n",
       "\n",
       "    .dataframe thead th {\n",
       "        text-align: right;\n",
       "    }\n",
       "</style>\n",
       "<table border=\"1\" class=\"dataframe\">\n",
       "  <thead>\n",
       "    <tr style=\"text-align: right;\">\n",
       "      <th></th>\n",
       "      <th>start_date</th>\n",
       "      <th>end_date</th>\n",
       "      <th>latitud</th>\n",
       "      <th>longitud</th>\n",
       "      <th>barrio</th>\n",
       "      <th>property_type</th>\n",
       "      <th>property_rooms</th>\n",
       "      <th>property_bedrooms</th>\n",
       "      <th>property_surface_total</th>\n",
       "      <th>property_surface_covered</th>\n",
       "      <th>property_price</th>\n",
       "      <th>property_title</th>\n",
       "    </tr>\n",
       "  </thead>\n",
       "  <tbody>\n",
       "    <tr>\n",
       "      <th>190496</th>\n",
       "      <td>2021-10-09</td>\n",
       "      <td>2200-12-31</td>\n",
       "      <td>-34.615136</td>\n",
       "      <td>-58.429657</td>\n",
       "      <td>ALMAGRO</td>\n",
       "      <td>Departamento</td>\n",
       "      <td>2.0</td>\n",
       "      <td>NaN</td>\n",
       "      <td>59.0</td>\n",
       "      <td>38.0</td>\n",
       "      <td>115000.0</td>\n",
       "      <td>Departamento venta</td>\n",
       "    </tr>\n",
       "  </tbody>\n",
       "</table>\n",
       "</div>"
      ],
      "text/plain": [
       "       start_date   end_date    latitud   longitud   barrio property_type  \\\n",
       "190496 2021-10-09 2200-12-31 -34.615136 -58.429657  ALMAGRO  Departamento   \n",
       "\n",
       "        property_rooms  property_bedrooms  property_surface_total  \\\n",
       "190496             2.0                NaN                    59.0   \n",
       "\n",
       "        property_surface_covered  property_price      property_title  \n",
       "190496                      38.0        115000.0  Departamento venta  "
      ]
     },
     "execution_count": 1134,
     "metadata": {},
     "output_type": "execute_result"
    }
   ],
   "source": [
    "print(f' cantidad de viviendas sin barrio: {viviendas_caba_train.barrio.isna().sum()}')\n",
    "viviendas_caba_train[viviendas_caba_train.index == 190496]"
   ]
  },
  {
   "cell_type": "markdown",
   "metadata": {},
   "source": [
    "##### Reparación de cantidad de dormitorios en base a cantidad de habitaciones"
   ]
  },
  {
   "cell_type": "markdown",
   "metadata": {},
   "source": [
    "Podemos inputar datos sobre cantidad de dormitorios en base a la cantidad de habitaciones utilizando regresion lineal"
   ]
  },
  {
   "cell_type": "code",
   "execution_count": 1135,
   "metadata": {},
   "outputs": [
    {
     "name": "stdout",
     "output_type": "stream",
     "text": [
      " El modelo lineal simple ajustado es : y = 0.72 * X  + -0.17\n"
     ]
    }
   ],
   "source": [
    "from sklearn.linear_model import LinearRegression\n",
    "#Creo un regresor lineal\n",
    "modelo_regresion_lineal_simple = LinearRegression()\n",
    "\n",
    "#Doy el formato adecuado a las variables dependiente e independiente\n",
    "\n",
    "aux = viviendas_caba_train[viviendas_caba_train.property_rooms.notna() & viviendas_caba_train.property_bedrooms.notna()]\n",
    "\n",
    "x=aux.property_rooms.values\n",
    "y=aux.property_bedrooms.values\n",
    "\n",
    "x_=x.reshape(-1, 1)\n",
    "y_=y.reshape(-1, 1)\n",
    "\n",
    "#Ajusto el modelo\n",
    "modelo_regresion_lineal_simple.fit(x_,y_)\n",
    "\n",
    "#Parámetros estimados\n",
    "B1_e=round(modelo_regresion_lineal_simple.coef_[0][0],2) #coef = pendiente\n",
    "B0_e=round(modelo_regresion_lineal_simple.intercept_[0],2) #intercept = ordenada al origen\n",
    "\n",
    "#Muestro el modelo\n",
    "print(f\" El modelo lineal simple ajustado es : y = {B1_e} * X  + {B0_e}\")"
   ]
  },
  {
   "cell_type": "code",
   "execution_count": 1136,
   "metadata": {},
   "outputs": [
    {
     "data": {
      "text/plain": [
       "<matplotlib.collections.PathCollection at 0x1c9b03e3850>"
      ]
     },
     "execution_count": 1136,
     "metadata": {},
     "output_type": "execute_result"
    },
    {
     "data": {
      "image/png": "[encoded data removed]",
      "text/plain": [
       "<Figure size 432x288 with 1 Axes>"
      ]
     },
     "metadata": {
      "needs_background": "light"
     },
     "output_type": "display_data"
    }
   ],
   "source": [
    "#Calculo los valores que estima mi modelo lineal simple\n",
    "\n",
    "y_e=B1_e *x_ + B0_e\n",
    "\n",
    "#Grafico las observaciones reales + las estimadas\n",
    "plt.scatter(x,y,label='data', color='blue',alpha=0.5)\n",
    "plt.plot(x_,y_e,label='data', color='red',alpha=0.5)\n",
    "plt.scatter(x_,y_e,label='data', color='red',alpha=0.5)"
   ]
  },
  {
   "cell_type": "code",
   "execution_count": 1137,
   "metadata": {},
   "outputs": [
    {
     "data": {
      "text/html": [
       "<div>\n",
       "<style scoped>\n",
       "    .dataframe tbody tr th:only-of-type {\n",
       "        vertical-align: middle;\n",
       "    }\n",
       "\n",
       "    .dataframe tbody tr th {\n",
       "        vertical-align: top;\n",
       "    }\n",
       "\n",
       "    .dataframe thead th {\n",
       "        text-align: right;\n",
       "    }\n",
       "</style>\n",
       "<table border=\"1\" class=\"dataframe\">\n",
       "  <thead>\n",
       "    <tr style=\"text-align: right;\">\n",
       "      <th></th>\n",
       "      <th>start_date</th>\n",
       "      <th>end_date</th>\n",
       "      <th>latitud</th>\n",
       "      <th>longitud</th>\n",
       "      <th>barrio</th>\n",
       "      <th>property_type</th>\n",
       "      <th>property_rooms</th>\n",
       "      <th>property_bedrooms</th>\n",
       "      <th>property_surface_total</th>\n",
       "      <th>property_surface_covered</th>\n",
       "      <th>property_price</th>\n",
       "      <th>property_title</th>\n",
       "    </tr>\n",
       "  </thead>\n",
       "  <tbody>\n",
       "    <tr>\n",
       "      <th>27438</th>\n",
       "      <td>2021-12-03</td>\n",
       "      <td>2022-01-27</td>\n",
       "      <td>-34.645625</td>\n",
       "      <td>-58.459408</td>\n",
       "      <td>Flores</td>\n",
       "      <td>Departamento</td>\n",
       "      <td>1.0</td>\n",
       "      <td>NaN</td>\n",
       "      <td>29.0</td>\n",
       "      <td>29.0</td>\n",
       "      <td>63000.0</td>\n",
       "      <td>Departamento a estrenar - Edificio con ameniti...</td>\n",
       "    </tr>\n",
       "    <tr>\n",
       "      <th>155007</th>\n",
       "      <td>2021-02-03</td>\n",
       "      <td>2022-05-15</td>\n",
       "      <td>NaN</td>\n",
       "      <td>NaN</td>\n",
       "      <td>Villa Crespo</td>\n",
       "      <td>Departamento</td>\n",
       "      <td>1.0</td>\n",
       "      <td>NaN</td>\n",
       "      <td>47.0</td>\n",
       "      <td>32.0</td>\n",
       "      <td>66780.0</td>\n",
       "      <td>VENTA - Departamento en pozo- Villa Crespo</td>\n",
       "    </tr>\n",
       "    <tr>\n",
       "      <th>163967</th>\n",
       "      <td>2021-06-07</td>\n",
       "      <td>2021-10-08</td>\n",
       "      <td>-34.579829</td>\n",
       "      <td>-58.433008</td>\n",
       "      <td>Palermo</td>\n",
       "      <td>Departamento</td>\n",
       "      <td>1.0</td>\n",
       "      <td>NaN</td>\n",
       "      <td>41.0</td>\n",
       "      <td>30.0</td>\n",
       "      <td>99500.0</td>\n",
       "      <td>Departamento Venta - Palermo Hollywood</td>\n",
       "    </tr>\n",
       "    <tr>\n",
       "      <th>310141</th>\n",
       "      <td>2021-09-01</td>\n",
       "      <td>2022-03-04</td>\n",
       "      <td>-34.570436</td>\n",
       "      <td>-58.434466</td>\n",
       "      <td>Palermo</td>\n",
       "      <td>Departamento</td>\n",
       "      <td>1.0</td>\n",
       "      <td>NaN</td>\n",
       "      <td>42.0</td>\n",
       "      <td>37.0</td>\n",
       "      <td>150000.0</td>\n",
       "      <td>Departamento 1 Amb. c/Cochera - Las Cañitas</td>\n",
       "    </tr>\n",
       "    <tr>\n",
       "      <th>137226</th>\n",
       "      <td>2021-01-22</td>\n",
       "      <td>2021-06-30</td>\n",
       "      <td>-34.582098</td>\n",
       "      <td>-58.448859</td>\n",
       "      <td>Palermo</td>\n",
       "      <td>Departamento</td>\n",
       "      <td>1.0</td>\n",
       "      <td>NaN</td>\n",
       "      <td>33.0</td>\n",
       "      <td>28.0</td>\n",
       "      <td>104892.0</td>\n",
       "      <td>Venta - Newbery Jorge  3445 9º F Jardin</td>\n",
       "    </tr>\n",
       "  </tbody>\n",
       "</table>\n",
       "</div>"
      ],
      "text/plain": [
       "       start_date   end_date    latitud   longitud        barrio  \\\n",
       "27438  2021-12-03 2022-01-27 -34.645625 -58.459408        Flores   \n",
       "155007 2021-02-03 2022-05-15        NaN        NaN  Villa Crespo   \n",
       "163967 2021-06-07 2021-10-08 -34.579829 -58.433008       Palermo   \n",
       "310141 2021-09-01 2022-03-04 -34.570436 -58.434466       Palermo   \n",
       "137226 2021-01-22 2021-06-30 -34.582098 -58.448859       Palermo   \n",
       "\n",
       "       property_type  property_rooms  property_bedrooms  \\\n",
       "27438   Departamento             1.0                NaN   \n",
       "155007  Departamento             1.0                NaN   \n",
       "163967  Departamento             1.0                NaN   \n",
       "310141  Departamento             1.0                NaN   \n",
       "137226  Departamento             1.0                NaN   \n",
       "\n",
       "        property_surface_total  property_surface_covered  property_price  \\\n",
       "27438                     29.0                      29.0         63000.0   \n",
       "155007                    47.0                      32.0         66780.0   \n",
       "163967                    41.0                      30.0         99500.0   \n",
       "310141                    42.0                      37.0        150000.0   \n",
       "137226                    33.0                      28.0        104892.0   \n",
       "\n",
       "                                           property_title  \n",
       "27438   Departamento a estrenar - Edificio con ameniti...  \n",
       "155007         VENTA - Departamento en pozo- Villa Crespo  \n",
       "163967             Departamento Venta - Palermo Hollywood  \n",
       "310141        Departamento 1 Amb. c/Cochera - Las Cañitas  \n",
       "137226            Venta - Newbery Jorge  3445 9º F Jardin  "
      ]
     },
     "execution_count": 1137,
     "metadata": {},
     "output_type": "execute_result"
    }
   ],
   "source": [
    "sin_bedroom_con_room = viviendas_caba_train[viviendas_caba_train.property_rooms.notna() & viviendas_caba_train.property_bedrooms.isna()]\n",
    "sin_bedroom_con_room.head()"
   ]
  },
  {
   "cell_type": "markdown",
   "metadata": {},
   "source": [
    "Con esto obtuvimos un modelo lineal para predecir la cantidad de dormitorios en funcion de la cantidad de cuartos, de la forma cantidadDeBedrooms = 0.72 * cantidadDeRooms - 0.17"
   ]
  },
  {
   "cell_type": "code",
   "execution_count": 1138,
   "metadata": {},
   "outputs": [
    {
     "name": "stderr",
     "output_type": "stream",
     "text": [
      "C:\\Users\\iankl\\AppData\\Local\\Temp\\ipykernel_7348\\380553042.py:1: SettingWithCopyWarning: \n",
      "A value is trying to be set on a copy of a slice from a DataFrame.\n",
      "Try using .loc[row_indexer,col_indexer] = value instead\n",
      "\n",
      "See the caveats in the documentation: https://pandas.pydata.org/pandas-docs/stable/user_guide/indexing.html#returning-a-view-versus-a-copy\n",
      "  sin_bedroom_con_room.property_bedrooms = ((sin_bedroom_con_room.property_rooms*0.72) -0.17).round()\n"
     ]
    },
    {
     "data": {
      "text/html": [
       "<div>\n",
       "<style scoped>\n",
       "    .dataframe tbody tr th:only-of-type {\n",
       "        vertical-align: middle;\n",
       "    }\n",
       "\n",
       "    .dataframe tbody tr th {\n",
       "        vertical-align: top;\n",
       "    }\n",
       "\n",
       "    .dataframe thead th {\n",
       "        text-align: right;\n",
       "    }\n",
       "</style>\n",
       "<table border=\"1\" class=\"dataframe\">\n",
       "  <thead>\n",
       "    <tr style=\"text-align: right;\">\n",
       "      <th></th>\n",
       "      <th>start_date</th>\n",
       "      <th>end_date</th>\n",
       "      <th>latitud</th>\n",
       "      <th>longitud</th>\n",
       "      <th>barrio</th>\n",
       "      <th>property_type</th>\n",
       "      <th>property_rooms</th>\n",
       "      <th>property_bedrooms</th>\n",
       "      <th>property_surface_total</th>\n",
       "      <th>property_surface_covered</th>\n",
       "      <th>property_price</th>\n",
       "      <th>property_title</th>\n",
       "    </tr>\n",
       "  </thead>\n",
       "  <tbody>\n",
       "    <tr>\n",
       "      <th>27438</th>\n",
       "      <td>2021-12-03</td>\n",
       "      <td>2022-01-27</td>\n",
       "      <td>-34.645625</td>\n",
       "      <td>-58.459408</td>\n",
       "      <td>Flores</td>\n",
       "      <td>Departamento</td>\n",
       "      <td>1.0</td>\n",
       "      <td>1.0</td>\n",
       "      <td>29.0</td>\n",
       "      <td>29.0</td>\n",
       "      <td>63000.0</td>\n",
       "      <td>Departamento a estrenar - Edificio con ameniti...</td>\n",
       "    </tr>\n",
       "    <tr>\n",
       "      <th>155007</th>\n",
       "      <td>2021-02-03</td>\n",
       "      <td>2022-05-15</td>\n",
       "      <td>NaN</td>\n",
       "      <td>NaN</td>\n",
       "      <td>Villa Crespo</td>\n",
       "      <td>Departamento</td>\n",
       "      <td>1.0</td>\n",
       "      <td>1.0</td>\n",
       "      <td>47.0</td>\n",
       "      <td>32.0</td>\n",
       "      <td>66780.0</td>\n",
       "      <td>VENTA - Departamento en pozo- Villa Crespo</td>\n",
       "    </tr>\n",
       "    <tr>\n",
       "      <th>163967</th>\n",
       "      <td>2021-06-07</td>\n",
       "      <td>2021-10-08</td>\n",
       "      <td>-34.579829</td>\n",
       "      <td>-58.433008</td>\n",
       "      <td>Palermo</td>\n",
       "      <td>Departamento</td>\n",
       "      <td>1.0</td>\n",
       "      <td>1.0</td>\n",
       "      <td>41.0</td>\n",
       "      <td>30.0</td>\n",
       "      <td>99500.0</td>\n",
       "      <td>Departamento Venta - Palermo Hollywood</td>\n",
       "    </tr>\n",
       "    <tr>\n",
       "      <th>310141</th>\n",
       "      <td>2021-09-01</td>\n",
       "      <td>2022-03-04</td>\n",
       "      <td>-34.570436</td>\n",
       "      <td>-58.434466</td>\n",
       "      <td>Palermo</td>\n",
       "      <td>Departamento</td>\n",
       "      <td>1.0</td>\n",
       "      <td>1.0</td>\n",
       "      <td>42.0</td>\n",
       "      <td>37.0</td>\n",
       "      <td>150000.0</td>\n",
       "      <td>Departamento 1 Amb. c/Cochera - Las Cañitas</td>\n",
       "    </tr>\n",
       "    <tr>\n",
       "      <th>137226</th>\n",
       "      <td>2021-01-22</td>\n",
       "      <td>2021-06-30</td>\n",
       "      <td>-34.582098</td>\n",
       "      <td>-58.448859</td>\n",
       "      <td>Palermo</td>\n",
       "      <td>Departamento</td>\n",
       "      <td>1.0</td>\n",
       "      <td>1.0</td>\n",
       "      <td>33.0</td>\n",
       "      <td>28.0</td>\n",
       "      <td>104892.0</td>\n",
       "      <td>Venta - Newbery Jorge  3445 9º F Jardin</td>\n",
       "    </tr>\n",
       "  </tbody>\n",
       "</table>\n",
       "</div>"
      ],
      "text/plain": [
       "       start_date   end_date    latitud   longitud        barrio  \\\n",
       "27438  2021-12-03 2022-01-27 -34.645625 -58.459408        Flores   \n",
       "155007 2021-02-03 2022-05-15        NaN        NaN  Villa Crespo   \n",
       "163967 2021-06-07 2021-10-08 -34.579829 -58.433008       Palermo   \n",
       "310141 2021-09-01 2022-03-04 -34.570436 -58.434466       Palermo   \n",
       "137226 2021-01-22 2021-06-30 -34.582098 -58.448859       Palermo   \n",
       "\n",
       "       property_type  property_rooms  property_bedrooms  \\\n",
       "27438   Departamento             1.0                1.0   \n",
       "155007  Departamento             1.0                1.0   \n",
       "163967  Departamento             1.0                1.0   \n",
       "310141  Departamento             1.0                1.0   \n",
       "137226  Departamento             1.0                1.0   \n",
       "\n",
       "        property_surface_total  property_surface_covered  property_price  \\\n",
       "27438                     29.0                      29.0         63000.0   \n",
       "155007                    47.0                      32.0         66780.0   \n",
       "163967                    41.0                      30.0         99500.0   \n",
       "310141                    42.0                      37.0        150000.0   \n",
       "137226                    33.0                      28.0        104892.0   \n",
       "\n",
       "                                           property_title  \n",
       "27438   Departamento a estrenar - Edificio con ameniti...  \n",
       "155007         VENTA - Departamento en pozo- Villa Crespo  \n",
       "163967             Departamento Venta - Palermo Hollywood  \n",
       "310141        Departamento 1 Amb. c/Cochera - Las Cañitas  \n",
       "137226            Venta - Newbery Jorge  3445 9º F Jardin  "
      ]
     },
     "execution_count": 1138,
     "metadata": {},
     "output_type": "execute_result"
    }
   ],
   "source": [
    "sin_bedroom_con_room.property_bedrooms = ((sin_bedroom_con_room.property_rooms*0.72) -0.17).round()\n",
    "sin_bedroom_con_room.head()"
   ]
  },
  {
   "cell_type": "code",
   "execution_count": 1139,
   "metadata": {},
   "outputs": [
    {
     "name": "stdout",
     "output_type": "stream",
     "text": [
      "cantidad de dormitorios faltantes: 8837\n"
     ]
    },
    {
     "data": {
      "text/html": [
       "<div>\n",
       "<style scoped>\n",
       "    .dataframe tbody tr th:only-of-type {\n",
       "        vertical-align: middle;\n",
       "    }\n",
       "\n",
       "    .dataframe tbody tr th {\n",
       "        vertical-align: top;\n",
       "    }\n",
       "\n",
       "    .dataframe thead th {\n",
       "        text-align: right;\n",
       "    }\n",
       "</style>\n",
       "<table border=\"1\" class=\"dataframe\">\n",
       "  <thead>\n",
       "    <tr style=\"text-align: right;\">\n",
       "      <th></th>\n",
       "      <th>start_date</th>\n",
       "      <th>end_date</th>\n",
       "      <th>latitud</th>\n",
       "      <th>longitud</th>\n",
       "      <th>barrio</th>\n",
       "      <th>property_type</th>\n",
       "      <th>property_rooms</th>\n",
       "      <th>property_bedrooms</th>\n",
       "      <th>property_surface_total</th>\n",
       "      <th>property_surface_covered</th>\n",
       "      <th>property_price</th>\n",
       "      <th>property_title</th>\n",
       "    </tr>\n",
       "  </thead>\n",
       "  <tbody>\n",
       "    <tr>\n",
       "      <th>27438</th>\n",
       "      <td>2021-12-03</td>\n",
       "      <td>2022-01-27</td>\n",
       "      <td>-34.645625</td>\n",
       "      <td>-58.459408</td>\n",
       "      <td>Flores</td>\n",
       "      <td>Departamento</td>\n",
       "      <td>1.0</td>\n",
       "      <td>NaN</td>\n",
       "      <td>29.0</td>\n",
       "      <td>29.0</td>\n",
       "      <td>63000.0</td>\n",
       "      <td>Departamento a estrenar - Edificio con ameniti...</td>\n",
       "    </tr>\n",
       "  </tbody>\n",
       "</table>\n",
       "</div>"
      ],
      "text/plain": [
       "      start_date   end_date    latitud   longitud  barrio property_type  \\\n",
       "27438 2021-12-03 2022-01-27 -34.645625 -58.459408  Flores  Departamento   \n",
       "\n",
       "       property_rooms  property_bedrooms  property_surface_total  \\\n",
       "27438             1.0                NaN                    29.0   \n",
       "\n",
       "       property_surface_covered  property_price  \\\n",
       "27438                      29.0         63000.0   \n",
       "\n",
       "                                          property_title  \n",
       "27438  Departamento a estrenar - Edificio con ameniti...  "
      ]
     },
     "execution_count": 1139,
     "metadata": {},
     "output_type": "execute_result"
    }
   ],
   "source": [
    "print(f'cantidad de dormitorios faltantes: {viviendas_caba_train.property_bedrooms.isna().sum()}')\n",
    "viviendas_caba_train[viviendas_caba_train.index == 27438]"
   ]
  },
  {
   "cell_type": "code",
   "execution_count": 1140,
   "metadata": {},
   "outputs": [],
   "source": [
    "viviendas_caba_train.loc[sin_bedroom_con_room.index] = sin_bedroom_con_room "
   ]
  },
  {
   "cell_type": "code",
   "execution_count": 1141,
   "metadata": {},
   "outputs": [
    {
     "name": "stdout",
     "output_type": "stream",
     "text": [
      "cantidad de dormitorios faltantes: 346\n"
     ]
    },
    {
     "data": {
      "text/html": [
       "<div>\n",
       "<style scoped>\n",
       "    .dataframe tbody tr th:only-of-type {\n",
       "        vertical-align: middle;\n",
       "    }\n",
       "\n",
       "    .dataframe tbody tr th {\n",
       "        vertical-align: top;\n",
       "    }\n",
       "\n",
       "    .dataframe thead th {\n",
       "        text-align: right;\n",
       "    }\n",
       "</style>\n",
       "<table border=\"1\" class=\"dataframe\">\n",
       "  <thead>\n",
       "    <tr style=\"text-align: right;\">\n",
       "      <th></th>\n",
       "      <th>start_date</th>\n",
       "      <th>end_date</th>\n",
       "      <th>latitud</th>\n",
       "      <th>longitud</th>\n",
       "      <th>barrio</th>\n",
       "      <th>property_type</th>\n",
       "      <th>property_rooms</th>\n",
       "      <th>property_bedrooms</th>\n",
       "      <th>property_surface_total</th>\n",
       "      <th>property_surface_covered</th>\n",
       "      <th>property_price</th>\n",
       "      <th>property_title</th>\n",
       "    </tr>\n",
       "  </thead>\n",
       "  <tbody>\n",
       "    <tr>\n",
       "      <th>27438</th>\n",
       "      <td>2021-12-03</td>\n",
       "      <td>2022-01-27</td>\n",
       "      <td>-34.645625</td>\n",
       "      <td>-58.459408</td>\n",
       "      <td>Flores</td>\n",
       "      <td>Departamento</td>\n",
       "      <td>1.0</td>\n",
       "      <td>1.0</td>\n",
       "      <td>29.0</td>\n",
       "      <td>29.0</td>\n",
       "      <td>63000.0</td>\n",
       "      <td>Departamento a estrenar - Edificio con ameniti...</td>\n",
       "    </tr>\n",
       "  </tbody>\n",
       "</table>\n",
       "</div>"
      ],
      "text/plain": [
       "      start_date   end_date    latitud   longitud  barrio property_type  \\\n",
       "27438 2021-12-03 2022-01-27 -34.645625 -58.459408  Flores  Departamento   \n",
       "\n",
       "       property_rooms  property_bedrooms  property_surface_total  \\\n",
       "27438             1.0                1.0                    29.0   \n",
       "\n",
       "       property_surface_covered  property_price  \\\n",
       "27438                      29.0         63000.0   \n",
       "\n",
       "                                          property_title  \n",
       "27438  Departamento a estrenar - Edificio con ameniti...  "
      ]
     },
     "execution_count": 1141,
     "metadata": {},
     "output_type": "execute_result"
    }
   ],
   "source": [
    "print(f'cantidad de dormitorios faltantes: {viviendas_caba_train.property_bedrooms.isna().sum()}')\n",
    "viviendas_caba_train[viviendas_caba_train.index == 27438]"
   ]
  },
  {
   "cell_type": "markdown",
   "metadata": {},
   "source": [
    "##### Busqueda de relaciones entre variables para intentar reparar faltantes"
   ]
  },
  {
   "cell_type": "markdown",
   "metadata": {},
   "source": [
    "para ver si podemos completar los datos que nos faltan de property_surface_covered, lo que hacemos es fijarnos si hay alguna relacion entre la cantidad de cuartos y la superficie cubierta, dado un tipo de propiedad, ya sea casa, departamento o PH. "
   ]
  },
  {
   "cell_type": "code",
   "execution_count": 1142,
   "metadata": {},
   "outputs": [
    {
     "data": {
      "image/png": "[encoded data removed]",
      "text/plain": [
       "<Figure size 432x288 with 1 Axes>"
      ]
     },
     "metadata": {
      "needs_background": "light"
     },
     "output_type": "display_data"
    }
   ],
   "source": [
    "cant_hab_casa = viviendas_caba_train[viviendas_caba_train.property_surface_covered < 1000]\n",
    "grf_bedrooms_cover_surface_casa = cant_hab_casa[cant_hab_casa.property_type=='Casa'].plot.scatter(x=\"property_surface_covered\", y=\"property_bedrooms\", s=10).set(title=\"cant habitaciones de casa por superficie cubierta\",xlabel='property_surface_covered',ylabel='property_bedrooms') \n"
   ]
  },
  {
   "cell_type": "code",
   "execution_count": 1143,
   "metadata": {},
   "outputs": [
    {
     "data": {
      "image/png": "[encoded data removed]",
      "text/plain": [
       "<Figure size 432x288 with 1 Axes>"
      ]
     },
     "metadata": {
      "needs_background": "light"
     },
     "output_type": "display_data"
    }
   ],
   "source": [
    "cant_hab_depto = viviendas_caba_train[(viviendas_caba_train.property_surface_covered < 500) & (viviendas_caba_train.property_bedrooms < 15)]\n",
    "\n",
    "grf_bedrooms_cover_surface_depto  = cant_hab_depto[cant_hab_depto.property_type=='Departamento'].plot.scatter(x=\"property_surface_covered\", y=\"property_bedrooms\", s=10).set(title=\"cant habitaciones de Depto por superficie cubierta\",xlabel='property_surface_covered',ylabel='property_bedrooms') \n"
   ]
  },
  {
   "cell_type": "code",
   "execution_count": 1144,
   "metadata": {},
   "outputs": [
    {
     "data": {
      "image/png": "[encoded data removed]",
      "text/plain": [
       "<Figure size 432x288 with 1 Axes>"
      ]
     },
     "metadata": {
      "needs_background": "light"
     },
     "output_type": "display_data"
    }
   ],
   "source": [
    "cant_hab_ph = viviendas_caba_train[(viviendas_caba_train.property_surface_covered < 400) & (viviendas_caba_train.property_bedrooms < 10)]\n",
    "grf_bedrooms_cover_surface_ph = cant_hab_ph[cant_hab_ph.property_type=='PH'].plot.scatter(x=\"property_surface_covered\", y=\"property_bedrooms\", s=10).set(title=\"cant habitaciones de PH por superficie cubierta\",xlabel='property_surface_total',ylabel='property_bedrooms') "
   ]
  },
  {
   "cell_type": "markdown",
   "metadata": {},
   "source": [
    "Despues de analizar los 3 graficos, no encontramos ninguna relacion lo suficientemente fuerte como para completar las superficies cubiertas con la cantidad de cuartos"
   ]
  },
  {
   "cell_type": "markdown",
   "metadata": {},
   "source": [
    "#### Conclusiones de sobre faltantes"
   ]
  },
  {
   "cell_type": "markdown",
   "metadata": {},
   "source": [
    "tenemos distintas formas de abordar los datos faltantes, algunas son las siguientes:\n",
    "+ Eliminar las filas con datos faltantes\n",
    "    - esta opcion es un poco \"violenta\"\n",
    "+ Imputar datos en base a la media, moda, o mediana\n",
    "    - puede quedar distorcionado según la varianza de los datos\n",
    "+ Imputar en base a relacion con otra/s variables, existen distintas formas de hacer esto:\n",
    "    - regresion lineal (para variables cuantitativas)\n",
    "    - regresion logistica (para variables cualitativas)\n",
    "    - cold-deck\n",
    "    - hot-deck\n",
    "    - mice\n",
    "    \n",
    "    #VER SI HAY MAS  y explicar cada una"
   ]
  },
  {
   "cell_type": "markdown",
   "metadata": {},
   "source": [
    "Volviendo a analizar los datos faltantes por fila vemos que luego de las reparaciones mejoramos considerablemente ya que la columna con más faltantes está en un 95% completa"
   ]
  },
  {
   "cell_type": "code",
   "execution_count": 1145,
   "metadata": {},
   "outputs": [
    {
     "data": {
      "text/plain": [
       "<AxesSubplot:title={'center':'porcentaje de datos faltantes por categoria'}, xlabel='categoria', ylabel='porcentaje'>"
      ]
     },
     "execution_count": 1145,
     "metadata": {},
     "output_type": "execute_result"
    },
    {
     "data": {
      "image/png": "[encoded data removed]",
      "text/plain": [
       "<Figure size 432x288 with 1 Axes>"
      ]
     },
     "metadata": {
      "needs_background": "light"
     },
     "output_type": "display_data"
    }
   ],
   "source": [
    "((viviendas_caba_train.isna().sum())/viviendas_caba_train.shape[0]*100).plot.bar(xlabel = 'categoria', ylabel = 'porcentaje', title = 'porcentaje de datos faltantes por categoria')"
   ]
  },
  {
   "cell_type": "code",
   "execution_count": 1146,
   "metadata": {},
   "outputs": [
    {
     "data": {
      "text/plain": [
       "start_date                     0\n",
       "end_date                       0\n",
       "latitud                     2983\n",
       "longitud                    2983\n",
       "barrio                       139\n",
       "property_type                  0\n",
       "property_rooms               797\n",
       "property_bedrooms            346\n",
       "property_surface_total      3865\n",
       "property_surface_covered    2639\n",
       "property_price                 0\n",
       "property_title                 0\n",
       "dtype: int64"
      ]
     },
     "execution_count": 1146,
     "metadata": {},
     "output_type": "execute_result"
    }
   ],
   "source": [
    "viviendas_caba_train.isnull().sum()"
   ]
  },
  {
   "cell_type": "markdown",
   "metadata": {},
   "source": [
    "#### Duplicados"
   ]
  },
  {
   "cell_type": "markdown",
   "metadata": {},
   "source": [
    "nos aseguramos de no tener datos duplicados en el dataset"
   ]
  },
  {
   "cell_type": "code",
   "execution_count": 1147,
   "metadata": {},
   "outputs": [
    {
     "data": {
      "text/html": [
       "<div>\n",
       "<style scoped>\n",
       "    .dataframe tbody tr th:only-of-type {\n",
       "        vertical-align: middle;\n",
       "    }\n",
       "\n",
       "    .dataframe tbody tr th {\n",
       "        vertical-align: top;\n",
       "    }\n",
       "\n",
       "    .dataframe thead th {\n",
       "        text-align: right;\n",
       "    }\n",
       "</style>\n",
       "<table border=\"1\" class=\"dataframe\">\n",
       "  <thead>\n",
       "    <tr style=\"text-align: right;\">\n",
       "      <th></th>\n",
       "      <th>start_date</th>\n",
       "      <th>end_date</th>\n",
       "      <th>latitud</th>\n",
       "      <th>longitud</th>\n",
       "      <th>barrio</th>\n",
       "      <th>property_type</th>\n",
       "      <th>property_rooms</th>\n",
       "      <th>property_bedrooms</th>\n",
       "      <th>property_surface_total</th>\n",
       "      <th>property_surface_covered</th>\n",
       "      <th>property_price</th>\n",
       "      <th>property_title</th>\n",
       "    </tr>\n",
       "  </thead>\n",
       "  <tbody>\n",
       "    <tr>\n",
       "      <th>6873</th>\n",
       "      <td>2021-02-09</td>\n",
       "      <td>2021-02-11</td>\n",
       "      <td>-34.633226</td>\n",
       "      <td>-58.376409</td>\n",
       "      <td>Barracas</td>\n",
       "      <td>Casa</td>\n",
       "      <td>NaN</td>\n",
       "      <td>7.0</td>\n",
       "      <td>NaN</td>\n",
       "      <td>265.0</td>\n",
       "      <td>350000.0</td>\n",
       "      <td>CASA  SOBRE TERRENO PROPIO  A METROS DE  AVENIDA</td>\n",
       "    </tr>\n",
       "    <tr>\n",
       "      <th>46265</th>\n",
       "      <td>2021-04-21</td>\n",
       "      <td>2021-06-05</td>\n",
       "      <td>-34.544750</td>\n",
       "      <td>-58.461909</td>\n",
       "      <td>Nuñez</td>\n",
       "      <td>Departamento</td>\n",
       "      <td>NaN</td>\n",
       "      <td>NaN</td>\n",
       "      <td>60.0</td>\n",
       "      <td>55.0</td>\n",
       "      <td>170000.0</td>\n",
       "      <td>Departamento - Nuñez</td>\n",
       "    </tr>\n",
       "    <tr>\n",
       "      <th>209331</th>\n",
       "      <td>2021-11-29</td>\n",
       "      <td>2022-01-27</td>\n",
       "      <td>-34.600297</td>\n",
       "      <td>-58.462799</td>\n",
       "      <td>Paternal</td>\n",
       "      <td>Departamento</td>\n",
       "      <td>2.0</td>\n",
       "      <td>1.0</td>\n",
       "      <td>45.0</td>\n",
       "      <td>40.0</td>\n",
       "      <td>60000.0</td>\n",
       "      <td>CUCHA CUCHA 2400 2 AMB POR ESCALERA</td>\n",
       "    </tr>\n",
       "    <tr>\n",
       "      <th>383271</th>\n",
       "      <td>2021-04-27</td>\n",
       "      <td>2021-06-05</td>\n",
       "      <td>-34.601884</td>\n",
       "      <td>-58.373721</td>\n",
       "      <td>San Nicolás</td>\n",
       "      <td>Departamento</td>\n",
       "      <td>8.0</td>\n",
       "      <td>7.0</td>\n",
       "      <td>350.0</td>\n",
       "      <td>340.0</td>\n",
       "      <td>595000.0</td>\n",
       "      <td>OFICINAS EDIFICIO ANCHORENA</td>\n",
       "    </tr>\n",
       "    <tr>\n",
       "      <th>457895</th>\n",
       "      <td>2021-05-08</td>\n",
       "      <td>2021-05-24</td>\n",
       "      <td>-34.566760</td>\n",
       "      <td>-58.441816</td>\n",
       "      <td>Belgrano</td>\n",
       "      <td>Departamento</td>\n",
       "      <td>5.0</td>\n",
       "      <td>3.0</td>\n",
       "      <td>189.0</td>\n",
       "      <td>180.0</td>\n",
       "      <td>550000.0</td>\n",
       "      <td>Excelente Semipiso de 180 mts con balcón al fr...</td>\n",
       "    </tr>\n",
       "    <tr>\n",
       "      <th>...</th>\n",
       "      <td>...</td>\n",
       "      <td>...</td>\n",
       "      <td>...</td>\n",
       "      <td>...</td>\n",
       "      <td>...</td>\n",
       "      <td>...</td>\n",
       "      <td>...</td>\n",
       "      <td>...</td>\n",
       "      <td>...</td>\n",
       "      <td>...</td>\n",
       "      <td>...</td>\n",
       "      <td>...</td>\n",
       "    </tr>\n",
       "    <tr>\n",
       "      <th>14986</th>\n",
       "      <td>2021-04-22</td>\n",
       "      <td>2021-04-29</td>\n",
       "      <td>-34.587183</td>\n",
       "      <td>-58.426323</td>\n",
       "      <td>Palermo</td>\n",
       "      <td>Departamento</td>\n",
       "      <td>3.0</td>\n",
       "      <td>2.0</td>\n",
       "      <td>NaN</td>\n",
       "      <td>60.0</td>\n",
       "      <td>98000.0</td>\n",
       "      <td>3 ambientes, muy luminoso, amplio!! Oportunidad !</td>\n",
       "    </tr>\n",
       "    <tr>\n",
       "      <th>289704</th>\n",
       "      <td>2021-10-20</td>\n",
       "      <td>2022-01-27</td>\n",
       "      <td>-34.573037</td>\n",
       "      <td>-58.454206</td>\n",
       "      <td>Colegiales</td>\n",
       "      <td>PH</td>\n",
       "      <td>NaN</td>\n",
       "      <td>NaN</td>\n",
       "      <td>30.0</td>\n",
       "      <td>30.0</td>\n",
       "      <td>55000.0</td>\n",
       "      <td>PH - Colegiales</td>\n",
       "    </tr>\n",
       "    <tr>\n",
       "      <th>74628</th>\n",
       "      <td>2021-07-03</td>\n",
       "      <td>2021-11-03</td>\n",
       "      <td>-34.674396</td>\n",
       "      <td>-58.476608</td>\n",
       "      <td>Villa Lugano</td>\n",
       "      <td>Departamento</td>\n",
       "      <td>2.0</td>\n",
       "      <td>1.0</td>\n",
       "      <td>53.0</td>\n",
       "      <td>44.0</td>\n",
       "      <td>97460.0</td>\n",
       "      <td>Venta 2 ambientes en Lugano</td>\n",
       "    </tr>\n",
       "    <tr>\n",
       "      <th>273567</th>\n",
       "      <td>2021-10-25</td>\n",
       "      <td>2021-10-27</td>\n",
       "      <td>NaN</td>\n",
       "      <td>NaN</td>\n",
       "      <td>Palermo</td>\n",
       "      <td>Departamento</td>\n",
       "      <td>1.0</td>\n",
       "      <td>1.0</td>\n",
       "      <td>52.0</td>\n",
       "      <td>26.0</td>\n",
       "      <td>69000.0</td>\n",
       "      <td>Departamento - Palermo</td>\n",
       "    </tr>\n",
       "    <tr>\n",
       "      <th>449761</th>\n",
       "      <td>2021-12-16</td>\n",
       "      <td>2022-03-25</td>\n",
       "      <td>-34.621782</td>\n",
       "      <td>-58.424452</td>\n",
       "      <td>Almagro</td>\n",
       "      <td>Departamento</td>\n",
       "      <td>2.0</td>\n",
       "      <td>1.0</td>\n",
       "      <td>54.0</td>\n",
       "      <td>48.0</td>\n",
       "      <td>109900.0</td>\n",
       "      <td>VENTA-DPTO 2 AMB-PISO 9-AMENITIES-ALMAGRO-C/RE...</td>\n",
       "    </tr>\n",
       "  </tbody>\n",
       "</table>\n",
       "<p>831 rows × 12 columns</p>\n",
       "</div>"
      ],
      "text/plain": [
       "       start_date   end_date    latitud   longitud        barrio  \\\n",
       "6873   2021-02-09 2021-02-11 -34.633226 -58.376409      Barracas   \n",
       "46265  2021-04-21 2021-06-05 -34.544750 -58.461909         Nuñez   \n",
       "209331 2021-11-29 2022-01-27 -34.600297 -58.462799      Paternal   \n",
       "383271 2021-04-27 2021-06-05 -34.601884 -58.373721   San Nicolás   \n",
       "457895 2021-05-08 2021-05-24 -34.566760 -58.441816      Belgrano   \n",
       "...           ...        ...        ...        ...           ...   \n",
       "14986  2021-04-22 2021-04-29 -34.587183 -58.426323       Palermo   \n",
       "289704 2021-10-20 2022-01-27 -34.573037 -58.454206    Colegiales   \n",
       "74628  2021-07-03 2021-11-03 -34.674396 -58.476608  Villa Lugano   \n",
       "273567 2021-10-25 2021-10-27        NaN        NaN       Palermo   \n",
       "449761 2021-12-16 2022-03-25 -34.621782 -58.424452       Almagro   \n",
       "\n",
       "       property_type  property_rooms  property_bedrooms  \\\n",
       "6873            Casa             NaN                7.0   \n",
       "46265   Departamento             NaN                NaN   \n",
       "209331  Departamento             2.0                1.0   \n",
       "383271  Departamento             8.0                7.0   \n",
       "457895  Departamento             5.0                3.0   \n",
       "...              ...             ...                ...   \n",
       "14986   Departamento             3.0                2.0   \n",
       "289704            PH             NaN                NaN   \n",
       "74628   Departamento             2.0                1.0   \n",
       "273567  Departamento             1.0                1.0   \n",
       "449761  Departamento             2.0                1.0   \n",
       "\n",
       "        property_surface_total  property_surface_covered  property_price  \\\n",
       "6873                       NaN                     265.0        350000.0   \n",
       "46265                     60.0                      55.0        170000.0   \n",
       "209331                    45.0                      40.0         60000.0   \n",
       "383271                   350.0                     340.0        595000.0   \n",
       "457895                   189.0                     180.0        550000.0   \n",
       "...                        ...                       ...             ...   \n",
       "14986                      NaN                      60.0         98000.0   \n",
       "289704                    30.0                      30.0         55000.0   \n",
       "74628                     53.0                      44.0         97460.0   \n",
       "273567                    52.0                      26.0         69000.0   \n",
       "449761                    54.0                      48.0        109900.0   \n",
       "\n",
       "                                           property_title  \n",
       "6873    CASA  SOBRE TERRENO PROPIO  A METROS DE  AVENIDA   \n",
       "46265                                Departamento - Nuñez  \n",
       "209331                CUCHA CUCHA 2400 2 AMB POR ESCALERA  \n",
       "383271                        OFICINAS EDIFICIO ANCHORENA  \n",
       "457895  Excelente Semipiso de 180 mts con balcón al fr...  \n",
       "...                                                   ...  \n",
       "14986   3 ambientes, muy luminoso, amplio!! Oportunidad !  \n",
       "289704                                    PH - Colegiales  \n",
       "74628                         Venta 2 ambientes en Lugano  \n",
       "273567                             Departamento - Palermo  \n",
       "449761  VENTA-DPTO 2 AMB-PISO 9-AMENITIES-ALMAGRO-C/RE...  \n",
       "\n",
       "[831 rows x 12 columns]"
      ]
     },
     "execution_count": 1147,
     "metadata": {},
     "output_type": "execute_result"
    }
   ],
   "source": [
    "duplicados = viviendas_caba_train[viviendas_caba_train.duplicated()]\n",
    "duplicados"
   ]
  },
  {
   "cell_type": "markdown",
   "metadata": {},
   "source": [
    "vemos que tenemos 831 filas duplicadas pero tambien observamos que es posible tener departamentos duplicados ya que en un mismo edificio puede haber haber 2 departamentos casi identicos en cuanto a sus caracteristicas.\n",
    "Por lo que decidimos solo eliminar las casas y PHs duplicadas (ya que es muy poco probable tener 2 o mas con las mismas caracterristicas, precio y barrio)"
   ]
  },
  {
   "cell_type": "code",
   "execution_count": 1148,
   "metadata": {},
   "outputs": [],
   "source": [
    "viviendas_caba_train.drop((duplicados[duplicados.property_type != 'Departamento']).index, axis=0, inplace=True)"
   ]
  },
  {
   "cell_type": "markdown",
   "metadata": {},
   "source": [
    "vemos que eliminamos 72 viviendas duplicadas"
   ]
  },
  {
   "cell_type": "markdown",
   "metadata": {},
   "source": [
    "#### Valores atípicos "
   ]
  },
  {
   "cell_type": "markdown",
   "metadata": {},
   "source": [
    "##### Análisis univariadoComienzo el analisis de valores atípicos graficando atributos de forma univariada."
   ]
  },
  {
   "cell_type": "code",
   "execution_count": 1149,
   "metadata": {},
   "outputs": [
    {
     "data": {
      "image/png": "[encoded data removed]",
      "text/plain": [
       "<Figure size 1080x720 with 2 Axes>"
      ]
     },
     "metadata": {
      "needs_background": "light"
     },
     "output_type": "display_data"
    }
   ],
   "source": [
    "plt.figure(figsize=(15,10))\n",
    "plt.subplot(221)\n",
    "sns.boxplot(y=\"longitud\", data=viviendas_caba_train).set(title = 'Boxplot de longitud' )\n",
    "plt.subplot(222)\n",
    "sns.boxplot(y=\"latitud\", data=viviendas_caba_train).set(title = 'Boxplot de latitud' )\n",
    "plt.show()"
   ]
  },
  {
   "cell_type": "markdown",
   "metadata": {},
   "source": [
    "en cuanto a la latitud y longitud observamos que no tenemos muchos valores atípicos debido a la limpieza por poligonos que hicimos anteriormente\n",
    "\n",
    " ------"
   ]
  },
  {
   "cell_type": "code",
   "execution_count": 1150,
   "metadata": {},
   "outputs": [
    {
     "data": {
      "image/png": "[encoded data removed]",
      "text/plain": [
       "<Figure size 1080x720 with 2 Axes>"
      ]
     },
     "metadata": {
      "needs_background": "light"
     },
     "output_type": "display_data"
    }
   ],
   "source": [
    "plt.figure(figsize=(15,10))\n",
    "plt.subplot(221)\n",
    "sns.boxplot(y=\"property_surface_total\", data=viviendas_caba_train).set(title = 'Boxplot superficie total' )\n",
    "plt.subplot(222)\n",
    "sns.boxplot(y=\"property_surface_covered\", data=viviendas_caba_train).set(title = 'Boxplot superficie cubierta' )\n",
    "plt.show()"
   ]
  },
  {
   "cell_type": "markdown",
   "metadata": {},
   "source": [
    "en cuanto a las superficies total y cubierta tenemos valores muy atípicos que hacen imposible entender el gráfico por lo que realizamos una limpieza manual"
   ]
  },
  {
   "cell_type": "code",
   "execution_count": 1151,
   "metadata": {},
   "outputs": [
    {
     "name": "stdout",
     "output_type": "stream",
     "text": [
      "(25, 12)\n"
     ]
    },
    {
     "data": {
      "text/html": [
       "<div>\n",
       "<style scoped>\n",
       "    .dataframe tbody tr th:only-of-type {\n",
       "        vertical-align: middle;\n",
       "    }\n",
       "\n",
       "    .dataframe tbody tr th {\n",
       "        vertical-align: top;\n",
       "    }\n",
       "\n",
       "    .dataframe thead th {\n",
       "        text-align: right;\n",
       "    }\n",
       "</style>\n",
       "<table border=\"1\" class=\"dataframe\">\n",
       "  <thead>\n",
       "    <tr style=\"text-align: right;\">\n",
       "      <th></th>\n",
       "      <th>start_date</th>\n",
       "      <th>end_date</th>\n",
       "      <th>latitud</th>\n",
       "      <th>longitud</th>\n",
       "      <th>barrio</th>\n",
       "      <th>property_type</th>\n",
       "      <th>property_rooms</th>\n",
       "      <th>property_bedrooms</th>\n",
       "      <th>property_surface_total</th>\n",
       "      <th>property_surface_covered</th>\n",
       "      <th>property_price</th>\n",
       "      <th>property_title</th>\n",
       "    </tr>\n",
       "  </thead>\n",
       "  <tbody>\n",
       "    <tr>\n",
       "      <th>129214</th>\n",
       "      <td>2021-07-01</td>\n",
       "      <td>2200-12-31</td>\n",
       "      <td>-34.599421</td>\n",
       "      <td>-58.386867</td>\n",
       "      <td>Barrio Norte</td>\n",
       "      <td>Departamento</td>\n",
       "      <td>5.0</td>\n",
       "      <td>3.0</td>\n",
       "      <td>137000.0</td>\n",
       "      <td>135.0</td>\n",
       "      <td>390000.0</td>\n",
       "      <td>Alquiler  Divino 5 Amb. - 137 M²  en Barrio Norte</td>\n",
       "    </tr>\n",
       "    <tr>\n",
       "      <th>459847</th>\n",
       "      <td>2021-01-05</td>\n",
       "      <td>2021-01-09</td>\n",
       "      <td>-34.628247</td>\n",
       "      <td>-58.437696</td>\n",
       "      <td>Caballito</td>\n",
       "      <td>Departamento</td>\n",
       "      <td>4.0</td>\n",
       "      <td>3.0</td>\n",
       "      <td>18096.0</td>\n",
       "      <td>8568.0</td>\n",
       "      <td>324558.0</td>\n",
       "      <td>4 Ambientes Venta de Pozo Caballito Full Ameni...</td>\n",
       "    </tr>\n",
       "    <tr>\n",
       "      <th>362741</th>\n",
       "      <td>2021-01-16</td>\n",
       "      <td>2021-04-14</td>\n",
       "      <td>-34.579163</td>\n",
       "      <td>-58.455725</td>\n",
       "      <td>Colegiales</td>\n",
       "      <td>Departamento</td>\n",
       "      <td>1.0</td>\n",
       "      <td>1.0</td>\n",
       "      <td>31000.0</td>\n",
       "      <td>26.0</td>\n",
       "      <td>51100.0</td>\n",
       "      <td>Av. Alvarez Thomas 970 - Colegiales - Capital ...</td>\n",
       "    </tr>\n",
       "    <tr>\n",
       "      <th>117835</th>\n",
       "      <td>2021-08-18</td>\n",
       "      <td>2021-08-23</td>\n",
       "      <td>-34.550093</td>\n",
       "      <td>-58.483034</td>\n",
       "      <td>Saavedra</td>\n",
       "      <td>Departamento</td>\n",
       "      <td>2.0</td>\n",
       "      <td>1.0</td>\n",
       "      <td>43086.0</td>\n",
       "      <td>40038.0</td>\n",
       "      <td>114000.0</td>\n",
       "      <td>Venta Departamento 2 amb a Estrenar, Saavedra.</td>\n",
       "    </tr>\n",
       "    <tr>\n",
       "      <th>324541</th>\n",
       "      <td>2021-03-03</td>\n",
       "      <td>2021-03-23</td>\n",
       "      <td>-34.628721</td>\n",
       "      <td>-58.421383</td>\n",
       "      <td>Boedo</td>\n",
       "      <td>PH</td>\n",
       "      <td>4.0</td>\n",
       "      <td>3.0</td>\n",
       "      <td>20041.0</td>\n",
       "      <td>139.0</td>\n",
       "      <td>390000.0</td>\n",
       "      <td>PH 4 AMB.C/QUINCHO Y TERRAZA AL FRENTE S/EXPENSAS</td>\n",
       "    </tr>\n",
       "    <tr>\n",
       "      <th>370918</th>\n",
       "      <td>2021-04-24</td>\n",
       "      <td>2021-06-05</td>\n",
       "      <td>-34.571747</td>\n",
       "      <td>-58.422612</td>\n",
       "      <td>Palermo</td>\n",
       "      <td>Departamento</td>\n",
       "      <td>4.0</td>\n",
       "      <td>3.0</td>\n",
       "      <td>42110.0</td>\n",
       "      <td>307.0</td>\n",
       "      <td>1568760.0</td>\n",
       "      <td>Reventa - Departamento - Palermo Nuevo - Liber...</td>\n",
       "    </tr>\n",
       "    <tr>\n",
       "      <th>219021</th>\n",
       "      <td>2021-03-07</td>\n",
       "      <td>2022-02-09</td>\n",
       "      <td>-34.636532</td>\n",
       "      <td>-58.376406</td>\n",
       "      <td>Barracas</td>\n",
       "      <td>Departamento</td>\n",
       "      <td>4.0</td>\n",
       "      <td>3.0</td>\n",
       "      <td>72060.0</td>\n",
       "      <td>90.0</td>\n",
       "      <td>210000.0</td>\n",
       "      <td>VENTA SEMIPISO 4 AMBIENTES, EXCELENTE OPORTUIDAD</td>\n",
       "    </tr>\n",
       "    <tr>\n",
       "      <th>370921</th>\n",
       "      <td>2021-04-24</td>\n",
       "      <td>2021-06-05</td>\n",
       "      <td>-34.571747</td>\n",
       "      <td>-58.422612</td>\n",
       "      <td>Palermo</td>\n",
       "      <td>Departamento</td>\n",
       "      <td>5.0</td>\n",
       "      <td>4.0</td>\n",
       "      <td>42110.0</td>\n",
       "      <td>307.0</td>\n",
       "      <td>2890500.0</td>\n",
       "      <td>Reventa - Departamento - Palermo Nuevo - Liber...</td>\n",
       "    </tr>\n",
       "    <tr>\n",
       "      <th>72521</th>\n",
       "      <td>2021-05-29</td>\n",
       "      <td>2021-06-13</td>\n",
       "      <td>-34.600113</td>\n",
       "      <td>-58.403649</td>\n",
       "      <td>Balvanera</td>\n",
       "      <td>Departamento</td>\n",
       "      <td>2.0</td>\n",
       "      <td>1.0</td>\n",
       "      <td>33800.0</td>\n",
       "      <td>31670.0</td>\n",
       "      <td>66000.0</td>\n",
       "      <td>VENTA 2 AMBIENTES CON RENTA</td>\n",
       "    </tr>\n",
       "    <tr>\n",
       "      <th>106598</th>\n",
       "      <td>2021-03-11</td>\n",
       "      <td>2021-04-20</td>\n",
       "      <td>-34.587320</td>\n",
       "      <td>-58.401556</td>\n",
       "      <td>Barrio Norte</td>\n",
       "      <td>Departamento</td>\n",
       "      <td>2.0</td>\n",
       "      <td>1.0</td>\n",
       "      <td>56740.0</td>\n",
       "      <td>52540.0</td>\n",
       "      <td>175000.0</td>\n",
       "      <td>EXCELENTE DEPARTAMENTO DE 2 AMBIENTES DE CATEG...</td>\n",
       "    </tr>\n",
       "    <tr>\n",
       "      <th>370932</th>\n",
       "      <td>2021-04-24</td>\n",
       "      <td>2021-06-05</td>\n",
       "      <td>-34.571747</td>\n",
       "      <td>-58.422612</td>\n",
       "      <td>Palermo</td>\n",
       "      <td>Departamento</td>\n",
       "      <td>4.0</td>\n",
       "      <td>3.0</td>\n",
       "      <td>42110.0</td>\n",
       "      <td>307.0</td>\n",
       "      <td>1691800.0</td>\n",
       "      <td>REVENTA: L'avenue- Departamento de 4 Ambientes...</td>\n",
       "    </tr>\n",
       "    <tr>\n",
       "      <th>370920</th>\n",
       "      <td>2021-04-24</td>\n",
       "      <td>2021-06-05</td>\n",
       "      <td>-34.571747</td>\n",
       "      <td>-58.422612</td>\n",
       "      <td>Palermo</td>\n",
       "      <td>Departamento</td>\n",
       "      <td>5.0</td>\n",
       "      <td>4.0</td>\n",
       "      <td>42110.0</td>\n",
       "      <td>307.0</td>\n",
       "      <td>2890500.0</td>\n",
       "      <td>Reventa - Departamento - Palermo Nuevo - Liber...</td>\n",
       "    </tr>\n",
       "    <tr>\n",
       "      <th>352883</th>\n",
       "      <td>2021-06-25</td>\n",
       "      <td>2021-07-08</td>\n",
       "      <td>-34.550093</td>\n",
       "      <td>-58.483034</td>\n",
       "      <td>Saavedra</td>\n",
       "      <td>Departamento</td>\n",
       "      <td>1.0</td>\n",
       "      <td>1.0</td>\n",
       "      <td>29064.0</td>\n",
       "      <td>29064.0</td>\n",
       "      <td>87400.0</td>\n",
       "      <td>VENTA MONOAMBIENTE SAAVEDRA A ESTRENAR</td>\n",
       "    </tr>\n",
       "    <tr>\n",
       "      <th>72316</th>\n",
       "      <td>2021-05-29</td>\n",
       "      <td>2021-06-08</td>\n",
       "      <td>-34.578917</td>\n",
       "      <td>-58.429373</td>\n",
       "      <td>Palermo</td>\n",
       "      <td>Departamento</td>\n",
       "      <td>2.0</td>\n",
       "      <td>1.0</td>\n",
       "      <td>61130.0</td>\n",
       "      <td>53030.0</td>\n",
       "      <td>225000.0</td>\n",
       "      <td>VENTA DEPARTAMENTO 2 AMBIENTES PALERMO C/AMENI...</td>\n",
       "    </tr>\n",
       "    <tr>\n",
       "      <th>126869</th>\n",
       "      <td>2021-10-05</td>\n",
       "      <td>2021-11-04</td>\n",
       "      <td>-34.579163</td>\n",
       "      <td>-58.455725</td>\n",
       "      <td>Colegiales</td>\n",
       "      <td>Departamento</td>\n",
       "      <td>1.0</td>\n",
       "      <td>1.0</td>\n",
       "      <td>31000.0</td>\n",
       "      <td>26.0</td>\n",
       "      <td>51100.0</td>\n",
       "      <td>Av. Alvarez Thomas 970 - Colegiales - Capital ...</td>\n",
       "    </tr>\n",
       "    <tr>\n",
       "      <th>405324</th>\n",
       "      <td>2021-01-07</td>\n",
       "      <td>2021-06-02</td>\n",
       "      <td>-34.569963</td>\n",
       "      <td>-58.481658</td>\n",
       "      <td>Villa Urquiza</td>\n",
       "      <td>PH</td>\n",
       "      <td>4.0</td>\n",
       "      <td>3.0</td>\n",
       "      <td>123000.0</td>\n",
       "      <td>123000.0</td>\n",
       "      <td>165000.0</td>\n",
       "      <td>VENTA OPORTUNIDAD! PH. IMPECABLE, 4 AMBIENTES</td>\n",
       "    </tr>\n",
       "    <tr>\n",
       "      <th>370917</th>\n",
       "      <td>2021-04-24</td>\n",
       "      <td>2021-06-05</td>\n",
       "      <td>-34.571747</td>\n",
       "      <td>-58.422612</td>\n",
       "      <td>Palermo</td>\n",
       "      <td>Departamento</td>\n",
       "      <td>4.0</td>\n",
       "      <td>3.0</td>\n",
       "      <td>42110.0</td>\n",
       "      <td>222.0</td>\n",
       "      <td>1910920.0</td>\n",
       "      <td>Reventa - Departamento - Palermo Nuevo - Liber...</td>\n",
       "    </tr>\n",
       "    <tr>\n",
       "      <th>275253</th>\n",
       "      <td>2021-09-15</td>\n",
       "      <td>2021-10-07</td>\n",
       "      <td>-34.579163</td>\n",
       "      <td>-58.455725</td>\n",
       "      <td>Colegiales</td>\n",
       "      <td>Departamento</td>\n",
       "      <td>1.0</td>\n",
       "      <td>1.0</td>\n",
       "      <td>31000.0</td>\n",
       "      <td>26.0</td>\n",
       "      <td>51100.0</td>\n",
       "      <td>Av. Alvarez Thomas 970 - Colegiales - Capital ...</td>\n",
       "    </tr>\n",
       "    <tr>\n",
       "      <th>353009</th>\n",
       "      <td>2021-06-25</td>\n",
       "      <td>2021-08-10</td>\n",
       "      <td>-34.579163</td>\n",
       "      <td>-58.455725</td>\n",
       "      <td>Colegiales</td>\n",
       "      <td>Departamento</td>\n",
       "      <td>1.0</td>\n",
       "      <td>1.0</td>\n",
       "      <td>31000.0</td>\n",
       "      <td>26.0</td>\n",
       "      <td>51100.0</td>\n",
       "      <td>Av. Alvarez Thomas 970 - Colegiales - Capital ...</td>\n",
       "    </tr>\n",
       "    <tr>\n",
       "      <th>372779</th>\n",
       "      <td>2021-08-24</td>\n",
       "      <td>2021-09-03</td>\n",
       "      <td>-34.555278</td>\n",
       "      <td>-58.459786</td>\n",
       "      <td>Belgrano</td>\n",
       "      <td>Departamento</td>\n",
       "      <td>4.0</td>\n",
       "      <td>3.0</td>\n",
       "      <td>100068.0</td>\n",
       "      <td>100051.0</td>\n",
       "      <td>420000.0</td>\n",
       "      <td>VENTA PISO 4 AMBIENTES BELGRANO COCHERA BALCON</td>\n",
       "    </tr>\n",
       "    <tr>\n",
       "      <th>237392</th>\n",
       "      <td>2021-02-27</td>\n",
       "      <td>2021-03-03</td>\n",
       "      <td>-34.628721</td>\n",
       "      <td>-58.421383</td>\n",
       "      <td>Boedo</td>\n",
       "      <td>PH</td>\n",
       "      <td>4.0</td>\n",
       "      <td>3.0</td>\n",
       "      <td>20041.0</td>\n",
       "      <td>139.0</td>\n",
       "      <td>390000.0</td>\n",
       "      <td>PH 4 AMB.C/QUINCHO Y TERRAZA AL FRENTE S/EXPENSAS</td>\n",
       "    </tr>\n",
       "    <tr>\n",
       "      <th>370919</th>\n",
       "      <td>2021-04-24</td>\n",
       "      <td>2021-06-05</td>\n",
       "      <td>-34.571747</td>\n",
       "      <td>-58.422612</td>\n",
       "      <td>Palermo</td>\n",
       "      <td>Departamento</td>\n",
       "      <td>5.0</td>\n",
       "      <td>4.0</td>\n",
       "      <td>42110.0</td>\n",
       "      <td>307.0</td>\n",
       "      <td>3044250.0</td>\n",
       "      <td>Reventa - Departamento - Palermo Nuevo - Liber...</td>\n",
       "    </tr>\n",
       "    <tr>\n",
       "      <th>84073</th>\n",
       "      <td>2021-02-05</td>\n",
       "      <td>2021-05-16</td>\n",
       "      <td>-34.588175</td>\n",
       "      <td>-58.396261</td>\n",
       "      <td>Recoleta</td>\n",
       "      <td>Departamento</td>\n",
       "      <td>1.0</td>\n",
       "      <td>1.0</td>\n",
       "      <td>36000.0</td>\n",
       "      <td>30.0</td>\n",
       "      <td>90000.0</td>\n",
       "      <td>Departamento Monoambiente alquiler temporario ...</td>\n",
       "    </tr>\n",
       "    <tr>\n",
       "      <th>370922</th>\n",
       "      <td>2021-04-24</td>\n",
       "      <td>2021-06-05</td>\n",
       "      <td>-34.571747</td>\n",
       "      <td>-58.422612</td>\n",
       "      <td>Palermo</td>\n",
       "      <td>Departamento</td>\n",
       "      <td>5.0</td>\n",
       "      <td>4.0</td>\n",
       "      <td>42110.0</td>\n",
       "      <td>307.0</td>\n",
       "      <td>2829000.0</td>\n",
       "      <td>Reventa - Departamento - Palermo Nuevo - Liber...</td>\n",
       "    </tr>\n",
       "    <tr>\n",
       "      <th>300394</th>\n",
       "      <td>2021-08-10</td>\n",
       "      <td>2021-09-15</td>\n",
       "      <td>-34.579163</td>\n",
       "      <td>-58.455725</td>\n",
       "      <td>Colegiales</td>\n",
       "      <td>Departamento</td>\n",
       "      <td>1.0</td>\n",
       "      <td>1.0</td>\n",
       "      <td>31000.0</td>\n",
       "      <td>26.0</td>\n",
       "      <td>51100.0</td>\n",
       "      <td>Av. Alvarez Thomas 970 - Colegiales - Capital ...</td>\n",
       "    </tr>\n",
       "  </tbody>\n",
       "</table>\n",
       "</div>"
      ],
      "text/plain": [
       "       start_date   end_date    latitud   longitud         barrio  \\\n",
       "129214 2021-07-01 2200-12-31 -34.599421 -58.386867   Barrio Norte   \n",
       "459847 2021-01-05 2021-01-09 -34.628247 -58.437696      Caballito   \n",
       "362741 2021-01-16 2021-04-14 -34.579163 -58.455725     Colegiales   \n",
       "117835 2021-08-18 2021-08-23 -34.550093 -58.483034       Saavedra   \n",
       "324541 2021-03-03 2021-03-23 -34.628721 -58.421383          Boedo   \n",
       "370918 2021-04-24 2021-06-05 -34.571747 -58.422612        Palermo   \n",
       "219021 2021-03-07 2022-02-09 -34.636532 -58.376406       Barracas   \n",
       "370921 2021-04-24 2021-06-05 -34.571747 -58.422612        Palermo   \n",
       "72521  2021-05-29 2021-06-13 -34.600113 -58.403649      Balvanera   \n",
       "106598 2021-03-11 2021-04-20 -34.587320 -58.401556   Barrio Norte   \n",
       "370932 2021-04-24 2021-06-05 -34.571747 -58.422612        Palermo   \n",
       "370920 2021-04-24 2021-06-05 -34.571747 -58.422612        Palermo   \n",
       "352883 2021-06-25 2021-07-08 -34.550093 -58.483034       Saavedra   \n",
       "72316  2021-05-29 2021-06-08 -34.578917 -58.429373        Palermo   \n",
       "126869 2021-10-05 2021-11-04 -34.579163 -58.455725     Colegiales   \n",
       "405324 2021-01-07 2021-06-02 -34.569963 -58.481658  Villa Urquiza   \n",
       "370917 2021-04-24 2021-06-05 -34.571747 -58.422612        Palermo   \n",
       "275253 2021-09-15 2021-10-07 -34.579163 -58.455725     Colegiales   \n",
       "353009 2021-06-25 2021-08-10 -34.579163 -58.455725     Colegiales   \n",
       "372779 2021-08-24 2021-09-03 -34.555278 -58.459786       Belgrano   \n",
       "237392 2021-02-27 2021-03-03 -34.628721 -58.421383          Boedo   \n",
       "370919 2021-04-24 2021-06-05 -34.571747 -58.422612        Palermo   \n",
       "84073  2021-02-05 2021-05-16 -34.588175 -58.396261       Recoleta   \n",
       "370922 2021-04-24 2021-06-05 -34.571747 -58.422612        Palermo   \n",
       "300394 2021-08-10 2021-09-15 -34.579163 -58.455725     Colegiales   \n",
       "\n",
       "       property_type  property_rooms  property_bedrooms  \\\n",
       "129214  Departamento             5.0                3.0   \n",
       "459847  Departamento             4.0                3.0   \n",
       "362741  Departamento             1.0                1.0   \n",
       "117835  Departamento             2.0                1.0   \n",
       "324541            PH             4.0                3.0   \n",
       "370918  Departamento             4.0                3.0   \n",
       "219021  Departamento             4.0                3.0   \n",
       "370921  Departamento             5.0                4.0   \n",
       "72521   Departamento             2.0                1.0   \n",
       "106598  Departamento             2.0                1.0   \n",
       "370932  Departamento             4.0                3.0   \n",
       "370920  Departamento             5.0                4.0   \n",
       "352883  Departamento             1.0                1.0   \n",
       "72316   Departamento             2.0                1.0   \n",
       "126869  Departamento             1.0                1.0   \n",
       "405324            PH             4.0                3.0   \n",
       "370917  Departamento             4.0                3.0   \n",
       "275253  Departamento             1.0                1.0   \n",
       "353009  Departamento             1.0                1.0   \n",
       "372779  Departamento             4.0                3.0   \n",
       "237392            PH             4.0                3.0   \n",
       "370919  Departamento             5.0                4.0   \n",
       "84073   Departamento             1.0                1.0   \n",
       "370922  Departamento             5.0                4.0   \n",
       "300394  Departamento             1.0                1.0   \n",
       "\n",
       "        property_surface_total  property_surface_covered  property_price  \\\n",
       "129214                137000.0                     135.0        390000.0   \n",
       "459847                 18096.0                    8568.0        324558.0   \n",
       "362741                 31000.0                      26.0         51100.0   \n",
       "117835                 43086.0                   40038.0        114000.0   \n",
       "324541                 20041.0                     139.0        390000.0   \n",
       "370918                 42110.0                     307.0       1568760.0   \n",
       "219021                 72060.0                      90.0        210000.0   \n",
       "370921                 42110.0                     307.0       2890500.0   \n",
       "72521                  33800.0                   31670.0         66000.0   \n",
       "106598                 56740.0                   52540.0        175000.0   \n",
       "370932                 42110.0                     307.0       1691800.0   \n",
       "370920                 42110.0                     307.0       2890500.0   \n",
       "352883                 29064.0                   29064.0         87400.0   \n",
       "72316                  61130.0                   53030.0        225000.0   \n",
       "126869                 31000.0                      26.0         51100.0   \n",
       "405324                123000.0                  123000.0        165000.0   \n",
       "370917                 42110.0                     222.0       1910920.0   \n",
       "275253                 31000.0                      26.0         51100.0   \n",
       "353009                 31000.0                      26.0         51100.0   \n",
       "372779                100068.0                  100051.0        420000.0   \n",
       "237392                 20041.0                     139.0        390000.0   \n",
       "370919                 42110.0                     307.0       3044250.0   \n",
       "84073                  36000.0                      30.0         90000.0   \n",
       "370922                 42110.0                     307.0       2829000.0   \n",
       "300394                 31000.0                      26.0         51100.0   \n",
       "\n",
       "                                           property_title  \n",
       "129214  Alquiler  Divino 5 Amb. - 137 M²  en Barrio Norte  \n",
       "459847  4 Ambientes Venta de Pozo Caballito Full Ameni...  \n",
       "362741  Av. Alvarez Thomas 970 - Colegiales - Capital ...  \n",
       "117835     Venta Departamento 2 amb a Estrenar, Saavedra.  \n",
       "324541  PH 4 AMB.C/QUINCHO Y TERRAZA AL FRENTE S/EXPENSAS  \n",
       "370918  Reventa - Departamento - Palermo Nuevo - Liber...  \n",
       "219021   VENTA SEMIPISO 4 AMBIENTES, EXCELENTE OPORTUIDAD  \n",
       "370921  Reventa - Departamento - Palermo Nuevo - Liber...  \n",
       "72521                         VENTA 2 AMBIENTES CON RENTA  \n",
       "106598  EXCELENTE DEPARTAMENTO DE 2 AMBIENTES DE CATEG...  \n",
       "370932  REVENTA: L'avenue- Departamento de 4 Ambientes...  \n",
       "370920  Reventa - Departamento - Palermo Nuevo - Liber...  \n",
       "352883             VENTA MONOAMBIENTE SAAVEDRA A ESTRENAR  \n",
       "72316   VENTA DEPARTAMENTO 2 AMBIENTES PALERMO C/AMENI...  \n",
       "126869  Av. Alvarez Thomas 970 - Colegiales - Capital ...  \n",
       "405324      VENTA OPORTUNIDAD! PH. IMPECABLE, 4 AMBIENTES  \n",
       "370917  Reventa - Departamento - Palermo Nuevo - Liber...  \n",
       "275253  Av. Alvarez Thomas 970 - Colegiales - Capital ...  \n",
       "353009  Av. Alvarez Thomas 970 - Colegiales - Capital ...  \n",
       "372779    VENTA PISO 4 AMBIENTES BELGRANO COCHERA BALCON   \n",
       "237392  PH 4 AMB.C/QUINCHO Y TERRAZA AL FRENTE S/EXPENSAS  \n",
       "370919  Reventa - Departamento - Palermo Nuevo - Liber...  \n",
       "84073   Departamento Monoambiente alquiler temporario ...  \n",
       "370922  Reventa - Departamento - Palermo Nuevo - Liber...  \n",
       "300394  Av. Alvarez Thomas 970 - Colegiales - Capital ...  "
      ]
     },
     "execution_count": 1151,
     "metadata": {},
     "output_type": "execute_result"
    }
   ],
   "source": [
    "print(viviendas_caba_train[viviendas_caba_train.property_surface_total > 15000].shape)\n",
    "viviendas_caba_train[viviendas_caba_train.property_surface_total > 15000].head(50) \n",
    "#Creo que 15000 es un buen numero para cortar porque buscando errores de unidades es raro (casi imposible) que exista una vivienda de menos de 15m^2\n",
    "#El problema es que pasar los datos a mano es una paja"
   ]
  },
  {
   "cell_type": "code",
   "execution_count": 1152,
   "metadata": {},
   "outputs": [],
   "source": [
    "viviendas_caba_train.loc[viviendas_caba_train.index == 129214, 'property_surface_total'] = 137\n",
    "viviendas_caba_train.loc[viviendas_caba_train.index == 219021, 'property_surface_total'] = 72\n",
    "viviendas_caba_train.loc[viviendas_caba_train.index == 106598, 'property_surface_total'] = 56.74\n",
    "viviendas_caba_train.loc[viviendas_caba_train.index == 405324, 'property_surface_total'] = 123\n",
    "viviendas_caba_train.loc[viviendas_caba_train.index == 372779, 'property_surface_total'] = 100.68\n",
    "viviendas_caba_train.loc[viviendas_caba_train.index == 372779, 'property_surface_total'] = 100.68\n",
    "\n",
    "#DEBERIAMOS TRATARLOS ASI? son 20 filas con problemas de unidades aprox \n",
    "#ARREGLAR TANTO EN SUP TOT COMO EN SUP CUBIERTA"
   ]
  },
  {
   "cell_type": "markdown",
   "metadata": {},
   "source": [
    "Ver si borramos esas 20 propiedades o si las arreglamos a mano"
   ]
  },
  {
   "cell_type": "code",
   "execution_count": 1153,
   "metadata": {},
   "outputs": [
    {
     "data": {
      "image/png": "[encoded data removed]",
      "text/plain": [
       "<Figure size 1080x720 with 2 Axes>"
      ]
     },
     "metadata": {
      "needs_background": "light"
     },
     "output_type": "display_data"
    }
   ],
   "source": [
    "plt.figure(figsize=(15,10))\n",
    "plt.subplot(221)\n",
    "sns.boxplot(y=\"property_surface_total\", data=viviendas_caba_train[viviendas_caba_train.property_surface_total<15000]).set(title = 'Boxplot superficie total' )\n",
    "plt.subplot(222)\n",
    "sns.boxplot(y=\"property_surface_covered\", data=viviendas_caba_train[viviendas_caba_train.property_surface_covered<15000]).set(title = 'Boxplot superficie cubierta' )\n",
    "plt.show()"
   ]
  },
  {
   "cell_type": "markdown",
   "metadata": {},
   "source": [
    "Así quedarían los gráficos luego de la limpieza manual\n",
    "\n",
    "-----"
   ]
  },
  {
   "cell_type": "code",
   "execution_count": 1154,
   "metadata": {},
   "outputs": [
    {
     "data": {
      "image/png": "[encoded data removed]",
      "text/plain": [
       "<Figure size 432x288 with 1 Axes>"
      ]
     },
     "metadata": {
      "needs_background": "light"
     },
     "output_type": "display_data"
    }
   ],
   "source": [
    "boxplot_rooms = viviendas_caba_train.boxplot(column = ['property_rooms','property_bedrooms']).set(title= 'Boxplot de cantidad de habitaciones y dormitorios')"
   ]
  },
  {
   "cell_type": "markdown",
   "metadata": {},
   "source": [
    "en cuanto a habitaciones consideramos que es aproppiado analizar y reparar en caso de ser necesario a todas aquellas propuiedades con mas de 15 habitaciones.\n",
    "Por otro lado debemos ver que se hace con las viviendas que tienen mas dormitorios que habitaciones\n",
    "\n",
    " -----"
   ]
  },
  {
   "cell_type": "code",
   "execution_count": 1155,
   "metadata": {},
   "outputs": [
    {
     "data": {
      "image/png": "[encoded data removed]",
      "text/plain": [
       "<Figure size 432x288 with 1 Axes>"
      ]
     },
     "metadata": {
      "needs_background": "light"
     },
     "output_type": "display_data"
    }
   ],
   "source": [
    "boxplot_price = viviendas_caba_train.boxplot(column = ['property_price']).set(title = 'Box plot precio de propiedad')"
   ]
  },
  {
   "cell_type": "markdown",
   "metadata": {},
   "source": [
    "en cuanto a precio consideramos que es aproppiado analizar y reparar en caso de ser necesario a todas aquellas propuiedades con precio superior a 0.1e7 = 1Millon\n",
    "\n",
    " -----"
   ]
  },
  {
   "cell_type": "markdown",
   "metadata": {},
   "source": [
    "De aqui se concluye:\n",
    "\n",
    "+ Hay varios outliers en todas las variables.\n",
    "+ Hay valores de superficie demasiado grandes como para pertenecer a un PH, casa, o departamento\n",
    "+ Los outliers en cantidades de ambientes podrian pertenecer a casas muy grandes, deberian ser muy pocas en CABA.\n",
    "+ La variedad de precios es demasiado grande, inferimos que hubieron casos de errores en la carga de los datos. "
   ]
  },
  {
   "cell_type": "markdown",
   "metadata": {},
   "source": [
    "##### Análisis multivariado"
   ]
  },
  {
   "cell_type": "markdown",
   "metadata": {},
   "source": [
    "estan los graficos de arriba. ver si los ponemos de vuelta o los cambiamos de lugar"
   ]
  },
  {
   "cell_type": "markdown",
   "metadata": {},
   "source": [
    "Tratamiento a aplicar:      //decidir para cada caso\n",
    "+ superficie -> podriamos recortar\n",
    "+ cuartos -> recortar\n"
   ]
  },
  {
   "cell_type": "code",
   "execution_count": 1156,
   "metadata": {},
   "outputs": [
    {
     "data": {
      "image/png": "[encoded data removed]",
      "text/plain": [
       "<Figure size 432x288 with 1 Axes>"
      ]
     },
     "metadata": {
      "needs_background": "light"
     },
     "output_type": "display_data"
    }
   ],
   "source": [
    "grf_price_surface=viviendas_caba_train.plot.scatter(x=\"property_surface_total\", y=\"property_price\", s=10).set(title=\"precio por superficie total\",xlabel='property_total_surface',ylabel='property_price') "
   ]
  },
  {
   "cell_type": "markdown",
   "metadata": {},
   "source": [
    "De este grafico vemos dos cosas:\n",
    "+ No se ve una correlacion a simple vista de precio-superficie total. Suponemos que se debe a que influye mas la zona que la superficie total en el precio de las propiedades.\n",
    "+ Hay varios outliers previamente no detectados: \n",
    "    + Propiedades con precios extremadamente bajos y superficies enormes.\n",
    "    + Propiedades con precios muy altos y superficies pequeñas.\n",
    "\n",
    "Tambien sabemos que la mayor cantidad de propiedades se encuentran en la zona inferior izquierda del grafico. Una representacion mas precisa de esa zona podria evidenciar una relacion mas clara de los atributos. "
   ]
  },
  {
   "cell_type": "code",
   "execution_count": 1157,
   "metadata": {},
   "outputs": [
    {
     "data": {
      "image/png": "[encoded data removed]",
      "text/plain": [
       "<Figure size 432x288 with 1 Axes>"
      ]
     },
     "metadata": {
      "needs_background": "light"
     },
     "output_type": "display_data"
    }
   ],
   "source": [
    "aux = viviendas_caba_train[viviendas_caba_train.property_surface_total < 500]\n",
    "grf_sup=aux.plot.scatter(x=\"property_bedrooms\", y=\"property_rooms\", s=10).set(title=\"Dispersograma superficie total vs superficie cubierta\",xlabel='property_surface_total',ylabel='superficie cubierta') "
   ]
  },
  {
   "cell_type": "markdown",
   "metadata": {},
   "source": []
  }
 ],
 "metadata": {
  "kernelspec": {
   "display_name": "Python 3.9.12 ('base')",
   "language": "python",
   "name": "python3"
  },
  "language_info": {
   "codemirror_mode": {
    "name": "ipython",
    "version": 3
   },
   "file_extension": ".py",
   "mimetype": "text/x-python",
   "name": "python",
   "nbconvert_exporter": "python",
   "pygments_lexer": "ipython3",
   "version": "3.9.12"
  },
  "orig_nbformat": 4,
  "vscode": {
   "interpreter": {
    "hash": "4b4bfd882b72278d2fc01f7f7f865a6b413108d571dd02a132c40c7c94589e02"
   }
  }
 },
 "nbformat": 4,
 "nbformat_minor": 2
}
