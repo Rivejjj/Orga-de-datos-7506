{
 "cells": [
  {
   "cell_type": "markdown",
   "metadata": {},
   "source": [
    "# <center>Organizaci&oacute;n de Datos</center>\n",
    "#### <center>C&aacute;tedra Ing. Rodriguez, Juan Manuel </center>\n",
    "\n",
    "## <center>Trabajo Práctico 2 : Propiedades en Venta</center>\n",
    "## <center>Parte 1</center>\n",
    "### <center> Grupo 22 </center>\n",
    "### <center> Integrantes: </center>\n",
    "##### <center> Federico Martin Forte,  Francisco Sobral,  Ian Klaus von der Heyde,  Juan Pablo Aschieri,  Joaquin Rivero  </center>"
   ]
  },
  {
   "cell_type": "markdown",
   "metadata": {},
   "source": [
    "# Carga de Datos y librerías"
   ]
  },
  {
   "cell_type": "markdown",
   "metadata": {},
   "source": []
  },
  {
   "cell_type": "code",
   "execution_count": 1,
   "metadata": {},
   "outputs": [],
   "source": [
    "import pandas as pd\n",
    "import seaborn as sns\n",
    "import matplotlib.pyplot as plt\n",
    "import numpy as np\n",
    "import joblib\n",
    "import warnings\n",
    "warnings.filterwarnings('always')\n",
    "import shapely.speedups\n",
    "from IPython.display import Image\n",
    "import re\n",
    "from itertools import combinations\n",
    "import random\n",
    "from sklearn.model_selection import train_test_split, cross_val_score\n",
    "from sklearn.preprocessing import MinMaxScaler\n",
    "from sklearn import metrics\n",
    "from sklearn.metrics import r2_score\n",
    "import xgboost as xgb\n",
    "from sklearn.model_selection import RandomizedSearchCV\n",
    "from sklearn.model_selection import GridSearchCV"
   ]
  },
  {
   "cell_type": "code",
   "execution_count": 2,
   "metadata": {},
   "outputs": [],
   "source": [
    "viviendas_train=pd.read_csv('./TP1/Datasets/viviendas_caba_train.csv').copy()\n",
    "viviendas_test=pd.read_csv('./TP1/Datasets/viviendas_caba_test.csv').copy()"
   ]
  },
  {
   "cell_type": "code",
   "execution_count": 3,
   "metadata": {},
   "outputs": [],
   "source": [
    "viviendas = pd.concat([viviendas_train, viviendas_test]).reset_index()"
   ]
  },
  {
   "cell_type": "markdown",
   "metadata": {},
   "source": [
    "# 1.Procesamiento del Lenguaje Natural"
   ]
  },
  {
   "cell_type": "markdown",
   "metadata": {},
   "source": [
    "## a) Ampliación del dataset"
   ]
  },
  {
   "cell_type": "code",
   "execution_count": 4,
   "metadata": {},
   "outputs": [],
   "source": [
    "veces_palabra = {}\n",
    "indice_de_palabra = {}\n",
    "for indice in viviendas.index:\n",
    "    property_title = viviendas.loc[indice,:].property_title.lower()\n",
    "\n",
    "    if \"/\" in property_title:\n",
    "        property_title = property_title.replace(\"/\",\" \")\n",
    "    if \".\" in property_title:\n",
    "        property_title = property_title.replace(\".\",\" \")\n",
    "    if \",\" in property_title:\n",
    "        property_title = property_title.replace(\",\",\" \")\n",
    "    if \"-\" in property_title:\n",
    "        property_title = property_title.replace(\"-\",\" \")\n",
    "    if \"ó\" in property_title:\n",
    "        property_title = property_title.replace(\"ó\",\"o\")\n",
    "    if \"!\" in property_title:\n",
    "        property_title = property_title.replace(\"!\",\" \")\n",
    "\n",
    "    property_title = property_title.split()\n",
    "    \n",
    "    for palabra in property_title:\n",
    "        palabra = ''.join(char for char in palabra if char.isalnum())\n",
    "        if palabra.isnumeric() or len(palabra) < 3:\n",
    "            continue\n",
    "        veces_palabra[palabra] = veces_palabra.get(palabra, 0)\n",
    "        veces_palabra[palabra] +=1 \n",
    "\n",
    "        indice_de_palabra[palabra]  = indice_de_palabra.get(palabra, list())\n",
    "        indice_de_palabra[palabra].append(indice)\n"
   ]
  },
  {
   "cell_type": "code",
   "execution_count": 5,
   "metadata": {},
   "outputs": [],
   "source": [
    "def agregar_aspecto(aspecto, palabras_clave, dataset):\n",
    "    for palabra in indice_de_palabra.keys():\n",
    "        for palabra_clave in palabras_clave:\n",
    "            if palabra_clave in palabra:\n",
    "                for i in indice_de_palabra[palabra]:\n",
    "                    dataset.loc[i, aspecto] = 'sí'\n",
    "    dataset[aspecto].fillna('unknown', inplace=True)\n",
    "\n",
    "    \n",
    "    print(f'cantidad de {aspecto}: { (dataset[aspecto] == \"sí\").sum() }')"
   ]
  },
  {
   "cell_type": "code",
   "execution_count": 6,
   "metadata": {},
   "outputs": [],
   "source": [
    "palabras_a_ignorar = set(['departamento', 'depto', 'casa', 'ph', 'venta', 'amb', 'ambientes', 'con'])\n",
    "for barrio in viviendas_train.barrio:\n",
    "    for t in barrio.split():\n",
    "        palabras_a_ignorar.add(t.lower())\n",
    "for palabra in palabras_a_ignorar:\n",
    "    if palabra in veces_palabra:\n",
    "        veces_palabra.pop(palabra)\n",
    "        indice_de_palabra.pop(palabra)"
   ]
  },
  {
   "cell_type": "markdown",
   "metadata": {},
   "source": [
    "Ordenamos palabras por cantidad de apariciones para buscar posibles aspectos que sumen valor a nuestro dataset"
   ]
  },
  {
   "cell_type": "code",
   "execution_count": 7,
   "metadata": {},
   "outputs": [
    {
     "name": "stdout",
     "output_type": "stream",
     "text": [
      "[('balcon', 12291), ('cochera', 10563), ('monoambiente', 7156), ('terraza', 6564), ('estrenar', 5194), ('patio', 5062), ('amenities', 4632), ('luminoso', 4596), ('excelente', 4338), ('piso', 4099), ('frente', 3789), ('oportunidad', 3193), ('parrilla', 2833), ('apto', 2625), ('muy', 2595), ('vista', 2404), ('dependencia', 2223), ('baulera', 2121), ('semipiso', 1953), ('dpto', 1933), ('dos', 1826), ('reciclado', 1804), ('expensas', 1801), ('alto', 1796), ('hermoso', 1783), ('duplex', 1759), ('torre', 1724), ('profesional', 1713), ('dep', 1584), ('impecable', 1473), ('nuevo', 1445), ('coch', 1428), ('ambiente', 1423), ('hollywood', 1397), ('amplio', 1322), ('pozo', 1300), ('ubicacion', 1216), ('cocheras', 1198), ('propia', 1171), ('dormitorios', 1169), ('edificio', 1135), ('sin', 1125), ('pileta', 1086), ('gran', 1073), ('retasado', 977), ('tipo', 963), ('divisible', 927), ('chico', 923), ('abierta', 923), ('zona', 906)]\n"
     ]
    }
   ],
   "source": [
    "sorted(veces_palabra.items(),  key=lambda x:x[1])[::-1]\n",
    "print((sorted(veces_palabra.items(),  key=lambda x:x[1])[::-1])[:50]) #CAMBIE"
   ]
  },
  {
   "cell_type": "markdown",
   "metadata": {},
   "source": [
    "Viendo lo anterior buscamos aspectos importantes y palabras claves que los identifiquen para agregarlos al dataset:\n",
    "\n",
    "+ A estrenar/nuevo\n",
    "+ Patio/Jardin\n",
    "+ balcon\n",
    "+ cochera\n",
    "+ pileta"
   ]
  },
  {
   "cell_type": "code",
   "execution_count": 8,
   "metadata": {},
   "outputs": [
    {
     "name": "stdout",
     "output_type": "stream",
     "text": [
      "cantidad de a_estrenar: 6634\n",
      "cantidad de patio_jardin: 6569\n",
      "cantidad de balcon: 12821\n",
      "cantidad de cochera: 12375\n",
      "cantidad de pileta: 1842\n",
      "cantidad de parrilla: 3048\n",
      "cantidad de terraza: 7517\n",
      "cantidad de monoambiente: 8109\n"
     ]
    }
   ],
   "source": [
    "agregar_aspecto('a_estrenar', ['estrenar', 'nuevo'], viviendas)\n",
    "agregar_aspecto('patio_jardin', ['pat', 'jard'], viviendas)\n",
    "agregar_aspecto('balcon', ['balc'], viviendas)\n",
    "agregar_aspecto('cochera', ['coche', 'garag'], viviendas)\n",
    "agregar_aspecto('pileta', ['pil', 'pisc'], viviendas)\n",
    "agregar_aspecto('parrilla', ['parr'], viviendas)\n",
    "agregar_aspecto('terraza', ['terra'], viviendas)\n",
    "agregar_aspecto('monoambiente', ['mono'], viviendas)"
   ]
  },
  {
   "cell_type": "code",
   "execution_count": 9,
   "metadata": {},
   "outputs": [
    {
     "data": {
      "text/html": [
       "<div>\n",
       "<style scoped>\n",
       "    .dataframe tbody tr th:only-of-type {\n",
       "        vertical-align: middle;\n",
       "    }\n",
       "\n",
       "    .dataframe tbody tr th {\n",
       "        vertical-align: top;\n",
       "    }\n",
       "\n",
       "    .dataframe thead th {\n",
       "        text-align: right;\n",
       "    }\n",
       "</style>\n",
       "<table border=\"1\" class=\"dataframe\">\n",
       "  <thead>\n",
       "    <tr style=\"text-align: right;\">\n",
       "      <th></th>\n",
       "      <th>index</th>\n",
       "      <th>start_date</th>\n",
       "      <th>end_date</th>\n",
       "      <th>latitud</th>\n",
       "      <th>longitud</th>\n",
       "      <th>barrio</th>\n",
       "      <th>property_type</th>\n",
       "      <th>property_rooms</th>\n",
       "      <th>property_bedrooms</th>\n",
       "      <th>property_surface_total</th>\n",
       "      <th>...</th>\n",
       "      <th>property_title</th>\n",
       "      <th>geometry</th>\n",
       "      <th>a_estrenar</th>\n",
       "      <th>patio_jardin</th>\n",
       "      <th>balcon</th>\n",
       "      <th>cochera</th>\n",
       "      <th>pileta</th>\n",
       "      <th>parrilla</th>\n",
       "      <th>terraza</th>\n",
       "      <th>monoambiente</th>\n",
       "    </tr>\n",
       "  </thead>\n",
       "  <tbody>\n",
       "    <tr>\n",
       "      <th>0</th>\n",
       "      <td>0</td>\n",
       "      <td>2021-12-15</td>\n",
       "      <td>2021-12-25</td>\n",
       "      <td>-34.555049</td>\n",
       "      <td>-58.490513</td>\n",
       "      <td>Saavedra</td>\n",
       "      <td>Departamento</td>\n",
       "      <td>2.0</td>\n",
       "      <td>1.0</td>\n",
       "      <td>58.0</td>\n",
       "      <td>...</td>\n",
       "      <td>Departamento - Saavedra</td>\n",
       "      <td>POINT (-58.4905135 -34.5550487)</td>\n",
       "      <td>unknown</td>\n",
       "      <td>unknown</td>\n",
       "      <td>unknown</td>\n",
       "      <td>unknown</td>\n",
       "      <td>unknown</td>\n",
       "      <td>unknown</td>\n",
       "      <td>unknown</td>\n",
       "      <td>unknown</td>\n",
       "    </tr>\n",
       "    <tr>\n",
       "      <th>1</th>\n",
       "      <td>1</td>\n",
       "      <td>2021-05-20</td>\n",
       "      <td>2021-06-05</td>\n",
       "      <td>-34.546991</td>\n",
       "      <td>-58.478553</td>\n",
       "      <td>Saavedra</td>\n",
       "      <td>Departamento</td>\n",
       "      <td>2.0</td>\n",
       "      <td>1.0</td>\n",
       "      <td>48.0</td>\n",
       "      <td>...</td>\n",
       "      <td>Departamento - Saavedra</td>\n",
       "      <td>POINT (-58.4785532 -34.546991)</td>\n",
       "      <td>unknown</td>\n",
       "      <td>unknown</td>\n",
       "      <td>unknown</td>\n",
       "      <td>unknown</td>\n",
       "      <td>unknown</td>\n",
       "      <td>unknown</td>\n",
       "      <td>unknown</td>\n",
       "      <td>unknown</td>\n",
       "    </tr>\n",
       "    <tr>\n",
       "      <th>2</th>\n",
       "      <td>2</td>\n",
       "      <td>2021-03-20</td>\n",
       "      <td>2021-04-16</td>\n",
       "      <td>-34.570842</td>\n",
       "      <td>-58.491805</td>\n",
       "      <td>Villa Urquiza</td>\n",
       "      <td>Departamento</td>\n",
       "      <td>2.0</td>\n",
       "      <td>1.0</td>\n",
       "      <td>62.0</td>\n",
       "      <td>...</td>\n",
       "      <td>Venta Depto 2 amb Anticipo + Cuotas CAC V. Urq...</td>\n",
       "      <td>POINT (-58.4918048 -34.5708421)</td>\n",
       "      <td>unknown</td>\n",
       "      <td>unknown</td>\n",
       "      <td>unknown</td>\n",
       "      <td>unknown</td>\n",
       "      <td>unknown</td>\n",
       "      <td>unknown</td>\n",
       "      <td>unknown</td>\n",
       "      <td>unknown</td>\n",
       "    </tr>\n",
       "    <tr>\n",
       "      <th>3</th>\n",
       "      <td>3</td>\n",
       "      <td>2021-07-17</td>\n",
       "      <td>2021-10-16</td>\n",
       "      <td>-34.589251</td>\n",
       "      <td>-58.402106</td>\n",
       "      <td>Recoleta</td>\n",
       "      <td>Departamento</td>\n",
       "      <td>3.0</td>\n",
       "      <td>2.0</td>\n",
       "      <td>60.0</td>\n",
       "      <td>...</td>\n",
       "      <td>Excelente 3 ambientes en venta en Barrio Recoleta</td>\n",
       "      <td>POINT (-58.4021058 -34.5892511)</td>\n",
       "      <td>unknown</td>\n",
       "      <td>unknown</td>\n",
       "      <td>unknown</td>\n",
       "      <td>unknown</td>\n",
       "      <td>unknown</td>\n",
       "      <td>unknown</td>\n",
       "      <td>unknown</td>\n",
       "      <td>unknown</td>\n",
       "    </tr>\n",
       "    <tr>\n",
       "      <th>4</th>\n",
       "      <td>4</td>\n",
       "      <td>2021-07-02</td>\n",
       "      <td>2022-02-09</td>\n",
       "      <td>-34.626290</td>\n",
       "      <td>-58.437632</td>\n",
       "      <td>Caballito</td>\n",
       "      <td>Departamento</td>\n",
       "      <td>3.0</td>\n",
       "      <td>2.0</td>\n",
       "      <td>67.0</td>\n",
       "      <td>...</td>\n",
       "      <td>VENTA DEPARTAMENTO 3 AMB. EN CABALLITO</td>\n",
       "      <td>POINT (-58.4376325 -34.6262899)</td>\n",
       "      <td>unknown</td>\n",
       "      <td>unknown</td>\n",
       "      <td>unknown</td>\n",
       "      <td>unknown</td>\n",
       "      <td>unknown</td>\n",
       "      <td>unknown</td>\n",
       "      <td>unknown</td>\n",
       "      <td>unknown</td>\n",
       "    </tr>\n",
       "    <tr>\n",
       "      <th>...</th>\n",
       "      <td>...</td>\n",
       "      <td>...</td>\n",
       "      <td>...</td>\n",
       "      <td>...</td>\n",
       "      <td>...</td>\n",
       "      <td>...</td>\n",
       "      <td>...</td>\n",
       "      <td>...</td>\n",
       "      <td>...</td>\n",
       "      <td>...</td>\n",
       "      <td>...</td>\n",
       "      <td>...</td>\n",
       "      <td>...</td>\n",
       "      <td>...</td>\n",
       "      <td>...</td>\n",
       "      <td>...</td>\n",
       "      <td>...</td>\n",
       "      <td>...</td>\n",
       "      <td>...</td>\n",
       "      <td>...</td>\n",
       "      <td>...</td>\n",
       "    </tr>\n",
       "    <tr>\n",
       "      <th>92874</th>\n",
       "      <td>18571</td>\n",
       "      <td>2021-02-13</td>\n",
       "      <td>2021-03-01</td>\n",
       "      <td>-34.594510</td>\n",
       "      <td>-58.413521</td>\n",
       "      <td>Barrio Norte</td>\n",
       "      <td>Departamento</td>\n",
       "      <td>3.0</td>\n",
       "      <td>2.0</td>\n",
       "      <td>60.0</td>\n",
       "      <td>...</td>\n",
       "      <td>VENTA DEPARTAMENTO 3 AMBIENTES BALCÓN FRENTE 3...</td>\n",
       "      <td>POINT (-58.413521 -34.59451)</td>\n",
       "      <td>unknown</td>\n",
       "      <td>unknown</td>\n",
       "      <td>sí</td>\n",
       "      <td>unknown</td>\n",
       "      <td>unknown</td>\n",
       "      <td>unknown</td>\n",
       "      <td>unknown</td>\n",
       "      <td>unknown</td>\n",
       "    </tr>\n",
       "    <tr>\n",
       "      <th>92875</th>\n",
       "      <td>18572</td>\n",
       "      <td>2021-08-20</td>\n",
       "      <td>2200-12-31</td>\n",
       "      <td>-34.540767</td>\n",
       "      <td>-58.466694</td>\n",
       "      <td>Nuñez</td>\n",
       "      <td>Casa</td>\n",
       "      <td>4.0</td>\n",
       "      <td>3.0</td>\n",
       "      <td>210.0</td>\n",
       "      <td>...</td>\n",
       "      <td>Casa - Nuñez</td>\n",
       "      <td>POINT (-58.4666936 -34.5407667)</td>\n",
       "      <td>unknown</td>\n",
       "      <td>unknown</td>\n",
       "      <td>unknown</td>\n",
       "      <td>unknown</td>\n",
       "      <td>unknown</td>\n",
       "      <td>unknown</td>\n",
       "      <td>unknown</td>\n",
       "      <td>unknown</td>\n",
       "    </tr>\n",
       "    <tr>\n",
       "      <th>92876</th>\n",
       "      <td>18573</td>\n",
       "      <td>2021-09-08</td>\n",
       "      <td>2021-10-14</td>\n",
       "      <td>-34.586723</td>\n",
       "      <td>-58.402579</td>\n",
       "      <td>Recoleta</td>\n",
       "      <td>Departamento</td>\n",
       "      <td>2.0</td>\n",
       "      <td>1.0</td>\n",
       "      <td>35.0</td>\n",
       "      <td>...</td>\n",
       "      <td>Recoleta 2 amb Oportunidad</td>\n",
       "      <td>POINT (-58.4025792 -34.5867234)</td>\n",
       "      <td>unknown</td>\n",
       "      <td>unknown</td>\n",
       "      <td>unknown</td>\n",
       "      <td>unknown</td>\n",
       "      <td>unknown</td>\n",
       "      <td>unknown</td>\n",
       "      <td>unknown</td>\n",
       "      <td>unknown</td>\n",
       "    </tr>\n",
       "    <tr>\n",
       "      <th>92877</th>\n",
       "      <td>18574</td>\n",
       "      <td>2021-01-12</td>\n",
       "      <td>2021-06-05</td>\n",
       "      <td>-34.579607</td>\n",
       "      <td>-58.489898</td>\n",
       "      <td>Villa Urquiza</td>\n",
       "      <td>Departamento</td>\n",
       "      <td>4.0</td>\n",
       "      <td>3.0</td>\n",
       "      <td>76.0</td>\n",
       "      <td>...</td>\n",
       "      <td>4 ambientes al contrafrente con balcón y coche...</td>\n",
       "      <td>POINT (-58.4898982 -34.579607)</td>\n",
       "      <td>unknown</td>\n",
       "      <td>unknown</td>\n",
       "      <td>sí</td>\n",
       "      <td>sí</td>\n",
       "      <td>unknown</td>\n",
       "      <td>unknown</td>\n",
       "      <td>unknown</td>\n",
       "      <td>unknown</td>\n",
       "    </tr>\n",
       "    <tr>\n",
       "      <th>92878</th>\n",
       "      <td>18575</td>\n",
       "      <td>2021-05-29</td>\n",
       "      <td>2022-02-09</td>\n",
       "      <td>-34.595270</td>\n",
       "      <td>-58.497952</td>\n",
       "      <td>Agronomía</td>\n",
       "      <td>PH</td>\n",
       "      <td>3.0</td>\n",
       "      <td>3.0</td>\n",
       "      <td>145.0</td>\n",
       "      <td>...</td>\n",
       "      <td>Venta PH a Estrenar 3/4 Amb c/ cochera</td>\n",
       "      <td>POINT (-58.4979516 -34.5952703)</td>\n",
       "      <td>sí</td>\n",
       "      <td>unknown</td>\n",
       "      <td>unknown</td>\n",
       "      <td>sí</td>\n",
       "      <td>unknown</td>\n",
       "      <td>unknown</td>\n",
       "      <td>unknown</td>\n",
       "      <td>unknown</td>\n",
       "    </tr>\n",
       "  </tbody>\n",
       "</table>\n",
       "<p>92879 rows × 22 columns</p>\n",
       "</div>"
      ],
      "text/plain": [
       "       index  start_date    end_date    latitud   longitud         barrio  \\\n",
       "0          0  2021-12-15  2021-12-25 -34.555049 -58.490513       Saavedra   \n",
       "1          1  2021-05-20  2021-06-05 -34.546991 -58.478553       Saavedra   \n",
       "2          2  2021-03-20  2021-04-16 -34.570842 -58.491805  Villa Urquiza   \n",
       "3          3  2021-07-17  2021-10-16 -34.589251 -58.402106       Recoleta   \n",
       "4          4  2021-07-02  2022-02-09 -34.626290 -58.437632      Caballito   \n",
       "...      ...         ...         ...        ...        ...            ...   \n",
       "92874  18571  2021-02-13  2021-03-01 -34.594510 -58.413521   Barrio Norte   \n",
       "92875  18572  2021-08-20  2200-12-31 -34.540767 -58.466694          Nuñez   \n",
       "92876  18573  2021-09-08  2021-10-14 -34.586723 -58.402579       Recoleta   \n",
       "92877  18574  2021-01-12  2021-06-05 -34.579607 -58.489898  Villa Urquiza   \n",
       "92878  18575  2021-05-29  2022-02-09 -34.595270 -58.497952      Agronomía   \n",
       "\n",
       "      property_type  property_rooms  property_bedrooms  \\\n",
       "0      Departamento             2.0                1.0   \n",
       "1      Departamento             2.0                1.0   \n",
       "2      Departamento             2.0                1.0   \n",
       "3      Departamento             3.0                2.0   \n",
       "4      Departamento             3.0                2.0   \n",
       "...             ...             ...                ...   \n",
       "92874  Departamento             3.0                2.0   \n",
       "92875          Casa             4.0                3.0   \n",
       "92876  Departamento             2.0                1.0   \n",
       "92877  Departamento             4.0                3.0   \n",
       "92878            PH             3.0                3.0   \n",
       "\n",
       "       property_surface_total  ...  \\\n",
       "0                        58.0  ...   \n",
       "1                        48.0  ...   \n",
       "2                        62.0  ...   \n",
       "3                        60.0  ...   \n",
       "4                        67.0  ...   \n",
       "...                       ...  ...   \n",
       "92874                    60.0  ...   \n",
       "92875                   210.0  ...   \n",
       "92876                    35.0  ...   \n",
       "92877                    76.0  ...   \n",
       "92878                   145.0  ...   \n",
       "\n",
       "                                          property_title  \\\n",
       "0                                Departamento - Saavedra   \n",
       "1                                Departamento - Saavedra   \n",
       "2      Venta Depto 2 amb Anticipo + Cuotas CAC V. Urq...   \n",
       "3      Excelente 3 ambientes en venta en Barrio Recoleta   \n",
       "4                 VENTA DEPARTAMENTO 3 AMB. EN CABALLITO   \n",
       "...                                                  ...   \n",
       "92874  VENTA DEPARTAMENTO 3 AMBIENTES BALCÓN FRENTE 3...   \n",
       "92875                                       Casa - Nuñez   \n",
       "92876                         Recoleta 2 amb Oportunidad   \n",
       "92877  4 ambientes al contrafrente con balcón y coche...   \n",
       "92878            Venta PH a Estrenar 3/4 Amb c/ cochera    \n",
       "\n",
       "                              geometry a_estrenar patio_jardin   balcon  \\\n",
       "0      POINT (-58.4905135 -34.5550487)    unknown      unknown  unknown   \n",
       "1       POINT (-58.4785532 -34.546991)    unknown      unknown  unknown   \n",
       "2      POINT (-58.4918048 -34.5708421)    unknown      unknown  unknown   \n",
       "3      POINT (-58.4021058 -34.5892511)    unknown      unknown  unknown   \n",
       "4      POINT (-58.4376325 -34.6262899)    unknown      unknown  unknown   \n",
       "...                                ...        ...          ...      ...   \n",
       "92874     POINT (-58.413521 -34.59451)    unknown      unknown       sí   \n",
       "92875  POINT (-58.4666936 -34.5407667)    unknown      unknown  unknown   \n",
       "92876  POINT (-58.4025792 -34.5867234)    unknown      unknown  unknown   \n",
       "92877   POINT (-58.4898982 -34.579607)    unknown      unknown       sí   \n",
       "92878  POINT (-58.4979516 -34.5952703)         sí      unknown  unknown   \n",
       "\n",
       "       cochera   pileta parrilla  terraza monoambiente  \n",
       "0      unknown  unknown  unknown  unknown      unknown  \n",
       "1      unknown  unknown  unknown  unknown      unknown  \n",
       "2      unknown  unknown  unknown  unknown      unknown  \n",
       "3      unknown  unknown  unknown  unknown      unknown  \n",
       "4      unknown  unknown  unknown  unknown      unknown  \n",
       "...        ...      ...      ...      ...          ...  \n",
       "92874  unknown  unknown  unknown  unknown      unknown  \n",
       "92875  unknown  unknown  unknown  unknown      unknown  \n",
       "92876  unknown  unknown  unknown  unknown      unknown  \n",
       "92877       sí  unknown  unknown  unknown      unknown  \n",
       "92878       sí  unknown  unknown  unknown      unknown  \n",
       "\n",
       "[92879 rows x 22 columns]"
      ]
     },
     "execution_count": 9,
     "metadata": {},
     "output_type": "execute_result"
    }
   ],
   "source": [
    "viviendas"
   ]
  },
  {
   "cell_type": "markdown",
   "metadata": {},
   "source": [
    "## b) Modelos"
   ]
  },
  {
   "cell_type": "markdown",
   "metadata": {},
   "source": [
    "### Preprocesamiento"
   ]
  },
  {
   "cell_type": "code",
   "execution_count": 10,
   "metadata": {},
   "outputs": [],
   "source": [
    "viviendas.loc[:,\"a_estrenar\"].replace(to_replace=['unknown','sí'],value=[0,1],inplace=True)\n",
    "viviendas.loc[:,\"patio_jardin\"].replace(to_replace=['unknown','sí'],value=[0,1],inplace=True)\n",
    "viviendas.loc[:,\"balcon\"].replace(to_replace=['unknown','sí'],value=[0,1],inplace=True)\n",
    "viviendas.loc[:,\"cochera\"].replace(to_replace=['unknown','sí'],value=[0,1],inplace=True)\n",
    "viviendas.loc[:,\"pileta\"].replace(to_replace=['unknown','sí'],value=[0,1],inplace=True)\n",
    "viviendas.loc[:,\"parrilla\"].replace(to_replace=['unknown','sí'],value=[0,1],inplace=True)\n",
    "viviendas.loc[:,\"terraza\"].replace(to_replace=['unknown','sí'],value=[0,1],inplace=True)\n",
    "viviendas.loc[:,\"monoambiente\"].replace(to_replace=['unknown','sí'],value=[0,1],inplace=True)"
   ]
  },
  {
   "cell_type": "code",
   "execution_count": 11,
   "metadata": {},
   "outputs": [],
   "source": [
    "viviendas_train, viviendas_test = train_test_split(viviendas, test_size=0.2, random_state=2)\n",
    "x_train_ampliado = viviendas_train[['latitud','longitud', 'property_surface_total', 'property_surface_covered', 'a_estrenar', 'patio_jardin', 'balcon', 'cochera', 'pileta', 'parrilla', 'terraza', 'monoambiente']]\n",
    "x_test_ampliado = viviendas_test[['latitud','longitud', 'property_surface_total', 'property_surface_covered', 'a_estrenar', 'patio_jardin', 'balcon', 'cochera', 'pileta', 'parrilla', 'terraza', 'monoambiente']]\n",
    "\n",
    "y_train_ampliado = viviendas_train.property_price\n",
    "y_test_ampliado = viviendas_test.property_price"
   ]
  },
  {
   "cell_type": "code",
   "execution_count": 12,
   "metadata": {},
   "outputs": [],
   "source": [
    "scaler = MinMaxScaler() \n",
    "x_train_ampliado = scaler.fit_transform(x_train_ampliado)\n",
    "x_test_ampliado = scaler.transform(x_test_ampliado)"
   ]
  },
  {
   "cell_type": "markdown",
   "metadata": {},
   "source": [
    "### Utilizando los mismos hiperparámetros seleccionados en el TP 1"
   ]
  },
  {
   "cell_type": "code",
   "execution_count": 13,
   "metadata": {},
   "outputs": [
    {
     "data": {
      "text/plain": [
       "\"\\nrand_xgb_params_tp1 = joblib.load('./TP1/Models/rand_xgb')\\nrand_xgb_params_tp1.fit(x_train_ampliado, y_train_ampliado)\\njoblib.dump(rand_xgb_params_tp1, './Models/xgb_ampliado_params_tp1')\\n\""
      ]
     },
     "execution_count": 13,
     "metadata": {},
     "output_type": "execute_result"
    }
   ],
   "source": [
    "\"\"\"\n",
    "rand_xgb_params_tp1 = joblib.load('./TP1/Models/rand_xgb')\n",
    "rand_xgb_params_tp1.fit(x_train_ampliado, y_train_ampliado)\n",
    "joblib.dump(rand_xgb_params_tp1, './Models/xgb_ampliado_params_tp1')\n",
    "\"\"\""
   ]
  },
  {
   "cell_type": "code",
   "execution_count": 14,
   "metadata": {},
   "outputs": [],
   "source": [
    "rand_xgb_ampliado_params_tp1 = joblib.load('./Models/xgb_ampliado_params_tp1')\n",
    "best_xgb_regressor_ampliado_params_tp1 = rand_xgb_ampliado_params_tp1.best_estimator_"
   ]
  },
  {
   "cell_type": "code",
   "execution_count": 15,
   "metadata": {},
   "outputs": [
    {
     "name": "stdout",
     "output_type": "stream",
     "text": [
      "Coef. de Determinación R2: 0.9107357812035757\n",
      "Coef. de Determinación R2 ajustado: 0.9107165546204522\n",
      "El error (mse) de test es: 7961554870.09518\n",
      "El error (rmse) de test es: 89227.54546716603\n"
     ]
    }
   ],
   "source": [
    "#Predicción con mejor estimador\n",
    "y_pred_test_xgb = best_xgb_regressor_ampliado_params_tp1.predict(x_test_ampliado)\n",
    "\n",
    "#Coef. de Determinación R2\n",
    "r2_score_test_xgb = r2_score(y_test_ampliado, y_pred_test_xgb)\n",
    "print(f'Coef. de Determinación R2: {r2_score_test_xgb}')\n",
    "\n",
    "#Coef. de Determinación R2 ajustado\n",
    "n = x_test_ampliado.shape[0] #n = count of rows in your dataset used for train or test\n",
    "p = 4 #p = count of independent variables\n",
    "print(f'Coef. de Determinación R2 ajustado: {1-(1-r2_score_test_xgb)*(n-1)/(n-p-1)}')\n",
    "\n",
    "#Mean Square Error\n",
    "mse = metrics.mean_squared_error(\n",
    "        y_true  = y_test_ampliado,\n",
    "        y_pred  = y_pred_test_xgb,\n",
    "        squared = True\n",
    "       )\n",
    "\n",
    "print(f\"El error (mse) de test es: {mse}\")\n",
    "\n",
    "#Root Mean Square Error\n",
    "rmse = metrics.mean_squared_error(\n",
    "        y_true  = y_test_ampliado,\n",
    "        y_pred  = y_pred_test_xgb,\n",
    "        squared = False\n",
    "       )\n",
    "\n",
    "print(f\"El error (rmse) de test es: {rmse}\")"
   ]
  },
  {
   "cell_type": "markdown",
   "metadata": {},
   "source": [
    "Vemos que las metricas con el dataset ampliado mejoran considerablemente en comparacion con las del dataset sin ampliar.  \n",
    "  \n",
    "  Metricas sin ampliar:  \n",
    "+    Coef. de Determinación R2: 0.9019645365048344  \n",
    "+    Coef. de Determinación R2 ajustado: 0.9019434206869473  \n",
    "+    El error (mse) de test es: 9168434434.619144  \n",
    "+    El error (rmse) de test es: 95751.94219763453  "
   ]
  },
  {
   "cell_type": "code",
   "execution_count": 16,
   "metadata": {},
   "outputs": [],
   "source": [
    "def porcentaje_de_cambio_de_metricas(nombre_metrica, metrica_nueva, metrica_anterior):\n",
    "    porcentaje = round(metrica_nueva*100/ metrica_anterior -100,3)\n",
    "    if nombre_metrica == 'R2' or 'R2 ajustado':\n",
    "        if porcentaje < 0:\n",
    "            print(f'la metrica {nombre_metrica} es un {-porcentaje}% peor')\n",
    "        else:\n",
    "            print(f'la metrica {nombre_metrica} es un {porcentaje}% mejor')\n",
    "\n",
    "    elif nombre_metrica == 'RMSE' or 'MSE':\n",
    "        if porcentaje > 0:\n",
    "            print(f'la metrica {nombre_metrica} es un {-porcentaje}% peor')\n",
    "        else:\n",
    "            print(f'la metrica {nombre_metrica} es un {porcentaje}% mejor')\n"
   ]
  },
  {
   "attachments": {},
   "cell_type": "markdown",
   "metadata": {},
   "source": [
    "Cambio de métricas respecto al dataset sin ampliar (con mismos hiperparametros):"
   ]
  },
  {
   "cell_type": "code",
   "execution_count": 17,
   "metadata": {},
   "outputs": [
    {
     "name": "stdout",
     "output_type": "stream",
     "text": [
      "la metrica R2 es un 0.972% mejor\n",
      "la metrica RMSE es un 6.814% peor\n"
     ]
    }
   ],
   "source": [
    "porcentaje_de_cambio_de_metricas('R2', 0.9107357812035757, 0.9019645365048344)\n",
    "porcentaje_de_cambio_de_metricas('RMSE', 89227.54546716603, 95751.94219763453 )"
   ]
  },
  {
   "cell_type": "markdown",
   "metadata": {},
   "source": [
    "### Utilizando hiperparametros optimizados con el nuevo dataset ampliado."
   ]
  },
  {
   "attachments": {},
   "cell_type": "markdown",
   "metadata": {},
   "source": [
    "decidimos usar GridSearchCV, porque usando RandomSearchCV no obteníamos hiperparámetros distintos a los del dataset sin ampliar"
   ]
  },
  {
   "cell_type": "code",
   "execution_count": 18,
   "metadata": {},
   "outputs": [
    {
     "data": {
      "text/plain": [
       "\"#Grilla de Parámetros\\nparams_grid = {\\n    'n_estimators': [100, 400, 800],\\n    'max_depth': [3, 6, 9],\\n    'learning_rate': [0.05, 0.1, 0.20],\\n    'min_child_weight': [1, 10, 100]\\n    }\\n\\n#Clasificador KNN\\nxgb_regressor_ampliado = xgb.XGBRegressor()\\n\\ngrid_xgb_ampliado_param_tp2 = GridSearchCV(xgb_regressor_ampliado, params_grid, cv=5, scoring='r2')\\n\\ngrid_xgb_ampliado_param_tp2.fit(x_train_ampliado, y_train_ampliado)\\njoblib.dump(grid_xgb_ampliado_param_tp2, './Models/grid_xgb_ampliado_param_tp2')\\n\""
      ]
     },
     "execution_count": 18,
     "metadata": {},
     "output_type": "execute_result"
    }
   ],
   "source": [
    "\"\"\"#Grilla de Parámetros\n",
    "params_grid = {\n",
    "    'n_estimators': [100, 400, 800],\n",
    "    'max_depth': [3, 6, 9],\n",
    "    'learning_rate': [0.05, 0.1, 0.20],\n",
    "    'min_child_weight': [1, 10, 100]\n",
    "    }\n",
    "\n",
    "#Clasificador KNN\n",
    "xgb_regressor_ampliado = xgb.XGBRegressor()\n",
    "\n",
    "grid_xgb_ampliado_param_tp2 = GridSearchCV(xgb_regressor_ampliado, params_grid, cv=5, scoring='r2')\n",
    "\n",
    "grid_xgb_ampliado_param_tp2.fit(x_train_ampliado, y_train_ampliado)\n",
    "joblib.dump(grid_xgb_ampliado_param_tp2, './Models/grid_xgb_ampliado_param_tp2')\n",
    "\"\"\""
   ]
  },
  {
   "cell_type": "code",
   "execution_count": 19,
   "metadata": {},
   "outputs": [],
   "source": [
    "grid_xgb_ampliado_param_tp2 = joblib.load('./Models/grid_xgb_ampliado_param_tp2')\n",
    "best_xgb_ampliado_param_tp2 = grid_xgb_ampliado_param_tp2.best_estimator_"
   ]
  },
  {
   "cell_type": "code",
   "execution_count": 20,
   "metadata": {},
   "outputs": [
    {
     "name": "stdout",
     "output_type": "stream",
     "text": [
      "Coef. de Determinación R2: 0.9127994404557074\n",
      "Coef. de Determinación R2 ajustado: 0.912743069895209\n",
      "El error (mse) de test es: 7777495270.509185\n",
      "El error (rmse) de test es: 88190.10868861193\n"
     ]
    }
   ],
   "source": [
    "#Predicción con mejor estimador\n",
    "y_pred_test_xgb = best_xgb_ampliado_param_tp2.predict(x_test_ampliado)\n",
    "\n",
    "#Coef. de Determinación R2\n",
    "r2_score_test_xgb = r2_score(y_test_ampliado, y_pred_test_xgb)\n",
    "print(f'Coef. de Determinación R2: {r2_score_test_xgb}')\n",
    "\n",
    "#Coef. de Determinación R2 ajustado\n",
    "n = x_test_ampliado.shape[0] #n = count of rows in your dataset used for train or test\n",
    "p = 12 #p = count of independent variables\n",
    "print(f'Coef. de Determinación R2 ajustado: {1-(1-r2_score_test_xgb)*(n-1)/(n-p-1)}')\n",
    "\n",
    "#Mean Square Error\n",
    "mse = metrics.mean_squared_error(\n",
    "        y_true  = y_test_ampliado,\n",
    "        y_pred  = y_pred_test_xgb,\n",
    "        squared = True\n",
    "       )\n",
    "\n",
    "print(f\"El error (mse) de test es: {mse}\")\n",
    "\n",
    "#Root Mean Square Error\n",
    "rmse = metrics.mean_squared_error(\n",
    "        y_true  = y_test_ampliado,\n",
    "        y_pred  = y_pred_test_xgb,\n",
    "        squared = False\n",
    "       )\n",
    "\n",
    "print(f\"El error (rmse) de test es: {rmse}\")"
   ]
  },
  {
   "cell_type": "code",
   "execution_count": 22,
   "metadata": {},
   "outputs": [
    {
     "data": {
      "text/html": [
       "<div>\n",
       "<style scoped>\n",
       "    .dataframe tbody tr th:only-of-type {\n",
       "        vertical-align: middle;\n",
       "    }\n",
       "\n",
       "    .dataframe tbody tr th {\n",
       "        vertical-align: top;\n",
       "    }\n",
       "\n",
       "    .dataframe thead th {\n",
       "        text-align: right;\n",
       "    }\n",
       "</style>\n",
       "<table border=\"1\" class=\"dataframe\">\n",
       "  <thead>\n",
       "    <tr style=\"text-align: right;\">\n",
       "      <th></th>\n",
       "      <th>Valor Real</th>\n",
       "      <th>Prediccion</th>\n",
       "      <th>Error</th>\n",
       "    </tr>\n",
       "  </thead>\n",
       "  <tbody>\n",
       "    <tr>\n",
       "      <th>63184</th>\n",
       "      <td>69900.0</td>\n",
       "      <td>78191.0</td>\n",
       "      <td>-8291.0</td>\n",
       "    </tr>\n",
       "    <tr>\n",
       "      <th>62628</th>\n",
       "      <td>108000.0</td>\n",
       "      <td>143328.0</td>\n",
       "      <td>-35328.0</td>\n",
       "    </tr>\n",
       "    <tr>\n",
       "      <th>75408</th>\n",
       "      <td>75000.0</td>\n",
       "      <td>104908.0</td>\n",
       "      <td>-29908.0</td>\n",
       "    </tr>\n",
       "    <tr>\n",
       "      <th>49022</th>\n",
       "      <td>420000.0</td>\n",
       "      <td>675072.0</td>\n",
       "      <td>-255072.0</td>\n",
       "    </tr>\n",
       "    <tr>\n",
       "      <th>29265</th>\n",
       "      <td>49900.0</td>\n",
       "      <td>56399.0</td>\n",
       "      <td>-6499.0</td>\n",
       "    </tr>\n",
       "  </tbody>\n",
       "</table>\n",
       "</div>"
      ],
      "text/plain": [
       "       Valor Real  Prediccion     Error\n",
       "63184     69900.0     78191.0   -8291.0\n",
       "62628    108000.0    143328.0  -35328.0\n",
       "75408     75000.0    104908.0  -29908.0\n",
       "49022    420000.0    675072.0 -255072.0\n",
       "29265     49900.0     56399.0   -6499.0"
      ]
     },
     "execution_count": 22,
     "metadata": {},
     "output_type": "execute_result"
    }
   ],
   "source": [
    "performance_train = pd.DataFrame({'Valor Real': y_test_ampliado,\n",
    "                            'Prediccion': y_pred_test_xgb.round(),\n",
    "                            'Error': y_test_ampliado - y_pred_test_xgb.round()})\n",
    "performance_train.head()"
   ]
  },
  {
   "cell_type": "code",
   "execution_count": 23,
   "metadata": {},
   "outputs": [
    {
     "name": "stderr",
     "output_type": "stream",
     "text": [
      "c:\\Users\\iankl\\anaconda3\\lib\\site-packages\\pandas\\plotting\\_matplotlib\\core.py:1080: PendingDeprecationWarning: The get_cmap function will be deprecated in a future version. Use ``matplotlib.colormaps[name]`` or ``matplotlib.colormaps.get_cmap(obj)`` instead.\n",
      "  cmap = self.plt.cm.get_cmap(cmap)\n",
      "c:\\Users\\iankl\\anaconda3\\lib\\site-packages\\pandas\\plotting\\_matplotlib\\core.py:1114: UserWarning: No data for colormapping provided via 'c'. Parameters 'cmap' will be ignored\n",
      "  scatter = ax.scatter(\n"
     ]
    },
    {
     "data": {
      "image/png": "[encoded data removed]",
      "text/plain": [
       "<Figure size 432x288 with 1 Axes>"
      ]
     },
     "metadata": {
      "needs_background": "light"
     },
     "output_type": "display_data"
    }
   ],
   "source": [
    "scatter_real_predict_train = performance_train.plot.scatter(x=\"Valor Real\", y=\"Prediccion\", s=10, c='tab:blue').set(title=\"Valor Real vs Predicción\",xlabel='Valor Real',ylabel='Prediccion') \n"
   ]
  },
  {
   "attachments": {},
   "cell_type": "markdown",
   "metadata": {},
   "source": [
    "Cambio de métricas buscando nuevos hiperparametros"
   ]
  },
  {
   "cell_type": "code",
   "execution_count": 24,
   "metadata": {},
   "outputs": [
    {
     "name": "stdout",
     "output_type": "stream",
     "text": [
      "la metrica R2 es un 0.227% mejor\n",
      "la metrica RMSE es un 1.163% peor\n"
     ]
    }
   ],
   "source": [
    "porcentaje_de_cambio_de_metricas('R2', 0.9127994404557074, 0.9107357812035757)\n",
    "porcentaje_de_cambio_de_metricas('RMSE', 88190.10868861193, 89227.54546716603)"
   ]
  },
  {
   "attachments": {},
   "cell_type": "markdown",
   "metadata": {},
   "source": [
    "# 4. Conclusiones"
   ]
  },
  {
   "attachments": {},
   "cell_type": "markdown",
   "metadata": {},
   "source": [
    "### opciones que hubiesemos explorado y quedaron fuera del alcance de este trabajo"
   ]
  },
  {
   "attachments": {},
   "cell_type": "markdown",
   "metadata": {},
   "source": [
    "+ En cuanto a la primera parte (Ampliación del dataset), se pudo haber usado algun métodos de extracción de conocimiento como lo son ExtrHech, ArgOE, DepOE o ECMes. También se pudieron haber añadido al dataset columnas como cantidad de baños o expensas las cuales tendrían valores extraídos del texto de property_title.\n",
    "\n",
    "+ En cuanto a la segunda parte (Redes Neuronales), se pudo haber probado una grilla con mayor cantidad de hiperparámetros, como por ejemplo reguladores (L1 y L2), early stopping y dropout. Tambien podríamos haber probado otras distintas combinaciones de capas ocultas de neuronas además de probar otro tipo de capas. Se pudo haber probado correr más iteraciones mezclando hiperparámetros.\n",
    "Otra cosa que quedó fuera de nuestro alcance es hacer un ensamble entre nuestros mejores modelos de redes\n",
    "\n",
    "+ En cuanto a la tercera parte podríamos haber usado para los ensambles algunos de nuestros modelos de redes\n",
    "\n",
    "\n"
   ]
  },
  {
   "attachments": {},
   "cell_type": "markdown",
   "metadata": {},
   "source": [
    "### Aspectos relevantes:"
   ]
  },
  {
   "attachments": {},
   "cell_type": "markdown",
   "metadata": {},
   "source": [
    "+ Parte 1: Procesamiento de Lenguaje Natural\n",
    "\n",
    "\n",
    "+ Parte 2: Redes Neuronales\n",
    "\n",
    "\n",
    "+ Parte 3: Ensambles de Modelos"
   ]
  },
  {
   "cell_type": "markdown",
   "metadata": {},
   "source": [
    "# 3. Ensamble de Modelos"
   ]
  },
  {
   "cell_type": "markdown",
   "metadata": {},
   "source": [
    "## Voting"
   ]
  },
  {
   "cell_type": "markdown",
   "metadata": {},
   "source": [
    "### Voting sobre modelos nuevos"
   ]
  },
  {
   "cell_type": "code",
   "execution_count": null,
   "metadata": {},
   "outputs": [],
   "source": [
    "import pandas as pd\n",
    "import numpy as np \n",
    "\n",
    "import warnings\n",
    "warnings.filterwarnings('ignore')\n",
    "\n",
    "from sklearn.ensemble import RandomForestClassifier \n",
    "from sklearn.linear_model import LogisticRegression \n",
    "from sklearn.neighbors import KNeighborsClassifier\n",
    "from sklearn.ensemble import AdaBoostClassifier\n",
    "from sklearn.naive_bayes import GaussianNB\n",
    "from sklearn.tree import DecisionTreeClassifier\n",
    "\n",
    "import joblib\n",
    "\n",
    "from sklearn.metrics import accuracy_score\n",
    "from sklearn.metrics import f1_score\n",
    "from sklearn.metrics import recall_score\n",
    "from sklearn.metrics import precision_score\n",
    "\n",
    "from sklearn.ensemble import VotingClassifier\n"
   ]
  },
  {
   "cell_type": "code",
   "execution_count": null,
   "metadata": {},
   "outputs": [],
   "source": [
    "#Importo los datos de entrenamiento y prueba de nuestro Random Forest\n",
    "\n",
    "y_train = pd.read_csv('./TP1/Datasets/y_train_property_type.csv').copy()\n",
    "y_test = pd.read_csv('./TP1/Datasets/y_test_property_type.csv').copy()\n",
    "\n",
    "x_train = pd.read_csv('./TP1/Datasets/x_train_property_type.csv').copy()\n",
    "x_test = pd.read_csv('./TP1/Datasets/x_test_property_type.csv').copy()\n"
   ]
  },
  {
   "cell_type": "markdown",
   "metadata": {},
   "source": [
    "Voy a evaluar distintos clasificadores para ver cual me conviene para obtener mejores metricas."
   ]
  },
  {
   "cell_type": "code",
   "execution_count": null,
   "metadata": {},
   "outputs": [],
   "source": [
    "\n",
    "# Predicciones con decision tree classifier\n",
    "dtc = DecisionTreeClassifier(random_state=42)\n",
    "dtc = dtc.fit(x_train, y_train)\n",
    "y_pred_dtc = dtc.predict(x_test)\n",
    "\n",
    "\n",
    "# Predicciones con logistic regression model\n",
    "lr = LogisticRegression()\n",
    "lr = lr.fit(x_train, y_train)\n",
    "y_pred_lr = lr.predict(x_test)\n",
    "\n",
    "\n",
    "# Predicciones con naive bayes model\n",
    "gnb = GaussianNB()\n",
    "gnb = gnb.fit(x_train, y_train)\n",
    "y_pred_gnb = gnb.predict(x_test)\n",
    "\n",
    "# Predicciones con modelo AdaBoost\n",
    "ada_boost_clf = AdaBoostClassifier()\n",
    "ada_boost_clf.fit(x_train, y_train)\n",
    "y_pred_ada = ada_boost_clf.predict(x_test)\n",
    "\n",
    "# Predicciones con modelo Random Forest\n",
    "rnd_clf = RandomForestClassifier()\n",
    "rnd_clf.fit(x_train, y_train)\n",
    "y_pred_rnd = rnd_clf.predict(x_test)\n",
    "\n",
    "# Predicciones con modelo KNN\n",
    "knn_clf = KNeighborsClassifier()\n",
    "knn_clf.fit(x_train, y_train)\n",
    "y_pred_knn = knn_clf.predict(x_test)"
   ]
  },
  {
   "cell_type": "markdown",
   "metadata": {},
   "source": [
    "Imprimo los resultados."
   ]
  },
  {
   "cell_type": "code",
   "execution_count": null,
   "metadata": {},
   "outputs": [
    {
     "name": "stdout",
     "output_type": "stream",
     "text": [
      "F1-score of decision tree classifier: 0.7051\n",
      "F1-score of support vector machine: 0.5452\n",
      "F1-score of naive bayes classifier: 0.3733\n",
      "F1-score of random forest classifier: 0.745\n",
      "F1-score of KNN classifier: 0.6116\n",
      "F1-score of AdaBoost classifier: 0.5932\n"
     ]
    }
   ],
   "source": [
    "# evaluating the models based on their f-1 scores\n",
    "f1_dtc = f1_score(y_test, y_pred_dtc,average='weighted')\n",
    "f1_lr = f1_score(y_test, y_pred_lr,average='weighted')\n",
    "f1_gnb = f1_score(y_test, y_pred_gnb,average='weighted')\n",
    "f1_rnd = f1_score(y_test, y_pred_rnd,average='weighted')\n",
    "f1_knn = f1_score(y_test, y_pred_knn,average='weighted')\n",
    "f1_ada = f1_score(y_test, y_pred_ada,average='weighted')\n",
    "\n",
    "# print the f-1 scores\n",
    "print('F1-score of decision tree classifier: {}'.format(np.round(f1_dtc,4)))\n",
    "print('F1-score of support vector machine: {}'.format(np.round(f1_lr,4)))\n",
    "print('F1-score of naive bayes classifier: {}'.format(np.round(f1_gnb,4)))\n",
    "print('F1-score of random forest classifier: {}'.format(np.round(f1_rnd,4)))\n",
    "print('F1-score of KNN classifier: {}'.format(np.round(f1_knn,4)))\n",
    "print('F1-score of AdaBoost classifier: {}'.format(np.round(f1_ada,4)))"
   ]
  },
  {
   "cell_type": "markdown",
   "metadata": {},
   "source": [
    "Aca podemos ver que los mejores 3 modelos fueron los de Decision Tree Classifier, Random Forest Classifier y KNN. Procedo a realizar el Voting con dichos tres modelos. Para obtener mejores resultados, tambien voy a evaluar realizando una votacion de tipo Hard y una de tipo Soft y utilizar la que mejores resultados de."
   ]
  },
  {
   "cell_type": "code",
   "execution_count": null,
   "metadata": {},
   "outputs": [],
   "source": [
    "#Creo clasificadores\n",
    "\n",
    "dtc_clf = DecisionTreeClassifier()\n",
    "rnd_clf = RandomForestClassifier()\n",
    "knn_clf = KNeighborsClassifier()\n",
    "\n",
    "#Creo ensemble de Votación Hard\n",
    "vot_clf_h = VotingClassifier(estimators = [('dtc', dtc_clf), ('rnd', rnd_clf), ('knn', knn_clf)], voting = 'hard')\n",
    "\n",
    "#Creo ensemble de Votación Soft\n",
    "vot_clf_s = VotingClassifier(estimators = [('dtc', dtc_clf), ('rnd', rnd_clf), ('knn', knn_clf)], voting = 'soft')\n",
    "\n",
    "\n",
    "#Entreno ambos ensembles\n",
    "vot_clf_h.fit(x_train, y_train)\n",
    "vot_clf_s.fit(x_train, y_train)\n",
    "\n",
    "#Evaluo en conjunto de test\n",
    "pred_h = vot_clf_h.predict(x_test)\n",
    "pred_s = vot_clf_s.predict(x_test)"
   ]
  },
  {
   "cell_type": "code",
   "execution_count": null,
   "metadata": {},
   "outputs": [
    {
     "name": "stdout",
     "output_type": "stream",
     "text": [
      "RESULTADOS HARD VOTING:\n",
      "\n",
      "Accuracy Score: 0.7311584840654608\n",
      "F1-score: 0.7306882097343488\n",
      "Precision Score :  0.7318538462448096\n",
      "Recall Score : 0.7311584840654608\n",
      "\n",
      "RESULTADOS SOFT VOTING:\n",
      "\n",
      "Accuracy Score: 0.7250753660637381\n",
      "F1-score: 0.7245058675971877\n",
      "Precision Score:  0.7253093651878666\n",
      "Recall Score: 0.7250753660637381\n"
     ]
    }
   ],
   "source": [
    "#Calculo accuracy\n",
    "print(\"RESULTADOS HARD VOTING:\\n\")\n",
    "print('Accuracy Score: {}'.format(accuracy_score(y_test, pred_h)))\n",
    "print('F1-score: {}'.format(f1_score(y_test, pred_h,average=\"weighted\")))\n",
    "print(\"Precision Score : \",precision_score(y_test,pred_h,pos_label='positive',average=\"weighted\"))\n",
    "print(\"Recall Score :\" , recall_score(y_test, pred_h, pos_label='positive',average=\"weighted\"))\n",
    "\n",
    "print(\"\\nRESULTADOS SOFT VOTING:\\n\")\n",
    "print('Accuracy Score: {}'.format(accuracy_score(y_test, pred_s)))\n",
    "print('F1-score: {}'.format(f1_score(y_test, pred_s,average=\"weighted\")))\n",
    "print(\"Precision Score: \",precision_score(y_test,pred_s,pos_label='positive',average=\"weighted\"))\n",
    "print(\"Recall Score:\" , recall_score(y_test, pred_s, pos_label='positive',average=\"weighted\"))"
   ]
  },
  {
   "cell_type": "markdown",
   "metadata": {},
   "source": [
    "Concluimos que conviene utilizar el metodo de Hard voting."
   ]
  },
  {
   "cell_type": "markdown",
   "metadata": {},
   "source": [
    "### Voting sobre nuestros modelos "
   ]
  },
  {
   "cell_type": "code",
   "execution_count": null,
   "metadata": {},
   "outputs": [],
   "source": [
    "import pandas as pd\n",
    "import numpy as np \n",
    "\n",
    "import warnings\n",
    "warnings.filterwarnings('ignore')\n",
    "\n",
    "import joblib\n",
    "\n",
    "from sklearn.metrics import f1_score\n",
    "from sklearn.metrics import recall_score\n",
    "from sklearn.metrics import precision_score\n",
    "from sklearn.metrics import accuracy_score\n",
    "\n",
    "from sklearn.ensemble import VotingClassifier"
   ]
  },
  {
   "cell_type": "code",
   "execution_count": null,
   "metadata": {},
   "outputs": [],
   "source": [
    "#Importo los datos de entrenamiento y prueba de nuestro Random Forest\n",
    "\n",
    "y_train = pd.read_csv('./TP1/Datasets/y_train_property_type.csv').copy()\n",
    "y_test = pd.read_csv('./TP1/Datasets/y_test_property_type.csv').copy()\n",
    "\n",
    "x_train = pd.read_csv('./TP1/Datasets/x_train_property_type.csv').copy()\n",
    "x_test = pd.read_csv('./TP1/Datasets/x_test_property_type.csv').copy()"
   ]
  },
  {
   "cell_type": "code",
   "execution_count": null,
   "metadata": {},
   "outputs": [],
   "source": [
    "#Importo los modelos del TP1\n",
    "\n",
    "knn_clf = joblib.load('./TP1/Models/knn_mejor_performance')\n",
    "rnd_clf = joblib.load('./TP1/Models/rf_mejor_performance')\n",
    "dtc_clf = joblib.load('./TP1/Models/arbol_mejor_performance')"
   ]
  },
  {
   "cell_type": "code",
   "execution_count": null,
   "metadata": {},
   "outputs": [
    {
     "name": "stdout",
     "output_type": "stream",
     "text": [
      "F1-score of decision tree classifier: 0.7051\n",
      "F1-score of random forest classifier: 0.7449\n",
      "F1-score of KNN classifier: 0.6748\n"
     ]
    }
   ],
   "source": [
    "# Predicciones con modelo Knn\n",
    "knn_clf.fit(x_train, y_train)\n",
    "y_pred_knn = knn_clf.predict(x_test)\n",
    "\n",
    "# Predicciones con modelo Random Forest\n",
    "rnd_clf.fit(x_train, y_train)\n",
    "y_pred_rnd = rnd_clf.predict(x_test)\n",
    "\n",
    "# Predicciones con modelo DTC\n",
    "dtc_clf.fit(x_train, y_train)\n",
    "y_pred_dtc = dtc_clf.predict(x_test)\n",
    "\n",
    "\n",
    "# evaluating the models based on their f-1 scores\n",
    "f1_dtc = f1_score(y_test, y_pred_dtc,average='weighted')\n",
    "f1_rnd = f1_score(y_test, y_pred_rnd,average='weighted')\n",
    "f1_knn = f1_score(y_test, y_pred_knn,average='weighted')\n",
    "\n",
    "# print the f-1 scores\n",
    "print('F1-score of decision tree classifier: {}'.format(np.round(f1_dtc,4)))\n",
    "print('F1-score of random forest classifier: {}'.format(np.round(f1_rnd,4)))\n",
    "print('F1-score of KNN classifier: {}'.format(np.round(f1_knn,4)))"
   ]
  },
  {
   "cell_type": "markdown",
   "metadata": {},
   "source": [
    "Tras predecir los modelos individualmente, vamos a realizar el Voting para ver si mejora."
   ]
  },
  {
   "cell_type": "code",
   "execution_count": null,
   "metadata": {},
   "outputs": [
    {
     "ename": "KeyboardInterrupt",
     "evalue": "",
     "output_type": "error",
     "traceback": [
      "\u001b[1;31m---------------------------------------------------------------------------\u001b[0m",
      "\u001b[1;31mKeyboardInterrupt\u001b[0m                         Traceback (most recent call last)",
      "\u001b[1;32mc:\\Users\\iankl\\Documents\\GitHub\\7506R_TP1_GRUPO22_ENTREGA\\7506R_TP2_GRUPO22_ENTREGA_N1.ipynb Celda 57\u001b[0m in \u001b[0;36m<cell line: 10>\u001b[1;34m()\u001b[0m\n\u001b[0;32m      <a href='vscode-notebook-cell:/c%3A/Users/iankl/Documents/GitHub/7506R_TP1_GRUPO22_ENTREGA/7506R_TP2_GRUPO22_ENTREGA_N1.ipynb#Y106sZmlsZQ%3D%3D?line=7'>8</a>\u001b[0m \u001b[39m#Entreno ambos ensembles\u001b[39;00m\n\u001b[0;32m      <a href='vscode-notebook-cell:/c%3A/Users/iankl/Documents/GitHub/7506R_TP1_GRUPO22_ENTREGA/7506R_TP2_GRUPO22_ENTREGA_N1.ipynb#Y106sZmlsZQ%3D%3D?line=8'>9</a>\u001b[0m vot_clf_h\u001b[39m.\u001b[39mfit(x_train, y_train)\n\u001b[1;32m---> <a href='vscode-notebook-cell:/c%3A/Users/iankl/Documents/GitHub/7506R_TP1_GRUPO22_ENTREGA/7506R_TP2_GRUPO22_ENTREGA_N1.ipynb#Y106sZmlsZQ%3D%3D?line=9'>10</a>\u001b[0m vot_clf_s\u001b[39m.\u001b[39;49mfit(x_train, y_train)\n\u001b[0;32m     <a href='vscode-notebook-cell:/c%3A/Users/iankl/Documents/GitHub/7506R_TP1_GRUPO22_ENTREGA/7506R_TP2_GRUPO22_ENTREGA_N1.ipynb#Y106sZmlsZQ%3D%3D?line=11'>12</a>\u001b[0m \u001b[39m#Evaluo en conjunto de test\u001b[39;00m\n\u001b[0;32m     <a href='vscode-notebook-cell:/c%3A/Users/iankl/Documents/GitHub/7506R_TP1_GRUPO22_ENTREGA/7506R_TP2_GRUPO22_ENTREGA_N1.ipynb#Y106sZmlsZQ%3D%3D?line=12'>13</a>\u001b[0m pred_h \u001b[39m=\u001b[39m vot_clf_h\u001b[39m.\u001b[39mpredict(x_test)\n",
      "File \u001b[1;32m~\\AppData\\Roaming\\Python\\Python39\\site-packages\\sklearn\\ensemble\\_voting.py:351\u001b[0m, in \u001b[0;36mVotingClassifier.fit\u001b[1;34m(self, X, y, sample_weight)\u001b[0m\n\u001b[0;32m    348\u001b[0m \u001b[39mself\u001b[39m\u001b[39m.\u001b[39mclasses_ \u001b[39m=\u001b[39m \u001b[39mself\u001b[39m\u001b[39m.\u001b[39mle_\u001b[39m.\u001b[39mclasses_\n\u001b[0;32m    349\u001b[0m transformed_y \u001b[39m=\u001b[39m \u001b[39mself\u001b[39m\u001b[39m.\u001b[39mle_\u001b[39m.\u001b[39mtransform(y)\n\u001b[1;32m--> 351\u001b[0m \u001b[39mreturn\u001b[39;00m \u001b[39msuper\u001b[39;49m()\u001b[39m.\u001b[39;49mfit(X, transformed_y, sample_weight)\n",
      "File \u001b[1;32m~\\AppData\\Roaming\\Python\\Python39\\site-packages\\sklearn\\ensemble\\_voting.py:83\u001b[0m, in \u001b[0;36m_BaseVoting.fit\u001b[1;34m(self, X, y, sample_weight)\u001b[0m\n\u001b[0;32m     77\u001b[0m \u001b[39mif\u001b[39;00m \u001b[39mself\u001b[39m\u001b[39m.\u001b[39mweights \u001b[39mis\u001b[39;00m \u001b[39mnot\u001b[39;00m \u001b[39mNone\u001b[39;00m \u001b[39mand\u001b[39;00m \u001b[39mlen\u001b[39m(\u001b[39mself\u001b[39m\u001b[39m.\u001b[39mweights) \u001b[39m!=\u001b[39m \u001b[39mlen\u001b[39m(\u001b[39mself\u001b[39m\u001b[39m.\u001b[39mestimators):\n\u001b[0;32m     78\u001b[0m     \u001b[39mraise\u001b[39;00m \u001b[39mValueError\u001b[39;00m(\n\u001b[0;32m     79\u001b[0m         \u001b[39m\"\u001b[39m\u001b[39mNumber of `estimators` and weights must be equal; got\u001b[39m\u001b[39m\"\u001b[39m\n\u001b[0;32m     80\u001b[0m         \u001b[39mf\u001b[39m\u001b[39m\"\u001b[39m\u001b[39m \u001b[39m\u001b[39m{\u001b[39;00m\u001b[39mlen\u001b[39m(\u001b[39mself\u001b[39m\u001b[39m.\u001b[39mweights)\u001b[39m}\u001b[39;00m\u001b[39m weights, \u001b[39m\u001b[39m{\u001b[39;00m\u001b[39mlen\u001b[39m(\u001b[39mself\u001b[39m\u001b[39m.\u001b[39mestimators)\u001b[39m}\u001b[39;00m\u001b[39m estimators\u001b[39m\u001b[39m\"\u001b[39m\n\u001b[0;32m     81\u001b[0m     )\n\u001b[1;32m---> 83\u001b[0m \u001b[39mself\u001b[39m\u001b[39m.\u001b[39mestimators_ \u001b[39m=\u001b[39m Parallel(n_jobs\u001b[39m=\u001b[39;49m\u001b[39mself\u001b[39;49m\u001b[39m.\u001b[39;49mn_jobs)(\n\u001b[0;32m     84\u001b[0m     delayed(_fit_single_estimator)(\n\u001b[0;32m     85\u001b[0m         clone(clf),\n\u001b[0;32m     86\u001b[0m         X,\n\u001b[0;32m     87\u001b[0m         y,\n\u001b[0;32m     88\u001b[0m         sample_weight\u001b[39m=\u001b[39;49msample_weight,\n\u001b[0;32m     89\u001b[0m         message_clsname\u001b[39m=\u001b[39;49m\u001b[39m\"\u001b[39;49m\u001b[39mVoting\u001b[39;49m\u001b[39m\"\u001b[39;49m,\n\u001b[0;32m     90\u001b[0m         message\u001b[39m=\u001b[39;49m\u001b[39mself\u001b[39;49m\u001b[39m.\u001b[39;49m_log_message(names[idx], idx \u001b[39m+\u001b[39;49m \u001b[39m1\u001b[39;49m, \u001b[39mlen\u001b[39;49m(clfs)),\n\u001b[0;32m     91\u001b[0m     )\n\u001b[0;32m     92\u001b[0m     \u001b[39mfor\u001b[39;49;00m idx, clf \u001b[39min\u001b[39;49;00m \u001b[39menumerate\u001b[39;49m(clfs)\n\u001b[0;32m     93\u001b[0m     \u001b[39mif\u001b[39;49;00m clf \u001b[39m!=\u001b[39;49m \u001b[39m\"\u001b[39;49m\u001b[39mdrop\u001b[39;49m\u001b[39m\"\u001b[39;49m\n\u001b[0;32m     94\u001b[0m )\n\u001b[0;32m     96\u001b[0m \u001b[39mself\u001b[39m\u001b[39m.\u001b[39mnamed_estimators_ \u001b[39m=\u001b[39m Bunch()\n\u001b[0;32m     98\u001b[0m \u001b[39m# Uses 'drop' as placeholder for dropped estimators\u001b[39;00m\n",
      "File \u001b[1;32m~\\AppData\\Roaming\\Python\\Python39\\site-packages\\joblib\\parallel.py:1088\u001b[0m, in \u001b[0;36mParallel.__call__\u001b[1;34m(self, iterable)\u001b[0m\n\u001b[0;32m   1085\u001b[0m \u001b[39mif\u001b[39;00m \u001b[39mself\u001b[39m\u001b[39m.\u001b[39mdispatch_one_batch(iterator):\n\u001b[0;32m   1086\u001b[0m     \u001b[39mself\u001b[39m\u001b[39m.\u001b[39m_iterating \u001b[39m=\u001b[39m \u001b[39mself\u001b[39m\u001b[39m.\u001b[39m_original_iterator \u001b[39mis\u001b[39;00m \u001b[39mnot\u001b[39;00m \u001b[39mNone\u001b[39;00m\n\u001b[1;32m-> 1088\u001b[0m \u001b[39mwhile\u001b[39;00m \u001b[39mself\u001b[39;49m\u001b[39m.\u001b[39;49mdispatch_one_batch(iterator):\n\u001b[0;32m   1089\u001b[0m     \u001b[39mpass\u001b[39;00m\n\u001b[0;32m   1091\u001b[0m \u001b[39mif\u001b[39;00m pre_dispatch \u001b[39m==\u001b[39m \u001b[39m\"\u001b[39m\u001b[39mall\u001b[39m\u001b[39m\"\u001b[39m \u001b[39mor\u001b[39;00m n_jobs \u001b[39m==\u001b[39m \u001b[39m1\u001b[39m:\n\u001b[0;32m   1092\u001b[0m     \u001b[39m# The iterable was consumed all at once by the above for loop.\u001b[39;00m\n\u001b[0;32m   1093\u001b[0m     \u001b[39m# No need to wait for async callbacks to trigger to\u001b[39;00m\n\u001b[0;32m   1094\u001b[0m     \u001b[39m# consumption.\u001b[39;00m\n",
      "File \u001b[1;32m~\\AppData\\Roaming\\Python\\Python39\\site-packages\\joblib\\parallel.py:901\u001b[0m, in \u001b[0;36mParallel.dispatch_one_batch\u001b[1;34m(self, iterator)\u001b[0m\n\u001b[0;32m    899\u001b[0m     \u001b[39mreturn\u001b[39;00m \u001b[39mFalse\u001b[39;00m\n\u001b[0;32m    900\u001b[0m \u001b[39melse\u001b[39;00m:\n\u001b[1;32m--> 901\u001b[0m     \u001b[39mself\u001b[39;49m\u001b[39m.\u001b[39;49m_dispatch(tasks)\n\u001b[0;32m    902\u001b[0m     \u001b[39mreturn\u001b[39;00m \u001b[39mTrue\u001b[39;00m\n",
      "File \u001b[1;32m~\\AppData\\Roaming\\Python\\Python39\\site-packages\\joblib\\parallel.py:819\u001b[0m, in \u001b[0;36mParallel._dispatch\u001b[1;34m(self, batch)\u001b[0m\n\u001b[0;32m    817\u001b[0m \u001b[39mwith\u001b[39;00m \u001b[39mself\u001b[39m\u001b[39m.\u001b[39m_lock:\n\u001b[0;32m    818\u001b[0m     job_idx \u001b[39m=\u001b[39m \u001b[39mlen\u001b[39m(\u001b[39mself\u001b[39m\u001b[39m.\u001b[39m_jobs)\n\u001b[1;32m--> 819\u001b[0m     job \u001b[39m=\u001b[39m \u001b[39mself\u001b[39;49m\u001b[39m.\u001b[39;49m_backend\u001b[39m.\u001b[39;49mapply_async(batch, callback\u001b[39m=\u001b[39;49mcb)\n\u001b[0;32m    820\u001b[0m     \u001b[39m# A job can complete so quickly than its callback is\u001b[39;00m\n\u001b[0;32m    821\u001b[0m     \u001b[39m# called before we get here, causing self._jobs to\u001b[39;00m\n\u001b[0;32m    822\u001b[0m     \u001b[39m# grow. To ensure correct results ordering, .insert is\u001b[39;00m\n\u001b[0;32m    823\u001b[0m     \u001b[39m# used (rather than .append) in the following line\u001b[39;00m\n\u001b[0;32m    824\u001b[0m     \u001b[39mself\u001b[39m\u001b[39m.\u001b[39m_jobs\u001b[39m.\u001b[39minsert(job_idx, job)\n",
      "File \u001b[1;32m~\\AppData\\Roaming\\Python\\Python39\\site-packages\\joblib\\_parallel_backends.py:208\u001b[0m, in \u001b[0;36mSequentialBackend.apply_async\u001b[1;34m(self, func, callback)\u001b[0m\n\u001b[0;32m    206\u001b[0m \u001b[39mdef\u001b[39;00m \u001b[39mapply_async\u001b[39m(\u001b[39mself\u001b[39m, func, callback\u001b[39m=\u001b[39m\u001b[39mNone\u001b[39;00m):\n\u001b[0;32m    207\u001b[0m     \u001b[39m\"\"\"Schedule a func to be run\"\"\"\u001b[39;00m\n\u001b[1;32m--> 208\u001b[0m     result \u001b[39m=\u001b[39m ImmediateResult(func)\n\u001b[0;32m    209\u001b[0m     \u001b[39mif\u001b[39;00m callback:\n\u001b[0;32m    210\u001b[0m         callback(result)\n",
      "File \u001b[1;32m~\\AppData\\Roaming\\Python\\Python39\\site-packages\\joblib\\_parallel_backends.py:597\u001b[0m, in \u001b[0;36mImmediateResult.__init__\u001b[1;34m(self, batch)\u001b[0m\n\u001b[0;32m    594\u001b[0m \u001b[39mdef\u001b[39;00m \u001b[39m__init__\u001b[39m(\u001b[39mself\u001b[39m, batch):\n\u001b[0;32m    595\u001b[0m     \u001b[39m# Don't delay the application, to avoid keeping the input\u001b[39;00m\n\u001b[0;32m    596\u001b[0m     \u001b[39m# arguments in memory\u001b[39;00m\n\u001b[1;32m--> 597\u001b[0m     \u001b[39mself\u001b[39m\u001b[39m.\u001b[39mresults \u001b[39m=\u001b[39m batch()\n",
      "File \u001b[1;32m~\\AppData\\Roaming\\Python\\Python39\\site-packages\\joblib\\parallel.py:288\u001b[0m, in \u001b[0;36mBatchedCalls.__call__\u001b[1;34m(self)\u001b[0m\n\u001b[0;32m    284\u001b[0m \u001b[39mdef\u001b[39;00m \u001b[39m__call__\u001b[39m(\u001b[39mself\u001b[39m):\n\u001b[0;32m    285\u001b[0m     \u001b[39m# Set the default nested backend to self._backend but do not set the\u001b[39;00m\n\u001b[0;32m    286\u001b[0m     \u001b[39m# change the default number of processes to -1\u001b[39;00m\n\u001b[0;32m    287\u001b[0m     \u001b[39mwith\u001b[39;00m parallel_backend(\u001b[39mself\u001b[39m\u001b[39m.\u001b[39m_backend, n_jobs\u001b[39m=\u001b[39m\u001b[39mself\u001b[39m\u001b[39m.\u001b[39m_n_jobs):\n\u001b[1;32m--> 288\u001b[0m         \u001b[39mreturn\u001b[39;00m [func(\u001b[39m*\u001b[39margs, \u001b[39m*\u001b[39m\u001b[39m*\u001b[39mkwargs)\n\u001b[0;32m    289\u001b[0m                 \u001b[39mfor\u001b[39;00m func, args, kwargs \u001b[39min\u001b[39;00m \u001b[39mself\u001b[39m\u001b[39m.\u001b[39mitems]\n",
      "File \u001b[1;32m~\\AppData\\Roaming\\Python\\Python39\\site-packages\\joblib\\parallel.py:288\u001b[0m, in \u001b[0;36m<listcomp>\u001b[1;34m(.0)\u001b[0m\n\u001b[0;32m    284\u001b[0m \u001b[39mdef\u001b[39;00m \u001b[39m__call__\u001b[39m(\u001b[39mself\u001b[39m):\n\u001b[0;32m    285\u001b[0m     \u001b[39m# Set the default nested backend to self._backend but do not set the\u001b[39;00m\n\u001b[0;32m    286\u001b[0m     \u001b[39m# change the default number of processes to -1\u001b[39;00m\n\u001b[0;32m    287\u001b[0m     \u001b[39mwith\u001b[39;00m parallel_backend(\u001b[39mself\u001b[39m\u001b[39m.\u001b[39m_backend, n_jobs\u001b[39m=\u001b[39m\u001b[39mself\u001b[39m\u001b[39m.\u001b[39m_n_jobs):\n\u001b[1;32m--> 288\u001b[0m         \u001b[39mreturn\u001b[39;00m [func(\u001b[39m*\u001b[39margs, \u001b[39m*\u001b[39m\u001b[39m*\u001b[39mkwargs)\n\u001b[0;32m    289\u001b[0m                 \u001b[39mfor\u001b[39;00m func, args, kwargs \u001b[39min\u001b[39;00m \u001b[39mself\u001b[39m\u001b[39m.\u001b[39mitems]\n",
      "File \u001b[1;32m~\\AppData\\Roaming\\Python\\Python39\\site-packages\\sklearn\\utils\\fixes.py:117\u001b[0m, in \u001b[0;36m_FuncWrapper.__call__\u001b[1;34m(self, *args, **kwargs)\u001b[0m\n\u001b[0;32m    115\u001b[0m \u001b[39mdef\u001b[39;00m \u001b[39m__call__\u001b[39m(\u001b[39mself\u001b[39m, \u001b[39m*\u001b[39margs, \u001b[39m*\u001b[39m\u001b[39m*\u001b[39mkwargs):\n\u001b[0;32m    116\u001b[0m     \u001b[39mwith\u001b[39;00m config_context(\u001b[39m*\u001b[39m\u001b[39m*\u001b[39m\u001b[39mself\u001b[39m\u001b[39m.\u001b[39mconfig):\n\u001b[1;32m--> 117\u001b[0m         \u001b[39mreturn\u001b[39;00m \u001b[39mself\u001b[39m\u001b[39m.\u001b[39mfunction(\u001b[39m*\u001b[39margs, \u001b[39m*\u001b[39m\u001b[39m*\u001b[39mkwargs)\n",
      "File \u001b[1;32m~\\AppData\\Roaming\\Python\\Python39\\site-packages\\sklearn\\ensemble\\_base.py:47\u001b[0m, in \u001b[0;36m_fit_single_estimator\u001b[1;34m(estimator, X, y, sample_weight, message_clsname, message)\u001b[0m\n\u001b[0;32m     45\u001b[0m \u001b[39melse\u001b[39;00m:\n\u001b[0;32m     46\u001b[0m     \u001b[39mwith\u001b[39;00m _print_elapsed_time(message_clsname, message):\n\u001b[1;32m---> 47\u001b[0m         estimator\u001b[39m.\u001b[39;49mfit(X, y)\n\u001b[0;32m     48\u001b[0m \u001b[39mreturn\u001b[39;00m estimator\n",
      "File \u001b[1;32m~\\AppData\\Roaming\\Python\\Python39\\site-packages\\sklearn\\ensemble\\_forest.py:476\u001b[0m, in \u001b[0;36mBaseForest.fit\u001b[1;34m(self, X, y, sample_weight)\u001b[0m\n\u001b[0;32m    465\u001b[0m trees \u001b[39m=\u001b[39m [\n\u001b[0;32m    466\u001b[0m     \u001b[39mself\u001b[39m\u001b[39m.\u001b[39m_make_estimator(append\u001b[39m=\u001b[39m\u001b[39mFalse\u001b[39;00m, random_state\u001b[39m=\u001b[39mrandom_state)\n\u001b[0;32m    467\u001b[0m     \u001b[39mfor\u001b[39;00m i \u001b[39min\u001b[39;00m \u001b[39mrange\u001b[39m(n_more_estimators)\n\u001b[0;32m    468\u001b[0m ]\n\u001b[0;32m    470\u001b[0m \u001b[39m# Parallel loop: we prefer the threading backend as the Cython code\u001b[39;00m\n\u001b[0;32m    471\u001b[0m \u001b[39m# for fitting the trees is internally releasing the Python GIL\u001b[39;00m\n\u001b[0;32m    472\u001b[0m \u001b[39m# making threading more efficient than multiprocessing in\u001b[39;00m\n\u001b[0;32m    473\u001b[0m \u001b[39m# that case. However, for joblib 0.12+ we respect any\u001b[39;00m\n\u001b[0;32m    474\u001b[0m \u001b[39m# parallel_backend contexts set at a higher level,\u001b[39;00m\n\u001b[0;32m    475\u001b[0m \u001b[39m# since correctness does not rely on using threads.\u001b[39;00m\n\u001b[1;32m--> 476\u001b[0m trees \u001b[39m=\u001b[39m Parallel(\n\u001b[0;32m    477\u001b[0m     n_jobs\u001b[39m=\u001b[39;49m\u001b[39mself\u001b[39;49m\u001b[39m.\u001b[39;49mn_jobs,\n\u001b[0;32m    478\u001b[0m     verbose\u001b[39m=\u001b[39;49m\u001b[39mself\u001b[39;49m\u001b[39m.\u001b[39;49mverbose,\n\u001b[0;32m    479\u001b[0m     prefer\u001b[39m=\u001b[39;49m\u001b[39m\"\u001b[39;49m\u001b[39mthreads\u001b[39;49m\u001b[39m\"\u001b[39;49m,\n\u001b[0;32m    480\u001b[0m )(\n\u001b[0;32m    481\u001b[0m     delayed(_parallel_build_trees)(\n\u001b[0;32m    482\u001b[0m         t,\n\u001b[0;32m    483\u001b[0m         \u001b[39mself\u001b[39;49m\u001b[39m.\u001b[39;49mbootstrap,\n\u001b[0;32m    484\u001b[0m         X,\n\u001b[0;32m    485\u001b[0m         y,\n\u001b[0;32m    486\u001b[0m         sample_weight,\n\u001b[0;32m    487\u001b[0m         i,\n\u001b[0;32m    488\u001b[0m         \u001b[39mlen\u001b[39;49m(trees),\n\u001b[0;32m    489\u001b[0m         verbose\u001b[39m=\u001b[39;49m\u001b[39mself\u001b[39;49m\u001b[39m.\u001b[39;49mverbose,\n\u001b[0;32m    490\u001b[0m         class_weight\u001b[39m=\u001b[39;49m\u001b[39mself\u001b[39;49m\u001b[39m.\u001b[39;49mclass_weight,\n\u001b[0;32m    491\u001b[0m         n_samples_bootstrap\u001b[39m=\u001b[39;49mn_samples_bootstrap,\n\u001b[0;32m    492\u001b[0m     )\n\u001b[0;32m    493\u001b[0m     \u001b[39mfor\u001b[39;49;00m i, t \u001b[39min\u001b[39;49;00m \u001b[39menumerate\u001b[39;49m(trees)\n\u001b[0;32m    494\u001b[0m )\n\u001b[0;32m    496\u001b[0m \u001b[39m# Collect newly grown trees\u001b[39;00m\n\u001b[0;32m    497\u001b[0m \u001b[39mself\u001b[39m\u001b[39m.\u001b[39mestimators_\u001b[39m.\u001b[39mextend(trees)\n",
      "File \u001b[1;32m~\\AppData\\Roaming\\Python\\Python39\\site-packages\\joblib\\parallel.py:1088\u001b[0m, in \u001b[0;36mParallel.__call__\u001b[1;34m(self, iterable)\u001b[0m\n\u001b[0;32m   1085\u001b[0m \u001b[39mif\u001b[39;00m \u001b[39mself\u001b[39m\u001b[39m.\u001b[39mdispatch_one_batch(iterator):\n\u001b[0;32m   1086\u001b[0m     \u001b[39mself\u001b[39m\u001b[39m.\u001b[39m_iterating \u001b[39m=\u001b[39m \u001b[39mself\u001b[39m\u001b[39m.\u001b[39m_original_iterator \u001b[39mis\u001b[39;00m \u001b[39mnot\u001b[39;00m \u001b[39mNone\u001b[39;00m\n\u001b[1;32m-> 1088\u001b[0m \u001b[39mwhile\u001b[39;00m \u001b[39mself\u001b[39;49m\u001b[39m.\u001b[39;49mdispatch_one_batch(iterator):\n\u001b[0;32m   1089\u001b[0m     \u001b[39mpass\u001b[39;00m\n\u001b[0;32m   1091\u001b[0m \u001b[39mif\u001b[39;00m pre_dispatch \u001b[39m==\u001b[39m \u001b[39m\"\u001b[39m\u001b[39mall\u001b[39m\u001b[39m\"\u001b[39m \u001b[39mor\u001b[39;00m n_jobs \u001b[39m==\u001b[39m \u001b[39m1\u001b[39m:\n\u001b[0;32m   1092\u001b[0m     \u001b[39m# The iterable was consumed all at once by the above for loop.\u001b[39;00m\n\u001b[0;32m   1093\u001b[0m     \u001b[39m# No need to wait for async callbacks to trigger to\u001b[39;00m\n\u001b[0;32m   1094\u001b[0m     \u001b[39m# consumption.\u001b[39;00m\n",
      "File \u001b[1;32m~\\AppData\\Roaming\\Python\\Python39\\site-packages\\joblib\\parallel.py:901\u001b[0m, in \u001b[0;36mParallel.dispatch_one_batch\u001b[1;34m(self, iterator)\u001b[0m\n\u001b[0;32m    899\u001b[0m     \u001b[39mreturn\u001b[39;00m \u001b[39mFalse\u001b[39;00m\n\u001b[0;32m    900\u001b[0m \u001b[39melse\u001b[39;00m:\n\u001b[1;32m--> 901\u001b[0m     \u001b[39mself\u001b[39;49m\u001b[39m.\u001b[39;49m_dispatch(tasks)\n\u001b[0;32m    902\u001b[0m     \u001b[39mreturn\u001b[39;00m \u001b[39mTrue\u001b[39;00m\n",
      "File \u001b[1;32m~\\AppData\\Roaming\\Python\\Python39\\site-packages\\joblib\\parallel.py:819\u001b[0m, in \u001b[0;36mParallel._dispatch\u001b[1;34m(self, batch)\u001b[0m\n\u001b[0;32m    817\u001b[0m \u001b[39mwith\u001b[39;00m \u001b[39mself\u001b[39m\u001b[39m.\u001b[39m_lock:\n\u001b[0;32m    818\u001b[0m     job_idx \u001b[39m=\u001b[39m \u001b[39mlen\u001b[39m(\u001b[39mself\u001b[39m\u001b[39m.\u001b[39m_jobs)\n\u001b[1;32m--> 819\u001b[0m     job \u001b[39m=\u001b[39m \u001b[39mself\u001b[39;49m\u001b[39m.\u001b[39;49m_backend\u001b[39m.\u001b[39;49mapply_async(batch, callback\u001b[39m=\u001b[39;49mcb)\n\u001b[0;32m    820\u001b[0m     \u001b[39m# A job can complete so quickly than its callback is\u001b[39;00m\n\u001b[0;32m    821\u001b[0m     \u001b[39m# called before we get here, causing self._jobs to\u001b[39;00m\n\u001b[0;32m    822\u001b[0m     \u001b[39m# grow. To ensure correct results ordering, .insert is\u001b[39;00m\n\u001b[0;32m    823\u001b[0m     \u001b[39m# used (rather than .append) in the following line\u001b[39;00m\n\u001b[0;32m    824\u001b[0m     \u001b[39mself\u001b[39m\u001b[39m.\u001b[39m_jobs\u001b[39m.\u001b[39minsert(job_idx, job)\n",
      "File \u001b[1;32m~\\AppData\\Roaming\\Python\\Python39\\site-packages\\joblib\\_parallel_backends.py:208\u001b[0m, in \u001b[0;36mSequentialBackend.apply_async\u001b[1;34m(self, func, callback)\u001b[0m\n\u001b[0;32m    206\u001b[0m \u001b[39mdef\u001b[39;00m \u001b[39mapply_async\u001b[39m(\u001b[39mself\u001b[39m, func, callback\u001b[39m=\u001b[39m\u001b[39mNone\u001b[39;00m):\n\u001b[0;32m    207\u001b[0m     \u001b[39m\"\"\"Schedule a func to be run\"\"\"\u001b[39;00m\n\u001b[1;32m--> 208\u001b[0m     result \u001b[39m=\u001b[39m ImmediateResult(func)\n\u001b[0;32m    209\u001b[0m     \u001b[39mif\u001b[39;00m callback:\n\u001b[0;32m    210\u001b[0m         callback(result)\n",
      "File \u001b[1;32m~\\AppData\\Roaming\\Python\\Python39\\site-packages\\joblib\\_parallel_backends.py:597\u001b[0m, in \u001b[0;36mImmediateResult.__init__\u001b[1;34m(self, batch)\u001b[0m\n\u001b[0;32m    594\u001b[0m \u001b[39mdef\u001b[39;00m \u001b[39m__init__\u001b[39m(\u001b[39mself\u001b[39m, batch):\n\u001b[0;32m    595\u001b[0m     \u001b[39m# Don't delay the application, to avoid keeping the input\u001b[39;00m\n\u001b[0;32m    596\u001b[0m     \u001b[39m# arguments in memory\u001b[39;00m\n\u001b[1;32m--> 597\u001b[0m     \u001b[39mself\u001b[39m\u001b[39m.\u001b[39mresults \u001b[39m=\u001b[39m batch()\n",
      "File \u001b[1;32m~\\AppData\\Roaming\\Python\\Python39\\site-packages\\joblib\\parallel.py:288\u001b[0m, in \u001b[0;36mBatchedCalls.__call__\u001b[1;34m(self)\u001b[0m\n\u001b[0;32m    284\u001b[0m \u001b[39mdef\u001b[39;00m \u001b[39m__call__\u001b[39m(\u001b[39mself\u001b[39m):\n\u001b[0;32m    285\u001b[0m     \u001b[39m# Set the default nested backend to self._backend but do not set the\u001b[39;00m\n\u001b[0;32m    286\u001b[0m     \u001b[39m# change the default number of processes to -1\u001b[39;00m\n\u001b[0;32m    287\u001b[0m     \u001b[39mwith\u001b[39;00m parallel_backend(\u001b[39mself\u001b[39m\u001b[39m.\u001b[39m_backend, n_jobs\u001b[39m=\u001b[39m\u001b[39mself\u001b[39m\u001b[39m.\u001b[39m_n_jobs):\n\u001b[1;32m--> 288\u001b[0m         \u001b[39mreturn\u001b[39;00m [func(\u001b[39m*\u001b[39margs, \u001b[39m*\u001b[39m\u001b[39m*\u001b[39mkwargs)\n\u001b[0;32m    289\u001b[0m                 \u001b[39mfor\u001b[39;00m func, args, kwargs \u001b[39min\u001b[39;00m \u001b[39mself\u001b[39m\u001b[39m.\u001b[39mitems]\n",
      "File \u001b[1;32m~\\AppData\\Roaming\\Python\\Python39\\site-packages\\joblib\\parallel.py:288\u001b[0m, in \u001b[0;36m<listcomp>\u001b[1;34m(.0)\u001b[0m\n\u001b[0;32m    284\u001b[0m \u001b[39mdef\u001b[39;00m \u001b[39m__call__\u001b[39m(\u001b[39mself\u001b[39m):\n\u001b[0;32m    285\u001b[0m     \u001b[39m# Set the default nested backend to self._backend but do not set the\u001b[39;00m\n\u001b[0;32m    286\u001b[0m     \u001b[39m# change the default number of processes to -1\u001b[39;00m\n\u001b[0;32m    287\u001b[0m     \u001b[39mwith\u001b[39;00m parallel_backend(\u001b[39mself\u001b[39m\u001b[39m.\u001b[39m_backend, n_jobs\u001b[39m=\u001b[39m\u001b[39mself\u001b[39m\u001b[39m.\u001b[39m_n_jobs):\n\u001b[1;32m--> 288\u001b[0m         \u001b[39mreturn\u001b[39;00m [func(\u001b[39m*\u001b[39margs, \u001b[39m*\u001b[39m\u001b[39m*\u001b[39mkwargs)\n\u001b[0;32m    289\u001b[0m                 \u001b[39mfor\u001b[39;00m func, args, kwargs \u001b[39min\u001b[39;00m \u001b[39mself\u001b[39m\u001b[39m.\u001b[39mitems]\n",
      "File \u001b[1;32m~\\AppData\\Roaming\\Python\\Python39\\site-packages\\sklearn\\utils\\fixes.py:117\u001b[0m, in \u001b[0;36m_FuncWrapper.__call__\u001b[1;34m(self, *args, **kwargs)\u001b[0m\n\u001b[0;32m    115\u001b[0m \u001b[39mdef\u001b[39;00m \u001b[39m__call__\u001b[39m(\u001b[39mself\u001b[39m, \u001b[39m*\u001b[39margs, \u001b[39m*\u001b[39m\u001b[39m*\u001b[39mkwargs):\n\u001b[0;32m    116\u001b[0m     \u001b[39mwith\u001b[39;00m config_context(\u001b[39m*\u001b[39m\u001b[39m*\u001b[39m\u001b[39mself\u001b[39m\u001b[39m.\u001b[39mconfig):\n\u001b[1;32m--> 117\u001b[0m         \u001b[39mreturn\u001b[39;00m \u001b[39mself\u001b[39m\u001b[39m.\u001b[39mfunction(\u001b[39m*\u001b[39margs, \u001b[39m*\u001b[39m\u001b[39m*\u001b[39mkwargs)\n",
      "File \u001b[1;32m~\\AppData\\Roaming\\Python\\Python39\\site-packages\\sklearn\\ensemble\\_forest.py:189\u001b[0m, in \u001b[0;36m_parallel_build_trees\u001b[1;34m(tree, bootstrap, X, y, sample_weight, tree_idx, n_trees, verbose, class_weight, n_samples_bootstrap)\u001b[0m\n\u001b[0;32m    186\u001b[0m     \u001b[39melif\u001b[39;00m class_weight \u001b[39m==\u001b[39m \u001b[39m\"\u001b[39m\u001b[39mbalanced_subsample\u001b[39m\u001b[39m\"\u001b[39m:\n\u001b[0;32m    187\u001b[0m         curr_sample_weight \u001b[39m*\u001b[39m\u001b[39m=\u001b[39m compute_sample_weight(\u001b[39m\"\u001b[39m\u001b[39mbalanced\u001b[39m\u001b[39m\"\u001b[39m, y, indices\u001b[39m=\u001b[39mindices)\n\u001b[1;32m--> 189\u001b[0m     tree\u001b[39m.\u001b[39;49mfit(X, y, sample_weight\u001b[39m=\u001b[39;49mcurr_sample_weight, check_input\u001b[39m=\u001b[39;49m\u001b[39mFalse\u001b[39;49;00m)\n\u001b[0;32m    190\u001b[0m \u001b[39melse\u001b[39;00m:\n\u001b[0;32m    191\u001b[0m     tree\u001b[39m.\u001b[39mfit(X, y, sample_weight\u001b[39m=\u001b[39msample_weight, check_input\u001b[39m=\u001b[39m\u001b[39mFalse\u001b[39;00m)\n",
      "File \u001b[1;32m~\\AppData\\Roaming\\Python\\Python39\\site-packages\\sklearn\\tree\\_classes.py:969\u001b[0m, in \u001b[0;36mDecisionTreeClassifier.fit\u001b[1;34m(self, X, y, sample_weight, check_input)\u001b[0m\n\u001b[0;32m    939\u001b[0m \u001b[39mdef\u001b[39;00m \u001b[39mfit\u001b[39m(\u001b[39mself\u001b[39m, X, y, sample_weight\u001b[39m=\u001b[39m\u001b[39mNone\u001b[39;00m, check_input\u001b[39m=\u001b[39m\u001b[39mTrue\u001b[39;00m):\n\u001b[0;32m    940\u001b[0m     \u001b[39m\"\"\"Build a decision tree classifier from the training set (X, y).\u001b[39;00m\n\u001b[0;32m    941\u001b[0m \n\u001b[0;32m    942\u001b[0m \u001b[39m    Parameters\u001b[39;00m\n\u001b[1;32m   (...)\u001b[0m\n\u001b[0;32m    966\u001b[0m \u001b[39m        Fitted estimator.\u001b[39;00m\n\u001b[0;32m    967\u001b[0m \u001b[39m    \"\"\"\u001b[39;00m\n\u001b[1;32m--> 969\u001b[0m     \u001b[39msuper\u001b[39;49m()\u001b[39m.\u001b[39;49mfit(\n\u001b[0;32m    970\u001b[0m         X,\n\u001b[0;32m    971\u001b[0m         y,\n\u001b[0;32m    972\u001b[0m         sample_weight\u001b[39m=\u001b[39;49msample_weight,\n\u001b[0;32m    973\u001b[0m         check_input\u001b[39m=\u001b[39;49mcheck_input,\n\u001b[0;32m    974\u001b[0m     )\n\u001b[0;32m    975\u001b[0m     \u001b[39mreturn\u001b[39;00m \u001b[39mself\u001b[39m\n",
      "File \u001b[1;32m~\\AppData\\Roaming\\Python\\Python39\\site-packages\\sklearn\\tree\\_classes.py:458\u001b[0m, in \u001b[0;36mBaseDecisionTree.fit\u001b[1;34m(self, X, y, sample_weight, check_input)\u001b[0m\n\u001b[0;32m    447\u001b[0m \u001b[39melse\u001b[39;00m:\n\u001b[0;32m    448\u001b[0m     builder \u001b[39m=\u001b[39m BestFirstTreeBuilder(\n\u001b[0;32m    449\u001b[0m         splitter,\n\u001b[0;32m    450\u001b[0m         min_samples_split,\n\u001b[1;32m   (...)\u001b[0m\n\u001b[0;32m    455\u001b[0m         \u001b[39mself\u001b[39m\u001b[39m.\u001b[39mmin_impurity_decrease,\n\u001b[0;32m    456\u001b[0m     )\n\u001b[1;32m--> 458\u001b[0m builder\u001b[39m.\u001b[39;49mbuild(\u001b[39mself\u001b[39;49m\u001b[39m.\u001b[39;49mtree_, X, y, sample_weight)\n\u001b[0;32m    460\u001b[0m \u001b[39mif\u001b[39;00m \u001b[39mself\u001b[39m\u001b[39m.\u001b[39mn_outputs_ \u001b[39m==\u001b[39m \u001b[39m1\u001b[39m \u001b[39mand\u001b[39;00m is_classifier(\u001b[39mself\u001b[39m):\n\u001b[0;32m    461\u001b[0m     \u001b[39mself\u001b[39m\u001b[39m.\u001b[39mn_classes_ \u001b[39m=\u001b[39m \u001b[39mself\u001b[39m\u001b[39m.\u001b[39mn_classes_[\u001b[39m0\u001b[39m]\n",
      "\u001b[1;31mKeyboardInterrupt\u001b[0m: "
     ]
    }
   ],
   "source": [
    "#Creo ensemble de Votación Hard\n",
    "vot_clf_h = VotingClassifier(estimators = [('dtc', dtc_clf), ('rnd', rnd_clf), ('knn', knn_clf)], voting = 'hard')\n",
    "\n",
    "#Creo ensemble de Votación Soft\n",
    "vot_clf_s = VotingClassifier(estimators = [('dtc', dtc_clf), ('rnd', rnd_clf), ('knn', knn_clf)], voting = 'soft')\n",
    "\n",
    "\n",
    "#Entreno ambos ensembles\n",
    "vot_clf_h.fit(x_train, y_train)\n",
    "vot_clf_s.fit(x_train, y_train)\n",
    "\n",
    "#Evaluo en conjunto de test\n",
    "pred_h = vot_clf_h.predict(x_test)\n",
    "pred_s = vot_clf_s.predict(x_test)\n",
    "\n",
    "\n",
    "\n",
    "#Calculo accuracy\n",
    "print(\"RESULTADOS HARD VOTING:\\n\")\n",
    "print('Accuracy Score: {}'.format(accuracy_score(y_test, pred_h)))\n",
    "print('F1-score: {}'.format(f1_score(y_test, pred_h,average=\"weighted\")))\n",
    "print(\"Precision Score : \",precision_score(y_test,pred_h,pos_label='positive',average=\"weighted\"))\n",
    "print(\"Recall Score :\" , recall_score(y_test, pred_h, pos_label='positive',average=\"weighted\"))\n",
    "\n",
    "print(\"\\nRESULTADOS SOFT VOTING:\\n\")\n",
    "print('Accuracy Score: {}'.format(accuracy_score(y_test, pred_s)))\n",
    "print('F1-score: {}'.format(f1_score(y_test, pred_s,average=\"weighted\")))\n",
    "print(\"Precision Score: \",precision_score(y_test,pred_s,pos_label='positive',average=\"weighted\"))\n",
    "print(\"Recall Score:\" , recall_score(y_test, pred_s, pos_label='positive',average=\"weighted\"))"
   ]
  },
  {
   "cell_type": "markdown",
   "metadata": {},
   "source": [
    "Concluimos que conviene utilizar el metodo de Hard voting."
   ]
  },
  {
   "cell_type": "markdown",
   "metadata": {},
   "source": [
    "### Conclusiones Voting"
   ]
  },
  {
   "cell_type": "markdown",
   "metadata": {},
   "source": [
    "Como podemos ver tras comparar los dos modelos, nos da una metrica superior el Voting realizado con los modelos del TP1. Esto se debe a que dichos modelos fueron ajustados de mejor manera y son mas precisos. Sin embargo, algo que nos llamo la atención es que los modelos de Random Forest obtienen mejores resultados que el propio Voting."
   ]
  },
  {
   "cell_type": "markdown",
   "metadata": {},
   "source": [
    "## Stacking"
   ]
  },
  {
   "cell_type": "code",
   "execution_count": null,
   "metadata": {},
   "outputs": [],
   "source": [
    "import numpy as np \n",
    "import pandas as pd\n",
    "from collections import defaultdict\n",
    "import warnings\n",
    "\n",
    "import matplotlib.pyplot as plt\n",
    "import seaborn as sns\n",
    "\n",
    "import plotly.graph_objects as go\n",
    "%matplotlib inline\n",
    "\n",
    "from sklearn.ensemble import RandomForestClassifier \n",
    "from sklearn.linear_model import LogisticRegression \n",
    "from sklearn.neighbors import KNeighborsClassifier\n",
    "from sklearn.tree import DecisionTreeClassifier\n",
    "from sklearn.ensemble import AdaBoostClassifier\n",
    "from sklearn.naive_bayes import GaussianNB\n",
    "from sklearn.linear_model import LogisticRegressionCV\n",
    "\n",
    "warnings.filterwarnings('ignore')\n",
    "\n",
    "\n",
    "from sklearn.model_selection import cross_val_score, RepeatedStratifiedKFold\n",
    "from sklearn.model_selection import train_test_split\n",
    "from sklearn.metrics import accuracy_score\n",
    "from sklearn.metrics import f1_score\n",
    "from sklearn.metrics import recall_score\n",
    "from sklearn.metrics import precision_score"
   ]
  },
  {
   "cell_type": "code",
   "execution_count": null,
   "metadata": {},
   "outputs": [],
   "source": [
    "#Importo los datos de entrenamiento y prueba de nuestro Random Forest\n",
    "\n",
    "y_train = pd.read_csv('./TP1/Datasets/y_train_property_type.csv').copy()\n",
    "y_test = pd.read_csv('./TP1/Datasets/y_test_property_type.csv').copy()\n",
    "\n",
    "x_train = pd.read_csv('./TP1/Datasets/x_train_property_type.csv').copy()\n",
    "x_test = pd.read_csv('./TP1/Datasets/x_test_property_type.csv').copy()\n"
   ]
  },
  {
   "cell_type": "code",
   "execution_count": null,
   "metadata": {},
   "outputs": [],
   "source": [
    "#Funcion para evaluar los modelos 5fold -CV (2 repeticiones)\n",
    "def evaluate_model(model, x, y):\n",
    "    cv = RepeatedStratifiedKFold(n_splits=5, n_repeats=2, random_state=1)\n",
    "    scores = cross_val_score(model, x, y, scoring='accuracy', cv=cv, verbose=1, n_jobs=3, error_score='raise')\n",
    "    return scores"
   ]
  },
  {
   "cell_type": "code",
   "execution_count": null,
   "metadata": {},
   "outputs": [],
   "source": [
    "#Funcion para plotear a performance\n",
    "def plot_results(model_scores, name):\n",
    "    \n",
    "    model_names = list(model_scores.keys())\n",
    "    results = [model_scores[model] for model in model_names]\n",
    "    fig = go.Figure()\n",
    "    for model, result in zip(model_names, results):\n",
    "        fig.add_trace(go.Box(\n",
    "            y=result,\n",
    "            name=model,\n",
    "            boxpoints='all',\n",
    "            jitter=0.5,\n",
    "            whiskerwidth=0.2,\n",
    "            marker_size=2,\n",
    "            line_width=1)\n",
    "        )\n",
    "    \n",
    "    fig.update_layout(\n",
    "    title='Performance of Different Models Using 5-Fold Cross-Validation',\n",
    "    paper_bgcolor='rgb(243, 243, 243)',\n",
    "    plot_bgcolor='rgb(243, 243, 243)',\n",
    "    xaxis_title='Model',\n",
    "    yaxis_title='Accuracy',\n",
    "    showlegend=False)\n",
    "    fig.show()"
   ]
  },
  {
   "cell_type": "code",
   "execution_count": null,
   "metadata": {},
   "outputs": [
    {
     "name": "stdout",
     "output_type": "stream",
     "text": [
      "Evaluating random_forest\n"
     ]
    },
    {
     "name": "stderr",
     "output_type": "stream",
     "text": [
      "[Parallel(n_jobs=3)]: Using backend LokyBackend with 3 concurrent workers.\n",
      "[Parallel(n_jobs=3)]: Done  10 out of  10 | elapsed:   37.5s finished\n"
     ]
    },
    {
     "name": "stdout",
     "output_type": "stream",
     "text": [
      "Evaluating dtc\n"
     ]
    },
    {
     "name": "stderr",
     "output_type": "stream",
     "text": [
      "[Parallel(n_jobs=3)]: Using backend LokyBackend with 3 concurrent workers.\n",
      "[Parallel(n_jobs=3)]: Done  10 out of  10 | elapsed:    3.4s finished\n"
     ]
    },
    {
     "name": "stdout",
     "output_type": "stream",
     "text": [
      "Evaluating knn\n"
     ]
    },
    {
     "name": "stderr",
     "output_type": "stream",
     "text": [
      "[Parallel(n_jobs=3)]: Using backend LokyBackend with 3 concurrent workers.\n",
      "[Parallel(n_jobs=3)]: Done  10 out of  10 | elapsed:  2.8min finished\n"
     ]
    }
   ],
   "source": [
    "#Modelos Base\n",
    "base_models = {'random_forest':RandomForestClassifier(n_estimators=50),\n",
    "               'dtc': DecisionTreeClassifier(),\n",
    "               'knn': KNeighborsClassifier(n_neighbors=11)\n",
    "               } \n",
    "\n",
    "#Guarda los scores de cada modelo\n",
    "model_scores = defaultdict()\n",
    "\n",
    "#Entreno los clasificadores\n",
    "for name, model in base_models.items():\n",
    "    print('Evaluating {}'.format(name))\n",
    "    scores = evaluate_model(model, x_train, y_train)\n",
    "    model_scores[name] = scores"
   ]
  },
  {
   "cell_type": "code",
   "execution_count": null,
   "metadata": {},
   "outputs": [],
   "source": [
    "from sklearn.ensemble import StackingClassifier\n",
    "\n",
    "#Modelos Base\n",
    "base_models = [('random_forest', RandomForestClassifier(n_estimators=50)),\n",
    "               ('dtc', DecisionTreeClassifier()),\n",
    "               ('knn', KNeighborsClassifier(n_neighbors=11))]\n",
    "\n",
    "#Meta Modelo\n",
    "meta_model = LogisticRegressionCV()\n",
    "\n",
    "#Ensemble Stacking\n",
    "stacking_model = StackingClassifier(estimators=base_models, \n",
    "                                    final_estimator=meta_model, \n",
    "                                    passthrough=True,\n",
    "                                    cv=5,\n",
    "                                    verbose=2)"
   ]
  },
  {
   "cell_type": "code",
   "execution_count": null,
   "metadata": {},
   "outputs": [
    {
     "name": "stderr",
     "output_type": "stream",
     "text": [
      "[Parallel(n_jobs=3)]: Using backend LokyBackend with 3 concurrent workers.\n",
      "[Parallel(n_jobs=3)]: Done  10 out of  10 | elapsed: 25.7min finished\n"
     ]
    }
   ],
   "source": [
    "#Performance el modelo en entrenamiento\n",
    "stacking_scores = evaluate_model(stacking_model, x_train, y_train)\n",
    "model_scores['stacking'] = stacking_scores"
   ]
  },
  {
   "cell_type": "code",
   "execution_count": null,
   "metadata": {},
   "outputs": [
    {
     "data": {
      "application/vnd.plotly.v1+json": {
       "config": {
        "plotlyServerURL": "https://plot.ly"
       },
       "data": [
        {
         "boxpoints": "all",
         "jitter": 0.5,
         "line": {
          "width": 1
         },
         "marker": {
          "size": 2
         },
         "name": "random_forest",
         "type": "box",
         "whiskerwidth": 0.2,
         "y": [
          0.7246484085862325,
          0.730098916627414,
          0.7334634277639459,
          0.7281292059219381,
          0.7299461641991924,
          0.7315120113047574,
          0.7334634277639459,
          0.7308391090774511,
          0.7252355316285329,
          0.7281292059219381
         ]
        },
        {
         "boxpoints": "all",
         "jitter": 0.5,
         "line": {
          "width": 1
         },
         "marker": {
          "size": 2
         },
         "name": "dtc",
         "type": "box",
         "whiskerwidth": 0.2,
         "y": [
          0.6842742749478501,
          0.6871677545252675,
          0.6935603256846781,
          0.6917900403768507,
          0.6912516823687752,
          0.6925509723437184,
          0.6940313572437925,
          0.6942332279119844,
          0.6849259757738896,
          0.6933378196500672
         ]
        },
        {
         "boxpoints": "all",
         "jitter": 0.5,
         "line": {
          "width": 1
         },
         "marker": {
          "size": 2
         },
         "name": "knn",
         "type": "box",
         "whiskerwidth": 0.2,
         "y": [
          0.5851557768656215,
          0.5843482941928537,
          0.5896642217885741,
          0.5856662180349933,
          0.5922611036339166,
          0.5899333826794967,
          0.5865015813202342,
          0.5843482941928537,
          0.5833109017496635,
          0.5835127860026917
         ]
        },
        {
         "boxpoints": "all",
         "jitter": 0.5,
         "line": {
          "width": 1
         },
         "marker": {
          "size": 2
         },
         "name": "stacking",
         "type": "box",
         "whiskerwidth": 0.2,
         "y": [
          0.7364914877868246,
          0.7379718726868986,
          0.7418074153825449,
          0.7356662180349933,
          0.7381561238223419,
          0.7414036740461611,
          0.7434896709508109,
          0.738442904246013,
          0.7336473755047106,
          0.7382907133243607
         ]
        }
       ],
       "layout": {
        "paper_bgcolor": "rgb(243, 243, 243)",
        "plot_bgcolor": "rgb(243, 243, 243)",
        "showlegend": false,
        "template": {
         "data": {
          "bar": [
           {
            "error_x": {
             "color": "#2a3f5f"
            },
            "error_y": {
             "color": "#2a3f5f"
            },
            "marker": {
             "line": {
              "color": "#E5ECF6",
              "width": 0.5
             },
             "pattern": {
              "fillmode": "overlay",
              "size": 10,
              "solidity": 0.2
             }
            },
            "type": "bar"
           }
          ],
          "barpolar": [
           {
            "marker": {
             "line": {
              "color": "#E5ECF6",
              "width": 0.5
             },
             "pattern": {
              "fillmode": "overlay",
              "size": 10,
              "solidity": 0.2
             }
            },
            "type": "barpolar"
           }
          ],
          "carpet": [
           {
            "aaxis": {
             "endlinecolor": "#2a3f5f",
             "gridcolor": "white",
             "linecolor": "white",
             "minorgridcolor": "white",
             "startlinecolor": "#2a3f5f"
            },
            "baxis": {
             "endlinecolor": "#2a3f5f",
             "gridcolor": "white",
             "linecolor": "white",
             "minorgridcolor": "white",
             "startlinecolor": "#2a3f5f"
            },
            "type": "carpet"
           }
          ],
          "choropleth": [
           {
            "colorbar": {
             "outlinewidth": 0,
             "ticks": ""
            },
            "type": "choropleth"
           }
          ],
          "contour": [
           {
            "colorbar": {
             "outlinewidth": 0,
             "ticks": ""
            },
            "colorscale": [
             [
              0,
              "#0d0887"
             ],
             [
              0.1111111111111111,
              "#46039f"
             ],
             [
              0.2222222222222222,
              "#7201a8"
             ],
             [
              0.3333333333333333,
              "#9c179e"
             ],
             [
              0.4444444444444444,
              "#bd3786"
             ],
             [
              0.5555555555555556,
              "#d8576b"
             ],
             [
              0.6666666666666666,
              "#ed7953"
             ],
             [
              0.7777777777777778,
              "#fb9f3a"
             ],
             [
              0.8888888888888888,
              "#fdca26"
             ],
             [
              1,
              "#f0f921"
             ]
            ],
            "type": "contour"
           }
          ],
          "contourcarpet": [
           {
            "colorbar": {
             "outlinewidth": 0,
             "ticks": ""
            },
            "type": "contourcarpet"
           }
          ],
          "heatmap": [
           {
            "colorbar": {
             "outlinewidth": 0,
             "ticks": ""
            },
            "colorscale": [
             [
              0,
              "#0d0887"
             ],
             [
              0.1111111111111111,
              "#46039f"
             ],
             [
              0.2222222222222222,
              "#7201a8"
             ],
             [
              0.3333333333333333,
              "#9c179e"
             ],
             [
              0.4444444444444444,
              "#bd3786"
             ],
             [
              0.5555555555555556,
              "#d8576b"
             ],
             [
              0.6666666666666666,
              "#ed7953"
             ],
             [
              0.7777777777777778,
              "#fb9f3a"
             ],
             [
              0.8888888888888888,
              "#fdca26"
             ],
             [
              1,
              "#f0f921"
             ]
            ],
            "type": "heatmap"
           }
          ],
          "heatmapgl": [
           {
            "colorbar": {
             "outlinewidth": 0,
             "ticks": ""
            },
            "colorscale": [
             [
              0,
              "#0d0887"
             ],
             [
              0.1111111111111111,
              "#46039f"
             ],
             [
              0.2222222222222222,
              "#7201a8"
             ],
             [
              0.3333333333333333,
              "#9c179e"
             ],
             [
              0.4444444444444444,
              "#bd3786"
             ],
             [
              0.5555555555555556,
              "#d8576b"
             ],
             [
              0.6666666666666666,
              "#ed7953"
             ],
             [
              0.7777777777777778,
              "#fb9f3a"
             ],
             [
              0.8888888888888888,
              "#fdca26"
             ],
             [
              1,
              "#f0f921"
             ]
            ],
            "type": "heatmapgl"
           }
          ],
          "histogram": [
           {
            "marker": {
             "pattern": {
              "fillmode": "overlay",
              "size": 10,
              "solidity": 0.2
             }
            },
            "type": "histogram"
           }
          ],
          "histogram2d": [
           {
            "colorbar": {
             "outlinewidth": 0,
             "ticks": ""
            },
            "colorscale": [
             [
              0,
              "#0d0887"
             ],
             [
              0.1111111111111111,
              "#46039f"
             ],
             [
              0.2222222222222222,
              "#7201a8"
             ],
             [
              0.3333333333333333,
              "#9c179e"
             ],
             [
              0.4444444444444444,
              "#bd3786"
             ],
             [
              0.5555555555555556,
              "#d8576b"
             ],
             [
              0.6666666666666666,
              "#ed7953"
             ],
             [
              0.7777777777777778,
              "#fb9f3a"
             ],
             [
              0.8888888888888888,
              "#fdca26"
             ],
             [
              1,
              "#f0f921"
             ]
            ],
            "type": "histogram2d"
           }
          ],
          "histogram2dcontour": [
           {
            "colorbar": {
             "outlinewidth": 0,
             "ticks": ""
            },
            "colorscale": [
             [
              0,
              "#0d0887"
             ],
             [
              0.1111111111111111,
              "#46039f"
             ],
             [
              0.2222222222222222,
              "#7201a8"
             ],
             [
              0.3333333333333333,
              "#9c179e"
             ],
             [
              0.4444444444444444,
              "#bd3786"
             ],
             [
              0.5555555555555556,
              "#d8576b"
             ],
             [
              0.6666666666666666,
              "#ed7953"
             ],
             [
              0.7777777777777778,
              "#fb9f3a"
             ],
             [
              0.8888888888888888,
              "#fdca26"
             ],
             [
              1,
              "#f0f921"
             ]
            ],
            "type": "histogram2dcontour"
           }
          ],
          "mesh3d": [
           {
            "colorbar": {
             "outlinewidth": 0,
             "ticks": ""
            },
            "type": "mesh3d"
           }
          ],
          "parcoords": [
           {
            "line": {
             "colorbar": {
              "outlinewidth": 0,
              "ticks": ""
             }
            },
            "type": "parcoords"
           }
          ],
          "pie": [
           {
            "automargin": true,
            "type": "pie"
           }
          ],
          "scatter": [
           {
            "fillpattern": {
             "fillmode": "overlay",
             "size": 10,
             "solidity": 0.2
            },
            "type": "scatter"
           }
          ],
          "scatter3d": [
           {
            "line": {
             "colorbar": {
              "outlinewidth": 0,
              "ticks": ""
             }
            },
            "marker": {
             "colorbar": {
              "outlinewidth": 0,
              "ticks": ""
             }
            },
            "type": "scatter3d"
           }
          ],
          "scattercarpet": [
           {
            "marker": {
             "colorbar": {
              "outlinewidth": 0,
              "ticks": ""
             }
            },
            "type": "scattercarpet"
           }
          ],
          "scattergeo": [
           {
            "marker": {
             "colorbar": {
              "outlinewidth": 0,
              "ticks": ""
             }
            },
            "type": "scattergeo"
           }
          ],
          "scattergl": [
           {
            "marker": {
             "colorbar": {
              "outlinewidth": 0,
              "ticks": ""
             }
            },
            "type": "scattergl"
           }
          ],
          "scattermapbox": [
           {
            "marker": {
             "colorbar": {
              "outlinewidth": 0,
              "ticks": ""
             }
            },
            "type": "scattermapbox"
           }
          ],
          "scatterpolar": [
           {
            "marker": {
             "colorbar": {
              "outlinewidth": 0,
              "ticks": ""
             }
            },
            "type": "scatterpolar"
           }
          ],
          "scatterpolargl": [
           {
            "marker": {
             "colorbar": {
              "outlinewidth": 0,
              "ticks": ""
             }
            },
            "type": "scatterpolargl"
           }
          ],
          "scatterternary": [
           {
            "marker": {
             "colorbar": {
              "outlinewidth": 0,
              "ticks": ""
             }
            },
            "type": "scatterternary"
           }
          ],
          "surface": [
           {
            "colorbar": {
             "outlinewidth": 0,
             "ticks": ""
            },
            "colorscale": [
             [
              0,
              "#0d0887"
             ],
             [
              0.1111111111111111,
              "#46039f"
             ],
             [
              0.2222222222222222,
              "#7201a8"
             ],
             [
              0.3333333333333333,
              "#9c179e"
             ],
             [
              0.4444444444444444,
              "#bd3786"
             ],
             [
              0.5555555555555556,
              "#d8576b"
             ],
             [
              0.6666666666666666,
              "#ed7953"
             ],
             [
              0.7777777777777778,
              "#fb9f3a"
             ],
             [
              0.8888888888888888,
              "#fdca26"
             ],
             [
              1,
              "#f0f921"
             ]
            ],
            "type": "surface"
           }
          ],
          "table": [
           {
            "cells": {
             "fill": {
              "color": "#EBF0F8"
             },
             "line": {
              "color": "white"
             }
            },
            "header": {
             "fill": {
              "color": "#C8D4E3"
             },
             "line": {
              "color": "white"
             }
            },
            "type": "table"
           }
          ]
         },
         "layout": {
          "annotationdefaults": {
           "arrowcolor": "#2a3f5f",
           "arrowhead": 0,
           "arrowwidth": 1
          },
          "autotypenumbers": "strict",
          "coloraxis": {
           "colorbar": {
            "outlinewidth": 0,
            "ticks": ""
           }
          },
          "colorscale": {
           "diverging": [
            [
             0,
             "#8e0152"
            ],
            [
             0.1,
             "#c51b7d"
            ],
            [
             0.2,
             "#de77ae"
            ],
            [
             0.3,
             "#f1b6da"
            ],
            [
             0.4,
             "#fde0ef"
            ],
            [
             0.5,
             "#f7f7f7"
            ],
            [
             0.6,
             "#e6f5d0"
            ],
            [
             0.7,
             "#b8e186"
            ],
            [
             0.8,
             "#7fbc41"
            ],
            [
             0.9,
             "#4d9221"
            ],
            [
             1,
             "#276419"
            ]
           ],
           "sequential": [
            [
             0,
             "#0d0887"
            ],
            [
             0.1111111111111111,
             "#46039f"
            ],
            [
             0.2222222222222222,
             "#7201a8"
            ],
            [
             0.3333333333333333,
             "#9c179e"
            ],
            [
             0.4444444444444444,
             "#bd3786"
            ],
            [
             0.5555555555555556,
             "#d8576b"
            ],
            [
             0.6666666666666666,
             "#ed7953"
            ],
            [
             0.7777777777777778,
             "#fb9f3a"
            ],
            [
             0.8888888888888888,
             "#fdca26"
            ],
            [
             1,
             "#f0f921"
            ]
           ],
           "sequentialminus": [
            [
             0,
             "#0d0887"
            ],
            [
             0.1111111111111111,
             "#46039f"
            ],
            [
             0.2222222222222222,
             "#7201a8"
            ],
            [
             0.3333333333333333,
             "#9c179e"
            ],
            [
             0.4444444444444444,
             "#bd3786"
            ],
            [
             0.5555555555555556,
             "#d8576b"
            ],
            [
             0.6666666666666666,
             "#ed7953"
            ],
            [
             0.7777777777777778,
             "#fb9f3a"
            ],
            [
             0.8888888888888888,
             "#fdca26"
            ],
            [
             1,
             "#f0f921"
            ]
           ]
          },
          "colorway": [
           "#636efa",
           "#EF553B",
           "#00cc96",
           "#ab63fa",
           "#FFA15A",
           "#19d3f3",
           "#FF6692",
           "#B6E880",
           "#FF97FF",
           "#FECB52"
          ],
          "font": {
           "color": "#2a3f5f"
          },
          "geo": {
           "bgcolor": "white",
           "lakecolor": "white",
           "landcolor": "#E5ECF6",
           "showlakes": true,
           "showland": true,
           "subunitcolor": "white"
          },
          "hoverlabel": {
           "align": "left"
          },
          "hovermode": "closest",
          "mapbox": {
           "style": "light"
          },
          "paper_bgcolor": "white",
          "plot_bgcolor": "#E5ECF6",
          "polar": {
           "angularaxis": {
            "gridcolor": "white",
            "linecolor": "white",
            "ticks": ""
           },
           "bgcolor": "#E5ECF6",
           "radialaxis": {
            "gridcolor": "white",
            "linecolor": "white",
            "ticks": ""
           }
          },
          "scene": {
           "xaxis": {
            "backgroundcolor": "#E5ECF6",
            "gridcolor": "white",
            "gridwidth": 2,
            "linecolor": "white",
            "showbackground": true,
            "ticks": "",
            "zerolinecolor": "white"
           },
           "yaxis": {
            "backgroundcolor": "#E5ECF6",
            "gridcolor": "white",
            "gridwidth": 2,
            "linecolor": "white",
            "showbackground": true,
            "ticks": "",
            "zerolinecolor": "white"
           },
           "zaxis": {
            "backgroundcolor": "#E5ECF6",
            "gridcolor": "white",
            "gridwidth": 2,
            "linecolor": "white",
            "showbackground": true,
            "ticks": "",
            "zerolinecolor": "white"
           }
          },
          "shapedefaults": {
           "line": {
            "color": "#2a3f5f"
           }
          },
          "ternary": {
           "aaxis": {
            "gridcolor": "white",
            "linecolor": "white",
            "ticks": ""
           },
           "baxis": {
            "gridcolor": "white",
            "linecolor": "white",
            "ticks": ""
           },
           "bgcolor": "#E5ECF6",
           "caxis": {
            "gridcolor": "white",
            "linecolor": "white",
            "ticks": ""
           }
          },
          "title": {
           "x": 0.05
          },
          "xaxis": {
           "automargin": true,
           "gridcolor": "white",
           "linecolor": "white",
           "ticks": "",
           "title": {
            "standoff": 15
           },
           "zerolinecolor": "white",
           "zerolinewidth": 2
          },
          "yaxis": {
           "automargin": true,
           "gridcolor": "white",
           "linecolor": "white",
           "ticks": "",
           "title": {
            "standoff": 15
           },
           "zerolinecolor": "white",
           "zerolinewidth": 2
          }
         }
        },
        "title": {
         "text": "Performance of Different Models Using 5-Fold Cross-Validation"
        },
        "xaxis": {
         "title": {
          "text": "Model"
         }
        },
        "yaxis": {
         "title": {
          "text": "Accuracy"
         }
        }
       }
      }
     },
     "metadata": {},
     "output_type": "display_data"
    }
   ],
   "source": [
    "#Grafico performance\n",
    "plot_results(model_scores, name='stacking_model_cv')"
   ]
  },
  {
   "cell_type": "markdown",
   "metadata": {},
   "source": [
    "Tras multiples pruebas de modelos, concluimos que estos tres (Random Forest, Decision Tree y KNN) son los mejores modelos para elegir. Fueron los que mejores métricas nos dieron."
   ]
  },
  {
   "cell_type": "code",
   "execution_count": null,
   "metadata": {},
   "outputs": [
    {
     "name": "stderr",
     "output_type": "stream",
     "text": [
      "[Parallel(n_jobs=1)]: Using backend SequentialBackend with 1 concurrent workers.\n",
      "[Parallel(n_jobs=1)]: Done   1 out of   1 | elapsed:    5.2s remaining:    0.0s\n",
      "[Parallel(n_jobs=1)]: Done   5 out of   5 | elapsed:   25.5s finished\n",
      "[Parallel(n_jobs=1)]: Using backend SequentialBackend with 1 concurrent workers.\n",
      "[Parallel(n_jobs=1)]: Done   1 out of   1 | elapsed:    0.4s remaining:    0.0s\n",
      "[Parallel(n_jobs=1)]: Done   5 out of   5 | elapsed:    2.5s finished\n",
      "[Parallel(n_jobs=1)]: Using backend SequentialBackend with 1 concurrent workers.\n",
      "[Parallel(n_jobs=1)]: Done   1 out of   1 | elapsed:   15.1s remaining:    0.0s\n",
      "[Parallel(n_jobs=1)]: Done   5 out of   5 | elapsed:  1.3min finished\n"
     ]
    },
    {
     "name": "stdout",
     "output_type": "stream",
     "text": [
      "Accuracy Score: 0.7502153316106804\n",
      "F1-score: 0.7490939091565331\n",
      "Precision Score:  0.7535181655904228\n",
      "Recall Score: 0.7502153316106804\n"
     ]
    }
   ],
   "source": [
    "#Evaluo en conjunto de test\n",
    "#stacking_model.fit(x_train,y_train).score(x_test,y_test)\n",
    "stacking_model.fit(x_train,y_train)\n",
    "y_pred_st = stacking_model.predict(x_test)\n",
    "\n",
    "\n",
    "print('Accuracy Score: {}'.format(accuracy_score(y_test, y_pred_st)))\n",
    "print('F1-score: {}'.format(f1_score(y_test, y_pred_st,average=\"weighted\")))\n",
    "print(\"Precision Score: \",precision_score(y_test,y_pred_st,pos_label='positive',average=\"weighted\"))\n",
    "print(\"Recall Score:\" , recall_score(y_test, y_pred_st, pos_label='positive',average=\"weighted\"))"
   ]
  },
  {
   "cell_type": "code",
   "execution_count": null,
   "metadata": {},
   "outputs": [
    {
     "data": {
      "text/plain": [
       "['./Models/y_pred_st']"
      ]
     },
     "execution_count": 31,
     "metadata": {},
     "output_type": "execute_result"
    }
   ],
   "source": [
    "import joblib\n",
    "joblib.dump(base_models, './Models/base_models')\n",
    "joblib.dump(model_scores, './Models/model_scores')\n",
    "joblib.dump(meta_model, './Models/meta_model')\n",
    "joblib.dump(stacking_model, './Models/stacking_model')\n",
    "joblib.dump(stacking_scores, './Models/stacking_scores')\n",
    "joblib.dump(y_pred_st, './Models/y_pred_st')"
   ]
  },
  {
   "cell_type": "markdown",
   "metadata": {},
   "source": [
    "A modo de conclusion, podemos decir que, como era de esperarse, las metricas de Stacking fueron superiores a las de Voting."
   ]
  },
  {
   "cell_type": "markdown",
   "metadata": {},
   "source": []
  }
 ],
 "metadata": {
  "kernelspec": {
   "display_name": "Python 3.9.12 ('base')",
   "language": "python",
   "name": "python3"
  },
  "language_info": {
   "codemirror_mode": {
    "name": "ipython",
    "version": 3
   },
   "file_extension": ".py",
   "mimetype": "text/x-python",
   "name": "python",
   "nbconvert_exporter": "python",
   "pygments_lexer": "ipython3",
   "version": "3.9.12"
  },
  "orig_nbformat": 4,
  "vscode": {
   "interpreter": {
    "hash": "4b4bfd882b72278d2fc01f7f7f865a6b413108d571dd02a132c40c7c94589e02"
   }
  }
 },
 "nbformat": 4,
 "nbformat_minor": 2
}
