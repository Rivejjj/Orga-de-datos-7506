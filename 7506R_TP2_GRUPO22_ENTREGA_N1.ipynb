{
 "cells": [
  {
   "cell_type": "markdown",
   "metadata": {},
   "source": [
    "# <center>Organizaci&oacute;n de Datos</center>\n",
    "#### <center>C&aacute;tedra Ing. Rodriguez, Juan Manuel </center>\n",
    "\n",
    "## <center>Trabajo Práctico 2 : Propiedades en Venta</center>\n",
    "## <center>Parte 1</center>\n",
    "### <center> Grupo 22 </center>\n",
    "### <center> Integrantes: </center>\n",
    "##### <center> Federico Martin Forte,  Francisco Sobral,  Ian Klaus von der Heyde,  Juan Pablo Aschieri,  Joaquin Rivero  </center>"
   ]
  },
  {
   "cell_type": "markdown",
   "metadata": {},
   "source": [
    "# Carga de Datos y librerías"
   ]
  },
  {
   "cell_type": "markdown",
   "metadata": {},
   "source": []
  },
  {
   "cell_type": "code",
   "execution_count": 27,
   "metadata": {},
   "outputs": [],
   "source": [
    "import pandas as pd\n",
    "import seaborn as sns\n",
    "import matplotlib.pyplot as plt\n",
    "import numpy as np\n",
    "import joblib\n",
    "import warnings\n",
    "warnings.filterwarnings('ignore')\n",
    "import shapely.speedups\n",
    "from IPython.display import Image\n",
    "import re\n",
    "from itertools import combinations\n",
    "import random\n",
    "from sklearn.model_selection import train_test_split, cross_val_score\n",
    "from sklearn.preprocessing import MinMaxScaler\n",
    "from sklearn import metrics\n",
    "from sklearn.metrics import r2_score\n",
    "import xgboost as xgb\n",
    "from sklearn.model_selection import RandomizedSearchCV\n",
    "from sklearn.model_selection import GridSearchCV"
   ]
  },
  {
   "cell_type": "code",
   "execution_count": 28,
   "metadata": {},
   "outputs": [],
   "source": [
    "viviendas_train=pd.read_csv('./TP1/Datasets/viviendas_caba_train.csv').copy()\n",
    "viviendas_test=pd.read_csv('./TP1/Datasets/viviendas_caba_test.csv').copy()"
   ]
  },
  {
   "cell_type": "code",
   "execution_count": 29,
   "metadata": {},
   "outputs": [],
   "source": [
    "viviendas = pd.concat([viviendas_train, viviendas_test]).reset_index()"
   ]
  },
  {
   "cell_type": "markdown",
   "metadata": {},
   "source": [
    "# 1.Procesamiento del Lenguaje Natural"
   ]
  },
  {
   "cell_type": "markdown",
   "metadata": {},
   "source": [
    "## a) Ampliación del dataset"
   ]
  },
  {
   "cell_type": "code",
   "execution_count": 30,
   "metadata": {},
   "outputs": [],
   "source": [
    "veces_palabra = {}\n",
    "indice_de_palabra = {}\n",
    "for indice in viviendas.index:\n",
    "    property_title = viviendas.loc[indice,:].property_title.lower()\n",
    "\n",
    "    if \"/\" in property_title:\n",
    "        property_title = property_title.replace(\"/\",\" \")\n",
    "    if \".\" in property_title:\n",
    "        property_title = property_title.replace(\".\",\" \")\n",
    "    if \",\" in property_title:\n",
    "        property_title = property_title.replace(\",\",\" \")\n",
    "    if \"-\" in property_title:\n",
    "        property_title = property_title.replace(\"-\",\" \")\n",
    "    if \"ó\" in property_title:\n",
    "        property_title = property_title.replace(\"ó\",\"o\")\n",
    "    if \"!\" in property_title:\n",
    "        property_title = property_title.replace(\"!\",\" \")\n",
    "\n",
    "    property_title = property_title.split()\n",
    "    \n",
    "    for palabra in property_title:\n",
    "        palabra = ''.join(char for char in palabra if char.isalnum())\n",
    "        if palabra.isnumeric() or len(palabra) < 3:\n",
    "            continue\n",
    "        veces_palabra[palabra] = veces_palabra.get(palabra, 0)\n",
    "        veces_palabra[palabra] +=1 \n",
    "\n",
    "        indice_de_palabra[palabra]  = indice_de_palabra.get(palabra, list())\n",
    "        indice_de_palabra[palabra].append(indice)\n"
   ]
  },
  {
   "cell_type": "code",
   "execution_count": 31,
   "metadata": {},
   "outputs": [],
   "source": [
    "def agregar_aspecto(aspecto, palabras_clave, dataset):\n",
    "    for palabra in indice_de_palabra.keys():\n",
    "        for palabra_clave in palabras_clave:\n",
    "            if palabra_clave in palabra:\n",
    "                for i in indice_de_palabra[palabra]:\n",
    "                    dataset.loc[i, aspecto] = 'sí'\n",
    "    dataset[aspecto].fillna('unknown', inplace=True)\n",
    "\n",
    "    \n",
    "    print(f'cantidad de {aspecto}: { (dataset[aspecto] == \"sí\").sum() }')"
   ]
  },
  {
   "cell_type": "code",
   "execution_count": 32,
   "metadata": {},
   "outputs": [],
   "source": [
    "palabras_a_ignorar = set(['departamento', 'depto', 'casa', 'ph', 'venta', 'amb', 'ambientes', 'con'])\n",
    "for barrio in viviendas_train.barrio:\n",
    "    for t in barrio.split():\n",
    "        palabras_a_ignorar.add(t.lower())\n",
    "for palabra in palabras_a_ignorar:\n",
    "    if palabra in veces_palabra:\n",
    "        veces_palabra.pop(palabra)\n",
    "        indice_de_palabra.pop(palabra)"
   ]
  },
  {
   "cell_type": "markdown",
   "metadata": {},
   "source": [
    "Ordenamos palabras por cantidad de apariciones para buscar posibles aspectos que sumen valor a nuestro dataset"
   ]
  },
  {
   "cell_type": "code",
   "execution_count": 33,
   "metadata": {},
   "outputs": [
    {
     "name": "stdout",
     "output_type": "stream",
     "text": [
      "[('balcon', 12291), ('cochera', 10563), ('monoambiente', 7156), ('terraza', 6564), ('estrenar', 5194), ('patio', 5062), ('amenities', 4632), ('luminoso', 4596), ('excelente', 4338), ('piso', 4099), ('frente', 3789), ('oportunidad', 3193), ('parrilla', 2833), ('apto', 2625), ('muy', 2595), ('vista', 2404), ('dependencia', 2223), ('baulera', 2121), ('semipiso', 1953), ('dpto', 1933), ('dos', 1826), ('reciclado', 1804), ('expensas', 1801), ('alto', 1796), ('hermoso', 1783), ('duplex', 1759), ('torre', 1724), ('profesional', 1713), ('dep', 1584), ('impecable', 1473), ('nuevo', 1445), ('coch', 1428), ('ambiente', 1423), ('hollywood', 1397), ('amplio', 1322), ('pozo', 1300), ('ubicacion', 1216), ('cocheras', 1198), ('propia', 1171), ('dormitorios', 1169), ('edificio', 1135), ('sin', 1125), ('pileta', 1086), ('gran', 1073), ('retasado', 977), ('tipo', 963), ('divisible', 927), ('chico', 923), ('abierta', 923), ('zona', 906), ('full', 894), ('pueyrredon', 844), ('fija', 768), ('categoría', 767), ('espectacular', 762), ('soho', 762), ('luz', 750), ('bajas', 738), ('capital', 717), ('federal', 713), ('tres', 695), ('suite', 685), ('quincho', 680), ('prof', 676), ('piscina', 649), ('sum', 648), ('super', 644), ('mts', 635), ('estado', 615), ('jardin', 614), ('todo', 614), ('aterrazado', 610), ('contrafrente', 598), ('sol', 594), ('libertador', 577), ('reciclar', 538), ('baños', 537), ('3amb', 517), ('triplex', 516), ('plaza', 502), ('renta', 496), ('lavadero', 485), ('loft', 481), ('seguridad', 473), ('categoria', 470), ('sobre', 466), ('jardín', 460), ('corrido', 453), ('mono', 449), ('cubierta', 447), ('dorm', 439), ('ideal', 432), ('propio', 431), ('moderno', 430), ('usd', 430), ('dúplex', 429), ('emprendimiento', 428), ('dto', 427), ('caba', 425), ('toilette', 420)]\n"
     ]
    }
   ],
   "source": [
    "sorted(veces_palabra.items(),  key=lambda x:x[1])[::-1]\n",
    "print((sorted(veces_palabra.items(),  key=lambda x:x[1])[::-1])[:100])"
   ]
  },
  {
   "attachments": {},
   "cell_type": "markdown",
   "metadata": {},
   "source": [
    "Viendo lo anterior buscamos aspectos importantes y palabras claves que los identifiquen para agregarlos al dataset:\n",
    "\n",
    "+ A estrenar/nuevo\n",
    "+ Patio/Jardín\n",
    "+ balcón\n",
    "+ cochera\n",
    "+ pileta\n",
    "+ parrilla\n",
    "+ terraza\n",
    "+ monoambiente"
   ]
  },
  {
   "cell_type": "code",
   "execution_count": 34,
   "metadata": {},
   "outputs": [
    {
     "name": "stdout",
     "output_type": "stream",
     "text": [
      "cantidad de a_estrenar: 6634\n",
      "cantidad de patio_jardin: 6569\n",
      "cantidad de balcon: 12821\n",
      "cantidad de cochera: 12375\n",
      "cantidad de pileta: 1842\n",
      "cantidad de parrilla: 3048\n",
      "cantidad de terraza: 7517\n",
      "cantidad de monoambiente: 8109\n"
     ]
    }
   ],
   "source": [
    "agregar_aspecto('a_estrenar', ['estrenar', 'nuevo'], viviendas)\n",
    "agregar_aspecto('patio_jardin', ['pat', 'jard'], viviendas)\n",
    "agregar_aspecto('balcon', ['balc'], viviendas)\n",
    "agregar_aspecto('cochera', ['coche', 'garag'], viviendas)\n",
    "agregar_aspecto('pileta', ['pil', 'pisc'], viviendas)\n",
    "agregar_aspecto('parrilla', ['parr'], viviendas)\n",
    "agregar_aspecto('terraza', ['terra'], viviendas)\n",
    "agregar_aspecto('monoambiente', ['mono'], viviendas)"
   ]
  },
  {
   "cell_type": "code",
   "execution_count": 35,
   "metadata": {},
   "outputs": [
    {
     "data": {
      "text/html": [
       "<div>\n",
       "<style scoped>\n",
       "    .dataframe tbody tr th:only-of-type {\n",
       "        vertical-align: middle;\n",
       "    }\n",
       "\n",
       "    .dataframe tbody tr th {\n",
       "        vertical-align: top;\n",
       "    }\n",
       "\n",
       "    .dataframe thead th {\n",
       "        text-align: right;\n",
       "    }\n",
       "</style>\n",
       "<table border=\"1\" class=\"dataframe\">\n",
       "  <thead>\n",
       "    <tr style=\"text-align: right;\">\n",
       "      <th></th>\n",
       "      <th>index</th>\n",
       "      <th>start_date</th>\n",
       "      <th>end_date</th>\n",
       "      <th>latitud</th>\n",
       "      <th>longitud</th>\n",
       "      <th>barrio</th>\n",
       "      <th>property_type</th>\n",
       "      <th>property_rooms</th>\n",
       "      <th>property_bedrooms</th>\n",
       "      <th>property_surface_total</th>\n",
       "      <th>...</th>\n",
       "      <th>property_title</th>\n",
       "      <th>geometry</th>\n",
       "      <th>a_estrenar</th>\n",
       "      <th>patio_jardin</th>\n",
       "      <th>balcon</th>\n",
       "      <th>cochera</th>\n",
       "      <th>pileta</th>\n",
       "      <th>parrilla</th>\n",
       "      <th>terraza</th>\n",
       "      <th>monoambiente</th>\n",
       "    </tr>\n",
       "  </thead>\n",
       "  <tbody>\n",
       "    <tr>\n",
       "      <th>0</th>\n",
       "      <td>0</td>\n",
       "      <td>2021-12-15</td>\n",
       "      <td>2021-12-25</td>\n",
       "      <td>-34.555049</td>\n",
       "      <td>-58.490513</td>\n",
       "      <td>Saavedra</td>\n",
       "      <td>Departamento</td>\n",
       "      <td>2.0</td>\n",
       "      <td>1.0</td>\n",
       "      <td>58.0</td>\n",
       "      <td>...</td>\n",
       "      <td>Departamento - Saavedra</td>\n",
       "      <td>POINT (-58.4905135 -34.5550487)</td>\n",
       "      <td>unknown</td>\n",
       "      <td>unknown</td>\n",
       "      <td>unknown</td>\n",
       "      <td>unknown</td>\n",
       "      <td>unknown</td>\n",
       "      <td>unknown</td>\n",
       "      <td>unknown</td>\n",
       "      <td>unknown</td>\n",
       "    </tr>\n",
       "    <tr>\n",
       "      <th>1</th>\n",
       "      <td>1</td>\n",
       "      <td>2021-05-20</td>\n",
       "      <td>2021-06-05</td>\n",
       "      <td>-34.546991</td>\n",
       "      <td>-58.478553</td>\n",
       "      <td>Saavedra</td>\n",
       "      <td>Departamento</td>\n",
       "      <td>2.0</td>\n",
       "      <td>1.0</td>\n",
       "      <td>48.0</td>\n",
       "      <td>...</td>\n",
       "      <td>Departamento - Saavedra</td>\n",
       "      <td>POINT (-58.4785532 -34.546991)</td>\n",
       "      <td>unknown</td>\n",
       "      <td>unknown</td>\n",
       "      <td>unknown</td>\n",
       "      <td>unknown</td>\n",
       "      <td>unknown</td>\n",
       "      <td>unknown</td>\n",
       "      <td>unknown</td>\n",
       "      <td>unknown</td>\n",
       "    </tr>\n",
       "    <tr>\n",
       "      <th>2</th>\n",
       "      <td>2</td>\n",
       "      <td>2021-03-20</td>\n",
       "      <td>2021-04-16</td>\n",
       "      <td>-34.570842</td>\n",
       "      <td>-58.491805</td>\n",
       "      <td>Villa Urquiza</td>\n",
       "      <td>Departamento</td>\n",
       "      <td>2.0</td>\n",
       "      <td>1.0</td>\n",
       "      <td>62.0</td>\n",
       "      <td>...</td>\n",
       "      <td>Venta Depto 2 amb Anticipo + Cuotas CAC V. Urq...</td>\n",
       "      <td>POINT (-58.4918048 -34.5708421)</td>\n",
       "      <td>unknown</td>\n",
       "      <td>unknown</td>\n",
       "      <td>unknown</td>\n",
       "      <td>unknown</td>\n",
       "      <td>unknown</td>\n",
       "      <td>unknown</td>\n",
       "      <td>unknown</td>\n",
       "      <td>unknown</td>\n",
       "    </tr>\n",
       "    <tr>\n",
       "      <th>3</th>\n",
       "      <td>3</td>\n",
       "      <td>2021-07-17</td>\n",
       "      <td>2021-10-16</td>\n",
       "      <td>-34.589251</td>\n",
       "      <td>-58.402106</td>\n",
       "      <td>Recoleta</td>\n",
       "      <td>Departamento</td>\n",
       "      <td>3.0</td>\n",
       "      <td>2.0</td>\n",
       "      <td>60.0</td>\n",
       "      <td>...</td>\n",
       "      <td>Excelente 3 ambientes en venta en Barrio Recoleta</td>\n",
       "      <td>POINT (-58.4021058 -34.5892511)</td>\n",
       "      <td>unknown</td>\n",
       "      <td>unknown</td>\n",
       "      <td>unknown</td>\n",
       "      <td>unknown</td>\n",
       "      <td>unknown</td>\n",
       "      <td>unknown</td>\n",
       "      <td>unknown</td>\n",
       "      <td>unknown</td>\n",
       "    </tr>\n",
       "    <tr>\n",
       "      <th>4</th>\n",
       "      <td>4</td>\n",
       "      <td>2021-07-02</td>\n",
       "      <td>2022-02-09</td>\n",
       "      <td>-34.626290</td>\n",
       "      <td>-58.437632</td>\n",
       "      <td>Caballito</td>\n",
       "      <td>Departamento</td>\n",
       "      <td>3.0</td>\n",
       "      <td>2.0</td>\n",
       "      <td>67.0</td>\n",
       "      <td>...</td>\n",
       "      <td>VENTA DEPARTAMENTO 3 AMB. EN CABALLITO</td>\n",
       "      <td>POINT (-58.4376325 -34.6262899)</td>\n",
       "      <td>unknown</td>\n",
       "      <td>unknown</td>\n",
       "      <td>unknown</td>\n",
       "      <td>unknown</td>\n",
       "      <td>unknown</td>\n",
       "      <td>unknown</td>\n",
       "      <td>unknown</td>\n",
       "      <td>unknown</td>\n",
       "    </tr>\n",
       "  </tbody>\n",
       "</table>\n",
       "<p>5 rows × 22 columns</p>\n",
       "</div>"
      ],
      "text/plain": [
       "   index  start_date    end_date    latitud   longitud         barrio  \\\n",
       "0      0  2021-12-15  2021-12-25 -34.555049 -58.490513       Saavedra   \n",
       "1      1  2021-05-20  2021-06-05 -34.546991 -58.478553       Saavedra   \n",
       "2      2  2021-03-20  2021-04-16 -34.570842 -58.491805  Villa Urquiza   \n",
       "3      3  2021-07-17  2021-10-16 -34.589251 -58.402106       Recoleta   \n",
       "4      4  2021-07-02  2022-02-09 -34.626290 -58.437632      Caballito   \n",
       "\n",
       "  property_type  property_rooms  property_bedrooms  property_surface_total  \\\n",
       "0  Departamento             2.0                1.0                    58.0   \n",
       "1  Departamento             2.0                1.0                    48.0   \n",
       "2  Departamento             2.0                1.0                    62.0   \n",
       "3  Departamento             3.0                2.0                    60.0   \n",
       "4  Departamento             3.0                2.0                    67.0   \n",
       "\n",
       "   ...                                     property_title  \\\n",
       "0  ...                            Departamento - Saavedra   \n",
       "1  ...                            Departamento - Saavedra   \n",
       "2  ...  Venta Depto 2 amb Anticipo + Cuotas CAC V. Urq...   \n",
       "3  ...  Excelente 3 ambientes en venta en Barrio Recoleta   \n",
       "4  ...             VENTA DEPARTAMENTO 3 AMB. EN CABALLITO   \n",
       "\n",
       "                          geometry a_estrenar patio_jardin   balcon  cochera  \\\n",
       "0  POINT (-58.4905135 -34.5550487)    unknown      unknown  unknown  unknown   \n",
       "1   POINT (-58.4785532 -34.546991)    unknown      unknown  unknown  unknown   \n",
       "2  POINT (-58.4918048 -34.5708421)    unknown      unknown  unknown  unknown   \n",
       "3  POINT (-58.4021058 -34.5892511)    unknown      unknown  unknown  unknown   \n",
       "4  POINT (-58.4376325 -34.6262899)    unknown      unknown  unknown  unknown   \n",
       "\n",
       "    pileta parrilla  terraza monoambiente  \n",
       "0  unknown  unknown  unknown      unknown  \n",
       "1  unknown  unknown  unknown      unknown  \n",
       "2  unknown  unknown  unknown      unknown  \n",
       "3  unknown  unknown  unknown      unknown  \n",
       "4  unknown  unknown  unknown      unknown  \n",
       "\n",
       "[5 rows x 22 columns]"
      ]
     },
     "execution_count": 35,
     "metadata": {},
     "output_type": "execute_result"
    }
   ],
   "source": [
    "viviendas.head(5)"
   ]
  },
  {
   "cell_type": "markdown",
   "metadata": {},
   "source": [
    "## b) Modelos"
   ]
  },
  {
   "cell_type": "markdown",
   "metadata": {},
   "source": [
    "### Preprocesamiento"
   ]
  },
  {
   "cell_type": "code",
   "execution_count": 36,
   "metadata": {},
   "outputs": [],
   "source": [
    "viviendas.loc[:,\"a_estrenar\"].replace(to_replace=['unknown','sí'],value=[0,1],inplace=True)\n",
    "viviendas.loc[:,\"patio_jardin\"].replace(to_replace=['unknown','sí'],value=[0,1],inplace=True)\n",
    "viviendas.loc[:,\"balcon\"].replace(to_replace=['unknown','sí'],value=[0,1],inplace=True)\n",
    "viviendas.loc[:,\"cochera\"].replace(to_replace=['unknown','sí'],value=[0,1],inplace=True)\n",
    "viviendas.loc[:,\"pileta\"].replace(to_replace=['unknown','sí'],value=[0,1],inplace=True)\n",
    "viviendas.loc[:,\"parrilla\"].replace(to_replace=['unknown','sí'],value=[0,1],inplace=True)\n",
    "viviendas.loc[:,\"terraza\"].replace(to_replace=['unknown','sí'],value=[0,1],inplace=True)\n",
    "viviendas.loc[:,\"monoambiente\"].replace(to_replace=['unknown','sí'],value=[0,1],inplace=True)"
   ]
  },
  {
   "cell_type": "code",
   "execution_count": 37,
   "metadata": {},
   "outputs": [],
   "source": [
    "viviendas_train, viviendas_test = train_test_split(viviendas, test_size=0.2, random_state=2)\n",
    "x_train_ampliado = viviendas_train[['latitud','longitud', 'property_surface_total', 'property_surface_covered', 'a_estrenar', 'patio_jardin', 'balcon', 'cochera', 'pileta', 'parrilla', 'terraza', 'monoambiente']]\n",
    "x_test_ampliado = viviendas_test[['latitud','longitud', 'property_surface_total', 'property_surface_covered', 'a_estrenar', 'patio_jardin', 'balcon', 'cochera', 'pileta', 'parrilla', 'terraza', 'monoambiente']]\n",
    "\n",
    "y_train_ampliado = viviendas_train.property_price\n",
    "y_test_ampliado = viviendas_test.property_price"
   ]
  },
  {
   "cell_type": "code",
   "execution_count": 38,
   "metadata": {},
   "outputs": [],
   "source": [
    "scaler = MinMaxScaler() \n",
    "x_train_ampliado = scaler.fit_transform(x_train_ampliado)\n",
    "x_test_ampliado = scaler.transform(x_test_ampliado)"
   ]
  },
  {
   "cell_type": "markdown",
   "metadata": {},
   "source": [
    "### Utilizando los mismos hiperparámetros seleccionados en el TP 1"
   ]
  },
  {
   "cell_type": "code",
   "execution_count": 39,
   "metadata": {},
   "outputs": [
    {
     "data": {
      "text/plain": [
       "\"\\nrand_xgb_params_tp1 = joblib.load('./TP1/Models/rand_xgb')\\nrand_xgb_params_tp1.fit(x_train_ampliado, y_train_ampliado)\\njoblib.dump(rand_xgb_params_tp1, './Models/xgb_ampliado_params_tp1')\\n\""
      ]
     },
     "execution_count": 39,
     "metadata": {},
     "output_type": "execute_result"
    }
   ],
   "source": [
    "\"\"\"\n",
    "rand_xgb_params_tp1 = joblib.load('./TP1/Models/rand_xgb')\n",
    "rand_xgb_params_tp1.fit(x_train_ampliado, y_train_ampliado)\n",
    "joblib.dump(rand_xgb_params_tp1, './Models/xgb_ampliado_params_tp1')\n",
    "\"\"\""
   ]
  },
  {
   "cell_type": "code",
   "execution_count": 40,
   "metadata": {},
   "outputs": [],
   "source": [
    "rand_xgb_ampliado_params_tp1 = joblib.load('./Models/xgb_ampliado_params_tp1')\n",
    "best_xgb_regressor_ampliado_params_tp1 = rand_xgb_ampliado_params_tp1.best_estimator_"
   ]
  },
  {
   "cell_type": "code",
   "execution_count": 41,
   "metadata": {},
   "outputs": [
    {
     "name": "stdout",
     "output_type": "stream",
     "text": [
      "Coef. de Determinación R2: 0.9107357812035757\n",
      "Coef. de Determinación R2 ajustado: 0.9107165546204522\n",
      "El error (mse) de test es: 7961554870.09518\n",
      "El error (rmse) de test es: 89227.54546716603\n"
     ]
    }
   ],
   "source": [
    "#Predicción con mejor estimador\n",
    "y_pred_test_xgb = best_xgb_regressor_ampliado_params_tp1.predict(x_test_ampliado)\n",
    "\n",
    "#Coef. de Determinación R2\n",
    "r2_score_test_xgb = r2_score(y_test_ampliado, y_pred_test_xgb)\n",
    "print(f'Coef. de Determinación R2: {r2_score_test_xgb}')\n",
    "\n",
    "#Coef. de Determinación R2 ajustado\n",
    "n = x_test_ampliado.shape[0] #n = count of rows in your dataset used for train or test\n",
    "p = 4 #p = count of independent variables\n",
    "print(f'Coef. de Determinación R2 ajustado: {1-(1-r2_score_test_xgb)*(n-1)/(n-p-1)}')\n",
    "\n",
    "#Mean Square Error\n",
    "mse = metrics.mean_squared_error(\n",
    "        y_true  = y_test_ampliado,\n",
    "        y_pred  = y_pred_test_xgb,\n",
    "        squared = True\n",
    "       )\n",
    "\n",
    "print(f\"El error (mse) de test es: {mse}\")\n",
    "\n",
    "#Root Mean Square Error\n",
    "rmse = metrics.mean_squared_error(\n",
    "        y_true  = y_test_ampliado,\n",
    "        y_pred  = y_pred_test_xgb,\n",
    "        squared = False\n",
    "       )\n",
    "\n",
    "print(f\"El error (rmse) de test es: {rmse}\")"
   ]
  },
  {
   "cell_type": "code",
   "execution_count": 42,
   "metadata": {},
   "outputs": [
    {
     "data": {
      "text/html": [
       "<div>\n",
       "<style scoped>\n",
       "    .dataframe tbody tr th:only-of-type {\n",
       "        vertical-align: middle;\n",
       "    }\n",
       "\n",
       "    .dataframe tbody tr th {\n",
       "        vertical-align: top;\n",
       "    }\n",
       "\n",
       "    .dataframe thead th {\n",
       "        text-align: right;\n",
       "    }\n",
       "</style>\n",
       "<table border=\"1\" class=\"dataframe\">\n",
       "  <thead>\n",
       "    <tr style=\"text-align: right;\">\n",
       "      <th></th>\n",
       "      <th>Valor Real</th>\n",
       "      <th>Prediccion</th>\n",
       "      <th>Error</th>\n",
       "    </tr>\n",
       "  </thead>\n",
       "  <tbody>\n",
       "    <tr>\n",
       "      <th>63184</th>\n",
       "      <td>69900.0</td>\n",
       "      <td>78762.0</td>\n",
       "      <td>-8862.0</td>\n",
       "    </tr>\n",
       "    <tr>\n",
       "      <th>62628</th>\n",
       "      <td>108000.0</td>\n",
       "      <td>141852.0</td>\n",
       "      <td>-33852.0</td>\n",
       "    </tr>\n",
       "    <tr>\n",
       "      <th>75408</th>\n",
       "      <td>75000.0</td>\n",
       "      <td>106964.0</td>\n",
       "      <td>-31964.0</td>\n",
       "    </tr>\n",
       "    <tr>\n",
       "      <th>49022</th>\n",
       "      <td>420000.0</td>\n",
       "      <td>661185.0</td>\n",
       "      <td>-241185.0</td>\n",
       "    </tr>\n",
       "    <tr>\n",
       "      <th>29265</th>\n",
       "      <td>49900.0</td>\n",
       "      <td>52985.0</td>\n",
       "      <td>-3085.0</td>\n",
       "    </tr>\n",
       "  </tbody>\n",
       "</table>\n",
       "</div>"
      ],
      "text/plain": [
       "       Valor Real  Prediccion     Error\n",
       "63184     69900.0     78762.0   -8862.0\n",
       "62628    108000.0    141852.0  -33852.0\n",
       "75408     75000.0    106964.0  -31964.0\n",
       "49022    420000.0    661185.0 -241185.0\n",
       "29265     49900.0     52985.0   -3085.0"
      ]
     },
     "execution_count": 42,
     "metadata": {},
     "output_type": "execute_result"
    }
   ],
   "source": [
    "performance_test = pd.DataFrame({'Valor Real': y_test_ampliado,\n",
    "                            'Prediccion': y_pred_test_xgb.round(),\n",
    "                            'Error': y_test_ampliado - y_pred_test_xgb.round()})\n",
    "performance_test.head()"
   ]
  },
  {
   "cell_type": "code",
   "execution_count": 43,
   "metadata": {},
   "outputs": [
    {
     "data": {
      "image/png": "[encoded data removed]",
      "text/plain": [
       "<Figure size 432x288 with 1 Axes>"
      ]
     },
     "metadata": {
      "needs_background": "light"
     },
     "output_type": "display_data"
    }
   ],
   "source": [
    "scatter_real_predict_test = performance_test.plot.scatter(x=\"Valor Real\", y=\"Prediccion\", s=10, c='tab:blue').set(title=\"Valor Real vs Predicción\",xlabel='Valor Real',ylabel='Prediccion') \n"
   ]
  },
  {
   "attachments": {},
   "cell_type": "markdown",
   "metadata": {},
   "source": [
    "Vemos que las métricas con el dataset ampliado mejoran considerablemente en comparación con las del dataset sin ampliar.  \n",
    "  \n",
    "  Métricas sin ampliar:  \n",
    "+    Coef. de Determinación R2: 0.9019\n",
    "+    Coef. de Determinación R2 ajustado: 0.9019\n",
    "+    El error (mse) de test es: 9168434434.6191\n",
    "+    El error (rmse) de test es: 95751.9421"
   ]
  },
  {
   "cell_type": "code",
   "execution_count": 44,
   "metadata": {},
   "outputs": [],
   "source": [
    "def porcentaje_de_cambio_de_metricas(nombre_metrica, metrica_nueva, metrica_anterior):\n",
    "    porcentaje = round(metrica_nueva*100/ metrica_anterior -100,3)\n",
    "    if nombre_metrica == 'R2' or 'R2 ajustado':\n",
    "        if porcentaje < 0:\n",
    "            print(f'la metrica {nombre_metrica} es un {-porcentaje}% peor')\n",
    "        else:\n",
    "            print(f'la metrica {nombre_metrica} es un {porcentaje}% mejor')\n",
    "\n",
    "    elif nombre_metrica == 'RMSE' or 'MSE':\n",
    "        if porcentaje > 0:\n",
    "            print(f'la metrica {nombre_metrica} es un {-porcentaje}% peor')\n",
    "        else:\n",
    "            print(f'la metrica {nombre_metrica} es un {porcentaje}% mejor')\n"
   ]
  },
  {
   "attachments": {},
   "cell_type": "markdown",
   "metadata": {},
   "source": [
    "Cambio de métricas respecto al dataset sin ampliar (con mismos hiperparametros):"
   ]
  },
  {
   "cell_type": "code",
   "execution_count": 45,
   "metadata": {},
   "outputs": [
    {
     "name": "stdout",
     "output_type": "stream",
     "text": [
      "la metrica R2 es un 0.972% mejor\n",
      "la metrica RMSE es un 6.814% peor\n"
     ]
    }
   ],
   "source": [
    "porcentaje_de_cambio_de_metricas('R2', 0.9107357812035757, 0.9019645365048344)\n",
    "porcentaje_de_cambio_de_metricas('RMSE', 89227.54546716603, 95751.94219763453 )"
   ]
  },
  {
   "attachments": {},
   "cell_type": "markdown",
   "metadata": {},
   "source": [
    "### Utilizando hiperparámetros optimizados con el nuevo dataset ampliado."
   ]
  },
  {
   "attachments": {},
   "cell_type": "markdown",
   "metadata": {},
   "source": [
    "decidimos usar GridSearchCV, porque usando RandomSearchCV no obteníamos hiperparámetros distintos a los del dataset sin ampliar"
   ]
  },
  {
   "cell_type": "code",
   "execution_count": 46,
   "metadata": {},
   "outputs": [
    {
     "data": {
      "text/plain": [
       "\"#Grilla de Parámetros\\nparams_grid = {\\n    'n_estimators': [100, 400, 800],\\n    'max_depth': [3, 6, 9],\\n    'learning_rate': [0.05, 0.1, 0.20],\\n    'min_child_weight': [1, 10, 100]\\n    }\\n\\n#Clasificador KNN\\nxgb_regressor_ampliado = xgb.XGBRegressor()\\n\\ngrid_xgb_ampliado_param_tp2 = GridSearchCV(xgb_regressor_ampliado, params_grid, cv=5, scoring='r2')\\n\\ngrid_xgb_ampliado_param_tp2.fit(x_train_ampliado, y_train_ampliado)\\njoblib.dump(grid_xgb_ampliado_param_tp2, './Models/grid_xgb_ampliado_param_tp2')\\n\""
      ]
     },
     "execution_count": 46,
     "metadata": {},
     "output_type": "execute_result"
    }
   ],
   "source": [
    "\"\"\"#Grilla de Parámetros\n",
    "params_grid = {\n",
    "    'n_estimators': [100, 400, 800],\n",
    "    'max_depth': [3, 6, 9],\n",
    "    'learning_rate': [0.05, 0.1, 0.20],\n",
    "    'min_child_weight': [1, 10, 100]\n",
    "    }\n",
    "\n",
    "#Clasificador KNN\n",
    "xgb_regressor_ampliado = xgb.XGBRegressor()\n",
    "\n",
    "grid_xgb_ampliado_param_tp2 = GridSearchCV(xgb_regressor_ampliado, params_grid, cv=5, scoring='r2')\n",
    "\n",
    "grid_xgb_ampliado_param_tp2.fit(x_train_ampliado, y_train_ampliado)\n",
    "joblib.dump(grid_xgb_ampliado_param_tp2, './Models/grid_xgb_ampliado_param_tp2')\n",
    "\"\"\""
   ]
  },
  {
   "cell_type": "code",
   "execution_count": 47,
   "metadata": {},
   "outputs": [],
   "source": [
    "grid_xgb_ampliado_param_tp2 = joblib.load('./Models/grid_xgb_ampliado_param_tp2')\n",
    "best_xgb_ampliado_param_tp2 = grid_xgb_ampliado_param_tp2.best_estimator_"
   ]
  },
  {
   "cell_type": "code",
   "execution_count": 48,
   "metadata": {},
   "outputs": [
    {
     "name": "stdout",
     "output_type": "stream",
     "text": [
      "Coef. de Determinación R2: 0.9127994404557074\n",
      "Coef. de Determinación R2 ajustado: 0.912743069895209\n",
      "El error (mse) de test es: 7777495270.509185\n",
      "El error (rmse) de test es: 88190.10868861193\n"
     ]
    }
   ],
   "source": [
    "#Predicción con mejor estimador\n",
    "y_pred_test_xgb = best_xgb_ampliado_param_tp2.predict(x_test_ampliado)\n",
    "\n",
    "#Coef. de Determinación R2\n",
    "r2_score_test_xgb = r2_score(y_test_ampliado, y_pred_test_xgb)\n",
    "print(f'Coef. de Determinación R2: {r2_score_test_xgb}')\n",
    "\n",
    "#Coef. de Determinación R2 ajustado\n",
    "n = x_test_ampliado.shape[0] #n = count of rows in your dataset used for train or test\n",
    "p = 12 #p = count of independent variables\n",
    "print(f'Coef. de Determinación R2 ajustado: {1-(1-r2_score_test_xgb)*(n-1)/(n-p-1)}')\n",
    "\n",
    "#Mean Square Error\n",
    "mse = metrics.mean_squared_error(\n",
    "        y_true  = y_test_ampliado,\n",
    "        y_pred  = y_pred_test_xgb,\n",
    "        squared = True\n",
    "       )\n",
    "\n",
    "print(f\"El error (mse) de test es: {mse}\")\n",
    "\n",
    "#Root Mean Square Error\n",
    "rmse = metrics.mean_squared_error(\n",
    "        y_true  = y_test_ampliado,\n",
    "        y_pred  = y_pred_test_xgb,\n",
    "        squared = False\n",
    "       )\n",
    "\n",
    "print(f\"El error (rmse) de test es: {rmse}\")"
   ]
  },
  {
   "cell_type": "code",
   "execution_count": 49,
   "metadata": {},
   "outputs": [
    {
     "data": {
      "text/html": [
       "<div>\n",
       "<style scoped>\n",
       "    .dataframe tbody tr th:only-of-type {\n",
       "        vertical-align: middle;\n",
       "    }\n",
       "\n",
       "    .dataframe tbody tr th {\n",
       "        vertical-align: top;\n",
       "    }\n",
       "\n",
       "    .dataframe thead th {\n",
       "        text-align: right;\n",
       "    }\n",
       "</style>\n",
       "<table border=\"1\" class=\"dataframe\">\n",
       "  <thead>\n",
       "    <tr style=\"text-align: right;\">\n",
       "      <th></th>\n",
       "      <th>Valor Real</th>\n",
       "      <th>Prediccion</th>\n",
       "      <th>Error</th>\n",
       "    </tr>\n",
       "  </thead>\n",
       "  <tbody>\n",
       "    <tr>\n",
       "      <th>63184</th>\n",
       "      <td>69900.0</td>\n",
       "      <td>78191.0</td>\n",
       "      <td>-8291.0</td>\n",
       "    </tr>\n",
       "    <tr>\n",
       "      <th>62628</th>\n",
       "      <td>108000.0</td>\n",
       "      <td>143328.0</td>\n",
       "      <td>-35328.0</td>\n",
       "    </tr>\n",
       "    <tr>\n",
       "      <th>75408</th>\n",
       "      <td>75000.0</td>\n",
       "      <td>104908.0</td>\n",
       "      <td>-29908.0</td>\n",
       "    </tr>\n",
       "    <tr>\n",
       "      <th>49022</th>\n",
       "      <td>420000.0</td>\n",
       "      <td>675072.0</td>\n",
       "      <td>-255072.0</td>\n",
       "    </tr>\n",
       "    <tr>\n",
       "      <th>29265</th>\n",
       "      <td>49900.0</td>\n",
       "      <td>56399.0</td>\n",
       "      <td>-6499.0</td>\n",
       "    </tr>\n",
       "  </tbody>\n",
       "</table>\n",
       "</div>"
      ],
      "text/plain": [
       "       Valor Real  Prediccion     Error\n",
       "63184     69900.0     78191.0   -8291.0\n",
       "62628    108000.0    143328.0  -35328.0\n",
       "75408     75000.0    104908.0  -29908.0\n",
       "49022    420000.0    675072.0 -255072.0\n",
       "29265     49900.0     56399.0   -6499.0"
      ]
     },
     "execution_count": 49,
     "metadata": {},
     "output_type": "execute_result"
    }
   ],
   "source": [
    "performance_test = pd.DataFrame({'Valor Real': y_test_ampliado,\n",
    "                            'Prediccion': y_pred_test_xgb.round(),\n",
    "                            'Error': y_test_ampliado - y_pred_test_xgb.round()})\n",
    "performance_test.head()"
   ]
  },
  {
   "cell_type": "code",
   "execution_count": 50,
   "metadata": {},
   "outputs": [
    {
     "data": {
      "image/png": "[encoded data removed]",
      "text/plain": [
       "<Figure size 432x288 with 1 Axes>"
      ]
     },
     "metadata": {
      "needs_background": "light"
     },
     "output_type": "display_data"
    }
   ],
   "source": [
    "scatter_real_predict_test = performance_test.plot.scatter(x=\"Valor Real\", y=\"Prediccion\", s=10, c='tab:blue').set(title=\"Valor Real vs Predicción\",xlabel='Valor Real',ylabel='Prediccion') \n"
   ]
  },
  {
   "attachments": {},
   "cell_type": "markdown",
   "metadata": {},
   "source": [
    "Cambio de métricas buscando nuevos hiperparámetros"
   ]
  },
  {
   "cell_type": "code",
   "execution_count": 51,
   "metadata": {},
   "outputs": [
    {
     "name": "stdout",
     "output_type": "stream",
     "text": [
      "la metrica R2 es un 0.227% mejor\n",
      "la metrica RMSE es un 1.163% peor\n"
     ]
    }
   ],
   "source": [
    "porcentaje_de_cambio_de_metricas('R2', 0.9127994404557074, 0.9107357812035757)\n",
    "porcentaje_de_cambio_de_metricas('RMSE', 88190.10868861193, 89227.54546716603)"
   ]
  },
  {
   "cell_type": "markdown",
   "metadata": {},
   "source": []
  }
 ],
 "metadata": {
  "kernelspec": {
   "display_name": "Python 3.9.12 ('base')",
   "language": "python",
   "name": "python3"
  },
  "language_info": {
   "codemirror_mode": {
    "name": "ipython",
    "version": 3
   },
   "file_extension": ".py",
   "mimetype": "text/x-python",
   "name": "python",
   "nbconvert_exporter": "python",
   "pygments_lexer": "ipython3",
   "version": "3.9.12"
  },
  "orig_nbformat": 4,
  "vscode": {
   "interpreter": {
    "hash": "4b4bfd882b72278d2fc01f7f7f865a6b413108d571dd02a132c40c7c94589e02"
   }
  }
 },
 "nbformat": 4,
 "nbformat_minor": 2
}
