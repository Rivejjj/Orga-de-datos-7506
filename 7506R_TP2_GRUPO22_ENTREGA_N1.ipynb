{
 "cells": [
  {
   "cell_type": "markdown",
   "metadata": {},
   "source": [
    "# <center>Organizaci&oacute;n de Datos</center>\n",
    "#### <center>C&aacute;tedra Ing. Rodriguez, Juan Manuel </center>\n",
    "\n",
    "## <center>Trabajo Práctico 2 : Propiedades en Venta</center>\n",
    "## <center>Parte 1</center>\n",
    "### <center> Grupo 22 </center>\n",
    "### <center> Integrantes: </center>\n",
    "##### <center> Federico Martin Forte,  Francisco Sobral,  Ian Klaus von der Heyde,  Juan Pablo Aschieri,  Joaquin Rivero  </center>"
   ]
  },
  {
   "cell_type": "markdown",
   "metadata": {},
   "source": [
    "# Carga de Datos y librerías"
   ]
  },
  {
   "cell_type": "markdown",
   "metadata": {},
   "source": []
  },
  {
   "cell_type": "code",
   "execution_count": 112,
   "metadata": {},
   "outputs": [],
   "source": [
    "import pandas as pd\n",
    "import seaborn as sns\n",
    "import matplotlib.pyplot as plt\n",
    "import numpy as np\n",
    "import joblib\n",
    "import warnings\n",
    "warnings.filterwarnings('always')\n",
    "#from sklearn.model_selection import train_test_split\n",
    "import shapely.speedups\n",
    "#from sklearn.preprocessing import StandardScaler\n",
    "from IPython.display import Image\n",
    "import re\n",
    "from itertools import combinations\n",
    "import random"
   ]
  },
  {
   "cell_type": "code",
   "execution_count": 29,
   "metadata": {},
   "outputs": [],
   "source": [
    "viviendas_train=pd.read_csv('./TP1/Datasets/viviendas_caba_train.csv').copy()\n",
    "viviendas_test=pd.read_csv('./TP1/Datasets/viviendas_caba_test.csv').copy()"
   ]
  },
  {
   "cell_type": "code",
   "execution_count": 30,
   "metadata": {},
   "outputs": [],
   "source": [
    "viviendas = pd.concat([viviendas_train, viviendas_test]).reset_index()"
   ]
  },
  {
   "cell_type": "markdown",
   "metadata": {},
   "source": [
    "# 1.Procesamiento del Lenguaje Natural"
   ]
  },
  {
   "cell_type": "markdown",
   "metadata": {},
   "source": [
    "## a) Ampliación del dataset"
   ]
  },
  {
   "cell_type": "code",
   "execution_count": 31,
   "metadata": {},
   "outputs": [],
   "source": [
    "veces_palabra = {}\n",
    "indice_de_palabra = {}\n",
    "for indice in viviendas.index:\n",
    "    property_title = viviendas.loc[indice,:].property_title.lower()\n",
    "\n",
    "    if \"/\" in property_title:\n",
    "        property_title = property_title.replace(\"/\",\" \")\n",
    "    if \".\" in property_title:\n",
    "        property_title = property_title.replace(\".\",\" \")\n",
    "    if \",\" in property_title:\n",
    "        property_title = property_title.replace(\",\",\" \")\n",
    "    if \"-\" in property_title:\n",
    "        property_title = property_title.replace(\"-\",\" \")\n",
    "    if \"ó\" in property_title:\n",
    "        property_title = property_title.replace(\"ó\",\"o\")\n",
    "    if \"!\" in property_title:\n",
    "        property_title = property_title.replace(\"!\",\" \")\n",
    "\n",
    "    property_title = property_title.split()\n",
    "    \n",
    "    for palabra in property_title:\n",
    "        palabra = ''.join(char for char in palabra if char.isalnum())\n",
    "        if palabra.isnumeric() or len(palabra) < 3:\n",
    "            continue\n",
    "        veces_palabra[palabra] = veces_palabra.get(palabra, 0)\n",
    "        veces_palabra[palabra] +=1 \n",
    "\n",
    "        indice_de_palabra[palabra]  = indice_de_palabra.get(palabra, list())\n",
    "        indice_de_palabra[palabra].append(indice)\n"
   ]
  },
  {
   "cell_type": "code",
   "execution_count": 50,
   "metadata": {},
   "outputs": [],
   "source": [
    "def agregar_aspecto(aspecto, palabras_clave, dataset):\n",
    "    for palabra in indice_de_palabra.keys():\n",
    "        for palabra_clave in palabras_clave:\n",
    "            if palabra_clave in palabra:\n",
    "                for i in indice_de_palabra[palabra]:\n",
    "                    dataset.loc[i, aspecto] = 'sí'\n",
    "    dataset[aspecto].fillna('unknown', inplace=True)\n",
    "\n",
    "    \n",
    "    print(f'cantidad de {aspecto}: { (dataset[aspecto] == \"sí\").sum() }')"
   ]
  },
  {
   "cell_type": "code",
   "execution_count": 33,
   "metadata": {},
   "outputs": [],
   "source": [
    "palabras_a_ignorar = set(['departamento', 'depto', 'casa', 'ph', 'venta', 'amb', 'ambientes', 'con'])\n",
    "for barrio in viviendas_train.barrio:\n",
    "    for t in barrio.split():\n",
    "        palabras_a_ignorar.add(t.lower())\n",
    "for palabra in palabras_a_ignorar:\n",
    "    if palabra in veces_palabra:\n",
    "        veces_palabra.pop(palabra)\n",
    "        indice_de_palabra.pop(palabra)"
   ]
  },
  {
   "cell_type": "markdown",
   "metadata": {},
   "source": [
    "Ordenamos palabras por cantidad de apariciones para buscar posibles aspectos que sumen valor a nuestro dataset"
   ]
  },
  {
   "cell_type": "code",
   "execution_count": 53,
   "metadata": {},
   "outputs": [
    {
     "data": {
      "text/plain": [
       "[('balcon', 12291),\n",
       " ('cochera', 10563),\n",
       " ('monoambiente', 7156),\n",
       " ('terraza', 6564),\n",
       " ('estrenar', 5194),\n",
       " ('patio', 5062),\n",
       " ('amenities', 4632),\n",
       " ('luminoso', 4596),\n",
       " ('excelente', 4338),\n",
       " ('piso', 4099),\n",
       " ('frente', 3789),\n",
       " ('oportunidad', 3193),\n",
       " ('parrilla', 2833),\n",
       " ('apto', 2625),\n",
       " ('muy', 2595),\n",
       " ('vista', 2404),\n",
       " ('dependencia', 2223),\n",
       " ('baulera', 2121),\n",
       " ('semipiso', 1953),\n",
       " ('dpto', 1933),\n",
       " ('dos', 1826),\n",
       " ('reciclado', 1804),\n",
       " ('expensas', 1801),\n",
       " ('alto', 1796),\n",
       " ('hermoso', 1783),\n",
       " ('duplex', 1759),\n",
       " ('torre', 1724),\n",
       " ('profesional', 1713),\n",
       " ('dep', 1584),\n",
       " ('impecable', 1473),\n",
       " ('nuevo', 1445),\n",
       " ('coch', 1428),\n",
       " ('ambiente', 1423),\n",
       " ('hollywood', 1397),\n",
       " ('amplio', 1322),\n",
       " ('pozo', 1300),\n",
       " ('ubicacion', 1216),\n",
       " ('cocheras', 1198),\n",
       " ('propia', 1171),\n",
       " ('dormitorios', 1169),\n",
       " ('edificio', 1135),\n",
       " ('sin', 1125),\n",
       " ('pileta', 1086),\n",
       " ('gran', 1073),\n",
       " ('retasado', 977),\n",
       " ('tipo', 963),\n",
       " ('divisible', 927),\n",
       " ('chico', 923),\n",
       " ('abierta', 923),\n",
       " ('zona', 906),\n",
       " ('full', 894),\n",
       " ('pueyrredon', 844),\n",
       " ('fija', 768),\n",
       " ('categoría', 767),\n",
       " ('espectacular', 762),\n",
       " ('soho', 762),\n",
       " ('luz', 750),\n",
       " ('bajas', 738),\n",
       " ('capital', 717),\n",
       " ('federal', 713),\n",
       " ('tres', 695),\n",
       " ('suite', 685),\n",
       " ('quincho', 680),\n",
       " ('prof', 676),\n",
       " ('piscina', 649),\n",
       " ('sum', 648),\n",
       " ('super', 644),\n",
       " ('mts', 635),\n",
       " ('estado', 615),\n",
       " ('jardin', 614),\n",
       " ('todo', 614),\n",
       " ('aterrazado', 610),\n",
       " ('contrafrente', 598),\n",
       " ('sol', 594),\n",
       " ('libertador', 577),\n",
       " ('reciclar', 538),\n",
       " ('baños', 537),\n",
       " ('3amb', 517),\n",
       " ('triplex', 516),\n",
       " ('plaza', 502),\n",
       " ('renta', 496),\n",
       " ('lavadero', 485),\n",
       " ('loft', 481),\n",
       " ('seguridad', 473),\n",
       " ('categoria', 470),\n",
       " ('sobre', 466),\n",
       " ('jardín', 460),\n",
       " ('corrido', 453),\n",
       " ('mono', 449),\n",
       " ('cubierta', 447),\n",
       " ('dorm', 439),\n",
       " ('ideal', 432),\n",
       " ('propio', 431),\n",
       " ('moderno', 430),\n",
       " ('usd', 430),\n",
       " ('dúplex', 429),\n",
       " ('emprendimiento', 428),\n",
       " ('dto', 427),\n",
       " ('caba', 425),\n",
       " ('toilette', 420),\n",
       " ('fte', 420),\n",
       " ('escritorio', 413),\n",
       " ('barrancas', 407),\n",
       " ('lote', 404),\n",
       " ('nicolas', 394),\n",
       " ('divino', 392),\n",
       " ('permuta', 392),\n",
       " ('mejor', 381),\n",
       " ('2amb', 377),\n",
       " ('planta', 375),\n",
       " ('patios', 375),\n",
       " ('metros', 374),\n",
       " ('rivadavia', 363),\n",
       " ('por', 362),\n",
       " ('baja', 356),\n",
       " ('cocina', 353),\n",
       " ('amoblado', 350),\n",
       " ('bcon', 339),\n",
       " ('subte', 339),\n",
       " ('estilo', 338),\n",
       " ('para', 333),\n",
       " ('alquiler', 333),\n",
       " ('baño', 331),\n",
       " ('suites', 321),\n",
       " ('construccion', 320),\n",
       " ('opcional', 317),\n",
       " ('mas', 317),\n",
       " ('oficina', 312),\n",
       " ('monoamb', 306),\n",
       " ('sur', 306),\n",
       " ('núñez', 303),\n",
       " ('vta', 302),\n",
       " ('balcones', 302),\n",
       " ('refaccionar', 301),\n",
       " ('seg', 298),\n",
       " ('exc', 294),\n",
       " ('botanico', 290),\n",
       " ('buen', 290),\n",
       " ('garage', 286),\n",
       " ('dormit', 285),\n",
       " ('premium', 276),\n",
       " ('totales', 276),\n",
       " ('estudio', 272),\n",
       " ('rio', 271),\n",
       " ('independiente', 267),\n",
       " ('amplios', 266),\n",
       " ('entrada', 259),\n",
       " ('financiacion', 258),\n",
       " ('exclusivo', 255),\n",
       " ('heras', 254),\n",
       " ('24hs', 249),\n",
       " ('precio', 241),\n",
       " ('constitucion', 238),\n",
       " ('lindo', 238),\n",
       " ('plantas', 238),\n",
       " ('cabildo', 232),\n",
       " ('4amb', 232),\n",
       " ('bajo', 231),\n",
       " ('terrazas', 230),\n",
       " ('alvear', 227),\n",
       " ('totalmente', 225),\n",
       " ('exp', 222),\n",
       " ('juan', 221),\n",
       " ('cuotas', 220),\n",
       " ('río', 218),\n",
       " ('los', 213),\n",
       " ('refaccionado', 212),\n",
       " ('inmejorable', 211),\n",
       " ('gral', 211),\n",
       " ('semi', 210),\n",
       " ('hermosa', 210),\n",
       " ('doble', 209),\n",
       " ('cordoba', 206),\n",
       " ('calle', 203),\n",
       " ('desarrollo', 203),\n",
       " ('unico', 202),\n",
       " ('entrega', 200),\n",
       " ('departamentos', 199),\n",
       " ('dormitorio', 195),\n",
       " ('espacio', 192),\n",
       " ('corazon', 192),\n",
       " ('increible', 190),\n",
       " ('alvarez', 190),\n",
       " ('escalera', 189),\n",
       " ('vivienda', 188),\n",
       " ('ver', 188),\n",
       " ('inversion', 187),\n",
       " ('arenales', 184),\n",
       " ('servicio', 181),\n",
       " ('dependencias', 179),\n",
       " ('dividido', 178),\n",
       " ('esquina', 173),\n",
       " ('imperdible', 172),\n",
       " ('medio', 169),\n",
       " ('único', 169),\n",
       " ('pleno', 168),\n",
       " ('corrientes', 168),\n",
       " ('gym', 167),\n",
       " ('depend', 166),\n",
       " ('local', 165),\n",
       " ('cub', 160),\n",
       " ('torres', 159),\n",
       " ('video', 159),\n",
       " ('playroom', 157),\n",
       " ('solarium', 157),\n",
       " ('cfte', 155),\n",
       " ('comodo', 155),\n",
       " ('ciudad', 154),\n",
       " ('importante', 154),\n",
       " ('cuatro', 153),\n",
       " ('laundry', 153),\n",
       " ('pque', 151),\n",
       " ('complejo', 148),\n",
       " ('agronomia', 146),\n",
       " ('tza', 146),\n",
       " ('quartier', 143),\n",
       " ('panoramica', 143),\n",
       " ('baul', 142),\n",
       " ('avenida', 141),\n",
       " ('cid', 140),\n",
       " ('mucha', 140),\n",
       " ('paraguay', 139),\n",
       " ('pesos', 139),\n",
       " ('amplia', 139),\n",
       " ('guardacoche', 138),\n",
       " ('juncal', 138),\n",
       " ('frances', 136),\n",
       " ('panorámica', 136),\n",
       " ('boulevard', 135),\n",
       " ('callao', 133),\n",
       " ('justo', 129),\n",
       " ('años', 129),\n",
       " ('cramer', 129),\n",
       " ('acepta', 128),\n",
       " ('francés', 127),\n",
       " ('cerca', 127),\n",
       " ('equipado', 126),\n",
       " ('penthouse', 126),\n",
       " ('newbery', 123),\n",
       " ('cuadra', 122),\n",
       " ('jorge', 122),\n",
       " ('vistas', 121),\n",
       " ('maure', 121),\n",
       " ('lateral', 121),\n",
       " ('edif', 119),\n",
       " ('sup', 119),\n",
       " ('dorrego', 118),\n",
       " ('valor', 118),\n",
       " ('charcas', 117),\n",
       " ('oro', 116),\n",
       " ('increíble', 116),\n",
       " ('campeador', 115),\n",
       " ('súper', 114),\n",
       " ('vestidor', 114),\n",
       " ('martin', 112),\n",
       " ('obra', 112),\n",
       " ('buena', 112),\n",
       " ('lujo', 112),\n",
       " ('vende', 112),\n",
       " ('botánico', 111),\n",
       " ('diseño', 110),\n",
       " ('calidad', 108),\n",
       " ('monoambientes', 107),\n",
       " ('libertad', 106),\n",
       " ('luminosos', 106),\n",
       " ('ubicado', 105),\n",
       " ('diaz', 105),\n",
       " ('ambs', 103),\n",
       " ('thomas', 103),\n",
       " ('cerviño', 103),\n",
       " ('entre', 99),\n",
       " ('una', 99),\n",
       " ('jardines', 99),\n",
       " ('ñunez', 99),\n",
       " ('pre', 99),\n",
       " ('goyena', 97),\n",
       " ('imprenta', 97),\n",
       " ('remodelado', 97),\n",
       " ('cuadras', 97),\n",
       " ('comercial', 96),\n",
       " ('verde', 96),\n",
       " ('indep', 95),\n",
       " ('beruti', 93),\n",
       " ('peña', 93),\n",
       " ('aisenson', 92),\n",
       " ('semip', 92),\n",
       " ('unidades', 92),\n",
       " ('pisos', 92),\n",
       " ('inversor', 92),\n",
       " ('más', 91),\n",
       " ('parc', 91),\n",
       " ('terreno', 91),\n",
       " ('exclusiva', 89),\n",
       " ('tot', 88),\n",
       " ('salguero', 88),\n",
       " ('total', 88),\n",
       " ('viejo', 87),\n",
       " ('irlanda', 86),\n",
       " ('detalles', 86),\n",
       " ('mts2', 86),\n",
       " ('privada', 84),\n",
       " ('renoir', 84),\n",
       " ('completo', 83),\n",
       " ('pedro', 82),\n",
       " ('palacio', 82),\n",
       " ('1amb', 82),\n",
       " ('deco', 81),\n",
       " ('opcion', 81),\n",
       " ('virrey', 81),\n",
       " ('interno', 80),\n",
       " ('pasos', 80),\n",
       " ('todos', 79),\n",
       " ('regio', 79),\n",
       " ('serv', 79),\n",
       " ('reciclada', 79),\n",
       " ('alcorta', 79),\n",
       " ('opc', 78),\n",
       " ('posibilidad', 78),\n",
       " ('cabello', 78),\n",
       " ('julio', 78),\n",
       " ('alucinante', 78),\n",
       " ('uso', 77),\n",
       " ('antiguo', 77),\n",
       " ('vigilancia', 76),\n",
       " ('amueblado', 76),\n",
       " ('1er', 76),\n",
       " ('palmera', 76),\n",
       " ('oport', 75),\n",
       " ('balc', 75),\n",
       " ('humboldt', 75),\n",
       " ('pacheco', 74),\n",
       " ('hecho', 74),\n",
       " ('vig', 73),\n",
       " ('pampa', 73),\n",
       " ('pellegrini', 73),\n",
       " ('avda', 73),\n",
       " ('arcos', 73),\n",
       " ('costo', 72),\n",
       " ('separada', 72),\n",
       " ('mirabilia', 72),\n",
       " ('bauleras', 71),\n",
       " ('paz', 71),\n",
       " ('unidad', 71),\n",
       " ('roosevelt', 71),\n",
       " ('ayacucho', 71),\n",
       " ('viamonte', 70),\n",
       " ('bustamante', 70),\n",
       " ('billinghurst', 70),\n",
       " ('credito', 70),\n",
       " ('river', 69),\n",
       " ('excelentes', 69),\n",
       " ('entrepiso', 69),\n",
       " ('chateau', 69),\n",
       " ('dique', 68),\n",
       " ('jacuzzi', 68),\n",
       " ('alberdi', 68),\n",
       " ('muebles', 68),\n",
       " ('forum', 67),\n",
       " ('parques', 67),\n",
       " ('única', 67),\n",
       " ('esmeralda', 67),\n",
       " ('inmediata', 67),\n",
       " ('amenabar', 67),\n",
       " ('lacroze', 65),\n",
       " ('tower', 65),\n",
       " ('hasta', 65),\n",
       " ('dolares', 65),\n",
       " ('montevideo', 65),\n",
       " ('fijas', 64),\n",
       " ('facultades', 64),\n",
       " ('residencial', 64),\n",
       " ('independencia', 64),\n",
       " ('cubierto', 63),\n",
       " ('grande', 63),\n",
       " ('primer', 63),\n",
       " ('zencity', 63),\n",
       " ('lindisimo', 62),\n",
       " ('coronel', 62),\n",
       " ('lav', 62),\n",
       " ('maria', 62),\n",
       " ('quintana', 62),\n",
       " ('máxima', 61),\n",
       " ('bau', 61),\n",
       " ('hotel', 60),\n",
       " ('polo', 60),\n",
       " ('pura', 60),\n",
       " ('pulmon', 60),\n",
       " ('completos', 59),\n",
       " ('studio', 59),\n",
       " ('bulnes', 59),\n",
       " ('imponente', 59),\n",
       " ('5amb', 58),\n",
       " ('excel', 58),\n",
       " ('sls', 58),\n",
       " ('acceso', 58),\n",
       " ('austria', 58),\n",
       " ('lindísimo', 58),\n",
       " ('abierto', 58),\n",
       " ('altura', 57),\n",
       " ('ubic', 57),\n",
       " ('fondo', 57),\n",
       " ('cag', 57),\n",
       " ('bien', 57),\n",
       " ('silencioso', 57),\n",
       " ('altos', 57),\n",
       " ('garaje', 57),\n",
       " ('aires', 56),\n",
       " ('buenos', 56),\n",
       " ('historico', 56),\n",
       " ('excepcional', 56),\n",
       " ('urgente', 56),\n",
       " ('propiedad', 55),\n",
       " ('familias', 55),\n",
       " ('parrila', 55),\n",
       " ('jose', 55),\n",
       " ('lopez', 55),\n",
       " ('lezama', 54),\n",
       " ('godoy', 54),\n",
       " ('consultorio', 54),\n",
       " ('coche', 54),\n",
       " ('melo', 53),\n",
       " ('mendoza', 53),\n",
       " ('impresionante', 53),\n",
       " ('comedor', 53),\n",
       " ('suipacha', 53),\n",
       " ('este', 53),\n",
       " ('tucuman', 53),\n",
       " ('parrillas', 53),\n",
       " ('autos', 53),\n",
       " ('asegurada', 53),\n",
       " ('soler', 53),\n",
       " ('anticipo', 53),\n",
       " ('racionalista', 52),\n",
       " ('toil', 52),\n",
       " ('sog', 52),\n",
       " ('larrea', 52),\n",
       " ('sanchez', 52),\n",
       " ('olazabal', 52),\n",
       " ('olleros', 52),\n",
       " ('scalabrini', 51),\n",
       " ('contra', 51),\n",
       " ('luis', 51),\n",
       " ('aguero', 51),\n",
       " ('naon', 50),\n",
       " ('block', 50),\n",
       " ('olga', 50),\n",
       " ('cero', 49),\n",
       " ('financiado', 49),\n",
       " ('fideicomiso', 49),\n",
       " ('cruz', 48),\n",
       " ('parilla', 48),\n",
       " ('cossettini', 48),\n",
       " ('ortiz', 48),\n",
       " ('gimnasio', 48),\n",
       " ('boyaca', 48),\n",
       " ('carlos', 48),\n",
       " ('sucre', 47),\n",
       " ('living', 47),\n",
       " ('cubiertos', 47),\n",
       " ('pasaje', 47),\n",
       " ('isla', 46),\n",
       " ('segui', 46),\n",
       " ('juramento', 46),\n",
       " ('aire', 46),\n",
       " ('cabrera', 46),\n",
       " ('proyecto', 46),\n",
       " ('live', 46),\n",
       " ('preventa', 46),\n",
       " ('soleado', 46),\n",
       " ('rodriguez', 46),\n",
       " ('bellini', 46),\n",
       " ('quesada', 46),\n",
       " ('parr', 45),\n",
       " ('hipodromo', 45),\n",
       " ('play', 45),\n",
       " ('media', 45),\n",
       " ('balcòn', 45),\n",
       " ('guatemala', 45),\n",
       " ('luminosa', 45),\n",
       " ('listo', 45),\n",
       " ('laprida', 45),\n",
       " ('esc', 45),\n",
       " ('externo', 45),\n",
       " ('mejores', 45),\n",
       " ('lavalle', 45),\n",
       " ('plata', 45),\n",
       " ('lum', 45),\n",
       " ('unica', 44),\n",
       " ('guido', 44),\n",
       " ('parera', 44),\n",
       " ('propiedades', 44),\n",
       " ('esq', 44),\n",
       " ('garcia', 43),\n",
       " ('alemania', 43),\n",
       " ('est', 43),\n",
       " ('espacios', 43),\n",
       " ('2ambientes', 42),\n",
       " ('espect', 42),\n",
       " ('house', 42),\n",
       " ('posadas', 42),\n",
       " ('blanco', 42),\n",
       " ('altísimo', 42),\n",
       " ('ramsay', 42),\n",
       " ('individual', 42),\n",
       " ('multifamiliar', 42),\n",
       " ('coc', 42),\n",
       " ('triunvirato', 41),\n",
       " ('lumiere', 41),\n",
       " ('liberateur', 41),\n",
       " ('50m2', 41),\n",
       " ('view', 41),\n",
       " ('art', 41),\n",
       " ('como', 41),\n",
       " ('inversores', 41),\n",
       " ('encalada', 40),\n",
       " ('2do', 40),\n",
       " ('habitaciones', 40),\n",
       " ('amenit', 40),\n",
       " ('galpon', 40),\n",
       " ('uriburu', 40),\n",
       " ('josé', 39),\n",
       " ('exclusivos', 39),\n",
       " ('sarmiento', 39),\n",
       " ('anchorena', 39),\n",
       " ('nueva', 39),\n",
       " ('vicente', 39),\n",
       " ('junta', 39),\n",
       " ('loreto', 39),\n",
       " ('mac', 38),\n",
       " ('malabia', 38),\n",
       " ('impec', 38),\n",
       " ('sarfield', 38),\n",
       " ('privado', 38),\n",
       " ('depen', 38),\n",
       " ('yacht', 38),\n",
       " ('faena', 38),\n",
       " ('expensa', 38),\n",
       " ('chalet', 38),\n",
       " ('panor', 38),\n",
       " ('reciclados', 38),\n",
       " ('libre', 38),\n",
       " ('angel', 38),\n",
       " ('posesion', 38),\n",
       " ('semipisos', 37),\n",
       " ('marcelo', 37),\n",
       " ('temporario', 37),\n",
       " ('belvedere', 37),\n",
       " ('dor', 37),\n",
       " ('bueno', 37),\n",
       " ('42m2', 37),\n",
       " ('mif', 37),\n",
       " ('monroe', 37),\n",
       " ('casi', 37),\n",
       " ('estr', 36),\n",
       " ('donna', 36),\n",
       " ('moreno', 36),\n",
       " ('arce', 36),\n",
       " ('categ', 36),\n",
       " ('pedraza', 36),\n",
       " ('escrit', 36),\n",
       " ('septiembre', 36),\n",
       " ('astor', 35),\n",
       " ('figueroa', 35),\n",
       " ('ruiz', 35),\n",
       " ('3er', 35),\n",
       " ('orientacion', 35),\n",
       " ('cap', 35),\n",
       " ('verdes', 35),\n",
       " ('green', 35),\n",
       " ('esp', 35),\n",
       " ('french', 35),\n",
       " ('lumin', 35),\n",
       " ('40m2', 34),\n",
       " ('3ambientes', 34),\n",
       " ('huidobro', 34),\n",
       " ('corredor', 34),\n",
       " ('freire', 34),\n",
       " ('55m2', 34),\n",
       " ('ofertas', 34),\n",
       " ('regia', 34),\n",
       " ('distribucion', 34),\n",
       " ('35m2', 34),\n",
       " ('crédito', 33),\n",
       " ('febrero', 33),\n",
       " ('honduras', 33),\n",
       " ('57m2', 33),\n",
       " ('puro', 33),\n",
       " ('vega', 33),\n",
       " ('linda', 33),\n",
       " ('ingreso', 33),\n",
       " ('epoca', 33),\n",
       " ('aereo', 33),\n",
       " ('medicina', 33),\n",
       " ('directorio', 33),\n",
       " ('guarda', 33),\n",
       " ('manuel', 33),\n",
       " ('montecastro', 33),\n",
       " ('grandes', 33),\n",
       " ('medios', 33),\n",
       " ('primera', 32),\n",
       " ('proximo', 32),\n",
       " ('gelly', 32),\n",
       " ('migueletes', 32),\n",
       " ('cnel', 32),\n",
       " ('revista', 32),\n",
       " ('terminaciones', 32),\n",
       " ('ascensor', 32),\n",
       " ('zapiola', 32),\n",
       " ('profes', 32),\n",
       " ('incluida', 32),\n",
       " ('siria', 32),\n",
       " ('mayo', 32),\n",
       " ('junin', 32),\n",
       " ('pringles', 32),\n",
       " ('montserrat', 32),\n",
       " ('superluminoso', 32),\n",
       " ('pto', 32),\n",
       " ('encantador', 32),\n",
       " ('gallardo', 32),\n",
       " ('impactante', 32),\n",
       " ('amp', 32),\n",
       " ('boutique', 31),\n",
       " ('tradicional', 31),\n",
       " ('propios', 31),\n",
       " ('frte', 31),\n",
       " ('residences', 31),\n",
       " ('potencial', 31),\n",
       " ('financia', 31),\n",
       " ('pza', 31),\n",
       " ('diario', 31),\n",
       " ('menor', 31),\n",
       " ('vicenza', 31),\n",
       " ('inglés', 31),\n",
       " ('mtrs', 30),\n",
       " ('retasada', 30),\n",
       " ('azcuenaga', 30),\n",
       " ('sauna', 30),\n",
       " ('hab', 30),\n",
       " ('azcuénaga', 30),\n",
       " ('nazca', 30),\n",
       " ('arroyo', 30),\n",
       " ('uade', 30),\n",
       " ('tempora', 30),\n",
       " ('dic', 29),\n",
       " ('precioso', 29),\n",
       " ('bullrich', 29),\n",
       " ('deposito', 29),\n",
       " ('martín', 29),\n",
       " ('bños', 29),\n",
       " ('60m2', 29),\n",
       " ('aranguren', 29),\n",
       " ('mansilla', 29),\n",
       " ('faro', 29),\n",
       " ('pino', 29),\n",
       " ('transporte', 28),\n",
       " ('vélez', 28),\n",
       " ('rebajado', 28),\n",
       " ('24h', 28),\n",
       " ('habitacion', 28),\n",
       " ('uno', 28),\n",
       " ('arribeños', 28),\n",
       " ('gaona', 28),\n",
       " ('quantum', 28),\n",
       " ('volcán', 28),\n",
       " ('balcn', 28),\n",
       " ('cuba', 28),\n",
       " ('parana', 28),\n",
       " ('estudios', 28),\n",
       " ('amenties', 28),\n",
       " ('viaje', 28),\n",
       " ('38m2', 28),\n",
       " ('mariano', 27),\n",
       " ('4ambientes', 27),\n",
       " ('gorostiaga', 27),\n",
       " ('sta', 27),\n",
       " ('teodoro', 27),\n",
       " ('estacion', 27),\n",
       " ('51m2', 27),\n",
       " ('45m2', 27),\n",
       " ('fed', 27),\n",
       " ('soldado', 27),\n",
       " ('ohiggins', 27),\n",
       " ('propias', 27),\n",
       " ('6to', 27),\n",
       " ('falcon', 27),\n",
       " ('ext', 27),\n",
       " ('calvo', 27),\n",
       " ('florida', 27),\n",
       " ('andes', 27),\n",
       " ('uruguay', 26),\n",
       " ('venezuela', 26),\n",
       " ('serrano', 26),\n",
       " ('junio', 26),\n",
       " ('palier', 26),\n",
       " ('gum', 26),\n",
       " ('deptos', 26),\n",
       " ('oferta', 26),\n",
       " ('gallo', 26),\n",
       " ('azcuy', 26),\n",
       " ('peron', 26),\n",
       " ('harbour', 26),\n",
       " ('cullen', 26),\n",
       " ('común', 26),\n",
       " ('techos', 26),\n",
       " ('moderna', 26),\n",
       " ('demaria', 26),\n",
       " ('facultad', 26),\n",
       " ('thames', 26),\n",
       " ('digno', 26),\n",
       " ('gurruchaga', 26),\n",
       " ('lanzamiento', 26),\n",
       " ('club', 26),\n",
       " ('renovado', 26),\n",
       " ('italiano', 26),\n",
       " ('hospital', 26),\n",
       " ('amenitie', 25),\n",
       " ('adelanto', 25),\n",
       " ('piletas', 25),\n",
       " ('boho', 25),\n",
       " ('garcía', 25),\n",
       " ('niceto', 25),\n",
       " ('ingles', 25),\n",
       " ('depart', 25),\n",
       " ('rivera', 25),\n",
       " ('araoz', 25),\n",
       " ('180m2', 25),\n",
       " ('office', 25),\n",
       " ('época', 25),\n",
       " ('basavilbaso', 25),\n",
       " ('48m2', 25),\n",
       " ('lomas', 25),\n",
       " ('julian', 25),\n",
       " ('ramon', 25),\n",
       " ('vivir', 25),\n",
       " ('amenitis', 25),\n",
       " ('ugarte', 25),\n",
       " ('excepc', 24),\n",
       " ('acha', 24),\n",
       " ('jeronimo', 24),\n",
       " ('80m2', 24),\n",
       " ('335m2', 24),\n",
       " ('residence', 24),\n",
       " ('donato', 24),\n",
       " ('70m2', 24),\n",
       " ('mudarse', 24),\n",
       " ('lemos', 24),\n",
       " ('ravignani', 24),\n",
       " ('36m2', 24),\n",
       " ('uriarte', 24),\n",
       " ('ram', 24),\n",
       " ('37m2', 24),\n",
       " ('palpa', 24),\n",
       " ('arabe', 24),\n",
       " ('nicaragua', 24),\n",
       " ('solo', 24),\n",
       " ('campos', 24),\n",
       " ('31m2', 24),\n",
       " ('10º', 24),\n",
       " ('comun', 24),\n",
       " ('mulieris', 24),\n",
       " ('nivel', 23),\n",
       " ('bloque', 23),\n",
       " ('home', 23),\n",
       " ('antigüedad', 23),\n",
       " ('town', 23),\n",
       " ('canchero', 23),\n",
       " ('44m2', 23),\n",
       " ('blanqueo', 23),\n",
       " ('67m2', 23),\n",
       " ('medrano', 23),\n",
       " ('ind', 23),\n",
       " ('bleu', 23),\n",
       " ('alegre', 23),\n",
       " ('desde', 23),\n",
       " ('terr', 23),\n",
       " ('master', 23),\n",
       " ('porteña', 23),\n",
       " ('estrugamou', 23),\n",
       " ('mario', 23),\n",
       " ('antiguedad', 23),\n",
       " ('larralde', 23),\n",
       " ('dock', 23),\n",
       " ('city', 23),\n",
       " ('embajada', 23),\n",
       " ('vera', 23),\n",
       " ('juana', 22),\n",
       " ('marzo', 22),\n",
       " ('balbin', 22),\n",
       " ('get', 22),\n",
       " ('2baños', 22),\n",
       " ('temporal', 22),\n",
       " ('seguí', 22),\n",
       " ('nvo', 22),\n",
       " ('agüero', 22),\n",
       " ('reservado', 22),\n",
       " ('cocher', 22),\n",
       " ('financ', 22),\n",
       " ('janeiro', 22),\n",
       " ('luminosidad', 22),\n",
       " ('dept', 22),\n",
       " ('pte', 22),\n",
       " ('parri', 22),\n",
       " ('montañeses', 22),\n",
       " ('bonpland', 21),\n",
       " ('universidad', 21),\n",
       " ('funcional', 21),\n",
       " ('pisc', 21),\n",
       " ('acoyte', 21),\n",
       " ('maría', 21),\n",
       " ('room', 21),\n",
       " ('130m2', 21),\n",
       " ('güemes', 21),\n",
       " ('funes', 21),\n",
       " ('dean', 21),\n",
       " ('ecuador', 21),\n",
       " ('granaderos', 21),\n",
       " ('moldes', 21),\n",
       " ('ortúzar', 21),\n",
       " ('musa', 21),\n",
       " ('piedras', 21),\n",
       " ('dpcia', 21),\n",
       " ('ventilado', 21),\n",
       " ('frb', 21),\n",
       " ('elegante', 21),\n",
       " ('34m2', 20),\n",
       " ('mer', 20),\n",
       " ('amenitties', 20),\n",
       " ('guemes', 20),\n",
       " ('dptos', 20),\n",
       " ('olaya', 20),\n",
       " ('conde', 20),\n",
       " ('ultimo', 20),\n",
       " ('holmberg', 20),\n",
       " ('68m2', 20),\n",
       " ('que', 20),\n",
       " ('recepcion', 20),\n",
       " ('link', 20),\n",
       " ('ocampo', 20),\n",
       " ('aterrazados', 20),\n",
       " ('cerrado', 20),\n",
       " ('com', 20),\n",
       " ('cercano', 20),\n",
       " ('lafinur', 20),\n",
       " ('limite', 19),\n",
       " ('85m2', 19),\n",
       " ('mirador', 19),\n",
       " ('87m2', 19),\n",
       " ('yerbal', 19),\n",
       " ('ugarteche', 19),\n",
       " ('museo', 19),\n",
       " ('superior', 19),\n",
       " ('vendo', 19),\n",
       " ('recien', 19),\n",
       " ('aprox', 19),\n",
       " ('54m2', 19),\n",
       " ('departameto', 19),\n",
       " ('300m2', 19),\n",
       " ('kennedy', 19),\n",
       " ('guardacoches', 19),\n",
       " ('opcionales', 19),\n",
       " ('mt2', 19),\n",
       " ('artigas', 19),\n",
       " ('mel', 19),\n",
       " ('painé', 19),\n",
       " ('aimé', 19),\n",
       " ('amplisimo', 19),\n",
       " ('india', 19),\n",
       " ('incas', 19),\n",
       " ('gascon', 19),\n",
       " ('47m2', 19),\n",
       " ('panoram', 19),\n",
       " ('rosario', 19),\n",
       " ('ambdep', 19),\n",
       " ('escuchan', 19),\n",
       " ('alberti', 19),\n",
       " ('evoque', 18),\n",
       " ('haus', 18),\n",
       " ('increibles', 18),\n",
       " ('boschetto', 18),\n",
       " ('climatizada', 18),\n",
       " ('65m2', 18),\n",
       " ('amenábar', 18),\n",
       " ('magnífico', 18),\n",
       " ('compartidos', 18),\n",
       " ('edificios', 18),\n",
       " ('porteño', 18),\n",
       " ('moca', 18),\n",
       " ('64m2', 18),\n",
       " ('entr', 18),\n",
       " ('alta', 18),\n",
       " ('linea', 18),\n",
       " ('obelisco', 18),\n",
       " ('working', 18),\n",
       " ('pago', 18),\n",
       " ('dependecia', 18),\n",
       " ('70m', 18),\n",
       " ('gutierrez', 18),\n",
       " ('39m2', 18),\n",
       " ('aguilar', 18),\n",
       " ('talcahuano', 18),\n",
       " ('vidal', 18),\n",
       " ('varela', 18),\n",
       " ('aéreo', 18),\n",
       " ('descubierta', 18),\n",
       " ('apaisado', 18),\n",
       " ('pena', 18),\n",
       " ('rosedal', 18),\n",
       " ('sensacional', 18),\n",
       " ('concepcion', 18),\n",
       " ('div', 18),\n",
       " ('manzanares', 18),\n",
       " ('liquido', 18),\n",
       " ('posib', 18),\n",
       " ('cerrito', 18),\n",
       " ('petit', 17),\n",
       " ('corr', 17),\n",
       " ('decorado', 17),\n",
       " ('53m2', 17),\n",
       " ('parrill', 17),\n",
       " ('dorms', 17),\n",
       " ('comp', 17),\n",
       " ('estratégica', 17),\n",
       " ('oca', 17),\n",
       " ('posible', 17),\n",
       " ('privilegiada', 17),\n",
       " ('acondicionado', 17),\n",
       " ('charlone', 17),\n",
       " ('center', 17),\n",
       " ('castex', 17),\n",
       " ('exelente', 17),\n",
       " ('phs', 17),\n",
       " ('estudiantes', 17),\n",
       " ('roy', 17),\n",
       " ('fitz', 17),\n",
       " ('magnifico', 17),\n",
       " ('díaz', 17),\n",
       " ('point', 17),\n",
       " ('gorriti', 17),\n",
       " ('edc', 17),\n",
       " ('obligado', 17),\n",
       " ('altillo', 17),\n",
       " ('reserva', 17),\n",
       " ('tercer', 17),\n",
       " ('hernandez', 17),\n",
       " ('ppia', 17),\n",
       " ('cac', 17),\n",
       " ('esplendido', 16),\n",
       " ('echeverria', 16),\n",
       " ('islandia', 16),\n",
       " ('sig', 16),\n",
       " ('lafuente', 16),\n",
       " ('cubiertas', 16),\n",
       " ('terminado', 16),\n",
       " ('manso', 16),\n",
       " ('ctfte', 16),\n",
       " ('cucha', 16),\n",
       " ('senillosa', 16),\n",
       " ('pintado', 16),\n",
       " ('recién', 16),\n",
       " ('parquizado', 16),\n",
       " ('montes', 16),\n",
       " ('condiciones', 16),\n",
       " ('41m2', 16),\n",
       " ('the', 16),\n",
       " ('tdo', 16),\n",
       " ('humahuaca', 16),\n",
       " ('diciembre', 16),\n",
       " ('reciclaje', 16),\n",
       " ('aminities', 16),\n",
       " ('meses', 16),\n",
       " ('83m2', 16),\n",
       " ('metrobus', 16),\n",
       " ('110m2', 16),\n",
       " ('2cocheras', 16),\n",
       " ('towers', 16),\n",
       " ('tren', 16),\n",
       " ('hernández', 16),\n",
       " ('coworking', 16),\n",
       " ('prop', 16),\n",
       " ('160m2', 16),\n",
       " ('arenal', 16),\n",
       " ('velasco', 16),\n",
       " ('rep', 16),\n",
       " ('garay', 16),\n",
       " ('toilet', 16),\n",
       " ('43m2', 16),\n",
       " ('gastos', 16),\n",
       " ('zapata', 16),\n",
       " ('italia', 16),\n",
       " ('rioja', 15),\n",
       " ('gasset', 15),\n",
       " ('ortega', 15),\n",
       " ('movil', 15),\n",
       " ('escucha', 15),\n",
       " ('arévalo', 15),\n",
       " ('plazas', 15),\n",
       " ('silos', 15),\n",
       " ('monambiente', 15),\n",
       " ('design', 15),\n",
       " ('tedin', 15),\n",
       " ...]"
      ]
     },
     "execution_count": 53,
     "metadata": {},
     "output_type": "execute_result"
    }
   ],
   "source": [
    "sorted(veces_palabra.items(),  key=lambda x:x[1])[::-1]"
   ]
  },
  {
   "cell_type": "markdown",
   "metadata": {},
   "source": [
    "Viendo lo anterior buscamos aspectos importantes y palabras claves que los identifiquen para agregarlos al dataset:\n",
    "\n",
    "+ A estrenar/nuevo\n",
    "+ Patio/Jardin\n",
    "+ balcon\n",
    "+ cochera\n",
    "+ pileta"
   ]
  },
  {
   "cell_type": "code",
   "execution_count": 51,
   "metadata": {},
   "outputs": [
    {
     "name": "stdout",
     "output_type": "stream",
     "text": [
      "cantidad de a_estrenar: 6634\n",
      "cantidad de patio_jardin: 6569\n",
      "cantidad de balcon: 12821\n",
      "cantidad de cochera: 12375\n",
      "cantidad de pileta: 1842\n",
      "cantidad de parrilla: 3048\n",
      "cantidad de terraza: 7517\n",
      "cantidad de monoambiente: 8109\n"
     ]
    }
   ],
   "source": [
    "agregar_aspecto('a_estrenar', ['estrenar', 'nuevo'], viviendas)\n",
    "agregar_aspecto('patio_jardin', ['pat', 'jard'], viviendas)\n",
    "agregar_aspecto('balcon', ['balc'], viviendas)\n",
    "agregar_aspecto('cochera', ['coche', 'garag'], viviendas)\n",
    "agregar_aspecto('pileta', ['pil', 'pisc'], viviendas)\n",
    "agregar_aspecto('parrilla', ['parr'], viviendas)\n",
    "agregar_aspecto('terraza', ['terra'], viviendas)\n",
    "agregar_aspecto('monoambiente', ['mono'], viviendas)"
   ]
  },
  {
   "cell_type": "code",
   "execution_count": 52,
   "metadata": {},
   "outputs": [
    {
     "data": {
      "text/html": [
       "<div>\n",
       "<style scoped>\n",
       "    .dataframe tbody tr th:only-of-type {\n",
       "        vertical-align: middle;\n",
       "    }\n",
       "\n",
       "    .dataframe tbody tr th {\n",
       "        vertical-align: top;\n",
       "    }\n",
       "\n",
       "    .dataframe thead th {\n",
       "        text-align: right;\n",
       "    }\n",
       "</style>\n",
       "<table border=\"1\" class=\"dataframe\">\n",
       "  <thead>\n",
       "    <tr style=\"text-align: right;\">\n",
       "      <th></th>\n",
       "      <th>index</th>\n",
       "      <th>start_date</th>\n",
       "      <th>end_date</th>\n",
       "      <th>latitud</th>\n",
       "      <th>longitud</th>\n",
       "      <th>barrio</th>\n",
       "      <th>property_type</th>\n",
       "      <th>property_rooms</th>\n",
       "      <th>property_bedrooms</th>\n",
       "      <th>property_surface_total</th>\n",
       "      <th>...</th>\n",
       "      <th>property_title</th>\n",
       "      <th>geometry</th>\n",
       "      <th>a_estrenar</th>\n",
       "      <th>patio_jardin</th>\n",
       "      <th>balcon</th>\n",
       "      <th>cochera</th>\n",
       "      <th>pileta</th>\n",
       "      <th>parrilla</th>\n",
       "      <th>terraza</th>\n",
       "      <th>monoambiente</th>\n",
       "    </tr>\n",
       "  </thead>\n",
       "  <tbody>\n",
       "    <tr>\n",
       "      <th>0</th>\n",
       "      <td>0</td>\n",
       "      <td>2021-12-15</td>\n",
       "      <td>2021-12-25</td>\n",
       "      <td>-34.555049</td>\n",
       "      <td>-58.490513</td>\n",
       "      <td>Saavedra</td>\n",
       "      <td>Departamento</td>\n",
       "      <td>2.0</td>\n",
       "      <td>1.0</td>\n",
       "      <td>58.0</td>\n",
       "      <td>...</td>\n",
       "      <td>Departamento - Saavedra</td>\n",
       "      <td>POINT (-58.4905135 -34.5550487)</td>\n",
       "      <td>unknown</td>\n",
       "      <td>unknown</td>\n",
       "      <td>unknown</td>\n",
       "      <td>unknown</td>\n",
       "      <td>unknown</td>\n",
       "      <td>unknown</td>\n",
       "      <td>unknown</td>\n",
       "      <td>unknown</td>\n",
       "    </tr>\n",
       "    <tr>\n",
       "      <th>1</th>\n",
       "      <td>1</td>\n",
       "      <td>2021-05-20</td>\n",
       "      <td>2021-06-05</td>\n",
       "      <td>-34.546991</td>\n",
       "      <td>-58.478553</td>\n",
       "      <td>Saavedra</td>\n",
       "      <td>Departamento</td>\n",
       "      <td>2.0</td>\n",
       "      <td>1.0</td>\n",
       "      <td>48.0</td>\n",
       "      <td>...</td>\n",
       "      <td>Departamento - Saavedra</td>\n",
       "      <td>POINT (-58.4785532 -34.546991)</td>\n",
       "      <td>unknown</td>\n",
       "      <td>unknown</td>\n",
       "      <td>unknown</td>\n",
       "      <td>unknown</td>\n",
       "      <td>unknown</td>\n",
       "      <td>unknown</td>\n",
       "      <td>unknown</td>\n",
       "      <td>unknown</td>\n",
       "    </tr>\n",
       "    <tr>\n",
       "      <th>2</th>\n",
       "      <td>2</td>\n",
       "      <td>2021-03-20</td>\n",
       "      <td>2021-04-16</td>\n",
       "      <td>-34.570842</td>\n",
       "      <td>-58.491805</td>\n",
       "      <td>Villa Urquiza</td>\n",
       "      <td>Departamento</td>\n",
       "      <td>2.0</td>\n",
       "      <td>1.0</td>\n",
       "      <td>62.0</td>\n",
       "      <td>...</td>\n",
       "      <td>Venta Depto 2 amb Anticipo + Cuotas CAC V. Urq...</td>\n",
       "      <td>POINT (-58.4918048 -34.5708421)</td>\n",
       "      <td>unknown</td>\n",
       "      <td>unknown</td>\n",
       "      <td>unknown</td>\n",
       "      <td>unknown</td>\n",
       "      <td>unknown</td>\n",
       "      <td>unknown</td>\n",
       "      <td>unknown</td>\n",
       "      <td>unknown</td>\n",
       "    </tr>\n",
       "    <tr>\n",
       "      <th>3</th>\n",
       "      <td>3</td>\n",
       "      <td>2021-07-17</td>\n",
       "      <td>2021-10-16</td>\n",
       "      <td>-34.589251</td>\n",
       "      <td>-58.402106</td>\n",
       "      <td>Recoleta</td>\n",
       "      <td>Departamento</td>\n",
       "      <td>3.0</td>\n",
       "      <td>2.0</td>\n",
       "      <td>60.0</td>\n",
       "      <td>...</td>\n",
       "      <td>Excelente 3 ambientes en venta en Barrio Recoleta</td>\n",
       "      <td>POINT (-58.4021058 -34.5892511)</td>\n",
       "      <td>unknown</td>\n",
       "      <td>unknown</td>\n",
       "      <td>unknown</td>\n",
       "      <td>unknown</td>\n",
       "      <td>unknown</td>\n",
       "      <td>unknown</td>\n",
       "      <td>unknown</td>\n",
       "      <td>unknown</td>\n",
       "    </tr>\n",
       "    <tr>\n",
       "      <th>4</th>\n",
       "      <td>4</td>\n",
       "      <td>2021-07-02</td>\n",
       "      <td>2022-02-09</td>\n",
       "      <td>-34.626290</td>\n",
       "      <td>-58.437632</td>\n",
       "      <td>Caballito</td>\n",
       "      <td>Departamento</td>\n",
       "      <td>3.0</td>\n",
       "      <td>2.0</td>\n",
       "      <td>67.0</td>\n",
       "      <td>...</td>\n",
       "      <td>VENTA DEPARTAMENTO 3 AMB. EN CABALLITO</td>\n",
       "      <td>POINT (-58.4376325 -34.6262899)</td>\n",
       "      <td>unknown</td>\n",
       "      <td>unknown</td>\n",
       "      <td>unknown</td>\n",
       "      <td>unknown</td>\n",
       "      <td>unknown</td>\n",
       "      <td>unknown</td>\n",
       "      <td>unknown</td>\n",
       "      <td>unknown</td>\n",
       "    </tr>\n",
       "    <tr>\n",
       "      <th>...</th>\n",
       "      <td>...</td>\n",
       "      <td>...</td>\n",
       "      <td>...</td>\n",
       "      <td>...</td>\n",
       "      <td>...</td>\n",
       "      <td>...</td>\n",
       "      <td>...</td>\n",
       "      <td>...</td>\n",
       "      <td>...</td>\n",
       "      <td>...</td>\n",
       "      <td>...</td>\n",
       "      <td>...</td>\n",
       "      <td>...</td>\n",
       "      <td>...</td>\n",
       "      <td>...</td>\n",
       "      <td>...</td>\n",
       "      <td>...</td>\n",
       "      <td>...</td>\n",
       "      <td>...</td>\n",
       "      <td>...</td>\n",
       "      <td>...</td>\n",
       "    </tr>\n",
       "    <tr>\n",
       "      <th>92874</th>\n",
       "      <td>18571</td>\n",
       "      <td>2021-02-13</td>\n",
       "      <td>2021-03-01</td>\n",
       "      <td>-34.594510</td>\n",
       "      <td>-58.413521</td>\n",
       "      <td>Barrio Norte</td>\n",
       "      <td>Departamento</td>\n",
       "      <td>3.0</td>\n",
       "      <td>2.0</td>\n",
       "      <td>60.0</td>\n",
       "      <td>...</td>\n",
       "      <td>VENTA DEPARTAMENTO 3 AMBIENTES BALCÓN FRENTE 3...</td>\n",
       "      <td>POINT (-58.413521 -34.59451)</td>\n",
       "      <td>unknown</td>\n",
       "      <td>unknown</td>\n",
       "      <td>sí</td>\n",
       "      <td>unknown</td>\n",
       "      <td>unknown</td>\n",
       "      <td>unknown</td>\n",
       "      <td>unknown</td>\n",
       "      <td>unknown</td>\n",
       "    </tr>\n",
       "    <tr>\n",
       "      <th>92875</th>\n",
       "      <td>18572</td>\n",
       "      <td>2021-08-20</td>\n",
       "      <td>2200-12-31</td>\n",
       "      <td>-34.540767</td>\n",
       "      <td>-58.466694</td>\n",
       "      <td>Nuñez</td>\n",
       "      <td>Casa</td>\n",
       "      <td>4.0</td>\n",
       "      <td>3.0</td>\n",
       "      <td>210.0</td>\n",
       "      <td>...</td>\n",
       "      <td>Casa - Nuñez</td>\n",
       "      <td>POINT (-58.4666936 -34.5407667)</td>\n",
       "      <td>unknown</td>\n",
       "      <td>unknown</td>\n",
       "      <td>unknown</td>\n",
       "      <td>unknown</td>\n",
       "      <td>unknown</td>\n",
       "      <td>unknown</td>\n",
       "      <td>unknown</td>\n",
       "      <td>unknown</td>\n",
       "    </tr>\n",
       "    <tr>\n",
       "      <th>92876</th>\n",
       "      <td>18573</td>\n",
       "      <td>2021-09-08</td>\n",
       "      <td>2021-10-14</td>\n",
       "      <td>-34.586723</td>\n",
       "      <td>-58.402579</td>\n",
       "      <td>Recoleta</td>\n",
       "      <td>Departamento</td>\n",
       "      <td>2.0</td>\n",
       "      <td>1.0</td>\n",
       "      <td>35.0</td>\n",
       "      <td>...</td>\n",
       "      <td>Recoleta 2 amb Oportunidad</td>\n",
       "      <td>POINT (-58.4025792 -34.5867234)</td>\n",
       "      <td>unknown</td>\n",
       "      <td>unknown</td>\n",
       "      <td>unknown</td>\n",
       "      <td>unknown</td>\n",
       "      <td>unknown</td>\n",
       "      <td>unknown</td>\n",
       "      <td>unknown</td>\n",
       "      <td>unknown</td>\n",
       "    </tr>\n",
       "    <tr>\n",
       "      <th>92877</th>\n",
       "      <td>18574</td>\n",
       "      <td>2021-01-12</td>\n",
       "      <td>2021-06-05</td>\n",
       "      <td>-34.579607</td>\n",
       "      <td>-58.489898</td>\n",
       "      <td>Villa Urquiza</td>\n",
       "      <td>Departamento</td>\n",
       "      <td>4.0</td>\n",
       "      <td>3.0</td>\n",
       "      <td>76.0</td>\n",
       "      <td>...</td>\n",
       "      <td>4 ambientes al contrafrente con balcón y coche...</td>\n",
       "      <td>POINT (-58.4898982 -34.579607)</td>\n",
       "      <td>unknown</td>\n",
       "      <td>unknown</td>\n",
       "      <td>sí</td>\n",
       "      <td>sí</td>\n",
       "      <td>unknown</td>\n",
       "      <td>unknown</td>\n",
       "      <td>unknown</td>\n",
       "      <td>unknown</td>\n",
       "    </tr>\n",
       "    <tr>\n",
       "      <th>92878</th>\n",
       "      <td>18575</td>\n",
       "      <td>2021-05-29</td>\n",
       "      <td>2022-02-09</td>\n",
       "      <td>-34.595270</td>\n",
       "      <td>-58.497952</td>\n",
       "      <td>Agronomía</td>\n",
       "      <td>PH</td>\n",
       "      <td>3.0</td>\n",
       "      <td>3.0</td>\n",
       "      <td>145.0</td>\n",
       "      <td>...</td>\n",
       "      <td>Venta PH a Estrenar 3/4 Amb c/ cochera</td>\n",
       "      <td>POINT (-58.4979516 -34.5952703)</td>\n",
       "      <td>sí</td>\n",
       "      <td>unknown</td>\n",
       "      <td>unknown</td>\n",
       "      <td>sí</td>\n",
       "      <td>unknown</td>\n",
       "      <td>unknown</td>\n",
       "      <td>unknown</td>\n",
       "      <td>unknown</td>\n",
       "    </tr>\n",
       "  </tbody>\n",
       "</table>\n",
       "<p>92879 rows × 22 columns</p>\n",
       "</div>"
      ],
      "text/plain": [
       "       index  start_date    end_date    latitud   longitud         barrio  \\\n",
       "0          0  2021-12-15  2021-12-25 -34.555049 -58.490513       Saavedra   \n",
       "1          1  2021-05-20  2021-06-05 -34.546991 -58.478553       Saavedra   \n",
       "2          2  2021-03-20  2021-04-16 -34.570842 -58.491805  Villa Urquiza   \n",
       "3          3  2021-07-17  2021-10-16 -34.589251 -58.402106       Recoleta   \n",
       "4          4  2021-07-02  2022-02-09 -34.626290 -58.437632      Caballito   \n",
       "...      ...         ...         ...        ...        ...            ...   \n",
       "92874  18571  2021-02-13  2021-03-01 -34.594510 -58.413521   Barrio Norte   \n",
       "92875  18572  2021-08-20  2200-12-31 -34.540767 -58.466694          Nuñez   \n",
       "92876  18573  2021-09-08  2021-10-14 -34.586723 -58.402579       Recoleta   \n",
       "92877  18574  2021-01-12  2021-06-05 -34.579607 -58.489898  Villa Urquiza   \n",
       "92878  18575  2021-05-29  2022-02-09 -34.595270 -58.497952      Agronomía   \n",
       "\n",
       "      property_type  property_rooms  property_bedrooms  \\\n",
       "0      Departamento             2.0                1.0   \n",
       "1      Departamento             2.0                1.0   \n",
       "2      Departamento             2.0                1.0   \n",
       "3      Departamento             3.0                2.0   \n",
       "4      Departamento             3.0                2.0   \n",
       "...             ...             ...                ...   \n",
       "92874  Departamento             3.0                2.0   \n",
       "92875          Casa             4.0                3.0   \n",
       "92876  Departamento             2.0                1.0   \n",
       "92877  Departamento             4.0                3.0   \n",
       "92878            PH             3.0                3.0   \n",
       "\n",
       "       property_surface_total  ...  \\\n",
       "0                        58.0  ...   \n",
       "1                        48.0  ...   \n",
       "2                        62.0  ...   \n",
       "3                        60.0  ...   \n",
       "4                        67.0  ...   \n",
       "...                       ...  ...   \n",
       "92874                    60.0  ...   \n",
       "92875                   210.0  ...   \n",
       "92876                    35.0  ...   \n",
       "92877                    76.0  ...   \n",
       "92878                   145.0  ...   \n",
       "\n",
       "                                          property_title  \\\n",
       "0                                Departamento - Saavedra   \n",
       "1                                Departamento - Saavedra   \n",
       "2      Venta Depto 2 amb Anticipo + Cuotas CAC V. Urq...   \n",
       "3      Excelente 3 ambientes en venta en Barrio Recoleta   \n",
       "4                 VENTA DEPARTAMENTO 3 AMB. EN CABALLITO   \n",
       "...                                                  ...   \n",
       "92874  VENTA DEPARTAMENTO 3 AMBIENTES BALCÓN FRENTE 3...   \n",
       "92875                                       Casa - Nuñez   \n",
       "92876                         Recoleta 2 amb Oportunidad   \n",
       "92877  4 ambientes al contrafrente con balcón y coche...   \n",
       "92878            Venta PH a Estrenar 3/4 Amb c/ cochera    \n",
       "\n",
       "                              geometry a_estrenar patio_jardin   balcon  \\\n",
       "0      POINT (-58.4905135 -34.5550487)    unknown      unknown  unknown   \n",
       "1       POINT (-58.4785532 -34.546991)    unknown      unknown  unknown   \n",
       "2      POINT (-58.4918048 -34.5708421)    unknown      unknown  unknown   \n",
       "3      POINT (-58.4021058 -34.5892511)    unknown      unknown  unknown   \n",
       "4      POINT (-58.4376325 -34.6262899)    unknown      unknown  unknown   \n",
       "...                                ...        ...          ...      ...   \n",
       "92874     POINT (-58.413521 -34.59451)    unknown      unknown       sí   \n",
       "92875  POINT (-58.4666936 -34.5407667)    unknown      unknown  unknown   \n",
       "92876  POINT (-58.4025792 -34.5867234)    unknown      unknown  unknown   \n",
       "92877   POINT (-58.4898982 -34.579607)    unknown      unknown       sí   \n",
       "92878  POINT (-58.4979516 -34.5952703)         sí      unknown  unknown   \n",
       "\n",
       "       cochera   pileta parrilla  terraza monoambiente  \n",
       "0      unknown  unknown  unknown  unknown      unknown  \n",
       "1      unknown  unknown  unknown  unknown      unknown  \n",
       "2      unknown  unknown  unknown  unknown      unknown  \n",
       "3      unknown  unknown  unknown  unknown      unknown  \n",
       "4      unknown  unknown  unknown  unknown      unknown  \n",
       "...        ...      ...      ...      ...          ...  \n",
       "92874  unknown  unknown  unknown  unknown      unknown  \n",
       "92875  unknown  unknown  unknown  unknown      unknown  \n",
       "92876  unknown  unknown  unknown  unknown      unknown  \n",
       "92877       sí  unknown  unknown  unknown      unknown  \n",
       "92878       sí  unknown  unknown  unknown      unknown  \n",
       "\n",
       "[92879 rows x 22 columns]"
      ]
     },
     "execution_count": 52,
     "metadata": {},
     "output_type": "execute_result"
    }
   ],
   "source": [
    "viviendas"
   ]
  },
  {
   "cell_type": "markdown",
   "metadata": {},
   "source": [
    "### PARTE B"
   ]
  },
  {
   "cell_type": "markdown",
   "metadata": {},
   "source": [
    "#### UTILIZANDO LOS MISMO HIPERPARAMETROS QUE EN EL TP1"
   ]
  },
  {
   "cell_type": "code",
   "execution_count": 114,
   "metadata": {},
   "outputs": [
    {
     "ename": "ModuleNotFoundError",
     "evalue": "No module named 'sklearn'",
     "output_type": "error",
     "traceback": [
      "\u001b[1;31m---------------------------------------------------------------------------\u001b[0m",
      "\u001b[1;31mModuleNotFoundError\u001b[0m                       Traceback (most recent call last)",
      "Cell \u001b[1;32mIn [114], line 1\u001b[0m\n\u001b[1;32m----> 1\u001b[0m rand_xgb \u001b[39m=\u001b[39m joblib\u001b[39m.\u001b[39;49mload(\u001b[39m'\u001b[39;49m\u001b[39m./TP1/Models/rand_xgb\u001b[39;49m\u001b[39m'\u001b[39;49m)\n",
      "File \u001b[1;32mc:\\Program Files\\python\\lib\\site-packages\\joblib\\numpy_pickle.py:658\u001b[0m, in \u001b[0;36mload\u001b[1;34m(filename, mmap_mode)\u001b[0m\n\u001b[0;32m    652\u001b[0m             \u001b[39mif\u001b[39;00m \u001b[39misinstance\u001b[39m(fobj, \u001b[39mstr\u001b[39m):\n\u001b[0;32m    653\u001b[0m                 \u001b[39m# if the returned file object is a string, this means we\u001b[39;00m\n\u001b[0;32m    654\u001b[0m                 \u001b[39m# try to load a pickle file generated with an version of\u001b[39;00m\n\u001b[0;32m    655\u001b[0m                 \u001b[39m# Joblib so we load it with joblib compatibility function.\u001b[39;00m\n\u001b[0;32m    656\u001b[0m                 \u001b[39mreturn\u001b[39;00m load_compatibility(fobj)\n\u001b[1;32m--> 658\u001b[0m             obj \u001b[39m=\u001b[39m _unpickle(fobj, filename, mmap_mode)\n\u001b[0;32m    659\u001b[0m \u001b[39mreturn\u001b[39;00m obj\n",
      "File \u001b[1;32mc:\\Program Files\\python\\lib\\site-packages\\joblib\\numpy_pickle.py:577\u001b[0m, in \u001b[0;36m_unpickle\u001b[1;34m(fobj, filename, mmap_mode)\u001b[0m\n\u001b[0;32m    575\u001b[0m obj \u001b[39m=\u001b[39m \u001b[39mNone\u001b[39;00m\n\u001b[0;32m    576\u001b[0m \u001b[39mtry\u001b[39;00m:\n\u001b[1;32m--> 577\u001b[0m     obj \u001b[39m=\u001b[39m unpickler\u001b[39m.\u001b[39;49mload()\n\u001b[0;32m    578\u001b[0m     \u001b[39mif\u001b[39;00m unpickler\u001b[39m.\u001b[39mcompat_mode:\n\u001b[0;32m    579\u001b[0m         warnings\u001b[39m.\u001b[39mwarn(\u001b[39m\"\u001b[39m\u001b[39mThe file \u001b[39m\u001b[39m'\u001b[39m\u001b[39m%s\u001b[39;00m\u001b[39m'\u001b[39m\u001b[39m has been generated with a \u001b[39m\u001b[39m\"\u001b[39m\n\u001b[0;32m    580\u001b[0m                       \u001b[39m\"\u001b[39m\u001b[39mjoblib version less than 0.10. \u001b[39m\u001b[39m\"\u001b[39m\n\u001b[0;32m    581\u001b[0m                       \u001b[39m\"\u001b[39m\u001b[39mPlease regenerate this pickle file.\u001b[39m\u001b[39m\"\u001b[39m\n\u001b[0;32m    582\u001b[0m                       \u001b[39m%\u001b[39m filename,\n\u001b[0;32m    583\u001b[0m                       \u001b[39mDeprecationWarning\u001b[39;00m, stacklevel\u001b[39m=\u001b[39m\u001b[39m3\u001b[39m)\n",
      "File \u001b[1;32mc:\\Program Files\\python\\lib\\pickle.py:1210\u001b[0m, in \u001b[0;36m_Unpickler.load\u001b[1;34m(self)\u001b[0m\n\u001b[0;32m   1208\u001b[0m             \u001b[39mraise\u001b[39;00m \u001b[39mEOFError\u001b[39;00m\n\u001b[0;32m   1209\u001b[0m         \u001b[39massert\u001b[39;00m \u001b[39misinstance\u001b[39m(key, bytes_types)\n\u001b[1;32m-> 1210\u001b[0m         dispatch[key[\u001b[39m0\u001b[39;49m]](\u001b[39mself\u001b[39;49m)\n\u001b[0;32m   1211\u001b[0m \u001b[39mexcept\u001b[39;00m _Stop \u001b[39mas\u001b[39;00m stopinst:\n\u001b[0;32m   1212\u001b[0m     \u001b[39mreturn\u001b[39;00m stopinst\u001b[39m.\u001b[39mvalue\n",
      "File \u001b[1;32mc:\\Program Files\\python\\lib\\pickle.py:1535\u001b[0m, in \u001b[0;36m_Unpickler.load_stack_global\u001b[1;34m(self)\u001b[0m\n\u001b[0;32m   1533\u001b[0m \u001b[39mif\u001b[39;00m \u001b[39mtype\u001b[39m(name) \u001b[39mis\u001b[39;00m \u001b[39mnot\u001b[39;00m \u001b[39mstr\u001b[39m \u001b[39mor\u001b[39;00m \u001b[39mtype\u001b[39m(module) \u001b[39mis\u001b[39;00m \u001b[39mnot\u001b[39;00m \u001b[39mstr\u001b[39m:\n\u001b[0;32m   1534\u001b[0m     \u001b[39mraise\u001b[39;00m UnpicklingError(\u001b[39m\"\u001b[39m\u001b[39mSTACK_GLOBAL requires str\u001b[39m\u001b[39m\"\u001b[39m)\n\u001b[1;32m-> 1535\u001b[0m \u001b[39mself\u001b[39m\u001b[39m.\u001b[39mappend(\u001b[39mself\u001b[39;49m\u001b[39m.\u001b[39;49mfind_class(module, name))\n",
      "File \u001b[1;32mc:\\Program Files\\python\\lib\\pickle.py:1577\u001b[0m, in \u001b[0;36m_Unpickler.find_class\u001b[1;34m(self, module, name)\u001b[0m\n\u001b[0;32m   1575\u001b[0m     \u001b[39melif\u001b[39;00m module \u001b[39min\u001b[39;00m _compat_pickle\u001b[39m.\u001b[39mIMPORT_MAPPING:\n\u001b[0;32m   1576\u001b[0m         module \u001b[39m=\u001b[39m _compat_pickle\u001b[39m.\u001b[39mIMPORT_MAPPING[module]\n\u001b[1;32m-> 1577\u001b[0m \u001b[39m__import__\u001b[39;49m(module, level\u001b[39m=\u001b[39;49m\u001b[39m0\u001b[39;49m)\n\u001b[0;32m   1578\u001b[0m \u001b[39mif\u001b[39;00m \u001b[39mself\u001b[39m\u001b[39m.\u001b[39mproto \u001b[39m>\u001b[39m\u001b[39m=\u001b[39m \u001b[39m4\u001b[39m:\n\u001b[0;32m   1579\u001b[0m     \u001b[39mreturn\u001b[39;00m _getattribute(sys\u001b[39m.\u001b[39mmodules[module], name)[\u001b[39m0\u001b[39m]\n",
      "\u001b[1;31mModuleNotFoundError\u001b[0m: No module named 'sklearn'"
     ]
    }
   ],
   "source": [
    "rand_xgb = joblib.load('./TP1/Models/rand_xgb')"
   ]
  },
  {
   "cell_type": "code",
   "execution_count": null,
   "metadata": {},
   "outputs": [],
   "source": [
    "scaler = MinMaxScaler() \n",
    "x_train_xgb = scaler.fit_transform(x_train_xgb)"
   ]
  },
  {
   "cell_type": "code",
   "execution_count": null,
   "metadata": {},
   "outputs": [],
   "source": [
    "best_xgb_regressor = rand_xgb.best_estimator_\n",
    "best_xgb_regressor"
   ]
  },
  {
   "cell_type": "markdown",
   "metadata": {},
   "source": [
    "# VERIFICAR QUE ES ESTO EN LA PARTE DE XGB"
   ]
  },
  {
   "cell_type": "code",
   "execution_count": null,
   "metadata": {},
   "outputs": [],
   "source": [
    "#Predicción con mejor estimador\n",
    "y_pred_train_xgb = best_xgb_regressor.predict(viviendas)#x_train_xgb)\n",
    "\n",
    "#Coef. de Determinación R2\n",
    "r2_score_train_xgb = r2_score(y_train_xgb, y_pred_train_xgb)\n",
    "print(f'Coef. de Determinación R2: {r2_score_train_xgb}')\n",
    "\n",
    "#Coef. de Determinación R2 ajustado\n",
    "n = x_train_xgb.shape[0] #n = count of rows in your dataset used for train or test\n",
    "p = 4 #p = count of independent variables\n",
    "print(f'Coef. de Determinación R2 ajustado: {1-(1-r2_score_train_xgb)*(n-1)/(n-p-1)}')\n",
    "\n",
    "#Mean Square Error\n",
    "mse = metrics.mean_squared_error(\n",
    "        y_true  = y_train_xgb,\n",
    "        y_pred  = y_pred_train_xgb,\n",
    "        squared = True\n",
    "       )\n",
    "\n",
    "print(f\"El error (mse) de train es: {mse}\")\n",
    "\n",
    "#Root Mean Square Error\n",
    "rmse = metrics.mean_squared_error(\n",
    "        y_true  = y_train_xgb,\n",
    "        y_pred  = y_pred_train_xgb,\n",
    "        squared = False\n",
    "       )\n",
    "\n",
    "print(f\"El error (rmse) de train es: {rmse}\")"
   ]
  },
  {
   "cell_type": "code",
   "execution_count": null,
   "metadata": {},
   "outputs": [],
   "source": []
  },
  {
   "cell_type": "markdown",
   "metadata": {},
   "source": [
    "## b) Modelos"
   ]
  },
  {
   "cell_type": "markdown",
   "metadata": {},
   "source": [
    "# 2. Redes Neuronales"
   ]
  },
  {
   "cell_type": "markdown",
   "metadata": {},
   "source": [
    "## Regresión:"
   ]
  },
  {
   "cell_type": "markdown",
   "metadata": {},
   "source": [
    "## Clasificasión:"
   ]
  },
  {
   "cell_type": "markdown",
   "metadata": {},
   "source": [
    "# 3. Ensamble de Modelos"
   ]
  },
  {
   "cell_type": "markdown",
   "metadata": {},
   "source": [
    "## Voting"
   ]
  },
  {
   "cell_type": "code",
   "execution_count": null,
   "metadata": {},
   "outputs": [],
   "source": [
    "import pandas as pd\n",
    "import numpy as np \n",
    "\n",
    "import warnings\n",
    "warnings.filterwarnings('ignore')\n",
    "\n",
    "\n",
    "from sklearn.ensemble import RandomForestClassifier \n",
    "from sklearn.linear_model import LogisticRegression \n",
    "from sklearn.neighbors import KNeighborsClassifier\n",
    "from sklearn.ensemble import AdaBoostClassifier\n",
    "from sklearn.naive_bayes import GaussianNB\n",
    "from sklearn.tree import DecisionTreeClassifier\n",
    "\n",
    "from sklearn.metrics import f1_score\n",
    "from sklearn.metrics import recall_score\n",
    "from sklearn.metrics import precision_score\n",
    "\n",
    "from sklearn.ensemble import VotingClassifier\n",
    "from sklearn.metrics import accuracy_score\n"
   ]
  },
  {
   "cell_type": "code",
   "execution_count": null,
   "metadata": {},
   "outputs": [],
   "source": [
    "#Importo los datos de entrenamiento y prueba de nuestro Random Forest\n",
    "\n",
    "y_train = pd.read_csv('./TP1/Datasets/y_train_property_type.csv').copy()\n",
    "y_test = pd.read_csv('./TP1/Datasets/y_test_property_type.csv').copy()\n",
    "\n",
    "x_train = pd.read_csv('./TP1/Datasets/x_train_property_type.csv').copy()\n",
    "x_test = pd.read_csv('./TP1/Datasets/x_test_property_type.csv').copy()\n"
   ]
  },
  {
   "cell_type": "markdown",
   "metadata": {},
   "source": [
    "Voy a evaluar distintos clasificadores para ver cual me conviene para obtener mejores metricas."
   ]
  },
  {
   "cell_type": "code",
   "execution_count": null,
   "metadata": {},
   "outputs": [
    {
     "name": "stdout",
     "output_type": "stream",
     "text": [
      "F1-score of decision tree classifier: 0.7051\n",
      "F1-score of support vector machine: 0.5457\n",
      "F1-score of naive bayes classifier: 0.3733\n",
      "F1-score of random forest classifier: 0.7451\n",
      "F1-score of KNN classifier: 0.6111\n",
      "F1-score of AdaBoost classifier: 0.5932\n"
     ]
    }
   ],
   "source": [
    "# Predicciones con decision tree classifier\n",
    "dtc = DecisionTreeClassifier(random_state=42)\n",
    "dtc = dtc.fit(x_train, y_train)\n",
    "y_pred_dtc = dtc.predict(x_test)\n",
    "\n",
    "\n",
    "# Predicciones con logistic regression model\n",
    "lr = LogisticRegression()\n",
    "lr = lr.fit(x_train, y_train)\n",
    "y_pred_lr = lr.predict(x_test)\n",
    "\n",
    "\n",
    "# Predicciones con naive bayes model\n",
    "gnb = GaussianNB()\n",
    "gnb = gnb.fit(x_train, y_train)\n",
    "y_pred_gnb = gnb.predict(x_test)\n",
    "\n",
    "# Predicciones con modelo AdaBoost\n",
    "ada_boost_clf = AdaBoostClassifier()\n",
    "ada_boost_clf.fit(x_train, y_train)\n",
    "y_pred_ada = ada_boost_clf.predict(x_test)\n",
    "\n",
    "# Predicciones con modelo Random Forest\n",
    "rnd_clf = RandomForestClassifier()\n",
    "rnd_clf.fit(x_train, y_train)\n",
    "y_pred_rnd = rnd_clf.predict(x_test)\n",
    "\n",
    "# Predicciones con modelo KNN\n",
    "knn_clf = KNeighborsClassifier()\n",
    "knn_clf.fit(x_train, y_train)\n",
    "y_pred_knn = knn_clf.predict(x_test)\n",
    "\n",
    "\n",
    "\n",
    "\n",
    "# evaluating the models based on their f-1 scores\n",
    "f1_dtc = f1_score(y_test, y_pred_dtc,average='weighted')\n",
    "f1_lr = f1_score(y_test, y_pred_lr,average='weighted')\n",
    "f1_gnb = f1_score(y_test, y_pred_gnb,average='weighted')\n",
    "f1_rnd = f1_score(y_test, y_pred_rnd,average='weighted')\n",
    "f1_knn = f1_score(y_test, y_pred_knn,average='weighted')\n",
    "f1_ada = f1_score(y_test, y_pred_ada,average='weighted')\n",
    "\n",
    "# print the f-1 scores\n",
    "print('F1-score of decision tree classifier: {}'.format(np.round(f1_dtc,4)))\n",
    "print('F1-score of support vector machine: {}'.format(np.round(f1_lr,4)))\n",
    "print('F1-score of naive bayes classifier: {}'.format(np.round(f1_gnb,4)))\n",
    "print('F1-score of random forest classifier: {}'.format(np.round(f1_rnd,4)))\n",
    "print('F1-score of KNN classifier: {}'.format(np.round(f1_knn,4)))\n",
    "print('F1-score of AdaBoost classifier: {}'.format(np.round(f1_ada,4)))"
   ]
  },
  {
   "cell_type": "markdown",
   "metadata": {},
   "source": [
    "Aca podemos ver que los mejores 3 modelos fueron los de Decision Tree Classifier, Random Forest Classifier y KNN.\n",
    "Procedo a realizar el Voting con dichos tres modelos.\n",
    "Para obtener mejores resultados, tambien voy a evaluar realizando una votacion de tipo Hard y una de tipo Soft y utilizar la que mejores resultados de."
   ]
  },
  {
   "cell_type": "code",
   "execution_count": null,
   "metadata": {},
   "outputs": [
    {
     "name": "stdout",
     "output_type": "stream",
     "text": [
      "RESULTADOS HARD VOTING:\n",
      "\n",
      "Accuracy Score: 0.7330426356589147\n",
      "F1-score: 0.7325673315978177\n",
      "Precision Score :  0.7336933775486353\n",
      "Recall Score : 0.7330426356589147\n",
      "\n",
      "RESULTADOS SOFT VOTING:\n",
      "\n",
      "Accuracy Score: 0.7258828596037898\n",
      "F1-score: 0.7253054999623219\n",
      "Precision Score :  0.7260450948692784\n",
      "Recall Score : 0.7258828596037898\n"
     ]
    }
   ],
   "source": [
    "#Creo clasificadores\n",
    "\n",
    "dtc_clf = DecisionTreeClassifier()\n",
    "rnd_clf = RandomForestClassifier()\n",
    "knn_clf = KNeighborsClassifier()\n",
    "\n",
    "#Creo ensemble de Votación Hard\n",
    "vot_clf_h = VotingClassifier(estimators = [('dtc', dtc_clf), ('rnd', rnd_clf), ('knn', knn_clf)], voting = 'hard')\n",
    "\n",
    "#Creo ensemble de Votación Soft\n",
    "vot_clf_s = VotingClassifier(estimators = [('dtc', dtc_clf), ('rnd', rnd_clf), ('knn', knn_clf)], voting = 'soft')\n",
    "\n",
    "\n",
    "#Entreno ambos ensembles\n",
    "vot_clf_h.fit(x_train, y_train)\n",
    "vot_clf_s.fit(x_train, y_train)\n",
    "\n",
    "#Evaluo en conjunto de test\n",
    "pred_h = vot_clf_h.predict(x_test)\n",
    "pred_s = vot_clf_s.predict(x_test)\n",
    "\n",
    "\n",
    "\n",
    "#Calculo accuracy\n",
    "print(\"RESULTADOS HARD VOTING:\\n\")\n",
    "print('Accuracy Score: {}'.format(accuracy_score(y_test, pred_h)))\n",
    "print('F1-score: {}'.format(f1_score(y_test, pred_h,average=\"weighted\")))\n",
    "print(\"Precision Score : \",precision_score(y_test,pred_h,pos_label='positive',average=\"weighted\"))\n",
    "print(\"Recall Score :\" , recall_score(y_test, pred_h, pos_label='positive',average=\"weighted\"))\n",
    "\n",
    "print(\"\\nRESULTADOS SOFT VOTING:\\n\")\n",
    "print('Accuracy Score: {}'.format(accuracy_score(y_test, pred_s)))\n",
    "print('F1-score: {}'.format(f1_score(y_test, pred_s,average=\"weighted\")))\n",
    "print(\"Precision Score: \",precision_score(y_test,pred_s,pos_label='positive',average=\"weighted\"))\n",
    "print(\"Recall Score:\" , recall_score(y_test, pred_s, pos_label='positive',average=\"weighted\"))"
   ]
  },
  {
   "cell_type": "markdown",
   "metadata": {},
   "source": [
    "Concluimos que conviene utilizar el metodo de Hard voting."
   ]
  },
  {
   "cell_type": "markdown",
   "metadata": {},
   "source": [
    "## Stacking"
   ]
  },
  {
   "cell_type": "code",
   "execution_count": null,
   "metadata": {},
   "outputs": [],
   "source": [
    "import numpy as np \n",
    "import pandas as pd\n",
    "from collections import defaultdict\n",
    "import warnings\n",
    "\n",
    "import matplotlib.pyplot as plt\n",
    "import seaborn as sns\n",
    "\n",
    "import plotly.graph_objects as go\n",
    "%matplotlib inline\n",
    "\n",
    "from sklearn.ensemble import RandomForestClassifier \n",
    "from sklearn.linear_model import LogisticRegression \n",
    "from sklearn.neighbors import KNeighborsClassifier\n",
    "from sklearn.tree import DecisionTreeClassifier\n",
    "from sklearn.ensemble import AdaBoostClassifier\n",
    "from sklearn.naive_bayes import GaussianNB\n",
    "from sklearn.linear_model import LogisticRegressionCV\n",
    "\n",
    "warnings.filterwarnings('ignore')\n",
    "\n",
    "\n",
    "from sklearn.model_selection import cross_val_score, RepeatedStratifiedKFold\n",
    "from sklearn.model_selection import train_test_split\n",
    "from sklearn.metrics import accuracy_score\n",
    "from sklearn.metrics import f1_score\n",
    "from sklearn.metrics import recall_score\n",
    "from sklearn.metrics import precision_score"
   ]
  },
  {
   "cell_type": "code",
   "execution_count": null,
   "metadata": {},
   "outputs": [],
   "source": [
    "#Importo los datos de entrenamiento y prueba de nuestro Random Forest\n",
    "\n",
    "y_train = pd.read_csv('./TP1/Datasets/y_train_property_type.csv').copy()\n",
    "y_test = pd.read_csv('./TP1/Datasets/y_test_property_type.csv').copy()\n",
    "\n",
    "x_train = pd.read_csv('./TP1/Datasets/x_train_property_type.csv').copy()\n",
    "x_test = pd.read_csv('./TP1/Datasets/x_test_property_type.csv').copy()\n"
   ]
  },
  {
   "cell_type": "code",
   "execution_count": null,
   "metadata": {},
   "outputs": [],
   "source": [
    "#Funcion para evaluar los modelos 5fold -CV (2 repeticiones)\n",
    "def evaluate_model(model, x, y):\n",
    "    cv = RepeatedStratifiedKFold(n_splits=5, n_repeats=2, random_state=1)\n",
    "    scores = cross_val_score(model, x, y, scoring='accuracy', cv=cv, verbose=1, n_jobs=3, error_score='raise')\n",
    "    return scores"
   ]
  },
  {
   "cell_type": "code",
   "execution_count": null,
   "metadata": {},
   "outputs": [],
   "source": [
    "#Funcion para plotear a performance\n",
    "def plot_results(model_scores, name):\n",
    "    \n",
    "    model_names = list(model_scores.keys())\n",
    "    results = [model_scores[model] for model in model_names]\n",
    "    fig = go.Figure()\n",
    "    for model, result in zip(model_names, results):\n",
    "        fig.add_trace(go.Box(\n",
    "            y=result,\n",
    "            name=model,\n",
    "            boxpoints='all',\n",
    "            jitter=0.5,\n",
    "            whiskerwidth=0.2,\n",
    "            marker_size=2,\n",
    "            line_width=1)\n",
    "        )\n",
    "    \n",
    "    fig.update_layout(\n",
    "    title='Performance of Different Models Using 5-Fold Cross-Validation',\n",
    "    paper_bgcolor='rgb(243, 243, 243)',\n",
    "    plot_bgcolor='rgb(243, 243, 243)',\n",
    "    xaxis_title='Model',\n",
    "    yaxis_title='Accuracy',\n",
    "    showlegend=False)\n",
    "    fig.show()"
   ]
  },
  {
   "cell_type": "code",
   "execution_count": null,
   "metadata": {},
   "outputs": [
    {
     "name": "stdout",
     "output_type": "stream",
     "text": [
      "Evaluating random_forest\n"
     ]
    },
    {
     "name": "stderr",
     "output_type": "stream",
     "text": [
      "[Parallel(n_jobs=3)]: Using backend LokyBackend with 3 concurrent workers.\n",
      "[Parallel(n_jobs=3)]: Done  10 out of  10 | elapsed:   37.5s finished\n"
     ]
    },
    {
     "name": "stdout",
     "output_type": "stream",
     "text": [
      "Evaluating dtc\n"
     ]
    },
    {
     "name": "stderr",
     "output_type": "stream",
     "text": [
      "[Parallel(n_jobs=3)]: Using backend LokyBackend with 3 concurrent workers.\n",
      "[Parallel(n_jobs=3)]: Done  10 out of  10 | elapsed:    3.4s finished\n"
     ]
    },
    {
     "name": "stdout",
     "output_type": "stream",
     "text": [
      "Evaluating knn\n"
     ]
    },
    {
     "name": "stderr",
     "output_type": "stream",
     "text": [
      "[Parallel(n_jobs=3)]: Using backend LokyBackend with 3 concurrent workers.\n",
      "[Parallel(n_jobs=3)]: Done  10 out of  10 | elapsed:  2.8min finished\n"
     ]
    }
   ],
   "source": [
    "#Modelos Base\n",
    "base_models = {'random_forest':RandomForestClassifier(n_estimators=50),\n",
    "               'dtc': DecisionTreeClassifier(),\n",
    "               'knn': KNeighborsClassifier(n_neighbors=11)\n",
    "               } \n",
    "\n",
    "#Guarda los scores de cada modelo\n",
    "model_scores = defaultdict()\n",
    "\n",
    "#Entreno los clasificadores\n",
    "for name, model in base_models.items():\n",
    "    print('Evaluating {}'.format(name))\n",
    "    scores = evaluate_model(model, x_train, y_train)\n",
    "    model_scores[name] = scores"
   ]
  },
  {
   "cell_type": "code",
   "execution_count": null,
   "metadata": {},
   "outputs": [],
   "source": [
    "from sklearn.ensemble import StackingClassifier\n",
    "\n",
    "#Modelos Base\n",
    "base_models = [('random_forest', RandomForestClassifier(n_estimators=50)),\n",
    "               ('dtc', DecisionTreeClassifier()),\n",
    "               ('knn', KNeighborsClassifier(n_neighbors=11))]\n",
    "\n",
    "#Meta Modelo\n",
    "meta_model = LogisticRegressionCV()\n",
    "\n",
    "#Ensemble Stacking\n",
    "stacking_model = StackingClassifier(estimators=base_models, \n",
    "                                    final_estimator=meta_model, \n",
    "                                    passthrough=True,\n",
    "                                    cv=5,\n",
    "                                    verbose=2)"
   ]
  },
  {
   "cell_type": "code",
   "execution_count": null,
   "metadata": {},
   "outputs": [
    {
     "name": "stderr",
     "output_type": "stream",
     "text": [
      "[Parallel(n_jobs=3)]: Using backend LokyBackend with 3 concurrent workers.\n",
      "[Parallel(n_jobs=3)]: Done  10 out of  10 | elapsed: 25.7min finished\n"
     ]
    }
   ],
   "source": [
    "#Performance el modelo en entrenamiento\n",
    "stacking_scores = evaluate_model(stacking_model, x_train, y_train)\n",
    "model_scores['stacking'] = stacking_scores"
   ]
  },
  {
   "cell_type": "code",
   "execution_count": null,
   "metadata": {},
   "outputs": [
    {
     "data": {
      "application/vnd.plotly.v1+json": {
       "config": {
        "plotlyServerURL": "https://plot.ly"
       },
       "data": [
        {
         "boxpoints": "all",
         "jitter": 0.5,
         "line": {
          "width": 1
         },
         "marker": {
          "size": 2
         },
         "name": "random_forest",
         "type": "box",
         "whiskerwidth": 0.2,
         "y": [
          0.7246484085862325,
          0.730098916627414,
          0.7334634277639459,
          0.7281292059219381,
          0.7299461641991924,
          0.7315120113047574,
          0.7334634277639459,
          0.7308391090774511,
          0.7252355316285329,
          0.7281292059219381
         ]
        },
        {
         "boxpoints": "all",
         "jitter": 0.5,
         "line": {
          "width": 1
         },
         "marker": {
          "size": 2
         },
         "name": "dtc",
         "type": "box",
         "whiskerwidth": 0.2,
         "y": [
          0.6842742749478501,
          0.6871677545252675,
          0.6935603256846781,
          0.6917900403768507,
          0.6912516823687752,
          0.6925509723437184,
          0.6940313572437925,
          0.6942332279119844,
          0.6849259757738896,
          0.6933378196500672
         ]
        },
        {
         "boxpoints": "all",
         "jitter": 0.5,
         "line": {
          "width": 1
         },
         "marker": {
          "size": 2
         },
         "name": "knn",
         "type": "box",
         "whiskerwidth": 0.2,
         "y": [
          0.5851557768656215,
          0.5843482941928537,
          0.5896642217885741,
          0.5856662180349933,
          0.5922611036339166,
          0.5899333826794967,
          0.5865015813202342,
          0.5843482941928537,
          0.5833109017496635,
          0.5835127860026917
         ]
        },
        {
         "boxpoints": "all",
         "jitter": 0.5,
         "line": {
          "width": 1
         },
         "marker": {
          "size": 2
         },
         "name": "stacking",
         "type": "box",
         "whiskerwidth": 0.2,
         "y": [
          0.7364914877868246,
          0.7379718726868986,
          0.7418074153825449,
          0.7356662180349933,
          0.7381561238223419,
          0.7414036740461611,
          0.7434896709508109,
          0.738442904246013,
          0.7336473755047106,
          0.7382907133243607
         ]
        }
       ],
       "layout": {
        "paper_bgcolor": "rgb(243, 243, 243)",
        "plot_bgcolor": "rgb(243, 243, 243)",
        "showlegend": false,
        "template": {
         "data": {
          "bar": [
           {
            "error_x": {
             "color": "#2a3f5f"
            },
            "error_y": {
             "color": "#2a3f5f"
            },
            "marker": {
             "line": {
              "color": "#E5ECF6",
              "width": 0.5
             },
             "pattern": {
              "fillmode": "overlay",
              "size": 10,
              "solidity": 0.2
             }
            },
            "type": "bar"
           }
          ],
          "barpolar": [
           {
            "marker": {
             "line": {
              "color": "#E5ECF6",
              "width": 0.5
             },
             "pattern": {
              "fillmode": "overlay",
              "size": 10,
              "solidity": 0.2
             }
            },
            "type": "barpolar"
           }
          ],
          "carpet": [
           {
            "aaxis": {
             "endlinecolor": "#2a3f5f",
             "gridcolor": "white",
             "linecolor": "white",
             "minorgridcolor": "white",
             "startlinecolor": "#2a3f5f"
            },
            "baxis": {
             "endlinecolor": "#2a3f5f",
             "gridcolor": "white",
             "linecolor": "white",
             "minorgridcolor": "white",
             "startlinecolor": "#2a3f5f"
            },
            "type": "carpet"
           }
          ],
          "choropleth": [
           {
            "colorbar": {
             "outlinewidth": 0,
             "ticks": ""
            },
            "type": "choropleth"
           }
          ],
          "contour": [
           {
            "colorbar": {
             "outlinewidth": 0,
             "ticks": ""
            },
            "colorscale": [
             [
              0,
              "#0d0887"
             ],
             [
              0.1111111111111111,
              "#46039f"
             ],
             [
              0.2222222222222222,
              "#7201a8"
             ],
             [
              0.3333333333333333,
              "#9c179e"
             ],
             [
              0.4444444444444444,
              "#bd3786"
             ],
             [
              0.5555555555555556,
              "#d8576b"
             ],
             [
              0.6666666666666666,
              "#ed7953"
             ],
             [
              0.7777777777777778,
              "#fb9f3a"
             ],
             [
              0.8888888888888888,
              "#fdca26"
             ],
             [
              1,
              "#f0f921"
             ]
            ],
            "type": "contour"
           }
          ],
          "contourcarpet": [
           {
            "colorbar": {
             "outlinewidth": 0,
             "ticks": ""
            },
            "type": "contourcarpet"
           }
          ],
          "heatmap": [
           {
            "colorbar": {
             "outlinewidth": 0,
             "ticks": ""
            },
            "colorscale": [
             [
              0,
              "#0d0887"
             ],
             [
              0.1111111111111111,
              "#46039f"
             ],
             [
              0.2222222222222222,
              "#7201a8"
             ],
             [
              0.3333333333333333,
              "#9c179e"
             ],
             [
              0.4444444444444444,
              "#bd3786"
             ],
             [
              0.5555555555555556,
              "#d8576b"
             ],
             [
              0.6666666666666666,
              "#ed7953"
             ],
             [
              0.7777777777777778,
              "#fb9f3a"
             ],
             [
              0.8888888888888888,
              "#fdca26"
             ],
             [
              1,
              "#f0f921"
             ]
            ],
            "type": "heatmap"
           }
          ],
          "heatmapgl": [
           {
            "colorbar": {
             "outlinewidth": 0,
             "ticks": ""
            },
            "colorscale": [
             [
              0,
              "#0d0887"
             ],
             [
              0.1111111111111111,
              "#46039f"
             ],
             [
              0.2222222222222222,
              "#7201a8"
             ],
             [
              0.3333333333333333,
              "#9c179e"
             ],
             [
              0.4444444444444444,
              "#bd3786"
             ],
             [
              0.5555555555555556,
              "#d8576b"
             ],
             [
              0.6666666666666666,
              "#ed7953"
             ],
             [
              0.7777777777777778,
              "#fb9f3a"
             ],
             [
              0.8888888888888888,
              "#fdca26"
             ],
             [
              1,
              "#f0f921"
             ]
            ],
            "type": "heatmapgl"
           }
          ],
          "histogram": [
           {
            "marker": {
             "pattern": {
              "fillmode": "overlay",
              "size": 10,
              "solidity": 0.2
             }
            },
            "type": "histogram"
           }
          ],
          "histogram2d": [
           {
            "colorbar": {
             "outlinewidth": 0,
             "ticks": ""
            },
            "colorscale": [
             [
              0,
              "#0d0887"
             ],
             [
              0.1111111111111111,
              "#46039f"
             ],
             [
              0.2222222222222222,
              "#7201a8"
             ],
             [
              0.3333333333333333,
              "#9c179e"
             ],
             [
              0.4444444444444444,
              "#bd3786"
             ],
             [
              0.5555555555555556,
              "#d8576b"
             ],
             [
              0.6666666666666666,
              "#ed7953"
             ],
             [
              0.7777777777777778,
              "#fb9f3a"
             ],
             [
              0.8888888888888888,
              "#fdca26"
             ],
             [
              1,
              "#f0f921"
             ]
            ],
            "type": "histogram2d"
           }
          ],
          "histogram2dcontour": [
           {
            "colorbar": {
             "outlinewidth": 0,
             "ticks": ""
            },
            "colorscale": [
             [
              0,
              "#0d0887"
             ],
             [
              0.1111111111111111,
              "#46039f"
             ],
             [
              0.2222222222222222,
              "#7201a8"
             ],
             [
              0.3333333333333333,
              "#9c179e"
             ],
             [
              0.4444444444444444,
              "#bd3786"
             ],
             [
              0.5555555555555556,
              "#d8576b"
             ],
             [
              0.6666666666666666,
              "#ed7953"
             ],
             [
              0.7777777777777778,
              "#fb9f3a"
             ],
             [
              0.8888888888888888,
              "#fdca26"
             ],
             [
              1,
              "#f0f921"
             ]
            ],
            "type": "histogram2dcontour"
           }
          ],
          "mesh3d": [
           {
            "colorbar": {
             "outlinewidth": 0,
             "ticks": ""
            },
            "type": "mesh3d"
           }
          ],
          "parcoords": [
           {
            "line": {
             "colorbar": {
              "outlinewidth": 0,
              "ticks": ""
             }
            },
            "type": "parcoords"
           }
          ],
          "pie": [
           {
            "automargin": true,
            "type": "pie"
           }
          ],
          "scatter": [
           {
            "fillpattern": {
             "fillmode": "overlay",
             "size": 10,
             "solidity": 0.2
            },
            "type": "scatter"
           }
          ],
          "scatter3d": [
           {
            "line": {
             "colorbar": {
              "outlinewidth": 0,
              "ticks": ""
             }
            },
            "marker": {
             "colorbar": {
              "outlinewidth": 0,
              "ticks": ""
             }
            },
            "type": "scatter3d"
           }
          ],
          "scattercarpet": [
           {
            "marker": {
             "colorbar": {
              "outlinewidth": 0,
              "ticks": ""
             }
            },
            "type": "scattercarpet"
           }
          ],
          "scattergeo": [
           {
            "marker": {
             "colorbar": {
              "outlinewidth": 0,
              "ticks": ""
             }
            },
            "type": "scattergeo"
           }
          ],
          "scattergl": [
           {
            "marker": {
             "colorbar": {
              "outlinewidth": 0,
              "ticks": ""
             }
            },
            "type": "scattergl"
           }
          ],
          "scattermapbox": [
           {
            "marker": {
             "colorbar": {
              "outlinewidth": 0,
              "ticks": ""
             }
            },
            "type": "scattermapbox"
           }
          ],
          "scatterpolar": [
           {
            "marker": {
             "colorbar": {
              "outlinewidth": 0,
              "ticks": ""
             }
            },
            "type": "scatterpolar"
           }
          ],
          "scatterpolargl": [
           {
            "marker": {
             "colorbar": {
              "outlinewidth": 0,
              "ticks": ""
             }
            },
            "type": "scatterpolargl"
           }
          ],
          "scatterternary": [
           {
            "marker": {
             "colorbar": {
              "outlinewidth": 0,
              "ticks": ""
             }
            },
            "type": "scatterternary"
           }
          ],
          "surface": [
           {
            "colorbar": {
             "outlinewidth": 0,
             "ticks": ""
            },
            "colorscale": [
             [
              0,
              "#0d0887"
             ],
             [
              0.1111111111111111,
              "#46039f"
             ],
             [
              0.2222222222222222,
              "#7201a8"
             ],
             [
              0.3333333333333333,
              "#9c179e"
             ],
             [
              0.4444444444444444,
              "#bd3786"
             ],
             [
              0.5555555555555556,
              "#d8576b"
             ],
             [
              0.6666666666666666,
              "#ed7953"
             ],
             [
              0.7777777777777778,
              "#fb9f3a"
             ],
             [
              0.8888888888888888,
              "#fdca26"
             ],
             [
              1,
              "#f0f921"
             ]
            ],
            "type": "surface"
           }
          ],
          "table": [
           {
            "cells": {
             "fill": {
              "color": "#EBF0F8"
             },
             "line": {
              "color": "white"
             }
            },
            "header": {
             "fill": {
              "color": "#C8D4E3"
             },
             "line": {
              "color": "white"
             }
            },
            "type": "table"
           }
          ]
         },
         "layout": {
          "annotationdefaults": {
           "arrowcolor": "#2a3f5f",
           "arrowhead": 0,
           "arrowwidth": 1
          },
          "autotypenumbers": "strict",
          "coloraxis": {
           "colorbar": {
            "outlinewidth": 0,
            "ticks": ""
           }
          },
          "colorscale": {
           "diverging": [
            [
             0,
             "#8e0152"
            ],
            [
             0.1,
             "#c51b7d"
            ],
            [
             0.2,
             "#de77ae"
            ],
            [
             0.3,
             "#f1b6da"
            ],
            [
             0.4,
             "#fde0ef"
            ],
            [
             0.5,
             "#f7f7f7"
            ],
            [
             0.6,
             "#e6f5d0"
            ],
            [
             0.7,
             "#b8e186"
            ],
            [
             0.8,
             "#7fbc41"
            ],
            [
             0.9,
             "#4d9221"
            ],
            [
             1,
             "#276419"
            ]
           ],
           "sequential": [
            [
             0,
             "#0d0887"
            ],
            [
             0.1111111111111111,
             "#46039f"
            ],
            [
             0.2222222222222222,
             "#7201a8"
            ],
            [
             0.3333333333333333,
             "#9c179e"
            ],
            [
             0.4444444444444444,
             "#bd3786"
            ],
            [
             0.5555555555555556,
             "#d8576b"
            ],
            [
             0.6666666666666666,
             "#ed7953"
            ],
            [
             0.7777777777777778,
             "#fb9f3a"
            ],
            [
             0.8888888888888888,
             "#fdca26"
            ],
            [
             1,
             "#f0f921"
            ]
           ],
           "sequentialminus": [
            [
             0,
             "#0d0887"
            ],
            [
             0.1111111111111111,
             "#46039f"
            ],
            [
             0.2222222222222222,
             "#7201a8"
            ],
            [
             0.3333333333333333,
             "#9c179e"
            ],
            [
             0.4444444444444444,
             "#bd3786"
            ],
            [
             0.5555555555555556,
             "#d8576b"
            ],
            [
             0.6666666666666666,
             "#ed7953"
            ],
            [
             0.7777777777777778,
             "#fb9f3a"
            ],
            [
             0.8888888888888888,
             "#fdca26"
            ],
            [
             1,
             "#f0f921"
            ]
           ]
          },
          "colorway": [
           "#636efa",
           "#EF553B",
           "#00cc96",
           "#ab63fa",
           "#FFA15A",
           "#19d3f3",
           "#FF6692",
           "#B6E880",
           "#FF97FF",
           "#FECB52"
          ],
          "font": {
           "color": "#2a3f5f"
          },
          "geo": {
           "bgcolor": "white",
           "lakecolor": "white",
           "landcolor": "#E5ECF6",
           "showlakes": true,
           "showland": true,
           "subunitcolor": "white"
          },
          "hoverlabel": {
           "align": "left"
          },
          "hovermode": "closest",
          "mapbox": {
           "style": "light"
          },
          "paper_bgcolor": "white",
          "plot_bgcolor": "#E5ECF6",
          "polar": {
           "angularaxis": {
            "gridcolor": "white",
            "linecolor": "white",
            "ticks": ""
           },
           "bgcolor": "#E5ECF6",
           "radialaxis": {
            "gridcolor": "white",
            "linecolor": "white",
            "ticks": ""
           }
          },
          "scene": {
           "xaxis": {
            "backgroundcolor": "#E5ECF6",
            "gridcolor": "white",
            "gridwidth": 2,
            "linecolor": "white",
            "showbackground": true,
            "ticks": "",
            "zerolinecolor": "white"
           },
           "yaxis": {
            "backgroundcolor": "#E5ECF6",
            "gridcolor": "white",
            "gridwidth": 2,
            "linecolor": "white",
            "showbackground": true,
            "ticks": "",
            "zerolinecolor": "white"
           },
           "zaxis": {
            "backgroundcolor": "#E5ECF6",
            "gridcolor": "white",
            "gridwidth": 2,
            "linecolor": "white",
            "showbackground": true,
            "ticks": "",
            "zerolinecolor": "white"
           }
          },
          "shapedefaults": {
           "line": {
            "color": "#2a3f5f"
           }
          },
          "ternary": {
           "aaxis": {
            "gridcolor": "white",
            "linecolor": "white",
            "ticks": ""
           },
           "baxis": {
            "gridcolor": "white",
            "linecolor": "white",
            "ticks": ""
           },
           "bgcolor": "#E5ECF6",
           "caxis": {
            "gridcolor": "white",
            "linecolor": "white",
            "ticks": ""
           }
          },
          "title": {
           "x": 0.05
          },
          "xaxis": {
           "automargin": true,
           "gridcolor": "white",
           "linecolor": "white",
           "ticks": "",
           "title": {
            "standoff": 15
           },
           "zerolinecolor": "white",
           "zerolinewidth": 2
          },
          "yaxis": {
           "automargin": true,
           "gridcolor": "white",
           "linecolor": "white",
           "ticks": "",
           "title": {
            "standoff": 15
           },
           "zerolinecolor": "white",
           "zerolinewidth": 2
          }
         }
        },
        "title": {
         "text": "Performance of Different Models Using 5-Fold Cross-Validation"
        },
        "xaxis": {
         "title": {
          "text": "Model"
         }
        },
        "yaxis": {
         "title": {
          "text": "Accuracy"
         }
        }
       }
      }
     },
     "metadata": {},
     "output_type": "display_data"
    }
   ],
   "source": [
    "#Grafico performance\n",
    "plot_results(model_scores, name='stacking_model_cv')"
   ]
  },
  {
   "cell_type": "markdown",
   "metadata": {},
   "source": [
    "Tras multiples pruebas de modelos, concluimos que estos tres (Random Forest, Decision Tree y KNN) son los mejores modelos para elegir. Fueron los que mejores métricas nos dieron."
   ]
  },
  {
   "cell_type": "code",
   "execution_count": null,
   "metadata": {},
   "outputs": [
    {
     "name": "stderr",
     "output_type": "stream",
     "text": [
      "[Parallel(n_jobs=1)]: Using backend SequentialBackend with 1 concurrent workers.\n",
      "[Parallel(n_jobs=1)]: Done   1 out of   1 | elapsed:    5.2s remaining:    0.0s\n",
      "[Parallel(n_jobs=1)]: Done   5 out of   5 | elapsed:   25.5s finished\n",
      "[Parallel(n_jobs=1)]: Using backend SequentialBackend with 1 concurrent workers.\n",
      "[Parallel(n_jobs=1)]: Done   1 out of   1 | elapsed:    0.4s remaining:    0.0s\n",
      "[Parallel(n_jobs=1)]: Done   5 out of   5 | elapsed:    2.5s finished\n",
      "[Parallel(n_jobs=1)]: Using backend SequentialBackend with 1 concurrent workers.\n",
      "[Parallel(n_jobs=1)]: Done   1 out of   1 | elapsed:   15.1s remaining:    0.0s\n",
      "[Parallel(n_jobs=1)]: Done   5 out of   5 | elapsed:  1.3min finished\n"
     ]
    },
    {
     "name": "stdout",
     "output_type": "stream",
     "text": [
      "Accuracy Score: 0.7502153316106804\n",
      "F1-score: 0.7490939091565331\n",
      "Precision Score:  0.7535181655904228\n",
      "Recall Score: 0.7502153316106804\n"
     ]
    }
   ],
   "source": [
    "#Evaluo en conjunto de test\n",
    "#stacking_model.fit(x_train,y_train).score(x_test,y_test)\n",
    "stacking_model.fit(x_train,y_train)\n",
    "y_pred_st = stacking_model.predict(x_test)\n",
    "\n",
    "\n",
    "print('Accuracy Score: {}'.format(accuracy_score(y_test, y_pred_st)))\n",
    "print('F1-score: {}'.format(f1_score(y_test, y_pred_st,average=\"weighted\")))\n",
    "print(\"Precision Score: \",precision_score(y_test,y_pred_st,pos_label='positive',average=\"weighted\"))\n",
    "print(\"Recall Score:\" , recall_score(y_test, y_pred_st, pos_label='positive',average=\"weighted\"))"
   ]
  },
  {
   "cell_type": "code",
   "execution_count": null,
   "metadata": {},
   "outputs": [
    {
     "data": {
      "text/plain": [
       "['./Models/y_pred_st']"
      ]
     },
     "execution_count": 31,
     "metadata": {},
     "output_type": "execute_result"
    }
   ],
   "source": [
    "import joblib\n",
    "joblib.dump(base_models, './Models/base_models')\n",
    "joblib.dump(model_scores, './Models/model_scores')\n",
    "joblib.dump(meta_model, './Models/meta_model')\n",
    "joblib.dump(stacking_model, './Models/stacking_model')\n",
    "joblib.dump(stacking_scores, './Models/stacking_scores')\n",
    "joblib.dump(y_pred_st, './Models/y_pred_st')"
   ]
  },
  {
   "cell_type": "markdown",
   "metadata": {},
   "source": [
    "A modo de conclusion, podemos decir que, como era de esperarse, las metricas de Stacking fueron superiores a las de Voting."
   ]
  },
  {
   "cell_type": "markdown",
   "metadata": {},
   "source": []
  }
 ],
 "metadata": {
  "kernelspec": {
   "display_name": "Python 3.9.12 ('base')",
   "language": "python",
   "name": "python3"
  },
  "language_info": {
   "codemirror_mode": {
    "name": "ipython",
    "version": 3
   },
   "file_extension": ".py",
   "mimetype": "text/x-python",
   "name": "python",
   "nbconvert_exporter": "python",
   "pygments_lexer": "ipython3",
   "version": "3.9.12"
  },
  "orig_nbformat": 4,
  "vscode": {
   "interpreter": {
    "hash": "4b4bfd882b72278d2fc01f7f7f865a6b413108d571dd02a132c40c7c94589e02"
   }
  }
 },
 "nbformat": 4,
 "nbformat_minor": 2
}
